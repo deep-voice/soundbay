{
 "cells": [
  {
   "cell_type": "code",
   "execution_count": 2,
   "id": "51c89415",
   "metadata": {},
   "outputs": [],
   "source": [
    "import numpy as np\n",
    "import pandas as pd\n",
    "import os\n",
    "from sklearn.model_selection import train_test_split\n",
    "\n",
    "pd.options.display.max_rows = 1000\n",
    "pd.options.display.max_columns = 1000\n",
    "pd.options.display.max_colwidth = None\n",
    "\n",
    "from IPython.core.interactiveshell import InteractiveShell\n",
    "\n",
    "InteractiveShell.ast_node_interactivity = \"all\""
   ]
  },
  {
   "cell_type": "code",
   "execution_count": 3,
   "id": "138722af",
   "metadata": {},
   "outputs": [],
   "source": [
    "from soundbay.utils.metadata_processing import load_n_adapt_raven_annotation_table_to_dv_dataset_requirements"
   ]
  },
  {
   "cell_type": "code",
   "execution_count": 4,
   "id": "af12bdaa",
   "metadata": {},
   "outputs": [
    {
     "data": {
      "text/plain": [
       "'/home/rafael/DeepVoice/soundbay/notebooks'"
      ]
     },
     "execution_count": 4,
     "metadata": {},
     "output_type": "execute_result"
    }
   ],
   "source": [
    "pwd"
   ]
  },
  {
   "cell_type": "markdown",
   "id": "f330a23f",
   "metadata": {},
   "source": [
    "# params"
   ]
  },
  {
   "cell_type": "code",
   "execution_count": 5,
   "id": "a32faa34",
   "metadata": {},
   "outputs": [],
   "source": [
    "annotations_dir = '../datasets/mozambique_2021/annotation_files/'\n",
    "cols2drop = ['View', 'Channel', 'Low Freq (Hz)', 'High Freq (Hz)', 'Delta Time (s)', 'Delta Freq (Hz)',\n",
    "             'Avg Power Density (dB FS/Hz)']"
   ]
  },
  {
   "cell_type": "markdown",
   "id": "07b7947f",
   "metadata": {},
   "source": [
    "# load annotations"
   ]
  },
  {
   "cell_type": "code",
   "execution_count": 6,
   "id": "cbad8d82",
   "metadata": {},
   "outputs": [],
   "source": [
    "filenames = os.listdir(annotations_dir)"
   ]
  },
  {
   "cell_type": "code",
   "execution_count": 9,
   "id": "a8880e24",
   "metadata": {},
   "outputs": [],
   "source": [
    "annotation_filename_dict = {'210825-135601_Tr1.Table.1.selections.txt' : '210825-135601_Tr1',\n",
    "               '210825-135601_Tr1.Table.1.selections (1).txt': 'duplicate',\n",
    "               '210904-111316_Tr2.txt': '210904-111316_Tr2', \n",
    "               '210904-111316_Tr2restofrecord.txt': 'corrupt',\n",
    "               '210904-111316_Tr2(first 4 minutes)(1).txt': 'duplicate', \n",
    "               '210904-111316_Tr2(first 4 minutes).txt': 'duplicate',\n",
    "               '210827-133618_Tr2.Table.1.selections.txt': '210827-133618_Tr2',\n",
    "               '210904-093942_Tr2.Table.1.selections.txt': '210904-093942_Tr2',\n",
    "               '210828-080644_Tr1.Table.1.selections.txt': '210828-080644_Tr1',\n",
    "               '210827-081513_Tr1.Table.1.selections.txt': '210827-081513_Tr1',\n",
    "               '210825-132034_Tr1.Table.1.selections.txt': '210825-132034_Tr1',\n",
    "               '210824-104507_Tr1.Table.1.selections.txt': '210824-104507_Tr1',\n",
    "               '210824-104507_Tr1.txt': '210824-104507_Tr1',\n",
    "               '210825-112937_Tr1.txt' : '210825-112937_Tr1',\n",
    "               '210904-074321_Tr1.Table.1.selections.txt': '210904-074321_Tr1',\n",
    "               '25-115438_Tr2.Table.1.selections.txt': 'unknown',\n",
    "               '210903-110841_Tr2.Table.1.selections.txt': '210903-110841_Tr2',\n",
    "               '210825-102141_Tr1.txt': '210825-102141_Tr1',\n",
    "               '210903-095104_Tr2.Table.1.selections.txt': '210903-095104_Tr2',\n",
    "               '210903-095104_Tr1.Table.1.selections.txt': '210903-095104_Tr1',\n",
    "               '210825-135601_Tr1.txt': '210825-135601_Tr1',\n",
    "               '210824-125439_Tr1.txt': '210824-125439_Tr1',\n",
    "               '180913_081527 (1).Table.1.selections.txt': 'unknown',\n",
    "               '210824-115331_Tr1.txt': '210824-115331_Tr1',\n",
    "               '210825-112937_Tr2.txt': '210825-112937_Tr2',\n",
    "               '210825-132034_Tr2.Table.1.selections.txt': '210825-132034_Tr2',\n",
    "               '210827-133618_Tr1.Table.1.selections.donetxt.txt': '210827-133618_Tr1',\n",
    "               '210826-083608_Tr1.Table.1.selections.txt': '210826-083608_Tr1',\n",
    "               '210827-081513_Tr2.Table.1.selections.txt': '210827-081513_Tr2',\n",
    "               '210824-100209_Tr1.txt': '210824-100209_Tr1',\n",
    "               '210824-095226_Tr2.txt': '210824-095226_Tr2',\n",
    "               '210827-090209_Tr1.Table.1.selections.txt': '210827-090209_Tr2',\n",
    "               '210903-110841_Tr1.Table.1.selections.txt': '210903-110841_Tr1',\n",
    "               '210824-100209_Tr2.txt': '210824-100209_Tr2',\n",
    "               '210824-095226_Tr1.txt' : '210824-095226_Tr1',\n",
    "               '210904-093942_Tr1.Table.1.selections- Annotated.txt': '210904-093942_Tr1',\n",
    "               '210903-095104_Tr1.Table.1.selections.txt': '210903-095104_Tr1'\n",
    "                           }\n"
   ]
  },
  {
   "cell_type": "code",
   "execution_count": 12,
   "id": "b9a19275",
   "metadata": {},
   "outputs": [
    {
     "data": {
      "text/plain": [
       "36"
      ]
     },
     "execution_count": 12,
     "metadata": {},
     "output_type": "execute_result"
    }
   ],
   "source": [
    "len(annotation_filename_dict)"
   ]
  },
  {
   "cell_type": "code",
   "execution_count": 11,
   "id": "a174d580",
   "metadata": {
    "scrolled": true
   },
   "outputs": [
    {
     "name": "stdout",
     "output_type": "stream",
     "text": [
      "FILENAMES:\n",
      "210824-095226_Tr1.txt\n",
      "210824-095226_Tr2.txt\n",
      "210824-100209_Tr1.txt\n",
      "210824-100209_Tr2.txt\n",
      "210824-104507_Tr1.Table.1.selections.txt\n",
      "210824-104507_Tr1.txt\n",
      "210824-115331_Tr1.txt\n",
      "210824-125439_Tr1.txt\n",
      "210825-102141_Tr1.txt\n",
      "210825-112937_Tr1.txt\n",
      "210825-112937_Tr2.txt\n",
      "210825-132034_Tr1.Table.1.selections.txt\n",
      "210825-132034_Tr2.Table.1.selections.txt\n",
      "210825-135601_Tr1.Table.1.selections.txt\n",
      "210825-135601_Tr1.txt\n",
      "210826-083608_Tr1.Table.1.selections.txt\n",
      "210827-081513_Tr1.Table.1.selections.txt\n",
      "210827-081513_Tr2.Table.1.selections.txt\n",
      "210827-090209_Tr1.Table.1.selections.txt\n",
      "210827-133618_Tr1.Table.1.selections.txt\n",
      "210827-133618_Tr2.Table.1.selections.txt\n",
      "210828-080644_Tr1.Table.1.selections.txt\n",
      "210903-095104_Tr1.Table.1.selections.txt\n",
      "210903-095104_Tr2.Table.1.selections.txt\n",
      "210903-110841_Tr1.Table.1.selections.txt\n",
      "210903-110841_Tr2.Table.1.selections.txt\n",
      "210904-074321_Tr1.Table.1.selections.txt\n",
      "210904-093942_Tr2.Table.1.selections.txt\n",
      "210904-111316_Tr2.txt\n",
      "25-115438_Tr2.Table.1.selections.txt\n",
      "\n",
      "len(df_list): 28\n",
      "\n",
      "unique filenames:\n",
      "['210824-095226_Tr1' '210824-095226_Tr2' '210824-100209_Tr1'\n",
      " '210824-100209_Tr2' '210824-104507_Tr1' '210824-115331_Tr1'\n",
      " '210824-125439_Tr1' '210825-102141_Tr1' '210825-112937_Tr1'\n",
      " '210825-112937_Tr2' '210825-132034_Tr1' '210825-132034_Tr2'\n",
      " '210825-135601_Tr1' '210826-083608_Tr1' '210827-081513_Tr1'\n",
      " '210827-081513_Tr2' '210827-090209_Tr2' '210827-133618_Tr2'\n",
      " '210828-080644_Tr1' '210903-095104_Tr1' '210903-095104_Tr2'\n",
      " '210903-110841_Tr1' '210903-110841_Tr2' '210904-074321_Tr1'\n",
      " '210904-111316_Tr2' 'unknown']\n"
     ]
    }
   ],
   "source": [
    "df_list = []\n",
    "print('FILENAMES:')\n",
    "for filename in sorted(filenames):\n",
    "    print(filename)\n",
    "    try:\n",
    "        #         print(filename)\n",
    "        annotation_file_path = os.path.join(annotations_dir, filename)\n",
    "        small_df = load_n_adapt_raven_annotation_table_to_dv_dataset_requirements(annotation_file_path, annotation_filename_dict)\n",
    "        df_list.append(small_df)\n",
    "    except UnicodeDecodeError:\n",
    "        continue\n",
    "    except Exception as e:\n",
    "        continue\n",
    "\n",
    "print(f'\\nlen(df_list): {len(df_list)}')\n",
    "df_all_annotations = pd.concat(df_list)\n",
    "df_all_annotations = df_all_annotations.drop(cols2drop, axis=1)\n",
    "# df_all_annotations.head()\n",
    "\n",
    "print(f'\\nunique filenames:\\n{df_all_annotations.filename.unique()}')"
   ]
  },
  {
   "cell_type": "code",
   "execution_count": 13,
   "id": "eab127c9",
   "metadata": {
    "scrolled": false
   },
   "outputs": [
    {
     "data": {
      "text/plain": [
       "(13010, 7)"
      ]
     },
     "execution_count": 13,
     "metadata": {},
     "output_type": "execute_result"
    },
    {
     "data": {
      "text/html": [
       "<div>\n",
       "<style scoped>\n",
       "    .dataframe tbody tr th:only-of-type {\n",
       "        vertical-align: middle;\n",
       "    }\n",
       "\n",
       "    .dataframe tbody tr th {\n",
       "        vertical-align: top;\n",
       "    }\n",
       "\n",
       "    .dataframe thead th {\n",
       "        text-align: right;\n",
       "    }\n",
       "</style>\n",
       "<table border=\"1\" class=\"dataframe\">\n",
       "  <thead>\n",
       "    <tr style=\"text-align: right;\">\n",
       "      <th></th>\n",
       "      <th>Selection</th>\n",
       "      <th>begin_time</th>\n",
       "      <th>end_time</th>\n",
       "      <th>Annotation</th>\n",
       "      <th>filename</th>\n",
       "      <th>call_length</th>\n",
       "      <th>git pullSelection</th>\n",
       "    </tr>\n",
       "  </thead>\n",
       "  <tbody>\n",
       "    <tr>\n",
       "      <th>0</th>\n",
       "      <td>1.0</td>\n",
       "      <td>18.700366</td>\n",
       "      <td>19.764583</td>\n",
       "      <td>NaN</td>\n",
       "      <td>210824-095226_Tr1</td>\n",
       "      <td>1.064218</td>\n",
       "      <td>NaN</td>\n",
       "    </tr>\n",
       "    <tr>\n",
       "      <th>1</th>\n",
       "      <td>2.0</td>\n",
       "      <td>20.169273</td>\n",
       "      <td>20.650971</td>\n",
       "      <td>NaN</td>\n",
       "      <td>210824-095226_Tr1</td>\n",
       "      <td>0.481698</td>\n",
       "      <td>NaN</td>\n",
       "    </tr>\n",
       "    <tr>\n",
       "      <th>2</th>\n",
       "      <td>3.0</td>\n",
       "      <td>29.632165</td>\n",
       "      <td>30.752394</td>\n",
       "      <td>un</td>\n",
       "      <td>210824-095226_Tr1</td>\n",
       "      <td>1.120229</td>\n",
       "      <td>NaN</td>\n",
       "    </tr>\n",
       "    <tr>\n",
       "      <th>3</th>\n",
       "      <td>4.0</td>\n",
       "      <td>40.781279</td>\n",
       "      <td>41.599046</td>\n",
       "      <td>NaN</td>\n",
       "      <td>210824-095226_Tr1</td>\n",
       "      <td>0.817767</td>\n",
       "      <td>NaN</td>\n",
       "    </tr>\n",
       "    <tr>\n",
       "      <th>4</th>\n",
       "      <td>5.0</td>\n",
       "      <td>44.016323</td>\n",
       "      <td>44.733270</td>\n",
       "      <td>NaN</td>\n",
       "      <td>210824-095226_Tr1</td>\n",
       "      <td>0.716947</td>\n",
       "      <td>NaN</td>\n",
       "    </tr>\n",
       "  </tbody>\n",
       "</table>\n",
       "</div>"
      ],
      "text/plain": [
       "   Selection  begin_time   end_time Annotation           filename  \\\n",
       "0        1.0   18.700366  19.764583        NaN  210824-095226_Tr1   \n",
       "1        2.0   20.169273  20.650971        NaN  210824-095226_Tr1   \n",
       "2        3.0   29.632165  30.752394         un  210824-095226_Tr1   \n",
       "3        4.0   40.781279  41.599046        NaN  210824-095226_Tr1   \n",
       "4        5.0   44.016323  44.733270        NaN  210824-095226_Tr1   \n",
       "\n",
       "   call_length  git pullSelection  \n",
       "0     1.064218                NaN  \n",
       "1     0.481698                NaN  \n",
       "2     1.120229                NaN  \n",
       "3     0.817767                NaN  \n",
       "4     0.716947                NaN  "
      ]
     },
     "execution_count": 13,
     "metadata": {},
     "output_type": "execute_result"
    },
    {
     "data": {
      "text/html": [
       "<div>\n",
       "<style scoped>\n",
       "    .dataframe tbody tr th:only-of-type {\n",
       "        vertical-align: middle;\n",
       "    }\n",
       "\n",
       "    .dataframe tbody tr th {\n",
       "        vertical-align: top;\n",
       "    }\n",
       "\n",
       "    .dataframe thead th {\n",
       "        text-align: right;\n",
       "    }\n",
       "</style>\n",
       "<table border=\"1\" class=\"dataframe\">\n",
       "  <thead>\n",
       "    <tr style=\"text-align: right;\">\n",
       "      <th></th>\n",
       "      <th>Selection</th>\n",
       "      <th>begin_time</th>\n",
       "      <th>end_time</th>\n",
       "      <th>Annotation</th>\n",
       "      <th>filename</th>\n",
       "      <th>call_length</th>\n",
       "      <th>git pullSelection</th>\n",
       "    </tr>\n",
       "  </thead>\n",
       "  <tbody>\n",
       "    <tr>\n",
       "      <th>244</th>\n",
       "      <td>249.0</td>\n",
       "      <td>579.833247</td>\n",
       "      <td>580.553433</td>\n",
       "      <td>sc ? un</td>\n",
       "      <td>unknown</td>\n",
       "      <td>0.720186</td>\n",
       "      <td>NaN</td>\n",
       "    </tr>\n",
       "    <tr>\n",
       "      <th>245</th>\n",
       "      <td>250.0</td>\n",
       "      <td>580.662828</td>\n",
       "      <td>581.683851</td>\n",
       "      <td>NaN</td>\n",
       "      <td>unknown</td>\n",
       "      <td>1.021023</td>\n",
       "      <td>NaN</td>\n",
       "    </tr>\n",
       "    <tr>\n",
       "      <th>246</th>\n",
       "      <td>251.0</td>\n",
       "      <td>581.838828</td>\n",
       "      <td>582.759572</td>\n",
       "      <td>NaN</td>\n",
       "      <td>unknown</td>\n",
       "      <td>0.920744</td>\n",
       "      <td>NaN</td>\n",
       "    </tr>\n",
       "    <tr>\n",
       "      <th>247</th>\n",
       "      <td>252.0</td>\n",
       "      <td>583.115107</td>\n",
       "      <td>584.281991</td>\n",
       "      <td>NaN</td>\n",
       "      <td>unknown</td>\n",
       "      <td>1.166884</td>\n",
       "      <td>NaN</td>\n",
       "    </tr>\n",
       "    <tr>\n",
       "      <th>248</th>\n",
       "      <td>253.0</td>\n",
       "      <td>584.327572</td>\n",
       "      <td>585.175386</td>\n",
       "      <td>NaN</td>\n",
       "      <td>unknown</td>\n",
       "      <td>0.847814</td>\n",
       "      <td>NaN</td>\n",
       "    </tr>\n",
       "  </tbody>\n",
       "</table>\n",
       "</div>"
      ],
      "text/plain": [
       "     Selection  begin_time    end_time Annotation filename  call_length  \\\n",
       "244      249.0  579.833247  580.553433    sc ? un  unknown     0.720186   \n",
       "245      250.0  580.662828  581.683851        NaN  unknown     1.021023   \n",
       "246      251.0  581.838828  582.759572        NaN  unknown     0.920744   \n",
       "247      252.0  583.115107  584.281991        NaN  unknown     1.166884   \n",
       "248      253.0  584.327572  585.175386        NaN  unknown     0.847814   \n",
       "\n",
       "     git pullSelection  \n",
       "244                NaN  \n",
       "245                NaN  \n",
       "246                NaN  \n",
       "247                NaN  \n",
       "248                NaN  "
      ]
     },
     "execution_count": 13,
     "metadata": {},
     "output_type": "execute_result"
    }
   ],
   "source": [
    "df_all_annotations.shape\n",
    "df_all_annotations.head()\n",
    "df_all_annotations.tail()"
   ]
  },
  {
   "cell_type": "code",
   "execution_count": 16,
   "id": "fc6cc997",
   "metadata": {},
   "outputs": [],
   "source": [
    "df_all_annotations = df_all_annotations[df_all_annotations.filename != 'unknown']\n",
    "df_all_annotations = df_all_annotations[df_all_annotations.filename != 'duplicate']\n"
   ]
  },
  {
   "cell_type": "code",
   "execution_count": 17,
   "id": "8798cc95",
   "metadata": {},
   "outputs": [
    {
     "data": {
      "text/plain": [
       "(12761, 7)"
      ]
     },
     "execution_count": 17,
     "metadata": {},
     "output_type": "execute_result"
    },
    {
     "data": {
      "text/html": [
       "<div>\n",
       "<style scoped>\n",
       "    .dataframe tbody tr th:only-of-type {\n",
       "        vertical-align: middle;\n",
       "    }\n",
       "\n",
       "    .dataframe tbody tr th {\n",
       "        vertical-align: top;\n",
       "    }\n",
       "\n",
       "    .dataframe thead th {\n",
       "        text-align: right;\n",
       "    }\n",
       "</style>\n",
       "<table border=\"1\" class=\"dataframe\">\n",
       "  <thead>\n",
       "    <tr style=\"text-align: right;\">\n",
       "      <th></th>\n",
       "      <th>Selection</th>\n",
       "      <th>begin_time</th>\n",
       "      <th>end_time</th>\n",
       "      <th>Annotation</th>\n",
       "      <th>filename</th>\n",
       "      <th>call_length</th>\n",
       "      <th>git pullSelection</th>\n",
       "    </tr>\n",
       "  </thead>\n",
       "  <tbody>\n",
       "    <tr>\n",
       "      <th>0</th>\n",
       "      <td>1.0</td>\n",
       "      <td>18.700366</td>\n",
       "      <td>19.764583</td>\n",
       "      <td>NaN</td>\n",
       "      <td>210824-095226_Tr1</td>\n",
       "      <td>1.064218</td>\n",
       "      <td>NaN</td>\n",
       "    </tr>\n",
       "    <tr>\n",
       "      <th>1</th>\n",
       "      <td>2.0</td>\n",
       "      <td>20.169273</td>\n",
       "      <td>20.650971</td>\n",
       "      <td>NaN</td>\n",
       "      <td>210824-095226_Tr1</td>\n",
       "      <td>0.481698</td>\n",
       "      <td>NaN</td>\n",
       "    </tr>\n",
       "    <tr>\n",
       "      <th>2</th>\n",
       "      <td>3.0</td>\n",
       "      <td>29.632165</td>\n",
       "      <td>30.752394</td>\n",
       "      <td>un</td>\n",
       "      <td>210824-095226_Tr1</td>\n",
       "      <td>1.120229</td>\n",
       "      <td>NaN</td>\n",
       "    </tr>\n",
       "    <tr>\n",
       "      <th>3</th>\n",
       "      <td>4.0</td>\n",
       "      <td>40.781279</td>\n",
       "      <td>41.599046</td>\n",
       "      <td>NaN</td>\n",
       "      <td>210824-095226_Tr1</td>\n",
       "      <td>0.817767</td>\n",
       "      <td>NaN</td>\n",
       "    </tr>\n",
       "    <tr>\n",
       "      <th>4</th>\n",
       "      <td>5.0</td>\n",
       "      <td>44.016323</td>\n",
       "      <td>44.733270</td>\n",
       "      <td>NaN</td>\n",
       "      <td>210824-095226_Tr1</td>\n",
       "      <td>0.716947</td>\n",
       "      <td>NaN</td>\n",
       "    </tr>\n",
       "  </tbody>\n",
       "</table>\n",
       "</div>"
      ],
      "text/plain": [
       "   Selection  begin_time   end_time Annotation           filename  \\\n",
       "0        1.0   18.700366  19.764583        NaN  210824-095226_Tr1   \n",
       "1        2.0   20.169273  20.650971        NaN  210824-095226_Tr1   \n",
       "2        3.0   29.632165  30.752394         un  210824-095226_Tr1   \n",
       "3        4.0   40.781279  41.599046        NaN  210824-095226_Tr1   \n",
       "4        5.0   44.016323  44.733270        NaN  210824-095226_Tr1   \n",
       "\n",
       "   call_length  git pullSelection  \n",
       "0     1.064218                NaN  \n",
       "1     0.481698                NaN  \n",
       "2     1.120229                NaN  \n",
       "3     0.817767                NaN  \n",
       "4     0.716947                NaN  "
      ]
     },
     "execution_count": 17,
     "metadata": {},
     "output_type": "execute_result"
    },
    {
     "data": {
      "text/html": [
       "<div>\n",
       "<style scoped>\n",
       "    .dataframe tbody tr th:only-of-type {\n",
       "        vertical-align: middle;\n",
       "    }\n",
       "\n",
       "    .dataframe tbody tr th {\n",
       "        vertical-align: top;\n",
       "    }\n",
       "\n",
       "    .dataframe thead th {\n",
       "        text-align: right;\n",
       "    }\n",
       "</style>\n",
       "<table border=\"1\" class=\"dataframe\">\n",
       "  <thead>\n",
       "    <tr style=\"text-align: right;\">\n",
       "      <th></th>\n",
       "      <th>Selection</th>\n",
       "      <th>begin_time</th>\n",
       "      <th>end_time</th>\n",
       "      <th>Annotation</th>\n",
       "      <th>filename</th>\n",
       "      <th>call_length</th>\n",
       "      <th>git pullSelection</th>\n",
       "    </tr>\n",
       "  </thead>\n",
       "  <tbody>\n",
       "    <tr>\n",
       "      <th>423</th>\n",
       "      <td>445.0</td>\n",
       "      <td>1117.207228</td>\n",
       "      <td>1118.345822</td>\n",
       "      <td>sc</td>\n",
       "      <td>210904-111316_Tr2</td>\n",
       "      <td>1.138594</td>\n",
       "      <td>NaN</td>\n",
       "    </tr>\n",
       "    <tr>\n",
       "      <th>424</th>\n",
       "      <td>446.0</td>\n",
       "      <td>1118.909808</td>\n",
       "      <td>1120.023828</td>\n",
       "      <td>sc</td>\n",
       "      <td>210904-111316_Tr2</td>\n",
       "      <td>1.114020</td>\n",
       "      <td>NaN</td>\n",
       "    </tr>\n",
       "    <tr>\n",
       "      <th>425</th>\n",
       "      <td>455.0</td>\n",
       "      <td>626.065093</td>\n",
       "      <td>627.235105</td>\n",
       "      <td>NaN</td>\n",
       "      <td>210904-111316_Tr2</td>\n",
       "      <td>1.170012</td>\n",
       "      <td>NaN</td>\n",
       "    </tr>\n",
       "    <tr>\n",
       "      <th>426</th>\n",
       "      <td>456.0</td>\n",
       "      <td>1120.341310</td>\n",
       "      <td>1120.800024</td>\n",
       "      <td>sc</td>\n",
       "      <td>210904-111316_Tr2</td>\n",
       "      <td>0.458714</td>\n",
       "      <td>NaN</td>\n",
       "    </tr>\n",
       "    <tr>\n",
       "      <th>427</th>\n",
       "      <td>456.0</td>\n",
       "      <td>1120.341310</td>\n",
       "      <td>1120.800024</td>\n",
       "      <td>sc</td>\n",
       "      <td>210904-111316_Tr2</td>\n",
       "      <td>0.458714</td>\n",
       "      <td>NaN</td>\n",
       "    </tr>\n",
       "  </tbody>\n",
       "</table>\n",
       "</div>"
      ],
      "text/plain": [
       "     Selection   begin_time     end_time Annotation           filename  \\\n",
       "423      445.0  1117.207228  1118.345822         sc  210904-111316_Tr2   \n",
       "424      446.0  1118.909808  1120.023828         sc  210904-111316_Tr2   \n",
       "425      455.0   626.065093   627.235105        NaN  210904-111316_Tr2   \n",
       "426      456.0  1120.341310  1120.800024         sc  210904-111316_Tr2   \n",
       "427      456.0  1120.341310  1120.800024         sc  210904-111316_Tr2   \n",
       "\n",
       "     call_length  git pullSelection  \n",
       "423     1.138594                NaN  \n",
       "424     1.114020                NaN  \n",
       "425     1.170012                NaN  \n",
       "426     0.458714                NaN  \n",
       "427     0.458714                NaN  "
      ]
     },
     "execution_count": 17,
     "metadata": {},
     "output_type": "execute_result"
    }
   ],
   "source": [
    "df_all_annotations.shape\n",
    "df_all_annotations.head()\n",
    "df_all_annotations.tail()"
   ]
  },
  {
   "cell_type": "markdown",
   "id": "381668bc",
   "metadata": {},
   "source": [
    "# Fix labels"
   ]
  },
  {
   "cell_type": "markdown",
   "id": "16184823",
   "metadata": {},
   "source": [
    "## explore"
   ]
  },
  {
   "cell_type": "code",
   "execution_count": 18,
   "id": "a690c29f",
   "metadata": {},
   "outputs": [
    {
     "data": {
      "text/plain": [
       "array([nan, 'un', 'd', 's', 'ד', 'sc', 'd?', 'sc ?', 'SC', '?',\n",
       "       'few calls in this annotation', 'un ', 'un !!! What ?', 'un ?',\n",
       "       'w & un', 'sc?', 'baby whale?', 'un- weird whale sound probably',\n",
       "       'un d/w', 'Dolphins?'], dtype=object)"
      ]
     },
     "execution_count": 18,
     "metadata": {},
     "output_type": "execute_result"
    }
   ],
   "source": [
    "df_all_annotations.Annotation.unique()"
   ]
  },
  {
   "cell_type": "code",
   "execution_count": 19,
   "id": "5c8aeb3c",
   "metadata": {},
   "outputs": [
    {
     "data": {
      "text/plain": [
       "NaN                               11660\n",
       "un                                  366\n",
       "sc                                  330\n",
       "d                                   320\n",
       "s                                    45\n",
       "?                                    16\n",
       "un d/w                                7\n",
       "d?                                    4\n",
       "SC                                    2\n",
       "w & un                                1\n",
       "un- weird whale sound probably        1\n",
       "baby whale?                           1\n",
       "sc?                                   1\n",
       "few calls in this annotation          1\n",
       "un ?                                  1\n",
       "un !!! What ?                         1\n",
       "un                                    1\n",
       "sc ?                                  1\n",
       "ד                                     1\n",
       "Dolphins?                             1\n",
       "Name: Annotation, dtype: int64"
      ]
     },
     "execution_count": 19,
     "metadata": {},
     "output_type": "execute_result"
    }
   ],
   "source": [
    "df_all_annotations.Annotation.value_counts(dropna=False)"
   ]
  },
  {
   "cell_type": "markdown",
   "id": "a2cf5412",
   "metadata": {},
   "source": [
    "For labels that appear only once - find location"
   ]
  },
  {
   "cell_type": "code",
   "execution_count": 20,
   "id": "5992e965",
   "metadata": {},
   "outputs": [],
   "source": [
    "all_unique_labels = df_all_annotations.Annotation.value_counts()[\n",
    "    df_all_annotations.Annotation.value_counts() == 1].index.values"
   ]
  },
  {
   "cell_type": "code",
   "execution_count": 21,
   "id": "92042854",
   "metadata": {},
   "outputs": [
    {
     "data": {
      "text/plain": [
       "array(['w & un', 'un- weird whale sound probably', 'baby whale?', 'sc?',\n",
       "       'few calls in this annotation', 'un ?', 'un !!! What ?', 'un ',\n",
       "       'sc ?', 'ד', 'Dolphins?'], dtype=object)"
      ]
     },
     "execution_count": 21,
     "metadata": {},
     "output_type": "execute_result"
    }
   ],
   "source": [
    "all_unique_labels"
   ]
  },
  {
   "cell_type": "code",
   "execution_count": 22,
   "id": "f508fe75",
   "metadata": {},
   "outputs": [],
   "source": [
    "df_unique_labels = df_all_annotations[df_all_annotations.Annotation.isin(all_unique_labels)].copy()"
   ]
  },
  {
   "cell_type": "code",
   "execution_count": 23,
   "id": "b65e96a1",
   "metadata": {},
   "outputs": [
    {
     "data": {
      "text/plain": [
       "Index(['Selection', 'begin_time', 'end_time', 'Annotation', 'filename',\n",
       "       'call_length', 'git pullSelection'],\n",
       "      dtype='object')"
      ]
     },
     "execution_count": 23,
     "metadata": {},
     "output_type": "execute_result"
    }
   ],
   "source": [
    "df_unique_labels.columns"
   ]
  },
  {
   "cell_type": "code",
   "execution_count": 24,
   "id": "1112855e",
   "metadata": {},
   "outputs": [],
   "source": [
    "cols2keep = ['Selection', 'begin_time', 'end_time', 'Annotation', 'filename', 'call_length']"
   ]
  },
  {
   "cell_type": "code",
   "execution_count": 25,
   "id": "9dc0d6fe",
   "metadata": {},
   "outputs": [],
   "source": [
    "df_unique_labels = df_unique_labels[cols2keep]"
   ]
  },
  {
   "cell_type": "code",
   "execution_count": 26,
   "id": "f05b64fd",
   "metadata": {},
   "outputs": [],
   "source": [
    "df_unique_labels.to_csv('unique_labels_info.csv', index=False)"
   ]
  },
  {
   "cell_type": "markdown",
   "id": "a3f5177c",
   "metadata": {},
   "source": [
    "## standardize whale call tags"
   ]
  },
  {
   "cell_type": "code",
   "execution_count": 27,
   "id": "a6ec14b7",
   "metadata": {},
   "outputs": [
    {
     "data": {
      "text/plain": [
       "array([nan, 'un', 'd', 's', 'ד', 'sc', 'd?', 'sc ?', 'SC', '?',\n",
       "       'few calls in this annotation', 'un ', 'un !!! What ?', 'un ?',\n",
       "       'w & un', 'sc?', 'baby whale?', 'un- weird whale sound probably',\n",
       "       'un d/w', 'Dolphins?'], dtype=object)"
      ]
     },
     "execution_count": 27,
     "metadata": {},
     "output_type": "execute_result"
    }
   ],
   "source": [
    "df_all_annotations.Annotation.unique()"
   ]
  },
  {
   "cell_type": "code",
   "execution_count": 28,
   "id": "ab6981f8",
   "metadata": {},
   "outputs": [],
   "source": [
    "def change_annotations(df_of_annotations: pd.DataFrame, annotations_to_change: list, target_value: str) -> None:\n",
    "    \"\"\"change specified annotations to target value. do this inplace.\"\"\"\n",
    "    df_of_annotations.replace(to_replace=annotations_to_change, value=target_value, inplace=True, limit=None,\n",
    "                              regex=False)\n",
    "    return"
   ]
  },
  {
   "cell_type": "code",
   "execution_count": 29,
   "id": "3f753e58",
   "metadata": {},
   "outputs": [],
   "source": [
    "whale_tags_to_change = ['sc', 'SC', 'sc ?', 'un- weird whale sound probably', 'cs ?', 'baby whale?', 'song (s)', 's',\n",
    "                        'sc?']\n",
    "target_value = 'w'\n",
    "\n",
    "df_clean = df_all_annotations.replace(to_replace=whale_tags_to_change, value=target_value)"
   ]
  },
  {
   "cell_type": "code",
   "execution_count": 30,
   "id": "9f566a43",
   "metadata": {},
   "outputs": [
    {
     "data": {
      "text/html": [
       "<div>\n",
       "<style scoped>\n",
       "    .dataframe tbody tr th:only-of-type {\n",
       "        vertical-align: middle;\n",
       "    }\n",
       "\n",
       "    .dataframe tbody tr th {\n",
       "        vertical-align: top;\n",
       "    }\n",
       "\n",
       "    .dataframe thead th {\n",
       "        text-align: right;\n",
       "    }\n",
       "</style>\n",
       "<table border=\"1\" class=\"dataframe\">\n",
       "  <thead>\n",
       "    <tr style=\"text-align: right;\">\n",
       "      <th></th>\n",
       "      <th>Selection</th>\n",
       "      <th>begin_time</th>\n",
       "      <th>end_time</th>\n",
       "      <th>Annotation</th>\n",
       "      <th>filename</th>\n",
       "      <th>call_length</th>\n",
       "      <th>git pullSelection</th>\n",
       "    </tr>\n",
       "  </thead>\n",
       "  <tbody>\n",
       "    <tr>\n",
       "      <th>0</th>\n",
       "      <td>1.0</td>\n",
       "      <td>18.700366</td>\n",
       "      <td>19.764583</td>\n",
       "      <td>NaN</td>\n",
       "      <td>210824-095226_Tr1</td>\n",
       "      <td>1.064218</td>\n",
       "      <td>NaN</td>\n",
       "    </tr>\n",
       "    <tr>\n",
       "      <th>1</th>\n",
       "      <td>2.0</td>\n",
       "      <td>20.169273</td>\n",
       "      <td>20.650971</td>\n",
       "      <td>NaN</td>\n",
       "      <td>210824-095226_Tr1</td>\n",
       "      <td>0.481698</td>\n",
       "      <td>NaN</td>\n",
       "    </tr>\n",
       "    <tr>\n",
       "      <th>2</th>\n",
       "      <td>3.0</td>\n",
       "      <td>29.632165</td>\n",
       "      <td>30.752394</td>\n",
       "      <td>un</td>\n",
       "      <td>210824-095226_Tr1</td>\n",
       "      <td>1.120229</td>\n",
       "      <td>NaN</td>\n",
       "    </tr>\n",
       "    <tr>\n",
       "      <th>3</th>\n",
       "      <td>4.0</td>\n",
       "      <td>40.781279</td>\n",
       "      <td>41.599046</td>\n",
       "      <td>NaN</td>\n",
       "      <td>210824-095226_Tr1</td>\n",
       "      <td>0.817767</td>\n",
       "      <td>NaN</td>\n",
       "    </tr>\n",
       "    <tr>\n",
       "      <th>4</th>\n",
       "      <td>5.0</td>\n",
       "      <td>44.016323</td>\n",
       "      <td>44.733270</td>\n",
       "      <td>NaN</td>\n",
       "      <td>210824-095226_Tr1</td>\n",
       "      <td>0.716947</td>\n",
       "      <td>NaN</td>\n",
       "    </tr>\n",
       "  </tbody>\n",
       "</table>\n",
       "</div>"
      ],
      "text/plain": [
       "   Selection  begin_time   end_time Annotation           filename  \\\n",
       "0        1.0   18.700366  19.764583        NaN  210824-095226_Tr1   \n",
       "1        2.0   20.169273  20.650971        NaN  210824-095226_Tr1   \n",
       "2        3.0   29.632165  30.752394         un  210824-095226_Tr1   \n",
       "3        4.0   40.781279  41.599046        NaN  210824-095226_Tr1   \n",
       "4        5.0   44.016323  44.733270        NaN  210824-095226_Tr1   \n",
       "\n",
       "   call_length  git pullSelection  \n",
       "0     1.064218                NaN  \n",
       "1     0.481698                NaN  \n",
       "2     1.120229                NaN  \n",
       "3     0.817767                NaN  \n",
       "4     0.716947                NaN  "
      ]
     },
     "execution_count": 30,
     "metadata": {},
     "output_type": "execute_result"
    }
   ],
   "source": [
    "df_clean.head()"
   ]
  },
  {
   "cell_type": "code",
   "execution_count": 31,
   "id": "f258beef",
   "metadata": {},
   "outputs": [
    {
     "data": {
      "text/plain": [
       "(12761, 7)"
      ]
     },
     "execution_count": 31,
     "metadata": {},
     "output_type": "execute_result"
    },
    {
     "data": {
      "text/plain": [
       "NaN                             11660\n",
       "w                                 381\n",
       "un                                366\n",
       "d                                 320\n",
       "?                                  16\n",
       "un d/w                              7\n",
       "d?                                  4\n",
       "ד                                   1\n",
       "few calls in this annotation        1\n",
       "un                                  1\n",
       "un !!! What ?                       1\n",
       "un ?                                1\n",
       "w & un                              1\n",
       "Dolphins?                           1\n",
       "Name: Annotation, dtype: int64"
      ]
     },
     "execution_count": 31,
     "metadata": {},
     "output_type": "execute_result"
    }
   ],
   "source": [
    "df_clean.shape\n",
    "df_clean.Annotation.value_counts(dropna=False)"
   ]
  },
  {
   "cell_type": "code",
   "execution_count": 32,
   "id": "a2d5ffa9",
   "metadata": {},
   "outputs": [],
   "source": [
    "df_clean['Annotation'] = df_clean.Annotation.fillna('w')\n"
   ]
  },
  {
   "cell_type": "code",
   "execution_count": 33,
   "id": "c6dcc023",
   "metadata": {},
   "outputs": [
    {
     "data": {
      "text/plain": [
       "(12761, 7)"
      ]
     },
     "execution_count": 33,
     "metadata": {},
     "output_type": "execute_result"
    },
    {
     "data": {
      "text/plain": [
       "w                               12041\n",
       "un                                366\n",
       "d                                 320\n",
       "?                                  16\n",
       "un d/w                              7\n",
       "d?                                  4\n",
       "ד                                   1\n",
       "few calls in this annotation        1\n",
       "un                                  1\n",
       "un !!! What ?                       1\n",
       "un ?                                1\n",
       "w & un                              1\n",
       "Dolphins?                           1\n",
       "Name: Annotation, dtype: int64"
      ]
     },
     "execution_count": 33,
     "metadata": {},
     "output_type": "execute_result"
    }
   ],
   "source": [
    "df_clean.shape\n",
    "df_clean.Annotation.value_counts(dropna=False)"
   ]
  },
  {
   "cell_type": "markdown",
   "id": "4db888b5",
   "metadata": {},
   "source": [
    "## filter out non-whales calls"
   ]
  },
  {
   "cell_type": "code",
   "execution_count": 34,
   "id": "f4b84529",
   "metadata": {},
   "outputs": [],
   "source": [
    "df_clean = df_clean[df_clean.Annotation == 'w']"
   ]
  },
  {
   "cell_type": "code",
   "execution_count": 35,
   "id": "9d9a09ba",
   "metadata": {},
   "outputs": [
    {
     "data": {
      "text/plain": [
       "(12041, 7)"
      ]
     },
     "execution_count": 35,
     "metadata": {},
     "output_type": "execute_result"
    },
    {
     "data": {
      "text/plain": [
       "w    12041\n",
       "Name: Annotation, dtype: int64"
      ]
     },
     "execution_count": 35,
     "metadata": {},
     "output_type": "execute_result"
    }
   ],
   "source": [
    "df_clean.shape\n",
    "df_clean.Annotation.value_counts(dropna=False)"
   ]
  },
  {
   "cell_type": "markdown",
   "id": "4b1c8902",
   "metadata": {},
   "source": [
    "# label background"
   ]
  },
  {
   "cell_type": "markdown",
   "id": "be872c5a",
   "metadata": {},
   "source": [
    "Methodology: all gaps between annotated segments are considered background"
   ]
  },
  {
   "cell_type": "code",
   "execution_count": 36,
   "id": "3215f68a",
   "metadata": {},
   "outputs": [
    {
     "data": {
      "text/plain": [
       "(12041, 7)"
      ]
     },
     "execution_count": 36,
     "metadata": {},
     "output_type": "execute_result"
    },
    {
     "data": {
      "text/plain": [
       "25"
      ]
     },
     "execution_count": 36,
     "metadata": {},
     "output_type": "execute_result"
    },
    {
     "data": {
      "text/html": [
       "<div>\n",
       "<style scoped>\n",
       "    .dataframe tbody tr th:only-of-type {\n",
       "        vertical-align: middle;\n",
       "    }\n",
       "\n",
       "    .dataframe tbody tr th {\n",
       "        vertical-align: top;\n",
       "    }\n",
       "\n",
       "    .dataframe thead th {\n",
       "        text-align: right;\n",
       "    }\n",
       "</style>\n",
       "<table border=\"1\" class=\"dataframe\">\n",
       "  <thead>\n",
       "    <tr style=\"text-align: right;\">\n",
       "      <th></th>\n",
       "      <th>Selection</th>\n",
       "      <th>begin_time</th>\n",
       "      <th>end_time</th>\n",
       "      <th>Annotation</th>\n",
       "      <th>filename</th>\n",
       "      <th>call_length</th>\n",
       "      <th>git pullSelection</th>\n",
       "    </tr>\n",
       "  </thead>\n",
       "  <tbody>\n",
       "    <tr>\n",
       "      <th>0</th>\n",
       "      <td>1.0</td>\n",
       "      <td>18.700366</td>\n",
       "      <td>19.764583</td>\n",
       "      <td>w</td>\n",
       "      <td>210824-095226_Tr1</td>\n",
       "      <td>1.064218</td>\n",
       "      <td>NaN</td>\n",
       "    </tr>\n",
       "    <tr>\n",
       "      <th>1</th>\n",
       "      <td>2.0</td>\n",
       "      <td>20.169273</td>\n",
       "      <td>20.650971</td>\n",
       "      <td>w</td>\n",
       "      <td>210824-095226_Tr1</td>\n",
       "      <td>0.481698</td>\n",
       "      <td>NaN</td>\n",
       "    </tr>\n",
       "    <tr>\n",
       "      <th>3</th>\n",
       "      <td>4.0</td>\n",
       "      <td>40.781279</td>\n",
       "      <td>41.599046</td>\n",
       "      <td>w</td>\n",
       "      <td>210824-095226_Tr1</td>\n",
       "      <td>0.817767</td>\n",
       "      <td>NaN</td>\n",
       "    </tr>\n",
       "    <tr>\n",
       "      <th>4</th>\n",
       "      <td>5.0</td>\n",
       "      <td>44.016323</td>\n",
       "      <td>44.733270</td>\n",
       "      <td>w</td>\n",
       "      <td>210824-095226_Tr1</td>\n",
       "      <td>0.716947</td>\n",
       "      <td>NaN</td>\n",
       "    </tr>\n",
       "    <tr>\n",
       "      <th>14</th>\n",
       "      <td>15.0</td>\n",
       "      <td>64.404870</td>\n",
       "      <td>64.897771</td>\n",
       "      <td>w</td>\n",
       "      <td>210824-095226_Tr1</td>\n",
       "      <td>0.492901</td>\n",
       "      <td>NaN</td>\n",
       "    </tr>\n",
       "  </tbody>\n",
       "</table>\n",
       "</div>"
      ],
      "text/plain": [
       "    Selection  begin_time   end_time Annotation           filename  \\\n",
       "0         1.0   18.700366  19.764583          w  210824-095226_Tr1   \n",
       "1         2.0   20.169273  20.650971          w  210824-095226_Tr1   \n",
       "3         4.0   40.781279  41.599046          w  210824-095226_Tr1   \n",
       "4         5.0   44.016323  44.733270          w  210824-095226_Tr1   \n",
       "14       15.0   64.404870  64.897771          w  210824-095226_Tr1   \n",
       "\n",
       "    call_length  git pullSelection  \n",
       "0      1.064218                NaN  \n",
       "1      0.481698                NaN  \n",
       "3      0.817767                NaN  \n",
       "4      0.716947                NaN  \n",
       "14     0.492901                NaN  "
      ]
     },
     "execution_count": 36,
     "metadata": {},
     "output_type": "execute_result"
    }
   ],
   "source": [
    "df_clean.shape\n",
    "df_clean.filename.nunique()\n",
    "df_clean.head()"
   ]
  },
  {
   "cell_type": "code",
   "execution_count": 37,
   "id": "d48e5d52",
   "metadata": {},
   "outputs": [],
   "source": [
    "df = df_clean\n"
   ]
  },
  {
   "cell_type": "code",
   "execution_count": 38,
   "id": "b92cde62",
   "metadata": {},
   "outputs": [],
   "source": [
    "# for filename in df.filename.unique():\n",
    "#     print(filename)"
   ]
  },
  {
   "cell_type": "markdown",
   "id": "abbdc466",
   "metadata": {},
   "source": [
    "## merge overlapping calls"
   ]
  },
  {
   "cell_type": "code",
   "execution_count": 39,
   "id": "438c9058",
   "metadata": {},
   "outputs": [],
   "source": [
    "\n",
    "def merge_overlapping_calls(df: pd.DataFrame) -> pd.DataFrame:\n",
    "    \"\"\"\n",
    "    Receives an annotation dataframe with (possibly) overlapping calls, and goes through merge-and-drop iterations until\n",
    "    no more overlaps are found.\n",
    "    :param df: Pandas DataFrame with the following columns: ['filename', 'begin_time', 'end_time']\n",
    "    :return: pd.DataFrame\n",
    "    \"\"\"\n",
    "    df = df.sort_values(['filename', 'begin_time']).reset_index(drop=True)\n",
    "    df = reset_overlap_accessory_columns(df)\n",
    "    df = mark_overlapping_rows(df)\n",
    "\n",
    "    while 1 in df.overlap.unique():\n",
    "        df = merge_overlapping_rows(df)\n",
    "        df = reset_overlap_accessory_columns(df)\n",
    "        df = mark_overlapping_rows(df)\n",
    "\n",
    "    df = df.drop(['overlap', 'next_begin_time', 'next_end_time'], axis=1)\n",
    "    return df\n",
    "\n",
    "\n",
    "def merge_overlapping_rows(df) -> pd.DataFrame:\n",
    "    \"\"\"\n",
    "    Merge (and drop) overlapping rows.\n",
    "    \"\"\"\n",
    "    df.loc[df.overlap == 1, 'end_time'] = df[df.overlap == 1]['next_end_time']\n",
    "    df = df.drop_duplicates(subset=['filename', 'end_time'], keep='first')\n",
    "    return df\n",
    "\n",
    "\n",
    "def reset_overlap_accessory_columns(df) -> pd.DataFrame:\n",
    "    df['overlap'] = np.NaN\n",
    "    df['next_begin_time'] = df.groupby('filename').begin_time.shift(-1)\n",
    "    df['next_end_time'] = df.groupby('filename').end_time.shift(-1)\n",
    "    return df\n",
    "\n",
    "\n",
    "def mark_overlapping_rows(df) -> pd.DataFrame:\n",
    "    df.loc[df.next_begin_time < df.end_time, 'overlap'] = 1\n",
    "    return df\n",
    "\n",
    "# def mark_non_overlapping_rows(df) -> pd.DataFrame:\n",
    "#     \"\"\"\n",
    "#     Merely for sanity check.\n",
    "#     \"\"\"\n",
    "#     df.loc[(df.begin_time > df.end_time.shift(1)) & (df.end_time < df.begin_time.shift(-1)), 'overlap'] = 0\n",
    "#     return df\n"
   ]
  },
  {
   "cell_type": "code",
   "execution_count": 40,
   "id": "d0d1589e",
   "metadata": {
    "scrolled": true
   },
   "outputs": [],
   "source": [
    "df_no_overlap = merge_overlapping_calls(df)"
   ]
  },
  {
   "cell_type": "code",
   "execution_count": 41,
   "id": "7c52fc48",
   "metadata": {},
   "outputs": [
    {
     "data": {
      "text/plain": [
       "(8220, 7)"
      ]
     },
     "execution_count": 41,
     "metadata": {},
     "output_type": "execute_result"
    }
   ],
   "source": [
    "df_no_overlap.shape"
   ]
  },
  {
   "cell_type": "code",
   "execution_count": 42,
   "id": "eda91b33",
   "metadata": {},
   "outputs": [
    {
     "data": {
      "text/plain": [
       "(12041, 7)"
      ]
     },
     "execution_count": 42,
     "metadata": {},
     "output_type": "execute_result"
    },
    {
     "data": {
      "text/plain": [
       "(8220, 7)"
      ]
     },
     "execution_count": 42,
     "metadata": {},
     "output_type": "execute_result"
    }
   ],
   "source": [
    "df.shape\n",
    "df_no_overlap.shape"
   ]
  },
  {
   "cell_type": "code",
   "execution_count": 43,
   "id": "cb505049",
   "metadata": {},
   "outputs": [
    {
     "data": {
      "text/html": [
       "<div>\n",
       "<style scoped>\n",
       "    .dataframe tbody tr th:only-of-type {\n",
       "        vertical-align: middle;\n",
       "    }\n",
       "\n",
       "    .dataframe tbody tr th {\n",
       "        vertical-align: top;\n",
       "    }\n",
       "\n",
       "    .dataframe thead th {\n",
       "        text-align: right;\n",
       "    }\n",
       "</style>\n",
       "<table border=\"1\" class=\"dataframe\">\n",
       "  <thead>\n",
       "    <tr style=\"text-align: right;\">\n",
       "      <th></th>\n",
       "      <th>Selection</th>\n",
       "      <th>begin_time</th>\n",
       "      <th>end_time</th>\n",
       "      <th>Annotation</th>\n",
       "      <th>filename</th>\n",
       "      <th>call_length</th>\n",
       "      <th>git pullSelection</th>\n",
       "    </tr>\n",
       "  </thead>\n",
       "  <tbody>\n",
       "    <tr>\n",
       "      <th>0</th>\n",
       "      <td>1.0</td>\n",
       "      <td>18.700366</td>\n",
       "      <td>19.764583</td>\n",
       "      <td>w</td>\n",
       "      <td>210824-095226_Tr1</td>\n",
       "      <td>1.064218</td>\n",
       "      <td>NaN</td>\n",
       "    </tr>\n",
       "    <tr>\n",
       "      <th>1</th>\n",
       "      <td>2.0</td>\n",
       "      <td>20.169273</td>\n",
       "      <td>20.650971</td>\n",
       "      <td>w</td>\n",
       "      <td>210824-095226_Tr1</td>\n",
       "      <td>0.481698</td>\n",
       "      <td>NaN</td>\n",
       "    </tr>\n",
       "    <tr>\n",
       "      <th>3</th>\n",
       "      <td>4.0</td>\n",
       "      <td>40.781279</td>\n",
       "      <td>41.599046</td>\n",
       "      <td>w</td>\n",
       "      <td>210824-095226_Tr1</td>\n",
       "      <td>0.817767</td>\n",
       "      <td>NaN</td>\n",
       "    </tr>\n",
       "    <tr>\n",
       "      <th>4</th>\n",
       "      <td>5.0</td>\n",
       "      <td>44.016323</td>\n",
       "      <td>44.733270</td>\n",
       "      <td>w</td>\n",
       "      <td>210824-095226_Tr1</td>\n",
       "      <td>0.716947</td>\n",
       "      <td>NaN</td>\n",
       "    </tr>\n",
       "    <tr>\n",
       "      <th>14</th>\n",
       "      <td>15.0</td>\n",
       "      <td>64.404870</td>\n",
       "      <td>64.897771</td>\n",
       "      <td>w</td>\n",
       "      <td>210824-095226_Tr1</td>\n",
       "      <td>0.492901</td>\n",
       "      <td>NaN</td>\n",
       "    </tr>\n",
       "  </tbody>\n",
       "</table>\n",
       "</div>"
      ],
      "text/plain": [
       "    Selection  begin_time   end_time Annotation           filename  \\\n",
       "0         1.0   18.700366  19.764583          w  210824-095226_Tr1   \n",
       "1         2.0   20.169273  20.650971          w  210824-095226_Tr1   \n",
       "3         4.0   40.781279  41.599046          w  210824-095226_Tr1   \n",
       "4         5.0   44.016323  44.733270          w  210824-095226_Tr1   \n",
       "14       15.0   64.404870  64.897771          w  210824-095226_Tr1   \n",
       "\n",
       "    call_length  git pullSelection  \n",
       "0      1.064218                NaN  \n",
       "1      0.481698                NaN  \n",
       "3      0.817767                NaN  \n",
       "4      0.716947                NaN  \n",
       "14     0.492901                NaN  "
      ]
     },
     "execution_count": 43,
     "metadata": {},
     "output_type": "execute_result"
    }
   ],
   "source": [
    "df.head()"
   ]
  },
  {
   "cell_type": "code",
   "execution_count": 44,
   "id": "dd171fd4",
   "metadata": {},
   "outputs": [
    {
     "data": {
      "text/html": [
       "<div>\n",
       "<style scoped>\n",
       "    .dataframe tbody tr th:only-of-type {\n",
       "        vertical-align: middle;\n",
       "    }\n",
       "\n",
       "    .dataframe tbody tr th {\n",
       "        vertical-align: top;\n",
       "    }\n",
       "\n",
       "    .dataframe thead th {\n",
       "        text-align: right;\n",
       "    }\n",
       "</style>\n",
       "<table border=\"1\" class=\"dataframe\">\n",
       "  <thead>\n",
       "    <tr style=\"text-align: right;\">\n",
       "      <th></th>\n",
       "      <th>Selection</th>\n",
       "      <th>begin_time</th>\n",
       "      <th>end_time</th>\n",
       "      <th>Annotation</th>\n",
       "      <th>filename</th>\n",
       "      <th>call_length</th>\n",
       "      <th>git pullSelection</th>\n",
       "    </tr>\n",
       "  </thead>\n",
       "  <tbody>\n",
       "    <tr>\n",
       "      <th>0</th>\n",
       "      <td>1.0</td>\n",
       "      <td>18.700366</td>\n",
       "      <td>19.764583</td>\n",
       "      <td>w</td>\n",
       "      <td>210824-095226_Tr1</td>\n",
       "      <td>1.064218</td>\n",
       "      <td>NaN</td>\n",
       "    </tr>\n",
       "    <tr>\n",
       "      <th>1</th>\n",
       "      <td>2.0</td>\n",
       "      <td>20.169273</td>\n",
       "      <td>20.650971</td>\n",
       "      <td>w</td>\n",
       "      <td>210824-095226_Tr1</td>\n",
       "      <td>0.481698</td>\n",
       "      <td>NaN</td>\n",
       "    </tr>\n",
       "    <tr>\n",
       "      <th>2</th>\n",
       "      <td>4.0</td>\n",
       "      <td>40.781279</td>\n",
       "      <td>41.599046</td>\n",
       "      <td>w</td>\n",
       "      <td>210824-095226_Tr1</td>\n",
       "      <td>0.817767</td>\n",
       "      <td>NaN</td>\n",
       "    </tr>\n",
       "    <tr>\n",
       "      <th>3</th>\n",
       "      <td>5.0</td>\n",
       "      <td>44.016323</td>\n",
       "      <td>44.733270</td>\n",
       "      <td>w</td>\n",
       "      <td>210824-095226_Tr1</td>\n",
       "      <td>0.716947</td>\n",
       "      <td>NaN</td>\n",
       "    </tr>\n",
       "    <tr>\n",
       "      <th>4</th>\n",
       "      <td>15.0</td>\n",
       "      <td>64.404870</td>\n",
       "      <td>64.897771</td>\n",
       "      <td>w</td>\n",
       "      <td>210824-095226_Tr1</td>\n",
       "      <td>0.492901</td>\n",
       "      <td>NaN</td>\n",
       "    </tr>\n",
       "    <tr>\n",
       "      <th>5</th>\n",
       "      <td>16.0</td>\n",
       "      <td>72.605060</td>\n",
       "      <td>73.109163</td>\n",
       "      <td>w</td>\n",
       "      <td>210824-095226_Tr1</td>\n",
       "      <td>0.504103</td>\n",
       "      <td>NaN</td>\n",
       "    </tr>\n",
       "    <tr>\n",
       "      <th>6</th>\n",
       "      <td>18.0</td>\n",
       "      <td>74.447204</td>\n",
       "      <td>75.410601</td>\n",
       "      <td>w</td>\n",
       "      <td>210824-095226_Tr1</td>\n",
       "      <td>0.963397</td>\n",
       "      <td>NaN</td>\n",
       "    </tr>\n",
       "    <tr>\n",
       "      <th>7</th>\n",
       "      <td>20.0</td>\n",
       "      <td>76.689479</td>\n",
       "      <td>77.294402</td>\n",
       "      <td>w</td>\n",
       "      <td>210824-095226_Tr1</td>\n",
       "      <td>0.604924</td>\n",
       "      <td>NaN</td>\n",
       "    </tr>\n",
       "    <tr>\n",
       "      <th>8</th>\n",
       "      <td>21.0</td>\n",
       "      <td>77.783556</td>\n",
       "      <td>78.086018</td>\n",
       "      <td>w</td>\n",
       "      <td>210824-095226_Tr1</td>\n",
       "      <td>0.302462</td>\n",
       "      <td>NaN</td>\n",
       "    </tr>\n",
       "    <tr>\n",
       "      <th>9</th>\n",
       "      <td>22.0</td>\n",
       "      <td>78.086018</td>\n",
       "      <td>78.646132</td>\n",
       "      <td>w</td>\n",
       "      <td>210824-095226_Tr1</td>\n",
       "      <td>0.560114</td>\n",
       "      <td>NaN</td>\n",
       "    </tr>\n",
       "    <tr>\n",
       "      <th>10</th>\n",
       "      <td>28.0</td>\n",
       "      <td>86.639123</td>\n",
       "      <td>86.941585</td>\n",
       "      <td>w</td>\n",
       "      <td>210824-095226_Tr1</td>\n",
       "      <td>0.302462</td>\n",
       "      <td>NaN</td>\n",
       "    </tr>\n",
       "    <tr>\n",
       "      <th>11</th>\n",
       "      <td>30.0</td>\n",
       "      <td>121.018727</td>\n",
       "      <td>121.948517</td>\n",
       "      <td>w</td>\n",
       "      <td>210824-095226_Tr1</td>\n",
       "      <td>0.929790</td>\n",
       "      <td>NaN</td>\n",
       "    </tr>\n",
       "    <tr>\n",
       "      <th>12</th>\n",
       "      <td>34.0</td>\n",
       "      <td>193.059164</td>\n",
       "      <td>193.630481</td>\n",
       "      <td>w</td>\n",
       "      <td>210824-095226_Tr1</td>\n",
       "      <td>0.571317</td>\n",
       "      <td>NaN</td>\n",
       "    </tr>\n",
       "    <tr>\n",
       "      <th>13</th>\n",
       "      <td>35.0</td>\n",
       "      <td>197.183875</td>\n",
       "      <td>197.867215</td>\n",
       "      <td>w</td>\n",
       "      <td>210824-095226_Tr1</td>\n",
       "      <td>0.683340</td>\n",
       "      <td>NaN</td>\n",
       "    </tr>\n",
       "    <tr>\n",
       "      <th>14</th>\n",
       "      <td>36.0</td>\n",
       "      <td>201.551799</td>\n",
       "      <td>201.988688</td>\n",
       "      <td>w</td>\n",
       "      <td>210824-095226_Tr1</td>\n",
       "      <td>0.436889</td>\n",
       "      <td>NaN</td>\n",
       "    </tr>\n",
       "    <tr>\n",
       "      <th>15</th>\n",
       "      <td>38.0</td>\n",
       "      <td>208.121794</td>\n",
       "      <td>208.749122</td>\n",
       "      <td>w</td>\n",
       "      <td>210824-095226_Tr1</td>\n",
       "      <td>0.627328</td>\n",
       "      <td>NaN</td>\n",
       "    </tr>\n",
       "    <tr>\n",
       "      <th>16</th>\n",
       "      <td>39.0</td>\n",
       "      <td>213.460409</td>\n",
       "      <td>213.897298</td>\n",
       "      <td>w</td>\n",
       "      <td>210824-095226_Tr1</td>\n",
       "      <td>0.436889</td>\n",
       "      <td>NaN</td>\n",
       "    </tr>\n",
       "    <tr>\n",
       "      <th>17</th>\n",
       "      <td>40.0</td>\n",
       "      <td>225.591555</td>\n",
       "      <td>226.230086</td>\n",
       "      <td>w</td>\n",
       "      <td>210824-095226_Tr1</td>\n",
       "      <td>0.638531</td>\n",
       "      <td>NaN</td>\n",
       "    </tr>\n",
       "    <tr>\n",
       "      <th>18</th>\n",
       "      <td>43.0</td>\n",
       "      <td>246.542605</td>\n",
       "      <td>247.774857</td>\n",
       "      <td>w</td>\n",
       "      <td>210824-095226_Tr1</td>\n",
       "      <td>1.232252</td>\n",
       "      <td>NaN</td>\n",
       "    </tr>\n",
       "    <tr>\n",
       "      <th>19</th>\n",
       "      <td>54.0</td>\n",
       "      <td>258.457514</td>\n",
       "      <td>259.062437</td>\n",
       "      <td>w</td>\n",
       "      <td>210824-095226_Tr1</td>\n",
       "      <td>0.604924</td>\n",
       "      <td>NaN</td>\n",
       "    </tr>\n",
       "  </tbody>\n",
       "</table>\n",
       "</div>"
      ],
      "text/plain": [
       "    Selection  begin_time    end_time Annotation           filename  \\\n",
       "0         1.0   18.700366   19.764583          w  210824-095226_Tr1   \n",
       "1         2.0   20.169273   20.650971          w  210824-095226_Tr1   \n",
       "2         4.0   40.781279   41.599046          w  210824-095226_Tr1   \n",
       "3         5.0   44.016323   44.733270          w  210824-095226_Tr1   \n",
       "4        15.0   64.404870   64.897771          w  210824-095226_Tr1   \n",
       "5        16.0   72.605060   73.109163          w  210824-095226_Tr1   \n",
       "6        18.0   74.447204   75.410601          w  210824-095226_Tr1   \n",
       "7        20.0   76.689479   77.294402          w  210824-095226_Tr1   \n",
       "8        21.0   77.783556   78.086018          w  210824-095226_Tr1   \n",
       "9        22.0   78.086018   78.646132          w  210824-095226_Tr1   \n",
       "10       28.0   86.639123   86.941585          w  210824-095226_Tr1   \n",
       "11       30.0  121.018727  121.948517          w  210824-095226_Tr1   \n",
       "12       34.0  193.059164  193.630481          w  210824-095226_Tr1   \n",
       "13       35.0  197.183875  197.867215          w  210824-095226_Tr1   \n",
       "14       36.0  201.551799  201.988688          w  210824-095226_Tr1   \n",
       "15       38.0  208.121794  208.749122          w  210824-095226_Tr1   \n",
       "16       39.0  213.460409  213.897298          w  210824-095226_Tr1   \n",
       "17       40.0  225.591555  226.230086          w  210824-095226_Tr1   \n",
       "18       43.0  246.542605  247.774857          w  210824-095226_Tr1   \n",
       "19       54.0  258.457514  259.062437          w  210824-095226_Tr1   \n",
       "\n",
       "    call_length  git pullSelection  \n",
       "0      1.064218                NaN  \n",
       "1      0.481698                NaN  \n",
       "2      0.817767                NaN  \n",
       "3      0.716947                NaN  \n",
       "4      0.492901                NaN  \n",
       "5      0.504103                NaN  \n",
       "6      0.963397                NaN  \n",
       "7      0.604924                NaN  \n",
       "8      0.302462                NaN  \n",
       "9      0.560114                NaN  \n",
       "10     0.302462                NaN  \n",
       "11     0.929790                NaN  \n",
       "12     0.571317                NaN  \n",
       "13     0.683340                NaN  \n",
       "14     0.436889                NaN  \n",
       "15     0.627328                NaN  \n",
       "16     0.436889                NaN  \n",
       "17     0.638531                NaN  \n",
       "18     1.232252                NaN  \n",
       "19     0.604924                NaN  "
      ]
     },
     "execution_count": 44,
     "metadata": {},
     "output_type": "execute_result"
    }
   ],
   "source": [
    "df_no_overlap.sort_values(['filename', 'begin_time']).head(20)"
   ]
  },
  {
   "cell_type": "markdown",
   "id": "c3188692",
   "metadata": {},
   "source": [
    "## mark gaps as background"
   ]
  },
  {
   "cell_type": "code",
   "execution_count": 45,
   "id": "048bee4c",
   "metadata": {},
   "outputs": [],
   "source": [
    "df_bg = df_no_overlap[['filename', 'begin_time', 'end_time']].sort_values(['filename', 'begin_time']).reset_index(\n",
    "    drop=True).copy()\n"
   ]
  },
  {
   "cell_type": "code",
   "execution_count": 46,
   "id": "738a250e",
   "metadata": {},
   "outputs": [
    {
     "data": {
      "text/html": [
       "<div>\n",
       "<style scoped>\n",
       "    .dataframe tbody tr th:only-of-type {\n",
       "        vertical-align: middle;\n",
       "    }\n",
       "\n",
       "    .dataframe tbody tr th {\n",
       "        vertical-align: top;\n",
       "    }\n",
       "\n",
       "    .dataframe thead th {\n",
       "        text-align: right;\n",
       "    }\n",
       "</style>\n",
       "<table border=\"1\" class=\"dataframe\">\n",
       "  <thead>\n",
       "    <tr style=\"text-align: right;\">\n",
       "      <th></th>\n",
       "      <th>filename</th>\n",
       "      <th>begin_time</th>\n",
       "      <th>end_time</th>\n",
       "    </tr>\n",
       "  </thead>\n",
       "  <tbody>\n",
       "    <tr>\n",
       "      <th>0</th>\n",
       "      <td>210824-095226_Tr1</td>\n",
       "      <td>18.700366</td>\n",
       "      <td>19.764583</td>\n",
       "    </tr>\n",
       "    <tr>\n",
       "      <th>1</th>\n",
       "      <td>210824-095226_Tr1</td>\n",
       "      <td>20.169273</td>\n",
       "      <td>20.650971</td>\n",
       "    </tr>\n",
       "    <tr>\n",
       "      <th>2</th>\n",
       "      <td>210824-095226_Tr1</td>\n",
       "      <td>40.781279</td>\n",
       "      <td>41.599046</td>\n",
       "    </tr>\n",
       "    <tr>\n",
       "      <th>3</th>\n",
       "      <td>210824-095226_Tr1</td>\n",
       "      <td>44.016323</td>\n",
       "      <td>44.733270</td>\n",
       "    </tr>\n",
       "    <tr>\n",
       "      <th>4</th>\n",
       "      <td>210824-095226_Tr1</td>\n",
       "      <td>64.404870</td>\n",
       "      <td>64.897771</td>\n",
       "    </tr>\n",
       "  </tbody>\n",
       "</table>\n",
       "</div>"
      ],
      "text/plain": [
       "            filename  begin_time   end_time\n",
       "0  210824-095226_Tr1   18.700366  19.764583\n",
       "1  210824-095226_Tr1   20.169273  20.650971\n",
       "2  210824-095226_Tr1   40.781279  41.599046\n",
       "3  210824-095226_Tr1   44.016323  44.733270\n",
       "4  210824-095226_Tr1   64.404870  64.897771"
      ]
     },
     "execution_count": 46,
     "metadata": {},
     "output_type": "execute_result"
    }
   ],
   "source": [
    "df_bg.head()"
   ]
  },
  {
   "cell_type": "code",
   "execution_count": 47,
   "id": "869bc9e1",
   "metadata": {},
   "outputs": [],
   "source": [
    "df_bg['next_begin_time'] = df_bg.groupby('filename').begin_time.shift(-1)\n",
    "# df_bg['next_end_time'] = df_bg.groupby('filename').end_time.shift(-1)"
   ]
  },
  {
   "cell_type": "code",
   "execution_count": 48,
   "id": "a3749fcd",
   "metadata": {},
   "outputs": [],
   "source": [
    "\n",
    "df_bg = df_bg.rename({'end_time': 'bg_begin_time', 'next_begin_time': 'bg_end_time'}, axis=1)"
   ]
  },
  {
   "cell_type": "markdown",
   "id": "7213be0a",
   "metadata": {},
   "source": [
    "Manually look at shifts between different recordings to make sure there aren't mix-ups:"
   ]
  },
  {
   "cell_type": "code",
   "execution_count": 49,
   "id": "b0743847",
   "metadata": {},
   "outputs": [
    {
     "data": {
      "text/plain": [
       "array(['210824-095226_Tr1', '210824-095226_Tr2', '210824-100209_Tr1',\n",
       "       '210824-100209_Tr2', '210824-104507_Tr1', '210824-115331_Tr1',\n",
       "       '210824-125439_Tr1', '210825-102141_Tr1', '210825-112937_Tr1',\n",
       "       '210825-112937_Tr2', '210825-132034_Tr1', '210825-132034_Tr2',\n",
       "       '210825-135601_Tr1', '210826-083608_Tr1', '210827-081513_Tr1',\n",
       "       '210827-081513_Tr2', '210827-090209_Tr2', '210827-133618_Tr2',\n",
       "       '210828-080644_Tr1', '210903-095104_Tr1', '210903-095104_Tr2',\n",
       "       '210903-110841_Tr1', '210903-110841_Tr2', '210904-074321_Tr1',\n",
       "       '210904-111316_Tr2'], dtype=object)"
      ]
     },
     "execution_count": 49,
     "metadata": {},
     "output_type": "execute_result"
    },
    {
     "data": {
      "text/plain": [
       "210824-115331_Tr1    737\n",
       "210904-074321_Tr1    676\n",
       "210824-104507_Tr1    636\n",
       "210826-083608_Tr1    614\n",
       "210824-125439_Tr1    594\n",
       "210827-081513_Tr2    577\n",
       "210825-135601_Tr1    551\n",
       "210828-080644_Tr1    538\n",
       "210825-102141_Tr1    443\n",
       "210827-090209_Tr2    405\n",
       "210827-081513_Tr1    368\n",
       "210904-111316_Tr2    317\n",
       "210825-132034_Tr2    302\n",
       "210825-132034_Tr1    264\n",
       "210903-110841_Tr2    223\n",
       "210825-112937_Tr2    214\n",
       "210825-112937_Tr1    212\n",
       "210903-110841_Tr1    194\n",
       "210824-100209_Tr1     81\n",
       "210824-095226_Tr1     67\n",
       "210827-133618_Tr2     64\n",
       "210824-095226_Tr2     55\n",
       "210824-100209_Tr2     44\n",
       "210903-095104_Tr1     25\n",
       "210903-095104_Tr2     19\n",
       "Name: filename, dtype: int64"
      ]
     },
     "execution_count": 49,
     "metadata": {},
     "output_type": "execute_result"
    }
   ],
   "source": [
    "df_bg.filename.unique()\n",
    "df_bg.filename.value_counts(dropna=False)"
   ]
  },
  {
   "cell_type": "code",
   "execution_count": 50,
   "id": "8bbb79d7",
   "metadata": {},
   "outputs": [
    {
     "data": {
      "text/html": [
       "<div>\n",
       "<style scoped>\n",
       "    .dataframe tbody tr th:only-of-type {\n",
       "        vertical-align: middle;\n",
       "    }\n",
       "\n",
       "    .dataframe tbody tr th {\n",
       "        vertical-align: top;\n",
       "    }\n",
       "\n",
       "    .dataframe thead th {\n",
       "        text-align: right;\n",
       "    }\n",
       "</style>\n",
       "<table border=\"1\" class=\"dataframe\">\n",
       "  <thead>\n",
       "    <tr style=\"text-align: right;\">\n",
       "      <th></th>\n",
       "      <th>filename</th>\n",
       "      <th>begin_time</th>\n",
       "      <th>bg_begin_time</th>\n",
       "      <th>bg_end_time</th>\n",
       "    </tr>\n",
       "  </thead>\n",
       "  <tbody>\n",
       "    <tr>\n",
       "      <th>110</th>\n",
       "      <td>210824-095226_Tr2</td>\n",
       "      <td>409.207281</td>\n",
       "      <td>409.859500</td>\n",
       "      <td>416.672204</td>\n",
       "    </tr>\n",
       "    <tr>\n",
       "      <th>111</th>\n",
       "      <td>210824-095226_Tr2</td>\n",
       "      <td>416.672204</td>\n",
       "      <td>417.152786</td>\n",
       "      <td>419.143771</td>\n",
       "    </tr>\n",
       "    <tr>\n",
       "      <th>112</th>\n",
       "      <td>210824-095226_Tr2</td>\n",
       "      <td>419.143771</td>\n",
       "      <td>419.693008</td>\n",
       "      <td>422.887010</td>\n",
       "    </tr>\n",
       "    <tr>\n",
       "      <th>113</th>\n",
       "      <td>210824-095226_Tr2</td>\n",
       "      <td>422.887010</td>\n",
       "      <td>423.459132</td>\n",
       "      <td>427.954850</td>\n",
       "    </tr>\n",
       "    <tr>\n",
       "      <th>114</th>\n",
       "      <td>210824-095226_Tr2</td>\n",
       "      <td>427.954850</td>\n",
       "      <td>428.332450</td>\n",
       "      <td>431.479121</td>\n",
       "    </tr>\n",
       "    <tr>\n",
       "      <th>115</th>\n",
       "      <td>210824-095226_Tr2</td>\n",
       "      <td>431.479121</td>\n",
       "      <td>431.925376</td>\n",
       "      <td>445.233505</td>\n",
       "    </tr>\n",
       "    <tr>\n",
       "      <th>116</th>\n",
       "      <td>210824-095226_Tr2</td>\n",
       "      <td>445.233505</td>\n",
       "      <td>445.828512</td>\n",
       "      <td>449.569814</td>\n",
       "    </tr>\n",
       "    <tr>\n",
       "      <th>117</th>\n",
       "      <td>210824-095226_Tr2</td>\n",
       "      <td>449.569814</td>\n",
       "      <td>450.050396</td>\n",
       "      <td>454.334522</td>\n",
       "    </tr>\n",
       "    <tr>\n",
       "      <th>118</th>\n",
       "      <td>210824-095226_Tr2</td>\n",
       "      <td>454.334522</td>\n",
       "      <td>454.860874</td>\n",
       "      <td>463.656413</td>\n",
       "    </tr>\n",
       "    <tr>\n",
       "      <th>119</th>\n",
       "      <td>210824-095226_Tr2</td>\n",
       "      <td>463.656413</td>\n",
       "      <td>464.285747</td>\n",
       "      <td>483.425449</td>\n",
       "    </tr>\n",
       "    <tr>\n",
       "      <th>120</th>\n",
       "      <td>210824-095226_Tr2</td>\n",
       "      <td>483.425449</td>\n",
       "      <td>483.791607</td>\n",
       "      <td>521.926316</td>\n",
       "    </tr>\n",
       "    <tr>\n",
       "      <th>121</th>\n",
       "      <td>210824-095226_Tr2</td>\n",
       "      <td>521.926316</td>\n",
       "      <td>522.361128</td>\n",
       "      <td>NaN</td>\n",
       "    </tr>\n",
       "    <tr>\n",
       "      <th>122</th>\n",
       "      <td>210824-100209_Tr1</td>\n",
       "      <td>11.503210</td>\n",
       "      <td>11.895668</td>\n",
       "      <td>24.574255</td>\n",
       "    </tr>\n",
       "    <tr>\n",
       "      <th>123</th>\n",
       "      <td>210824-100209_Tr1</td>\n",
       "      <td>24.574255</td>\n",
       "      <td>25.349600</td>\n",
       "      <td>37.449523</td>\n",
       "    </tr>\n",
       "    <tr>\n",
       "      <th>124</th>\n",
       "      <td>210824-100209_Tr1</td>\n",
       "      <td>37.449523</td>\n",
       "      <td>37.865912</td>\n",
       "      <td>73.456945</td>\n",
       "    </tr>\n",
       "    <tr>\n",
       "      <th>125</th>\n",
       "      <td>210824-100209_Tr1</td>\n",
       "      <td>73.456945</td>\n",
       "      <td>74.007344</td>\n",
       "      <td>76.368323</td>\n",
       "    </tr>\n",
       "    <tr>\n",
       "      <th>126</th>\n",
       "      <td>210824-100209_Tr1</td>\n",
       "      <td>76.368323</td>\n",
       "      <td>77.038375</td>\n",
       "      <td>80.946392</td>\n",
       "    </tr>\n",
       "    <tr>\n",
       "      <th>127</th>\n",
       "      <td>210824-100209_Tr1</td>\n",
       "      <td>80.946392</td>\n",
       "      <td>81.554224</td>\n",
       "      <td>82.640664</td>\n",
       "    </tr>\n",
       "    <tr>\n",
       "      <th>128</th>\n",
       "      <td>210824-100209_Tr1</td>\n",
       "      <td>82.640664</td>\n",
       "      <td>83.979661</td>\n",
       "      <td>86.300664</td>\n",
       "    </tr>\n",
       "    <tr>\n",
       "      <th>129</th>\n",
       "      <td>210824-100209_Tr1</td>\n",
       "      <td>86.300664</td>\n",
       "      <td>86.884566</td>\n",
       "      <td>91.697593</td>\n",
       "    </tr>\n",
       "    <tr>\n",
       "      <th>130</th>\n",
       "      <td>210824-100209_Tr1</td>\n",
       "      <td>91.697593</td>\n",
       "      <td>92.200131</td>\n",
       "      <td>93.653711</td>\n",
       "    </tr>\n",
       "  </tbody>\n",
       "</table>\n",
       "</div>"
      ],
      "text/plain": [
       "              filename  begin_time  bg_begin_time  bg_end_time\n",
       "110  210824-095226_Tr2  409.207281     409.859500   416.672204\n",
       "111  210824-095226_Tr2  416.672204     417.152786   419.143771\n",
       "112  210824-095226_Tr2  419.143771     419.693008   422.887010\n",
       "113  210824-095226_Tr2  422.887010     423.459132   427.954850\n",
       "114  210824-095226_Tr2  427.954850     428.332450   431.479121\n",
       "115  210824-095226_Tr2  431.479121     431.925376   445.233505\n",
       "116  210824-095226_Tr2  445.233505     445.828512   449.569814\n",
       "117  210824-095226_Tr2  449.569814     450.050396   454.334522\n",
       "118  210824-095226_Tr2  454.334522     454.860874   463.656413\n",
       "119  210824-095226_Tr2  463.656413     464.285747   483.425449\n",
       "120  210824-095226_Tr2  483.425449     483.791607   521.926316\n",
       "121  210824-095226_Tr2  521.926316     522.361128          NaN\n",
       "122  210824-100209_Tr1   11.503210      11.895668    24.574255\n",
       "123  210824-100209_Tr1   24.574255      25.349600    37.449523\n",
       "124  210824-100209_Tr1   37.449523      37.865912    73.456945\n",
       "125  210824-100209_Tr1   73.456945      74.007344    76.368323\n",
       "126  210824-100209_Tr1   76.368323      77.038375    80.946392\n",
       "127  210824-100209_Tr1   80.946392      81.554224    82.640664\n",
       "128  210824-100209_Tr1   82.640664      83.979661    86.300664\n",
       "129  210824-100209_Tr1   86.300664      86.884566    91.697593\n",
       "130  210824-100209_Tr1   91.697593      92.200131    93.653711"
      ]
     },
     "execution_count": 50,
     "metadata": {},
     "output_type": "execute_result"
    }
   ],
   "source": [
    "df_bg.loc[110:130]"
   ]
  },
  {
   "cell_type": "code",
   "execution_count": 51,
   "id": "fd7c20df",
   "metadata": {},
   "outputs": [
    {
     "data": {
      "text/html": [
       "<div>\n",
       "<style scoped>\n",
       "    .dataframe tbody tr th:only-of-type {\n",
       "        vertical-align: middle;\n",
       "    }\n",
       "\n",
       "    .dataframe tbody tr th {\n",
       "        vertical-align: top;\n",
       "    }\n",
       "\n",
       "    .dataframe thead th {\n",
       "        text-align: right;\n",
       "    }\n",
       "</style>\n",
       "<table border=\"1\" class=\"dataframe\">\n",
       "  <thead>\n",
       "    <tr style=\"text-align: right;\">\n",
       "      <th></th>\n",
       "      <th>filename</th>\n",
       "      <th>begin_time</th>\n",
       "      <th>bg_begin_time</th>\n",
       "      <th>bg_end_time</th>\n",
       "    </tr>\n",
       "  </thead>\n",
       "  <tbody>\n",
       "    <tr>\n",
       "      <th>8215</th>\n",
       "      <td>210904-111316_Tr2</td>\n",
       "      <td>1115.282497</td>\n",
       "      <td>1115.683872</td>\n",
       "      <td>1116.437244</td>\n",
       "    </tr>\n",
       "    <tr>\n",
       "      <th>8216</th>\n",
       "      <td>210904-111316_Tr2</td>\n",
       "      <td>1116.437244</td>\n",
       "      <td>1116.928723</td>\n",
       "      <td>1117.207228</td>\n",
       "    </tr>\n",
       "    <tr>\n",
       "      <th>8217</th>\n",
       "      <td>210904-111316_Tr2</td>\n",
       "      <td>1117.207228</td>\n",
       "      <td>1118.345822</td>\n",
       "      <td>1118.909808</td>\n",
       "    </tr>\n",
       "    <tr>\n",
       "      <th>8218</th>\n",
       "      <td>210904-111316_Tr2</td>\n",
       "      <td>1118.909808</td>\n",
       "      <td>1120.023828</td>\n",
       "      <td>1120.341310</td>\n",
       "    </tr>\n",
       "    <tr>\n",
       "      <th>8219</th>\n",
       "      <td>210904-111316_Tr2</td>\n",
       "      <td>1120.341310</td>\n",
       "      <td>1120.800024</td>\n",
       "      <td>NaN</td>\n",
       "    </tr>\n",
       "  </tbody>\n",
       "</table>\n",
       "</div>"
      ],
      "text/plain": [
       "               filename   begin_time  bg_begin_time  bg_end_time\n",
       "8215  210904-111316_Tr2  1115.282497    1115.683872  1116.437244\n",
       "8216  210904-111316_Tr2  1116.437244    1116.928723  1117.207228\n",
       "8217  210904-111316_Tr2  1117.207228    1118.345822  1118.909808\n",
       "8218  210904-111316_Tr2  1118.909808    1120.023828  1120.341310\n",
       "8219  210904-111316_Tr2  1120.341310    1120.800024          NaN"
      ]
     },
     "execution_count": 51,
     "metadata": {},
     "output_type": "execute_result"
    }
   ],
   "source": [
    "df_bg.tail()"
   ]
  },
  {
   "cell_type": "code",
   "execution_count": 52,
   "id": "6697660e",
   "metadata": {},
   "outputs": [
    {
     "data": {
      "text/plain": [
       "nan"
      ]
     },
     "execution_count": 52,
     "metadata": {},
     "output_type": "execute_result"
    }
   ],
   "source": [
    "df_bg[df_bg.filename == '25-115438_Tr2'].index.min()"
   ]
  },
  {
   "cell_type": "code",
   "execution_count": 53,
   "id": "af71dcc9",
   "metadata": {},
   "outputs": [
    {
     "data": {
      "text/html": [
       "<div>\n",
       "<style scoped>\n",
       "    .dataframe tbody tr th:only-of-type {\n",
       "        vertical-align: middle;\n",
       "    }\n",
       "\n",
       "    .dataframe tbody tr th {\n",
       "        vertical-align: top;\n",
       "    }\n",
       "\n",
       "    .dataframe thead th {\n",
       "        text-align: right;\n",
       "    }\n",
       "</style>\n",
       "<table border=\"1\" class=\"dataframe\">\n",
       "  <thead>\n",
       "    <tr style=\"text-align: right;\">\n",
       "      <th></th>\n",
       "      <th>filename</th>\n",
       "      <th>begin_time</th>\n",
       "      <th>bg_begin_time</th>\n",
       "      <th>bg_end_time</th>\n",
       "    </tr>\n",
       "  </thead>\n",
       "  <tbody>\n",
       "  </tbody>\n",
       "</table>\n",
       "</div>"
      ],
      "text/plain": [
       "Empty DataFrame\n",
       "Columns: [filename, begin_time, bg_begin_time, bg_end_time]\n",
       "Index: []"
      ]
     },
     "execution_count": 53,
     "metadata": {},
     "output_type": "execute_result"
    }
   ],
   "source": [
    "df_bg.loc[10900:10917]"
   ]
  },
  {
   "cell_type": "markdown",
   "id": "ac993915",
   "metadata": {},
   "source": [
    "## Finalize bg annotation df"
   ]
  },
  {
   "cell_type": "code",
   "execution_count": 54,
   "id": "5ea3eadc",
   "metadata": {},
   "outputs": [
    {
     "data": {
      "text/plain": [
       "25"
      ]
     },
     "execution_count": 54,
     "metadata": {},
     "output_type": "execute_result"
    }
   ],
   "source": [
    "df_bg.filename.nunique()"
   ]
  },
  {
   "cell_type": "code",
   "execution_count": 55,
   "id": "f430da5a",
   "metadata": {},
   "outputs": [
    {
     "data": {
      "text/plain": [
       "(8220, 4)"
      ]
     },
     "execution_count": 55,
     "metadata": {},
     "output_type": "execute_result"
    },
    {
     "data": {
      "text/plain": [
       "(8195, 4)"
      ]
     },
     "execution_count": 55,
     "metadata": {},
     "output_type": "execute_result"
    }
   ],
   "source": [
    "df_bg.shape\n",
    "df_bg = df_bg[~df_bg.bg_end_time.isna()]\n",
    "df_bg.shape"
   ]
  },
  {
   "cell_type": "code",
   "execution_count": 56,
   "id": "a2daa852",
   "metadata": {},
   "outputs": [],
   "source": [
    "df_bg = df_bg.drop('begin_time', axis=1)"
   ]
  },
  {
   "cell_type": "code",
   "execution_count": 57,
   "id": "08cb1f67",
   "metadata": {},
   "outputs": [],
   "source": [
    "df_bg['Annotation'] = 'bg'"
   ]
  },
  {
   "cell_type": "code",
   "execution_count": 58,
   "id": "6636e9d8",
   "metadata": {},
   "outputs": [],
   "source": [
    "df_bg['call_length'] = df_bg['bg_end_time'] - df_bg['bg_begin_time']"
   ]
  },
  {
   "cell_type": "markdown",
   "id": "cffe2e70",
   "metadata": {},
   "source": [
    "# Concat both dfs together"
   ]
  },
  {
   "cell_type": "code",
   "execution_count": 59,
   "id": "6359ebaa",
   "metadata": {},
   "outputs": [
    {
     "data": {
      "text/html": [
       "<div>\n",
       "<style scoped>\n",
       "    .dataframe tbody tr th:only-of-type {\n",
       "        vertical-align: middle;\n",
       "    }\n",
       "\n",
       "    .dataframe tbody tr th {\n",
       "        vertical-align: top;\n",
       "    }\n",
       "\n",
       "    .dataframe thead th {\n",
       "        text-align: right;\n",
       "    }\n",
       "</style>\n",
       "<table border=\"1\" class=\"dataframe\">\n",
       "  <thead>\n",
       "    <tr style=\"text-align: right;\">\n",
       "      <th></th>\n",
       "      <th>filename</th>\n",
       "      <th>begin_time</th>\n",
       "      <th>end_time</th>\n",
       "      <th>Annotation</th>\n",
       "      <th>call_length</th>\n",
       "    </tr>\n",
       "  </thead>\n",
       "  <tbody>\n",
       "    <tr>\n",
       "      <th>0</th>\n",
       "      <td>210824-095226_Tr1</td>\n",
       "      <td>19.764583</td>\n",
       "      <td>20.169273</td>\n",
       "      <td>bg</td>\n",
       "      <td>0.404690</td>\n",
       "    </tr>\n",
       "    <tr>\n",
       "      <th>1</th>\n",
       "      <td>210824-095226_Tr1</td>\n",
       "      <td>20.650971</td>\n",
       "      <td>40.781279</td>\n",
       "      <td>bg</td>\n",
       "      <td>20.130308</td>\n",
       "    </tr>\n",
       "    <tr>\n",
       "      <th>2</th>\n",
       "      <td>210824-095226_Tr1</td>\n",
       "      <td>41.599046</td>\n",
       "      <td>44.016323</td>\n",
       "      <td>bg</td>\n",
       "      <td>2.417277</td>\n",
       "    </tr>\n",
       "    <tr>\n",
       "      <th>3</th>\n",
       "      <td>210824-095226_Tr1</td>\n",
       "      <td>44.733270</td>\n",
       "      <td>64.404870</td>\n",
       "      <td>bg</td>\n",
       "      <td>19.671600</td>\n",
       "    </tr>\n",
       "    <tr>\n",
       "      <th>4</th>\n",
       "      <td>210824-095226_Tr1</td>\n",
       "      <td>64.897771</td>\n",
       "      <td>72.605060</td>\n",
       "      <td>bg</td>\n",
       "      <td>7.707290</td>\n",
       "    </tr>\n",
       "  </tbody>\n",
       "</table>\n",
       "</div>"
      ],
      "text/plain": [
       "            filename  begin_time   end_time Annotation  call_length\n",
       "0  210824-095226_Tr1   19.764583  20.169273         bg     0.404690\n",
       "1  210824-095226_Tr1   20.650971  40.781279         bg    20.130308\n",
       "2  210824-095226_Tr1   41.599046  44.016323         bg     2.417277\n",
       "3  210824-095226_Tr1   44.733270  64.404870         bg    19.671600\n",
       "4  210824-095226_Tr1   64.897771  72.605060         bg     7.707290"
      ]
     },
     "execution_count": 59,
     "metadata": {},
     "output_type": "execute_result"
    }
   ],
   "source": [
    "df_bg = df_bg.rename({'bg_begin_time': 'begin_time', 'bg_end_time': 'end_time'}, axis=1)\n",
    "df_bg.head()"
   ]
  },
  {
   "cell_type": "code",
   "execution_count": 60,
   "id": "2985b92b",
   "metadata": {},
   "outputs": [],
   "source": [
    "df_concat = pd.concat([df_bg, df_no_overlap[['begin_time', 'end_time', 'filename', 'call_length', 'Annotation']]])"
   ]
  },
  {
   "cell_type": "code",
   "execution_count": 61,
   "id": "323a4bfc",
   "metadata": {},
   "outputs": [],
   "source": [
    "df_concat = df_concat.rename({'Annotation': 'label'}, axis=1)"
   ]
  },
  {
   "cell_type": "code",
   "execution_count": 62,
   "id": "db9401b7",
   "metadata": {},
   "outputs": [
    {
     "data": {
      "text/html": [
       "<div>\n",
       "<style scoped>\n",
       "    .dataframe tbody tr th:only-of-type {\n",
       "        vertical-align: middle;\n",
       "    }\n",
       "\n",
       "    .dataframe tbody tr th {\n",
       "        vertical-align: top;\n",
       "    }\n",
       "\n",
       "    .dataframe thead th {\n",
       "        text-align: right;\n",
       "    }\n",
       "</style>\n",
       "<table border=\"1\" class=\"dataframe\">\n",
       "  <thead>\n",
       "    <tr style=\"text-align: right;\">\n",
       "      <th></th>\n",
       "      <th>filename</th>\n",
       "      <th>begin_time</th>\n",
       "      <th>end_time</th>\n",
       "      <th>label</th>\n",
       "      <th>call_length</th>\n",
       "    </tr>\n",
       "  </thead>\n",
       "  <tbody>\n",
       "    <tr>\n",
       "      <th>0</th>\n",
       "      <td>210824-095226_Tr1</td>\n",
       "      <td>19.764583</td>\n",
       "      <td>20.169273</td>\n",
       "      <td>bg</td>\n",
       "      <td>0.404690</td>\n",
       "    </tr>\n",
       "    <tr>\n",
       "      <th>1</th>\n",
       "      <td>210824-095226_Tr1</td>\n",
       "      <td>20.650971</td>\n",
       "      <td>40.781279</td>\n",
       "      <td>bg</td>\n",
       "      <td>20.130308</td>\n",
       "    </tr>\n",
       "    <tr>\n",
       "      <th>2</th>\n",
       "      <td>210824-095226_Tr1</td>\n",
       "      <td>41.599046</td>\n",
       "      <td>44.016323</td>\n",
       "      <td>bg</td>\n",
       "      <td>2.417277</td>\n",
       "    </tr>\n",
       "    <tr>\n",
       "      <th>3</th>\n",
       "      <td>210824-095226_Tr1</td>\n",
       "      <td>44.733270</td>\n",
       "      <td>64.404870</td>\n",
       "      <td>bg</td>\n",
       "      <td>19.671600</td>\n",
       "    </tr>\n",
       "    <tr>\n",
       "      <th>4</th>\n",
       "      <td>210824-095226_Tr1</td>\n",
       "      <td>64.897771</td>\n",
       "      <td>72.605060</td>\n",
       "      <td>bg</td>\n",
       "      <td>7.707290</td>\n",
       "    </tr>\n",
       "  </tbody>\n",
       "</table>\n",
       "</div>"
      ],
      "text/plain": [
       "            filename  begin_time   end_time label  call_length\n",
       "0  210824-095226_Tr1   19.764583  20.169273    bg     0.404690\n",
       "1  210824-095226_Tr1   20.650971  40.781279    bg    20.130308\n",
       "2  210824-095226_Tr1   41.599046  44.016323    bg     2.417277\n",
       "3  210824-095226_Tr1   44.733270  64.404870    bg    19.671600\n",
       "4  210824-095226_Tr1   64.897771  72.605060    bg     7.707290"
      ]
     },
     "execution_count": 62,
     "metadata": {},
     "output_type": "execute_result"
    }
   ],
   "source": [
    "df_concat.head()"
   ]
  },
  {
   "cell_type": "markdown",
   "id": "65f6b519",
   "metadata": {},
   "source": [
    "## Sanity"
   ]
  },
  {
   "cell_type": "markdown",
   "id": "19efd00b",
   "metadata": {},
   "source": [
    "Sanity: do we have the same number of 'w' annotations as 'bg' ones?"
   ]
  },
  {
   "cell_type": "code",
   "execution_count": 63,
   "id": "81b8f64e",
   "metadata": {},
   "outputs": [
    {
     "data": {
      "text/plain": [
       "w     8220\n",
       "bg    8195\n",
       "Name: label, dtype: int64"
      ]
     },
     "execution_count": 63,
     "metadata": {},
     "output_type": "execute_result"
    }
   ],
   "source": [
    "df_concat.label.value_counts()"
   ]
  },
  {
   "cell_type": "markdown",
   "id": "e01cd87e",
   "metadata": {},
   "source": [
    "Is the difference due to 'bg' not coming between a 'w'and the start/end of a recording?"
   ]
  },
  {
   "cell_type": "code",
   "execution_count": 64,
   "id": "53661e42",
   "metadata": {},
   "outputs": [
    {
     "data": {
      "text/plain": [
       "25"
      ]
     },
     "execution_count": 64,
     "metadata": {},
     "output_type": "execute_result"
    }
   ],
   "source": [
    "df_concat.filename.nunique()"
   ]
  },
  {
   "cell_type": "code",
   "execution_count": 65,
   "id": "d8a637f1",
   "metadata": {},
   "outputs": [
    {
     "data": {
      "text/plain": [
       "25"
      ]
     },
     "execution_count": 65,
     "metadata": {},
     "output_type": "execute_result"
    }
   ],
   "source": [
    "df_concat.label.value_counts()[0]-df_concat.label.value_counts()[1]"
   ]
  },
  {
   "cell_type": "markdown",
   "id": "4fe8dfa2",
   "metadata": {},
   "source": [
    "Yes. Good."
   ]
  },
  {
   "cell_type": "markdown",
   "id": "e5632db8",
   "metadata": {},
   "source": [
    "## Save"
   ]
  },
  {
   "cell_type": "code",
   "execution_count": 66,
   "id": "bdace95a",
   "metadata": {},
   "outputs": [],
   "source": [
    "df_concat.to_csv('../datasets/mozambique_2021/2021_data_prepped_with_bg.csv', index=False)"
   ]
  },
  {
   "cell_type": "markdown",
   "id": "6eb7d088",
   "metadata": {},
   "source": [
    "# Split to sets"
   ]
  },
  {
   "cell_type": "markdown",
   "id": "5b400296",
   "metadata": {},
   "source": [
    "Preferred DV ratio: 70-20-10"
   ]
  },
  {
   "cell_type": "markdown",
   "id": "1fbb15d8",
   "metadata": {},
   "source": [
    "## Explore different recordings"
   ]
  },
  {
   "cell_type": "code",
   "execution_count": 67,
   "id": "46aad12f",
   "metadata": {},
   "outputs": [
    {
     "data": {
      "text/html": [
       "<div>\n",
       "<style scoped>\n",
       "    .dataframe tbody tr th:only-of-type {\n",
       "        vertical-align: middle;\n",
       "    }\n",
       "\n",
       "    .dataframe tbody tr th {\n",
       "        vertical-align: top;\n",
       "    }\n",
       "\n",
       "    .dataframe thead th {\n",
       "        text-align: right;\n",
       "    }\n",
       "</style>\n",
       "<table border=\"1\" class=\"dataframe\">\n",
       "  <thead>\n",
       "    <tr style=\"text-align: right;\">\n",
       "      <th></th>\n",
       "      <th>filename</th>\n",
       "      <th>begin_time</th>\n",
       "      <th>end_time</th>\n",
       "      <th>label</th>\n",
       "      <th>call_length</th>\n",
       "    </tr>\n",
       "  </thead>\n",
       "  <tbody>\n",
       "    <tr>\n",
       "      <th>0</th>\n",
       "      <td>210824-095226_Tr1</td>\n",
       "      <td>19.764583</td>\n",
       "      <td>20.169273</td>\n",
       "      <td>bg</td>\n",
       "      <td>0.404690</td>\n",
       "    </tr>\n",
       "    <tr>\n",
       "      <th>1</th>\n",
       "      <td>210824-095226_Tr1</td>\n",
       "      <td>20.650971</td>\n",
       "      <td>40.781279</td>\n",
       "      <td>bg</td>\n",
       "      <td>20.130308</td>\n",
       "    </tr>\n",
       "    <tr>\n",
       "      <th>2</th>\n",
       "      <td>210824-095226_Tr1</td>\n",
       "      <td>41.599046</td>\n",
       "      <td>44.016323</td>\n",
       "      <td>bg</td>\n",
       "      <td>2.417277</td>\n",
       "    </tr>\n",
       "    <tr>\n",
       "      <th>3</th>\n",
       "      <td>210824-095226_Tr1</td>\n",
       "      <td>44.733270</td>\n",
       "      <td>64.404870</td>\n",
       "      <td>bg</td>\n",
       "      <td>19.671600</td>\n",
       "    </tr>\n",
       "    <tr>\n",
       "      <th>4</th>\n",
       "      <td>210824-095226_Tr1</td>\n",
       "      <td>64.897771</td>\n",
       "      <td>72.605060</td>\n",
       "      <td>bg</td>\n",
       "      <td>7.707290</td>\n",
       "    </tr>\n",
       "  </tbody>\n",
       "</table>\n",
       "</div>"
      ],
      "text/plain": [
       "            filename  begin_time   end_time label  call_length\n",
       "0  210824-095226_Tr1   19.764583  20.169273    bg     0.404690\n",
       "1  210824-095226_Tr1   20.650971  40.781279    bg    20.130308\n",
       "2  210824-095226_Tr1   41.599046  44.016323    bg     2.417277\n",
       "3  210824-095226_Tr1   44.733270  64.404870    bg    19.671600\n",
       "4  210824-095226_Tr1   64.897771  72.605060    bg     7.707290"
      ]
     },
     "execution_count": 67,
     "metadata": {},
     "output_type": "execute_result"
    }
   ],
   "source": [
    "df_concat.head()"
   ]
  },
  {
   "cell_type": "code",
   "execution_count": 68,
   "id": "93115968",
   "metadata": {},
   "outputs": [],
   "source": [
    "df_meta = df_concat[df_concat.label=='w'].groupby('filename').agg(\n",
    "    count_calls = pd.NamedAgg('begin_time', 'count'),\n",
    "    sum_call_length = pd.NamedAgg('call_length', 'sum'),\n",
    "    avg_call_length = pd.NamedAgg('call_length', 'mean'),\n",
    ").sort_values('filename')\n",
    "\n"
   ]
  },
  {
   "cell_type": "code",
   "execution_count": 69,
   "id": "b65d98d8",
   "metadata": {},
   "outputs": [],
   "source": [
    "df_meta['cum_call_length'] = df_meta.sum_call_length.cumsum()\n",
    "df_meta['cum_perc'] = 100*df_meta['cum_call_length']/(df_meta['sum_call_length'].sum())"
   ]
  },
  {
   "cell_type": "code",
   "execution_count": 70,
   "id": "95b9aedc",
   "metadata": {},
   "outputs": [
    {
     "data": {
      "text/html": [
       "<div>\n",
       "<style scoped>\n",
       "    .dataframe tbody tr th:only-of-type {\n",
       "        vertical-align: middle;\n",
       "    }\n",
       "\n",
       "    .dataframe tbody tr th {\n",
       "        vertical-align: top;\n",
       "    }\n",
       "\n",
       "    .dataframe thead th {\n",
       "        text-align: right;\n",
       "    }\n",
       "</style>\n",
       "<table border=\"1\" class=\"dataframe\">\n",
       "  <thead>\n",
       "    <tr style=\"text-align: right;\">\n",
       "      <th></th>\n",
       "      <th>count_calls</th>\n",
       "      <th>sum_call_length</th>\n",
       "      <th>avg_call_length</th>\n",
       "      <th>cum_call_length</th>\n",
       "      <th>cum_perc</th>\n",
       "    </tr>\n",
       "    <tr>\n",
       "      <th>filename</th>\n",
       "      <th></th>\n",
       "      <th></th>\n",
       "      <th></th>\n",
       "      <th></th>\n",
       "      <th></th>\n",
       "    </tr>\n",
       "  </thead>\n",
       "  <tbody>\n",
       "    <tr>\n",
       "      <th>210824-095226_Tr1</th>\n",
       "      <td>67</td>\n",
       "      <td>41.941372</td>\n",
       "      <td>0.625991</td>\n",
       "      <td>41.941372</td>\n",
       "      <td>0.654544</td>\n",
       "    </tr>\n",
       "    <tr>\n",
       "      <th>210824-095226_Tr2</th>\n",
       "      <td>55</td>\n",
       "      <td>37.918654</td>\n",
       "      <td>0.689430</td>\n",
       "      <td>79.860026</td>\n",
       "      <td>1.246308</td>\n",
       "    </tr>\n",
       "    <tr>\n",
       "      <th>210824-100209_Tr1</th>\n",
       "      <td>81</td>\n",
       "      <td>38.092410</td>\n",
       "      <td>0.470277</td>\n",
       "      <td>117.952436</td>\n",
       "      <td>1.840784</td>\n",
       "    </tr>\n",
       "    <tr>\n",
       "      <th>210824-100209_Tr2</th>\n",
       "      <td>44</td>\n",
       "      <td>18.947215</td>\n",
       "      <td>0.430619</td>\n",
       "      <td>136.899651</td>\n",
       "      <td>2.136477</td>\n",
       "    </tr>\n",
       "    <tr>\n",
       "      <th>210824-104507_Tr1</th>\n",
       "      <td>636</td>\n",
       "      <td>352.458521</td>\n",
       "      <td>0.554180</td>\n",
       "      <td>489.358172</td>\n",
       "      <td>7.637000</td>\n",
       "    </tr>\n",
       "    <tr>\n",
       "      <th>210824-115331_Tr1</th>\n",
       "      <td>737</td>\n",
       "      <td>410.209489</td>\n",
       "      <td>0.556594</td>\n",
       "      <td>899.567661</td>\n",
       "      <td>14.038793</td>\n",
       "    </tr>\n",
       "    <tr>\n",
       "      <th>210824-125439_Tr1</th>\n",
       "      <td>594</td>\n",
       "      <td>466.242653</td>\n",
       "      <td>0.784920</td>\n",
       "      <td>1365.810314</td>\n",
       "      <td>21.315049</td>\n",
       "    </tr>\n",
       "    <tr>\n",
       "      <th>210825-102141_Tr1</th>\n",
       "      <td>443</td>\n",
       "      <td>359.170015</td>\n",
       "      <td>0.810768</td>\n",
       "      <td>1724.980329</td>\n",
       "      <td>26.920312</td>\n",
       "    </tr>\n",
       "    <tr>\n",
       "      <th>210825-112937_Tr1</th>\n",
       "      <td>212</td>\n",
       "      <td>182.875824</td>\n",
       "      <td>0.862622</td>\n",
       "      <td>1907.856154</td>\n",
       "      <td>29.774301</td>\n",
       "    </tr>\n",
       "    <tr>\n",
       "      <th>210825-112937_Tr2</th>\n",
       "      <td>214</td>\n",
       "      <td>185.013619</td>\n",
       "      <td>0.864550</td>\n",
       "      <td>2092.869773</td>\n",
       "      <td>32.661652</td>\n",
       "    </tr>\n",
       "    <tr>\n",
       "      <th>210825-132034_Tr1</th>\n",
       "      <td>264</td>\n",
       "      <td>174.965576</td>\n",
       "      <td>0.662748</td>\n",
       "      <td>2267.835349</td>\n",
       "      <td>35.392192</td>\n",
       "    </tr>\n",
       "    <tr>\n",
       "      <th>210825-132034_Tr2</th>\n",
       "      <td>302</td>\n",
       "      <td>169.817882</td>\n",
       "      <td>0.562311</td>\n",
       "      <td>2437.653231</td>\n",
       "      <td>38.042397</td>\n",
       "    </tr>\n",
       "    <tr>\n",
       "      <th>210825-135601_Tr1</th>\n",
       "      <td>551</td>\n",
       "      <td>383.323722</td>\n",
       "      <td>0.695687</td>\n",
       "      <td>2820.976953</td>\n",
       "      <td>44.024607</td>\n",
       "    </tr>\n",
       "    <tr>\n",
       "      <th>210826-083608_Tr1</th>\n",
       "      <td>614</td>\n",
       "      <td>506.587613</td>\n",
       "      <td>0.825061</td>\n",
       "      <td>3327.564565</td>\n",
       "      <td>51.930492</td>\n",
       "    </tr>\n",
       "    <tr>\n",
       "      <th>210827-081513_Tr1</th>\n",
       "      <td>368</td>\n",
       "      <td>332.039284</td>\n",
       "      <td>0.902281</td>\n",
       "      <td>3659.603849</td>\n",
       "      <td>57.112349</td>\n",
       "    </tr>\n",
       "    <tr>\n",
       "      <th>210827-081513_Tr2</th>\n",
       "      <td>577</td>\n",
       "      <td>433.350466</td>\n",
       "      <td>0.751041</td>\n",
       "      <td>4092.954315</td>\n",
       "      <td>63.875284</td>\n",
       "    </tr>\n",
       "    <tr>\n",
       "      <th>210827-090209_Tr2</th>\n",
       "      <td>405</td>\n",
       "      <td>356.646961</td>\n",
       "      <td>0.880610</td>\n",
       "      <td>4449.601277</td>\n",
       "      <td>69.441172</td>\n",
       "    </tr>\n",
       "    <tr>\n",
       "      <th>210827-133618_Tr2</th>\n",
       "      <td>64</td>\n",
       "      <td>49.494010</td>\n",
       "      <td>0.773344</td>\n",
       "      <td>4499.095287</td>\n",
       "      <td>70.213583</td>\n",
       "    </tr>\n",
       "    <tr>\n",
       "      <th>210828-080644_Tr1</th>\n",
       "      <td>538</td>\n",
       "      <td>647.914756</td>\n",
       "      <td>1.204303</td>\n",
       "      <td>5147.010043</td>\n",
       "      <td>80.325042</td>\n",
       "    </tr>\n",
       "    <tr>\n",
       "      <th>210903-095104_Tr1</th>\n",
       "      <td>25</td>\n",
       "      <td>25.673249</td>\n",
       "      <td>1.026930</td>\n",
       "      <td>5172.683292</td>\n",
       "      <td>80.725703</td>\n",
       "    </tr>\n",
       "    <tr>\n",
       "      <th>210903-095104_Tr2</th>\n",
       "      <td>19</td>\n",
       "      <td>22.856722</td>\n",
       "      <td>1.202985</td>\n",
       "      <td>5195.540013</td>\n",
       "      <td>81.082408</td>\n",
       "    </tr>\n",
       "    <tr>\n",
       "      <th>210903-110841_Tr1</th>\n",
       "      <td>194</td>\n",
       "      <td>113.619454</td>\n",
       "      <td>0.585667</td>\n",
       "      <td>5309.159467</td>\n",
       "      <td>82.855571</td>\n",
       "    </tr>\n",
       "    <tr>\n",
       "      <th>210903-110841_Tr2</th>\n",
       "      <td>223</td>\n",
       "      <td>128.449099</td>\n",
       "      <td>0.576005</td>\n",
       "      <td>5437.608566</td>\n",
       "      <td>84.860168</td>\n",
       "    </tr>\n",
       "    <tr>\n",
       "      <th>210904-074321_Tr1</th>\n",
       "      <td>676</td>\n",
       "      <td>611.083865</td>\n",
       "      <td>0.903970</td>\n",
       "      <td>6048.692431</td>\n",
       "      <td>94.396838</td>\n",
       "    </tr>\n",
       "    <tr>\n",
       "      <th>210904-111316_Tr2</th>\n",
       "      <td>317</td>\n",
       "      <td>359.035366</td>\n",
       "      <td>1.132604</td>\n",
       "      <td>6407.727797</td>\n",
       "      <td>100.000000</td>\n",
       "    </tr>\n",
       "  </tbody>\n",
       "</table>\n",
       "</div>"
      ],
      "text/plain": [
       "                   count_calls  sum_call_length  avg_call_length  \\\n",
       "filename                                                           \n",
       "210824-095226_Tr1           67        41.941372         0.625991   \n",
       "210824-095226_Tr2           55        37.918654         0.689430   \n",
       "210824-100209_Tr1           81        38.092410         0.470277   \n",
       "210824-100209_Tr2           44        18.947215         0.430619   \n",
       "210824-104507_Tr1          636       352.458521         0.554180   \n",
       "210824-115331_Tr1          737       410.209489         0.556594   \n",
       "210824-125439_Tr1          594       466.242653         0.784920   \n",
       "210825-102141_Tr1          443       359.170015         0.810768   \n",
       "210825-112937_Tr1          212       182.875824         0.862622   \n",
       "210825-112937_Tr2          214       185.013619         0.864550   \n",
       "210825-132034_Tr1          264       174.965576         0.662748   \n",
       "210825-132034_Tr2          302       169.817882         0.562311   \n",
       "210825-135601_Tr1          551       383.323722         0.695687   \n",
       "210826-083608_Tr1          614       506.587613         0.825061   \n",
       "210827-081513_Tr1          368       332.039284         0.902281   \n",
       "210827-081513_Tr2          577       433.350466         0.751041   \n",
       "210827-090209_Tr2          405       356.646961         0.880610   \n",
       "210827-133618_Tr2           64        49.494010         0.773344   \n",
       "210828-080644_Tr1          538       647.914756         1.204303   \n",
       "210903-095104_Tr1           25        25.673249         1.026930   \n",
       "210903-095104_Tr2           19        22.856722         1.202985   \n",
       "210903-110841_Tr1          194       113.619454         0.585667   \n",
       "210903-110841_Tr2          223       128.449099         0.576005   \n",
       "210904-074321_Tr1          676       611.083865         0.903970   \n",
       "210904-111316_Tr2          317       359.035366         1.132604   \n",
       "\n",
       "                   cum_call_length    cum_perc  \n",
       "filename                                        \n",
       "210824-095226_Tr1        41.941372    0.654544  \n",
       "210824-095226_Tr2        79.860026    1.246308  \n",
       "210824-100209_Tr1       117.952436    1.840784  \n",
       "210824-100209_Tr2       136.899651    2.136477  \n",
       "210824-104507_Tr1       489.358172    7.637000  \n",
       "210824-115331_Tr1       899.567661   14.038793  \n",
       "210824-125439_Tr1      1365.810314   21.315049  \n",
       "210825-102141_Tr1      1724.980329   26.920312  \n",
       "210825-112937_Tr1      1907.856154   29.774301  \n",
       "210825-112937_Tr2      2092.869773   32.661652  \n",
       "210825-132034_Tr1      2267.835349   35.392192  \n",
       "210825-132034_Tr2      2437.653231   38.042397  \n",
       "210825-135601_Tr1      2820.976953   44.024607  \n",
       "210826-083608_Tr1      3327.564565   51.930492  \n",
       "210827-081513_Tr1      3659.603849   57.112349  \n",
       "210827-081513_Tr2      4092.954315   63.875284  \n",
       "210827-090209_Tr2      4449.601277   69.441172  \n",
       "210827-133618_Tr2      4499.095287   70.213583  \n",
       "210828-080644_Tr1      5147.010043   80.325042  \n",
       "210903-095104_Tr1      5172.683292   80.725703  \n",
       "210903-095104_Tr2      5195.540013   81.082408  \n",
       "210903-110841_Tr1      5309.159467   82.855571  \n",
       "210903-110841_Tr2      5437.608566   84.860168  \n",
       "210904-074321_Tr1      6048.692431   94.396838  \n",
       "210904-111316_Tr2      6407.727797  100.000000  "
      ]
     },
     "execution_count": 70,
     "metadata": {},
     "output_type": "execute_result"
    }
   ],
   "source": [
    "df_meta"
   ]
  },
  {
   "cell_type": "markdown",
   "id": "09ecc536",
   "metadata": {},
   "source": [
    "## Assign recordings to sets"
   ]
  },
  {
   "cell_type": "markdown",
   "id": "fc9ba201",
   "metadata": {},
   "source": [
    "Preferred DV ratio: 70-20-10"
   ]
  },
  {
   "cell_type": "code",
   "execution_count": 71,
   "id": "f345da82",
   "metadata": {},
   "outputs": [
    {
     "data": {
      "text/plain": [
       "['210824-095226_Tr1',\n",
       " '210824-095226_Tr2',\n",
       " '210824-100209_Tr1',\n",
       " '210824-100209_Tr2',\n",
       " '210824-104507_Tr1',\n",
       " '210824-115331_Tr1',\n",
       " '210824-125439_Tr1',\n",
       " '210825-102141_Tr1',\n",
       " '210825-112937_Tr1',\n",
       " '210825-112937_Tr2',\n",
       " '210825-132034_Tr1',\n",
       " '210825-132034_Tr2',\n",
       " '210825-135601_Tr1',\n",
       " '210826-083608_Tr1',\n",
       " '210827-081513_Tr1',\n",
       " '210827-081513_Tr2',\n",
       " '210827-090209_Tr2']"
      ]
     },
     "execution_count": 71,
     "metadata": {},
     "output_type": "execute_result"
    }
   ],
   "source": [
    "train_files = df_meta.loc[df_meta['cum_perc']<70].index.tolist()\n",
    "# train_files.append('25-115438_Tr2') #to get closer to 70%\n",
    "train_files"
   ]
  },
  {
   "cell_type": "code",
   "execution_count": 72,
   "id": "5aed3e29",
   "metadata": {},
   "outputs": [
    {
     "data": {
      "text/plain": [
       "['210827-133618_Tr2',\n",
       " '210828-080644_Tr1',\n",
       " '210903-095104_Tr1',\n",
       " '210903-095104_Tr2',\n",
       " '210903-110841_Tr1',\n",
       " '210903-110841_Tr2']"
      ]
     },
     "execution_count": 72,
     "metadata": {},
     "output_type": "execute_result"
    }
   ],
   "source": [
    "val_files = df_meta.loc[((df_meta['cum_perc']>70) & (df_meta['cum_perc']<90))].index.tolist()\n",
    "val_files"
   ]
  },
  {
   "cell_type": "code",
   "execution_count": 73,
   "id": "98fdfaaa",
   "metadata": {},
   "outputs": [
    {
     "data": {
      "text/plain": [
       "['210904-074321_Tr1', '210904-111316_Tr2']"
      ]
     },
     "execution_count": 73,
     "metadata": {},
     "output_type": "execute_result"
    }
   ],
   "source": [
    "test_files = df_meta.loc[(df_meta['cum_perc']>90)].index.tolist()\n",
    "test_files"
   ]
  },
  {
   "cell_type": "markdown",
   "id": "6522660b",
   "metadata": {},
   "source": [
    "### validate split"
   ]
  },
  {
   "cell_type": "code",
   "execution_count": null,
   "id": "219bb525",
   "metadata": {},
   "outputs": [],
   "source": []
  },
  {
   "cell_type": "code",
   "execution_count": 74,
   "id": "fb8d5fdd",
   "metadata": {},
   "outputs": [
    {
     "data": {
      "text/html": [
       "<div>\n",
       "<style scoped>\n",
       "    .dataframe tbody tr th:only-of-type {\n",
       "        vertical-align: middle;\n",
       "    }\n",
       "\n",
       "    .dataframe tbody tr th {\n",
       "        vertical-align: top;\n",
       "    }\n",
       "\n",
       "    .dataframe thead th {\n",
       "        text-align: right;\n",
       "    }\n",
       "</style>\n",
       "<table border=\"1\" class=\"dataframe\">\n",
       "  <thead>\n",
       "    <tr style=\"text-align: right;\">\n",
       "      <th></th>\n",
       "      <th>count_calls</th>\n",
       "      <th>sum_call_length</th>\n",
       "      <th>avg_call_length</th>\n",
       "      <th>cum_call_length</th>\n",
       "      <th>cum_perc</th>\n",
       "    </tr>\n",
       "    <tr>\n",
       "      <th>filename</th>\n",
       "      <th></th>\n",
       "      <th></th>\n",
       "      <th></th>\n",
       "      <th></th>\n",
       "      <th></th>\n",
       "    </tr>\n",
       "  </thead>\n",
       "  <tbody>\n",
       "    <tr>\n",
       "      <th>210824-095226_Tr1</th>\n",
       "      <td>67</td>\n",
       "      <td>41.941372</td>\n",
       "      <td>0.625991</td>\n",
       "      <td>41.941372</td>\n",
       "      <td>0.654544</td>\n",
       "    </tr>\n",
       "    <tr>\n",
       "      <th>210824-095226_Tr2</th>\n",
       "      <td>55</td>\n",
       "      <td>37.918654</td>\n",
       "      <td>0.689430</td>\n",
       "      <td>79.860026</td>\n",
       "      <td>1.246308</td>\n",
       "    </tr>\n",
       "    <tr>\n",
       "      <th>210824-100209_Tr1</th>\n",
       "      <td>81</td>\n",
       "      <td>38.092410</td>\n",
       "      <td>0.470277</td>\n",
       "      <td>117.952436</td>\n",
       "      <td>1.840784</td>\n",
       "    </tr>\n",
       "    <tr>\n",
       "      <th>210824-100209_Tr2</th>\n",
       "      <td>44</td>\n",
       "      <td>18.947215</td>\n",
       "      <td>0.430619</td>\n",
       "      <td>136.899651</td>\n",
       "      <td>2.136477</td>\n",
       "    </tr>\n",
       "    <tr>\n",
       "      <th>210824-104507_Tr1</th>\n",
       "      <td>636</td>\n",
       "      <td>352.458521</td>\n",
       "      <td>0.554180</td>\n",
       "      <td>489.358172</td>\n",
       "      <td>7.637000</td>\n",
       "    </tr>\n",
       "    <tr>\n",
       "      <th>210824-115331_Tr1</th>\n",
       "      <td>737</td>\n",
       "      <td>410.209489</td>\n",
       "      <td>0.556594</td>\n",
       "      <td>899.567661</td>\n",
       "      <td>14.038793</td>\n",
       "    </tr>\n",
       "    <tr>\n",
       "      <th>210824-125439_Tr1</th>\n",
       "      <td>594</td>\n",
       "      <td>466.242653</td>\n",
       "      <td>0.784920</td>\n",
       "      <td>1365.810314</td>\n",
       "      <td>21.315049</td>\n",
       "    </tr>\n",
       "    <tr>\n",
       "      <th>210825-102141_Tr1</th>\n",
       "      <td>443</td>\n",
       "      <td>359.170015</td>\n",
       "      <td>0.810768</td>\n",
       "      <td>1724.980329</td>\n",
       "      <td>26.920312</td>\n",
       "    </tr>\n",
       "    <tr>\n",
       "      <th>210825-112937_Tr1</th>\n",
       "      <td>212</td>\n",
       "      <td>182.875824</td>\n",
       "      <td>0.862622</td>\n",
       "      <td>1907.856154</td>\n",
       "      <td>29.774301</td>\n",
       "    </tr>\n",
       "    <tr>\n",
       "      <th>210825-112937_Tr2</th>\n",
       "      <td>214</td>\n",
       "      <td>185.013619</td>\n",
       "      <td>0.864550</td>\n",
       "      <td>2092.869773</td>\n",
       "      <td>32.661652</td>\n",
       "    </tr>\n",
       "    <tr>\n",
       "      <th>210825-132034_Tr1</th>\n",
       "      <td>264</td>\n",
       "      <td>174.965576</td>\n",
       "      <td>0.662748</td>\n",
       "      <td>2267.835349</td>\n",
       "      <td>35.392192</td>\n",
       "    </tr>\n",
       "    <tr>\n",
       "      <th>210825-132034_Tr2</th>\n",
       "      <td>302</td>\n",
       "      <td>169.817882</td>\n",
       "      <td>0.562311</td>\n",
       "      <td>2437.653231</td>\n",
       "      <td>38.042397</td>\n",
       "    </tr>\n",
       "    <tr>\n",
       "      <th>210825-135601_Tr1</th>\n",
       "      <td>551</td>\n",
       "      <td>383.323722</td>\n",
       "      <td>0.695687</td>\n",
       "      <td>2820.976953</td>\n",
       "      <td>44.024607</td>\n",
       "    </tr>\n",
       "    <tr>\n",
       "      <th>210826-083608_Tr1</th>\n",
       "      <td>614</td>\n",
       "      <td>506.587613</td>\n",
       "      <td>0.825061</td>\n",
       "      <td>3327.564565</td>\n",
       "      <td>51.930492</td>\n",
       "    </tr>\n",
       "    <tr>\n",
       "      <th>210827-081513_Tr1</th>\n",
       "      <td>368</td>\n",
       "      <td>332.039284</td>\n",
       "      <td>0.902281</td>\n",
       "      <td>3659.603849</td>\n",
       "      <td>57.112349</td>\n",
       "    </tr>\n",
       "    <tr>\n",
       "      <th>210827-081513_Tr2</th>\n",
       "      <td>577</td>\n",
       "      <td>433.350466</td>\n",
       "      <td>0.751041</td>\n",
       "      <td>4092.954315</td>\n",
       "      <td>63.875284</td>\n",
       "    </tr>\n",
       "    <tr>\n",
       "      <th>210827-090209_Tr2</th>\n",
       "      <td>405</td>\n",
       "      <td>356.646961</td>\n",
       "      <td>0.880610</td>\n",
       "      <td>4449.601277</td>\n",
       "      <td>69.441172</td>\n",
       "    </tr>\n",
       "  </tbody>\n",
       "</table>\n",
       "</div>"
      ],
      "text/plain": [
       "                   count_calls  sum_call_length  avg_call_length  \\\n",
       "filename                                                           \n",
       "210824-095226_Tr1           67        41.941372         0.625991   \n",
       "210824-095226_Tr2           55        37.918654         0.689430   \n",
       "210824-100209_Tr1           81        38.092410         0.470277   \n",
       "210824-100209_Tr2           44        18.947215         0.430619   \n",
       "210824-104507_Tr1          636       352.458521         0.554180   \n",
       "210824-115331_Tr1          737       410.209489         0.556594   \n",
       "210824-125439_Tr1          594       466.242653         0.784920   \n",
       "210825-102141_Tr1          443       359.170015         0.810768   \n",
       "210825-112937_Tr1          212       182.875824         0.862622   \n",
       "210825-112937_Tr2          214       185.013619         0.864550   \n",
       "210825-132034_Tr1          264       174.965576         0.662748   \n",
       "210825-132034_Tr2          302       169.817882         0.562311   \n",
       "210825-135601_Tr1          551       383.323722         0.695687   \n",
       "210826-083608_Tr1          614       506.587613         0.825061   \n",
       "210827-081513_Tr1          368       332.039284         0.902281   \n",
       "210827-081513_Tr2          577       433.350466         0.751041   \n",
       "210827-090209_Tr2          405       356.646961         0.880610   \n",
       "\n",
       "                   cum_call_length   cum_perc  \n",
       "filename                                       \n",
       "210824-095226_Tr1        41.941372   0.654544  \n",
       "210824-095226_Tr2        79.860026   1.246308  \n",
       "210824-100209_Tr1       117.952436   1.840784  \n",
       "210824-100209_Tr2       136.899651   2.136477  \n",
       "210824-104507_Tr1       489.358172   7.637000  \n",
       "210824-115331_Tr1       899.567661  14.038793  \n",
       "210824-125439_Tr1      1365.810314  21.315049  \n",
       "210825-102141_Tr1      1724.980329  26.920312  \n",
       "210825-112937_Tr1      1907.856154  29.774301  \n",
       "210825-112937_Tr2      2092.869773  32.661652  \n",
       "210825-132034_Tr1      2267.835349  35.392192  \n",
       "210825-132034_Tr2      2437.653231  38.042397  \n",
       "210825-135601_Tr1      2820.976953  44.024607  \n",
       "210826-083608_Tr1      3327.564565  51.930492  \n",
       "210827-081513_Tr1      3659.603849  57.112349  \n",
       "210827-081513_Tr2      4092.954315  63.875284  \n",
       "210827-090209_Tr2      4449.601277  69.441172  "
      ]
     },
     "execution_count": 74,
     "metadata": {},
     "output_type": "execute_result"
    }
   ],
   "source": [
    "df_meta.loc[train_files]"
   ]
  },
  {
   "cell_type": "code",
   "execution_count": 75,
   "id": "08da9a08",
   "metadata": {},
   "outputs": [],
   "source": [
    "call_length_total = df_meta.sum_call_length.sum()"
   ]
  },
  {
   "cell_type": "code",
   "execution_count": 76,
   "id": "7dccdab7",
   "metadata": {},
   "outputs": [
    {
     "data": {
      "text/plain": [
       "69.0"
      ]
     },
     "execution_count": 76,
     "metadata": {},
     "output_type": "execute_result"
    },
    {
     "data": {
      "text/plain": [
       "15.0"
      ]
     },
     "execution_count": 76,
     "metadata": {},
     "output_type": "execute_result"
    },
    {
     "data": {
      "text/plain": [
       "15.0"
      ]
     },
     "execution_count": 76,
     "metadata": {},
     "output_type": "execute_result"
    }
   ],
   "source": [
    "for files in [train_files, test_files, val_files]:\n",
    "#     print(files)\n",
    "    np.round(df_meta.loc[files].sum_call_length.sum() / call_length_total*100)"
   ]
  },
  {
   "cell_type": "markdown",
   "id": "504cbca6",
   "metadata": {},
   "source": [
    "## Actually split"
   ]
  },
  {
   "cell_type": "code",
   "execution_count": 77,
   "id": "e4432431",
   "metadata": {},
   "outputs": [],
   "source": [
    "df_train = df_concat[df_concat.filename.isin(train_files)]\n",
    "df_val = df_concat[df_concat.filename.isin(val_files)]\n",
    "df_test = df_concat[df_concat.filename.isin(test_files)]"
   ]
  },
  {
   "cell_type": "code",
   "execution_count": 78,
   "id": "d3ba0531",
   "metadata": {},
   "outputs": [
    {
     "data": {
      "text/plain": [
       "(12311, 5)"
      ]
     },
     "execution_count": 78,
     "metadata": {},
     "output_type": "execute_result"
    },
    {
     "data": {
      "text/plain": [
       "(2120, 5)"
      ]
     },
     "execution_count": 78,
     "metadata": {},
     "output_type": "execute_result"
    },
    {
     "data": {
      "text/plain": [
       "(1984, 5)"
      ]
     },
     "execution_count": 78,
     "metadata": {},
     "output_type": "execute_result"
    }
   ],
   "source": [
    "df_train.shape\n",
    "df_val.shape\n",
    "df_test.shape"
   ]
  },
  {
   "cell_type": "markdown",
   "id": "f407d6ee",
   "metadata": {},
   "source": [
    "## Save"
   ]
  },
  {
   "cell_type": "code",
   "execution_count": 79,
   "id": "62cc7ea7",
   "metadata": {},
   "outputs": [],
   "source": [
    "df_train.to_csv('../datasets/mozambique_2021/2021_data_prepped_with_bg_train.csv', index=False)\n",
    "df_test.to_csv('../datasets/mozambique_2021/2021_data_prepped_with_bg_test.csv', index=False)\n",
    "df_val.to_csv('../datasets/mozambique_2021/2021_data_prepped_with_bg_val.csv', index=False)"
   ]
  },
  {
   "cell_type": "code",
   "execution_count": null,
   "id": "da514111",
   "metadata": {},
   "outputs": [],
   "source": []
  }
 ],
 "metadata": {
  "kernelspec": {
   "display_name": "Python 3 (ipykernel)",
   "language": "python",
   "name": "python3"
  },
  "language_info": {
   "codemirror_mode": {
    "name": "ipython",
    "version": 3
   },
   "file_extension": ".py",
   "mimetype": "text/x-python",
   "name": "python",
   "nbconvert_exporter": "python",
   "pygments_lexer": "ipython3",
   "version": "3.8.16"
  },
  "toc": {
   "base_numbering": 1,
   "nav_menu": {},
   "number_sections": true,
   "sideBar": true,
   "skip_h1_title": false,
   "title_cell": "Table of Contents",
   "title_sidebar": "Contents",
   "toc_cell": false,
   "toc_position": {
    "height": "calc(100% - 180px)",
    "left": "10px",
    "top": "150px",
    "width": "384px"
   },
   "toc_section_display": true,
   "toc_window_display": true
  },
  "varInspector": {
   "cols": {
    "lenName": 16,
    "lenType": 16,
    "lenVar": 40
   },
   "kernels_config": {
    "python": {
     "delete_cmd_postfix": "",
     "delete_cmd_prefix": "del ",
     "library": "var_list.py",
     "varRefreshCmd": "print(var_dic_list())"
    },
    "r": {
     "delete_cmd_postfix": ") ",
     "delete_cmd_prefix": "rm(",
     "library": "var_list.r",
     "varRefreshCmd": "cat(var_dic_list()) "
    }
   },
   "types_to_exclude": [
    "module",
    "function",
    "builtin_function_or_method",
    "instance",
    "_Feature"
   ],
   "window_display": false
  }
 },
 "nbformat": 4,
 "nbformat_minor": 5
}
