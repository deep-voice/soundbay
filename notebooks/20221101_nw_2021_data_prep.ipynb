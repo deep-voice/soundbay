{
 "cells": [
  {
   "cell_type": "code",
   "execution_count": 191,
   "id": "51c89415",
   "metadata": {},
   "outputs": [],
   "source": [
    "import pandas as pd\n",
    "import os\n",
    "from sklearn.model_selection import train_test_split\n",
    "\n",
    "pd.options.display.max_rows = 1000\n",
    "pd.options.display.max_columns = 1000\n",
    "pd.options.display.max_colwidth = None\n",
    "\n",
    "from IPython.core.interactiveshell import InteractiveShell\n",
    "\n",
    "InteractiveShell.ast_node_interactivity = \"all\""
   ]
  },
  {
   "cell_type": "code",
   "execution_count": 122,
   "id": "138722af",
   "metadata": {},
   "outputs": [],
   "source": [
    "from soundbay.utils.metadata_processing import load_n_adapt_raven_annotation_table_to_dv_dataset_requirements"
   ]
  },
  {
   "cell_type": "markdown",
   "id": "f330a23f",
   "metadata": {},
   "source": [
    "# params"
   ]
  },
  {
   "cell_type": "code",
   "execution_count": 123,
   "id": "a32faa34",
   "metadata": {},
   "outputs": [],
   "source": [
    "annotations_dir = '../datasets/2021_annotations/'\n",
    "cols2drop = ['View', 'Channel', 'Low Freq (Hz)', 'High Freq (Hz)', 'Delta Time (s)', 'Delta Freq (Hz)',\n",
    "       'Avg Power Density (dB FS/Hz)']"
   ]
  },
  {
   "cell_type": "markdown",
   "id": "07b7947f",
   "metadata": {},
   "source": [
    "# load annotations"
   ]
  },
  {
   "cell_type": "code",
   "execution_count": 124,
   "id": "a174d580",
   "metadata": {},
   "outputs": [
    {
     "name": "stdout",
     "output_type": "stream",
     "text": [
      "33\n"
     ]
    }
   ],
   "source": [
    "df_list = []\n",
    "for filename in os.listdir(annotations_dir):\n",
    "    try:\n",
    "        #         print(filename)\n",
    "        annotation_file_path = os.path.join(annotations_dir, filename)\n",
    "        small_df = load_n_adapt_raven_annotation_table_to_dv_dataset_requirements(annotation_file_path)\n",
    "        df_list.append(small_df)\n",
    "    except UnicodeDecodeError:\n",
    "        continue\n",
    "\n",
    "print(len(df_list))\n",
    "df_all_annotations = pd.concat(df_list)\n",
    "df_all_annotations = df_all_annotations.drop(cols2drop, axis=1)\n",
    "# df_all_annotations.head()"
   ]
  },
  {
   "cell_type": "code",
   "execution_count": 125,
   "id": "eab127c9",
   "metadata": {},
   "outputs": [
    {
     "data": {
      "text/plain": [
       "(14898, 6)"
      ]
     },
     "execution_count": 125,
     "metadata": {},
     "output_type": "execute_result"
    },
    {
     "data": {
      "text/html": [
       "<div>\n",
       "<style scoped>\n",
       "    .dataframe tbody tr th:only-of-type {\n",
       "        vertical-align: middle;\n",
       "    }\n",
       "\n",
       "    .dataframe tbody tr th {\n",
       "        vertical-align: top;\n",
       "    }\n",
       "\n",
       "    .dataframe thead th {\n",
       "        text-align: right;\n",
       "    }\n",
       "</style>\n",
       "<table border=\"1\" class=\"dataframe\">\n",
       "  <thead>\n",
       "    <tr style=\"text-align: right;\">\n",
       "      <th></th>\n",
       "      <th>Selection</th>\n",
       "      <th>begin_time</th>\n",
       "      <th>end_time</th>\n",
       "      <th>Annotation</th>\n",
       "      <th>filename</th>\n",
       "      <th>call_length</th>\n",
       "    </tr>\n",
       "  </thead>\n",
       "  <tbody>\n",
       "    <tr>\n",
       "      <th>0</th>\n",
       "      <td>1</td>\n",
       "      <td>59.532117</td>\n",
       "      <td>60.647912</td>\n",
       "      <td>song (s)</td>\n",
       "      <td>180913_081527 (1)</td>\n",
       "      <td>1.115795</td>\n",
       "    </tr>\n",
       "    <tr>\n",
       "      <th>1</th>\n",
       "      <td>2</td>\n",
       "      <td>59.652743</td>\n",
       "      <td>60.937416</td>\n",
       "      <td>s</td>\n",
       "      <td>180913_081527 (1)</td>\n",
       "      <td>1.284672</td>\n",
       "    </tr>\n",
       "    <tr>\n",
       "      <th>2</th>\n",
       "      <td>3</td>\n",
       "      <td>62.137650</td>\n",
       "      <td>63.609293</td>\n",
       "      <td>s</td>\n",
       "      <td>180913_081527 (1)</td>\n",
       "      <td>1.471644</td>\n",
       "    </tr>\n",
       "    <tr>\n",
       "      <th>3</th>\n",
       "      <td>4</td>\n",
       "      <td>62.559843</td>\n",
       "      <td>63.434385</td>\n",
       "      <td>s</td>\n",
       "      <td>180913_081527 (1)</td>\n",
       "      <td>0.874542</td>\n",
       "    </tr>\n",
       "    <tr>\n",
       "      <th>4</th>\n",
       "      <td>5</td>\n",
       "      <td>66.978572</td>\n",
       "      <td>68.263244</td>\n",
       "      <td>s</td>\n",
       "      <td>180913_081527 (1)</td>\n",
       "      <td>1.284672</td>\n",
       "    </tr>\n",
       "  </tbody>\n",
       "</table>\n",
       "</div>"
      ],
      "text/plain": [
       "   Selection  begin_time   end_time Annotation           filename  call_length\n",
       "0          1   59.532117  60.647912   song (s)  180913_081527 (1)     1.115795\n",
       "1          2   59.652743  60.937416          s  180913_081527 (1)     1.284672\n",
       "2          3   62.137650  63.609293          s  180913_081527 (1)     1.471644\n",
       "3          4   62.559843  63.434385          s  180913_081527 (1)     0.874542\n",
       "4          5   66.978572  68.263244          s  180913_081527 (1)     1.284672"
      ]
     },
     "execution_count": 125,
     "metadata": {},
     "output_type": "execute_result"
    },
    {
     "data": {
      "text/html": [
       "<div>\n",
       "<style scoped>\n",
       "    .dataframe tbody tr th:only-of-type {\n",
       "        vertical-align: middle;\n",
       "    }\n",
       "\n",
       "    .dataframe tbody tr th {\n",
       "        vertical-align: top;\n",
       "    }\n",
       "\n",
       "    .dataframe thead th {\n",
       "        text-align: right;\n",
       "    }\n",
       "</style>\n",
       "<table border=\"1\" class=\"dataframe\">\n",
       "  <thead>\n",
       "    <tr style=\"text-align: right;\">\n",
       "      <th></th>\n",
       "      <th>Selection</th>\n",
       "      <th>begin_time</th>\n",
       "      <th>end_time</th>\n",
       "      <th>Annotation</th>\n",
       "      <th>filename</th>\n",
       "      <th>call_length</th>\n",
       "    </tr>\n",
       "  </thead>\n",
       "  <tbody>\n",
       "    <tr>\n",
       "      <th>244</th>\n",
       "      <td>249</td>\n",
       "      <td>579.833247</td>\n",
       "      <td>580.553433</td>\n",
       "      <td>sc ? un</td>\n",
       "      <td>25-115438_Tr2</td>\n",
       "      <td>0.720186</td>\n",
       "    </tr>\n",
       "    <tr>\n",
       "      <th>245</th>\n",
       "      <td>250</td>\n",
       "      <td>580.662828</td>\n",
       "      <td>581.683851</td>\n",
       "      <td>NaN</td>\n",
       "      <td>25-115438_Tr2</td>\n",
       "      <td>1.021023</td>\n",
       "    </tr>\n",
       "    <tr>\n",
       "      <th>246</th>\n",
       "      <td>251</td>\n",
       "      <td>581.838828</td>\n",
       "      <td>582.759572</td>\n",
       "      <td>NaN</td>\n",
       "      <td>25-115438_Tr2</td>\n",
       "      <td>0.920744</td>\n",
       "    </tr>\n",
       "    <tr>\n",
       "      <th>247</th>\n",
       "      <td>252</td>\n",
       "      <td>583.115107</td>\n",
       "      <td>584.281991</td>\n",
       "      <td>NaN</td>\n",
       "      <td>25-115438_Tr2</td>\n",
       "      <td>1.166884</td>\n",
       "    </tr>\n",
       "    <tr>\n",
       "      <th>248</th>\n",
       "      <td>253</td>\n",
       "      <td>584.327572</td>\n",
       "      <td>585.175386</td>\n",
       "      <td>NaN</td>\n",
       "      <td>25-115438_Tr2</td>\n",
       "      <td>0.847814</td>\n",
       "    </tr>\n",
       "  </tbody>\n",
       "</table>\n",
       "</div>"
      ],
      "text/plain": [
       "     Selection  begin_time    end_time Annotation       filename  call_length\n",
       "244        249  579.833247  580.553433    sc ? un  25-115438_Tr2     0.720186\n",
       "245        250  580.662828  581.683851        NaN  25-115438_Tr2     1.021023\n",
       "246        251  581.838828  582.759572        NaN  25-115438_Tr2     0.920744\n",
       "247        252  583.115107  584.281991        NaN  25-115438_Tr2     1.166884\n",
       "248        253  584.327572  585.175386        NaN  25-115438_Tr2     0.847814"
      ]
     },
     "execution_count": 125,
     "metadata": {},
     "output_type": "execute_result"
    }
   ],
   "source": [
    "df_all_annotations.shape\n",
    "df_all_annotations.head()\n",
    "df_all_annotations.tail()"
   ]
  },
  {
   "cell_type": "markdown",
   "id": "381668bc",
   "metadata": {},
   "source": [
    "# Fix labels"
   ]
  },
  {
   "cell_type": "markdown",
   "id": "16184823",
   "metadata": {},
   "source": [
    "## explore"
   ]
  },
  {
   "cell_type": "code",
   "execution_count": 126,
   "id": "a690c29f",
   "metadata": {},
   "outputs": [
    {
     "data": {
      "text/plain": [
       "array(['song (s)', 's', 'un', nan, 'un/d', 'd', 'ד', 'sc', 'd?', 'sc ?',\n",
       "       'SC', '?', 'few calls in this annotation', 'un ', 'un !!! What ?',\n",
       "       'un ?', 'w & un', 'sc?', '!', 'baby whale?',\n",
       "       'un- weird whale sound probably', 'un d/w', 'Dolphins?', 'dolphin',\n",
       "       'd / cs ?', 'sc \\\\ d \\\\ un', 'cs ?', 'un \\\\ d ?', 'sc ? un'],\n",
       "      dtype=object)"
      ]
     },
     "execution_count": 126,
     "metadata": {},
     "output_type": "execute_result"
    }
   ],
   "source": [
    "df_all_annotations.Annotation.unique()"
   ]
  },
  {
   "cell_type": "code",
   "execution_count": 127,
   "id": "5c8aeb3c",
   "metadata": {},
   "outputs": [
    {
     "data": {
      "text/plain": [
       "NaN                               12975\n",
       "sc                                  915\n",
       "un                                  449\n",
       "d                                   320\n",
       "s                                   142\n",
       "?                                    46\n",
       "sc ?                                 14\n",
       "un d/w                                7\n",
       "d?                                    4\n",
       "dolphin                               3\n",
       "Dolphins?                             3\n",
       "SC                                    2\n",
       "un/d                                  2\n",
       "un- weird whale sound probably        1\n",
       "un \\ d ?                              1\n",
       "cs ?                                  1\n",
       "sc \\ d \\ un                           1\n",
       "d / cs ?                              1\n",
       "song (s)                              1\n",
       "un !!! What ?                         1\n",
       "baby whale?                           1\n",
       "!                                     1\n",
       "sc?                                   1\n",
       "w & un                                1\n",
       "un ?                                  1\n",
       "un                                    1\n",
       "few calls in this annotation          1\n",
       "ד                                     1\n",
       "sc ? un                               1\n",
       "Name: Annotation, dtype: int64"
      ]
     },
     "execution_count": 127,
     "metadata": {},
     "output_type": "execute_result"
    }
   ],
   "source": [
    "df_all_annotations.Annotation.value_counts(dropna=False)"
   ]
  },
  {
   "cell_type": "markdown",
   "id": "a2cf5412",
   "metadata": {},
   "source": [
    "For labels that appear only once - find location"
   ]
  },
  {
   "cell_type": "code",
   "execution_count": 128,
   "id": "5992e965",
   "metadata": {},
   "outputs": [],
   "source": [
    "all_unique_labels = df_all_annotations.Annotation.value_counts()[\n",
    "    df_all_annotations.Annotation.value_counts() == 1].index.values"
   ]
  },
  {
   "cell_type": "code",
   "execution_count": 129,
   "id": "92042854",
   "metadata": {},
   "outputs": [
    {
     "data": {
      "text/plain": [
       "array(['cs ?', 'sc \\\\ d \\\\ un', 'd / cs ?',\n",
       "       'un- weird whale sound probably', 'un \\\\ d ?', 'song (s)', 'un ?',\n",
       "       'baby whale?', '!', 'sc?', 'w & un', 'un !!! What ?', 'un ',\n",
       "       'few calls in this annotation', 'ד', 'sc ? un'], dtype=object)"
      ]
     },
     "execution_count": 129,
     "metadata": {},
     "output_type": "execute_result"
    }
   ],
   "source": [
    "all_unique_labels"
   ]
  },
  {
   "cell_type": "code",
   "execution_count": 130,
   "id": "f508fe75",
   "metadata": {},
   "outputs": [],
   "source": [
    "df_unique_labels = df_all_annotations[df_all_annotations.Annotation.isin(all_unique_labels)].copy()"
   ]
  },
  {
   "cell_type": "code",
   "execution_count": 131,
   "id": "b65e96a1",
   "metadata": {},
   "outputs": [
    {
     "data": {
      "text/plain": [
       "Index(['Selection', 'begin_time', 'end_time', 'Annotation', 'filename',\n",
       "       'call_length'],\n",
       "      dtype='object')"
      ]
     },
     "execution_count": 131,
     "metadata": {},
     "output_type": "execute_result"
    }
   ],
   "source": [
    "df_unique_labels.columns"
   ]
  },
  {
   "cell_type": "code",
   "execution_count": 132,
   "id": "1112855e",
   "metadata": {},
   "outputs": [],
   "source": [
    "cols2keep = ['Selection', 'begin_time', 'end_time', 'Annotation', 'filename','call_length']"
   ]
  },
  {
   "cell_type": "code",
   "execution_count": 133,
   "id": "9dc0d6fe",
   "metadata": {},
   "outputs": [],
   "source": [
    "df_unique_labels = df_unique_labels[cols2keep]"
   ]
  },
  {
   "cell_type": "code",
   "execution_count": 134,
   "id": "f05b64fd",
   "metadata": {},
   "outputs": [],
   "source": [
    "df_unique_labels.to_csv('unique_labels_info.csv', index=False)"
   ]
  },
  {
   "cell_type": "markdown",
   "id": "a3f5177c",
   "metadata": {},
   "source": [
    "## standardize whale call tags"
   ]
  },
  {
   "cell_type": "code",
   "execution_count": 135,
   "id": "a6ec14b7",
   "metadata": {},
   "outputs": [
    {
     "data": {
      "text/plain": [
       "array(['song (s)', 's', 'un', nan, 'un/d', 'd', 'ד', 'sc', 'd?', 'sc ?',\n",
       "       'SC', '?', 'few calls in this annotation', 'un ', 'un !!! What ?',\n",
       "       'un ?', 'w & un', 'sc?', '!', 'baby whale?',\n",
       "       'un- weird whale sound probably', 'un d/w', 'Dolphins?', 'dolphin',\n",
       "       'd / cs ?', 'sc \\\\ d \\\\ un', 'cs ?', 'un \\\\ d ?', 'sc ? un'],\n",
       "      dtype=object)"
      ]
     },
     "execution_count": 135,
     "metadata": {},
     "output_type": "execute_result"
    }
   ],
   "source": [
    "df_all_annotations.Annotation.unique()"
   ]
  },
  {
   "cell_type": "code",
   "execution_count": 136,
   "id": "ab6981f8",
   "metadata": {},
   "outputs": [],
   "source": [
    "def change_annotations(df_of_annotations: pd.DataFrame, annotations_to_change: list, target_value: str) -> None:\n",
    "    \"\"\"change specified annotations to target value. do this inplace.\"\"\"\n",
    "    df_of_annotations.replace(to_replace=annotations_to_change, value=target_value, inplace=True, limit=None, regex=False)\n",
    "    return"
   ]
  },
  {
   "cell_type": "code",
   "execution_count": 148,
   "id": "3f753e58",
   "metadata": {},
   "outputs": [],
   "source": [
    "whale_tags_to_change = ['sc', 'SC', 'sc ?', 'un- weird whale sound probably', 'cs ?', 'baby whale?', 'song (s)', 's', 'sc?']\n",
    "target_value = 'w'\n",
    "\n",
    "df_clean = df_all_annotations.replace(to_replace=whale_tags_to_change, value=target_value)"
   ]
  },
  {
   "cell_type": "code",
   "execution_count": 149,
   "id": "9f566a43",
   "metadata": {},
   "outputs": [
    {
     "data": {
      "text/html": [
       "<div>\n",
       "<style scoped>\n",
       "    .dataframe tbody tr th:only-of-type {\n",
       "        vertical-align: middle;\n",
       "    }\n",
       "\n",
       "    .dataframe tbody tr th {\n",
       "        vertical-align: top;\n",
       "    }\n",
       "\n",
       "    .dataframe thead th {\n",
       "        text-align: right;\n",
       "    }\n",
       "</style>\n",
       "<table border=\"1\" class=\"dataframe\">\n",
       "  <thead>\n",
       "    <tr style=\"text-align: right;\">\n",
       "      <th></th>\n",
       "      <th>Selection</th>\n",
       "      <th>begin_time</th>\n",
       "      <th>end_time</th>\n",
       "      <th>Annotation</th>\n",
       "      <th>filename</th>\n",
       "      <th>call_length</th>\n",
       "    </tr>\n",
       "  </thead>\n",
       "  <tbody>\n",
       "    <tr>\n",
       "      <th>0</th>\n",
       "      <td>1</td>\n",
       "      <td>59.532117</td>\n",
       "      <td>60.647912</td>\n",
       "      <td>w</td>\n",
       "      <td>180913_081527 (1)</td>\n",
       "      <td>1.115795</td>\n",
       "    </tr>\n",
       "    <tr>\n",
       "      <th>1</th>\n",
       "      <td>2</td>\n",
       "      <td>59.652743</td>\n",
       "      <td>60.937416</td>\n",
       "      <td>w</td>\n",
       "      <td>180913_081527 (1)</td>\n",
       "      <td>1.284672</td>\n",
       "    </tr>\n",
       "    <tr>\n",
       "      <th>2</th>\n",
       "      <td>3</td>\n",
       "      <td>62.137650</td>\n",
       "      <td>63.609293</td>\n",
       "      <td>w</td>\n",
       "      <td>180913_081527 (1)</td>\n",
       "      <td>1.471644</td>\n",
       "    </tr>\n",
       "    <tr>\n",
       "      <th>3</th>\n",
       "      <td>4</td>\n",
       "      <td>62.559843</td>\n",
       "      <td>63.434385</td>\n",
       "      <td>w</td>\n",
       "      <td>180913_081527 (1)</td>\n",
       "      <td>0.874542</td>\n",
       "    </tr>\n",
       "    <tr>\n",
       "      <th>4</th>\n",
       "      <td>5</td>\n",
       "      <td>66.978572</td>\n",
       "      <td>68.263244</td>\n",
       "      <td>w</td>\n",
       "      <td>180913_081527 (1)</td>\n",
       "      <td>1.284672</td>\n",
       "    </tr>\n",
       "  </tbody>\n",
       "</table>\n",
       "</div>"
      ],
      "text/plain": [
       "   Selection  begin_time   end_time Annotation           filename  call_length\n",
       "0          1   59.532117  60.647912          w  180913_081527 (1)     1.115795\n",
       "1          2   59.652743  60.937416          w  180913_081527 (1)     1.284672\n",
       "2          3   62.137650  63.609293          w  180913_081527 (1)     1.471644\n",
       "3          4   62.559843  63.434385          w  180913_081527 (1)     0.874542\n",
       "4          5   66.978572  68.263244          w  180913_081527 (1)     1.284672"
      ]
     },
     "execution_count": 149,
     "metadata": {},
     "output_type": "execute_result"
    }
   ],
   "source": [
    "df_clean.head()"
   ]
  },
  {
   "cell_type": "code",
   "execution_count": 150,
   "id": "f258beef",
   "metadata": {},
   "outputs": [
    {
     "data": {
      "text/plain": [
       "(14898, 6)"
      ]
     },
     "execution_count": 150,
     "metadata": {},
     "output_type": "execute_result"
    },
    {
     "data": {
      "text/plain": [
       "NaN                             12975\n",
       "w                                1078\n",
       "un                                449\n",
       "d                                 320\n",
       "?                                  46\n",
       "un d/w                              7\n",
       "d?                                  4\n",
       "dolphin                             3\n",
       "Dolphins?                           3\n",
       "un/d                                2\n",
       "un \\ d ?                            1\n",
       "sc \\ d \\ un                         1\n",
       "d / cs ?                            1\n",
       "un !!! What ?                       1\n",
       "!                                   1\n",
       "w & un                              1\n",
       "un ?                                1\n",
       "un                                  1\n",
       "few calls in this annotation        1\n",
       "ד                                   1\n",
       "sc ? un                             1\n",
       "Name: Annotation, dtype: int64"
      ]
     },
     "execution_count": 150,
     "metadata": {},
     "output_type": "execute_result"
    }
   ],
   "source": [
    "df_clean.shape\n",
    "df_clean.Annotation.value_counts(dropna=False)"
   ]
  },
  {
   "cell_type": "code",
   "execution_count": 151,
   "id": "a2d5ffa9",
   "metadata": {},
   "outputs": [],
   "source": [
    "df_clean['Annotation'] = df_clean.Annotation.fillna('w')\n"
   ]
  },
  {
   "cell_type": "code",
   "execution_count": 152,
   "id": "c6dcc023",
   "metadata": {},
   "outputs": [
    {
     "data": {
      "text/plain": [
       "(14898, 6)"
      ]
     },
     "execution_count": 152,
     "metadata": {},
     "output_type": "execute_result"
    },
    {
     "data": {
      "text/plain": [
       "w                               14053\n",
       "un                                449\n",
       "d                                 320\n",
       "?                                  46\n",
       "un d/w                              7\n",
       "d?                                  4\n",
       "dolphin                             3\n",
       "Dolphins?                           3\n",
       "un/d                                2\n",
       "un \\ d ?                            1\n",
       "sc \\ d \\ un                         1\n",
       "d / cs ?                            1\n",
       "un ?                                1\n",
       "!                                   1\n",
       "w & un                              1\n",
       "un !!! What ?                       1\n",
       "un                                  1\n",
       "few calls in this annotation        1\n",
       "ד                                   1\n",
       "sc ? un                             1\n",
       "Name: Annotation, dtype: int64"
      ]
     },
     "execution_count": 152,
     "metadata": {},
     "output_type": "execute_result"
    }
   ],
   "source": [
    "df_clean.shape\n",
    "df_clean.Annotation.value_counts(dropna=False)"
   ]
  },
  {
   "cell_type": "markdown",
   "id": "4db888b5",
   "metadata": {},
   "source": [
    "## filter out non-whales calls"
   ]
  },
  {
   "cell_type": "code",
   "execution_count": 153,
   "id": "f4b84529",
   "metadata": {},
   "outputs": [],
   "source": [
    "df_clean = df_clean[df_clean.Annotation=='w']"
   ]
  },
  {
   "cell_type": "code",
   "execution_count": 154,
   "id": "9d9a09ba",
   "metadata": {},
   "outputs": [
    {
     "data": {
      "text/plain": [
       "(14053, 6)"
      ]
     },
     "execution_count": 154,
     "metadata": {},
     "output_type": "execute_result"
    },
    {
     "data": {
      "text/plain": [
       "w    14053\n",
       "Name: Annotation, dtype: int64"
      ]
     },
     "execution_count": 154,
     "metadata": {},
     "output_type": "execute_result"
    }
   ],
   "source": [
    "df_clean.shape\n",
    "df_clean.Annotation.value_counts(dropna=False)"
   ]
  },
  {
   "cell_type": "markdown",
   "id": "4b1c8902",
   "metadata": {},
   "source": [
    "# label background"
   ]
  },
  {
   "cell_type": "markdown",
   "id": "be872c5a",
   "metadata": {},
   "source": [
    "Methodology: all gaps between annotated segments are considered background"
   ]
  },
  {
   "cell_type": "code",
   "execution_count": 155,
   "id": "3215f68a",
   "metadata": {},
   "outputs": [
    {
     "data": {
      "text/plain": [
       "(14053, 6)"
      ]
     },
     "execution_count": 155,
     "metadata": {},
     "output_type": "execute_result"
    },
    {
     "data": {
      "text/plain": [
       "33"
      ]
     },
     "execution_count": 155,
     "metadata": {},
     "output_type": "execute_result"
    },
    {
     "data": {
      "text/html": [
       "<div>\n",
       "<style scoped>\n",
       "    .dataframe tbody tr th:only-of-type {\n",
       "        vertical-align: middle;\n",
       "    }\n",
       "\n",
       "    .dataframe tbody tr th {\n",
       "        vertical-align: top;\n",
       "    }\n",
       "\n",
       "    .dataframe thead th {\n",
       "        text-align: right;\n",
       "    }\n",
       "</style>\n",
       "<table border=\"1\" class=\"dataframe\">\n",
       "  <thead>\n",
       "    <tr style=\"text-align: right;\">\n",
       "      <th></th>\n",
       "      <th>Selection</th>\n",
       "      <th>begin_time</th>\n",
       "      <th>end_time</th>\n",
       "      <th>Annotation</th>\n",
       "      <th>filename</th>\n",
       "      <th>call_length</th>\n",
       "    </tr>\n",
       "  </thead>\n",
       "  <tbody>\n",
       "    <tr>\n",
       "      <th>0</th>\n",
       "      <td>1</td>\n",
       "      <td>59.532117</td>\n",
       "      <td>60.647912</td>\n",
       "      <td>w</td>\n",
       "      <td>180913_081527 (1)</td>\n",
       "      <td>1.115795</td>\n",
       "    </tr>\n",
       "    <tr>\n",
       "      <th>1</th>\n",
       "      <td>2</td>\n",
       "      <td>59.652743</td>\n",
       "      <td>60.937416</td>\n",
       "      <td>w</td>\n",
       "      <td>180913_081527 (1)</td>\n",
       "      <td>1.284672</td>\n",
       "    </tr>\n",
       "    <tr>\n",
       "      <th>2</th>\n",
       "      <td>3</td>\n",
       "      <td>62.137650</td>\n",
       "      <td>63.609293</td>\n",
       "      <td>w</td>\n",
       "      <td>180913_081527 (1)</td>\n",
       "      <td>1.471644</td>\n",
       "    </tr>\n",
       "    <tr>\n",
       "      <th>3</th>\n",
       "      <td>4</td>\n",
       "      <td>62.559843</td>\n",
       "      <td>63.434385</td>\n",
       "      <td>w</td>\n",
       "      <td>180913_081527 (1)</td>\n",
       "      <td>0.874542</td>\n",
       "    </tr>\n",
       "    <tr>\n",
       "      <th>4</th>\n",
       "      <td>5</td>\n",
       "      <td>66.978572</td>\n",
       "      <td>68.263244</td>\n",
       "      <td>w</td>\n",
       "      <td>180913_081527 (1)</td>\n",
       "      <td>1.284672</td>\n",
       "    </tr>\n",
       "  </tbody>\n",
       "</table>\n",
       "</div>"
      ],
      "text/plain": [
       "   Selection  begin_time   end_time Annotation           filename  call_length\n",
       "0          1   59.532117  60.647912          w  180913_081527 (1)     1.115795\n",
       "1          2   59.652743  60.937416          w  180913_081527 (1)     1.284672\n",
       "2          3   62.137650  63.609293          w  180913_081527 (1)     1.471644\n",
       "3          4   62.559843  63.434385          w  180913_081527 (1)     0.874542\n",
       "4          5   66.978572  68.263244          w  180913_081527 (1)     1.284672"
      ]
     },
     "execution_count": 155,
     "metadata": {},
     "output_type": "execute_result"
    }
   ],
   "source": [
    "df_clean.shape\n",
    "df_clean.filename.nunique()\n",
    "df_clean.head()"
   ]
  },
  {
   "cell_type": "code",
   "execution_count": 156,
   "id": "d48e5d52",
   "metadata": {},
   "outputs": [],
   "source": [
    "df = df_clean\n"
   ]
  },
  {
   "cell_type": "code",
   "execution_count": 157,
   "id": "b92cde62",
   "metadata": {},
   "outputs": [],
   "source": [
    "# for filename in df.filename.unique():\n",
    "#     print(filename)"
   ]
  },
  {
   "cell_type": "markdown",
   "id": "abbdc466",
   "metadata": {},
   "source": [
    "## merge overlapping calls"
   ]
  },
  {
   "cell_type": "code",
   "execution_count": 158,
   "id": "438c9058",
   "metadata": {},
   "outputs": [],
   "source": [
    "\n",
    "def merge_overlapping_calls(df: pd.DataFrame) -> pd.DataFrame:\n",
    "    \"\"\"\n",
    "    Receives an annotation dataframe with (possibly) overlapping calls, and goes through merge-and-drop iterations until\n",
    "    no more overlaps are found.\n",
    "    :param df: Pandas DataFrame with the following columns: ['filename', 'begin_time', 'end_time']\n",
    "    :return: pd.DataFrame\n",
    "    \"\"\"\n",
    "    df = df.sort_values(['filename', 'begin_time']).reset_index(drop=True)\n",
    "    df = reset_overlap_accessory_columns(df)\n",
    "    df = mark_overlapping_rows(df)\n",
    "\n",
    "    while 1 in df.overlap.unique():\n",
    "        df = merge_overlapping_rows(df)\n",
    "        df = reset_overlap_accessory_columns(df)\n",
    "        df = mark_overlapping_rows(df)\n",
    "\n",
    "    df = df.drop(['overlap', 'next_begin_time', 'next_end_time'], axis=1)\n",
    "    return df\n",
    "\n",
    "\n",
    "def merge_overlapping_rows(df) -> pd.DataFrame:\n",
    "    \"\"\"\n",
    "    Merge (and drop) overlapping rows.\n",
    "    \"\"\"\n",
    "    df.loc[df.overlap == 1, 'end_time'] = df[df.overlap == 1]['next_end_time']\n",
    "    df = df.drop_duplicates(subset=['filename', 'end_time'], keep='first')\n",
    "    return df\n",
    "\n",
    "\n",
    "def reset_overlap_accessory_columns(df) -> pd.DataFrame:\n",
    "    df['overlap'] = np.NaN\n",
    "    df['next_begin_time'] = df.groupby('filename').begin_time.shift(-1)\n",
    "    df['next_end_time'] = df.groupby('filename').end_time.shift(-1)\n",
    "    return df\n",
    "\n",
    "\n",
    "def mark_overlapping_rows(df) -> pd.DataFrame:\n",
    "    df.loc[df.next_begin_time < df.end_time, 'overlap'] = 1\n",
    "    return df\n",
    "\n",
    "# def mark_non_overlapping_rows(df) -> pd.DataFrame:\n",
    "#     \"\"\"\n",
    "#     Merely for sanity check.\n",
    "#     \"\"\"\n",
    "#     df.loc[(df.begin_time > df.end_time.shift(1)) & (df.end_time < df.begin_time.shift(-1)), 'overlap'] = 0\n",
    "#     return df\n"
   ]
  },
  {
   "cell_type": "code",
   "execution_count": 159,
   "id": "d0d1589e",
   "metadata": {
    "scrolled": true
   },
   "outputs": [],
   "source": [
    "df_no_overlap = merge_overlapping_calls(df)"
   ]
  },
  {
   "cell_type": "code",
   "execution_count": 160,
   "id": "7c52fc48",
   "metadata": {},
   "outputs": [
    {
     "data": {
      "text/plain": [
       "(10573, 6)"
      ]
     },
     "execution_count": 160,
     "metadata": {},
     "output_type": "execute_result"
    }
   ],
   "source": [
    "df_no_overlap.shape"
   ]
  },
  {
   "cell_type": "code",
   "execution_count": 161,
   "id": "eda91b33",
   "metadata": {},
   "outputs": [
    {
     "data": {
      "text/plain": [
       "(14053, 6)"
      ]
     },
     "execution_count": 161,
     "metadata": {},
     "output_type": "execute_result"
    },
    {
     "data": {
      "text/plain": [
       "(10573, 6)"
      ]
     },
     "execution_count": 161,
     "metadata": {},
     "output_type": "execute_result"
    }
   ],
   "source": [
    "df.shape\n",
    "df_no_overlap.shape"
   ]
  },
  {
   "cell_type": "code",
   "execution_count": 162,
   "id": "cb505049",
   "metadata": {},
   "outputs": [
    {
     "data": {
      "text/html": [
       "<div>\n",
       "<style scoped>\n",
       "    .dataframe tbody tr th:only-of-type {\n",
       "        vertical-align: middle;\n",
       "    }\n",
       "\n",
       "    .dataframe tbody tr th {\n",
       "        vertical-align: top;\n",
       "    }\n",
       "\n",
       "    .dataframe thead th {\n",
       "        text-align: right;\n",
       "    }\n",
       "</style>\n",
       "<table border=\"1\" class=\"dataframe\">\n",
       "  <thead>\n",
       "    <tr style=\"text-align: right;\">\n",
       "      <th></th>\n",
       "      <th>Selection</th>\n",
       "      <th>begin_time</th>\n",
       "      <th>end_time</th>\n",
       "      <th>Annotation</th>\n",
       "      <th>filename</th>\n",
       "      <th>call_length</th>\n",
       "    </tr>\n",
       "  </thead>\n",
       "  <tbody>\n",
       "    <tr>\n",
       "      <th>0</th>\n",
       "      <td>1</td>\n",
       "      <td>59.532117</td>\n",
       "      <td>60.647912</td>\n",
       "      <td>w</td>\n",
       "      <td>180913_081527 (1)</td>\n",
       "      <td>1.115795</td>\n",
       "    </tr>\n",
       "    <tr>\n",
       "      <th>1</th>\n",
       "      <td>2</td>\n",
       "      <td>59.652743</td>\n",
       "      <td>60.937416</td>\n",
       "      <td>w</td>\n",
       "      <td>180913_081527 (1)</td>\n",
       "      <td>1.284672</td>\n",
       "    </tr>\n",
       "    <tr>\n",
       "      <th>2</th>\n",
       "      <td>3</td>\n",
       "      <td>62.137650</td>\n",
       "      <td>63.609293</td>\n",
       "      <td>w</td>\n",
       "      <td>180913_081527 (1)</td>\n",
       "      <td>1.471644</td>\n",
       "    </tr>\n",
       "    <tr>\n",
       "      <th>3</th>\n",
       "      <td>4</td>\n",
       "      <td>62.559843</td>\n",
       "      <td>63.434385</td>\n",
       "      <td>w</td>\n",
       "      <td>180913_081527 (1)</td>\n",
       "      <td>0.874542</td>\n",
       "    </tr>\n",
       "    <tr>\n",
       "      <th>4</th>\n",
       "      <td>5</td>\n",
       "      <td>66.978572</td>\n",
       "      <td>68.263244</td>\n",
       "      <td>w</td>\n",
       "      <td>180913_081527 (1)</td>\n",
       "      <td>1.284672</td>\n",
       "    </tr>\n",
       "  </tbody>\n",
       "</table>\n",
       "</div>"
      ],
      "text/plain": [
       "   Selection  begin_time   end_time Annotation           filename  call_length\n",
       "0          1   59.532117  60.647912          w  180913_081527 (1)     1.115795\n",
       "1          2   59.652743  60.937416          w  180913_081527 (1)     1.284672\n",
       "2          3   62.137650  63.609293          w  180913_081527 (1)     1.471644\n",
       "3          4   62.559843  63.434385          w  180913_081527 (1)     0.874542\n",
       "4          5   66.978572  68.263244          w  180913_081527 (1)     1.284672"
      ]
     },
     "execution_count": 162,
     "metadata": {},
     "output_type": "execute_result"
    }
   ],
   "source": [
    "df.head()"
   ]
  },
  {
   "cell_type": "code",
   "execution_count": 163,
   "id": "dd171fd4",
   "metadata": {},
   "outputs": [
    {
     "data": {
      "text/html": [
       "<div>\n",
       "<style scoped>\n",
       "    .dataframe tbody tr th:only-of-type {\n",
       "        vertical-align: middle;\n",
       "    }\n",
       "\n",
       "    .dataframe tbody tr th {\n",
       "        vertical-align: top;\n",
       "    }\n",
       "\n",
       "    .dataframe thead th {\n",
       "        text-align: right;\n",
       "    }\n",
       "</style>\n",
       "<table border=\"1\" class=\"dataframe\">\n",
       "  <thead>\n",
       "    <tr style=\"text-align: right;\">\n",
       "      <th></th>\n",
       "      <th>Selection</th>\n",
       "      <th>begin_time</th>\n",
       "      <th>end_time</th>\n",
       "      <th>Annotation</th>\n",
       "      <th>filename</th>\n",
       "      <th>call_length</th>\n",
       "    </tr>\n",
       "  </thead>\n",
       "  <tbody>\n",
       "    <tr>\n",
       "      <th>0</th>\n",
       "      <td>1</td>\n",
       "      <td>59.532117</td>\n",
       "      <td>60.937416</td>\n",
       "      <td>w</td>\n",
       "      <td>180913_081527 (1)</td>\n",
       "      <td>1.115795</td>\n",
       "    </tr>\n",
       "    <tr>\n",
       "      <th>2</th>\n",
       "      <td>3</td>\n",
       "      <td>62.137650</td>\n",
       "      <td>63.434385</td>\n",
       "      <td>w</td>\n",
       "      <td>180913_081527 (1)</td>\n",
       "      <td>1.471644</td>\n",
       "    </tr>\n",
       "    <tr>\n",
       "      <th>4</th>\n",
       "      <td>178</td>\n",
       "      <td>64.068321</td>\n",
       "      <td>65.576152</td>\n",
       "      <td>w</td>\n",
       "      <td>180913_081527 (1)</td>\n",
       "      <td>1.507831</td>\n",
       "    </tr>\n",
       "    <tr>\n",
       "      <th>5</th>\n",
       "      <td>5</td>\n",
       "      <td>66.978572</td>\n",
       "      <td>68.263244</td>\n",
       "      <td>w</td>\n",
       "      <td>180913_081527 (1)</td>\n",
       "      <td>1.284672</td>\n",
       "    </tr>\n",
       "    <tr>\n",
       "      <th>6</th>\n",
       "      <td>6</td>\n",
       "      <td>68.329589</td>\n",
       "      <td>69.511729</td>\n",
       "      <td>w</td>\n",
       "      <td>180913_081527 (1)</td>\n",
       "      <td>1.182140</td>\n",
       "    </tr>\n",
       "    <tr>\n",
       "      <th>7</th>\n",
       "      <td>7</td>\n",
       "      <td>71.271167</td>\n",
       "      <td>72.754873</td>\n",
       "      <td>w</td>\n",
       "      <td>180913_081527 (1)</td>\n",
       "      <td>1.887805</td>\n",
       "    </tr>\n",
       "    <tr>\n",
       "      <th>9</th>\n",
       "      <td>10</td>\n",
       "      <td>74.972095</td>\n",
       "      <td>76.172329</td>\n",
       "      <td>w</td>\n",
       "      <td>180913_081527 (1)</td>\n",
       "      <td>1.109764</td>\n",
       "    </tr>\n",
       "    <tr>\n",
       "      <th>11</th>\n",
       "      <td>12</td>\n",
       "      <td>77.059941</td>\n",
       "      <td>78.061142</td>\n",
       "      <td>w</td>\n",
       "      <td>180913_081527 (1)</td>\n",
       "      <td>1.151983</td>\n",
       "    </tr>\n",
       "    <tr>\n",
       "      <th>13</th>\n",
       "      <td>14</td>\n",
       "      <td>80.034604</td>\n",
       "      <td>81.650999</td>\n",
       "      <td>w</td>\n",
       "      <td>180913_081527 (1)</td>\n",
       "      <td>1.616395</td>\n",
       "    </tr>\n",
       "    <tr>\n",
       "      <th>14</th>\n",
       "      <td>15</td>\n",
       "      <td>82.201279</td>\n",
       "      <td>83.570390</td>\n",
       "      <td>w</td>\n",
       "      <td>180913_081527 (1)</td>\n",
       "      <td>1.369111</td>\n",
       "    </tr>\n",
       "    <tr>\n",
       "      <th>15</th>\n",
       "      <td>16</td>\n",
       "      <td>84.318814</td>\n",
       "      <td>85.368265</td>\n",
       "      <td>w</td>\n",
       "      <td>180913_081527 (1)</td>\n",
       "      <td>1.049451</td>\n",
       "    </tr>\n",
       "    <tr>\n",
       "      <th>16</th>\n",
       "      <td>19</td>\n",
       "      <td>85.788869</td>\n",
       "      <td>87.194168</td>\n",
       "      <td>w</td>\n",
       "      <td>180913_081527 (1)</td>\n",
       "      <td>1.405299</td>\n",
       "    </tr>\n",
       "    <tr>\n",
       "      <th>17</th>\n",
       "      <td>20</td>\n",
       "      <td>87.866677</td>\n",
       "      <td>89.192907</td>\n",
       "      <td>w</td>\n",
       "      <td>180913_081527 (1)</td>\n",
       "      <td>1.326230</td>\n",
       "    </tr>\n",
       "    <tr>\n",
       "      <th>18</th>\n",
       "      <td>193</td>\n",
       "      <td>89.236469</td>\n",
       "      <td>90.247111</td>\n",
       "      <td>w</td>\n",
       "      <td>180913_081527 (1)</td>\n",
       "      <td>1.010643</td>\n",
       "    </tr>\n",
       "    <tr>\n",
       "      <th>19</th>\n",
       "      <td>25</td>\n",
       "      <td>90.665330</td>\n",
       "      <td>92.305850</td>\n",
       "      <td>w</td>\n",
       "      <td>180913_081527 (1)</td>\n",
       "      <td>1.519894</td>\n",
       "    </tr>\n",
       "    <tr>\n",
       "      <th>21</th>\n",
       "      <td>27</td>\n",
       "      <td>95.512035</td>\n",
       "      <td>96.066917</td>\n",
       "      <td>w</td>\n",
       "      <td>180913_081527 (1)</td>\n",
       "      <td>0.554882</td>\n",
       "    </tr>\n",
       "    <tr>\n",
       "      <th>22</th>\n",
       "      <td>29</td>\n",
       "      <td>96.097074</td>\n",
       "      <td>97.568717</td>\n",
       "      <td>w</td>\n",
       "      <td>180913_081527 (1)</td>\n",
       "      <td>1.471644</td>\n",
       "    </tr>\n",
       "    <tr>\n",
       "      <th>23</th>\n",
       "      <td>30</td>\n",
       "      <td>100.138801</td>\n",
       "      <td>101.429505</td>\n",
       "      <td>w</td>\n",
       "      <td>180913_081527 (1)</td>\n",
       "      <td>1.212297</td>\n",
       "    </tr>\n",
       "    <tr>\n",
       "      <th>25</th>\n",
       "      <td>32</td>\n",
       "      <td>103.048351</td>\n",
       "      <td>105.102033</td>\n",
       "      <td>w</td>\n",
       "      <td>180913_081527 (1)</td>\n",
       "      <td>1.990338</td>\n",
       "    </tr>\n",
       "    <tr>\n",
       "      <th>27</th>\n",
       "      <td>34</td>\n",
       "      <td>105.397568</td>\n",
       "      <td>106.483206</td>\n",
       "      <td>w</td>\n",
       "      <td>180913_081527 (1)</td>\n",
       "      <td>1.085639</td>\n",
       "    </tr>\n",
       "  </tbody>\n",
       "</table>\n",
       "</div>"
      ],
      "text/plain": [
       "    Selection  begin_time    end_time Annotation           filename  \\\n",
       "0           1   59.532117   60.937416          w  180913_081527 (1)   \n",
       "2           3   62.137650   63.434385          w  180913_081527 (1)   \n",
       "4         178   64.068321   65.576152          w  180913_081527 (1)   \n",
       "5           5   66.978572   68.263244          w  180913_081527 (1)   \n",
       "6           6   68.329589   69.511729          w  180913_081527 (1)   \n",
       "7           7   71.271167   72.754873          w  180913_081527 (1)   \n",
       "9          10   74.972095   76.172329          w  180913_081527 (1)   \n",
       "11         12   77.059941   78.061142          w  180913_081527 (1)   \n",
       "13         14   80.034604   81.650999          w  180913_081527 (1)   \n",
       "14         15   82.201279   83.570390          w  180913_081527 (1)   \n",
       "15         16   84.318814   85.368265          w  180913_081527 (1)   \n",
       "16         19   85.788869   87.194168          w  180913_081527 (1)   \n",
       "17         20   87.866677   89.192907          w  180913_081527 (1)   \n",
       "18        193   89.236469   90.247111          w  180913_081527 (1)   \n",
       "19         25   90.665330   92.305850          w  180913_081527 (1)   \n",
       "21         27   95.512035   96.066917          w  180913_081527 (1)   \n",
       "22         29   96.097074   97.568717          w  180913_081527 (1)   \n",
       "23         30  100.138801  101.429505          w  180913_081527 (1)   \n",
       "25         32  103.048351  105.102033          w  180913_081527 (1)   \n",
       "27         34  105.397568  106.483206          w  180913_081527 (1)   \n",
       "\n",
       "    call_length  \n",
       "0      1.115795  \n",
       "2      1.471644  \n",
       "4      1.507831  \n",
       "5      1.284672  \n",
       "6      1.182140  \n",
       "7      1.887805  \n",
       "9      1.109764  \n",
       "11     1.151983  \n",
       "13     1.616395  \n",
       "14     1.369111  \n",
       "15     1.049451  \n",
       "16     1.405299  \n",
       "17     1.326230  \n",
       "18     1.010643  \n",
       "19     1.519894  \n",
       "21     0.554882  \n",
       "22     1.471644  \n",
       "23     1.212297  \n",
       "25     1.990338  \n",
       "27     1.085639  "
      ]
     },
     "execution_count": 163,
     "metadata": {},
     "output_type": "execute_result"
    }
   ],
   "source": [
    "df_no_overlap.sort_values(['filename', 'begin_time']).head(20)"
   ]
  },
  {
   "cell_type": "markdown",
   "id": "c3188692",
   "metadata": {},
   "source": [
    "## mark gaps as background"
   ]
  },
  {
   "cell_type": "code",
   "execution_count": 164,
   "id": "048bee4c",
   "metadata": {},
   "outputs": [],
   "source": [
    "df_bg = df_no_overlap[['filename', 'begin_time', 'end_time']].sort_values(['filename', 'begin_time']).reset_index(drop=True).copy()\n"
   ]
  },
  {
   "cell_type": "code",
   "execution_count": 165,
   "id": "738a250e",
   "metadata": {},
   "outputs": [
    {
     "data": {
      "text/html": [
       "<div>\n",
       "<style scoped>\n",
       "    .dataframe tbody tr th:only-of-type {\n",
       "        vertical-align: middle;\n",
       "    }\n",
       "\n",
       "    .dataframe tbody tr th {\n",
       "        vertical-align: top;\n",
       "    }\n",
       "\n",
       "    .dataframe thead th {\n",
       "        text-align: right;\n",
       "    }\n",
       "</style>\n",
       "<table border=\"1\" class=\"dataframe\">\n",
       "  <thead>\n",
       "    <tr style=\"text-align: right;\">\n",
       "      <th></th>\n",
       "      <th>filename</th>\n",
       "      <th>begin_time</th>\n",
       "      <th>end_time</th>\n",
       "    </tr>\n",
       "  </thead>\n",
       "  <tbody>\n",
       "    <tr>\n",
       "      <th>0</th>\n",
       "      <td>180913_081527 (1)</td>\n",
       "      <td>59.532117</td>\n",
       "      <td>60.937416</td>\n",
       "    </tr>\n",
       "    <tr>\n",
       "      <th>1</th>\n",
       "      <td>180913_081527 (1)</td>\n",
       "      <td>62.137650</td>\n",
       "      <td>63.434385</td>\n",
       "    </tr>\n",
       "    <tr>\n",
       "      <th>2</th>\n",
       "      <td>180913_081527 (1)</td>\n",
       "      <td>64.068321</td>\n",
       "      <td>65.576152</td>\n",
       "    </tr>\n",
       "    <tr>\n",
       "      <th>3</th>\n",
       "      <td>180913_081527 (1)</td>\n",
       "      <td>66.978572</td>\n",
       "      <td>68.263244</td>\n",
       "    </tr>\n",
       "    <tr>\n",
       "      <th>4</th>\n",
       "      <td>180913_081527 (1)</td>\n",
       "      <td>68.329589</td>\n",
       "      <td>69.511729</td>\n",
       "    </tr>\n",
       "  </tbody>\n",
       "</table>\n",
       "</div>"
      ],
      "text/plain": [
       "            filename  begin_time   end_time\n",
       "0  180913_081527 (1)   59.532117  60.937416\n",
       "1  180913_081527 (1)   62.137650  63.434385\n",
       "2  180913_081527 (1)   64.068321  65.576152\n",
       "3  180913_081527 (1)   66.978572  68.263244\n",
       "4  180913_081527 (1)   68.329589  69.511729"
      ]
     },
     "execution_count": 165,
     "metadata": {},
     "output_type": "execute_result"
    }
   ],
   "source": [
    "df_bg.head()"
   ]
  },
  {
   "cell_type": "code",
   "execution_count": 166,
   "id": "869bc9e1",
   "metadata": {},
   "outputs": [],
   "source": [
    "df_bg['next_begin_time'] = df_bg.groupby('filename').begin_time.shift(-1)\n",
    "# df_bg['next_end_time'] = df_bg.groupby('filename').end_time.shift(-1)"
   ]
  },
  {
   "cell_type": "code",
   "execution_count": 167,
   "id": "a3749fcd",
   "metadata": {},
   "outputs": [],
   "source": [
    "\n",
    "df_bg = df_bg.rename({'end_time': 'bg_begin_time', 'next_begin_time': 'bg_end_time'}, axis=1)"
   ]
  },
  {
   "cell_type": "markdown",
   "id": "7213be0a",
   "metadata": {},
   "source": [
    "Manually look at shifts between different recordings to make sure there aren't mix-ups:"
   ]
  },
  {
   "cell_type": "code",
   "execution_count": 168,
   "id": "b0743847",
   "metadata": {},
   "outputs": [
    {
     "data": {
      "text/plain": [
       "array(['180913_081527 (1)', '210824-095226_Tr1.txt',\n",
       "       '210824-095226_Tr2.txt', '210824-100209_Tr1.txt',\n",
       "       '210824-100209_Tr2.txt', '210824-104507_Tr1',\n",
       "       '210824-104507_Tr1.txt', '210824-115331_Tr1.txt',\n",
       "       '210824-125439_Tr1.txt', '210825-102141_Tr1.txt',\n",
       "       '210825-112937_Tr1.txt', '210825-112937_Tr2.txt',\n",
       "       '210825-132034_Tr1', '210825-132034_Tr2', '210825-135601_Tr1',\n",
       "       '210825-135601_Tr1.Table.1.selections (1).txt',\n",
       "       '210825-135601_Tr1.txt', '210826-083608_Tr1', '210827-081513_Tr1',\n",
       "       '210827-081513_Tr2', '210827-090209_Tr1',\n",
       "       '210827-133618_Tr1.Table.1.selections.donetxt.txt',\n",
       "       '210827-133618_Tr2', '210828-080644_Tr1', '210903-095104_Tr1',\n",
       "       '210903-095104_Tr2', '210903-110841_Tr1', '210903-110841_Tr2',\n",
       "       '210904-074321_Tr1', '210904-111316_Tr2(first 4 minutes)(1).txt',\n",
       "       '210904-111316_Tr2(first 4 minutes).txt', '210904-111316_Tr2.txt',\n",
       "       '25-115438_Tr2'], dtype=object)"
      ]
     },
     "execution_count": 168,
     "metadata": {},
     "output_type": "execute_result"
    },
    {
     "data": {
      "text/plain": [
       "210824-115331_Tr1.txt                               737\n",
       "210904-074321_Tr1                                   676\n",
       "210824-104507_Tr1.txt                               633\n",
       "210826-083608_Tr1                                   614\n",
       "210824-125439_Tr1.txt                               594\n",
       "210827-081513_Tr2                                   577\n",
       "210828-080644_Tr1                                   538\n",
       "210825-135601_Tr1.txt                               513\n",
       "210825-135601_Tr1                                   479\n",
       "210825-135601_Tr1.Table.1.selections (1).txt        479\n",
       "210825-102141_Tr1.txt                               443\n",
       "210827-090209_Tr1                                   405\n",
       "210827-081513_Tr1                                   368\n",
       "210904-111316_Tr2(first 4 minutes)(1).txt           360\n",
       "210904-111316_Tr2(first 4 minutes).txt              360\n",
       "210904-111316_Tr2.txt                               317\n",
       "210825-132034_Tr2                                   302\n",
       "210825-132034_Tr1                                   264\n",
       "210824-104507_Tr1                                   233\n",
       "210903-110841_Tr2                                   223\n",
       "210825-112937_Tr2.txt                               214\n",
       "210825-112937_Tr1.txt                               212\n",
       "210903-110841_Tr1                                   194\n",
       "25-115438_Tr2                                       187\n",
       "210827-133618_Tr1.Table.1.selections.donetxt.txt    180\n",
       "180913_081527 (1)                                   116\n",
       "210824-100209_Tr1.txt                                81\n",
       "210824-095226_Tr1.txt                                67\n",
       "210827-133618_Tr2                                    64\n",
       "210824-095226_Tr2.txt                                55\n",
       "210824-100209_Tr2.txt                                44\n",
       "210903-095104_Tr1                                    25\n",
       "210903-095104_Tr2                                    19\n",
       "Name: filename, dtype: int64"
      ]
     },
     "execution_count": 168,
     "metadata": {},
     "output_type": "execute_result"
    }
   ],
   "source": [
    "df_bg.filename.unique()\n",
    "df_bg.filename.value_counts(dropna=False)"
   ]
  },
  {
   "cell_type": "code",
   "execution_count": 169,
   "id": "8bbb79d7",
   "metadata": {},
   "outputs": [
    {
     "data": {
      "text/html": [
       "<div>\n",
       "<style scoped>\n",
       "    .dataframe tbody tr th:only-of-type {\n",
       "        vertical-align: middle;\n",
       "    }\n",
       "\n",
       "    .dataframe tbody tr th {\n",
       "        vertical-align: top;\n",
       "    }\n",
       "\n",
       "    .dataframe thead th {\n",
       "        text-align: right;\n",
       "    }\n",
       "</style>\n",
       "<table border=\"1\" class=\"dataframe\">\n",
       "  <thead>\n",
       "    <tr style=\"text-align: right;\">\n",
       "      <th></th>\n",
       "      <th>filename</th>\n",
       "      <th>begin_time</th>\n",
       "      <th>bg_begin_time</th>\n",
       "      <th>bg_end_time</th>\n",
       "    </tr>\n",
       "  </thead>\n",
       "  <tbody>\n",
       "    <tr>\n",
       "      <th>110</th>\n",
       "      <td>180913_081527 (1)</td>\n",
       "      <td>283.243070</td>\n",
       "      <td>284.198384</td>\n",
       "      <td>286.704075</td>\n",
       "    </tr>\n",
       "    <tr>\n",
       "      <th>111</th>\n",
       "      <td>180913_081527 (1)</td>\n",
       "      <td>286.704075</td>\n",
       "      <td>287.420560</td>\n",
       "      <td>289.842962</td>\n",
       "    </tr>\n",
       "    <tr>\n",
       "      <th>112</th>\n",
       "      <td>180913_081527 (1)</td>\n",
       "      <td>289.842962</td>\n",
       "      <td>290.542387</td>\n",
       "      <td>292.067182</td>\n",
       "    </tr>\n",
       "    <tr>\n",
       "      <th>113</th>\n",
       "      <td>180913_081527 (1)</td>\n",
       "      <td>292.067182</td>\n",
       "      <td>292.800726</td>\n",
       "      <td>296.314915</td>\n",
       "    </tr>\n",
       "    <tr>\n",
       "      <th>114</th>\n",
       "      <td>180913_081527 (1)</td>\n",
       "      <td>296.314915</td>\n",
       "      <td>298.208482</td>\n",
       "      <td>300.762484</td>\n",
       "    </tr>\n",
       "    <tr>\n",
       "      <th>115</th>\n",
       "      <td>180913_081527 (1)</td>\n",
       "      <td>300.762484</td>\n",
       "      <td>301.683679</td>\n",
       "      <td>NaN</td>\n",
       "    </tr>\n",
       "    <tr>\n",
       "      <th>116</th>\n",
       "      <td>210824-095226_Tr1.txt</td>\n",
       "      <td>18.700366</td>\n",
       "      <td>19.764583</td>\n",
       "      <td>20.169273</td>\n",
       "    </tr>\n",
       "    <tr>\n",
       "      <th>117</th>\n",
       "      <td>210824-095226_Tr1.txt</td>\n",
       "      <td>20.169273</td>\n",
       "      <td>20.650971</td>\n",
       "      <td>40.781279</td>\n",
       "    </tr>\n",
       "    <tr>\n",
       "      <th>118</th>\n",
       "      <td>210824-095226_Tr1.txt</td>\n",
       "      <td>40.781279</td>\n",
       "      <td>41.599046</td>\n",
       "      <td>44.016323</td>\n",
       "    </tr>\n",
       "    <tr>\n",
       "      <th>119</th>\n",
       "      <td>210824-095226_Tr1.txt</td>\n",
       "      <td>44.016323</td>\n",
       "      <td>44.733270</td>\n",
       "      <td>64.404870</td>\n",
       "    </tr>\n",
       "    <tr>\n",
       "      <th>120</th>\n",
       "      <td>210824-095226_Tr1.txt</td>\n",
       "      <td>64.404870</td>\n",
       "      <td>64.897771</td>\n",
       "      <td>72.605060</td>\n",
       "    </tr>\n",
       "    <tr>\n",
       "      <th>121</th>\n",
       "      <td>210824-095226_Tr1.txt</td>\n",
       "      <td>72.605060</td>\n",
       "      <td>73.109163</td>\n",
       "      <td>74.447204</td>\n",
       "    </tr>\n",
       "    <tr>\n",
       "      <th>122</th>\n",
       "      <td>210824-095226_Tr1.txt</td>\n",
       "      <td>74.447204</td>\n",
       "      <td>75.410601</td>\n",
       "      <td>76.689479</td>\n",
       "    </tr>\n",
       "    <tr>\n",
       "      <th>123</th>\n",
       "      <td>210824-095226_Tr1.txt</td>\n",
       "      <td>76.689479</td>\n",
       "      <td>77.294402</td>\n",
       "      <td>77.783556</td>\n",
       "    </tr>\n",
       "    <tr>\n",
       "      <th>124</th>\n",
       "      <td>210824-095226_Tr1.txt</td>\n",
       "      <td>77.783556</td>\n",
       "      <td>78.086018</td>\n",
       "      <td>78.086018</td>\n",
       "    </tr>\n",
       "    <tr>\n",
       "      <th>125</th>\n",
       "      <td>210824-095226_Tr1.txt</td>\n",
       "      <td>78.086018</td>\n",
       "      <td>78.646132</td>\n",
       "      <td>86.639123</td>\n",
       "    </tr>\n",
       "    <tr>\n",
       "      <th>126</th>\n",
       "      <td>210824-095226_Tr1.txt</td>\n",
       "      <td>86.639123</td>\n",
       "      <td>86.941585</td>\n",
       "      <td>121.018727</td>\n",
       "    </tr>\n",
       "    <tr>\n",
       "      <th>127</th>\n",
       "      <td>210824-095226_Tr1.txt</td>\n",
       "      <td>121.018727</td>\n",
       "      <td>121.948517</td>\n",
       "      <td>193.059164</td>\n",
       "    </tr>\n",
       "    <tr>\n",
       "      <th>128</th>\n",
       "      <td>210824-095226_Tr1.txt</td>\n",
       "      <td>193.059164</td>\n",
       "      <td>193.630481</td>\n",
       "      <td>197.183875</td>\n",
       "    </tr>\n",
       "    <tr>\n",
       "      <th>129</th>\n",
       "      <td>210824-095226_Tr1.txt</td>\n",
       "      <td>197.183875</td>\n",
       "      <td>197.867215</td>\n",
       "      <td>201.551799</td>\n",
       "    </tr>\n",
       "    <tr>\n",
       "      <th>130</th>\n",
       "      <td>210824-095226_Tr1.txt</td>\n",
       "      <td>201.551799</td>\n",
       "      <td>201.988688</td>\n",
       "      <td>208.121794</td>\n",
       "    </tr>\n",
       "  </tbody>\n",
       "</table>\n",
       "</div>"
      ],
      "text/plain": [
       "                  filename  begin_time  bg_begin_time  bg_end_time\n",
       "110      180913_081527 (1)  283.243070     284.198384   286.704075\n",
       "111      180913_081527 (1)  286.704075     287.420560   289.842962\n",
       "112      180913_081527 (1)  289.842962     290.542387   292.067182\n",
       "113      180913_081527 (1)  292.067182     292.800726   296.314915\n",
       "114      180913_081527 (1)  296.314915     298.208482   300.762484\n",
       "115      180913_081527 (1)  300.762484     301.683679          NaN\n",
       "116  210824-095226_Tr1.txt   18.700366      19.764583    20.169273\n",
       "117  210824-095226_Tr1.txt   20.169273      20.650971    40.781279\n",
       "118  210824-095226_Tr1.txt   40.781279      41.599046    44.016323\n",
       "119  210824-095226_Tr1.txt   44.016323      44.733270    64.404870\n",
       "120  210824-095226_Tr1.txt   64.404870      64.897771    72.605060\n",
       "121  210824-095226_Tr1.txt   72.605060      73.109163    74.447204\n",
       "122  210824-095226_Tr1.txt   74.447204      75.410601    76.689479\n",
       "123  210824-095226_Tr1.txt   76.689479      77.294402    77.783556\n",
       "124  210824-095226_Tr1.txt   77.783556      78.086018    78.086018\n",
       "125  210824-095226_Tr1.txt   78.086018      78.646132    86.639123\n",
       "126  210824-095226_Tr1.txt   86.639123      86.941585   121.018727\n",
       "127  210824-095226_Tr1.txt  121.018727     121.948517   193.059164\n",
       "128  210824-095226_Tr1.txt  193.059164     193.630481   197.183875\n",
       "129  210824-095226_Tr1.txt  197.183875     197.867215   201.551799\n",
       "130  210824-095226_Tr1.txt  201.551799     201.988688   208.121794"
      ]
     },
     "execution_count": 169,
     "metadata": {},
     "output_type": "execute_result"
    }
   ],
   "source": [
    "df_bg.loc[110:130]"
   ]
  },
  {
   "cell_type": "code",
   "execution_count": 170,
   "id": "fd7c20df",
   "metadata": {},
   "outputs": [
    {
     "data": {
      "text/html": [
       "<div>\n",
       "<style scoped>\n",
       "    .dataframe tbody tr th:only-of-type {\n",
       "        vertical-align: middle;\n",
       "    }\n",
       "\n",
       "    .dataframe tbody tr th {\n",
       "        vertical-align: top;\n",
       "    }\n",
       "\n",
       "    .dataframe thead th {\n",
       "        text-align: right;\n",
       "    }\n",
       "</style>\n",
       "<table border=\"1\" class=\"dataframe\">\n",
       "  <thead>\n",
       "    <tr style=\"text-align: right;\">\n",
       "      <th></th>\n",
       "      <th>filename</th>\n",
       "      <th>begin_time</th>\n",
       "      <th>bg_begin_time</th>\n",
       "      <th>bg_end_time</th>\n",
       "    </tr>\n",
       "  </thead>\n",
       "  <tbody>\n",
       "    <tr>\n",
       "      <th>10568</th>\n",
       "      <td>25-115438_Tr2</td>\n",
       "      <td>579.313619</td>\n",
       "      <td>580.243479</td>\n",
       "      <td>580.662828</td>\n",
       "    </tr>\n",
       "    <tr>\n",
       "      <th>10569</th>\n",
       "      <td>25-115438_Tr2</td>\n",
       "      <td>580.662828</td>\n",
       "      <td>581.683851</td>\n",
       "      <td>581.838828</td>\n",
       "    </tr>\n",
       "    <tr>\n",
       "      <th>10570</th>\n",
       "      <td>25-115438_Tr2</td>\n",
       "      <td>581.838828</td>\n",
       "      <td>582.759572</td>\n",
       "      <td>583.115107</td>\n",
       "    </tr>\n",
       "    <tr>\n",
       "      <th>10571</th>\n",
       "      <td>25-115438_Tr2</td>\n",
       "      <td>583.115107</td>\n",
       "      <td>584.281991</td>\n",
       "      <td>584.327572</td>\n",
       "    </tr>\n",
       "    <tr>\n",
       "      <th>10572</th>\n",
       "      <td>25-115438_Tr2</td>\n",
       "      <td>584.327572</td>\n",
       "      <td>585.175386</td>\n",
       "      <td>NaN</td>\n",
       "    </tr>\n",
       "  </tbody>\n",
       "</table>\n",
       "</div>"
      ],
      "text/plain": [
       "            filename  begin_time  bg_begin_time  bg_end_time\n",
       "10568  25-115438_Tr2  579.313619     580.243479   580.662828\n",
       "10569  25-115438_Tr2  580.662828     581.683851   581.838828\n",
       "10570  25-115438_Tr2  581.838828     582.759572   583.115107\n",
       "10571  25-115438_Tr2  583.115107     584.281991   584.327572\n",
       "10572  25-115438_Tr2  584.327572     585.175386          NaN"
      ]
     },
     "execution_count": 170,
     "metadata": {},
     "output_type": "execute_result"
    }
   ],
   "source": [
    "df_bg.tail()"
   ]
  },
  {
   "cell_type": "code",
   "execution_count": 171,
   "id": "6697660e",
   "metadata": {},
   "outputs": [
    {
     "data": {
      "text/plain": [
       "10386"
      ]
     },
     "execution_count": 171,
     "metadata": {},
     "output_type": "execute_result"
    }
   ],
   "source": [
    "df_bg[df_bg.filename=='25-115438_Tr2'].index.min()"
   ]
  },
  {
   "cell_type": "code",
   "execution_count": 172,
   "id": "af71dcc9",
   "metadata": {},
   "outputs": [
    {
     "data": {
      "text/html": [
       "<div>\n",
       "<style scoped>\n",
       "    .dataframe tbody tr th:only-of-type {\n",
       "        vertical-align: middle;\n",
       "    }\n",
       "\n",
       "    .dataframe tbody tr th {\n",
       "        vertical-align: top;\n",
       "    }\n",
       "\n",
       "    .dataframe thead th {\n",
       "        text-align: right;\n",
       "    }\n",
       "</style>\n",
       "<table border=\"1\" class=\"dataframe\">\n",
       "  <thead>\n",
       "    <tr style=\"text-align: right;\">\n",
       "      <th></th>\n",
       "      <th>filename</th>\n",
       "      <th>begin_time</th>\n",
       "      <th>bg_begin_time</th>\n",
       "      <th>bg_end_time</th>\n",
       "    </tr>\n",
       "  </thead>\n",
       "  <tbody>\n",
       "  </tbody>\n",
       "</table>\n",
       "</div>"
      ],
      "text/plain": [
       "Empty DataFrame\n",
       "Columns: [filename, begin_time, bg_begin_time, bg_end_time]\n",
       "Index: []"
      ]
     },
     "execution_count": 172,
     "metadata": {},
     "output_type": "execute_result"
    }
   ],
   "source": [
    "df_bg.loc[10900:10917]"
   ]
  },
  {
   "cell_type": "markdown",
   "id": "ac993915",
   "metadata": {},
   "source": [
    "## Finalize bg annotation df"
   ]
  },
  {
   "cell_type": "code",
   "execution_count": 173,
   "id": "5ea3eadc",
   "metadata": {},
   "outputs": [
    {
     "data": {
      "text/plain": [
       "33"
      ]
     },
     "execution_count": 173,
     "metadata": {},
     "output_type": "execute_result"
    }
   ],
   "source": [
    "df_bg.filename.nunique()"
   ]
  },
  {
   "cell_type": "code",
   "execution_count": 174,
   "id": "f430da5a",
   "metadata": {},
   "outputs": [
    {
     "data": {
      "text/plain": [
       "(10573, 4)"
      ]
     },
     "execution_count": 174,
     "metadata": {},
     "output_type": "execute_result"
    },
    {
     "data": {
      "text/plain": [
       "(10540, 4)"
      ]
     },
     "execution_count": 174,
     "metadata": {},
     "output_type": "execute_result"
    }
   ],
   "source": [
    "df_bg.shape\n",
    "df_bg = df_bg[~df_bg.bg_end_time.isna()]\n",
    "df_bg.shape"
   ]
  },
  {
   "cell_type": "code",
   "execution_count": 175,
   "id": "a2daa852",
   "metadata": {},
   "outputs": [],
   "source": [
    "df_bg = df_bg.drop('begin_time', axis=1)"
   ]
  },
  {
   "cell_type": "code",
   "execution_count": 176,
   "id": "08cb1f67",
   "metadata": {},
   "outputs": [],
   "source": [
    "df_bg['Annotation'] = 'bg'"
   ]
  },
  {
   "cell_type": "code",
   "execution_count": 182,
   "id": "6636e9d8",
   "metadata": {},
   "outputs": [],
   "source": [
    "df_bg['call_length'] = df_bg['end_time'] - df_bg['begin_time']"
   ]
  },
  {
   "cell_type": "code",
   "execution_count": 183,
   "id": "4ae51651",
   "metadata": {},
   "outputs": [
    {
     "data": {
      "text/html": [
       "<div>\n",
       "<style scoped>\n",
       "    .dataframe tbody tr th:only-of-type {\n",
       "        vertical-align: middle;\n",
       "    }\n",
       "\n",
       "    .dataframe tbody tr th {\n",
       "        vertical-align: top;\n",
       "    }\n",
       "\n",
       "    .dataframe thead th {\n",
       "        text-align: right;\n",
       "    }\n",
       "</style>\n",
       "<table border=\"1\" class=\"dataframe\">\n",
       "  <thead>\n",
       "    <tr style=\"text-align: right;\">\n",
       "      <th></th>\n",
       "      <th>filename</th>\n",
       "      <th>begin_time</th>\n",
       "      <th>end_time</th>\n",
       "      <th>Annotation</th>\n",
       "      <th>call_length</th>\n",
       "    </tr>\n",
       "  </thead>\n",
       "  <tbody>\n",
       "    <tr>\n",
       "      <th>0</th>\n",
       "      <td>180913_081527 (1)</td>\n",
       "      <td>60.937416</td>\n",
       "      <td>62.137650</td>\n",
       "      <td>bg</td>\n",
       "      <td>1.200234</td>\n",
       "    </tr>\n",
       "    <tr>\n",
       "      <th>1</th>\n",
       "      <td>180913_081527 (1)</td>\n",
       "      <td>63.434385</td>\n",
       "      <td>64.068321</td>\n",
       "      <td>bg</td>\n",
       "      <td>0.633936</td>\n",
       "    </tr>\n",
       "    <tr>\n",
       "      <th>2</th>\n",
       "      <td>180913_081527 (1)</td>\n",
       "      <td>65.576152</td>\n",
       "      <td>66.978572</td>\n",
       "      <td>bg</td>\n",
       "      <td>1.402420</td>\n",
       "    </tr>\n",
       "    <tr>\n",
       "      <th>3</th>\n",
       "      <td>180913_081527 (1)</td>\n",
       "      <td>68.263244</td>\n",
       "      <td>68.329589</td>\n",
       "      <td>bg</td>\n",
       "      <td>0.066345</td>\n",
       "    </tr>\n",
       "    <tr>\n",
       "      <th>4</th>\n",
       "      <td>180913_081527 (1)</td>\n",
       "      <td>69.511729</td>\n",
       "      <td>71.271167</td>\n",
       "      <td>bg</td>\n",
       "      <td>1.759438</td>\n",
       "    </tr>\n",
       "    <tr>\n",
       "      <th>...</th>\n",
       "      <td>...</td>\n",
       "      <td>...</td>\n",
       "      <td>...</td>\n",
       "      <td>...</td>\n",
       "      <td>...</td>\n",
       "    </tr>\n",
       "    <tr>\n",
       "      <th>10567</th>\n",
       "      <td>25-115438_Tr2</td>\n",
       "      <td>577.526285</td>\n",
       "      <td>579.313619</td>\n",
       "      <td>bg</td>\n",
       "      <td>1.787334</td>\n",
       "    </tr>\n",
       "    <tr>\n",
       "      <th>10568</th>\n",
       "      <td>25-115438_Tr2</td>\n",
       "      <td>580.243479</td>\n",
       "      <td>580.662828</td>\n",
       "      <td>bg</td>\n",
       "      <td>0.419349</td>\n",
       "    </tr>\n",
       "    <tr>\n",
       "      <th>10569</th>\n",
       "      <td>25-115438_Tr2</td>\n",
       "      <td>581.683851</td>\n",
       "      <td>581.838828</td>\n",
       "      <td>bg</td>\n",
       "      <td>0.154977</td>\n",
       "    </tr>\n",
       "    <tr>\n",
       "      <th>10570</th>\n",
       "      <td>25-115438_Tr2</td>\n",
       "      <td>582.759572</td>\n",
       "      <td>583.115107</td>\n",
       "      <td>bg</td>\n",
       "      <td>0.355535</td>\n",
       "    </tr>\n",
       "    <tr>\n",
       "      <th>10571</th>\n",
       "      <td>25-115438_Tr2</td>\n",
       "      <td>584.281991</td>\n",
       "      <td>584.327572</td>\n",
       "      <td>bg</td>\n",
       "      <td>0.045581</td>\n",
       "    </tr>\n",
       "  </tbody>\n",
       "</table>\n",
       "<p>10540 rows × 5 columns</p>\n",
       "</div>"
      ],
      "text/plain": [
       "                filename  begin_time    end_time Annotation  call_length\n",
       "0      180913_081527 (1)   60.937416   62.137650         bg     1.200234\n",
       "1      180913_081527 (1)   63.434385   64.068321         bg     0.633936\n",
       "2      180913_081527 (1)   65.576152   66.978572         bg     1.402420\n",
       "3      180913_081527 (1)   68.263244   68.329589         bg     0.066345\n",
       "4      180913_081527 (1)   69.511729   71.271167         bg     1.759438\n",
       "...                  ...         ...         ...        ...          ...\n",
       "10567      25-115438_Tr2  577.526285  579.313619         bg     1.787334\n",
       "10568      25-115438_Tr2  580.243479  580.662828         bg     0.419349\n",
       "10569      25-115438_Tr2  581.683851  581.838828         bg     0.154977\n",
       "10570      25-115438_Tr2  582.759572  583.115107         bg     0.355535\n",
       "10571      25-115438_Tr2  584.281991  584.327572         bg     0.045581\n",
       "\n",
       "[10540 rows x 5 columns]"
      ]
     },
     "execution_count": 183,
     "metadata": {},
     "output_type": "execute_result"
    }
   ],
   "source": [
    "df_bg"
   ]
  },
  {
   "cell_type": "markdown",
   "id": "cffe2e70",
   "metadata": {},
   "source": [
    "# Concat both dfs together"
   ]
  },
  {
   "cell_type": "code",
   "execution_count": 184,
   "id": "6359ebaa",
   "metadata": {},
   "outputs": [
    {
     "data": {
      "text/html": [
       "<div>\n",
       "<style scoped>\n",
       "    .dataframe tbody tr th:only-of-type {\n",
       "        vertical-align: middle;\n",
       "    }\n",
       "\n",
       "    .dataframe tbody tr th {\n",
       "        vertical-align: top;\n",
       "    }\n",
       "\n",
       "    .dataframe thead th {\n",
       "        text-align: right;\n",
       "    }\n",
       "</style>\n",
       "<table border=\"1\" class=\"dataframe\">\n",
       "  <thead>\n",
       "    <tr style=\"text-align: right;\">\n",
       "      <th></th>\n",
       "      <th>filename</th>\n",
       "      <th>begin_time</th>\n",
       "      <th>end_time</th>\n",
       "      <th>Annotation</th>\n",
       "      <th>call_length</th>\n",
       "    </tr>\n",
       "  </thead>\n",
       "  <tbody>\n",
       "    <tr>\n",
       "      <th>0</th>\n",
       "      <td>180913_081527 (1)</td>\n",
       "      <td>60.937416</td>\n",
       "      <td>62.137650</td>\n",
       "      <td>bg</td>\n",
       "      <td>1.200234</td>\n",
       "    </tr>\n",
       "    <tr>\n",
       "      <th>1</th>\n",
       "      <td>180913_081527 (1)</td>\n",
       "      <td>63.434385</td>\n",
       "      <td>64.068321</td>\n",
       "      <td>bg</td>\n",
       "      <td>0.633936</td>\n",
       "    </tr>\n",
       "    <tr>\n",
       "      <th>2</th>\n",
       "      <td>180913_081527 (1)</td>\n",
       "      <td>65.576152</td>\n",
       "      <td>66.978572</td>\n",
       "      <td>bg</td>\n",
       "      <td>1.402420</td>\n",
       "    </tr>\n",
       "    <tr>\n",
       "      <th>3</th>\n",
       "      <td>180913_081527 (1)</td>\n",
       "      <td>68.263244</td>\n",
       "      <td>68.329589</td>\n",
       "      <td>bg</td>\n",
       "      <td>0.066345</td>\n",
       "    </tr>\n",
       "    <tr>\n",
       "      <th>4</th>\n",
       "      <td>180913_081527 (1)</td>\n",
       "      <td>69.511729</td>\n",
       "      <td>71.271167</td>\n",
       "      <td>bg</td>\n",
       "      <td>1.759438</td>\n",
       "    </tr>\n",
       "  </tbody>\n",
       "</table>\n",
       "</div>"
      ],
      "text/plain": [
       "            filename  begin_time   end_time Annotation  call_length\n",
       "0  180913_081527 (1)   60.937416  62.137650         bg     1.200234\n",
       "1  180913_081527 (1)   63.434385  64.068321         bg     0.633936\n",
       "2  180913_081527 (1)   65.576152  66.978572         bg     1.402420\n",
       "3  180913_081527 (1)   68.263244  68.329589         bg     0.066345\n",
       "4  180913_081527 (1)   69.511729  71.271167         bg     1.759438"
      ]
     },
     "execution_count": 184,
     "metadata": {},
     "output_type": "execute_result"
    }
   ],
   "source": [
    "df_bg = df_bg.rename({'bg_begin_time': 'begin_time', 'bg_end_time': 'end_time'}, axis=1)\n",
    "df_bg.head()"
   ]
  },
  {
   "cell_type": "code",
   "execution_count": 185,
   "id": "2985b92b",
   "metadata": {},
   "outputs": [],
   "source": [
    "df_concat = pd.concat([df_bg, df_no_overlap[['begin_time', 'end_time', 'filename', 'call_length', 'Annotation']]])"
   ]
  },
  {
   "cell_type": "code",
   "execution_count": 186,
   "id": "323a4bfc",
   "metadata": {},
   "outputs": [],
   "source": [
    "df_concat = df_concat.rename({'Annotation': 'label'}, axis=1)"
   ]
  },
  {
   "cell_type": "code",
   "execution_count": 187,
   "id": "db9401b7",
   "metadata": {},
   "outputs": [
    {
     "data": {
      "text/html": [
       "<div>\n",
       "<style scoped>\n",
       "    .dataframe tbody tr th:only-of-type {\n",
       "        vertical-align: middle;\n",
       "    }\n",
       "\n",
       "    .dataframe tbody tr th {\n",
       "        vertical-align: top;\n",
       "    }\n",
       "\n",
       "    .dataframe thead th {\n",
       "        text-align: right;\n",
       "    }\n",
       "</style>\n",
       "<table border=\"1\" class=\"dataframe\">\n",
       "  <thead>\n",
       "    <tr style=\"text-align: right;\">\n",
       "      <th></th>\n",
       "      <th>filename</th>\n",
       "      <th>begin_time</th>\n",
       "      <th>end_time</th>\n",
       "      <th>label</th>\n",
       "      <th>call_length</th>\n",
       "    </tr>\n",
       "  </thead>\n",
       "  <tbody>\n",
       "    <tr>\n",
       "      <th>0</th>\n",
       "      <td>180913_081527 (1)</td>\n",
       "      <td>60.937416</td>\n",
       "      <td>62.137650</td>\n",
       "      <td>bg</td>\n",
       "      <td>1.200234</td>\n",
       "    </tr>\n",
       "    <tr>\n",
       "      <th>1</th>\n",
       "      <td>180913_081527 (1)</td>\n",
       "      <td>63.434385</td>\n",
       "      <td>64.068321</td>\n",
       "      <td>bg</td>\n",
       "      <td>0.633936</td>\n",
       "    </tr>\n",
       "    <tr>\n",
       "      <th>2</th>\n",
       "      <td>180913_081527 (1)</td>\n",
       "      <td>65.576152</td>\n",
       "      <td>66.978572</td>\n",
       "      <td>bg</td>\n",
       "      <td>1.402420</td>\n",
       "    </tr>\n",
       "    <tr>\n",
       "      <th>3</th>\n",
       "      <td>180913_081527 (1)</td>\n",
       "      <td>68.263244</td>\n",
       "      <td>68.329589</td>\n",
       "      <td>bg</td>\n",
       "      <td>0.066345</td>\n",
       "    </tr>\n",
       "    <tr>\n",
       "      <th>4</th>\n",
       "      <td>180913_081527 (1)</td>\n",
       "      <td>69.511729</td>\n",
       "      <td>71.271167</td>\n",
       "      <td>bg</td>\n",
       "      <td>1.759438</td>\n",
       "    </tr>\n",
       "  </tbody>\n",
       "</table>\n",
       "</div>"
      ],
      "text/plain": [
       "            filename  begin_time   end_time label  call_length\n",
       "0  180913_081527 (1)   60.937416  62.137650    bg     1.200234\n",
       "1  180913_081527 (1)   63.434385  64.068321    bg     0.633936\n",
       "2  180913_081527 (1)   65.576152  66.978572    bg     1.402420\n",
       "3  180913_081527 (1)   68.263244  68.329589    bg     0.066345\n",
       "4  180913_081527 (1)   69.511729  71.271167    bg     1.759438"
      ]
     },
     "execution_count": 187,
     "metadata": {},
     "output_type": "execute_result"
    }
   ],
   "source": [
    "df_concat.head()"
   ]
  },
  {
   "cell_type": "markdown",
   "id": "65f6b519",
   "metadata": {},
   "source": [
    "## Sanity"
   ]
  },
  {
   "cell_type": "markdown",
   "id": "19efd00b",
   "metadata": {},
   "source": [
    "Sanity: do we have the same number of 'w' annotations as 'bg' ones?"
   ]
  },
  {
   "cell_type": "code",
   "execution_count": 188,
   "id": "81b8f64e",
   "metadata": {},
   "outputs": [
    {
     "data": {
      "text/plain": [
       "w     10573\n",
       "bg    10540\n",
       "Name: label, dtype: int64"
      ]
     },
     "execution_count": 188,
     "metadata": {},
     "output_type": "execute_result"
    }
   ],
   "source": [
    "df_concat.label.value_counts()"
   ]
  },
  {
   "cell_type": "markdown",
   "id": "e01cd87e",
   "metadata": {},
   "source": [
    "Is the difference due to 'bg' not coming between a 'w'and the start/end of a recording?"
   ]
  },
  {
   "cell_type": "code",
   "execution_count": 189,
   "id": "53661e42",
   "metadata": {},
   "outputs": [
    {
     "data": {
      "text/plain": [
       "33"
      ]
     },
     "execution_count": 189,
     "metadata": {},
     "output_type": "execute_result"
    }
   ],
   "source": [
    "df_concat.filename.nunique()"
   ]
  },
  {
   "cell_type": "markdown",
   "id": "4fe8dfa2",
   "metadata": {},
   "source": [
    "Yes. Good."
   ]
  },
  {
   "cell_type": "markdown",
   "id": "e5632db8",
   "metadata": {},
   "source": [
    "## Save"
   ]
  },
  {
   "cell_type": "code",
   "execution_count": 190,
   "id": "bdace95a",
   "metadata": {},
   "outputs": [],
   "source": [
    "df_concat.to_csv('../datasets/mozambique_2021/2021_data_prepped_with_bg.csv', index=False)"
   ]
  },
  {
   "cell_type": "markdown",
   "id": "6eb7d088",
   "metadata": {},
   "source": [
    "# Split to sets"
   ]
  },
  {
   "cell_type": "markdown",
   "id": "b1abb618",
   "metadata": {},
   "source": [
    "## Different ratios"
   ]
  },
  {
   "cell_type": "markdown",
   "id": "396f3473",
   "metadata": {},
   "source": [
    "### By: 60% - 20% - 20%"
   ]
  },
  {
   "cell_type": "code",
   "execution_count": 192,
   "id": "953cc813",
   "metadata": {},
   "outputs": [],
   "source": [
    "df_train, df_test = train_test_split(df_concat, test_size=0.2, random_state=1)"
   ]
  },
  {
   "cell_type": "code",
   "execution_count": 193,
   "id": "9f39a40e",
   "metadata": {},
   "outputs": [],
   "source": [
    " df_train, df_val = train_test_split(df_train, test_size=0.25, random_state=1) # 0.25 x 0.8 = 0.2"
   ]
  },
  {
   "cell_type": "code",
   "execution_count": 194,
   "id": "91480ee8",
   "metadata": {},
   "outputs": [
    {
     "data": {
      "text/plain": [
       "(12667, 5)"
      ]
     },
     "execution_count": 194,
     "metadata": {},
     "output_type": "execute_result"
    },
    {
     "data": {
      "text/plain": [
       "(4223, 5)"
      ]
     },
     "execution_count": 194,
     "metadata": {},
     "output_type": "execute_result"
    },
    {
     "data": {
      "text/plain": [
       "(4223, 5)"
      ]
     },
     "execution_count": 194,
     "metadata": {},
     "output_type": "execute_result"
    }
   ],
   "source": [
    "df_train.shape\n",
    "df_test.shape\n",
    "df_val.shape"
   ]
  },
  {
   "cell_type": "markdown",
   "id": "1e3ed946",
   "metadata": {},
   "source": [
    "### By: 80% - 10% - 10%"
   ]
  },
  {
   "cell_type": "code",
   "execution_count": 209,
   "id": "7d80f0c3",
   "metadata": {},
   "outputs": [],
   "source": [
    "df_train, df_test = train_test_split(df_concat, test_size=0.1, random_state=1)\n",
    "df_train, df_val = train_test_split(df_train, test_size=0.111, random_state=1) # 0.25 x 0.9 = 0.1"
   ]
  },
  {
   "cell_type": "code",
   "execution_count": 210,
   "id": "87a8e3fd",
   "metadata": {},
   "outputs": [
    {
     "data": {
      "text/plain": [
       "(16891, 5)"
      ]
     },
     "execution_count": 210,
     "metadata": {},
     "output_type": "execute_result"
    },
    {
     "data": {
      "text/plain": [
       "(2112, 5)"
      ]
     },
     "execution_count": 210,
     "metadata": {},
     "output_type": "execute_result"
    },
    {
     "data": {
      "text/plain": [
       "(2110, 5)"
      ]
     },
     "execution_count": 210,
     "metadata": {},
     "output_type": "execute_result"
    }
   ],
   "source": [
    "df_train.shape\n",
    "df_test.shape\n",
    "df_val.shape"
   ]
  },
  {
   "cell_type": "markdown",
   "id": "f407d6ee",
   "metadata": {},
   "source": [
    "## Save"
   ]
  },
  {
   "cell_type": "code",
   "execution_count": 213,
   "id": "62cc7ea7",
   "metadata": {},
   "outputs": [],
   "source": [
    "df_train.to_csv('../datasets/mozambique_2021/2021_data_prepped_with_bg_train.csv', index=False)\n",
    "df_test.to_csv('../datasets/mozambique_2021/2021_data_prepped_with_bg_test.csv', index=False)\n",
    "df_val.to_csv('../datasets/mozambique_2021/2021_data_prepped_with_bg_val.csv', index=False)"
   ]
  },
  {
   "cell_type": "code",
   "execution_count": null,
   "id": "da514111",
   "metadata": {},
   "outputs": [],
   "source": []
  }
 ],
 "metadata": {
  "kernelspec": {
   "display_name": "soundbay",
   "language": "python",
   "name": "soundbay"
  },
  "language_info": {
   "codemirror_mode": {
    "name": "ipython",
    "version": 3
   },
   "file_extension": ".py",
   "mimetype": "text/x-python",
   "name": "python",
   "nbconvert_exporter": "python",
   "pygments_lexer": "ipython3",
   "version": "3.8.10"
  },
  "toc": {
   "base_numbering": 1,
   "nav_menu": {},
   "number_sections": true,
   "sideBar": true,
   "skip_h1_title": false,
   "title_cell": "Table of Contents",
   "title_sidebar": "Contents",
   "toc_cell": false,
   "toc_position": {},
   "toc_section_display": true,
   "toc_window_display": true
  },
  "varInspector": {
   "cols": {
    "lenName": 16,
    "lenType": 16,
    "lenVar": 40
   },
   "kernels_config": {
    "python": {
     "delete_cmd_postfix": "",
     "delete_cmd_prefix": "del ",
     "library": "var_list.py",
     "varRefreshCmd": "print(var_dic_list())"
    },
    "r": {
     "delete_cmd_postfix": ") ",
     "delete_cmd_prefix": "rm(",
     "library": "var_list.r",
     "varRefreshCmd": "cat(var_dic_list()) "
    }
   },
   "types_to_exclude": [
    "module",
    "function",
    "builtin_function_or_method",
    "instance",
    "_Feature"
   ],
   "window_display": false
  }
 },
 "nbformat": 4,
 "nbformat_minor": 5
}
