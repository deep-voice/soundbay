{
 "cells": [
  {
   "cell_type": "code",
   "execution_count": 30,
   "id": "51c89415",
   "metadata": {},
   "outputs": [],
   "source": [
    "import numpy as np\n",
    "import pandas as pd\n",
    "import os\n",
    "from sklearn.model_selection import train_test_split\n",
    "\n",
    "pd.options.display.max_rows = 1000\n",
    "pd.options.display.max_columns = 1000\n",
    "pd.options.display.max_colwidth = None\n",
    "\n",
    "from IPython.core.interactiveshell import InteractiveShell\n",
    "\n",
    "InteractiveShell.ast_node_interactivity = \"all\""
   ]
  },
  {
   "cell_type": "code",
   "execution_count": 2,
   "id": "138722af",
   "metadata": {},
   "outputs": [],
   "source": [
    "from soundbay.utils.metadata_processing import load_n_adapt_raven_annotation_table_to_dv_dataset_requirements"
   ]
  },
  {
   "cell_type": "markdown",
   "id": "f330a23f",
   "metadata": {},
   "source": [
    "# params"
   ]
  },
  {
   "cell_type": "code",
   "execution_count": 3,
   "id": "a32faa34",
   "metadata": {},
   "outputs": [],
   "source": [
    "annotations_dir = '../datasets/mozambique_2021/annotation_files/'\n",
    "cols2drop = ['View', 'Channel', 'Low Freq (Hz)', 'High Freq (Hz)', 'Delta Time (s)', 'Delta Freq (Hz)',\n",
    "             'Avg Power Density (dB FS/Hz)']"
   ]
  },
  {
   "cell_type": "markdown",
   "id": "07b7947f",
   "metadata": {},
   "source": [
    "# load annotations"
   ]
  },
  {
   "cell_type": "code",
   "execution_count": 4,
   "id": "cbad8d82",
   "metadata": {},
   "outputs": [],
   "source": [
    "filenames = os.listdir(annotations_dir)"
   ]
  },
  {
   "cell_type": "code",
   "execution_count": 5,
   "id": "a174d580",
   "metadata": {},
   "outputs": [
    {
     "name": "stdout",
     "output_type": "stream",
     "text": [
      "FILENAMES:\n",
      "210824-095226_Tr1.txt\n",
      "210824-100209_Tr1.txt\n",
      "210824-104507_Tr1.Table.1.selections.txt\n",
      "210824-115331_Tr1.txt\n",
      "210824-125439_Tr1.txt\n",
      "210825-102141_Tr1.txt\n",
      "210825-112937_Tr1.txt\n",
      "210825-132034_Tr1.Table.1.selections.txt\n",
      "210825-135601_Tr1.Table.1.selections.txt\n",
      "210826-083608_Tr1.Table.1.selections.txt\n",
      "210827-081513_Tr1.Table.1.selections.txt\n",
      "210827-090209_Tr1.Table.1.selections.txt\n",
      "210827-133618_Tr1.Table.1.selections.txt\n",
      "210828-080644_Tr1.Table.1.selections.txt\n",
      "210903-095104_Tr1.Table.1.selections.txt\n",
      "210903-110841_Tr1.Table.1.selections.txt\n",
      "210904-074321_Tr1.Table.1.selections.txt\n",
      "210904-093942_Tr2.Table.1.selections.txt\n",
      "210904-111316_Tr2.txt\n",
      "25-115438_Tr2.Table.1.selections.txt\n",
      "\n",
      "len(df_list): 19\n",
      "\n",
      "unique filenames:\n",
      "['210824-095226_Tr1.txt' '210824-100209_Tr1.txt' '210824-104507_Tr1'\n",
      " '210824-115331_Tr1.txt' '210824-125439_Tr1.txt' '210825-102141_Tr1.txt'\n",
      " '210825-112937_Tr1.txt' '210825-132034_Tr1' '210825-135601_Tr1'\n",
      " '210826-083608_Tr1' '210827-081513_Tr1' '210827-090209_Tr1'\n",
      " '210827-133618_Tr1' '210828-080644_Tr1' '210903-095104_Tr1'\n",
      " '210903-110841_Tr1' '210904-074321_Tr1' '210904-111316_Tr2.txt'\n",
      " '25-115438_Tr2']\n"
     ]
    }
   ],
   "source": [
    "df_list = []\n",
    "print('FILENAMES:')\n",
    "for filename in sorted(filenames):\n",
    "    print(filename)\n",
    "    try:\n",
    "        #         print(filename)\n",
    "        annotation_file_path = os.path.join(annotations_dir, filename)\n",
    "        small_df = load_n_adapt_raven_annotation_table_to_dv_dataset_requirements(annotation_file_path)\n",
    "        df_list.append(small_df)\n",
    "    except UnicodeDecodeError:\n",
    "        continue\n",
    "\n",
    "print(f'\\nlen(df_list): {len(df_list)}')\n",
    "df_all_annotations = pd.concat(df_list)\n",
    "df_all_annotations = df_all_annotations.drop(cols2drop, axis=1)\n",
    "# df_all_annotations.head()\n",
    "\n",
    "print(f'\\nunique filenames:\\n{df_all_annotations.filename.unique()}')"
   ]
  },
  {
   "cell_type": "code",
   "execution_count": 6,
   "id": "eab127c9",
   "metadata": {},
   "outputs": [
    {
     "data": {
      "text/plain": [
       "(9902, 6)"
      ]
     },
     "execution_count": 6,
     "metadata": {},
     "output_type": "execute_result"
    },
    {
     "data": {
      "text/html": [
       "<div>\n",
       "<style scoped>\n",
       "    .dataframe tbody tr th:only-of-type {\n",
       "        vertical-align: middle;\n",
       "    }\n",
       "\n",
       "    .dataframe tbody tr th {\n",
       "        vertical-align: top;\n",
       "    }\n",
       "\n",
       "    .dataframe thead th {\n",
       "        text-align: right;\n",
       "    }\n",
       "</style>\n",
       "<table border=\"1\" class=\"dataframe\">\n",
       "  <thead>\n",
       "    <tr style=\"text-align: right;\">\n",
       "      <th></th>\n",
       "      <th>Selection</th>\n",
       "      <th>begin_time</th>\n",
       "      <th>end_time</th>\n",
       "      <th>Annotation</th>\n",
       "      <th>filename</th>\n",
       "      <th>call_length</th>\n",
       "    </tr>\n",
       "  </thead>\n",
       "  <tbody>\n",
       "    <tr>\n",
       "      <th>0</th>\n",
       "      <td>1</td>\n",
       "      <td>18.700366</td>\n",
       "      <td>19.764583</td>\n",
       "      <td>NaN</td>\n",
       "      <td>210824-095226_Tr1.txt</td>\n",
       "      <td>1.064218</td>\n",
       "    </tr>\n",
       "    <tr>\n",
       "      <th>1</th>\n",
       "      <td>2</td>\n",
       "      <td>20.169273</td>\n",
       "      <td>20.650971</td>\n",
       "      <td>NaN</td>\n",
       "      <td>210824-095226_Tr1.txt</td>\n",
       "      <td>0.481698</td>\n",
       "    </tr>\n",
       "    <tr>\n",
       "      <th>2</th>\n",
       "      <td>3</td>\n",
       "      <td>29.632165</td>\n",
       "      <td>30.752394</td>\n",
       "      <td>un</td>\n",
       "      <td>210824-095226_Tr1.txt</td>\n",
       "      <td>1.120229</td>\n",
       "    </tr>\n",
       "    <tr>\n",
       "      <th>3</th>\n",
       "      <td>4</td>\n",
       "      <td>40.781279</td>\n",
       "      <td>41.599046</td>\n",
       "      <td>NaN</td>\n",
       "      <td>210824-095226_Tr1.txt</td>\n",
       "      <td>0.817767</td>\n",
       "    </tr>\n",
       "    <tr>\n",
       "      <th>4</th>\n",
       "      <td>5</td>\n",
       "      <td>44.016323</td>\n",
       "      <td>44.733270</td>\n",
       "      <td>NaN</td>\n",
       "      <td>210824-095226_Tr1.txt</td>\n",
       "      <td>0.716947</td>\n",
       "    </tr>\n",
       "  </tbody>\n",
       "</table>\n",
       "</div>"
      ],
      "text/plain": [
       "   Selection  begin_time   end_time Annotation               filename  \\\n",
       "0          1   18.700366  19.764583        NaN  210824-095226_Tr1.txt   \n",
       "1          2   20.169273  20.650971        NaN  210824-095226_Tr1.txt   \n",
       "2          3   29.632165  30.752394         un  210824-095226_Tr1.txt   \n",
       "3          4   40.781279  41.599046        NaN  210824-095226_Tr1.txt   \n",
       "4          5   44.016323  44.733270        NaN  210824-095226_Tr1.txt   \n",
       "\n",
       "   call_length  \n",
       "0     1.064218  \n",
       "1     0.481698  \n",
       "2     1.120229  \n",
       "3     0.817767  \n",
       "4     0.716947  "
      ]
     },
     "execution_count": 6,
     "metadata": {},
     "output_type": "execute_result"
    },
    {
     "data": {
      "text/html": [
       "<div>\n",
       "<style scoped>\n",
       "    .dataframe tbody tr th:only-of-type {\n",
       "        vertical-align: middle;\n",
       "    }\n",
       "\n",
       "    .dataframe tbody tr th {\n",
       "        vertical-align: top;\n",
       "    }\n",
       "\n",
       "    .dataframe thead th {\n",
       "        text-align: right;\n",
       "    }\n",
       "</style>\n",
       "<table border=\"1\" class=\"dataframe\">\n",
       "  <thead>\n",
       "    <tr style=\"text-align: right;\">\n",
       "      <th></th>\n",
       "      <th>Selection</th>\n",
       "      <th>begin_time</th>\n",
       "      <th>end_time</th>\n",
       "      <th>Annotation</th>\n",
       "      <th>filename</th>\n",
       "      <th>call_length</th>\n",
       "    </tr>\n",
       "  </thead>\n",
       "  <tbody>\n",
       "    <tr>\n",
       "      <th>244</th>\n",
       "      <td>249</td>\n",
       "      <td>579.833247</td>\n",
       "      <td>580.553433</td>\n",
       "      <td>sc ? un</td>\n",
       "      <td>25-115438_Tr2</td>\n",
       "      <td>0.720186</td>\n",
       "    </tr>\n",
       "    <tr>\n",
       "      <th>245</th>\n",
       "      <td>250</td>\n",
       "      <td>580.662828</td>\n",
       "      <td>581.683851</td>\n",
       "      <td>NaN</td>\n",
       "      <td>25-115438_Tr2</td>\n",
       "      <td>1.021023</td>\n",
       "    </tr>\n",
       "    <tr>\n",
       "      <th>246</th>\n",
       "      <td>251</td>\n",
       "      <td>581.838828</td>\n",
       "      <td>582.759572</td>\n",
       "      <td>NaN</td>\n",
       "      <td>25-115438_Tr2</td>\n",
       "      <td>0.920744</td>\n",
       "    </tr>\n",
       "    <tr>\n",
       "      <th>247</th>\n",
       "      <td>252</td>\n",
       "      <td>583.115107</td>\n",
       "      <td>584.281991</td>\n",
       "      <td>NaN</td>\n",
       "      <td>25-115438_Tr2</td>\n",
       "      <td>1.166884</td>\n",
       "    </tr>\n",
       "    <tr>\n",
       "      <th>248</th>\n",
       "      <td>253</td>\n",
       "      <td>584.327572</td>\n",
       "      <td>585.175386</td>\n",
       "      <td>NaN</td>\n",
       "      <td>25-115438_Tr2</td>\n",
       "      <td>0.847814</td>\n",
       "    </tr>\n",
       "  </tbody>\n",
       "</table>\n",
       "</div>"
      ],
      "text/plain": [
       "     Selection  begin_time    end_time Annotation       filename  call_length\n",
       "244        249  579.833247  580.553433    sc ? un  25-115438_Tr2     0.720186\n",
       "245        250  580.662828  581.683851        NaN  25-115438_Tr2     1.021023\n",
       "246        251  581.838828  582.759572        NaN  25-115438_Tr2     0.920744\n",
       "247        252  583.115107  584.281991        NaN  25-115438_Tr2     1.166884\n",
       "248        253  584.327572  585.175386        NaN  25-115438_Tr2     0.847814"
      ]
     },
     "execution_count": 6,
     "metadata": {},
     "output_type": "execute_result"
    }
   ],
   "source": [
    "df_all_annotations.shape\n",
    "df_all_annotations.head()\n",
    "df_all_annotations.tail()"
   ]
  },
  {
   "cell_type": "markdown",
   "id": "381668bc",
   "metadata": {},
   "source": [
    "# Fix labels"
   ]
  },
  {
   "cell_type": "markdown",
   "id": "16184823",
   "metadata": {},
   "source": [
    "## explore"
   ]
  },
  {
   "cell_type": "code",
   "execution_count": 7,
   "id": "a690c29f",
   "metadata": {},
   "outputs": [
    {
     "data": {
      "text/plain": [
       "array([nan, 'un', 'd', 's', 'ד', 'sc', 'd?', 'sc ?', 'SC',\n",
       "       'few calls in this annotation', 'un ', 'un !!! What ?', 'sc?', '!',\n",
       "       'un- weird whale sound probably', 'un d/w', '?', 'Dolphins?',\n",
       "       'dolphin', 'd / cs ?', 'sc \\\\ d \\\\ un', 'cs ?', 'un \\\\ d ?',\n",
       "       'sc ? un'], dtype=object)"
      ]
     },
     "execution_count": 7,
     "metadata": {},
     "output_type": "execute_result"
    }
   ],
   "source": [
    "df_all_annotations.Annotation.unique()"
   ]
  },
  {
   "cell_type": "code",
   "execution_count": 8,
   "id": "5c8aeb3c",
   "metadata": {},
   "outputs": [
    {
     "data": {
      "text/plain": [
       "NaN                               8905\n",
       "sc                                 387\n",
       "un                                 332\n",
       "d                                  175\n",
       "s                                   45\n",
       "?                                   15\n",
       "sc ?                                14\n",
       "un d/w                               7\n",
       "d?                                   4\n",
       "dolphin                              3\n",
       "SC                                   2\n",
       "un \\ d ?                             1\n",
       "cs ?                                 1\n",
       "sc \\ d \\ un                          1\n",
       "d / cs ?                             1\n",
       "Dolphins?                            1\n",
       "sc?                                  1\n",
       "un- weird whale sound probably       1\n",
       "!                                    1\n",
       "un !!! What ?                        1\n",
       "un                                   1\n",
       "few calls in this annotation         1\n",
       "ד                                    1\n",
       "sc ? un                              1\n",
       "Name: Annotation, dtype: int64"
      ]
     },
     "execution_count": 8,
     "metadata": {},
     "output_type": "execute_result"
    }
   ],
   "source": [
    "df_all_annotations.Annotation.value_counts(dropna=False)"
   ]
  },
  {
   "cell_type": "markdown",
   "id": "a2cf5412",
   "metadata": {},
   "source": [
    "For labels that appear only once - find location"
   ]
  },
  {
   "cell_type": "code",
   "execution_count": 9,
   "id": "5992e965",
   "metadata": {},
   "outputs": [],
   "source": [
    "all_unique_labels = df_all_annotations.Annotation.value_counts()[\n",
    "    df_all_annotations.Annotation.value_counts() == 1].index.values"
   ]
  },
  {
   "cell_type": "code",
   "execution_count": 10,
   "id": "92042854",
   "metadata": {},
   "outputs": [
    {
     "data": {
      "text/plain": [
       "array(['un \\\\ d ?', 'cs ?', 'sc \\\\ d \\\\ un', 'd / cs ?', 'Dolphins?',\n",
       "       'sc?', 'un- weird whale sound probably', '!', 'un !!! What ?',\n",
       "       'un ', 'few calls in this annotation', 'ד', 'sc ? un'],\n",
       "      dtype=object)"
      ]
     },
     "execution_count": 10,
     "metadata": {},
     "output_type": "execute_result"
    }
   ],
   "source": [
    "all_unique_labels"
   ]
  },
  {
   "cell_type": "code",
   "execution_count": 11,
   "id": "f508fe75",
   "metadata": {},
   "outputs": [],
   "source": [
    "df_unique_labels = df_all_annotations[df_all_annotations.Annotation.isin(all_unique_labels)].copy()"
   ]
  },
  {
   "cell_type": "code",
   "execution_count": 12,
   "id": "b65e96a1",
   "metadata": {},
   "outputs": [
    {
     "data": {
      "text/plain": [
       "Index(['Selection', 'begin_time', 'end_time', 'Annotation', 'filename',\n",
       "       'call_length'],\n",
       "      dtype='object')"
      ]
     },
     "execution_count": 12,
     "metadata": {},
     "output_type": "execute_result"
    }
   ],
   "source": [
    "df_unique_labels.columns"
   ]
  },
  {
   "cell_type": "code",
   "execution_count": 13,
   "id": "1112855e",
   "metadata": {},
   "outputs": [],
   "source": [
    "cols2keep = ['Selection', 'begin_time', 'end_time', 'Annotation', 'filename', 'call_length']"
   ]
  },
  {
   "cell_type": "code",
   "execution_count": 14,
   "id": "9dc0d6fe",
   "metadata": {},
   "outputs": [],
   "source": [
    "df_unique_labels = df_unique_labels[cols2keep]"
   ]
  },
  {
   "cell_type": "code",
   "execution_count": 15,
   "id": "f05b64fd",
   "metadata": {},
   "outputs": [],
   "source": [
    "df_unique_labels.to_csv('unique_labels_info.csv', index=False)"
   ]
  },
  {
   "cell_type": "markdown",
   "id": "a3f5177c",
   "metadata": {},
   "source": [
    "## standardize whale call tags"
   ]
  },
  {
   "cell_type": "code",
   "execution_count": 16,
   "id": "a6ec14b7",
   "metadata": {},
   "outputs": [
    {
     "data": {
      "text/plain": [
       "array([nan, 'un', 'd', 's', 'ד', 'sc', 'd?', 'sc ?', 'SC',\n",
       "       'few calls in this annotation', 'un ', 'un !!! What ?', 'sc?', '!',\n",
       "       'un- weird whale sound probably', 'un d/w', '?', 'Dolphins?',\n",
       "       'dolphin', 'd / cs ?', 'sc \\\\ d \\\\ un', 'cs ?', 'un \\\\ d ?',\n",
       "       'sc ? un'], dtype=object)"
      ]
     },
     "execution_count": 16,
     "metadata": {},
     "output_type": "execute_result"
    }
   ],
   "source": [
    "df_all_annotations.Annotation.unique()"
   ]
  },
  {
   "cell_type": "code",
   "execution_count": 17,
   "id": "ab6981f8",
   "metadata": {},
   "outputs": [],
   "source": [
    "def change_annotations(df_of_annotations: pd.DataFrame, annotations_to_change: list, target_value: str) -> None:\n",
    "    \"\"\"change specified annotations to target value. do this inplace.\"\"\"\n",
    "    df_of_annotations.replace(to_replace=annotations_to_change, value=target_value, inplace=True, limit=None,\n",
    "                              regex=False)\n",
    "    return"
   ]
  },
  {
   "cell_type": "code",
   "execution_count": 18,
   "id": "3f753e58",
   "metadata": {},
   "outputs": [],
   "source": [
    "whale_tags_to_change = ['sc', 'SC', 'sc ?', 'un- weird whale sound probably', 'cs ?', 'baby whale?', 'song (s)', 's',\n",
    "                        'sc?']\n",
    "target_value = 'w'\n",
    "\n",
    "df_clean = df_all_annotations.replace(to_replace=whale_tags_to_change, value=target_value)"
   ]
  },
  {
   "cell_type": "code",
   "execution_count": 19,
   "id": "9f566a43",
   "metadata": {},
   "outputs": [
    {
     "data": {
      "text/html": [
       "<div>\n",
       "<style scoped>\n",
       "    .dataframe tbody tr th:only-of-type {\n",
       "        vertical-align: middle;\n",
       "    }\n",
       "\n",
       "    .dataframe tbody tr th {\n",
       "        vertical-align: top;\n",
       "    }\n",
       "\n",
       "    .dataframe thead th {\n",
       "        text-align: right;\n",
       "    }\n",
       "</style>\n",
       "<table border=\"1\" class=\"dataframe\">\n",
       "  <thead>\n",
       "    <tr style=\"text-align: right;\">\n",
       "      <th></th>\n",
       "      <th>Selection</th>\n",
       "      <th>begin_time</th>\n",
       "      <th>end_time</th>\n",
       "      <th>Annotation</th>\n",
       "      <th>filename</th>\n",
       "      <th>call_length</th>\n",
       "    </tr>\n",
       "  </thead>\n",
       "  <tbody>\n",
       "    <tr>\n",
       "      <th>0</th>\n",
       "      <td>1</td>\n",
       "      <td>18.700366</td>\n",
       "      <td>19.764583</td>\n",
       "      <td>NaN</td>\n",
       "      <td>210824-095226_Tr1.txt</td>\n",
       "      <td>1.064218</td>\n",
       "    </tr>\n",
       "    <tr>\n",
       "      <th>1</th>\n",
       "      <td>2</td>\n",
       "      <td>20.169273</td>\n",
       "      <td>20.650971</td>\n",
       "      <td>NaN</td>\n",
       "      <td>210824-095226_Tr1.txt</td>\n",
       "      <td>0.481698</td>\n",
       "    </tr>\n",
       "    <tr>\n",
       "      <th>2</th>\n",
       "      <td>3</td>\n",
       "      <td>29.632165</td>\n",
       "      <td>30.752394</td>\n",
       "      <td>un</td>\n",
       "      <td>210824-095226_Tr1.txt</td>\n",
       "      <td>1.120229</td>\n",
       "    </tr>\n",
       "    <tr>\n",
       "      <th>3</th>\n",
       "      <td>4</td>\n",
       "      <td>40.781279</td>\n",
       "      <td>41.599046</td>\n",
       "      <td>NaN</td>\n",
       "      <td>210824-095226_Tr1.txt</td>\n",
       "      <td>0.817767</td>\n",
       "    </tr>\n",
       "    <tr>\n",
       "      <th>4</th>\n",
       "      <td>5</td>\n",
       "      <td>44.016323</td>\n",
       "      <td>44.733270</td>\n",
       "      <td>NaN</td>\n",
       "      <td>210824-095226_Tr1.txt</td>\n",
       "      <td>0.716947</td>\n",
       "    </tr>\n",
       "  </tbody>\n",
       "</table>\n",
       "</div>"
      ],
      "text/plain": [
       "   Selection  begin_time   end_time Annotation               filename  \\\n",
       "0          1   18.700366  19.764583        NaN  210824-095226_Tr1.txt   \n",
       "1          2   20.169273  20.650971        NaN  210824-095226_Tr1.txt   \n",
       "2          3   29.632165  30.752394         un  210824-095226_Tr1.txt   \n",
       "3          4   40.781279  41.599046        NaN  210824-095226_Tr1.txt   \n",
       "4          5   44.016323  44.733270        NaN  210824-095226_Tr1.txt   \n",
       "\n",
       "   call_length  \n",
       "0     1.064218  \n",
       "1     0.481698  \n",
       "2     1.120229  \n",
       "3     0.817767  \n",
       "4     0.716947  "
      ]
     },
     "execution_count": 19,
     "metadata": {},
     "output_type": "execute_result"
    }
   ],
   "source": [
    "df_clean.head()"
   ]
  },
  {
   "cell_type": "code",
   "execution_count": 20,
   "id": "f258beef",
   "metadata": {},
   "outputs": [
    {
     "data": {
      "text/plain": [
       "(9902, 6)"
      ]
     },
     "execution_count": 20,
     "metadata": {},
     "output_type": "execute_result"
    },
    {
     "data": {
      "text/plain": [
       "NaN                             8905\n",
       "w                                451\n",
       "un                               332\n",
       "d                                175\n",
       "?                                 15\n",
       "un d/w                             7\n",
       "d?                                 4\n",
       "dolphin                            3\n",
       "Dolphins?                          1\n",
       "un \\ d ?                           1\n",
       "sc \\ d \\ un                        1\n",
       "d / cs ?                           1\n",
       "!                                  1\n",
       "un !!! What ?                      1\n",
       "un                                 1\n",
       "few calls in this annotation       1\n",
       "ד                                  1\n",
       "sc ? un                            1\n",
       "Name: Annotation, dtype: int64"
      ]
     },
     "execution_count": 20,
     "metadata": {},
     "output_type": "execute_result"
    }
   ],
   "source": [
    "df_clean.shape\n",
    "df_clean.Annotation.value_counts(dropna=False)"
   ]
  },
  {
   "cell_type": "code",
   "execution_count": 21,
   "id": "a2d5ffa9",
   "metadata": {},
   "outputs": [],
   "source": [
    "df_clean['Annotation'] = df_clean.Annotation.fillna('w')\n"
   ]
  },
  {
   "cell_type": "code",
   "execution_count": 22,
   "id": "c6dcc023",
   "metadata": {},
   "outputs": [
    {
     "data": {
      "text/plain": [
       "(9902, 6)"
      ]
     },
     "execution_count": 22,
     "metadata": {},
     "output_type": "execute_result"
    },
    {
     "data": {
      "text/plain": [
       "w                               9356\n",
       "un                               332\n",
       "d                                175\n",
       "?                                 15\n",
       "un d/w                             7\n",
       "d?                                 4\n",
       "dolphin                            3\n",
       "Dolphins?                          1\n",
       "un \\ d ?                           1\n",
       "sc \\ d \\ un                        1\n",
       "d / cs ?                           1\n",
       "!                                  1\n",
       "un !!! What ?                      1\n",
       "un                                 1\n",
       "few calls in this annotation       1\n",
       "ד                                  1\n",
       "sc ? un                            1\n",
       "Name: Annotation, dtype: int64"
      ]
     },
     "execution_count": 22,
     "metadata": {},
     "output_type": "execute_result"
    }
   ],
   "source": [
    "df_clean.shape\n",
    "df_clean.Annotation.value_counts(dropna=False)"
   ]
  },
  {
   "cell_type": "markdown",
   "id": "4db888b5",
   "metadata": {},
   "source": [
    "## filter out non-whales calls"
   ]
  },
  {
   "cell_type": "code",
   "execution_count": 23,
   "id": "f4b84529",
   "metadata": {},
   "outputs": [],
   "source": [
    "df_clean = df_clean[df_clean.Annotation == 'w']"
   ]
  },
  {
   "cell_type": "code",
   "execution_count": 24,
   "id": "9d9a09ba",
   "metadata": {},
   "outputs": [
    {
     "data": {
      "text/plain": [
       "(9356, 6)"
      ]
     },
     "execution_count": 24,
     "metadata": {},
     "output_type": "execute_result"
    },
    {
     "data": {
      "text/plain": [
       "w    9356\n",
       "Name: Annotation, dtype: int64"
      ]
     },
     "execution_count": 24,
     "metadata": {},
     "output_type": "execute_result"
    }
   ],
   "source": [
    "df_clean.shape\n",
    "df_clean.Annotation.value_counts(dropna=False)"
   ]
  },
  {
   "cell_type": "markdown",
   "id": "4b1c8902",
   "metadata": {},
   "source": [
    "# label background"
   ]
  },
  {
   "cell_type": "markdown",
   "id": "be872c5a",
   "metadata": {},
   "source": [
    "Methodology: all gaps between annotated segments are considered background"
   ]
  },
  {
   "cell_type": "code",
   "execution_count": 25,
   "id": "3215f68a",
   "metadata": {},
   "outputs": [
    {
     "data": {
      "text/plain": [
       "(9356, 6)"
      ]
     },
     "execution_count": 25,
     "metadata": {},
     "output_type": "execute_result"
    },
    {
     "data": {
      "text/plain": [
       "19"
      ]
     },
     "execution_count": 25,
     "metadata": {},
     "output_type": "execute_result"
    },
    {
     "data": {
      "text/html": [
       "<div>\n",
       "<style scoped>\n",
       "    .dataframe tbody tr th:only-of-type {\n",
       "        vertical-align: middle;\n",
       "    }\n",
       "\n",
       "    .dataframe tbody tr th {\n",
       "        vertical-align: top;\n",
       "    }\n",
       "\n",
       "    .dataframe thead th {\n",
       "        text-align: right;\n",
       "    }\n",
       "</style>\n",
       "<table border=\"1\" class=\"dataframe\">\n",
       "  <thead>\n",
       "    <tr style=\"text-align: right;\">\n",
       "      <th></th>\n",
       "      <th>Selection</th>\n",
       "      <th>begin_time</th>\n",
       "      <th>end_time</th>\n",
       "      <th>Annotation</th>\n",
       "      <th>filename</th>\n",
       "      <th>call_length</th>\n",
       "    </tr>\n",
       "  </thead>\n",
       "  <tbody>\n",
       "    <tr>\n",
       "      <th>0</th>\n",
       "      <td>1</td>\n",
       "      <td>18.700366</td>\n",
       "      <td>19.764583</td>\n",
       "      <td>w</td>\n",
       "      <td>210824-095226_Tr1.txt</td>\n",
       "      <td>1.064218</td>\n",
       "    </tr>\n",
       "    <tr>\n",
       "      <th>1</th>\n",
       "      <td>2</td>\n",
       "      <td>20.169273</td>\n",
       "      <td>20.650971</td>\n",
       "      <td>w</td>\n",
       "      <td>210824-095226_Tr1.txt</td>\n",
       "      <td>0.481698</td>\n",
       "    </tr>\n",
       "    <tr>\n",
       "      <th>3</th>\n",
       "      <td>4</td>\n",
       "      <td>40.781279</td>\n",
       "      <td>41.599046</td>\n",
       "      <td>w</td>\n",
       "      <td>210824-095226_Tr1.txt</td>\n",
       "      <td>0.817767</td>\n",
       "    </tr>\n",
       "    <tr>\n",
       "      <th>4</th>\n",
       "      <td>5</td>\n",
       "      <td>44.016323</td>\n",
       "      <td>44.733270</td>\n",
       "      <td>w</td>\n",
       "      <td>210824-095226_Tr1.txt</td>\n",
       "      <td>0.716947</td>\n",
       "    </tr>\n",
       "    <tr>\n",
       "      <th>14</th>\n",
       "      <td>15</td>\n",
       "      <td>64.404870</td>\n",
       "      <td>64.897771</td>\n",
       "      <td>w</td>\n",
       "      <td>210824-095226_Tr1.txt</td>\n",
       "      <td>0.492901</td>\n",
       "    </tr>\n",
       "  </tbody>\n",
       "</table>\n",
       "</div>"
      ],
      "text/plain": [
       "    Selection  begin_time   end_time Annotation               filename  \\\n",
       "0           1   18.700366  19.764583          w  210824-095226_Tr1.txt   \n",
       "1           2   20.169273  20.650971          w  210824-095226_Tr1.txt   \n",
       "3           4   40.781279  41.599046          w  210824-095226_Tr1.txt   \n",
       "4           5   44.016323  44.733270          w  210824-095226_Tr1.txt   \n",
       "14         15   64.404870  64.897771          w  210824-095226_Tr1.txt   \n",
       "\n",
       "    call_length  \n",
       "0      1.064218  \n",
       "1      0.481698  \n",
       "3      0.817767  \n",
       "4      0.716947  \n",
       "14     0.492901  "
      ]
     },
     "execution_count": 25,
     "metadata": {},
     "output_type": "execute_result"
    }
   ],
   "source": [
    "df_clean.shape\n",
    "df_clean.filename.nunique()\n",
    "df_clean.head()"
   ]
  },
  {
   "cell_type": "code",
   "execution_count": 26,
   "id": "d48e5d52",
   "metadata": {},
   "outputs": [],
   "source": [
    "df = df_clean\n"
   ]
  },
  {
   "cell_type": "code",
   "execution_count": 27,
   "id": "b92cde62",
   "metadata": {},
   "outputs": [],
   "source": [
    "# for filename in df.filename.unique():\n",
    "#     print(filename)"
   ]
  },
  {
   "cell_type": "markdown",
   "id": "abbdc466",
   "metadata": {},
   "source": [
    "## merge overlapping calls"
   ]
  },
  {
   "cell_type": "code",
   "execution_count": 28,
   "id": "438c9058",
   "metadata": {},
   "outputs": [],
   "source": [
    "\n",
    "def merge_overlapping_calls(df: pd.DataFrame) -> pd.DataFrame:\n",
    "    \"\"\"\n",
    "    Receives an annotation dataframe with (possibly) overlapping calls, and goes through merge-and-drop iterations until\n",
    "    no more overlaps are found.\n",
    "    :param df: Pandas DataFrame with the following columns: ['filename', 'begin_time', 'end_time']\n",
    "    :return: pd.DataFrame\n",
    "    \"\"\"\n",
    "    df = df.sort_values(['filename', 'begin_time']).reset_index(drop=True)\n",
    "    df = reset_overlap_accessory_columns(df)\n",
    "    df = mark_overlapping_rows(df)\n",
    "\n",
    "    while 1 in df.overlap.unique():\n",
    "        df = merge_overlapping_rows(df)\n",
    "        df = reset_overlap_accessory_columns(df)\n",
    "        df = mark_overlapping_rows(df)\n",
    "\n",
    "    df = df.drop(['overlap', 'next_begin_time', 'next_end_time'], axis=1)\n",
    "    return df\n",
    "\n",
    "\n",
    "def merge_overlapping_rows(df) -> pd.DataFrame:\n",
    "    \"\"\"\n",
    "    Merge (and drop) overlapping rows.\n",
    "    \"\"\"\n",
    "    df.loc[df.overlap == 1, 'end_time'] = df[df.overlap == 1]['next_end_time']\n",
    "    df = df.drop_duplicates(subset=['filename', 'end_time'], keep='first')\n",
    "    return df\n",
    "\n",
    "\n",
    "def reset_overlap_accessory_columns(df) -> pd.DataFrame:\n",
    "    df['overlap'] = np.NaN\n",
    "    df['next_begin_time'] = df.groupby('filename').begin_time.shift(-1)\n",
    "    df['next_end_time'] = df.groupby('filename').end_time.shift(-1)\n",
    "    return df\n",
    "\n",
    "\n",
    "def mark_overlapping_rows(df) -> pd.DataFrame:\n",
    "    df.loc[df.next_begin_time < df.end_time, 'overlap'] = 1\n",
    "    return df\n",
    "\n",
    "# def mark_non_overlapping_rows(df) -> pd.DataFrame:\n",
    "#     \"\"\"\n",
    "#     Merely for sanity check.\n",
    "#     \"\"\"\n",
    "#     df.loc[(df.begin_time > df.end_time.shift(1)) & (df.end_time < df.begin_time.shift(-1)), 'overlap'] = 0\n",
    "#     return df\n"
   ]
  },
  {
   "cell_type": "code",
   "execution_count": 31,
   "id": "d0d1589e",
   "metadata": {
    "scrolled": true
   },
   "outputs": [],
   "source": [
    "df_no_overlap = merge_overlapping_calls(df)"
   ]
  },
  {
   "cell_type": "code",
   "execution_count": 32,
   "id": "7c52fc48",
   "metadata": {},
   "outputs": [
    {
     "data": {
      "text/plain": [
       "(6657, 6)"
      ]
     },
     "execution_count": 32,
     "metadata": {},
     "output_type": "execute_result"
    }
   ],
   "source": [
    "df_no_overlap.shape"
   ]
  },
  {
   "cell_type": "code",
   "execution_count": 33,
   "id": "eda91b33",
   "metadata": {},
   "outputs": [
    {
     "data": {
      "text/plain": [
       "(9356, 6)"
      ]
     },
     "execution_count": 33,
     "metadata": {},
     "output_type": "execute_result"
    },
    {
     "data": {
      "text/plain": [
       "(6657, 6)"
      ]
     },
     "execution_count": 33,
     "metadata": {},
     "output_type": "execute_result"
    }
   ],
   "source": [
    "df.shape\n",
    "df_no_overlap.shape"
   ]
  },
  {
   "cell_type": "code",
   "execution_count": 34,
   "id": "cb505049",
   "metadata": {},
   "outputs": [
    {
     "data": {
      "text/html": [
       "<div>\n",
       "<style scoped>\n",
       "    .dataframe tbody tr th:only-of-type {\n",
       "        vertical-align: middle;\n",
       "    }\n",
       "\n",
       "    .dataframe tbody tr th {\n",
       "        vertical-align: top;\n",
       "    }\n",
       "\n",
       "    .dataframe thead th {\n",
       "        text-align: right;\n",
       "    }\n",
       "</style>\n",
       "<table border=\"1\" class=\"dataframe\">\n",
       "  <thead>\n",
       "    <tr style=\"text-align: right;\">\n",
       "      <th></th>\n",
       "      <th>Selection</th>\n",
       "      <th>begin_time</th>\n",
       "      <th>end_time</th>\n",
       "      <th>Annotation</th>\n",
       "      <th>filename</th>\n",
       "      <th>call_length</th>\n",
       "    </tr>\n",
       "  </thead>\n",
       "  <tbody>\n",
       "    <tr>\n",
       "      <th>0</th>\n",
       "      <td>1</td>\n",
       "      <td>18.700366</td>\n",
       "      <td>19.764583</td>\n",
       "      <td>w</td>\n",
       "      <td>210824-095226_Tr1.txt</td>\n",
       "      <td>1.064218</td>\n",
       "    </tr>\n",
       "    <tr>\n",
       "      <th>1</th>\n",
       "      <td>2</td>\n",
       "      <td>20.169273</td>\n",
       "      <td>20.650971</td>\n",
       "      <td>w</td>\n",
       "      <td>210824-095226_Tr1.txt</td>\n",
       "      <td>0.481698</td>\n",
       "    </tr>\n",
       "    <tr>\n",
       "      <th>3</th>\n",
       "      <td>4</td>\n",
       "      <td>40.781279</td>\n",
       "      <td>41.599046</td>\n",
       "      <td>w</td>\n",
       "      <td>210824-095226_Tr1.txt</td>\n",
       "      <td>0.817767</td>\n",
       "    </tr>\n",
       "    <tr>\n",
       "      <th>4</th>\n",
       "      <td>5</td>\n",
       "      <td>44.016323</td>\n",
       "      <td>44.733270</td>\n",
       "      <td>w</td>\n",
       "      <td>210824-095226_Tr1.txt</td>\n",
       "      <td>0.716947</td>\n",
       "    </tr>\n",
       "    <tr>\n",
       "      <th>14</th>\n",
       "      <td>15</td>\n",
       "      <td>64.404870</td>\n",
       "      <td>64.897771</td>\n",
       "      <td>w</td>\n",
       "      <td>210824-095226_Tr1.txt</td>\n",
       "      <td>0.492901</td>\n",
       "    </tr>\n",
       "  </tbody>\n",
       "</table>\n",
       "</div>"
      ],
      "text/plain": [
       "    Selection  begin_time   end_time Annotation               filename  \\\n",
       "0           1   18.700366  19.764583          w  210824-095226_Tr1.txt   \n",
       "1           2   20.169273  20.650971          w  210824-095226_Tr1.txt   \n",
       "3           4   40.781279  41.599046          w  210824-095226_Tr1.txt   \n",
       "4           5   44.016323  44.733270          w  210824-095226_Tr1.txt   \n",
       "14         15   64.404870  64.897771          w  210824-095226_Tr1.txt   \n",
       "\n",
       "    call_length  \n",
       "0      1.064218  \n",
       "1      0.481698  \n",
       "3      0.817767  \n",
       "4      0.716947  \n",
       "14     0.492901  "
      ]
     },
     "execution_count": 34,
     "metadata": {},
     "output_type": "execute_result"
    }
   ],
   "source": [
    "df.head()"
   ]
  },
  {
   "cell_type": "code",
   "execution_count": 35,
   "id": "dd171fd4",
   "metadata": {},
   "outputs": [
    {
     "data": {
      "text/html": [
       "<div>\n",
       "<style scoped>\n",
       "    .dataframe tbody tr th:only-of-type {\n",
       "        vertical-align: middle;\n",
       "    }\n",
       "\n",
       "    .dataframe tbody tr th {\n",
       "        vertical-align: top;\n",
       "    }\n",
       "\n",
       "    .dataframe thead th {\n",
       "        text-align: right;\n",
       "    }\n",
       "</style>\n",
       "<table border=\"1\" class=\"dataframe\">\n",
       "  <thead>\n",
       "    <tr style=\"text-align: right;\">\n",
       "      <th></th>\n",
       "      <th>Selection</th>\n",
       "      <th>begin_time</th>\n",
       "      <th>end_time</th>\n",
       "      <th>Annotation</th>\n",
       "      <th>filename</th>\n",
       "      <th>call_length</th>\n",
       "    </tr>\n",
       "  </thead>\n",
       "  <tbody>\n",
       "    <tr>\n",
       "      <th>0</th>\n",
       "      <td>1</td>\n",
       "      <td>18.700366</td>\n",
       "      <td>19.764583</td>\n",
       "      <td>w</td>\n",
       "      <td>210824-095226_Tr1.txt</td>\n",
       "      <td>1.064218</td>\n",
       "    </tr>\n",
       "    <tr>\n",
       "      <th>1</th>\n",
       "      <td>2</td>\n",
       "      <td>20.169273</td>\n",
       "      <td>20.650971</td>\n",
       "      <td>w</td>\n",
       "      <td>210824-095226_Tr1.txt</td>\n",
       "      <td>0.481698</td>\n",
       "    </tr>\n",
       "    <tr>\n",
       "      <th>2</th>\n",
       "      <td>4</td>\n",
       "      <td>40.781279</td>\n",
       "      <td>41.599046</td>\n",
       "      <td>w</td>\n",
       "      <td>210824-095226_Tr1.txt</td>\n",
       "      <td>0.817767</td>\n",
       "    </tr>\n",
       "    <tr>\n",
       "      <th>3</th>\n",
       "      <td>5</td>\n",
       "      <td>44.016323</td>\n",
       "      <td>44.733270</td>\n",
       "      <td>w</td>\n",
       "      <td>210824-095226_Tr1.txt</td>\n",
       "      <td>0.716947</td>\n",
       "    </tr>\n",
       "    <tr>\n",
       "      <th>4</th>\n",
       "      <td>15</td>\n",
       "      <td>64.404870</td>\n",
       "      <td>64.897771</td>\n",
       "      <td>w</td>\n",
       "      <td>210824-095226_Tr1.txt</td>\n",
       "      <td>0.492901</td>\n",
       "    </tr>\n",
       "    <tr>\n",
       "      <th>5</th>\n",
       "      <td>16</td>\n",
       "      <td>72.605060</td>\n",
       "      <td>73.109163</td>\n",
       "      <td>w</td>\n",
       "      <td>210824-095226_Tr1.txt</td>\n",
       "      <td>0.504103</td>\n",
       "    </tr>\n",
       "    <tr>\n",
       "      <th>6</th>\n",
       "      <td>18</td>\n",
       "      <td>74.447204</td>\n",
       "      <td>75.410601</td>\n",
       "      <td>w</td>\n",
       "      <td>210824-095226_Tr1.txt</td>\n",
       "      <td>0.963397</td>\n",
       "    </tr>\n",
       "    <tr>\n",
       "      <th>7</th>\n",
       "      <td>20</td>\n",
       "      <td>76.689479</td>\n",
       "      <td>77.294402</td>\n",
       "      <td>w</td>\n",
       "      <td>210824-095226_Tr1.txt</td>\n",
       "      <td>0.604924</td>\n",
       "    </tr>\n",
       "    <tr>\n",
       "      <th>8</th>\n",
       "      <td>21</td>\n",
       "      <td>77.783556</td>\n",
       "      <td>78.086018</td>\n",
       "      <td>w</td>\n",
       "      <td>210824-095226_Tr1.txt</td>\n",
       "      <td>0.302462</td>\n",
       "    </tr>\n",
       "    <tr>\n",
       "      <th>9</th>\n",
       "      <td>22</td>\n",
       "      <td>78.086018</td>\n",
       "      <td>78.646132</td>\n",
       "      <td>w</td>\n",
       "      <td>210824-095226_Tr1.txt</td>\n",
       "      <td>0.560114</td>\n",
       "    </tr>\n",
       "    <tr>\n",
       "      <th>10</th>\n",
       "      <td>28</td>\n",
       "      <td>86.639123</td>\n",
       "      <td>86.941585</td>\n",
       "      <td>w</td>\n",
       "      <td>210824-095226_Tr1.txt</td>\n",
       "      <td>0.302462</td>\n",
       "    </tr>\n",
       "    <tr>\n",
       "      <th>11</th>\n",
       "      <td>30</td>\n",
       "      <td>121.018727</td>\n",
       "      <td>121.948517</td>\n",
       "      <td>w</td>\n",
       "      <td>210824-095226_Tr1.txt</td>\n",
       "      <td>0.929790</td>\n",
       "    </tr>\n",
       "    <tr>\n",
       "      <th>12</th>\n",
       "      <td>34</td>\n",
       "      <td>193.059164</td>\n",
       "      <td>193.630481</td>\n",
       "      <td>w</td>\n",
       "      <td>210824-095226_Tr1.txt</td>\n",
       "      <td>0.571317</td>\n",
       "    </tr>\n",
       "    <tr>\n",
       "      <th>13</th>\n",
       "      <td>35</td>\n",
       "      <td>197.183875</td>\n",
       "      <td>197.867215</td>\n",
       "      <td>w</td>\n",
       "      <td>210824-095226_Tr1.txt</td>\n",
       "      <td>0.683340</td>\n",
       "    </tr>\n",
       "    <tr>\n",
       "      <th>14</th>\n",
       "      <td>36</td>\n",
       "      <td>201.551799</td>\n",
       "      <td>201.988688</td>\n",
       "      <td>w</td>\n",
       "      <td>210824-095226_Tr1.txt</td>\n",
       "      <td>0.436889</td>\n",
       "    </tr>\n",
       "    <tr>\n",
       "      <th>15</th>\n",
       "      <td>38</td>\n",
       "      <td>208.121794</td>\n",
       "      <td>208.749122</td>\n",
       "      <td>w</td>\n",
       "      <td>210824-095226_Tr1.txt</td>\n",
       "      <td>0.627328</td>\n",
       "    </tr>\n",
       "    <tr>\n",
       "      <th>16</th>\n",
       "      <td>39</td>\n",
       "      <td>213.460409</td>\n",
       "      <td>213.897298</td>\n",
       "      <td>w</td>\n",
       "      <td>210824-095226_Tr1.txt</td>\n",
       "      <td>0.436889</td>\n",
       "    </tr>\n",
       "    <tr>\n",
       "      <th>17</th>\n",
       "      <td>40</td>\n",
       "      <td>225.591555</td>\n",
       "      <td>226.230086</td>\n",
       "      <td>w</td>\n",
       "      <td>210824-095226_Tr1.txt</td>\n",
       "      <td>0.638531</td>\n",
       "    </tr>\n",
       "    <tr>\n",
       "      <th>18</th>\n",
       "      <td>43</td>\n",
       "      <td>246.542605</td>\n",
       "      <td>247.774857</td>\n",
       "      <td>w</td>\n",
       "      <td>210824-095226_Tr1.txt</td>\n",
       "      <td>1.232252</td>\n",
       "    </tr>\n",
       "    <tr>\n",
       "      <th>19</th>\n",
       "      <td>54</td>\n",
       "      <td>258.457514</td>\n",
       "      <td>259.062437</td>\n",
       "      <td>w</td>\n",
       "      <td>210824-095226_Tr1.txt</td>\n",
       "      <td>0.604924</td>\n",
       "    </tr>\n",
       "  </tbody>\n",
       "</table>\n",
       "</div>"
      ],
      "text/plain": [
       "    Selection  begin_time    end_time Annotation               filename  \\\n",
       "0           1   18.700366   19.764583          w  210824-095226_Tr1.txt   \n",
       "1           2   20.169273   20.650971          w  210824-095226_Tr1.txt   \n",
       "2           4   40.781279   41.599046          w  210824-095226_Tr1.txt   \n",
       "3           5   44.016323   44.733270          w  210824-095226_Tr1.txt   \n",
       "4          15   64.404870   64.897771          w  210824-095226_Tr1.txt   \n",
       "5          16   72.605060   73.109163          w  210824-095226_Tr1.txt   \n",
       "6          18   74.447204   75.410601          w  210824-095226_Tr1.txt   \n",
       "7          20   76.689479   77.294402          w  210824-095226_Tr1.txt   \n",
       "8          21   77.783556   78.086018          w  210824-095226_Tr1.txt   \n",
       "9          22   78.086018   78.646132          w  210824-095226_Tr1.txt   \n",
       "10         28   86.639123   86.941585          w  210824-095226_Tr1.txt   \n",
       "11         30  121.018727  121.948517          w  210824-095226_Tr1.txt   \n",
       "12         34  193.059164  193.630481          w  210824-095226_Tr1.txt   \n",
       "13         35  197.183875  197.867215          w  210824-095226_Tr1.txt   \n",
       "14         36  201.551799  201.988688          w  210824-095226_Tr1.txt   \n",
       "15         38  208.121794  208.749122          w  210824-095226_Tr1.txt   \n",
       "16         39  213.460409  213.897298          w  210824-095226_Tr1.txt   \n",
       "17         40  225.591555  226.230086          w  210824-095226_Tr1.txt   \n",
       "18         43  246.542605  247.774857          w  210824-095226_Tr1.txt   \n",
       "19         54  258.457514  259.062437          w  210824-095226_Tr1.txt   \n",
       "\n",
       "    call_length  \n",
       "0      1.064218  \n",
       "1      0.481698  \n",
       "2      0.817767  \n",
       "3      0.716947  \n",
       "4      0.492901  \n",
       "5      0.504103  \n",
       "6      0.963397  \n",
       "7      0.604924  \n",
       "8      0.302462  \n",
       "9      0.560114  \n",
       "10     0.302462  \n",
       "11     0.929790  \n",
       "12     0.571317  \n",
       "13     0.683340  \n",
       "14     0.436889  \n",
       "15     0.627328  \n",
       "16     0.436889  \n",
       "17     0.638531  \n",
       "18     1.232252  \n",
       "19     0.604924  "
      ]
     },
     "execution_count": 35,
     "metadata": {},
     "output_type": "execute_result"
    }
   ],
   "source": [
    "df_no_overlap.sort_values(['filename', 'begin_time']).head(20)"
   ]
  },
  {
   "cell_type": "markdown",
   "id": "c3188692",
   "metadata": {},
   "source": [
    "## mark gaps as background"
   ]
  },
  {
   "cell_type": "code",
   "execution_count": 36,
   "id": "048bee4c",
   "metadata": {},
   "outputs": [],
   "source": [
    "df_bg = df_no_overlap[['filename', 'begin_time', 'end_time']].sort_values(['filename', 'begin_time']).reset_index(\n",
    "    drop=True).copy()\n"
   ]
  },
  {
   "cell_type": "code",
   "execution_count": 37,
   "id": "738a250e",
   "metadata": {},
   "outputs": [
    {
     "data": {
      "text/html": [
       "<div>\n",
       "<style scoped>\n",
       "    .dataframe tbody tr th:only-of-type {\n",
       "        vertical-align: middle;\n",
       "    }\n",
       "\n",
       "    .dataframe tbody tr th {\n",
       "        vertical-align: top;\n",
       "    }\n",
       "\n",
       "    .dataframe thead th {\n",
       "        text-align: right;\n",
       "    }\n",
       "</style>\n",
       "<table border=\"1\" class=\"dataframe\">\n",
       "  <thead>\n",
       "    <tr style=\"text-align: right;\">\n",
       "      <th></th>\n",
       "      <th>filename</th>\n",
       "      <th>begin_time</th>\n",
       "      <th>end_time</th>\n",
       "    </tr>\n",
       "  </thead>\n",
       "  <tbody>\n",
       "    <tr>\n",
       "      <th>0</th>\n",
       "      <td>210824-095226_Tr1.txt</td>\n",
       "      <td>18.700366</td>\n",
       "      <td>19.764583</td>\n",
       "    </tr>\n",
       "    <tr>\n",
       "      <th>1</th>\n",
       "      <td>210824-095226_Tr1.txt</td>\n",
       "      <td>20.169273</td>\n",
       "      <td>20.650971</td>\n",
       "    </tr>\n",
       "    <tr>\n",
       "      <th>2</th>\n",
       "      <td>210824-095226_Tr1.txt</td>\n",
       "      <td>40.781279</td>\n",
       "      <td>41.599046</td>\n",
       "    </tr>\n",
       "    <tr>\n",
       "      <th>3</th>\n",
       "      <td>210824-095226_Tr1.txt</td>\n",
       "      <td>44.016323</td>\n",
       "      <td>44.733270</td>\n",
       "    </tr>\n",
       "    <tr>\n",
       "      <th>4</th>\n",
       "      <td>210824-095226_Tr1.txt</td>\n",
       "      <td>64.404870</td>\n",
       "      <td>64.897771</td>\n",
       "    </tr>\n",
       "  </tbody>\n",
       "</table>\n",
       "</div>"
      ],
      "text/plain": [
       "                filename  begin_time   end_time\n",
       "0  210824-095226_Tr1.txt   18.700366  19.764583\n",
       "1  210824-095226_Tr1.txt   20.169273  20.650971\n",
       "2  210824-095226_Tr1.txt   40.781279  41.599046\n",
       "3  210824-095226_Tr1.txt   44.016323  44.733270\n",
       "4  210824-095226_Tr1.txt   64.404870  64.897771"
      ]
     },
     "execution_count": 37,
     "metadata": {},
     "output_type": "execute_result"
    }
   ],
   "source": [
    "df_bg.head()"
   ]
  },
  {
   "cell_type": "code",
   "execution_count": 38,
   "id": "869bc9e1",
   "metadata": {},
   "outputs": [],
   "source": [
    "df_bg['next_begin_time'] = df_bg.groupby('filename').begin_time.shift(-1)\n",
    "# df_bg['next_end_time'] = df_bg.groupby('filename').end_time.shift(-1)"
   ]
  },
  {
   "cell_type": "code",
   "execution_count": 39,
   "id": "a3749fcd",
   "metadata": {},
   "outputs": [],
   "source": [
    "\n",
    "df_bg = df_bg.rename({'end_time': 'bg_begin_time', 'next_begin_time': 'bg_end_time'}, axis=1)"
   ]
  },
  {
   "cell_type": "markdown",
   "id": "7213be0a",
   "metadata": {},
   "source": [
    "Manually look at shifts between different recordings to make sure there aren't mix-ups:"
   ]
  },
  {
   "cell_type": "code",
   "execution_count": 40,
   "id": "b0743847",
   "metadata": {},
   "outputs": [
    {
     "data": {
      "text/plain": [
       "array(['210824-095226_Tr1.txt', '210824-100209_Tr1.txt',\n",
       "       '210824-104507_Tr1', '210824-115331_Tr1.txt',\n",
       "       '210824-125439_Tr1.txt', '210825-102141_Tr1.txt',\n",
       "       '210825-112937_Tr1.txt', '210825-132034_Tr1', '210825-135601_Tr1',\n",
       "       '210826-083608_Tr1', '210827-081513_Tr1', '210827-090209_Tr1',\n",
       "       '210827-133618_Tr1', '210828-080644_Tr1', '210903-095104_Tr1',\n",
       "       '210903-110841_Tr1', '210904-074321_Tr1', '210904-111316_Tr2.txt',\n",
       "       '25-115438_Tr2'], dtype=object)"
      ]
     },
     "execution_count": 40,
     "metadata": {},
     "output_type": "execute_result"
    },
    {
     "data": {
      "text/plain": [
       "210824-115331_Tr1.txt    737\n",
       "210904-074321_Tr1        676\n",
       "210826-083608_Tr1        614\n",
       "210824-125439_Tr1.txt    594\n",
       "210828-080644_Tr1        538\n",
       "210825-135601_Tr1        479\n",
       "210825-102141_Tr1.txt    443\n",
       "210827-090209_Tr1        405\n",
       "210827-081513_Tr1        368\n",
       "210904-111316_Tr2.txt    360\n",
       "210825-132034_Tr1        264\n",
       "210824-104507_Tr1        233\n",
       "210825-112937_Tr1.txt    212\n",
       "210903-110841_Tr1        194\n",
       "25-115438_Tr2            187\n",
       "210827-133618_Tr1        180\n",
       "210824-100209_Tr1.txt     81\n",
       "210824-095226_Tr1.txt     67\n",
       "210903-095104_Tr1         25\n",
       "Name: filename, dtype: int64"
      ]
     },
     "execution_count": 40,
     "metadata": {},
     "output_type": "execute_result"
    }
   ],
   "source": [
    "df_bg.filename.unique()\n",
    "df_bg.filename.value_counts(dropna=False)"
   ]
  },
  {
   "cell_type": "code",
   "execution_count": 41,
   "id": "8bbb79d7",
   "metadata": {},
   "outputs": [
    {
     "data": {
      "text/html": [
       "<div>\n",
       "<style scoped>\n",
       "    .dataframe tbody tr th:only-of-type {\n",
       "        vertical-align: middle;\n",
       "    }\n",
       "\n",
       "    .dataframe tbody tr th {\n",
       "        vertical-align: top;\n",
       "    }\n",
       "\n",
       "    .dataframe thead th {\n",
       "        text-align: right;\n",
       "    }\n",
       "</style>\n",
       "<table border=\"1\" class=\"dataframe\">\n",
       "  <thead>\n",
       "    <tr style=\"text-align: right;\">\n",
       "      <th></th>\n",
       "      <th>filename</th>\n",
       "      <th>begin_time</th>\n",
       "      <th>bg_begin_time</th>\n",
       "      <th>bg_end_time</th>\n",
       "    </tr>\n",
       "  </thead>\n",
       "  <tbody>\n",
       "    <tr>\n",
       "      <th>110</th>\n",
       "      <td>210824-100209_Tr1.txt</td>\n",
       "      <td>164.754418</td>\n",
       "      <td>165.070299</td>\n",
       "      <td>166.166312</td>\n",
       "    </tr>\n",
       "    <tr>\n",
       "      <th>111</th>\n",
       "      <td>210824-100209_Tr1.txt</td>\n",
       "      <td>166.166312</td>\n",
       "      <td>166.740641</td>\n",
       "      <td>167.209677</td>\n",
       "    </tr>\n",
       "    <tr>\n",
       "      <th>112</th>\n",
       "      <td>210824-100209_Tr1.txt</td>\n",
       "      <td>167.209677</td>\n",
       "      <td>167.563847</td>\n",
       "      <td>170.582758</td>\n",
       "    </tr>\n",
       "    <tr>\n",
       "      <th>113</th>\n",
       "      <td>210824-100209_Tr1.txt</td>\n",
       "      <td>170.582758</td>\n",
       "      <td>170.908211</td>\n",
       "      <td>171.147515</td>\n",
       "    </tr>\n",
       "    <tr>\n",
       "      <th>114</th>\n",
       "      <td>210824-100209_Tr1.txt</td>\n",
       "      <td>171.147515</td>\n",
       "      <td>171.755348</td>\n",
       "      <td>172.940627</td>\n",
       "    </tr>\n",
       "    <tr>\n",
       "      <th>115</th>\n",
       "      <td>210824-100209_Tr1.txt</td>\n",
       "      <td>172.940627</td>\n",
       "      <td>173.266081</td>\n",
       "      <td>174.807685</td>\n",
       "    </tr>\n",
       "    <tr>\n",
       "      <th>116</th>\n",
       "      <td>210824-100209_Tr1.txt</td>\n",
       "      <td>174.807685</td>\n",
       "      <td>175.185785</td>\n",
       "      <td>176.515916</td>\n",
       "    </tr>\n",
       "    <tr>\n",
       "      <th>117</th>\n",
       "      <td>210824-100209_Tr1.txt</td>\n",
       "      <td>176.515916</td>\n",
       "      <td>176.989738</td>\n",
       "      <td>177.559281</td>\n",
       "    </tr>\n",
       "    <tr>\n",
       "      <th>118</th>\n",
       "      <td>210824-100209_Tr1.txt</td>\n",
       "      <td>177.559281</td>\n",
       "      <td>177.808157</td>\n",
       "      <td>178.253263</td>\n",
       "    </tr>\n",
       "    <tr>\n",
       "      <th>119</th>\n",
       "      <td>210824-100209_Tr1.txt</td>\n",
       "      <td>178.253263</td>\n",
       "      <td>178.765373</td>\n",
       "      <td>179.023900</td>\n",
       "    </tr>\n",
       "    <tr>\n",
       "      <th>120</th>\n",
       "      <td>210824-100209_Tr1.txt</td>\n",
       "      <td>179.023900</td>\n",
       "      <td>179.392428</td>\n",
       "      <td>180.344858</td>\n",
       "    </tr>\n",
       "    <tr>\n",
       "      <th>121</th>\n",
       "      <td>210824-100209_Tr1.txt</td>\n",
       "      <td>180.344858</td>\n",
       "      <td>180.703814</td>\n",
       "      <td>182.691986</td>\n",
       "    </tr>\n",
       "    <tr>\n",
       "      <th>122</th>\n",
       "      <td>210824-100209_Tr1.txt</td>\n",
       "      <td>182.691986</td>\n",
       "      <td>183.007868</td>\n",
       "      <td>185.214442</td>\n",
       "    </tr>\n",
       "    <tr>\n",
       "      <th>123</th>\n",
       "      <td>210824-100209_Tr1.txt</td>\n",
       "      <td>185.214442</td>\n",
       "      <td>186.200374</td>\n",
       "      <td>186.262593</td>\n",
       "    </tr>\n",
       "    <tr>\n",
       "      <th>124</th>\n",
       "      <td>210824-100209_Tr1.txt</td>\n",
       "      <td>186.262593</td>\n",
       "      <td>186.564116</td>\n",
       "      <td>187.410876</td>\n",
       "    </tr>\n",
       "    <tr>\n",
       "      <th>125</th>\n",
       "      <td>210824-100209_Tr1.txt</td>\n",
       "      <td>187.410876</td>\n",
       "      <td>187.913414</td>\n",
       "      <td>187.937345</td>\n",
       "    </tr>\n",
       "    <tr>\n",
       "      <th>126</th>\n",
       "      <td>210824-100209_Tr1.txt</td>\n",
       "      <td>187.937345</td>\n",
       "      <td>188.861058</td>\n",
       "      <td>190.007434</td>\n",
       "    </tr>\n",
       "    <tr>\n",
       "      <th>127</th>\n",
       "      <td>210824-100209_Tr1.txt</td>\n",
       "      <td>190.007434</td>\n",
       "      <td>190.447753</td>\n",
       "      <td>192.065448</td>\n",
       "    </tr>\n",
       "    <tr>\n",
       "      <th>128</th>\n",
       "      <td>210824-100209_Tr1.txt</td>\n",
       "      <td>192.065448</td>\n",
       "      <td>192.323897</td>\n",
       "      <td>194.165418</td>\n",
       "    </tr>\n",
       "    <tr>\n",
       "      <th>129</th>\n",
       "      <td>210824-100209_Tr1.txt</td>\n",
       "      <td>194.165418</td>\n",
       "      <td>194.500444</td>\n",
       "      <td>195.371111</td>\n",
       "    </tr>\n",
       "    <tr>\n",
       "      <th>130</th>\n",
       "      <td>210824-100209_Tr1.txt</td>\n",
       "      <td>195.371111</td>\n",
       "      <td>196.108167</td>\n",
       "      <td>197.194607</td>\n",
       "    </tr>\n",
       "  </tbody>\n",
       "</table>\n",
       "</div>"
      ],
      "text/plain": [
       "                  filename  begin_time  bg_begin_time  bg_end_time\n",
       "110  210824-100209_Tr1.txt  164.754418     165.070299   166.166312\n",
       "111  210824-100209_Tr1.txt  166.166312     166.740641   167.209677\n",
       "112  210824-100209_Tr1.txt  167.209677     167.563847   170.582758\n",
       "113  210824-100209_Tr1.txt  170.582758     170.908211   171.147515\n",
       "114  210824-100209_Tr1.txt  171.147515     171.755348   172.940627\n",
       "115  210824-100209_Tr1.txt  172.940627     173.266081   174.807685\n",
       "116  210824-100209_Tr1.txt  174.807685     175.185785   176.515916\n",
       "117  210824-100209_Tr1.txt  176.515916     176.989738   177.559281\n",
       "118  210824-100209_Tr1.txt  177.559281     177.808157   178.253263\n",
       "119  210824-100209_Tr1.txt  178.253263     178.765373   179.023900\n",
       "120  210824-100209_Tr1.txt  179.023900     179.392428   180.344858\n",
       "121  210824-100209_Tr1.txt  180.344858     180.703814   182.691986\n",
       "122  210824-100209_Tr1.txt  182.691986     183.007868   185.214442\n",
       "123  210824-100209_Tr1.txt  185.214442     186.200374   186.262593\n",
       "124  210824-100209_Tr1.txt  186.262593     186.564116   187.410876\n",
       "125  210824-100209_Tr1.txt  187.410876     187.913414   187.937345\n",
       "126  210824-100209_Tr1.txt  187.937345     188.861058   190.007434\n",
       "127  210824-100209_Tr1.txt  190.007434     190.447753   192.065448\n",
       "128  210824-100209_Tr1.txt  192.065448     192.323897   194.165418\n",
       "129  210824-100209_Tr1.txt  194.165418     194.500444   195.371111\n",
       "130  210824-100209_Tr1.txt  195.371111     196.108167   197.194607"
      ]
     },
     "execution_count": 41,
     "metadata": {},
     "output_type": "execute_result"
    }
   ],
   "source": [
    "df_bg.loc[110:130]"
   ]
  },
  {
   "cell_type": "code",
   "execution_count": 42,
   "id": "fd7c20df",
   "metadata": {},
   "outputs": [
    {
     "data": {
      "text/html": [
       "<div>\n",
       "<style scoped>\n",
       "    .dataframe tbody tr th:only-of-type {\n",
       "        vertical-align: middle;\n",
       "    }\n",
       "\n",
       "    .dataframe tbody tr th {\n",
       "        vertical-align: top;\n",
       "    }\n",
       "\n",
       "    .dataframe thead th {\n",
       "        text-align: right;\n",
       "    }\n",
       "</style>\n",
       "<table border=\"1\" class=\"dataframe\">\n",
       "  <thead>\n",
       "    <tr style=\"text-align: right;\">\n",
       "      <th></th>\n",
       "      <th>filename</th>\n",
       "      <th>begin_time</th>\n",
       "      <th>bg_begin_time</th>\n",
       "      <th>bg_end_time</th>\n",
       "    </tr>\n",
       "  </thead>\n",
       "  <tbody>\n",
       "    <tr>\n",
       "      <th>6652</th>\n",
       "      <td>25-115438_Tr2</td>\n",
       "      <td>579.313619</td>\n",
       "      <td>580.243479</td>\n",
       "      <td>580.662828</td>\n",
       "    </tr>\n",
       "    <tr>\n",
       "      <th>6653</th>\n",
       "      <td>25-115438_Tr2</td>\n",
       "      <td>580.662828</td>\n",
       "      <td>581.683851</td>\n",
       "      <td>581.838828</td>\n",
       "    </tr>\n",
       "    <tr>\n",
       "      <th>6654</th>\n",
       "      <td>25-115438_Tr2</td>\n",
       "      <td>581.838828</td>\n",
       "      <td>582.759572</td>\n",
       "      <td>583.115107</td>\n",
       "    </tr>\n",
       "    <tr>\n",
       "      <th>6655</th>\n",
       "      <td>25-115438_Tr2</td>\n",
       "      <td>583.115107</td>\n",
       "      <td>584.281991</td>\n",
       "      <td>584.327572</td>\n",
       "    </tr>\n",
       "    <tr>\n",
       "      <th>6656</th>\n",
       "      <td>25-115438_Tr2</td>\n",
       "      <td>584.327572</td>\n",
       "      <td>585.175386</td>\n",
       "      <td>NaN</td>\n",
       "    </tr>\n",
       "  </tbody>\n",
       "</table>\n",
       "</div>"
      ],
      "text/plain": [
       "           filename  begin_time  bg_begin_time  bg_end_time\n",
       "6652  25-115438_Tr2  579.313619     580.243479   580.662828\n",
       "6653  25-115438_Tr2  580.662828     581.683851   581.838828\n",
       "6654  25-115438_Tr2  581.838828     582.759572   583.115107\n",
       "6655  25-115438_Tr2  583.115107     584.281991   584.327572\n",
       "6656  25-115438_Tr2  584.327572     585.175386          NaN"
      ]
     },
     "execution_count": 42,
     "metadata": {},
     "output_type": "execute_result"
    }
   ],
   "source": [
    "df_bg.tail()"
   ]
  },
  {
   "cell_type": "code",
   "execution_count": 43,
   "id": "6697660e",
   "metadata": {},
   "outputs": [
    {
     "data": {
      "text/plain": [
       "6470"
      ]
     },
     "execution_count": 43,
     "metadata": {},
     "output_type": "execute_result"
    }
   ],
   "source": [
    "df_bg[df_bg.filename == '25-115438_Tr2'].index.min()"
   ]
  },
  {
   "cell_type": "code",
   "execution_count": 44,
   "id": "af71dcc9",
   "metadata": {},
   "outputs": [
    {
     "data": {
      "text/html": [
       "<div>\n",
       "<style scoped>\n",
       "    .dataframe tbody tr th:only-of-type {\n",
       "        vertical-align: middle;\n",
       "    }\n",
       "\n",
       "    .dataframe tbody tr th {\n",
       "        vertical-align: top;\n",
       "    }\n",
       "\n",
       "    .dataframe thead th {\n",
       "        text-align: right;\n",
       "    }\n",
       "</style>\n",
       "<table border=\"1\" class=\"dataframe\">\n",
       "  <thead>\n",
       "    <tr style=\"text-align: right;\">\n",
       "      <th></th>\n",
       "      <th>filename</th>\n",
       "      <th>begin_time</th>\n",
       "      <th>bg_begin_time</th>\n",
       "      <th>bg_end_time</th>\n",
       "    </tr>\n",
       "  </thead>\n",
       "  <tbody>\n",
       "  </tbody>\n",
       "</table>\n",
       "</div>"
      ],
      "text/plain": [
       "Empty DataFrame\n",
       "Columns: [filename, begin_time, bg_begin_time, bg_end_time]\n",
       "Index: []"
      ]
     },
     "execution_count": 44,
     "metadata": {},
     "output_type": "execute_result"
    }
   ],
   "source": [
    "df_bg.loc[10900:10917]"
   ]
  },
  {
   "cell_type": "markdown",
   "id": "ac993915",
   "metadata": {},
   "source": [
    "## Finalize bg annotation df"
   ]
  },
  {
   "cell_type": "code",
   "execution_count": 45,
   "id": "5ea3eadc",
   "metadata": {},
   "outputs": [
    {
     "data": {
      "text/plain": [
       "19"
      ]
     },
     "execution_count": 45,
     "metadata": {},
     "output_type": "execute_result"
    }
   ],
   "source": [
    "df_bg.filename.nunique()"
   ]
  },
  {
   "cell_type": "code",
   "execution_count": 46,
   "id": "f430da5a",
   "metadata": {},
   "outputs": [
    {
     "data": {
      "text/plain": [
       "(6657, 4)"
      ]
     },
     "execution_count": 46,
     "metadata": {},
     "output_type": "execute_result"
    },
    {
     "data": {
      "text/plain": [
       "(6638, 4)"
      ]
     },
     "execution_count": 46,
     "metadata": {},
     "output_type": "execute_result"
    }
   ],
   "source": [
    "df_bg.shape\n",
    "df_bg = df_bg[~df_bg.bg_end_time.isna()]\n",
    "df_bg.shape"
   ]
  },
  {
   "cell_type": "code",
   "execution_count": 47,
   "id": "a2daa852",
   "metadata": {},
   "outputs": [],
   "source": [
    "df_bg = df_bg.drop('begin_time', axis=1)"
   ]
  },
  {
   "cell_type": "code",
   "execution_count": 50,
   "id": "08cb1f67",
   "metadata": {},
   "outputs": [],
   "source": [
    "df_bg['Annotation'] = 'bg'"
   ]
  },
  {
   "cell_type": "code",
   "execution_count": 51,
   "id": "6636e9d8",
   "metadata": {},
   "outputs": [],
   "source": [
    "df_bg['call_length'] = df_bg['bg_end_time'] - df_bg['bg_begin_time']"
   ]
  },
  {
   "cell_type": "markdown",
   "id": "cffe2e70",
   "metadata": {},
   "source": [
    "# Concat both dfs together"
   ]
  },
  {
   "cell_type": "code",
   "execution_count": 52,
   "id": "6359ebaa",
   "metadata": {},
   "outputs": [
    {
     "data": {
      "text/html": [
       "<div>\n",
       "<style scoped>\n",
       "    .dataframe tbody tr th:only-of-type {\n",
       "        vertical-align: middle;\n",
       "    }\n",
       "\n",
       "    .dataframe tbody tr th {\n",
       "        vertical-align: top;\n",
       "    }\n",
       "\n",
       "    .dataframe thead th {\n",
       "        text-align: right;\n",
       "    }\n",
       "</style>\n",
       "<table border=\"1\" class=\"dataframe\">\n",
       "  <thead>\n",
       "    <tr style=\"text-align: right;\">\n",
       "      <th></th>\n",
       "      <th>filename</th>\n",
       "      <th>begin_time</th>\n",
       "      <th>end_time</th>\n",
       "      <th>Annotation</th>\n",
       "      <th>call_length</th>\n",
       "    </tr>\n",
       "  </thead>\n",
       "  <tbody>\n",
       "    <tr>\n",
       "      <th>0</th>\n",
       "      <td>210824-095226_Tr1.txt</td>\n",
       "      <td>19.764583</td>\n",
       "      <td>20.169273</td>\n",
       "      <td>bg</td>\n",
       "      <td>0.404690</td>\n",
       "    </tr>\n",
       "    <tr>\n",
       "      <th>1</th>\n",
       "      <td>210824-095226_Tr1.txt</td>\n",
       "      <td>20.650971</td>\n",
       "      <td>40.781279</td>\n",
       "      <td>bg</td>\n",
       "      <td>20.130308</td>\n",
       "    </tr>\n",
       "    <tr>\n",
       "      <th>2</th>\n",
       "      <td>210824-095226_Tr1.txt</td>\n",
       "      <td>41.599046</td>\n",
       "      <td>44.016323</td>\n",
       "      <td>bg</td>\n",
       "      <td>2.417277</td>\n",
       "    </tr>\n",
       "    <tr>\n",
       "      <th>3</th>\n",
       "      <td>210824-095226_Tr1.txt</td>\n",
       "      <td>44.733270</td>\n",
       "      <td>64.404870</td>\n",
       "      <td>bg</td>\n",
       "      <td>19.671600</td>\n",
       "    </tr>\n",
       "    <tr>\n",
       "      <th>4</th>\n",
       "      <td>210824-095226_Tr1.txt</td>\n",
       "      <td>64.897771</td>\n",
       "      <td>72.605060</td>\n",
       "      <td>bg</td>\n",
       "      <td>7.707290</td>\n",
       "    </tr>\n",
       "  </tbody>\n",
       "</table>\n",
       "</div>"
      ],
      "text/plain": [
       "                filename  begin_time   end_time Annotation  call_length\n",
       "0  210824-095226_Tr1.txt   19.764583  20.169273         bg     0.404690\n",
       "1  210824-095226_Tr1.txt   20.650971  40.781279         bg    20.130308\n",
       "2  210824-095226_Tr1.txt   41.599046  44.016323         bg     2.417277\n",
       "3  210824-095226_Tr1.txt   44.733270  64.404870         bg    19.671600\n",
       "4  210824-095226_Tr1.txt   64.897771  72.605060         bg     7.707290"
      ]
     },
     "execution_count": 52,
     "metadata": {},
     "output_type": "execute_result"
    }
   ],
   "source": [
    "df_bg = df_bg.rename({'bg_begin_time': 'begin_time', 'bg_end_time': 'end_time'}, axis=1)\n",
    "df_bg.head()"
   ]
  },
  {
   "cell_type": "code",
   "execution_count": 53,
   "id": "2985b92b",
   "metadata": {},
   "outputs": [],
   "source": [
    "df_concat = pd.concat([df_bg, df_no_overlap[['begin_time', 'end_time', 'filename', 'call_length', 'Annotation']]])"
   ]
  },
  {
   "cell_type": "code",
   "execution_count": 54,
   "id": "323a4bfc",
   "metadata": {},
   "outputs": [],
   "source": [
    "df_concat = df_concat.rename({'Annotation': 'label'}, axis=1)"
   ]
  },
  {
   "cell_type": "code",
   "execution_count": 55,
   "id": "db9401b7",
   "metadata": {},
   "outputs": [
    {
     "data": {
      "text/html": [
       "<div>\n",
       "<style scoped>\n",
       "    .dataframe tbody tr th:only-of-type {\n",
       "        vertical-align: middle;\n",
       "    }\n",
       "\n",
       "    .dataframe tbody tr th {\n",
       "        vertical-align: top;\n",
       "    }\n",
       "\n",
       "    .dataframe thead th {\n",
       "        text-align: right;\n",
       "    }\n",
       "</style>\n",
       "<table border=\"1\" class=\"dataframe\">\n",
       "  <thead>\n",
       "    <tr style=\"text-align: right;\">\n",
       "      <th></th>\n",
       "      <th>filename</th>\n",
       "      <th>begin_time</th>\n",
       "      <th>end_time</th>\n",
       "      <th>label</th>\n",
       "      <th>call_length</th>\n",
       "    </tr>\n",
       "  </thead>\n",
       "  <tbody>\n",
       "    <tr>\n",
       "      <th>0</th>\n",
       "      <td>210824-095226_Tr1.txt</td>\n",
       "      <td>19.764583</td>\n",
       "      <td>20.169273</td>\n",
       "      <td>bg</td>\n",
       "      <td>0.404690</td>\n",
       "    </tr>\n",
       "    <tr>\n",
       "      <th>1</th>\n",
       "      <td>210824-095226_Tr1.txt</td>\n",
       "      <td>20.650971</td>\n",
       "      <td>40.781279</td>\n",
       "      <td>bg</td>\n",
       "      <td>20.130308</td>\n",
       "    </tr>\n",
       "    <tr>\n",
       "      <th>2</th>\n",
       "      <td>210824-095226_Tr1.txt</td>\n",
       "      <td>41.599046</td>\n",
       "      <td>44.016323</td>\n",
       "      <td>bg</td>\n",
       "      <td>2.417277</td>\n",
       "    </tr>\n",
       "    <tr>\n",
       "      <th>3</th>\n",
       "      <td>210824-095226_Tr1.txt</td>\n",
       "      <td>44.733270</td>\n",
       "      <td>64.404870</td>\n",
       "      <td>bg</td>\n",
       "      <td>19.671600</td>\n",
       "    </tr>\n",
       "    <tr>\n",
       "      <th>4</th>\n",
       "      <td>210824-095226_Tr1.txt</td>\n",
       "      <td>64.897771</td>\n",
       "      <td>72.605060</td>\n",
       "      <td>bg</td>\n",
       "      <td>7.707290</td>\n",
       "    </tr>\n",
       "  </tbody>\n",
       "</table>\n",
       "</div>"
      ],
      "text/plain": [
       "                filename  begin_time   end_time label  call_length\n",
       "0  210824-095226_Tr1.txt   19.764583  20.169273    bg     0.404690\n",
       "1  210824-095226_Tr1.txt   20.650971  40.781279    bg    20.130308\n",
       "2  210824-095226_Tr1.txt   41.599046  44.016323    bg     2.417277\n",
       "3  210824-095226_Tr1.txt   44.733270  64.404870    bg    19.671600\n",
       "4  210824-095226_Tr1.txt   64.897771  72.605060    bg     7.707290"
      ]
     },
     "execution_count": 55,
     "metadata": {},
     "output_type": "execute_result"
    }
   ],
   "source": [
    "df_concat.head()"
   ]
  },
  {
   "cell_type": "markdown",
   "id": "65f6b519",
   "metadata": {},
   "source": [
    "## Sanity"
   ]
  },
  {
   "cell_type": "markdown",
   "id": "19efd00b",
   "metadata": {},
   "source": [
    "Sanity: do we have the same number of 'w' annotations as 'bg' ones?"
   ]
  },
  {
   "cell_type": "code",
   "execution_count": 56,
   "id": "81b8f64e",
   "metadata": {},
   "outputs": [
    {
     "data": {
      "text/plain": [
       "w     6657\n",
       "bg    6638\n",
       "Name: label, dtype: int64"
      ]
     },
     "execution_count": 56,
     "metadata": {},
     "output_type": "execute_result"
    }
   ],
   "source": [
    "df_concat.label.value_counts()"
   ]
  },
  {
   "cell_type": "markdown",
   "id": "e01cd87e",
   "metadata": {},
   "source": [
    "Is the difference due to 'bg' not coming between a 'w'and the start/end of a recording?"
   ]
  },
  {
   "cell_type": "code",
   "execution_count": 57,
   "id": "53661e42",
   "metadata": {},
   "outputs": [
    {
     "data": {
      "text/plain": [
       "19"
      ]
     },
     "execution_count": 57,
     "metadata": {},
     "output_type": "execute_result"
    }
   ],
   "source": [
    "df_concat.filename.nunique()"
   ]
  },
  {
   "cell_type": "code",
   "execution_count": 58,
   "id": "d8a637f1",
   "metadata": {},
   "outputs": [
    {
     "data": {
      "text/plain": [
       "19"
      ]
     },
     "execution_count": 58,
     "metadata": {},
     "output_type": "execute_result"
    }
   ],
   "source": [
    "df_concat.label.value_counts()[0]-df_concat.label.value_counts()[1]"
   ]
  },
  {
   "cell_type": "markdown",
   "id": "4fe8dfa2",
   "metadata": {},
   "source": [
    "Yes. Good."
   ]
  },
  {
   "cell_type": "markdown",
   "id": "e5632db8",
   "metadata": {},
   "source": [
    "## Save"
   ]
  },
  {
   "cell_type": "code",
   "execution_count": 59,
   "id": "bdace95a",
   "metadata": {},
   "outputs": [],
   "source": [
    "df_concat.to_csv('../datasets/mozambique_2021/2021_data_prepped_with_bg.csv', index=False)"
   ]
  },
  {
   "cell_type": "markdown",
   "id": "6eb7d088",
   "metadata": {},
   "source": [
    "# Split to sets"
   ]
  },
  {
   "cell_type": "markdown",
   "id": "5b400296",
   "metadata": {},
   "source": [
    "Preferred DV ratio: 70-20-10"
   ]
  },
  {
   "cell_type": "markdown",
   "id": "1fbb15d8",
   "metadata": {},
   "source": [
    "## Explore different recordings"
   ]
  },
  {
   "cell_type": "code",
   "execution_count": 60,
   "id": "46aad12f",
   "metadata": {},
   "outputs": [
    {
     "data": {
      "text/html": [
       "<div>\n",
       "<style scoped>\n",
       "    .dataframe tbody tr th:only-of-type {\n",
       "        vertical-align: middle;\n",
       "    }\n",
       "\n",
       "    .dataframe tbody tr th {\n",
       "        vertical-align: top;\n",
       "    }\n",
       "\n",
       "    .dataframe thead th {\n",
       "        text-align: right;\n",
       "    }\n",
       "</style>\n",
       "<table border=\"1\" class=\"dataframe\">\n",
       "  <thead>\n",
       "    <tr style=\"text-align: right;\">\n",
       "      <th></th>\n",
       "      <th>filename</th>\n",
       "      <th>begin_time</th>\n",
       "      <th>end_time</th>\n",
       "      <th>label</th>\n",
       "      <th>call_length</th>\n",
       "    </tr>\n",
       "  </thead>\n",
       "  <tbody>\n",
       "    <tr>\n",
       "      <th>0</th>\n",
       "      <td>210824-095226_Tr1.txt</td>\n",
       "      <td>19.764583</td>\n",
       "      <td>20.169273</td>\n",
       "      <td>bg</td>\n",
       "      <td>0.404690</td>\n",
       "    </tr>\n",
       "    <tr>\n",
       "      <th>1</th>\n",
       "      <td>210824-095226_Tr1.txt</td>\n",
       "      <td>20.650971</td>\n",
       "      <td>40.781279</td>\n",
       "      <td>bg</td>\n",
       "      <td>20.130308</td>\n",
       "    </tr>\n",
       "    <tr>\n",
       "      <th>2</th>\n",
       "      <td>210824-095226_Tr1.txt</td>\n",
       "      <td>41.599046</td>\n",
       "      <td>44.016323</td>\n",
       "      <td>bg</td>\n",
       "      <td>2.417277</td>\n",
       "    </tr>\n",
       "    <tr>\n",
       "      <th>3</th>\n",
       "      <td>210824-095226_Tr1.txt</td>\n",
       "      <td>44.733270</td>\n",
       "      <td>64.404870</td>\n",
       "      <td>bg</td>\n",
       "      <td>19.671600</td>\n",
       "    </tr>\n",
       "    <tr>\n",
       "      <th>4</th>\n",
       "      <td>210824-095226_Tr1.txt</td>\n",
       "      <td>64.897771</td>\n",
       "      <td>72.605060</td>\n",
       "      <td>bg</td>\n",
       "      <td>7.707290</td>\n",
       "    </tr>\n",
       "  </tbody>\n",
       "</table>\n",
       "</div>"
      ],
      "text/plain": [
       "                filename  begin_time   end_time label  call_length\n",
       "0  210824-095226_Tr1.txt   19.764583  20.169273    bg     0.404690\n",
       "1  210824-095226_Tr1.txt   20.650971  40.781279    bg    20.130308\n",
       "2  210824-095226_Tr1.txt   41.599046  44.016323    bg     2.417277\n",
       "3  210824-095226_Tr1.txt   44.733270  64.404870    bg    19.671600\n",
       "4  210824-095226_Tr1.txt   64.897771  72.605060    bg     7.707290"
      ]
     },
     "execution_count": 60,
     "metadata": {},
     "output_type": "execute_result"
    }
   ],
   "source": [
    "df_concat.head()"
   ]
  },
  {
   "cell_type": "code",
   "execution_count": 80,
   "id": "93115968",
   "metadata": {},
   "outputs": [],
   "source": [
    "df_meta = df_concat[df_concat.label=='w'].groupby('filename').agg(\n",
    "    count_calls = pd.NamedAgg('begin_time', 'count'),\n",
    "    sum_call_length = pd.NamedAgg('call_length', 'sum'),\n",
    "    avg_call_length = pd.NamedAgg('call_length', 'mean'),\n",
    ").sort_values('filename')\n",
    "\n"
   ]
  },
  {
   "cell_type": "code",
   "execution_count": 81,
   "id": "b65d98d8",
   "metadata": {},
   "outputs": [],
   "source": [
    "df_meta['cum_call_length'] = df_meta.sum_call_length.cumsum()\n",
    "df_meta['cum_perc'] = 100*df_meta['cum_call_length']/(df_meta['sum_call_length'].sum())"
   ]
  },
  {
   "cell_type": "code",
   "execution_count": 123,
   "id": "95b9aedc",
   "metadata": {},
   "outputs": [
    {
     "data": {
      "text/html": [
       "<div>\n",
       "<style scoped>\n",
       "    .dataframe tbody tr th:only-of-type {\n",
       "        vertical-align: middle;\n",
       "    }\n",
       "\n",
       "    .dataframe tbody tr th {\n",
       "        vertical-align: top;\n",
       "    }\n",
       "\n",
       "    .dataframe thead th {\n",
       "        text-align: right;\n",
       "    }\n",
       "</style>\n",
       "<table border=\"1\" class=\"dataframe\">\n",
       "  <thead>\n",
       "    <tr style=\"text-align: right;\">\n",
       "      <th></th>\n",
       "      <th>count_calls</th>\n",
       "      <th>sum_call_length</th>\n",
       "      <th>avg_call_length</th>\n",
       "      <th>cum_call_length</th>\n",
       "      <th>cum_perc</th>\n",
       "    </tr>\n",
       "    <tr>\n",
       "      <th>filename</th>\n",
       "      <th></th>\n",
       "      <th></th>\n",
       "      <th></th>\n",
       "      <th></th>\n",
       "      <th></th>\n",
       "    </tr>\n",
       "  </thead>\n",
       "  <tbody>\n",
       "    <tr>\n",
       "      <th>210824-095226_Tr1.txt</th>\n",
       "      <td>67</td>\n",
       "      <td>41.941372</td>\n",
       "      <td>0.625991</td>\n",
       "      <td>41.941372</td>\n",
       "      <td>0.770581</td>\n",
       "    </tr>\n",
       "    <tr>\n",
       "      <th>210824-100209_Tr1.txt</th>\n",
       "      <td>81</td>\n",
       "      <td>38.092410</td>\n",
       "      <td>0.470277</td>\n",
       "      <td>80.033782</td>\n",
       "      <td>1.470447</td>\n",
       "    </tr>\n",
       "    <tr>\n",
       "      <th>210824-104507_Tr1</th>\n",
       "      <td>233</td>\n",
       "      <td>161.624490</td>\n",
       "      <td>0.693667</td>\n",
       "      <td>241.658272</td>\n",
       "      <td>4.439945</td>\n",
       "    </tr>\n",
       "    <tr>\n",
       "      <th>210824-115331_Tr1.txt</th>\n",
       "      <td>737</td>\n",
       "      <td>410.209489</td>\n",
       "      <td>0.556594</td>\n",
       "      <td>651.867761</td>\n",
       "      <td>11.976652</td>\n",
       "    </tr>\n",
       "    <tr>\n",
       "      <th>210824-125439_Tr1.txt</th>\n",
       "      <td>594</td>\n",
       "      <td>466.242653</td>\n",
       "      <td>0.784920</td>\n",
       "      <td>1118.110414</td>\n",
       "      <td>20.542846</td>\n",
       "    </tr>\n",
       "    <tr>\n",
       "      <th>210825-102141_Tr1.txt</th>\n",
       "      <td>443</td>\n",
       "      <td>359.170015</td>\n",
       "      <td>0.810768</td>\n",
       "      <td>1477.280429</td>\n",
       "      <td>27.141813</td>\n",
       "    </tr>\n",
       "    <tr>\n",
       "      <th>210825-112937_Tr1.txt</th>\n",
       "      <td>212</td>\n",
       "      <td>182.875824</td>\n",
       "      <td>0.862622</td>\n",
       "      <td>1660.156253</td>\n",
       "      <td>30.501758</td>\n",
       "    </tr>\n",
       "    <tr>\n",
       "      <th>210825-132034_Tr1</th>\n",
       "      <td>264</td>\n",
       "      <td>174.965576</td>\n",
       "      <td>0.662748</td>\n",
       "      <td>1835.121830</td>\n",
       "      <td>33.716370</td>\n",
       "    </tr>\n",
       "    <tr>\n",
       "      <th>210825-135601_Tr1</th>\n",
       "      <td>479</td>\n",
       "      <td>339.551953</td>\n",
       "      <td>0.708877</td>\n",
       "      <td>2174.673783</td>\n",
       "      <td>39.954898</td>\n",
       "    </tr>\n",
       "    <tr>\n",
       "      <th>210826-083608_Tr1</th>\n",
       "      <td>614</td>\n",
       "      <td>506.587613</td>\n",
       "      <td>0.825061</td>\n",
       "      <td>2681.261396</td>\n",
       "      <td>49.262343</td>\n",
       "    </tr>\n",
       "    <tr>\n",
       "      <th>210827-081513_Tr1</th>\n",
       "      <td>368</td>\n",
       "      <td>332.039284</td>\n",
       "      <td>0.902281</td>\n",
       "      <td>3013.300679</td>\n",
       "      <td>55.362843</td>\n",
       "    </tr>\n",
       "    <tr>\n",
       "      <th>210827-090209_Tr1</th>\n",
       "      <td>405</td>\n",
       "      <td>356.646961</td>\n",
       "      <td>0.880610</td>\n",
       "      <td>3369.947641</td>\n",
       "      <td>61.915455</td>\n",
       "    </tr>\n",
       "    <tr>\n",
       "      <th>210827-133618_Tr1</th>\n",
       "      <td>180</td>\n",
       "      <td>128.514283</td>\n",
       "      <td>0.713968</td>\n",
       "      <td>3498.461924</td>\n",
       "      <td>64.276625</td>\n",
       "    </tr>\n",
       "    <tr>\n",
       "      <th>210828-080644_Tr1</th>\n",
       "      <td>538</td>\n",
       "      <td>647.914756</td>\n",
       "      <td>1.204303</td>\n",
       "      <td>4146.376680</td>\n",
       "      <td>76.180649</td>\n",
       "    </tr>\n",
       "    <tr>\n",
       "      <th>210903-095104_Tr1</th>\n",
       "      <td>25</td>\n",
       "      <td>25.673249</td>\n",
       "      <td>1.026930</td>\n",
       "      <td>4172.049929</td>\n",
       "      <td>76.652339</td>\n",
       "    </tr>\n",
       "    <tr>\n",
       "      <th>210903-110841_Tr1</th>\n",
       "      <td>194</td>\n",
       "      <td>113.619454</td>\n",
       "      <td>0.585667</td>\n",
       "      <td>4285.669382</td>\n",
       "      <td>78.739849</td>\n",
       "    </tr>\n",
       "    <tr>\n",
       "      <th>210904-074321_Tr1</th>\n",
       "      <td>676</td>\n",
       "      <td>611.083865</td>\n",
       "      <td>0.903970</td>\n",
       "      <td>4896.753247</td>\n",
       "      <td>89.967185</td>\n",
       "    </tr>\n",
       "    <tr>\n",
       "      <th>210904-111316_Tr2.txt</th>\n",
       "      <td>360</td>\n",
       "      <td>390.156529</td>\n",
       "      <td>1.083768</td>\n",
       "      <td>5286.909776</td>\n",
       "      <td>97.135462</td>\n",
       "    </tr>\n",
       "    <tr>\n",
       "      <th>25-115438_Tr2</th>\n",
       "      <td>187</td>\n",
       "      <td>155.911676</td>\n",
       "      <td>0.833752</td>\n",
       "      <td>5442.821452</td>\n",
       "      <td>100.000000</td>\n",
       "    </tr>\n",
       "  </tbody>\n",
       "</table>\n",
       "</div>"
      ],
      "text/plain": [
       "                       count_calls  sum_call_length  avg_call_length  \\\n",
       "filename                                                               \n",
       "210824-095226_Tr1.txt           67        41.941372         0.625991   \n",
       "210824-100209_Tr1.txt           81        38.092410         0.470277   \n",
       "210824-104507_Tr1              233       161.624490         0.693667   \n",
       "210824-115331_Tr1.txt          737       410.209489         0.556594   \n",
       "210824-125439_Tr1.txt          594       466.242653         0.784920   \n",
       "210825-102141_Tr1.txt          443       359.170015         0.810768   \n",
       "210825-112937_Tr1.txt          212       182.875824         0.862622   \n",
       "210825-132034_Tr1              264       174.965576         0.662748   \n",
       "210825-135601_Tr1              479       339.551953         0.708877   \n",
       "210826-083608_Tr1              614       506.587613         0.825061   \n",
       "210827-081513_Tr1              368       332.039284         0.902281   \n",
       "210827-090209_Tr1              405       356.646961         0.880610   \n",
       "210827-133618_Tr1              180       128.514283         0.713968   \n",
       "210828-080644_Tr1              538       647.914756         1.204303   \n",
       "210903-095104_Tr1               25        25.673249         1.026930   \n",
       "210903-110841_Tr1              194       113.619454         0.585667   \n",
       "210904-074321_Tr1              676       611.083865         0.903970   \n",
       "210904-111316_Tr2.txt          360       390.156529         1.083768   \n",
       "25-115438_Tr2                  187       155.911676         0.833752   \n",
       "\n",
       "                       cum_call_length    cum_perc  \n",
       "filename                                            \n",
       "210824-095226_Tr1.txt        41.941372    0.770581  \n",
       "210824-100209_Tr1.txt        80.033782    1.470447  \n",
       "210824-104507_Tr1           241.658272    4.439945  \n",
       "210824-115331_Tr1.txt       651.867761   11.976652  \n",
       "210824-125439_Tr1.txt      1118.110414   20.542846  \n",
       "210825-102141_Tr1.txt      1477.280429   27.141813  \n",
       "210825-112937_Tr1.txt      1660.156253   30.501758  \n",
       "210825-132034_Tr1          1835.121830   33.716370  \n",
       "210825-135601_Tr1          2174.673783   39.954898  \n",
       "210826-083608_Tr1          2681.261396   49.262343  \n",
       "210827-081513_Tr1          3013.300679   55.362843  \n",
       "210827-090209_Tr1          3369.947641   61.915455  \n",
       "210827-133618_Tr1          3498.461924   64.276625  \n",
       "210828-080644_Tr1          4146.376680   76.180649  \n",
       "210903-095104_Tr1          4172.049929   76.652339  \n",
       "210903-110841_Tr1          4285.669382   78.739849  \n",
       "210904-074321_Tr1          4896.753247   89.967185  \n",
       "210904-111316_Tr2.txt      5286.909776   97.135462  \n",
       "25-115438_Tr2              5442.821452  100.000000  "
      ]
     },
     "execution_count": 123,
     "metadata": {},
     "output_type": "execute_result"
    }
   ],
   "source": [
    "df_meta"
   ]
  },
  {
   "cell_type": "markdown",
   "id": "09ecc536",
   "metadata": {},
   "source": [
    "## Assign recordings to sets"
   ]
  },
  {
   "cell_type": "markdown",
   "id": "fc9ba201",
   "metadata": {},
   "source": [
    "Preferred DV ratio: 70-20-10"
   ]
  },
  {
   "cell_type": "code",
   "execution_count": 124,
   "id": "f345da82",
   "metadata": {},
   "outputs": [
    {
     "data": {
      "text/plain": [
       "['210824-095226_Tr1.txt',\n",
       " '210824-100209_Tr1.txt',\n",
       " '210824-104507_Tr1',\n",
       " '210824-115331_Tr1.txt',\n",
       " '210824-125439_Tr1.txt',\n",
       " '210825-102141_Tr1.txt',\n",
       " '210825-112937_Tr1.txt',\n",
       " '210825-132034_Tr1',\n",
       " '210825-135601_Tr1',\n",
       " '210826-083608_Tr1',\n",
       " '210827-081513_Tr1',\n",
       " '210827-090209_Tr1',\n",
       " '210827-133618_Tr1']"
      ]
     },
     "execution_count": 124,
     "metadata": {},
     "output_type": "execute_result"
    }
   ],
   "source": [
    "train_files = df_meta.loc[df_meta['cum_perc']<70].index.tolist()\n",
    "# train_files.append('25-115438_Tr2') #to get closer to 70%\n",
    "train_files"
   ]
  },
  {
   "cell_type": "code",
   "execution_count": 125,
   "id": "5aed3e29",
   "metadata": {},
   "outputs": [
    {
     "data": {
      "text/plain": [
       "['210828-080644_Tr1',\n",
       " '210903-095104_Tr1',\n",
       " '210903-110841_Tr1',\n",
       " '210904-074321_Tr1']"
      ]
     },
     "execution_count": 125,
     "metadata": {},
     "output_type": "execute_result"
    }
   ],
   "source": [
    "val_files = df_meta.loc[((df_meta['cum_perc']>70) & (df_meta['cum_perc']<90))].index.tolist()\n",
    "val_files"
   ]
  },
  {
   "cell_type": "code",
   "execution_count": 126,
   "id": "98fdfaaa",
   "metadata": {},
   "outputs": [
    {
     "data": {
      "text/plain": [
       "['210904-111316_Tr2.txt', '25-115438_Tr2']"
      ]
     },
     "execution_count": 126,
     "metadata": {},
     "output_type": "execute_result"
    }
   ],
   "source": [
    "test_files = df_meta.loc[(df_meta['cum_perc']>90)].index.tolist()\n",
    "test_files"
   ]
  },
  {
   "cell_type": "markdown",
   "id": "6522660b",
   "metadata": {},
   "source": [
    "### validate split"
   ]
  },
  {
   "cell_type": "code",
   "execution_count": null,
   "id": "219bb525",
   "metadata": {},
   "outputs": [],
   "source": []
  },
  {
   "cell_type": "code",
   "execution_count": 127,
   "id": "fb8d5fdd",
   "metadata": {},
   "outputs": [
    {
     "data": {
      "text/html": [
       "<div>\n",
       "<style scoped>\n",
       "    .dataframe tbody tr th:only-of-type {\n",
       "        vertical-align: middle;\n",
       "    }\n",
       "\n",
       "    .dataframe tbody tr th {\n",
       "        vertical-align: top;\n",
       "    }\n",
       "\n",
       "    .dataframe thead th {\n",
       "        text-align: right;\n",
       "    }\n",
       "</style>\n",
       "<table border=\"1\" class=\"dataframe\">\n",
       "  <thead>\n",
       "    <tr style=\"text-align: right;\">\n",
       "      <th></th>\n",
       "      <th>count_calls</th>\n",
       "      <th>sum_call_length</th>\n",
       "      <th>avg_call_length</th>\n",
       "      <th>cum_call_length</th>\n",
       "      <th>cum_perc</th>\n",
       "    </tr>\n",
       "    <tr>\n",
       "      <th>filename</th>\n",
       "      <th></th>\n",
       "      <th></th>\n",
       "      <th></th>\n",
       "      <th></th>\n",
       "      <th></th>\n",
       "    </tr>\n",
       "  </thead>\n",
       "  <tbody>\n",
       "    <tr>\n",
       "      <th>210824-095226_Tr1.txt</th>\n",
       "      <td>67</td>\n",
       "      <td>41.941372</td>\n",
       "      <td>0.625991</td>\n",
       "      <td>41.941372</td>\n",
       "      <td>0.770581</td>\n",
       "    </tr>\n",
       "    <tr>\n",
       "      <th>210824-100209_Tr1.txt</th>\n",
       "      <td>81</td>\n",
       "      <td>38.092410</td>\n",
       "      <td>0.470277</td>\n",
       "      <td>80.033782</td>\n",
       "      <td>1.470447</td>\n",
       "    </tr>\n",
       "    <tr>\n",
       "      <th>210824-104507_Tr1</th>\n",
       "      <td>233</td>\n",
       "      <td>161.624490</td>\n",
       "      <td>0.693667</td>\n",
       "      <td>241.658272</td>\n",
       "      <td>4.439945</td>\n",
       "    </tr>\n",
       "    <tr>\n",
       "      <th>210824-115331_Tr1.txt</th>\n",
       "      <td>737</td>\n",
       "      <td>410.209489</td>\n",
       "      <td>0.556594</td>\n",
       "      <td>651.867761</td>\n",
       "      <td>11.976652</td>\n",
       "    </tr>\n",
       "    <tr>\n",
       "      <th>210824-125439_Tr1.txt</th>\n",
       "      <td>594</td>\n",
       "      <td>466.242653</td>\n",
       "      <td>0.784920</td>\n",
       "      <td>1118.110414</td>\n",
       "      <td>20.542846</td>\n",
       "    </tr>\n",
       "    <tr>\n",
       "      <th>210825-102141_Tr1.txt</th>\n",
       "      <td>443</td>\n",
       "      <td>359.170015</td>\n",
       "      <td>0.810768</td>\n",
       "      <td>1477.280429</td>\n",
       "      <td>27.141813</td>\n",
       "    </tr>\n",
       "    <tr>\n",
       "      <th>210825-112937_Tr1.txt</th>\n",
       "      <td>212</td>\n",
       "      <td>182.875824</td>\n",
       "      <td>0.862622</td>\n",
       "      <td>1660.156253</td>\n",
       "      <td>30.501758</td>\n",
       "    </tr>\n",
       "    <tr>\n",
       "      <th>210825-132034_Tr1</th>\n",
       "      <td>264</td>\n",
       "      <td>174.965576</td>\n",
       "      <td>0.662748</td>\n",
       "      <td>1835.121830</td>\n",
       "      <td>33.716370</td>\n",
       "    </tr>\n",
       "    <tr>\n",
       "      <th>210825-135601_Tr1</th>\n",
       "      <td>479</td>\n",
       "      <td>339.551953</td>\n",
       "      <td>0.708877</td>\n",
       "      <td>2174.673783</td>\n",
       "      <td>39.954898</td>\n",
       "    </tr>\n",
       "    <tr>\n",
       "      <th>210826-083608_Tr1</th>\n",
       "      <td>614</td>\n",
       "      <td>506.587613</td>\n",
       "      <td>0.825061</td>\n",
       "      <td>2681.261396</td>\n",
       "      <td>49.262343</td>\n",
       "    </tr>\n",
       "    <tr>\n",
       "      <th>210827-081513_Tr1</th>\n",
       "      <td>368</td>\n",
       "      <td>332.039284</td>\n",
       "      <td>0.902281</td>\n",
       "      <td>3013.300679</td>\n",
       "      <td>55.362843</td>\n",
       "    </tr>\n",
       "    <tr>\n",
       "      <th>210827-090209_Tr1</th>\n",
       "      <td>405</td>\n",
       "      <td>356.646961</td>\n",
       "      <td>0.880610</td>\n",
       "      <td>3369.947641</td>\n",
       "      <td>61.915455</td>\n",
       "    </tr>\n",
       "    <tr>\n",
       "      <th>210827-133618_Tr1</th>\n",
       "      <td>180</td>\n",
       "      <td>128.514283</td>\n",
       "      <td>0.713968</td>\n",
       "      <td>3498.461924</td>\n",
       "      <td>64.276625</td>\n",
       "    </tr>\n",
       "  </tbody>\n",
       "</table>\n",
       "</div>"
      ],
      "text/plain": [
       "                       count_calls  sum_call_length  avg_call_length  \\\n",
       "filename                                                               \n",
       "210824-095226_Tr1.txt           67        41.941372         0.625991   \n",
       "210824-100209_Tr1.txt           81        38.092410         0.470277   \n",
       "210824-104507_Tr1              233       161.624490         0.693667   \n",
       "210824-115331_Tr1.txt          737       410.209489         0.556594   \n",
       "210824-125439_Tr1.txt          594       466.242653         0.784920   \n",
       "210825-102141_Tr1.txt          443       359.170015         0.810768   \n",
       "210825-112937_Tr1.txt          212       182.875824         0.862622   \n",
       "210825-132034_Tr1              264       174.965576         0.662748   \n",
       "210825-135601_Tr1              479       339.551953         0.708877   \n",
       "210826-083608_Tr1              614       506.587613         0.825061   \n",
       "210827-081513_Tr1              368       332.039284         0.902281   \n",
       "210827-090209_Tr1              405       356.646961         0.880610   \n",
       "210827-133618_Tr1              180       128.514283         0.713968   \n",
       "\n",
       "                       cum_call_length   cum_perc  \n",
       "filename                                           \n",
       "210824-095226_Tr1.txt        41.941372   0.770581  \n",
       "210824-100209_Tr1.txt        80.033782   1.470447  \n",
       "210824-104507_Tr1           241.658272   4.439945  \n",
       "210824-115331_Tr1.txt       651.867761  11.976652  \n",
       "210824-125439_Tr1.txt      1118.110414  20.542846  \n",
       "210825-102141_Tr1.txt      1477.280429  27.141813  \n",
       "210825-112937_Tr1.txt      1660.156253  30.501758  \n",
       "210825-132034_Tr1          1835.121830  33.716370  \n",
       "210825-135601_Tr1          2174.673783  39.954898  \n",
       "210826-083608_Tr1          2681.261396  49.262343  \n",
       "210827-081513_Tr1          3013.300679  55.362843  \n",
       "210827-090209_Tr1          3369.947641  61.915455  \n",
       "210827-133618_Tr1          3498.461924  64.276625  "
      ]
     },
     "execution_count": 127,
     "metadata": {},
     "output_type": "execute_result"
    }
   ],
   "source": [
    "df_meta.loc[train_files]"
   ]
  },
  {
   "cell_type": "code",
   "execution_count": 128,
   "id": "08da9a08",
   "metadata": {},
   "outputs": [],
   "source": [
    "call_length_total = df_meta.sum_call_length.sum()"
   ]
  },
  {
   "cell_type": "code",
   "execution_count": 129,
   "id": "7dccdab7",
   "metadata": {},
   "outputs": [
    {
     "data": {
      "text/plain": [
       "64.0"
      ]
     },
     "execution_count": 129,
     "metadata": {},
     "output_type": "execute_result"
    },
    {
     "data": {
      "text/plain": [
       "10.0"
      ]
     },
     "execution_count": 129,
     "metadata": {},
     "output_type": "execute_result"
    },
    {
     "data": {
      "text/plain": [
       "26.0"
      ]
     },
     "execution_count": 129,
     "metadata": {},
     "output_type": "execute_result"
    }
   ],
   "source": [
    "for files in [train_files, test_files, val_files]:\n",
    "#     print(files)\n",
    "    np.round(df_meta.loc[files].sum_call_length.sum() / call_length_total*100)"
   ]
  },
  {
   "cell_type": "markdown",
   "id": "504cbca6",
   "metadata": {},
   "source": [
    "## Actually split"
   ]
  },
  {
   "cell_type": "code",
   "execution_count": 130,
   "id": "e4432431",
   "metadata": {},
   "outputs": [],
   "source": [
    "df_train = df_concat[df_concat.filename.isin(train_files)]\n",
    "df_val = df_concat[df_concat.filename.isin(val_files)]\n",
    "df_test = df_concat[df_concat.filename.isin(test_files)]"
   ]
  },
  {
   "cell_type": "code",
   "execution_count": 131,
   "id": "d3ba0531",
   "metadata": {},
   "outputs": [
    {
     "data": {
      "text/plain": [
       "(9341, 5)"
      ]
     },
     "execution_count": 131,
     "metadata": {},
     "output_type": "execute_result"
    },
    {
     "data": {
      "text/plain": [
       "(2862, 5)"
      ]
     },
     "execution_count": 131,
     "metadata": {},
     "output_type": "execute_result"
    },
    {
     "data": {
      "text/plain": [
       "(1092, 5)"
      ]
     },
     "execution_count": 131,
     "metadata": {},
     "output_type": "execute_result"
    }
   ],
   "source": [
    "df_train.shape\n",
    "df_val.shape\n",
    "df_test.shape"
   ]
  },
  {
   "cell_type": "markdown",
   "id": "f407d6ee",
   "metadata": {},
   "source": [
    "## Save"
   ]
  },
  {
   "cell_type": "code",
   "execution_count": 133,
   "id": "62cc7ea7",
   "metadata": {},
   "outputs": [],
   "source": [
    "df_train.to_csv('../datasets/mozambique_2021/2021_data_prepped_with_bg_train.csv', index=False)\n",
    "df_test.to_csv('../datasets/mozambique_2021/2021_data_prepped_with_bg_test.csv', index=False)\n",
    "df_val.to_csv('../datasets/mozambique_2021/2021_data_prepped_with_bg_val.csv', index=False)"
   ]
  },
  {
   "cell_type": "code",
   "execution_count": null,
   "id": "da514111",
   "metadata": {},
   "outputs": [],
   "source": []
  }
 ],
 "metadata": {
  "kernelspec": {
   "display_name": "soundbay",
   "language": "python",
   "name": "soundbay"
  },
  "language_info": {
   "codemirror_mode": {
    "name": "ipython",
    "version": 3
   },
   "file_extension": ".py",
   "mimetype": "text/x-python",
   "name": "python",
   "nbconvert_exporter": "python",
   "pygments_lexer": "ipython3",
   "version": "3.8.10"
  },
  "toc": {
   "base_numbering": 1,
   "nav_menu": {},
   "number_sections": true,
   "sideBar": true,
   "skip_h1_title": false,
   "title_cell": "Table of Contents",
   "title_sidebar": "Contents",
   "toc_cell": false,
   "toc_position": {
    "height": "calc(100% - 180px)",
    "left": "10px",
    "top": "150px",
    "width": "384px"
   },
   "toc_section_display": true,
   "toc_window_display": true
  },
  "varInspector": {
   "cols": {
    "lenName": 16,
    "lenType": 16,
    "lenVar": 40
   },
   "kernels_config": {
    "python": {
     "delete_cmd_postfix": "",
     "delete_cmd_prefix": "del ",
     "library": "var_list.py",
     "varRefreshCmd": "print(var_dic_list())"
    },
    "r": {
     "delete_cmd_postfix": ") ",
     "delete_cmd_prefix": "rm(",
     "library": "var_list.r",
     "varRefreshCmd": "cat(var_dic_list()) "
    }
   },
   "types_to_exclude": [
    "module",
    "function",
    "builtin_function_or_method",
    "instance",
    "_Feature"
   ],
   "window_display": false
  }
 },
 "nbformat": 4,
 "nbformat_minor": 5
}
