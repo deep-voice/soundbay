{
 "cells": [
  {
   "cell_type": "code",
   "execution_count": 1,
   "id": "46e6277d",
   "metadata": {},
   "outputs": [],
   "source": [
    "import pandas as pd"
   ]
  },
  {
   "cell_type": "code",
   "execution_count": 4,
   "id": "5f383477",
   "metadata": {},
   "outputs": [],
   "source": [
    "new_train_data = pd.read_csv('../datasets/Manatees/manatee_train_val_test_splits.csv')\n",
    "old_train_data = pd.read_csv('../datasets/Manatees/Manatee_annotations_bg_from_calls.csv')"
   ]
  },
  {
   "cell_type": "code",
   "execution_count": 32,
   "id": "3ad85eea",
   "metadata": {},
   "outputs": [
    {
     "data": {
      "text/html": [
       "<div>\n",
       "<style scoped>\n",
       "    .dataframe tbody tr th:only-of-type {\n",
       "        vertical-align: middle;\n",
       "    }\n",
       "\n",
       "    .dataframe tbody tr th {\n",
       "        vertical-align: top;\n",
       "    }\n",
       "\n",
       "    .dataframe thead th {\n",
       "        text-align: right;\n",
       "    }\n",
       "</style>\n",
       "<table border=\"1\" class=\"dataframe\">\n",
       "  <thead>\n",
       "    <tr style=\"text-align: right;\">\n",
       "      <th></th>\n",
       "      <th>Selection</th>\n",
       "      <th>View</th>\n",
       "      <th>channel</th>\n",
       "      <th>begin_time</th>\n",
       "      <th>end_time</th>\n",
       "      <th>Low Freq (Hz)</th>\n",
       "      <th>High Freq (Hz)</th>\n",
       "      <th>Delta Time (s)</th>\n",
       "      <th>Delta Freq (Hz)</th>\n",
       "      <th>Avg Power Density (dB FS/Hz)</th>\n",
       "      <th>...</th>\n",
       "      <th>PFC Min Freq (Hz)</th>\n",
       "      <th>Max Freq (Hz)</th>\n",
       "      <th>Annotation</th>\n",
       "      <th>filename</th>\n",
       "      <th>StartMicInWater</th>\n",
       "      <th>EndMicInWater</th>\n",
       "      <th>filepath</th>\n",
       "      <th>label</th>\n",
       "      <th>call_length</th>\n",
       "      <th>split_type</th>\n",
       "    </tr>\n",
       "  </thead>\n",
       "  <tbody>\n",
       "    <tr>\n",
       "      <th>0</th>\n",
       "      <td>2</td>\n",
       "      <td>Spectrogram 1</td>\n",
       "      <td>1</td>\n",
       "      <td>13.317046</td>\n",
       "      <td>17.681407</td>\n",
       "      <td>3000.0</td>\n",
       "      <td>4350.0</td>\n",
       "      <td>0.1964</td>\n",
       "      <td>1350.0</td>\n",
       "      <td>-46.62</td>\n",
       "      <td>...</td>\n",
       "      <td>3375.0</td>\n",
       "      <td>3562.5</td>\n",
       "      <td>Y</td>\n",
       "      <td>211127_0066</td>\n",
       "      <td>13.213609</td>\n",
       "      <td>36.835417</td>\n",
       "      <td>annotations</td>\n",
       "      <td>0</td>\n",
       "      <td>4.364360</td>\n",
       "      <td>test</td>\n",
       "    </tr>\n",
       "    <tr>\n",
       "      <th>1</th>\n",
       "      <td>3</td>\n",
       "      <td>Spectrogram 1</td>\n",
       "      <td>1</td>\n",
       "      <td>17.877805</td>\n",
       "      <td>18.947378</td>\n",
       "      <td>3900.0</td>\n",
       "      <td>5475.0</td>\n",
       "      <td>0.2248</td>\n",
       "      <td>1575.0</td>\n",
       "      <td>-38.94</td>\n",
       "      <td>...</td>\n",
       "      <td>4125.0</td>\n",
       "      <td>5062.5</td>\n",
       "      <td>Y</td>\n",
       "      <td>211127_0066</td>\n",
       "      <td>13.213609</td>\n",
       "      <td>36.835417</td>\n",
       "      <td>annotations</td>\n",
       "      <td>0</td>\n",
       "      <td>1.069572</td>\n",
       "      <td>test</td>\n",
       "    </tr>\n",
       "    <tr>\n",
       "      <th>2</th>\n",
       "      <td>4</td>\n",
       "      <td>Spectrogram 1</td>\n",
       "      <td>1</td>\n",
       "      <td>19.172220</td>\n",
       "      <td>24.293471</td>\n",
       "      <td>2400.0</td>\n",
       "      <td>3900.0</td>\n",
       "      <td>0.1314</td>\n",
       "      <td>1500.0</td>\n",
       "      <td>-56.70</td>\n",
       "      <td>...</td>\n",
       "      <td>2625.0</td>\n",
       "      <td>3375.0</td>\n",
       "      <td>N</td>\n",
       "      <td>211127_0066</td>\n",
       "      <td>13.213609</td>\n",
       "      <td>36.835417</td>\n",
       "      <td>annotations</td>\n",
       "      <td>0</td>\n",
       "      <td>5.121251</td>\n",
       "      <td>test</td>\n",
       "    </tr>\n",
       "    <tr>\n",
       "      <th>3</th>\n",
       "      <td>5</td>\n",
       "      <td>Spectrogram 1</td>\n",
       "      <td>1</td>\n",
       "      <td>24.424855</td>\n",
       "      <td>26.460742</td>\n",
       "      <td>4500.0</td>\n",
       "      <td>6225.0</td>\n",
       "      <td>0.2262</td>\n",
       "      <td>1725.0</td>\n",
       "      <td>-48.95</td>\n",
       "      <td>...</td>\n",
       "      <td>4875.0</td>\n",
       "      <td>5437.5</td>\n",
       "      <td>Y</td>\n",
       "      <td>211127_0066</td>\n",
       "      <td>13.213609</td>\n",
       "      <td>36.835417</td>\n",
       "      <td>annotations</td>\n",
       "      <td>0</td>\n",
       "      <td>2.035887</td>\n",
       "      <td>test</td>\n",
       "    </tr>\n",
       "    <tr>\n",
       "      <th>4</th>\n",
       "      <td>6</td>\n",
       "      <td>Spectrogram 1</td>\n",
       "      <td>1</td>\n",
       "      <td>26.686939</td>\n",
       "      <td>32.289177</td>\n",
       "      <td>2625.0</td>\n",
       "      <td>3900.0</td>\n",
       "      <td>0.2790</td>\n",
       "      <td>1275.0</td>\n",
       "      <td>-59.71</td>\n",
       "      <td>...</td>\n",
       "      <td>2625.0</td>\n",
       "      <td>3750.0</td>\n",
       "      <td>N</td>\n",
       "      <td>211127_0066</td>\n",
       "      <td>13.213609</td>\n",
       "      <td>36.835417</td>\n",
       "      <td>annotations</td>\n",
       "      <td>0</td>\n",
       "      <td>5.602238</td>\n",
       "      <td>test</td>\n",
       "    </tr>\n",
       "  </tbody>\n",
       "</table>\n",
       "<p>5 rows × 23 columns</p>\n",
       "</div>"
      ],
      "text/plain": [
       "   Selection           View  channel  begin_time   end_time  Low Freq (Hz)  \\\n",
       "0          2  Spectrogram 1        1   13.317046  17.681407         3000.0   \n",
       "1          3  Spectrogram 1        1   17.877805  18.947378         3900.0   \n",
       "2          4  Spectrogram 1        1   19.172220  24.293471         2400.0   \n",
       "3          5  Spectrogram 1        1   24.424855  26.460742         4500.0   \n",
       "4          6  Spectrogram 1        1   26.686939  32.289177         2625.0   \n",
       "\n",
       "   High Freq (Hz)  Delta Time (s)  Delta Freq (Hz)  \\\n",
       "0          4350.0          0.1964           1350.0   \n",
       "1          5475.0          0.2248           1575.0   \n",
       "2          3900.0          0.1314           1500.0   \n",
       "3          6225.0          0.2262           1725.0   \n",
       "4          3900.0          0.2790           1275.0   \n",
       "\n",
       "   Avg Power Density (dB FS/Hz)  ...  PFC Min Freq (Hz)  Max Freq (Hz)  \\\n",
       "0                        -46.62  ...             3375.0         3562.5   \n",
       "1                        -38.94  ...             4125.0         5062.5   \n",
       "2                        -56.70  ...             2625.0         3375.0   \n",
       "3                        -48.95  ...             4875.0         5437.5   \n",
       "4                        -59.71  ...             2625.0         3750.0   \n",
       "\n",
       "   Annotation     filename  StartMicInWater EndMicInWater     filepath  label  \\\n",
       "0           Y  211127_0066        13.213609     36.835417  annotations      0   \n",
       "1           Y  211127_0066        13.213609     36.835417  annotations      0   \n",
       "2           N  211127_0066        13.213609     36.835417  annotations      0   \n",
       "3           Y  211127_0066        13.213609     36.835417  annotations      0   \n",
       "4           N  211127_0066        13.213609     36.835417  annotations      0   \n",
       "\n",
       "   call_length split_type  \n",
       "0     4.364360       test  \n",
       "1     1.069572       test  \n",
       "2     5.121251       test  \n",
       "3     2.035887       test  \n",
       "4     5.602238       test  \n",
       "\n",
       "[5 rows x 23 columns]"
      ]
     },
     "execution_count": 32,
     "metadata": {},
     "output_type": "execute_result"
    }
   ],
   "source": [
    "new_train_data.head()"
   ]
  },
  {
   "cell_type": "code",
   "execution_count": 25,
   "id": "3135ebd8",
   "metadata": {},
   "outputs": [
    {
     "data": {
      "text/plain": [
       "(4095, 41)"
      ]
     },
     "execution_count": 25,
     "metadata": {},
     "output_type": "execute_result"
    }
   ],
   "source": [
    "old_train_data.shape"
   ]
  },
  {
   "cell_type": "code",
   "execution_count": 7,
   "id": "81ad5a95",
   "metadata": {},
   "outputs": [
    {
     "data": {
      "text/plain": [
       "(3175, 23)"
      ]
     },
     "execution_count": 7,
     "metadata": {},
     "output_type": "execute_result"
    }
   ],
   "source": [
    "new_train_data.shape"
   ]
  },
  {
   "cell_type": "code",
   "execution_count": 10,
   "id": "328f3f9a",
   "metadata": {},
   "outputs": [
    {
     "data": {
      "text/plain": [
       "1    154\n",
       "0     71\n",
       "Name: label, dtype: int64"
      ]
     },
     "execution_count": 10,
     "metadata": {},
     "output_type": "execute_result"
    }
   ],
   "source": [
    "new_train_data[new_train_data.split_type=='train'].label.value_counts()"
   ]
  },
  {
   "cell_type": "code",
   "execution_count": 11,
   "id": "4e32fc0e",
   "metadata": {},
   "outputs": [
    {
     "data": {
      "text/plain": [
       "1    2066\n",
       "0    2029\n",
       "Name: label, dtype: int64"
      ]
     },
     "execution_count": 11,
     "metadata": {},
     "output_type": "execute_result"
    }
   ],
   "source": [
    "old_train_data.label.value_counts()"
   ]
  },
  {
   "cell_type": "code",
   "execution_count": 12,
   "id": "4faed025",
   "metadata": {},
   "outputs": [],
   "source": [
    "old_train_data.loc[:,'split_type'] = 'train'"
   ]
  },
  {
   "cell_type": "code",
   "execution_count": 33,
   "id": "84f39094",
   "metadata": {},
   "outputs": [],
   "source": [
    "cols = list(set(old_train_data.columns)&set(new_train_data.columns))"
   ]
  },
  {
   "cell_type": "code",
   "execution_count": 35,
   "id": "aee34092",
   "metadata": {},
   "outputs": [],
   "source": [
    "concat_data = pd.concat([old_train_data[cols],new_train_data[cols]])"
   ]
  },
  {
   "cell_type": "code",
   "execution_count": 36,
   "id": "55d7ea12",
   "metadata": {},
   "outputs": [
    {
     "data": {
      "text/html": [
       "<div>\n",
       "<style scoped>\n",
       "    .dataframe tbody tr th:only-of-type {\n",
       "        vertical-align: middle;\n",
       "    }\n",
       "\n",
       "    .dataframe tbody tr th {\n",
       "        vertical-align: top;\n",
       "    }\n",
       "\n",
       "    .dataframe thead th {\n",
       "        text-align: right;\n",
       "    }\n",
       "</style>\n",
       "<table border=\"1\" class=\"dataframe\">\n",
       "  <thead>\n",
       "    <tr style=\"text-align: right;\">\n",
       "      <th></th>\n",
       "      <th>Delta Time (s)</th>\n",
       "      <th>StartMicInWater</th>\n",
       "      <th>begin_time</th>\n",
       "      <th>filename</th>\n",
       "      <th>label</th>\n",
       "      <th>split_type</th>\n",
       "      <th>Low Freq (Hz)</th>\n",
       "      <th>EndMicInWater</th>\n",
       "      <th>Selection</th>\n",
       "      <th>call_length</th>\n",
       "      <th>filepath</th>\n",
       "      <th>High Freq (Hz)</th>\n",
       "      <th>View</th>\n",
       "      <th>Delta Freq (Hz)</th>\n",
       "      <th>end_time</th>\n",
       "    </tr>\n",
       "  </thead>\n",
       "  <tbody>\n",
       "    <tr>\n",
       "      <th>0</th>\n",
       "      <td>0.197</td>\n",
       "      <td>1031.939</td>\n",
       "      <td>1032.106</td>\n",
       "      <td>170708215525</td>\n",
       "      <td>0</td>\n",
       "      <td>train</td>\n",
       "      <td>6827.2</td>\n",
       "      <td>4277.935</td>\n",
       "      <td>2</td>\n",
       "      <td>17.226</td>\n",
       "      <td>2017-Jul-08-12-67407878-RestingHole1A</td>\n",
       "      <td>12191.5</td>\n",
       "      <td>Spectrogram 1</td>\n",
       "      <td>5364.3</td>\n",
       "      <td>1049.332</td>\n",
       "    </tr>\n",
       "    <tr>\n",
       "      <th>1</th>\n",
       "      <td>0.142</td>\n",
       "      <td>1031.939</td>\n",
       "      <td>1049.529</td>\n",
       "      <td>170708215525</td>\n",
       "      <td>0</td>\n",
       "      <td>train</td>\n",
       "      <td>7412.4</td>\n",
       "      <td>4277.935</td>\n",
       "      <td>3</td>\n",
       "      <td>4.347</td>\n",
       "      <td>2017-Jul-08-12-67407878-RestingHole1A</td>\n",
       "      <td>11703.8</td>\n",
       "      <td>Spectrogram 1</td>\n",
       "      <td>4291.4</td>\n",
       "      <td>1053.876</td>\n",
       "    </tr>\n",
       "    <tr>\n",
       "      <th>2</th>\n",
       "      <td>0.164</td>\n",
       "      <td>1031.939</td>\n",
       "      <td>1054.018</td>\n",
       "      <td>170708215525</td>\n",
       "      <td>0</td>\n",
       "      <td>train</td>\n",
       "      <td>7314.9</td>\n",
       "      <td>4277.935</td>\n",
       "      <td>4</td>\n",
       "      <td>4.822</td>\n",
       "      <td>2017-Jul-08-12-67407878-RestingHole1A</td>\n",
       "      <td>11898.9</td>\n",
       "      <td>Spectrogram 1</td>\n",
       "      <td>4584.0</td>\n",
       "      <td>1058.840</td>\n",
       "    </tr>\n",
       "    <tr>\n",
       "      <th>3</th>\n",
       "      <td>0.115</td>\n",
       "      <td>1031.939</td>\n",
       "      <td>1059.004</td>\n",
       "      <td>170708215525</td>\n",
       "      <td>0</td>\n",
       "      <td>train</td>\n",
       "      <td>7997.6</td>\n",
       "      <td>4277.935</td>\n",
       "      <td>5</td>\n",
       "      <td>22.536</td>\n",
       "      <td>2017-Jul-08-12-67407878-RestingHole1A</td>\n",
       "      <td>10923.6</td>\n",
       "      <td>Spectrogram 1</td>\n",
       "      <td>2926.0</td>\n",
       "      <td>1081.540</td>\n",
       "    </tr>\n",
       "    <tr>\n",
       "      <th>4</th>\n",
       "      <td>0.185</td>\n",
       "      <td>1031.939</td>\n",
       "      <td>1081.655</td>\n",
       "      <td>170708215525</td>\n",
       "      <td>0</td>\n",
       "      <td>train</td>\n",
       "      <td>6729.7</td>\n",
       "      <td>4277.935</td>\n",
       "      <td>6</td>\n",
       "      <td>3.618</td>\n",
       "      <td>2017-Jul-08-12-67407878-RestingHole1A</td>\n",
       "      <td>11313.7</td>\n",
       "      <td>Spectrogram 1</td>\n",
       "      <td>4584.0</td>\n",
       "      <td>1085.273</td>\n",
       "    </tr>\n",
       "  </tbody>\n",
       "</table>\n",
       "</div>"
      ],
      "text/plain": [
       "   Delta Time (s)  StartMicInWater  begin_time      filename  label  \\\n",
       "0           0.197         1031.939    1032.106  170708215525      0   \n",
       "1           0.142         1031.939    1049.529  170708215525      0   \n",
       "2           0.164         1031.939    1054.018  170708215525      0   \n",
       "3           0.115         1031.939    1059.004  170708215525      0   \n",
       "4           0.185         1031.939    1081.655  170708215525      0   \n",
       "\n",
       "  split_type  Low Freq (Hz)  EndMicInWater  Selection  call_length  \\\n",
       "0      train         6827.2       4277.935          2       17.226   \n",
       "1      train         7412.4       4277.935          3        4.347   \n",
       "2      train         7314.9       4277.935          4        4.822   \n",
       "3      train         7997.6       4277.935          5       22.536   \n",
       "4      train         6729.7       4277.935          6        3.618   \n",
       "\n",
       "                                filepath  High Freq (Hz)           View  \\\n",
       "0  2017-Jul-08-12-67407878-RestingHole1A         12191.5  Spectrogram 1   \n",
       "1  2017-Jul-08-12-67407878-RestingHole1A         11703.8  Spectrogram 1   \n",
       "2  2017-Jul-08-12-67407878-RestingHole1A         11898.9  Spectrogram 1   \n",
       "3  2017-Jul-08-12-67407878-RestingHole1A         10923.6  Spectrogram 1   \n",
       "4  2017-Jul-08-12-67407878-RestingHole1A         11313.7  Spectrogram 1   \n",
       "\n",
       "   Delta Freq (Hz)  end_time  \n",
       "0           5364.3  1049.332  \n",
       "1           4291.4  1053.876  \n",
       "2           4584.0  1058.840  \n",
       "3           2926.0  1081.540  \n",
       "4           4584.0  1085.273  "
      ]
     },
     "execution_count": 36,
     "metadata": {},
     "output_type": "execute_result"
    }
   ],
   "source": [
    "concat_data.head()"
   ]
  },
  {
   "cell_type": "code",
   "execution_count": 37,
   "id": "6fff4827",
   "metadata": {},
   "outputs": [
    {
     "data": {
      "text/plain": [
       "(7270, 15)"
      ]
     },
     "execution_count": 37,
     "metadata": {},
     "output_type": "execute_result"
    }
   ],
   "source": [
    "concat_data.shape"
   ]
  },
  {
   "cell_type": "code",
   "execution_count": 39,
   "id": "8b3fcef8",
   "metadata": {},
   "outputs": [
    {
     "data": {
      "text/plain": [
       "1    3671\n",
       "0    3599\n",
       "Name: label, dtype: int64"
      ]
     },
     "execution_count": 39,
     "metadata": {},
     "output_type": "execute_result"
    }
   ],
   "source": [
    "concat_data.label.value_counts()"
   ]
  },
  {
   "cell_type": "code",
   "execution_count": 40,
   "id": "be4da772",
   "metadata": {},
   "outputs": [],
   "source": [
    "concat_data.to_csv('../datasets/Manatees/manatee_concat_2017_2022.csv', index=False)"
   ]
  },
  {
   "cell_type": "code",
   "execution_count": null,
   "id": "c260381f",
   "metadata": {},
   "outputs": [],
   "source": []
  }
 ],
 "metadata": {
  "kernelspec": {
   "display_name": "Python 3 (ipykernel)",
   "language": "python",
   "name": "python3"
  },
  "language_info": {
   "codemirror_mode": {
    "name": "ipython",
    "version": 3
   },
   "file_extension": ".py",
   "mimetype": "text/x-python",
   "name": "python",
   "nbconvert_exporter": "python",
   "pygments_lexer": "ipython3",
   "version": "3.9.12"
  }
 },
 "nbformat": 4,
 "nbformat_minor": 5
}
