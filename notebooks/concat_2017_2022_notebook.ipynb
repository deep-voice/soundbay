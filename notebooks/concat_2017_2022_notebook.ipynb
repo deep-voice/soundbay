{
 "cells": [
  {
   "cell_type": "code",
   "execution_count": 1,
   "id": "82575eb5",
   "metadata": {},
   "outputs": [],
   "source": [
    "import pandas as pd\n",
    "import matplotlib.pyplot as plt"
   ]
  },
  {
   "cell_type": "code",
   "execution_count": 2,
   "id": "ff8eb3ac",
   "metadata": {},
   "outputs": [],
   "source": [
    "new_train_data = pd.read_csv('../datasets/Manatees/manatee_train_val_test_splits.csv')\n",
    "old_train_data = pd.read_csv('../datasets/Manatees/Manatee_annotations_bg_from_calls.csv')"
   ]
  },
  {
   "cell_type": "code",
   "execution_count": 7,
   "id": "f27a6958",
   "metadata": {},
   "outputs": [
    {
     "data": {
      "text/plain": [
       "array(['211127_0066', '211208_0069', '211208_0070', '211208_0072',\n",
       "       '211208_0074', '211209_0077', '211210_0079', '211212_0081',\n",
       "       '211212_0082', '211213_0083', '211213_0084', '211213_0086',\n",
       "       '211220_0089', '211224_0090', '211227_0091', '211227_0093',\n",
       "       '220104_0094', '220115_0097', '220118_0098', '220224_0102',\n",
       "       '220224_0103', '220224_0104', '220225_0105', '220225_0106',\n",
       "       '220225_0108', '220226_0109', '220226_0110', '220226_0111',\n",
       "       '220227_0112', '220227_0113', '220227_0114', '220228_0117',\n",
       "       '220228_0118', '211210_0078', '211212_0080'], dtype=object)"
      ]
     },
     "execution_count": 7,
     "metadata": {},
     "output_type": "execute_result"
    }
   ],
   "source": [
    "# remove 69 & 70\n",
    "## - 20/80\n",
    "## - 50/50\n",
    "new_train_data.filename.unique()"
   ]
  },
  {
   "cell_type": "code",
   "execution_count": 18,
   "id": "6c41f349",
   "metadata": {},
   "outputs": [],
   "source": [
    "# remove outliers\n",
    "new_train_data = new_train_data[~new_train_data.filename.isin(['211208_0069','211208_0070'])].reset_index(drop=True)"
   ]
  },
  {
   "cell_type": "code",
   "execution_count": 14,
   "id": "e3dec033",
   "metadata": {},
   "outputs": [
    {
     "data": {
      "text/plain": [
       "(4095, 40)"
      ]
     },
     "execution_count": 14,
     "metadata": {},
     "output_type": "execute_result"
    }
   ],
   "source": [
    "old_train_data.shape"
   ]
  },
  {
   "cell_type": "code",
   "execution_count": 15,
   "id": "b84184bf",
   "metadata": {},
   "outputs": [
    {
     "data": {
      "text/plain": [
       "(3155, 23)"
      ]
     },
     "execution_count": 15,
     "metadata": {},
     "output_type": "execute_result"
    }
   ],
   "source": [
    "new_train_data.shape"
   ]
  },
  {
   "cell_type": "code",
   "execution_count": 16,
   "id": "0ed5a3d8",
   "metadata": {},
   "outputs": [
    {
     "data": {
      "text/plain": [
       "1    154\n",
       "0     71\n",
       "Name: label, dtype: int64"
      ]
     },
     "execution_count": 16,
     "metadata": {},
     "output_type": "execute_result"
    }
   ],
   "source": [
    "new_train_data[new_train_data.split_type=='train'].label.value_counts()"
   ]
  },
  {
   "cell_type": "code",
   "execution_count": 19,
   "id": "4d5b8da4",
   "metadata": {},
   "outputs": [
    {
     "data": {
      "text/html": [
       "<div>\n",
       "<style scoped>\n",
       "    .dataframe tbody tr th:only-of-type {\n",
       "        vertical-align: middle;\n",
       "    }\n",
       "\n",
       "    .dataframe tbody tr th {\n",
       "        vertical-align: top;\n",
       "    }\n",
       "\n",
       "    .dataframe thead th {\n",
       "        text-align: right;\n",
       "    }\n",
       "</style>\n",
       "<table border=\"1\" class=\"dataframe\">\n",
       "  <thead>\n",
       "    <tr style=\"text-align: right;\">\n",
       "      <th></th>\n",
       "      <th>Selection</th>\n",
       "      <th>View</th>\n",
       "      <th>channel</th>\n",
       "      <th>begin_time</th>\n",
       "      <th>end_time</th>\n",
       "      <th>Low Freq (Hz)</th>\n",
       "      <th>High Freq (Hz)</th>\n",
       "      <th>Delta Time (s)</th>\n",
       "      <th>Delta Freq (Hz)</th>\n",
       "      <th>Avg Power Density (dB FS/Hz)</th>\n",
       "      <th>...</th>\n",
       "      <th>PFC Min Freq (Hz)</th>\n",
       "      <th>Max Freq (Hz)</th>\n",
       "      <th>Annotation</th>\n",
       "      <th>filename</th>\n",
       "      <th>StartMicInWater</th>\n",
       "      <th>EndMicInWater</th>\n",
       "      <th>filepath</th>\n",
       "      <th>label</th>\n",
       "      <th>call_length</th>\n",
       "      <th>split_type</th>\n",
       "    </tr>\n",
       "  </thead>\n",
       "  <tbody>\n",
       "    <tr>\n",
       "      <th>0</th>\n",
       "      <td>2</td>\n",
       "      <td>Spectrogram 1</td>\n",
       "      <td>1</td>\n",
       "      <td>13.317046</td>\n",
       "      <td>17.681407</td>\n",
       "      <td>3000.0</td>\n",
       "      <td>4350.0</td>\n",
       "      <td>0.1964</td>\n",
       "      <td>1350.0</td>\n",
       "      <td>-46.62</td>\n",
       "      <td>...</td>\n",
       "      <td>3375.0</td>\n",
       "      <td>3562.5</td>\n",
       "      <td>Y</td>\n",
       "      <td>211127_0066</td>\n",
       "      <td>13.213609</td>\n",
       "      <td>36.835417</td>\n",
       "      <td>annotations</td>\n",
       "      <td>0</td>\n",
       "      <td>4.364360</td>\n",
       "      <td>test</td>\n",
       "    </tr>\n",
       "    <tr>\n",
       "      <th>1</th>\n",
       "      <td>3</td>\n",
       "      <td>Spectrogram 1</td>\n",
       "      <td>1</td>\n",
       "      <td>17.877805</td>\n",
       "      <td>18.947378</td>\n",
       "      <td>3900.0</td>\n",
       "      <td>5475.0</td>\n",
       "      <td>0.2248</td>\n",
       "      <td>1575.0</td>\n",
       "      <td>-38.94</td>\n",
       "      <td>...</td>\n",
       "      <td>4125.0</td>\n",
       "      <td>5062.5</td>\n",
       "      <td>Y</td>\n",
       "      <td>211127_0066</td>\n",
       "      <td>13.213609</td>\n",
       "      <td>36.835417</td>\n",
       "      <td>annotations</td>\n",
       "      <td>0</td>\n",
       "      <td>1.069572</td>\n",
       "      <td>test</td>\n",
       "    </tr>\n",
       "    <tr>\n",
       "      <th>2</th>\n",
       "      <td>4</td>\n",
       "      <td>Spectrogram 1</td>\n",
       "      <td>1</td>\n",
       "      <td>19.172220</td>\n",
       "      <td>24.293471</td>\n",
       "      <td>2400.0</td>\n",
       "      <td>3900.0</td>\n",
       "      <td>0.1314</td>\n",
       "      <td>1500.0</td>\n",
       "      <td>-56.70</td>\n",
       "      <td>...</td>\n",
       "      <td>2625.0</td>\n",
       "      <td>3375.0</td>\n",
       "      <td>N</td>\n",
       "      <td>211127_0066</td>\n",
       "      <td>13.213609</td>\n",
       "      <td>36.835417</td>\n",
       "      <td>annotations</td>\n",
       "      <td>0</td>\n",
       "      <td>5.121251</td>\n",
       "      <td>test</td>\n",
       "    </tr>\n",
       "    <tr>\n",
       "      <th>3</th>\n",
       "      <td>5</td>\n",
       "      <td>Spectrogram 1</td>\n",
       "      <td>1</td>\n",
       "      <td>24.424855</td>\n",
       "      <td>26.460742</td>\n",
       "      <td>4500.0</td>\n",
       "      <td>6225.0</td>\n",
       "      <td>0.2262</td>\n",
       "      <td>1725.0</td>\n",
       "      <td>-48.95</td>\n",
       "      <td>...</td>\n",
       "      <td>4875.0</td>\n",
       "      <td>5437.5</td>\n",
       "      <td>Y</td>\n",
       "      <td>211127_0066</td>\n",
       "      <td>13.213609</td>\n",
       "      <td>36.835417</td>\n",
       "      <td>annotations</td>\n",
       "      <td>0</td>\n",
       "      <td>2.035887</td>\n",
       "      <td>test</td>\n",
       "    </tr>\n",
       "    <tr>\n",
       "      <th>4</th>\n",
       "      <td>6</td>\n",
       "      <td>Spectrogram 1</td>\n",
       "      <td>1</td>\n",
       "      <td>26.686939</td>\n",
       "      <td>32.289177</td>\n",
       "      <td>2625.0</td>\n",
       "      <td>3900.0</td>\n",
       "      <td>0.2790</td>\n",
       "      <td>1275.0</td>\n",
       "      <td>-59.71</td>\n",
       "      <td>...</td>\n",
       "      <td>2625.0</td>\n",
       "      <td>3750.0</td>\n",
       "      <td>N</td>\n",
       "      <td>211127_0066</td>\n",
       "      <td>13.213609</td>\n",
       "      <td>36.835417</td>\n",
       "      <td>annotations</td>\n",
       "      <td>0</td>\n",
       "      <td>5.602238</td>\n",
       "      <td>test</td>\n",
       "    </tr>\n",
       "  </tbody>\n",
       "</table>\n",
       "<p>5 rows × 23 columns</p>\n",
       "</div>"
      ],
      "text/plain": [
       "   Selection           View  channel  begin_time   end_time  Low Freq (Hz)  \\\n",
       "0          2  Spectrogram 1        1   13.317046  17.681407         3000.0   \n",
       "1          3  Spectrogram 1        1   17.877805  18.947378         3900.0   \n",
       "2          4  Spectrogram 1        1   19.172220  24.293471         2400.0   \n",
       "3          5  Spectrogram 1        1   24.424855  26.460742         4500.0   \n",
       "4          6  Spectrogram 1        1   26.686939  32.289177         2625.0   \n",
       "\n",
       "   High Freq (Hz)  Delta Time (s)  Delta Freq (Hz)  \\\n",
       "0          4350.0          0.1964           1350.0   \n",
       "1          5475.0          0.2248           1575.0   \n",
       "2          3900.0          0.1314           1500.0   \n",
       "3          6225.0          0.2262           1725.0   \n",
       "4          3900.0          0.2790           1275.0   \n",
       "\n",
       "   Avg Power Density (dB FS/Hz)  ...  PFC Min Freq (Hz)  Max Freq (Hz)  \\\n",
       "0                        -46.62  ...             3375.0         3562.5   \n",
       "1                        -38.94  ...             4125.0         5062.5   \n",
       "2                        -56.70  ...             2625.0         3375.0   \n",
       "3                        -48.95  ...             4875.0         5437.5   \n",
       "4                        -59.71  ...             2625.0         3750.0   \n",
       "\n",
       "   Annotation     filename  StartMicInWater EndMicInWater     filepath  label  \\\n",
       "0           Y  211127_0066        13.213609     36.835417  annotations      0   \n",
       "1           Y  211127_0066        13.213609     36.835417  annotations      0   \n",
       "2           N  211127_0066        13.213609     36.835417  annotations      0   \n",
       "3           Y  211127_0066        13.213609     36.835417  annotations      0   \n",
       "4           N  211127_0066        13.213609     36.835417  annotations      0   \n",
       "\n",
       "   call_length split_type  \n",
       "0     4.364360       test  \n",
       "1     1.069572       test  \n",
       "2     5.121251       test  \n",
       "3     2.035887       test  \n",
       "4     5.602238       test  \n",
       "\n",
       "[5 rows x 23 columns]"
      ]
     },
     "execution_count": 19,
     "metadata": {},
     "output_type": "execute_result"
    }
   ],
   "source": [
    "new_train_data.head()"
   ]
  },
  {
   "cell_type": "code",
   "execution_count": 20,
   "id": "b1b6937a",
   "metadata": {},
   "outputs": [
    {
     "data": {
      "text/plain": [
       "1    2066\n",
       "0    2029\n",
       "Name: label, dtype: int64"
      ]
     },
     "execution_count": 20,
     "metadata": {},
     "output_type": "execute_result"
    }
   ],
   "source": [
    "old_train_data.label.value_counts()"
   ]
  },
  {
   "cell_type": "markdown",
   "id": "02ba64a1",
   "metadata": {},
   "source": [
    "## train-test split by time"
   ]
  },
  {
   "cell_type": "code",
   "execution_count": 21,
   "id": "a4b5d6bc",
   "metadata": {},
   "outputs": [],
   "source": [
    "new_train_data.loc[:,'date_str'] = new_train_data.loc[:,'filename'].apply(lambda x: x[:6])"
   ]
  },
  {
   "cell_type": "code",
   "execution_count": 22,
   "id": "117bd91e",
   "metadata": {},
   "outputs": [
    {
     "data": {
      "text/plain": [
       "date_str\n",
       "211127     15\n",
       "211208    282\n",
       "211209    123\n",
       "211210    126\n",
       "211212    105\n",
       "211213     45\n",
       "211220     23\n",
       "211224     59\n",
       "211227     12\n",
       "220104    317\n",
       "220115    177\n",
       "220118     19\n",
       "220224    421\n",
       "220225    421\n",
       "220226    459\n",
       "220227    405\n",
       "220228    146\n",
       "Name: Selection, dtype: int64"
      ]
     },
     "execution_count": 22,
     "metadata": {},
     "output_type": "execute_result"
    }
   ],
   "source": [
    "new_train_data.groupby('date_str').Selection.count().sort_index()"
   ]
  },
  {
   "cell_type": "code",
   "execution_count": 23,
   "id": "aa5c7501",
   "metadata": {},
   "outputs": [
    {
     "data": {
      "text/plain": [
       "date_str\n",
       "211127      23.621808\n",
       "211208     871.416686\n",
       "211209     593.582010\n",
       "211210     306.202401\n",
       "211212     675.489179\n",
       "211213    1115.170052\n",
       "211220     576.032270\n",
       "211224     572.695769\n",
       "211227      71.156854\n",
       "220104     577.482456\n",
       "220115     579.133588\n",
       "220118     592.723790\n",
       "220224    1404.912638\n",
       "220225    1344.841476\n",
       "220226    1583.409233\n",
       "220227    1520.115254\n",
       "220228    1350.622727\n",
       "Name: call_length, dtype: float64"
      ]
     },
     "execution_count": 23,
     "metadata": {},
     "output_type": "execute_result"
    }
   ],
   "source": [
    "new_train_data.groupby('date_str').call_length.sum().sort_index()"
   ]
  },
  {
   "cell_type": "code",
   "execution_count": 24,
   "id": "c5760937",
   "metadata": {},
   "outputs": [
    {
     "data": {
      "text/plain": [
       "date_str\n",
       "211127      8\n",
       "211208    142\n",
       "211209     62\n",
       "211210     64\n",
       "211212     54\n",
       "211213     24\n",
       "211220     12\n",
       "211224     30\n",
       "211227      7\n",
       "220104    159\n",
       "220115     89\n",
       "220118     10\n",
       "220224    212\n",
       "220225    212\n",
       "220226    231\n",
       "220227    204\n",
       "220228     74\n",
       "Name: label, dtype: int64"
      ]
     },
     "execution_count": 24,
     "metadata": {},
     "output_type": "execute_result"
    }
   ],
   "source": [
    "new_train_data.groupby('date_str').label.sum().sort_index()"
   ]
  },
  {
   "cell_type": "markdown",
   "id": "9b8f117f",
   "metadata": {},
   "source": [
    "1. Test: last 3 days\n",
    "2. Train-Val: 14 days\n",
    "    1. sample by dates\n",
    "    2. 20%-30%-40%-50%-60%-70%-80%"
   ]
  },
  {
   "cell_type": "code",
   "execution_count": 25,
   "id": "b51294e8",
   "metadata": {},
   "outputs": [],
   "source": [
    "new_train_data.loc[:,'split_type'] = None"
   ]
  },
  {
   "cell_type": "code",
   "execution_count": 26,
   "id": "c2c6dc60",
   "metadata": {},
   "outputs": [],
   "source": [
    "test_dates = ['220228','220227','220226']"
   ]
  },
  {
   "cell_type": "code",
   "execution_count": 27,
   "id": "871ee209",
   "metadata": {},
   "outputs": [],
   "source": [
    "sample_rate = [0.2,0.3,0.4,0.5,0.6,0.7,0.8]"
   ]
  },
  {
   "cell_type": "code",
   "execution_count": 28,
   "id": "f1e7f7d4",
   "metadata": {},
   "outputs": [],
   "source": [
    "new_train_data.loc[new_train_data['date_str'].isin(test_dates), 'split_type'] = 'test'"
   ]
  },
  {
   "cell_type": "code",
   "execution_count": 29,
   "id": "764d2ff3",
   "metadata": {},
   "outputs": [
    {
     "name": "stdout",
     "output_type": "stream",
     "text": [
      "val      1716\n",
      "test     1010\n",
      "train     428\n",
      "Name: split_type, dtype: int64\n",
      "val      1499\n",
      "test     1010\n",
      "train     645\n",
      "Name: split_type, dtype: int64\n",
      "val      1286\n",
      "test     1010\n",
      "train     858\n",
      "Name: split_type, dtype: int64\n",
      "train    1072\n",
      "val      1072\n",
      "test     1010\n",
      "Name: split_type, dtype: int64\n",
      "train    1287\n",
      "test     1010\n",
      "val       857\n",
      "Name: split_type, dtype: int64\n",
      "train    1499\n",
      "test     1010\n",
      "val       645\n",
      "Name: split_type, dtype: int64\n",
      "train    1716\n",
      "test     1010\n",
      "val       428\n",
      "Name: split_type, dtype: int64\n"
     ]
    }
   ],
   "source": [
    "for sr in sample_rate:\n",
    "    temp_sample_df = new_train_data.copy()\n",
    "    train_instances = []\n",
    "    for curr_date in set(temp_sample_df.date_str.unique())-set(test_dates):\n",
    "        temp_df = temp_sample_df[temp_sample_df.date_str==curr_date]\n",
    "        train_samples = list(temp_df.sample(frac=sr).index)\n",
    "        train_instances += train_samples\n",
    "    temp_sample_df.loc[temp_sample_df.index.isin(train_instances), 'split_type'] = 'train'\n",
    "    temp_sample_df.loc[temp_sample_df.split_type.isna(), 'split_type'] = 'val'\n",
    "    temp_sample_df = temp_sample_df[temp_sample_df.filename!='211210_0078'].reset_index(drop=True)\n",
    "    print(temp_sample_df.split_type.value_counts())\n",
    "    temp_sample_df.to_csv('../datasets/Manatees/manatee_update_sample_{}_each_day_no_outliers.csv'.format(sr), index=False)"
   ]
  },
  {
   "cell_type": "code",
   "execution_count": 30,
   "id": "3b18c94c",
   "metadata": {},
   "outputs": [
    {
     "data": {
      "text/plain": [
       "test    1010\n",
       "Name: split_type, dtype: int64"
      ]
     },
     "execution_count": 30,
     "metadata": {},
     "output_type": "execute_result"
    }
   ],
   "source": [
    "new_train_data.split_type.value_counts()"
   ]
  },
  {
   "cell_type": "markdown",
   "id": "5efecf6d",
   "metadata": {},
   "source": [
    "## combine 2017 data"
   ]
  },
  {
   "cell_type": "code",
   "execution_count": 107,
   "id": "caac5eb8",
   "metadata": {},
   "outputs": [],
   "source": [
    "old_train_data = old_train_data.sample(500).reset_index(drop=True)"
   ]
  },
  {
   "cell_type": "code",
   "execution_count": 108,
   "id": "f2b67cb4",
   "metadata": {},
   "outputs": [],
   "source": [
    "old_train_data.loc[:,'split_type'] = 'train'\n",
    "old_train_data.loc[:,'filepath'] = 'annotations'\n",
    "old_train_data.loc[:,'filename'] = old_train_data.loc[:,'filename'].apply(lambda x: '67407878.'+str(x))\n",
    "old_train_data.loc[:,'channel'] = 1"
   ]
  },
  {
   "cell_type": "code",
   "execution_count": 109,
   "id": "0bf82ad5",
   "metadata": {},
   "outputs": [
    {
     "data": {
      "text/plain": [
       "1    500\n",
       "Name: channel, dtype: int64"
      ]
     },
     "execution_count": 109,
     "metadata": {},
     "output_type": "execute_result"
    }
   ],
   "source": [
    "old_train_data.channel.value_counts()"
   ]
  },
  {
   "cell_type": "code",
   "execution_count": 110,
   "id": "e312346b",
   "metadata": {},
   "outputs": [
    {
     "data": {
      "text/plain": [
       "1    3175\n",
       "Name: channel, dtype: int64"
      ]
     },
     "execution_count": 110,
     "metadata": {},
     "output_type": "execute_result"
    }
   ],
   "source": [
    "new_train_data.channel.value_counts()"
   ]
  },
  {
   "cell_type": "code",
   "execution_count": 92,
   "id": "ea7609a6",
   "metadata": {},
   "outputs": [],
   "source": [
    "cols = list(set(old_train_data.columns)&set(new_train_data.columns))"
   ]
  },
  {
   "cell_type": "code",
   "execution_count": 93,
   "id": "359f7189",
   "metadata": {},
   "outputs": [],
   "source": [
    "concat_data = pd.concat([old_train_data[cols],new_train_data[cols]])"
   ]
  },
  {
   "cell_type": "code",
   "execution_count": 94,
   "id": "138166a5",
   "metadata": {},
   "outputs": [
    {
     "data": {
      "text/html": [
       "<div>\n",
       "<style scoped>\n",
       "    .dataframe tbody tr th:only-of-type {\n",
       "        vertical-align: middle;\n",
       "    }\n",
       "\n",
       "    .dataframe tbody tr th {\n",
       "        vertical-align: top;\n",
       "    }\n",
       "\n",
       "    .dataframe thead th {\n",
       "        text-align: right;\n",
       "    }\n",
       "</style>\n",
       "<table border=\"1\" class=\"dataframe\">\n",
       "  <thead>\n",
       "    <tr style=\"text-align: right;\">\n",
       "      <th></th>\n",
       "      <th>label</th>\n",
       "      <th>Selection</th>\n",
       "      <th>Delta Time (s)</th>\n",
       "      <th>begin_time</th>\n",
       "      <th>View</th>\n",
       "      <th>StartMicInWater</th>\n",
       "      <th>EndMicInWater</th>\n",
       "      <th>Low Freq (Hz)</th>\n",
       "      <th>High Freq (Hz)</th>\n",
       "      <th>filepath</th>\n",
       "      <th>call_length</th>\n",
       "      <th>end_time</th>\n",
       "      <th>Delta Freq (Hz)</th>\n",
       "      <th>channel</th>\n",
       "      <th>filename</th>\n",
       "      <th>split_type</th>\n",
       "    </tr>\n",
       "  </thead>\n",
       "  <tbody>\n",
       "    <tr>\n",
       "      <th>0</th>\n",
       "      <td>0</td>\n",
       "      <td>12</td>\n",
       "      <td>0.248</td>\n",
       "      <td>291.196</td>\n",
       "      <td>Spectrogram 1</td>\n",
       "      <td>24.659000</td>\n",
       "      <td>1710.758</td>\n",
       "      <td>872.6</td>\n",
       "      <td>2722.6</td>\n",
       "      <td>annotations</td>\n",
       "      <td>15.192</td>\n",
       "      <td>306.388</td>\n",
       "      <td>1850.0</td>\n",
       "      <td>1</td>\n",
       "      <td>67407878.170716112708</td>\n",
       "      <td>train</td>\n",
       "    </tr>\n",
       "    <tr>\n",
       "      <th>1</th>\n",
       "      <td>1</td>\n",
       "      <td>39</td>\n",
       "      <td>0.366</td>\n",
       "      <td>1725.235</td>\n",
       "      <td>Spectrogram 1</td>\n",
       "      <td>223.034000</td>\n",
       "      <td>1789.787</td>\n",
       "      <td>2691.4</td>\n",
       "      <td>80587.6</td>\n",
       "      <td>annotations</td>\n",
       "      <td>0.366</td>\n",
       "      <td>1725.601</td>\n",
       "      <td>77896.2</td>\n",
       "      <td>1</td>\n",
       "      <td>67407878.170716052709</td>\n",
       "      <td>train</td>\n",
       "    </tr>\n",
       "    <tr>\n",
       "      <th>2</th>\n",
       "      <td>0</td>\n",
       "      <td>38</td>\n",
       "      <td>0.372</td>\n",
       "      <td>1722.918</td>\n",
       "      <td>Spectrogram 1</td>\n",
       "      <td>223.034000</td>\n",
       "      <td>1789.787</td>\n",
       "      <td>1203.1</td>\n",
       "      <td>13456.8</td>\n",
       "      <td>annotations</td>\n",
       "      <td>0.926</td>\n",
       "      <td>1723.844</td>\n",
       "      <td>12253.7</td>\n",
       "      <td>1</td>\n",
       "      <td>67407878.170716052709</td>\n",
       "      <td>train</td>\n",
       "    </tr>\n",
       "    <tr>\n",
       "      <th>3</th>\n",
       "      <td>1</td>\n",
       "      <td>51</td>\n",
       "      <td>0.126</td>\n",
       "      <td>965.061</td>\n",
       "      <td>Spectrogram 1</td>\n",
       "      <td>2.817000</td>\n",
       "      <td>1437.053</td>\n",
       "      <td>1875.0</td>\n",
       "      <td>45221.1</td>\n",
       "      <td>annotations</td>\n",
       "      <td>0.126</td>\n",
       "      <td>965.187</td>\n",
       "      <td>43346.1</td>\n",
       "      <td>1</td>\n",
       "      <td>67407878.170713225715</td>\n",
       "      <td>train</td>\n",
       "    </tr>\n",
       "    <tr>\n",
       "      <th>4</th>\n",
       "      <td>0</td>\n",
       "      <td>276</td>\n",
       "      <td>0.488</td>\n",
       "      <td>4437.866</td>\n",
       "      <td>Spectrogram 1</td>\n",
       "      <td>71.428399</td>\n",
       "      <td>5391.007</td>\n",
       "      <td>1414.2</td>\n",
       "      <td>23714.3</td>\n",
       "      <td>annotations</td>\n",
       "      <td>3.574</td>\n",
       "      <td>4441.440</td>\n",
       "      <td>22300.1</td>\n",
       "      <td>1</td>\n",
       "      <td>67407878.170710005518</td>\n",
       "      <td>train</td>\n",
       "    </tr>\n",
       "  </tbody>\n",
       "</table>\n",
       "</div>"
      ],
      "text/plain": [
       "   label  Selection  Delta Time (s)  begin_time           View  \\\n",
       "0      0         12           0.248     291.196  Spectrogram 1   \n",
       "1      1         39           0.366    1725.235  Spectrogram 1   \n",
       "2      0         38           0.372    1722.918  Spectrogram 1   \n",
       "3      1         51           0.126     965.061  Spectrogram 1   \n",
       "4      0        276           0.488    4437.866  Spectrogram 1   \n",
       "\n",
       "   StartMicInWater  EndMicInWater  Low Freq (Hz)  High Freq (Hz)     filepath  \\\n",
       "0        24.659000       1710.758          872.6          2722.6  annotations   \n",
       "1       223.034000       1789.787         2691.4         80587.6  annotations   \n",
       "2       223.034000       1789.787         1203.1         13456.8  annotations   \n",
       "3         2.817000       1437.053         1875.0         45221.1  annotations   \n",
       "4        71.428399       5391.007         1414.2         23714.3  annotations   \n",
       "\n",
       "   call_length  end_time  Delta Freq (Hz)  channel               filename  \\\n",
       "0       15.192   306.388           1850.0        1  67407878.170716112708   \n",
       "1        0.366  1725.601          77896.2        1  67407878.170716052709   \n",
       "2        0.926  1723.844          12253.7        1  67407878.170716052709   \n",
       "3        0.126   965.187          43346.1        1  67407878.170713225715   \n",
       "4        3.574  4441.440          22300.1        1  67407878.170710005518   \n",
       "\n",
       "  split_type  \n",
       "0      train  \n",
       "1      train  \n",
       "2      train  \n",
       "3      train  \n",
       "4      train  "
      ]
     },
     "execution_count": 94,
     "metadata": {},
     "output_type": "execute_result"
    }
   ],
   "source": [
    "concat_data.head()"
   ]
  },
  {
   "cell_type": "code",
   "execution_count": 95,
   "id": "6af3bae6",
   "metadata": {},
   "outputs": [
    {
     "data": {
      "text/plain": [
       "(3675, 16)"
      ]
     },
     "execution_count": 95,
     "metadata": {},
     "output_type": "execute_result"
    }
   ],
   "source": [
    "concat_data.shape"
   ]
  },
  {
   "cell_type": "code",
   "execution_count": 96,
   "id": "52d844da",
   "metadata": {},
   "outputs": [
    {
     "data": {
      "text/plain": [
       "1    1857\n",
       "0    1818\n",
       "Name: label, dtype: int64"
      ]
     },
     "execution_count": 96,
     "metadata": {},
     "output_type": "execute_result"
    }
   ],
   "source": [
    "concat_data.label.value_counts()"
   ]
  },
  {
   "cell_type": "code",
   "execution_count": 97,
   "id": "0666eac3",
   "metadata": {},
   "outputs": [],
   "source": [
    "concat_data.to_csv('../datasets/Manatees/manatee_concat_2017_sample_2022.csv', index=False)"
   ]
  },
  {
   "cell_type": "code",
   "execution_count": 72,
   "id": "c5b0dcf0",
   "metadata": {},
   "outputs": [
    {
     "data": {
      "text/plain": [
       "10420.021658417003"
      ]
     },
     "execution_count": 72,
     "metadata": {},
     "output_type": "execute_result"
    }
   ],
   "source": [
    "old_train_data['call_length'].sum()"
   ]
  },
  {
   "cell_type": "code",
   "execution_count": 73,
   "id": "1d3519ad",
   "metadata": {},
   "outputs": [
    {
     "data": {
      "text/plain": [
       "14019.179500266999"
      ]
     },
     "execution_count": 73,
     "metadata": {},
     "output_type": "execute_result"
    }
   ],
   "source": [
    "new_train_data['call_length'].sum()"
   ]
  },
  {
   "cell_type": "code",
   "execution_count": 47,
   "id": "54fb4700",
   "metadata": {},
   "outputs": [
    {
     "name": "stdout",
     "output_type": "stream",
     "text": [
      "3171.4\n"
     ]
    },
    {
     "data": {
      "image/png": "[encoded data removed]",
      "text/plain": [
       "<Figure size 432x288 with 1 Axes>"
      ]
     },
     "metadata": {
      "needs_background": "light"
     },
     "output_type": "display_data"
    }
   ],
   "source": [
    "plt.plot(old_train_data['Low Freq (Hz)'])\n",
    "print(old_train_data['Low Freq (Hz)'].median())"
   ]
  },
  {
   "cell_type": "code",
   "execution_count": 48,
   "id": "daa6c9a0",
   "metadata": {},
   "outputs": [
    {
     "name": "stdout",
     "output_type": "stream",
     "text": [
      "3384.615\n"
     ]
    },
    {
     "data": {
      "image/png": "[encoded data removed]",
      "text/plain": [
       "<Figure size 432x288 with 1 Axes>"
      ]
     },
     "metadata": {
      "needs_background": "light"
     },
     "output_type": "display_data"
    }
   ],
   "source": [
    "plt.plot(new_train_data['Low Freq (Hz)'])\n",
    "print(new_train_data['Low Freq (Hz)'].median())"
   ]
  },
  {
   "cell_type": "code",
   "execution_count": 49,
   "id": "0a237fe5",
   "metadata": {},
   "outputs": [
    {
     "name": "stdout",
     "output_type": "stream",
     "text": [
      "13169.7\n"
     ]
    },
    {
     "data": {
      "image/png": "[encoded data removed]",
      "text/plain": [
       "<Figure size 432x288 with 1 Axes>"
      ]
     },
     "metadata": {
      "needs_background": "light"
     },
     "output_type": "display_data"
    }
   ],
   "source": [
    "plt.plot(old_train_data['High Freq (Hz)'])\n",
    "print(old_train_data['High Freq (Hz)'].median())"
   ]
  },
  {
   "cell_type": "code",
   "execution_count": 50,
   "id": "9473e90d",
   "metadata": {},
   "outputs": [
    {
     "name": "stdout",
     "output_type": "stream",
     "text": [
      "4314.607\n"
     ]
    },
    {
     "data": {
      "image/png": "[encoded data removed]",
      "text/plain": [
       "<Figure size 432x288 with 1 Axes>"
      ]
     },
     "metadata": {
      "needs_background": "light"
     },
     "output_type": "display_data"
    }
   ],
   "source": [
    "plt.plot(new_train_data['High Freq (Hz)'])\n",
    "print(new_train_data['High Freq (Hz)'].median())"
   ]
  },
  {
   "cell_type": "code",
   "execution_count": null,
   "id": "dcd7def7",
   "metadata": {},
   "outputs": [],
   "source": []
  }
 ],
 "metadata": {
  "kernelspec": {
   "display_name": "Python 3 (ipykernel)",
   "language": "python",
   "name": "python3"
  },
  "language_info": {
   "codemirror_mode": {
    "name": "ipython",
    "version": 3
   },
   "file_extension": ".py",
   "mimetype": "text/x-python",
   "name": "python",
   "nbconvert_exporter": "python",
   "pygments_lexer": "ipython3",
   "version": "3.9.12"
  }
 },
 "nbformat": 4,
 "nbformat_minor": 5
}
