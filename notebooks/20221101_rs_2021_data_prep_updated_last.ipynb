{
 "cells": [
  {
   "cell_type": "code",
   "execution_count": 1,
   "id": "51c89415",
   "metadata": {},
   "outputs": [],
   "source": [
    "import pandas as pd\n",
    "import os\n",
    "import numpy as np\n",
    "\n",
    "\n",
    "pd.options.display.max_rows = 1000\n",
    "pd.options.display.max_columns = 1000\n",
    "pd.options.display.max_colwidth = None\n",
    "\n",
    "from IPython.core.interactiveshell import InteractiveShell\n",
    "\n",
    "InteractiveShell.ast_node_interactivity = \"all\""
   ]
  },
  {
   "cell_type": "code",
   "execution_count": 2,
   "id": "138722af",
   "metadata": {},
   "outputs": [],
   "source": [
    "from soundbay.utils.metadata_processing import load_n_adapt_raven_annotation_table_to_dv_dataset_requirements"
   ]
  },
  {
   "cell_type": "markdown",
   "id": "f330a23f",
   "metadata": {},
   "source": [
    "# params"
   ]
  },
  {
   "cell_type": "code",
   "execution_count": 3,
   "id": "a32faa34",
   "metadata": {},
   "outputs": [],
   "source": [
    "annotations_dir = '../datasets/2021_annotations/'\n",
    "cols2drop = ['View', 'Channel', 'Low Freq (Hz)', 'High Freq (Hz)', 'Delta Time (s)', 'Delta Freq (Hz)',\n",
    "       'Avg Power Density (dB FS/Hz)']"
   ]
  },
  {
   "cell_type": "markdown",
   "id": "07b7947f",
   "metadata": {},
   "source": [
    "# load annotations"
   ]
  },
  {
   "cell_type": "code",
   "execution_count": 4,
   "id": "a174d580",
   "metadata": {},
   "outputs": [
    {
     "name": "stdout",
     "output_type": "stream",
     "text": [
      "exception: UnicodeDecodeError\n",
      "occured in file: 210904-093942_Tr2.Table.1.selections.txt\n",
      "exception: UnicodeDecodeError\n",
      "occured in file: 210904-093942_Tr1.Table.1.selections- Annotated.txt\n",
      "exception: 'end_time'\n",
      "occured in file: 210904-111316_Tr2restofrecord.txt\n",
      "33\n"
     ]
    }
   ],
   "source": [
    "df_list = []\n",
    "for filename in os.listdir(annotations_dir):\n",
    "    try:\n",
    "        #         print(filename)\n",
    "        annotation_file_path = os.path.join(annotations_dir, filename)\n",
    "        small_df = load_n_adapt_raven_annotation_table_to_dv_dataset_requirements(annotation_file_path)\n",
    "        df_list.append(small_df)\n",
    "    except UnicodeDecodeError:\n",
    "        print('exception:', 'UnicodeDecodeError')\n",
    "        print('occured in file:', filename)\n",
    "        continue\n",
    "    except Exception as e:\n",
    "        print('exception:', e)\n",
    "        print('occured in file:', filename)\n",
    "        continue\n",
    "        \n",
    "\n",
    "print(len(df_list))\n",
    "df_all_annotations = pd.concat(df_list)\n",
    "df_all_annotations = df_all_annotations.drop(cols2drop, axis=1)\n",
    "# df_all_annotations.head()"
   ]
  },
  {
   "cell_type": "code",
   "execution_count": 5,
   "id": "eab127c9",
   "metadata": {},
   "outputs": [
    {
     "data": {
      "text/plain": [
       "(14898, 6)"
      ]
     },
     "execution_count": 5,
     "metadata": {},
     "output_type": "execute_result"
    },
    {
     "data": {
      "text/html": [
       "<div>\n",
       "<style scoped>\n",
       "    .dataframe tbody tr th:only-of-type {\n",
       "        vertical-align: middle;\n",
       "    }\n",
       "\n",
       "    .dataframe tbody tr th {\n",
       "        vertical-align: top;\n",
       "    }\n",
       "\n",
       "    .dataframe thead th {\n",
       "        text-align: right;\n",
       "    }\n",
       "</style>\n",
       "<table border=\"1\" class=\"dataframe\">\n",
       "  <thead>\n",
       "    <tr style=\"text-align: right;\">\n",
       "      <th></th>\n",
       "      <th>Selection</th>\n",
       "      <th>begin_time</th>\n",
       "      <th>end_time</th>\n",
       "      <th>Annotation</th>\n",
       "      <th>filename</th>\n",
       "      <th>call_length</th>\n",
       "    </tr>\n",
       "  </thead>\n",
       "  <tbody>\n",
       "    <tr>\n",
       "      <th>0</th>\n",
       "      <td>1</td>\n",
       "      <td>2.008108</td>\n",
       "      <td>2.699544</td>\n",
       "      <td>NaN</td>\n",
       "      <td>210825-135601_Tr1</td>\n",
       "      <td>0.691436</td>\n",
       "    </tr>\n",
       "    <tr>\n",
       "      <th>1</th>\n",
       "      <td>3</td>\n",
       "      <td>5.619289</td>\n",
       "      <td>6.185679</td>\n",
       "      <td>NaN</td>\n",
       "      <td>210825-135601_Tr1</td>\n",
       "      <td>0.566389</td>\n",
       "    </tr>\n",
       "    <tr>\n",
       "      <th>2</th>\n",
       "      <td>4</td>\n",
       "      <td>8.171719</td>\n",
       "      <td>8.716042</td>\n",
       "      <td>NaN</td>\n",
       "      <td>210825-135601_Tr1</td>\n",
       "      <td>0.544322</td>\n",
       "    </tr>\n",
       "    <tr>\n",
       "      <th>3</th>\n",
       "      <td>5</td>\n",
       "      <td>11.245463</td>\n",
       "      <td>12.098725</td>\n",
       "      <td>NaN</td>\n",
       "      <td>210825-135601_Tr1</td>\n",
       "      <td>0.853262</td>\n",
       "    </tr>\n",
       "    <tr>\n",
       "      <th>4</th>\n",
       "      <td>6</td>\n",
       "      <td>16.927039</td>\n",
       "      <td>17.456650</td>\n",
       "      <td>NaN</td>\n",
       "      <td>210825-135601_Tr1</td>\n",
       "      <td>0.529611</td>\n",
       "    </tr>\n",
       "  </tbody>\n",
       "</table>\n",
       "</div>"
      ],
      "text/plain": [
       "   Selection  begin_time   end_time Annotation           filename  call_length\n",
       "0          1    2.008108   2.699544        NaN  210825-135601_Tr1     0.691436\n",
       "1          3    5.619289   6.185679        NaN  210825-135601_Tr1     0.566389\n",
       "2          4    8.171719   8.716042        NaN  210825-135601_Tr1     0.544322\n",
       "3          5   11.245463  12.098725        NaN  210825-135601_Tr1     0.853262\n",
       "4          6   16.927039  17.456650        NaN  210825-135601_Tr1     0.529611"
      ]
     },
     "execution_count": 5,
     "metadata": {},
     "output_type": "execute_result"
    },
    {
     "data": {
      "text/html": [
       "<div>\n",
       "<style scoped>\n",
       "    .dataframe tbody tr th:only-of-type {\n",
       "        vertical-align: middle;\n",
       "    }\n",
       "\n",
       "    .dataframe tbody tr th {\n",
       "        vertical-align: top;\n",
       "    }\n",
       "\n",
       "    .dataframe thead th {\n",
       "        text-align: right;\n",
       "    }\n",
       "</style>\n",
       "<table border=\"1\" class=\"dataframe\">\n",
       "  <thead>\n",
       "    <tr style=\"text-align: right;\">\n",
       "      <th></th>\n",
       "      <th>Selection</th>\n",
       "      <th>begin_time</th>\n",
       "      <th>end_time</th>\n",
       "      <th>Annotation</th>\n",
       "      <th>filename</th>\n",
       "      <th>call_length</th>\n",
       "    </tr>\n",
       "  </thead>\n",
       "  <tbody>\n",
       "    <tr>\n",
       "      <th>763</th>\n",
       "      <td>777</td>\n",
       "      <td>1193.463021</td>\n",
       "      <td>1194.461811</td>\n",
       "      <td>NaN</td>\n",
       "      <td>210824-104507_Tr1.txt</td>\n",
       "      <td>0.998790</td>\n",
       "    </tr>\n",
       "    <tr>\n",
       "      <th>764</th>\n",
       "      <td>778</td>\n",
       "      <td>1197.903048</td>\n",
       "      <td>1198.732551</td>\n",
       "      <td>NaN</td>\n",
       "      <td>210824-104507_Tr1.txt</td>\n",
       "      <td>0.829504</td>\n",
       "    </tr>\n",
       "    <tr>\n",
       "      <th>765</th>\n",
       "      <td>779</td>\n",
       "      <td>1209.800186</td>\n",
       "      <td>1211.069834</td>\n",
       "      <td>NaN</td>\n",
       "      <td>210824-104507_Tr1.txt</td>\n",
       "      <td>1.269648</td>\n",
       "    </tr>\n",
       "    <tr>\n",
       "      <th>766</th>\n",
       "      <td>780</td>\n",
       "      <td>1213.084343</td>\n",
       "      <td>1214.328598</td>\n",
       "      <td>NaN</td>\n",
       "      <td>210824-104507_Tr1.txt</td>\n",
       "      <td>1.244255</td>\n",
       "    </tr>\n",
       "    <tr>\n",
       "      <th>767</th>\n",
       "      <td>781</td>\n",
       "      <td>1214.514813</td>\n",
       "      <td>1215.005744</td>\n",
       "      <td>NaN</td>\n",
       "      <td>210824-104507_Tr1.txt</td>\n",
       "      <td>0.490931</td>\n",
       "    </tr>\n",
       "  </tbody>\n",
       "</table>\n",
       "</div>"
      ],
      "text/plain": [
       "     Selection   begin_time     end_time Annotation               filename  \\\n",
       "763        777  1193.463021  1194.461811        NaN  210824-104507_Tr1.txt   \n",
       "764        778  1197.903048  1198.732551        NaN  210824-104507_Tr1.txt   \n",
       "765        779  1209.800186  1211.069834        NaN  210824-104507_Tr1.txt   \n",
       "766        780  1213.084343  1214.328598        NaN  210824-104507_Tr1.txt   \n",
       "767        781  1214.514813  1215.005744        NaN  210824-104507_Tr1.txt   \n",
       "\n",
       "     call_length  \n",
       "763     0.998790  \n",
       "764     0.829504  \n",
       "765     1.269648  \n",
       "766     1.244255  \n",
       "767     0.490931  "
      ]
     },
     "execution_count": 5,
     "metadata": {},
     "output_type": "execute_result"
    }
   ],
   "source": [
    "df_all_annotations.shape\n",
    "df_all_annotations.head()\n",
    "df_all_annotations.tail()"
   ]
  },
  {
   "cell_type": "markdown",
   "id": "16184823",
   "metadata": {},
   "source": [
    "# explore labels"
   ]
  },
  {
   "cell_type": "code",
   "execution_count": 6,
   "id": "a690c29f",
   "metadata": {},
   "outputs": [
    {
     "data": {
      "text/plain": [
       "array([nan, '?', 'Dolphins?', 'un', 'sc', 'un ', 'un !!! What ?', 'sc ?',\n",
       "       'SC', 'd', 'un- weird whale sound probably', 'un d/w', 'dolphin',\n",
       "       'd / cs ?', 'sc \\\\ d \\\\ un', 'cs ?', 'un \\\\ d ?', 'sc ? un',\n",
       "       'few calls in this annotation', 'baby whale?', 'song (s)', 's',\n",
       "       'un/d', 'un ?', 'w & un', '!', 'sc?', 'd?', 'ד'], dtype=object)"
      ]
     },
     "execution_count": 6,
     "metadata": {},
     "output_type": "execute_result"
    }
   ],
   "source": [
    "df_all_annotations.Annotation.unique()"
   ]
  },
  {
   "cell_type": "code",
   "execution_count": 7,
   "id": "5c8aeb3c",
   "metadata": {},
   "outputs": [
    {
     "data": {
      "text/plain": [
       "sc                                915\n",
       "un                                449\n",
       "d                                 320\n",
       "s                                 142\n",
       "?                                  47\n",
       "sc ?                               14\n",
       "un d/w                              7\n",
       "d?                                  4\n",
       "dolphin                             3\n",
       "Dolphins?                           3\n",
       "SC                                  2\n",
       "un/d                                2\n",
       "un ?                                1\n",
       "!                                   1\n",
       "w & un                              1\n",
       "baby whale?                         1\n",
       "sc?                                 1\n",
       "song (s)                            1\n",
       "cs ?                                1\n",
       "few calls in this annotation        1\n",
       "sc ? un                             1\n",
       "un \\ d ?                            1\n",
       "sc \\ d \\ un                         1\n",
       "d / cs ?                            1\n",
       "un- weird whale sound probably      1\n",
       "un !!! What ?                       1\n",
       "un                                  1\n",
       "ד                                   1\n",
       "Name: Annotation, dtype: int64"
      ]
     },
     "execution_count": 7,
     "metadata": {},
     "output_type": "execute_result"
    }
   ],
   "source": [
    "df_all_annotations.Annotation.value_counts()"
   ]
  },
  {
   "cell_type": "markdown",
   "id": "a2cf5412",
   "metadata": {},
   "source": [
    "For labels that appear only once - find location"
   ]
  },
  {
   "cell_type": "code",
   "execution_count": 8,
   "id": "5992e965",
   "metadata": {},
   "outputs": [],
   "source": [
    "all_unique_labels = df_all_annotations.Annotation.value_counts()[\n",
    "    df_all_annotations.Annotation.value_counts() == 1].index.values"
   ]
  },
  {
   "cell_type": "code",
   "execution_count": 9,
   "id": "92042854",
   "metadata": {},
   "outputs": [
    {
     "data": {
      "text/plain": [
       "array(['un ?', '!', 'w & un', 'baby whale?', 'sc?', 'song (s)', 'cs ?',\n",
       "       'few calls in this annotation', 'sc ? un', 'un \\\\ d ?',\n",
       "       'sc \\\\ d \\\\ un', 'd / cs ?', 'un- weird whale sound probably',\n",
       "       'un !!! What ?', 'un ', 'ד'], dtype=object)"
      ]
     },
     "execution_count": 9,
     "metadata": {},
     "output_type": "execute_result"
    }
   ],
   "source": [
    "all_unique_labels"
   ]
  },
  {
   "cell_type": "code",
   "execution_count": 10,
   "id": "f508fe75",
   "metadata": {},
   "outputs": [],
   "source": [
    "df_unique_labels = df_all_annotations[df_all_annotations.Annotation.isin(all_unique_labels)].copy()"
   ]
  },
  {
   "cell_type": "code",
   "execution_count": 11,
   "id": "b65e96a1",
   "metadata": {},
   "outputs": [
    {
     "data": {
      "text/plain": [
       "Index(['Selection', 'begin_time', 'end_time', 'Annotation', 'filename',\n",
       "       'call_length'],\n",
       "      dtype='object')"
      ]
     },
     "execution_count": 11,
     "metadata": {},
     "output_type": "execute_result"
    }
   ],
   "source": [
    "df_unique_labels.columns"
   ]
  },
  {
   "cell_type": "code",
   "execution_count": 14,
   "id": "1112855e",
   "metadata": {},
   "outputs": [],
   "source": [
    "cols2keep = ['Selection', 'begin_time', 'end_time', 'Annotation', 'filename']"
   ]
  },
  {
   "cell_type": "code",
   "execution_count": 15,
   "id": "9dc0d6fe",
   "metadata": {},
   "outputs": [],
   "source": [
    "df_unique_labels = df_unique_labels[cols2keep]"
   ]
  },
  {
   "cell_type": "code",
   "execution_count": 16,
   "id": "f05b64fd",
   "metadata": {},
   "outputs": [],
   "source": [
    "df_unique_labels.to_csv('unique_labels_info.csv', index=False)"
   ]
  },
  {
   "cell_type": "code",
   "execution_count": 17,
   "id": "68d15d2f",
   "metadata": {},
   "outputs": [],
   "source": [
    "def change_annotations(df_of_annotations: pd.DataFrame, annotations_to_change: list, target_value: str) -> None:\n",
    "    \"\"\"change specified annotations to target value. do this inplace.\"\"\"\n",
    "    df_of_annotations.replace(to_replace=annotations_to_change, value=target_value, inplace=True, limit=None, regex=False)\n",
    "    return\n",
    "\n",
    "def filter_annotations(df_of_annotations: pd.DataFrame, annotations_to_keep: list) -> None:\n",
    "    \"\"\"turn all annotations that were not specified as \"keep\", into 'bg'. do this inplace.\"\"\"\n",
    "    all_annotations = df_of_annotations.Annotation.unique()\n",
    "    annotations_to_filter = list(set(all_annotations).difference(annotations_to_keep))\n",
    "    df_of_annotations.replace(to_replace=annotations_to_filter, value='bg', inplace=True, limit=None, regex=False)\n",
    "    return"
   ]
  },
  {
   "cell_type": "code",
   "execution_count": 18,
   "id": "73405fd5",
   "metadata": {},
   "outputs": [],
   "source": [
    "annotations_to_change = ['SC', 'sc ?', 'un- weird whale sound probably', 'cs ?', 'baby whale?', 'song (s)', 's', 'sc?']\n",
    "annotations_to_keep = ['sc']\n",
    "target_value = 'sc'\n",
    "\n",
    "change_annotations(df_all_annotations, annotations_to_change, target_value)\n",
    "filter_annotations(df_all_annotations, annotations_to_keep)"
   ]
  },
  {
   "cell_type": "code",
   "execution_count": 19,
   "id": "eea3427c",
   "metadata": {},
   "outputs": [
    {
     "data": {
      "text/plain": [
       "array(['bg', 'sc'], dtype=object)"
      ]
     },
     "execution_count": 19,
     "metadata": {},
     "output_type": "execute_result"
    },
    {
     "data": {
      "text/plain": [
       "(14898, 6)"
      ]
     },
     "execution_count": 19,
     "metadata": {},
     "output_type": "execute_result"
    }
   ],
   "source": [
    "df_all_annotations.Annotation.unique()\n",
    "df_all_annotations.shape"
   ]
  },
  {
   "cell_type": "markdown",
   "id": "4b1c8902",
   "metadata": {},
   "source": [
    "# label background"
   ]
  },
  {
   "cell_type": "markdown",
   "id": "be872c5a",
   "metadata": {},
   "source": [
    "Methodology: all gaps between annotated segments are considered background"
   ]
  },
  {
   "cell_type": "code",
   "execution_count": 20,
   "id": "3215f68a",
   "metadata": {},
   "outputs": [
    {
     "data": {
      "text/plain": [
       "(14898, 6)"
      ]
     },
     "execution_count": 20,
     "metadata": {},
     "output_type": "execute_result"
    },
    {
     "data": {
      "text/plain": [
       "33"
      ]
     },
     "execution_count": 20,
     "metadata": {},
     "output_type": "execute_result"
    },
    {
     "data": {
      "text/html": [
       "<div>\n",
       "<style scoped>\n",
       "    .dataframe tbody tr th:only-of-type {\n",
       "        vertical-align: middle;\n",
       "    }\n",
       "\n",
       "    .dataframe tbody tr th {\n",
       "        vertical-align: top;\n",
       "    }\n",
       "\n",
       "    .dataframe thead th {\n",
       "        text-align: right;\n",
       "    }\n",
       "</style>\n",
       "<table border=\"1\" class=\"dataframe\">\n",
       "  <thead>\n",
       "    <tr style=\"text-align: right;\">\n",
       "      <th></th>\n",
       "      <th>Selection</th>\n",
       "      <th>begin_time</th>\n",
       "      <th>end_time</th>\n",
       "      <th>Annotation</th>\n",
       "      <th>filename</th>\n",
       "      <th>call_length</th>\n",
       "    </tr>\n",
       "  </thead>\n",
       "  <tbody>\n",
       "    <tr>\n",
       "      <th>0</th>\n",
       "      <td>1</td>\n",
       "      <td>2.008108</td>\n",
       "      <td>2.699544</td>\n",
       "      <td>bg</td>\n",
       "      <td>210825-135601_Tr1</td>\n",
       "      <td>0.691436</td>\n",
       "    </tr>\n",
       "    <tr>\n",
       "      <th>1</th>\n",
       "      <td>3</td>\n",
       "      <td>5.619289</td>\n",
       "      <td>6.185679</td>\n",
       "      <td>bg</td>\n",
       "      <td>210825-135601_Tr1</td>\n",
       "      <td>0.566389</td>\n",
       "    </tr>\n",
       "    <tr>\n",
       "      <th>2</th>\n",
       "      <td>4</td>\n",
       "      <td>8.171719</td>\n",
       "      <td>8.716042</td>\n",
       "      <td>bg</td>\n",
       "      <td>210825-135601_Tr1</td>\n",
       "      <td>0.544322</td>\n",
       "    </tr>\n",
       "    <tr>\n",
       "      <th>3</th>\n",
       "      <td>5</td>\n",
       "      <td>11.245463</td>\n",
       "      <td>12.098725</td>\n",
       "      <td>bg</td>\n",
       "      <td>210825-135601_Tr1</td>\n",
       "      <td>0.853262</td>\n",
       "    </tr>\n",
       "    <tr>\n",
       "      <th>4</th>\n",
       "      <td>6</td>\n",
       "      <td>16.927039</td>\n",
       "      <td>17.456650</td>\n",
       "      <td>bg</td>\n",
       "      <td>210825-135601_Tr1</td>\n",
       "      <td>0.529611</td>\n",
       "    </tr>\n",
       "  </tbody>\n",
       "</table>\n",
       "</div>"
      ],
      "text/plain": [
       "   Selection  begin_time   end_time Annotation           filename  call_length\n",
       "0          1    2.008108   2.699544         bg  210825-135601_Tr1     0.691436\n",
       "1          3    5.619289   6.185679         bg  210825-135601_Tr1     0.566389\n",
       "2          4    8.171719   8.716042         bg  210825-135601_Tr1     0.544322\n",
       "3          5   11.245463  12.098725         bg  210825-135601_Tr1     0.853262\n",
       "4          6   16.927039  17.456650         bg  210825-135601_Tr1     0.529611"
      ]
     },
     "execution_count": 20,
     "metadata": {},
     "output_type": "execute_result"
    }
   ],
   "source": [
    "df_all_annotations.shape\n",
    "df_all_annotations.filename.nunique()\n",
    "df_all_annotations.head()"
   ]
  },
  {
   "cell_type": "code",
   "execution_count": 21,
   "id": "d48e5d52",
   "metadata": {},
   "outputs": [],
   "source": [
    "df = df_all_annotations\n"
   ]
  },
  {
   "cell_type": "code",
   "execution_count": 83,
   "id": "b92cde62",
   "metadata": {},
   "outputs": [],
   "source": [
    "# for filename in df.filename.unique():\n",
    "#     print(filename)"
   ]
  },
  {
   "cell_type": "markdown",
   "id": "abbdc466",
   "metadata": {},
   "source": [
    "## merge overlapping calls"
   ]
  },
  {
   "cell_type": "code",
   "execution_count": 22,
   "id": "438c9058",
   "metadata": {},
   "outputs": [],
   "source": [
    "\n",
    "def merge_overlapping_calls(df: pd.DataFrame) -> pd.DataFrame:\n",
    "    \"\"\"\n",
    "    Receives an annotation dataframe with (possibly) overlapping calls, and goes through merge-and-drop iterations until\n",
    "    no more overlaps are found.\n",
    "    :param df: Pandas DataFrame with the following columns: ['filename', 'begin_time', 'end_time']\n",
    "    :return: pd.DataFrame\n",
    "    \"\"\"\n",
    "    df = df.sort_values(['filename', 'begin_time']).reset_index(drop=True)\n",
    "    df = reset_overlap_accessory_columns(df)\n",
    "    df = mark_overlapping_rows(df)\n",
    "\n",
    "    while 1 in df.overlap.unique():\n",
    "        df = merge_overlapping_rows(df)\n",
    "        df = reset_overlap_accessory_columns(df)\n",
    "        df = mark_overlapping_rows(df)\n",
    "\n",
    "    df = df.drop(['overlap', 'next_begin_time', 'next_end_time'], axis=1)\n",
    "    return df\n",
    "\n",
    "\n",
    "def merge_overlapping_rows(df) -> pd.DataFrame:\n",
    "    \"\"\"\n",
    "    Merge (and drop) overlapping rows.\n",
    "    \"\"\"\n",
    "    df.loc[df.overlap == 1, 'end_time'] = df[df.overlap == 1]['next_end_time']\n",
    "    df = df.drop_duplicates(subset=['filename', 'end_time'], keep='first')\n",
    "    return df\n",
    "\n",
    "\n",
    "def reset_overlap_accessory_columns(df) -> pd.DataFrame:\n",
    "    df['overlap'] = np.NaN\n",
    "    df['next_begin_time'] = df.groupby('filename').begin_time.shift(-1)\n",
    "    df['next_end_time'] = df.groupby('filename').end_time.shift(-1)\n",
    "    return df\n",
    "\n",
    "\n",
    "def mark_overlapping_rows(df) -> pd.DataFrame:\n",
    "    df.loc[df.next_begin_time < df.end_time, 'overlap'] = 1\n",
    "    return df\n",
    "\n",
    "# def mark_non_overlapping_rows(df) -> pd.DataFrame:\n",
    "#     \"\"\"\n",
    "#     Merely for sanity check.\n",
    "#     \"\"\"\n",
    "#     df.loc[(df.begin_time > df.end_time.shift(1)) & (df.end_time < df.begin_time.shift(-1)), 'overlap'] = 0\n",
    "#     return df\n"
   ]
  },
  {
   "cell_type": "code",
   "execution_count": 23,
   "id": "d0d1589e",
   "metadata": {
    "scrolled": true
   },
   "outputs": [],
   "source": [
    "df_no_overlap = merge_overlapping_calls(df)"
   ]
  },
  {
   "cell_type": "code",
   "execution_count": 24,
   "id": "7c52fc48",
   "metadata": {},
   "outputs": [
    {
     "data": {
      "text/plain": [
       "(11099, 6)"
      ]
     },
     "execution_count": 24,
     "metadata": {},
     "output_type": "execute_result"
    }
   ],
   "source": [
    "df_no_overlap.shape"
   ]
  },
  {
   "cell_type": "code",
   "execution_count": 25,
   "id": "eda91b33",
   "metadata": {},
   "outputs": [
    {
     "data": {
      "text/plain": [
       "(14898, 6)"
      ]
     },
     "execution_count": 25,
     "metadata": {},
     "output_type": "execute_result"
    },
    {
     "data": {
      "text/plain": [
       "(11099, 6)"
      ]
     },
     "execution_count": 25,
     "metadata": {},
     "output_type": "execute_result"
    }
   ],
   "source": [
    "df.shape\n",
    "df_no_overlap.shape"
   ]
  },
  {
   "cell_type": "code",
   "execution_count": 26,
   "id": "cb505049",
   "metadata": {},
   "outputs": [
    {
     "data": {
      "text/html": [
       "<div>\n",
       "<style scoped>\n",
       "    .dataframe tbody tr th:only-of-type {\n",
       "        vertical-align: middle;\n",
       "    }\n",
       "\n",
       "    .dataframe tbody tr th {\n",
       "        vertical-align: top;\n",
       "    }\n",
       "\n",
       "    .dataframe thead th {\n",
       "        text-align: right;\n",
       "    }\n",
       "</style>\n",
       "<table border=\"1\" class=\"dataframe\">\n",
       "  <thead>\n",
       "    <tr style=\"text-align: right;\">\n",
       "      <th></th>\n",
       "      <th>Selection</th>\n",
       "      <th>begin_time</th>\n",
       "      <th>end_time</th>\n",
       "      <th>Annotation</th>\n",
       "      <th>filename</th>\n",
       "      <th>call_length</th>\n",
       "    </tr>\n",
       "  </thead>\n",
       "  <tbody>\n",
       "    <tr>\n",
       "      <th>0</th>\n",
       "      <td>1</td>\n",
       "      <td>2.008108</td>\n",
       "      <td>2.699544</td>\n",
       "      <td>bg</td>\n",
       "      <td>210825-135601_Tr1</td>\n",
       "      <td>0.691436</td>\n",
       "    </tr>\n",
       "    <tr>\n",
       "      <th>1</th>\n",
       "      <td>3</td>\n",
       "      <td>5.619289</td>\n",
       "      <td>6.185679</td>\n",
       "      <td>bg</td>\n",
       "      <td>210825-135601_Tr1</td>\n",
       "      <td>0.566389</td>\n",
       "    </tr>\n",
       "    <tr>\n",
       "      <th>2</th>\n",
       "      <td>4</td>\n",
       "      <td>8.171719</td>\n",
       "      <td>8.716042</td>\n",
       "      <td>bg</td>\n",
       "      <td>210825-135601_Tr1</td>\n",
       "      <td>0.544322</td>\n",
       "    </tr>\n",
       "    <tr>\n",
       "      <th>3</th>\n",
       "      <td>5</td>\n",
       "      <td>11.245463</td>\n",
       "      <td>12.098725</td>\n",
       "      <td>bg</td>\n",
       "      <td>210825-135601_Tr1</td>\n",
       "      <td>0.853262</td>\n",
       "    </tr>\n",
       "    <tr>\n",
       "      <th>4</th>\n",
       "      <td>6</td>\n",
       "      <td>16.927039</td>\n",
       "      <td>17.456650</td>\n",
       "      <td>bg</td>\n",
       "      <td>210825-135601_Tr1</td>\n",
       "      <td>0.529611</td>\n",
       "    </tr>\n",
       "  </tbody>\n",
       "</table>\n",
       "</div>"
      ],
      "text/plain": [
       "   Selection  begin_time   end_time Annotation           filename  call_length\n",
       "0          1    2.008108   2.699544         bg  210825-135601_Tr1     0.691436\n",
       "1          3    5.619289   6.185679         bg  210825-135601_Tr1     0.566389\n",
       "2          4    8.171719   8.716042         bg  210825-135601_Tr1     0.544322\n",
       "3          5   11.245463  12.098725         bg  210825-135601_Tr1     0.853262\n",
       "4          6   16.927039  17.456650         bg  210825-135601_Tr1     0.529611"
      ]
     },
     "execution_count": 26,
     "metadata": {},
     "output_type": "execute_result"
    }
   ],
   "source": [
    "df.head()"
   ]
  },
  {
   "cell_type": "code",
   "execution_count": 27,
   "id": "dd171fd4",
   "metadata": {},
   "outputs": [
    {
     "data": {
      "text/html": [
       "<div>\n",
       "<style scoped>\n",
       "    .dataframe tbody tr th:only-of-type {\n",
       "        vertical-align: middle;\n",
       "    }\n",
       "\n",
       "    .dataframe tbody tr th {\n",
       "        vertical-align: top;\n",
       "    }\n",
       "\n",
       "    .dataframe thead th {\n",
       "        text-align: right;\n",
       "    }\n",
       "</style>\n",
       "<table border=\"1\" class=\"dataframe\">\n",
       "  <thead>\n",
       "    <tr style=\"text-align: right;\">\n",
       "      <th></th>\n",
       "      <th>Selection</th>\n",
       "      <th>begin_time</th>\n",
       "      <th>end_time</th>\n",
       "      <th>Annotation</th>\n",
       "      <th>filename</th>\n",
       "      <th>call_length</th>\n",
       "    </tr>\n",
       "  </thead>\n",
       "  <tbody>\n",
       "    <tr>\n",
       "      <th>0</th>\n",
       "      <td>1</td>\n",
       "      <td>59.532117</td>\n",
       "      <td>60.937416</td>\n",
       "      <td>sc</td>\n",
       "      <td>180913_081527 (1)</td>\n",
       "      <td>1.115795</td>\n",
       "    </tr>\n",
       "    <tr>\n",
       "      <th>2</th>\n",
       "      <td>3</td>\n",
       "      <td>62.137650</td>\n",
       "      <td>63.434385</td>\n",
       "      <td>sc</td>\n",
       "      <td>180913_081527 (1)</td>\n",
       "      <td>1.471644</td>\n",
       "    </tr>\n",
       "    <tr>\n",
       "      <th>4</th>\n",
       "      <td>178</td>\n",
       "      <td>64.068321</td>\n",
       "      <td>65.576152</td>\n",
       "      <td>sc</td>\n",
       "      <td>180913_081527 (1)</td>\n",
       "      <td>1.507831</td>\n",
       "    </tr>\n",
       "    <tr>\n",
       "      <th>5</th>\n",
       "      <td>5</td>\n",
       "      <td>66.978572</td>\n",
       "      <td>68.263244</td>\n",
       "      <td>sc</td>\n",
       "      <td>180913_081527 (1)</td>\n",
       "      <td>1.284672</td>\n",
       "    </tr>\n",
       "    <tr>\n",
       "      <th>6</th>\n",
       "      <td>6</td>\n",
       "      <td>68.329589</td>\n",
       "      <td>69.511729</td>\n",
       "      <td>sc</td>\n",
       "      <td>180913_081527 (1)</td>\n",
       "      <td>1.182140</td>\n",
       "    </tr>\n",
       "    <tr>\n",
       "      <th>7</th>\n",
       "      <td>7</td>\n",
       "      <td>71.271167</td>\n",
       "      <td>72.754873</td>\n",
       "      <td>sc</td>\n",
       "      <td>180913_081527 (1)</td>\n",
       "      <td>1.887805</td>\n",
       "    </tr>\n",
       "    <tr>\n",
       "      <th>9</th>\n",
       "      <td>10</td>\n",
       "      <td>74.972095</td>\n",
       "      <td>76.172329</td>\n",
       "      <td>sc</td>\n",
       "      <td>180913_081527 (1)</td>\n",
       "      <td>1.109764</td>\n",
       "    </tr>\n",
       "    <tr>\n",
       "      <th>11</th>\n",
       "      <td>12</td>\n",
       "      <td>77.059941</td>\n",
       "      <td>78.061142</td>\n",
       "      <td>sc</td>\n",
       "      <td>180913_081527 (1)</td>\n",
       "      <td>1.151983</td>\n",
       "    </tr>\n",
       "    <tr>\n",
       "      <th>13</th>\n",
       "      <td>14</td>\n",
       "      <td>80.034604</td>\n",
       "      <td>81.650999</td>\n",
       "      <td>sc</td>\n",
       "      <td>180913_081527 (1)</td>\n",
       "      <td>1.616395</td>\n",
       "    </tr>\n",
       "    <tr>\n",
       "      <th>14</th>\n",
       "      <td>15</td>\n",
       "      <td>82.201279</td>\n",
       "      <td>83.570390</td>\n",
       "      <td>sc</td>\n",
       "      <td>180913_081527 (1)</td>\n",
       "      <td>1.369111</td>\n",
       "    </tr>\n",
       "    <tr>\n",
       "      <th>15</th>\n",
       "      <td>16</td>\n",
       "      <td>84.318814</td>\n",
       "      <td>85.368265</td>\n",
       "      <td>sc</td>\n",
       "      <td>180913_081527 (1)</td>\n",
       "      <td>1.049451</td>\n",
       "    </tr>\n",
       "    <tr>\n",
       "      <th>16</th>\n",
       "      <td>19</td>\n",
       "      <td>85.788869</td>\n",
       "      <td>87.194168</td>\n",
       "      <td>sc</td>\n",
       "      <td>180913_081527 (1)</td>\n",
       "      <td>1.405299</td>\n",
       "    </tr>\n",
       "    <tr>\n",
       "      <th>17</th>\n",
       "      <td>20</td>\n",
       "      <td>87.866677</td>\n",
       "      <td>88.632655</td>\n",
       "      <td>sc</td>\n",
       "      <td>180913_081527 (1)</td>\n",
       "      <td>1.326230</td>\n",
       "    </tr>\n",
       "    <tr>\n",
       "      <th>19</th>\n",
       "      <td>193</td>\n",
       "      <td>89.236469</td>\n",
       "      <td>90.315513</td>\n",
       "      <td>bg</td>\n",
       "      <td>180913_081527 (1)</td>\n",
       "      <td>1.010643</td>\n",
       "    </tr>\n",
       "    <tr>\n",
       "      <th>21</th>\n",
       "      <td>25</td>\n",
       "      <td>90.665330</td>\n",
       "      <td>91.588123</td>\n",
       "      <td>sc</td>\n",
       "      <td>180913_081527 (1)</td>\n",
       "      <td>1.519894</td>\n",
       "    </tr>\n",
       "    <tr>\n",
       "      <th>24</th>\n",
       "      <td>27</td>\n",
       "      <td>95.512035</td>\n",
       "      <td>96.066917</td>\n",
       "      <td>sc</td>\n",
       "      <td>180913_081527 (1)</td>\n",
       "      <td>0.554882</td>\n",
       "    </tr>\n",
       "    <tr>\n",
       "      <th>25</th>\n",
       "      <td>29</td>\n",
       "      <td>96.097074</td>\n",
       "      <td>97.496341</td>\n",
       "      <td>sc</td>\n",
       "      <td>180913_081527 (1)</td>\n",
       "      <td>1.471644</td>\n",
       "    </tr>\n",
       "    <tr>\n",
       "      <th>27</th>\n",
       "      <td>183</td>\n",
       "      <td>97.641802</td>\n",
       "      <td>97.983904</td>\n",
       "      <td>bg</td>\n",
       "      <td>180913_081527 (1)</td>\n",
       "      <td>0.342101</td>\n",
       "    </tr>\n",
       "    <tr>\n",
       "      <th>28</th>\n",
       "      <td>30</td>\n",
       "      <td>100.138801</td>\n",
       "      <td>101.429505</td>\n",
       "      <td>sc</td>\n",
       "      <td>180913_081527 (1)</td>\n",
       "      <td>1.212297</td>\n",
       "    </tr>\n",
       "    <tr>\n",
       "      <th>30</th>\n",
       "      <td>32</td>\n",
       "      <td>103.048351</td>\n",
       "      <td>105.102033</td>\n",
       "      <td>sc</td>\n",
       "      <td>180913_081527 (1)</td>\n",
       "      <td>1.990338</td>\n",
       "    </tr>\n",
       "  </tbody>\n",
       "</table>\n",
       "</div>"
      ],
      "text/plain": [
       "    Selection  begin_time    end_time Annotation           filename  \\\n",
       "0           1   59.532117   60.937416         sc  180913_081527 (1)   \n",
       "2           3   62.137650   63.434385         sc  180913_081527 (1)   \n",
       "4         178   64.068321   65.576152         sc  180913_081527 (1)   \n",
       "5           5   66.978572   68.263244         sc  180913_081527 (1)   \n",
       "6           6   68.329589   69.511729         sc  180913_081527 (1)   \n",
       "7           7   71.271167   72.754873         sc  180913_081527 (1)   \n",
       "9          10   74.972095   76.172329         sc  180913_081527 (1)   \n",
       "11         12   77.059941   78.061142         sc  180913_081527 (1)   \n",
       "13         14   80.034604   81.650999         sc  180913_081527 (1)   \n",
       "14         15   82.201279   83.570390         sc  180913_081527 (1)   \n",
       "15         16   84.318814   85.368265         sc  180913_081527 (1)   \n",
       "16         19   85.788869   87.194168         sc  180913_081527 (1)   \n",
       "17         20   87.866677   88.632655         sc  180913_081527 (1)   \n",
       "19        193   89.236469   90.315513         bg  180913_081527 (1)   \n",
       "21         25   90.665330   91.588123         sc  180913_081527 (1)   \n",
       "24         27   95.512035   96.066917         sc  180913_081527 (1)   \n",
       "25         29   96.097074   97.496341         sc  180913_081527 (1)   \n",
       "27        183   97.641802   97.983904         bg  180913_081527 (1)   \n",
       "28         30  100.138801  101.429505         sc  180913_081527 (1)   \n",
       "30         32  103.048351  105.102033         sc  180913_081527 (1)   \n",
       "\n",
       "    call_length  \n",
       "0      1.115795  \n",
       "2      1.471644  \n",
       "4      1.507831  \n",
       "5      1.284672  \n",
       "6      1.182140  \n",
       "7      1.887805  \n",
       "9      1.109764  \n",
       "11     1.151983  \n",
       "13     1.616395  \n",
       "14     1.369111  \n",
       "15     1.049451  \n",
       "16     1.405299  \n",
       "17     1.326230  \n",
       "19     1.010643  \n",
       "21     1.519894  \n",
       "24     0.554882  \n",
       "25     1.471644  \n",
       "27     0.342101  \n",
       "28     1.212297  \n",
       "30     1.990338  "
      ]
     },
     "execution_count": 27,
     "metadata": {},
     "output_type": "execute_result"
    }
   ],
   "source": [
    "df_no_overlap.sort_values(['filename', 'begin_time']).head(20)"
   ]
  },
  {
   "cell_type": "markdown",
   "id": "c3188692",
   "metadata": {},
   "source": [
    "## mark gaps as background"
   ]
  },
  {
   "cell_type": "code",
   "execution_count": 28,
   "id": "048bee4c",
   "metadata": {},
   "outputs": [],
   "source": [
    "df_bg = df_no_overlap[['filename', 'begin_time', 'end_time', 'call_length']].sort_values(['filename', 'begin_time']).reset_index(drop=True).copy()\n"
   ]
  },
  {
   "cell_type": "code",
   "execution_count": 29,
   "id": "738a250e",
   "metadata": {},
   "outputs": [
    {
     "data": {
      "text/html": [
       "<div>\n",
       "<style scoped>\n",
       "    .dataframe tbody tr th:only-of-type {\n",
       "        vertical-align: middle;\n",
       "    }\n",
       "\n",
       "    .dataframe tbody tr th {\n",
       "        vertical-align: top;\n",
       "    }\n",
       "\n",
       "    .dataframe thead th {\n",
       "        text-align: right;\n",
       "    }\n",
       "</style>\n",
       "<table border=\"1\" class=\"dataframe\">\n",
       "  <thead>\n",
       "    <tr style=\"text-align: right;\">\n",
       "      <th></th>\n",
       "      <th>filename</th>\n",
       "      <th>begin_time</th>\n",
       "      <th>end_time</th>\n",
       "    </tr>\n",
       "  </thead>\n",
       "  <tbody>\n",
       "    <tr>\n",
       "      <th>0</th>\n",
       "      <td>180913_081527 (1)</td>\n",
       "      <td>59.532117</td>\n",
       "      <td>60.937416</td>\n",
       "    </tr>\n",
       "    <tr>\n",
       "      <th>1</th>\n",
       "      <td>180913_081527 (1)</td>\n",
       "      <td>62.137650</td>\n",
       "      <td>63.434385</td>\n",
       "    </tr>\n",
       "    <tr>\n",
       "      <th>2</th>\n",
       "      <td>180913_081527 (1)</td>\n",
       "      <td>64.068321</td>\n",
       "      <td>65.576152</td>\n",
       "    </tr>\n",
       "    <tr>\n",
       "      <th>3</th>\n",
       "      <td>180913_081527 (1)</td>\n",
       "      <td>66.978572</td>\n",
       "      <td>68.263244</td>\n",
       "    </tr>\n",
       "    <tr>\n",
       "      <th>4</th>\n",
       "      <td>180913_081527 (1)</td>\n",
       "      <td>68.329589</td>\n",
       "      <td>69.511729</td>\n",
       "    </tr>\n",
       "  </tbody>\n",
       "</table>\n",
       "</div>"
      ],
      "text/plain": [
       "            filename  begin_time   end_time\n",
       "0  180913_081527 (1)   59.532117  60.937416\n",
       "1  180913_081527 (1)   62.137650  63.434385\n",
       "2  180913_081527 (1)   64.068321  65.576152\n",
       "3  180913_081527 (1)   66.978572  68.263244\n",
       "4  180913_081527 (1)   68.329589  69.511729"
      ]
     },
     "execution_count": 29,
     "metadata": {},
     "output_type": "execute_result"
    }
   ],
   "source": [
    "df_bg.head()"
   ]
  },
  {
   "cell_type": "code",
   "execution_count": 30,
   "id": "869bc9e1",
   "metadata": {},
   "outputs": [],
   "source": [
    "df_bg['next_begin_time'] = df_bg.groupby('filename').begin_time.shift(-1)\n",
    "# df_bg['next_end_time'] = df_bg.groupby('filename').end_time.shift(-1)"
   ]
  },
  {
   "cell_type": "code",
   "execution_count": 31,
   "id": "a3749fcd",
   "metadata": {},
   "outputs": [],
   "source": [
    "\n",
    "df_bg = df_bg.rename({'end_time': 'bg_begin_time', 'next_begin_time': 'bg_end_time'}, axis=1)"
   ]
  },
  {
   "cell_type": "markdown",
   "id": "7213be0a",
   "metadata": {},
   "source": [
    "Manually look at shifts between different recordings to make sure there aren't mix-ups:"
   ]
  },
  {
   "cell_type": "code",
   "execution_count": 334,
   "id": "b0743847",
   "metadata": {},
   "outputs": [
    {
     "data": {
      "text/plain": [
       "array(['180913_081527 (1)', '210824-095226_Tr1.txt',\n",
       "       '210824-095226_Tr2.txt', '210824-100209_Tr1.txt',\n",
       "       '210824-100209_Tr2.txt', '210824-104507_Tr1',\n",
       "       '210824-104507_Tr1.txt', '210824-115331_Tr1.txt',\n",
       "       '210824-125439_Tr1.txt', '210825-102141_Tr1.txt',\n",
       "       '210825-112937_Tr1.txt', '210825-112937_Tr2.txt',\n",
       "       '210825-132034_Tr1', '210825-132034_Tr2', '210825-135601_Tr1',\n",
       "       '210825-135601_Tr1.Table.1.selections (1).txt',\n",
       "       '210825-135601_Tr1.txt', '210826-083608_Tr1', '210827-081513_Tr1',\n",
       "       '210827-081513_Tr2', '210827-090209_Tr1',\n",
       "       '210827-133618_Tr1.Table.1.selections.donetxt.txt',\n",
       "       '210827-133618_Tr2', '210828-080644_Tr1', '210903-095104_Tr1',\n",
       "       '210903-095104_Tr2', '210903-110841_Tr1', '210903-110841_Tr2',\n",
       "       '210904-074321_Tr1', '210904-111316_Tr2(first 4 minutes)(1).txt',\n",
       "       '210904-111316_Tr2(first 4 minutes).txt', '210904-111316_Tr2.txt',\n",
       "       '25-115438_Tr2'], dtype=object)"
      ]
     },
     "execution_count": 334,
     "metadata": {},
     "output_type": "execute_result"
    },
    {
     "data": {
      "text/plain": [
       "210824-115331_Tr1.txt                               736\n",
       "210904-074321_Tr1                                   687\n",
       "210824-104507_Tr1.txt                               648\n",
       "210826-083608_Tr1                                   616\n",
       "210824-125439_Tr1.txt                               596\n",
       "210827-081513_Tr2                                   589\n",
       "210828-080644_Tr1                                   538\n",
       "210825-135601_Tr1.txt                               513\n",
       "210825-135601_Tr1                                   479\n",
       "210825-135601_Tr1.Table.1.selections (1).txt        479\n",
       "210827-081513_Tr1                                   466\n",
       "210825-102141_Tr1.txt                               444\n",
       "210827-090209_Tr1                                   408\n",
       "210904-111316_Tr2(first 4 minutes)(1).txt           380\n",
       "210904-111316_Tr2(first 4 minutes).txt              380\n",
       "210904-111316_Tr2.txt                               336\n",
       "210825-132034_Tr2                                   310\n",
       "210825-132034_Tr1                                   275\n",
       "210903-110841_Tr2                                   269\n",
       "210824-104507_Tr1                                   241\n",
       "210903-110841_Tr1                                   240\n",
       "210825-112937_Tr2.txt                               220\n",
       "210825-112937_Tr1.txt                               215\n",
       "25-115438_Tr2                                       192\n",
       "210827-133618_Tr1.Table.1.selections.donetxt.txt    181\n",
       "210824-100209_Tr1.txt                               161\n",
       "180913_081527 (1)                                   119\n",
       "210824-095226_Tr1.txt                               106\n",
       "210824-095226_Tr2.txt                                82\n",
       "210824-100209_Tr2.txt                                76\n",
       "210827-133618_Tr2                                    64\n",
       "210903-095104_Tr1                                    32\n",
       "210903-095104_Tr2                                    21\n",
       "Name: filename, dtype: int64"
      ]
     },
     "execution_count": 334,
     "metadata": {},
     "output_type": "execute_result"
    }
   ],
   "source": [
    "df_bg.filename.unique()\n",
    "df_bg.filename.value_counts()"
   ]
  },
  {
   "cell_type": "code",
   "execution_count": 32,
   "id": "8bbb79d7",
   "metadata": {},
   "outputs": [
    {
     "data": {
      "text/html": [
       "<div>\n",
       "<style scoped>\n",
       "    .dataframe tbody tr th:only-of-type {\n",
       "        vertical-align: middle;\n",
       "    }\n",
       "\n",
       "    .dataframe tbody tr th {\n",
       "        vertical-align: top;\n",
       "    }\n",
       "\n",
       "    .dataframe thead th {\n",
       "        text-align: right;\n",
       "    }\n",
       "</style>\n",
       "<table border=\"1\" class=\"dataframe\">\n",
       "  <thead>\n",
       "    <tr style=\"text-align: right;\">\n",
       "      <th></th>\n",
       "      <th>filename</th>\n",
       "      <th>begin_time</th>\n",
       "      <th>bg_begin_time</th>\n",
       "      <th>bg_end_time</th>\n",
       "    </tr>\n",
       "  </thead>\n",
       "  <tbody>\n",
       "    <tr>\n",
       "      <th>110</th>\n",
       "      <td>180913_081527 (1)</td>\n",
       "      <td>278.692123</td>\n",
       "      <td>280.705105</td>\n",
       "      <td>281.261778</td>\n",
       "    </tr>\n",
       "    <tr>\n",
       "      <th>111</th>\n",
       "      <td>180913_081527 (1)</td>\n",
       "      <td>281.261778</td>\n",
       "      <td>282.387683</td>\n",
       "      <td>283.243070</td>\n",
       "    </tr>\n",
       "    <tr>\n",
       "      <th>112</th>\n",
       "      <td>180913_081527 (1)</td>\n",
       "      <td>283.243070</td>\n",
       "      <td>284.550733</td>\n",
       "      <td>286.397010</td>\n",
       "    </tr>\n",
       "    <tr>\n",
       "      <th>113</th>\n",
       "      <td>180913_081527 (1)</td>\n",
       "      <td>286.397010</td>\n",
       "      <td>287.420560</td>\n",
       "      <td>288.495288</td>\n",
       "    </tr>\n",
       "    <tr>\n",
       "      <th>114</th>\n",
       "      <td>180913_081527 (1)</td>\n",
       "      <td>288.495288</td>\n",
       "      <td>289.297068</td>\n",
       "      <td>289.842962</td>\n",
       "    </tr>\n",
       "    <tr>\n",
       "      <th>115</th>\n",
       "      <td>180913_081527 (1)</td>\n",
       "      <td>289.842962</td>\n",
       "      <td>290.542387</td>\n",
       "      <td>292.067182</td>\n",
       "    </tr>\n",
       "    <tr>\n",
       "      <th>116</th>\n",
       "      <td>180913_081527 (1)</td>\n",
       "      <td>292.067182</td>\n",
       "      <td>292.800726</td>\n",
       "      <td>296.314915</td>\n",
       "    </tr>\n",
       "    <tr>\n",
       "      <th>117</th>\n",
       "      <td>180913_081527 (1)</td>\n",
       "      <td>296.314915</td>\n",
       "      <td>298.208482</td>\n",
       "      <td>300.762484</td>\n",
       "    </tr>\n",
       "    <tr>\n",
       "      <th>118</th>\n",
       "      <td>180913_081527 (1)</td>\n",
       "      <td>300.762484</td>\n",
       "      <td>301.683679</td>\n",
       "      <td>NaN</td>\n",
       "    </tr>\n",
       "    <tr>\n",
       "      <th>119</th>\n",
       "      <td>210824-095226_Tr1.txt</td>\n",
       "      <td>18.700366</td>\n",
       "      <td>19.764583</td>\n",
       "      <td>20.169273</td>\n",
       "    </tr>\n",
       "    <tr>\n",
       "      <th>120</th>\n",
       "      <td>210824-095226_Tr1.txt</td>\n",
       "      <td>20.169273</td>\n",
       "      <td>20.650971</td>\n",
       "      <td>29.632165</td>\n",
       "    </tr>\n",
       "    <tr>\n",
       "      <th>121</th>\n",
       "      <td>210824-095226_Tr1.txt</td>\n",
       "      <td>29.632165</td>\n",
       "      <td>30.752394</td>\n",
       "      <td>40.781279</td>\n",
       "    </tr>\n",
       "    <tr>\n",
       "      <th>122</th>\n",
       "      <td>210824-095226_Tr1.txt</td>\n",
       "      <td>40.781279</td>\n",
       "      <td>41.599046</td>\n",
       "      <td>44.016323</td>\n",
       "    </tr>\n",
       "    <tr>\n",
       "      <th>123</th>\n",
       "      <td>210824-095226_Tr1.txt</td>\n",
       "      <td>44.016323</td>\n",
       "      <td>44.733270</td>\n",
       "      <td>46.717892</td>\n",
       "    </tr>\n",
       "    <tr>\n",
       "      <th>124</th>\n",
       "      <td>210824-095226_Tr1.txt</td>\n",
       "      <td>46.717892</td>\n",
       "      <td>47.289209</td>\n",
       "      <td>51.365629</td>\n",
       "    </tr>\n",
       "    <tr>\n",
       "      <th>125</th>\n",
       "      <td>210824-095226_Tr1.txt</td>\n",
       "      <td>51.365629</td>\n",
       "      <td>52.351431</td>\n",
       "      <td>52.597881</td>\n",
       "    </tr>\n",
       "    <tr>\n",
       "      <th>126</th>\n",
       "      <td>210824-095226_Tr1.txt</td>\n",
       "      <td>52.597881</td>\n",
       "      <td>52.978759</td>\n",
       "      <td>53.404446</td>\n",
       "    </tr>\n",
       "    <tr>\n",
       "      <th>127</th>\n",
       "      <td>210824-095226_Tr1.txt</td>\n",
       "      <td>53.404446</td>\n",
       "      <td>53.729312</td>\n",
       "      <td>54.087786</td>\n",
       "    </tr>\n",
       "    <tr>\n",
       "      <th>128</th>\n",
       "      <td>210824-095226_Tr1.txt</td>\n",
       "      <td>54.087786</td>\n",
       "      <td>54.681507</td>\n",
       "      <td>60.576456</td>\n",
       "    </tr>\n",
       "    <tr>\n",
       "      <th>129</th>\n",
       "      <td>210824-095226_Tr1.txt</td>\n",
       "      <td>60.576456</td>\n",
       "      <td>61.203785</td>\n",
       "      <td>61.909529</td>\n",
       "    </tr>\n",
       "    <tr>\n",
       "      <th>130</th>\n",
       "      <td>210824-095226_Tr1.txt</td>\n",
       "      <td>61.909529</td>\n",
       "      <td>62.223193</td>\n",
       "      <td>62.682487</td>\n",
       "    </tr>\n",
       "  </tbody>\n",
       "</table>\n",
       "</div>"
      ],
      "text/plain": [
       "                  filename  begin_time  bg_begin_time  bg_end_time\n",
       "110      180913_081527 (1)  278.692123     280.705105   281.261778\n",
       "111      180913_081527 (1)  281.261778     282.387683   283.243070\n",
       "112      180913_081527 (1)  283.243070     284.550733   286.397010\n",
       "113      180913_081527 (1)  286.397010     287.420560   288.495288\n",
       "114      180913_081527 (1)  288.495288     289.297068   289.842962\n",
       "115      180913_081527 (1)  289.842962     290.542387   292.067182\n",
       "116      180913_081527 (1)  292.067182     292.800726   296.314915\n",
       "117      180913_081527 (1)  296.314915     298.208482   300.762484\n",
       "118      180913_081527 (1)  300.762484     301.683679          NaN\n",
       "119  210824-095226_Tr1.txt   18.700366      19.764583    20.169273\n",
       "120  210824-095226_Tr1.txt   20.169273      20.650971    29.632165\n",
       "121  210824-095226_Tr1.txt   29.632165      30.752394    40.781279\n",
       "122  210824-095226_Tr1.txt   40.781279      41.599046    44.016323\n",
       "123  210824-095226_Tr1.txt   44.016323      44.733270    46.717892\n",
       "124  210824-095226_Tr1.txt   46.717892      47.289209    51.365629\n",
       "125  210824-095226_Tr1.txt   51.365629      52.351431    52.597881\n",
       "126  210824-095226_Tr1.txt   52.597881      52.978759    53.404446\n",
       "127  210824-095226_Tr1.txt   53.404446      53.729312    54.087786\n",
       "128  210824-095226_Tr1.txt   54.087786      54.681507    60.576456\n",
       "129  210824-095226_Tr1.txt   60.576456      61.203785    61.909529\n",
       "130  210824-095226_Tr1.txt   61.909529      62.223193    62.682487"
      ]
     },
     "execution_count": 32,
     "metadata": {},
     "output_type": "execute_result"
    }
   ],
   "source": [
    "df_bg.loc[110:130]"
   ]
  },
  {
   "cell_type": "code",
   "execution_count": 33,
   "id": "fd7c20df",
   "metadata": {},
   "outputs": [
    {
     "data": {
      "text/html": [
       "<div>\n",
       "<style scoped>\n",
       "    .dataframe tbody tr th:only-of-type {\n",
       "        vertical-align: middle;\n",
       "    }\n",
       "\n",
       "    .dataframe tbody tr th {\n",
       "        vertical-align: top;\n",
       "    }\n",
       "\n",
       "    .dataframe thead th {\n",
       "        text-align: right;\n",
       "    }\n",
       "</style>\n",
       "<table border=\"1\" class=\"dataframe\">\n",
       "  <thead>\n",
       "    <tr style=\"text-align: right;\">\n",
       "      <th></th>\n",
       "      <th>filename</th>\n",
       "      <th>begin_time</th>\n",
       "      <th>bg_begin_time</th>\n",
       "      <th>bg_end_time</th>\n",
       "    </tr>\n",
       "  </thead>\n",
       "  <tbody>\n",
       "    <tr>\n",
       "      <th>11094</th>\n",
       "      <td>25-115438_Tr2</td>\n",
       "      <td>579.313619</td>\n",
       "      <td>580.553433</td>\n",
       "      <td>580.662828</td>\n",
       "    </tr>\n",
       "    <tr>\n",
       "      <th>11095</th>\n",
       "      <td>25-115438_Tr2</td>\n",
       "      <td>580.662828</td>\n",
       "      <td>581.683851</td>\n",
       "      <td>581.838828</td>\n",
       "    </tr>\n",
       "    <tr>\n",
       "      <th>11096</th>\n",
       "      <td>25-115438_Tr2</td>\n",
       "      <td>581.838828</td>\n",
       "      <td>582.759572</td>\n",
       "      <td>583.115107</td>\n",
       "    </tr>\n",
       "    <tr>\n",
       "      <th>11097</th>\n",
       "      <td>25-115438_Tr2</td>\n",
       "      <td>583.115107</td>\n",
       "      <td>584.281991</td>\n",
       "      <td>584.327572</td>\n",
       "    </tr>\n",
       "    <tr>\n",
       "      <th>11098</th>\n",
       "      <td>25-115438_Tr2</td>\n",
       "      <td>584.327572</td>\n",
       "      <td>585.175386</td>\n",
       "      <td>NaN</td>\n",
       "    </tr>\n",
       "  </tbody>\n",
       "</table>\n",
       "</div>"
      ],
      "text/plain": [
       "            filename  begin_time  bg_begin_time  bg_end_time\n",
       "11094  25-115438_Tr2  579.313619     580.553433   580.662828\n",
       "11095  25-115438_Tr2  580.662828     581.683851   581.838828\n",
       "11096  25-115438_Tr2  581.838828     582.759572   583.115107\n",
       "11097  25-115438_Tr2  583.115107     584.281991   584.327572\n",
       "11098  25-115438_Tr2  584.327572     585.175386          NaN"
      ]
     },
     "execution_count": 33,
     "metadata": {},
     "output_type": "execute_result"
    }
   ],
   "source": [
    "df_bg.tail()"
   ]
  },
  {
   "cell_type": "code",
   "execution_count": 34,
   "id": "6697660e",
   "metadata": {},
   "outputs": [
    {
     "data": {
      "text/plain": [
       "10907"
      ]
     },
     "execution_count": 34,
     "metadata": {},
     "output_type": "execute_result"
    }
   ],
   "source": [
    "df_bg[df_bg.filename=='25-115438_Tr2'].index.min()"
   ]
  },
  {
   "cell_type": "code",
   "execution_count": 35,
   "id": "af71dcc9",
   "metadata": {},
   "outputs": [
    {
     "data": {
      "text/html": [
       "<div>\n",
       "<style scoped>\n",
       "    .dataframe tbody tr th:only-of-type {\n",
       "        vertical-align: middle;\n",
       "    }\n",
       "\n",
       "    .dataframe tbody tr th {\n",
       "        vertical-align: top;\n",
       "    }\n",
       "\n",
       "    .dataframe thead th {\n",
       "        text-align: right;\n",
       "    }\n",
       "</style>\n",
       "<table border=\"1\" class=\"dataframe\">\n",
       "  <thead>\n",
       "    <tr style=\"text-align: right;\">\n",
       "      <th></th>\n",
       "      <th>filename</th>\n",
       "      <th>begin_time</th>\n",
       "      <th>bg_begin_time</th>\n",
       "      <th>bg_end_time</th>\n",
       "    </tr>\n",
       "  </thead>\n",
       "  <tbody>\n",
       "    <tr>\n",
       "      <th>10900</th>\n",
       "      <td>210904-111316_Tr2.txt</td>\n",
       "      <td>1112.462071</td>\n",
       "      <td>1113.903744</td>\n",
       "      <td>1113.952892</td>\n",
       "    </tr>\n",
       "    <tr>\n",
       "      <th>10901</th>\n",
       "      <td>210904-111316_Tr2.txt</td>\n",
       "      <td>1113.952892</td>\n",
       "      <td>1114.804789</td>\n",
       "      <td>1115.282497</td>\n",
       "    </tr>\n",
       "    <tr>\n",
       "      <th>10902</th>\n",
       "      <td>210904-111316_Tr2.txt</td>\n",
       "      <td>1115.282497</td>\n",
       "      <td>1115.683872</td>\n",
       "      <td>1116.437244</td>\n",
       "    </tr>\n",
       "    <tr>\n",
       "      <th>10903</th>\n",
       "      <td>210904-111316_Tr2.txt</td>\n",
       "      <td>1116.437244</td>\n",
       "      <td>1116.928723</td>\n",
       "      <td>1117.207228</td>\n",
       "    </tr>\n",
       "    <tr>\n",
       "      <th>10904</th>\n",
       "      <td>210904-111316_Tr2.txt</td>\n",
       "      <td>1117.207228</td>\n",
       "      <td>1118.345822</td>\n",
       "      <td>1118.909808</td>\n",
       "    </tr>\n",
       "    <tr>\n",
       "      <th>10905</th>\n",
       "      <td>210904-111316_Tr2.txt</td>\n",
       "      <td>1118.909808</td>\n",
       "      <td>1120.023828</td>\n",
       "      <td>1120.341310</td>\n",
       "    </tr>\n",
       "    <tr>\n",
       "      <th>10906</th>\n",
       "      <td>210904-111316_Tr2.txt</td>\n",
       "      <td>1120.341310</td>\n",
       "      <td>1120.800024</td>\n",
       "      <td>NaN</td>\n",
       "    </tr>\n",
       "    <tr>\n",
       "      <th>10907</th>\n",
       "      <td>25-115438_Tr2</td>\n",
       "      <td>14.210034</td>\n",
       "      <td>14.976796</td>\n",
       "      <td>17.372924</td>\n",
       "    </tr>\n",
       "    <tr>\n",
       "      <th>10908</th>\n",
       "      <td>25-115438_Tr2</td>\n",
       "      <td>17.372924</td>\n",
       "      <td>18.377055</td>\n",
       "      <td>21.126465</td>\n",
       "    </tr>\n",
       "    <tr>\n",
       "      <th>10909</th>\n",
       "      <td>25-115438_Tr2</td>\n",
       "      <td>21.126465</td>\n",
       "      <td>21.519430</td>\n",
       "      <td>23.514355</td>\n",
       "    </tr>\n",
       "    <tr>\n",
       "      <th>10910</th>\n",
       "      <td>25-115438_Tr2</td>\n",
       "      <td>23.514355</td>\n",
       "      <td>24.376962</td>\n",
       "      <td>27.410318</td>\n",
       "    </tr>\n",
       "    <tr>\n",
       "      <th>10911</th>\n",
       "      <td>25-115438_Tr2</td>\n",
       "      <td>27.410318</td>\n",
       "      <td>28.004558</td>\n",
       "      <td>33.253732</td>\n",
       "    </tr>\n",
       "    <tr>\n",
       "      <th>10912</th>\n",
       "      <td>25-115438_Tr2</td>\n",
       "      <td>33.253732</td>\n",
       "      <td>33.809634</td>\n",
       "      <td>37.063434</td>\n",
       "    </tr>\n",
       "    <tr>\n",
       "      <th>10913</th>\n",
       "      <td>25-115438_Tr2</td>\n",
       "      <td>37.063434</td>\n",
       "      <td>37.274293</td>\n",
       "      <td>42.320398</td>\n",
       "    </tr>\n",
       "    <tr>\n",
       "      <th>10914</th>\n",
       "      <td>25-115438_Tr2</td>\n",
       "      <td>42.320398</td>\n",
       "      <td>42.972145</td>\n",
       "      <td>46.353684</td>\n",
       "    </tr>\n",
       "    <tr>\n",
       "      <th>10915</th>\n",
       "      <td>25-115438_Tr2</td>\n",
       "      <td>46.353684</td>\n",
       "      <td>46.871248</td>\n",
       "      <td>51.716975</td>\n",
       "    </tr>\n",
       "    <tr>\n",
       "      <th>10916</th>\n",
       "      <td>25-115438_Tr2</td>\n",
       "      <td>51.716975</td>\n",
       "      <td>52.761687</td>\n",
       "      <td>68.136759</td>\n",
       "    </tr>\n",
       "    <tr>\n",
       "      <th>10917</th>\n",
       "      <td>25-115438_Tr2</td>\n",
       "      <td>68.136759</td>\n",
       "      <td>68.865182</td>\n",
       "      <td>74.830503</td>\n",
       "    </tr>\n",
       "  </tbody>\n",
       "</table>\n",
       "</div>"
      ],
      "text/plain": [
       "                    filename   begin_time  bg_begin_time  bg_end_time\n",
       "10900  210904-111316_Tr2.txt  1112.462071    1113.903744  1113.952892\n",
       "10901  210904-111316_Tr2.txt  1113.952892    1114.804789  1115.282497\n",
       "10902  210904-111316_Tr2.txt  1115.282497    1115.683872  1116.437244\n",
       "10903  210904-111316_Tr2.txt  1116.437244    1116.928723  1117.207228\n",
       "10904  210904-111316_Tr2.txt  1117.207228    1118.345822  1118.909808\n",
       "10905  210904-111316_Tr2.txt  1118.909808    1120.023828  1120.341310\n",
       "10906  210904-111316_Tr2.txt  1120.341310    1120.800024          NaN\n",
       "10907          25-115438_Tr2    14.210034      14.976796    17.372924\n",
       "10908          25-115438_Tr2    17.372924      18.377055    21.126465\n",
       "10909          25-115438_Tr2    21.126465      21.519430    23.514355\n",
       "10910          25-115438_Tr2    23.514355      24.376962    27.410318\n",
       "10911          25-115438_Tr2    27.410318      28.004558    33.253732\n",
       "10912          25-115438_Tr2    33.253732      33.809634    37.063434\n",
       "10913          25-115438_Tr2    37.063434      37.274293    42.320398\n",
       "10914          25-115438_Tr2    42.320398      42.972145    46.353684\n",
       "10915          25-115438_Tr2    46.353684      46.871248    51.716975\n",
       "10916          25-115438_Tr2    51.716975      52.761687    68.136759\n",
       "10917          25-115438_Tr2    68.136759      68.865182    74.830503"
      ]
     },
     "execution_count": 35,
     "metadata": {},
     "output_type": "execute_result"
    }
   ],
   "source": [
    "df_bg.loc[10900:10917]"
   ]
  },
  {
   "cell_type": "markdown",
   "id": "ac993915",
   "metadata": {},
   "source": [
    "## Finalize bg annotation df"
   ]
  },
  {
   "cell_type": "code",
   "execution_count": 36,
   "id": "5ea3eadc",
   "metadata": {},
   "outputs": [
    {
     "data": {
      "text/plain": [
       "33"
      ]
     },
     "execution_count": 36,
     "metadata": {},
     "output_type": "execute_result"
    }
   ],
   "source": [
    "df_bg.filename.nunique()"
   ]
  },
  {
   "cell_type": "code",
   "execution_count": 37,
   "id": "f430da5a",
   "metadata": {},
   "outputs": [
    {
     "data": {
      "text/plain": [
       "(11099, 4)"
      ]
     },
     "execution_count": 37,
     "metadata": {},
     "output_type": "execute_result"
    },
    {
     "data": {
      "text/plain": [
       "(11066, 4)"
      ]
     },
     "execution_count": 37,
     "metadata": {},
     "output_type": "execute_result"
    }
   ],
   "source": [
    "df_bg.shape\n",
    "df_bg = df_bg[~df_bg.bg_end_time.isna()]\n",
    "df_bg.shape"
   ]
  },
  {
   "cell_type": "code",
   "execution_count": 38,
   "id": "a2daa852",
   "metadata": {},
   "outputs": [],
   "source": [
    "df_bg = df_bg.drop('begin_time', axis=1)"
   ]
  },
  {
   "cell_type": "code",
   "execution_count": 39,
   "id": "08cb1f67",
   "metadata": {},
   "outputs": [],
   "source": [
    "df_bg['Annotation'] = 'bg'"
   ]
  },
  {
   "cell_type": "code",
   "execution_count": 43,
   "id": "4ae51651",
   "metadata": {},
   "outputs": [
    {
     "data": {
      "text/html": [
       "<div>\n",
       "<style scoped>\n",
       "    .dataframe tbody tr th:only-of-type {\n",
       "        vertical-align: middle;\n",
       "    }\n",
       "\n",
       "    .dataframe tbody tr th {\n",
       "        vertical-align: top;\n",
       "    }\n",
       "\n",
       "    .dataframe thead th {\n",
       "        text-align: right;\n",
       "    }\n",
       "</style>\n",
       "<table border=\"1\" class=\"dataframe\">\n",
       "  <thead>\n",
       "    <tr style=\"text-align: right;\">\n",
       "      <th></th>\n",
       "      <th>filename</th>\n",
       "      <th>bg_begin_time</th>\n",
       "      <th>bg_end_time</th>\n",
       "      <th>Annotation</th>\n",
       "    </tr>\n",
       "  </thead>\n",
       "  <tbody>\n",
       "    <tr>\n",
       "      <th>0</th>\n",
       "      <td>180913_081527 (1)</td>\n",
       "      <td>60.937416</td>\n",
       "      <td>62.137650</td>\n",
       "      <td>bg</td>\n",
       "    </tr>\n",
       "    <tr>\n",
       "      <th>1</th>\n",
       "      <td>180913_081527 (1)</td>\n",
       "      <td>63.434385</td>\n",
       "      <td>64.068321</td>\n",
       "      <td>bg</td>\n",
       "    </tr>\n",
       "    <tr>\n",
       "      <th>2</th>\n",
       "      <td>180913_081527 (1)</td>\n",
       "      <td>65.576152</td>\n",
       "      <td>66.978572</td>\n",
       "      <td>bg</td>\n",
       "    </tr>\n",
       "    <tr>\n",
       "      <th>3</th>\n",
       "      <td>180913_081527 (1)</td>\n",
       "      <td>68.263244</td>\n",
       "      <td>68.329589</td>\n",
       "      <td>bg</td>\n",
       "    </tr>\n",
       "    <tr>\n",
       "      <th>4</th>\n",
       "      <td>180913_081527 (1)</td>\n",
       "      <td>69.511729</td>\n",
       "      <td>71.271167</td>\n",
       "      <td>bg</td>\n",
       "    </tr>\n",
       "    <tr>\n",
       "      <th>...</th>\n",
       "      <td>...</td>\n",
       "      <td>...</td>\n",
       "      <td>...</td>\n",
       "      <td>...</td>\n",
       "    </tr>\n",
       "    <tr>\n",
       "      <th>11093</th>\n",
       "      <td>25-115438_Tr2</td>\n",
       "      <td>577.526285</td>\n",
       "      <td>579.313619</td>\n",
       "      <td>bg</td>\n",
       "    </tr>\n",
       "    <tr>\n",
       "      <th>11094</th>\n",
       "      <td>25-115438_Tr2</td>\n",
       "      <td>580.553433</td>\n",
       "      <td>580.662828</td>\n",
       "      <td>bg</td>\n",
       "    </tr>\n",
       "    <tr>\n",
       "      <th>11095</th>\n",
       "      <td>25-115438_Tr2</td>\n",
       "      <td>581.683851</td>\n",
       "      <td>581.838828</td>\n",
       "      <td>bg</td>\n",
       "    </tr>\n",
       "    <tr>\n",
       "      <th>11096</th>\n",
       "      <td>25-115438_Tr2</td>\n",
       "      <td>582.759572</td>\n",
       "      <td>583.115107</td>\n",
       "      <td>bg</td>\n",
       "    </tr>\n",
       "    <tr>\n",
       "      <th>11097</th>\n",
       "      <td>25-115438_Tr2</td>\n",
       "      <td>584.281991</td>\n",
       "      <td>584.327572</td>\n",
       "      <td>bg</td>\n",
       "    </tr>\n",
       "  </tbody>\n",
       "</table>\n",
       "<p>11066 rows × 4 columns</p>\n",
       "</div>"
      ],
      "text/plain": [
       "                filename  bg_begin_time  bg_end_time Annotation\n",
       "0      180913_081527 (1)      60.937416    62.137650         bg\n",
       "1      180913_081527 (1)      63.434385    64.068321         bg\n",
       "2      180913_081527 (1)      65.576152    66.978572         bg\n",
       "3      180913_081527 (1)      68.263244    68.329589         bg\n",
       "4      180913_081527 (1)      69.511729    71.271167         bg\n",
       "...                  ...            ...          ...        ...\n",
       "11093      25-115438_Tr2     577.526285   579.313619         bg\n",
       "11094      25-115438_Tr2     580.553433   580.662828         bg\n",
       "11095      25-115438_Tr2     581.683851   581.838828         bg\n",
       "11096      25-115438_Tr2     582.759572   583.115107         bg\n",
       "11097      25-115438_Tr2     584.281991   584.327572         bg\n",
       "\n",
       "[11066 rows x 4 columns]"
      ]
     },
     "execution_count": 43,
     "metadata": {},
     "output_type": "execute_result"
    }
   ],
   "source": [
    "df_bg"
   ]
  },
  {
   "cell_type": "code",
   "execution_count": 49,
   "id": "6359ebaa",
   "metadata": {},
   "outputs": [],
   "source": [
    "df_bg = df_bg.rename({'bg_begin_time': 'begin_time', 'bg_end_time': 'end_time'}, axis=1)"
   ]
  },
  {
   "cell_type": "code",
   "execution_count": 52,
   "id": "2985b92b",
   "metadata": {},
   "outputs": [],
   "source": [
    "df_concat = pd.concat([df_bg, df_no_overlap[['begin_time', 'end_time', 'filename', 'call_length', 'Annotation']]])"
   ]
  },
  {
   "cell_type": "code",
   "execution_count": 53,
   "id": "323a4bfc",
   "metadata": {},
   "outputs": [],
   "source": [
    "df_concat = df_concat.rename({'Annotation': 'label'}, axis=1)"
   ]
  },
  {
   "cell_type": "code",
   "execution_count": 54,
   "id": "db9401b7",
   "metadata": {},
   "outputs": [
    {
     "data": {
      "text/html": [
       "<div>\n",
       "<style scoped>\n",
       "    .dataframe tbody tr th:only-of-type {\n",
       "        vertical-align: middle;\n",
       "    }\n",
       "\n",
       "    .dataframe tbody tr th {\n",
       "        vertical-align: top;\n",
       "    }\n",
       "\n",
       "    .dataframe thead th {\n",
       "        text-align: right;\n",
       "    }\n",
       "</style>\n",
       "<table border=\"1\" class=\"dataframe\">\n",
       "  <thead>\n",
       "    <tr style=\"text-align: right;\">\n",
       "      <th></th>\n",
       "      <th>filename</th>\n",
       "      <th>begin_time</th>\n",
       "      <th>end_time</th>\n",
       "      <th>label</th>\n",
       "      <th>call_length</th>\n",
       "    </tr>\n",
       "  </thead>\n",
       "  <tbody>\n",
       "    <tr>\n",
       "      <th>0</th>\n",
       "      <td>180913_081527 (1)</td>\n",
       "      <td>60.937416</td>\n",
       "      <td>62.137650</td>\n",
       "      <td>bg</td>\n",
       "      <td>NaN</td>\n",
       "    </tr>\n",
       "    <tr>\n",
       "      <th>1</th>\n",
       "      <td>180913_081527 (1)</td>\n",
       "      <td>63.434385</td>\n",
       "      <td>64.068321</td>\n",
       "      <td>bg</td>\n",
       "      <td>NaN</td>\n",
       "    </tr>\n",
       "    <tr>\n",
       "      <th>2</th>\n",
       "      <td>180913_081527 (1)</td>\n",
       "      <td>65.576152</td>\n",
       "      <td>66.978572</td>\n",
       "      <td>bg</td>\n",
       "      <td>NaN</td>\n",
       "    </tr>\n",
       "    <tr>\n",
       "      <th>3</th>\n",
       "      <td>180913_081527 (1)</td>\n",
       "      <td>68.263244</td>\n",
       "      <td>68.329589</td>\n",
       "      <td>bg</td>\n",
       "      <td>NaN</td>\n",
       "    </tr>\n",
       "    <tr>\n",
       "      <th>4</th>\n",
       "      <td>180913_081527 (1)</td>\n",
       "      <td>69.511729</td>\n",
       "      <td>71.271167</td>\n",
       "      <td>bg</td>\n",
       "      <td>NaN</td>\n",
       "    </tr>\n",
       "  </tbody>\n",
       "</table>\n",
       "</div>"
      ],
      "text/plain": [
       "            filename  begin_time   end_time label  call_length\n",
       "0  180913_081527 (1)   60.937416  62.137650    bg          NaN\n",
       "1  180913_081527 (1)   63.434385  64.068321    bg          NaN\n",
       "2  180913_081527 (1)   65.576152  66.978572    bg          NaN\n",
       "3  180913_081527 (1)   68.263244  68.329589    bg          NaN\n",
       "4  180913_081527 (1)   69.511729  71.271167    bg          NaN"
      ]
     },
     "execution_count": 54,
     "metadata": {},
     "output_type": "execute_result"
    }
   ],
   "source": [
    "df_concat.head()"
   ]
  },
  {
   "cell_type": "code",
   "execution_count": 56,
   "id": "dd874deb",
   "metadata": {},
   "outputs": [],
   "source": [
    "df_concat['call_length'] = df_concat['end_time'] - df_concat['begin_time']"
   ]
  },
  {
   "cell_type": "code",
   "execution_count": 60,
   "id": "81b8f64e",
   "metadata": {},
   "outputs": [
    {
     "data": {
      "text/plain": [
       "bg    21340\n",
       "sc      825\n",
       "Name: label, dtype: int64"
      ]
     },
     "execution_count": 60,
     "metadata": {},
     "output_type": "execute_result"
    }
   ],
   "source": [
    "df_concat.label.value_counts()"
   ]
  },
  {
   "cell_type": "code",
   "execution_count": 62,
   "id": "bdace95a",
   "metadata": {},
   "outputs": [],
   "source": [
    "df_concat.to_csv('../datasets/mozambique_2021/2021_data_prepped_with_bg.csv', index = False)"
   ]
  },
  {
   "cell_type": "code",
   "execution_count": 1,
   "id": "99dd1be9",
   "metadata": {},
   "outputs": [],
   "source": [
    "def check_if_file_exists(self, annotation_file_path, extension):\n",
    "    annotation_file_path.with_suffix(extension).exists()"
   ]
  },
  {
   "cell_type": "code",
   "execution_count": 2,
   "id": "f7c14e8c",
   "metadata": {},
   "outputs": [
    {
     "data": {
      "text/plain": [
       "'/home/rafael/DeepVoice/soundbay/notebooks'"
      ]
     },
     "execution_count": 2,
     "metadata": {},
     "output_type": "execute_result"
    }
   ],
   "source": [
    "pwd"
   ]
  },
  {
   "cell_type": "code",
   "execution_count": 1,
   "id": "215e560c",
   "metadata": {},
   "outputs": [],
   "source": [
    "path1 = '../tests/assets/mozambique2021/recordings'\n",
    "path2 = '../datasets/2021_annotations'"
   ]
  },
  {
   "cell_type": "code",
   "execution_count": 2,
   "id": "1a51a831",
   "metadata": {},
   "outputs": [],
   "source": [
    "import os"
   ]
  },
  {
   "cell_type": "code",
   "execution_count": 3,
   "id": "1d2ac119",
   "metadata": {},
   "outputs": [
    {
     "data": {
      "text/plain": [
       "'../tests/assets/mozambique2021/recordings'"
      ]
     },
     "execution_count": 3,
     "metadata": {},
     "output_type": "execute_result"
    }
   ],
   "source": [
    "path1"
   ]
  },
  {
   "cell_type": "code",
   "execution_count": 4,
   "id": "f3e61c09",
   "metadata": {},
   "outputs": [
    {
     "name": "stdout",
     "output_type": "stream",
     "text": [
      "210903-121021_Tr2.wav\n",
      "210825-135601_Tr1.wav\n",
      "210831-132135_Tr1.wav\n",
      "210824-125439_Tr2.wav\n",
      "210827-124552_Tr2.wav\n",
      "210825-132034_Tr1.wav\n",
      "210824-100209_Tr2.wav\n",
      "210903-110841_Tr1.wav\n",
      "210826-110152_Tr2.wav\n",
      "210824-115331_Tr2.wav\n",
      "210824-104507_Tr1.wav\n",
      "210831-132118_Tr1.wav\n",
      "210825-132034_Tr2.wav\n",
      "210824-100209_Tr1.wav\n",
      "210831-075120_Tr1.wav\n",
      "210831-103412_Tr2.wav\n",
      "210901-100632_Tr2.wav\n",
      "210824-095127_Tr2.wav\n",
      "210901-100632_Tr1.wav\n",
      "210903-080106_Tr1.wav\n",
      "210825-102141_Tr1.wav\n",
      "210903-080106_Tr2.wav\n",
      "210901-113907_Tr2.wav\n",
      "210904-093942_Tr1.wav\n",
      "210831-082752_Tr1.wav\n",
      "210904-111316_Tr1.wav\n",
      "210825-112937_Tr2.wav\n",
      "210901-083131_Tr2.wav\n",
      "210825-112937_Tr1.wav\n",
      "210826-101250_Tr1.wav\n",
      "210828-094813_Tr1.wav\n",
      "210902-133300_Tr2.wav\n",
      "210824-104456_Tr1.wav\n",
      "210828-094813_Tr2.wav\n",
      "210904-080440_Tr2.wav\n",
      "210827-133618_Tr1.wav\n",
      "210825-135601_Tr2.wav\n",
      "210827-110144_Tr2.wav\n",
      "210901-073117_Tr2.wav\n",
      "210902-160029_Tr2.wav\n",
      "210902-121904_Tr2.wav\n",
      "210826-083608_Tr1.wav\n",
      "210831-122745_Tr1.wav\n",
      "210826-110152_Tr1.wav\n",
      "210827-090209_Tr1.wav\n",
      "210824-095127_Tr1.wav\n",
      "210824-104507_Tr2.wav\n",
      "210826-083608_Tr2.wav\n",
      "210824-115331_Tr1.wav\n",
      "210827-073145_Tr2.wav\n",
      "210904-074321_Tr2.wav\n",
      "210825-102141_Tr2.wav\n",
      "210831-093422_Tr1.wav\n",
      "210831-132135_Tr2.wav\n",
      "210827-133618_Tr2.wav\n",
      "210824-125439_Tr1.wav\n",
      "210827-124552_Tr1.wav\n",
      "210831-120503_Tr2.wav\n",
      "210903-095104_Tr2.wav\n",
      "210901-113907_Tr1.wav\n",
      "210904-080440_Tr1.wav\n",
      "210831-082752_Tr2.wav\n",
      "210901-073117_Tr1.wav\n",
      "210903-121021_Tr1.wav\n",
      "210826-101250_Tr2.wav\n",
      "210828-080644_Tr2.wav\n",
      "210825-115438_Tr2.wav\n",
      "210902-160029_Tr1.wav\n",
      "210827-081513_Tr1.wav\n",
      "210827-100706_Tr2.wav\n",
      "210824-095226_Tr1.wav\n",
      "210903-095104_Tr1.wav\n",
      "210901-083131_Tr1.wav\n",
      "210902-121904_Tr1.wav\n",
      "210825-115438_Tr1.wav\n",
      "210903-092436_Tr2.wav\n",
      "210831-120503_Tr1.wav\n",
      "210903-092436_Tr1.wav\n",
      "210827-073145_Tr1.wav\n",
      "210827-090209_Tr2.wav\n",
      "210828-080644_Tr1.wav\n",
      "210902-133300_Tr1.wav\n",
      "210831-132118_Tr2.wav\n",
      "210904-111316_Tr2.wav\n",
      "210827-100706_Tr1.wav\n",
      "210824-095226_Tr2.wav\n",
      "210904-074321_Tr1.wav\n",
      "210904-093942_Tr2.wav\n",
      "210831-122745_Tr2.wav\n",
      "210903-110841_Tr2.wav\n",
      "210827-081513_Tr2.wav\n",
      "210831-075120_Tr2.wav\n",
      "210827-110144_Tr1.wav\n",
      "210831-093422_Tr2.wav\n",
      "210831-103412_Tr1.wav\n",
      "210824-104456_Tr2.wav\n"
     ]
    }
   ],
   "source": [
    "for file in os.listdir(path1):\n",
    "    print(file)"
   ]
  },
  {
   "cell_type": "code",
   "execution_count": 5,
   "id": "a7ecf1cb",
   "metadata": {},
   "outputs": [
    {
     "name": "stdout",
     "output_type": "stream",
     "text": [
      "210825-135601_Tr1.Table.1.selections.txt\n",
      "210825-135601_Tr1.Table.1.selections (1).txt\n",
      "210904-111316_Tr2(first 4 minutes)(1).txt\n",
      "210827-133618_Tr2.Table.1.selections.txt\n",
      "210904-093942_Tr2.Table.1.selections.txt\n",
      "210828-080644_Tr1.Table.1.selections.txt\n",
      "210904-111316_Tr2.txt\n",
      "210827-081513_Tr1.Table.1.selections.txt\n",
      "210825-132034_Tr1.Table.1.selections.txt\n",
      "210824-104507_Tr1.Table.1.selections.txt\n",
      "210825-112937_Tr1.txt\n",
      "210904-074321_Tr1.Table.1.selections.txt\n",
      "25-115438_Tr2.Table.1.selections.txt\n",
      "210903-110841_Tr2.Table.1.selections.txt\n",
      "210825-102141_Tr1.txt\n",
      "210903-095104_Tr2.Table.1.selections.txt\n",
      "210825-135601_Tr1.txt\n",
      "210824-125439_Tr1.txt\n",
      "180913_081527 (1).Table.1.selections.txt\n",
      "210824-115331_Tr1.txt\n",
      "210825-112937_Tr2.txt\n",
      "210825-132034_Tr2.Table.1.selections.txt\n",
      "210827-133618_Tr1.Table.1.selections.donetxt.txt\n",
      "210826-083608_Tr1.Table.1.selections.txt\n",
      "210827-081513_Tr2.Table.1.selections.txt\n",
      "210824-100209_Tr1.txt\n",
      "210824-095226_Tr2.txt\n",
      "210904-111316_Tr2(first 4 minutes).txt\n",
      "210827-090209_Tr1.Table.1.selections.txt\n",
      "210903-110841_Tr1.Table.1.selections.txt\n",
      "210824-100209_Tr2.txt\n",
      "210824-095226_Tr1.txt\n",
      "210904-093942_Tr1.Table.1.selections- Annotated.txt\n",
      "210904-111316_Tr2restofrecord.txt\n",
      "210903-095104_Tr1.Table.1.selections.txt\n",
      "210824-104507_Tr1.txt\n"
     ]
    }
   ],
   "source": [
    "import re\n",
    "for file in os.listdir(path2):\n",
    "    print(file)"
   ]
  },
  {
   "cell_type": "code",
   "execution_count": 7,
   "id": "525b29a6",
   "metadata": {},
   "outputs": [
    {
     "data": {
      "text/plain": [
       "False"
      ]
     },
     "execution_count": 7,
     "metadata": {},
     "output_type": "execute_result"
    }
   ],
   "source": [
    "import filecmp\n",
    "filecmp.cmp(f'{path2}/210904-111316_Tr2.txt', f'{path2}/210904-111316_Tr2(first 4 minutes).txt')\n"
   ]
  },
  {
   "cell_type": "code",
   "execution_count": null,
   "id": "661b9f27",
   "metadata": {},
   "outputs": [],
   "source": [
    "annotation_filename_dict = {'210825-135601_Tr1.Table.1.selections.txt' : '210825-135601_Tr1.wav',\n",
    "               '210825-135601_Tr1.Table.1.selections (1).txt': 'duplicate',\n",
    "               '210904-111316_Tr2.txt': '210904-111316_Tr2.wav', \n",
    "               '210904-111316_Tr2restofrecord.txt': 'corrupt',\n",
    "               '210904-111316_Tr2(first 4 minutes)(1).txt': 'duplicate', \n",
    "               '210904-111316_Tr2(first 4 minutes).txt': 'duplicate',\n",
    "               '210827-133618_Tr2.Table.1.selections.txt': '210827-133618_Tr2.wav',\n",
    "               '210904-093942_Tr2.Table.1.selections.txt': '210904-093942_Tr2.wav',\n",
    "               '210828-080644_Tr1.Table.1.selections.txt': '210828-080644_Tr1.wav',\n",
    "               '210827-081513_Tr1.Table.1.selections.txt': '210827-081513_Tr1.wav',\n",
    "               '210825-132034_Tr1.Table.1.selections.txt': '210825-132034_Tr1.wav',\n",
    "               '210824-104507_Tr1.Table.1.selections.txt': '210824-104507_Tr1.wav',\n",
    "               '210824-104507_Tr1.txt': '210824-104507_Tr1.wav',\n",
    "               '210825-112937_Tr1.txt' : '210825-112937_Tr1.wav',\n",
    "               '210904-074321_Tr1.Table.1.selections.txt': '210904-074321_Tr1.wav',\n",
    "               '25-115438_Tr2.Table.1.selections.txt': 'unknown',\n",
    "               '210903-110841_Tr2.Table.1.selections.txt': '210903-110841_Tr2.wav',\n",
    "               '210825-102141_Tr1.txt': '210825-102141_Tr1.wav',\n",
    "               '210903-095104_Tr2.Table.1.selections.txt': '210903-095104_Tr2.wav',\n",
    "               '210903-095104_Tr1.Table.1.selections.txt': '210903-095104_Tr1.wav',\n",
    "               '210825-135601_Tr1.txt': '210825-135601_Tr1.wav',\n",
    "               '210824-125439_Tr1.txt': '210824-125439_Tr1.wav',\n",
    "               '180913_081527 (1).Table.1.selections.txt': 'unknown',\n",
    "               '210824-115331_Tr1.txt': '210824-115331_Tr1.wav',\n",
    "               '210825-112937_Tr2.txt': '210825-112937_Tr2.wav',\n",
    "               '210825-132034_Tr2.Table.1.selections.txt': '210825-132034_Tr2.wav',\n",
    "               '210827-133618_Tr1.Table.1.selections.donetxt.txt': '210827-133618_Tr1.wav',\n",
    "               '210826-083608_Tr1.Table.1.selections.txt': '210826-083608_Tr1.wav',\n",
    "               '210827-081513_Tr2.Table.1.selections.txt': '210827-081513_Tr2.wav',\n",
    "               '210824-100209_Tr1.txt': '210824-100209_Tr1.wav',\n",
    "               '210824-095226_Tr2.txt': '210824-095226_Tr2.wav',\n",
    "               '210827-090209_Tr1.Table.1.selections.txt': '210827-090209_Tr2.wav',\n",
    "               '210903-110841_Tr1.Table.1.selections.txt': '210903-110841_Tr1.wav',\n",
    "               '210824-100209_Tr2.txt': '210824-100209_Tr2.wav',\n",
    "               '210824-095226_Tr1.txt' : '210824-095226_Tr1.wav',\n",
    "               '210904-093942_Tr1.Table.1.selections- Annotated.txt': '210904-093942_Tr1.wav',\n",
    "               '210903-095104_Tr1.Table.1.selections.txt': '210903-095104_Tr1.wav'\n"
   ]
  }
 ],
 "metadata": {
  "kernelspec": {
   "display_name": "Python 3 (ipykernel)",
   "language": "python",
   "name": "python3"
  },
  "language_info": {
   "codemirror_mode": {
    "name": "ipython",
    "version": 3
   },
   "file_extension": ".py",
   "mimetype": "text/x-python",
   "name": "python",
   "nbconvert_exporter": "python",
   "pygments_lexer": "ipython3",
   "version": "3.8.10"
  },
  "toc": {
   "base_numbering": 1,
   "nav_menu": {},
   "number_sections": true,
   "sideBar": true,
   "skip_h1_title": false,
   "title_cell": "Table of Contents",
   "title_sidebar": "Contents",
   "toc_cell": false,
   "toc_position": {},
   "toc_section_display": true,
   "toc_window_display": true
  },
  "varInspector": {
   "cols": {
    "lenName": 16,
    "lenType": 16,
    "lenVar": 40
   },
   "kernels_config": {
    "python": {
     "delete_cmd_postfix": "",
     "delete_cmd_prefix": "del ",
     "library": "var_list.py",
     "varRefreshCmd": "print(var_dic_list())"
    },
    "r": {
     "delete_cmd_postfix": ") ",
     "delete_cmd_prefix": "rm(",
     "library": "var_list.r",
     "varRefreshCmd": "cat(var_dic_list()) "
    }
   },
   "types_to_exclude": [
    "module",
    "function",
    "builtin_function_or_method",
    "instance",
    "_Feature"
   ],
   "window_display": false
  }
 },
 "nbformat": 4,
 "nbformat_minor": 5
}
