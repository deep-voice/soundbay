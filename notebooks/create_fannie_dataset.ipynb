{
 "cells": [
  {
   "cell_type": "code",
   "execution_count": 1,
   "id": "7854028a",
   "metadata": {},
   "outputs": [
    {
     "name": "stdout",
     "output_type": "stream",
     "text": [
      "/mnt/d/DeepVoice/soundbay/datasets/fannie_project\n"
     ]
    }
   ],
   "source": [
    "import os\n",
    "from pathlib import Path\n",
    "import pandas as pd\n",
    "import numpy as np\n",
    "# from glob import glob\n",
    "# from datetime import datetime\n",
    "# from tqdm import tqdm\n",
    "\n",
    "from IPython.display import Audio\n",
    "import torchaudio\n",
    "\n",
    "import matplotlib.pyplot as plt\n",
    "import seaborn as sns\n",
    "\n",
    "from soundbay.utils.metadata_processing import create_wav_info_df, convert_month_annotation_to_file_anotation\n",
    "\n",
    "BASE_PATH = Path(os.getcwd())\n",
    "DATASET_PATH = BASE_PATH / \"datasets/fannie_project\"\n",
    "print(DATASET_PATH)"
   ]
  },
  {
   "cell_type": "markdown",
   "id": "022b15d9",
   "metadata": {},
   "source": [
    "# create all calls dataframe:"
   ]
  },
  {
   "cell_type": "code",
   "execution_count": 2,
   "id": "f46c29d4",
   "metadata": {},
   "outputs": [],
   "source": [
    "wav_info_df = create_wav_info_df(list(DATASET_PATH.rglob(\"*.wav\")), wav_files_names_format=\"fannie\")"
   ]
  },
  {
   "cell_type": "code",
   "execution_count": 9,
   "id": "7ce8619a",
   "metadata": {},
   "outputs": [],
   "source": [
    "def create_annotation_df_with_file_times(annotation_dir, wav_info_df):\n",
    "    \"\"\"\n",
    "    Create a DataFrame with annotations and their corresponding file times.\n",
    "    \"\"\"\n",
    "    annotation_files = list(annotation_dir.rglob(\"*.txt\"))\n",
    "    annotation_dfs = [pd.read_csv(file, sep=\"\\t\") for file in annotation_files]\n",
    "    \n",
    "    # Convert month-based annotations to file-based annotations\n",
    "    fixed_annotation_dfs = []\n",
    "    for df in annotation_dfs:\n",
    "        df = convert_month_annotation_to_file_anotation(df, wav_info_df)\n",
    "        fixed_annotation_dfs.append(df)\n",
    "    \n",
    "    return pd.concat(fixed_annotation_dfs, ignore_index=True)"
   ]
  },
  {
   "cell_type": "code",
   "execution_count": 10,
   "id": "78b4b2e0",
   "metadata": {},
   "outputs": [
    {
     "data": {
      "text/plain": [
       "(   Selection           View  Channel  High Freq (Hz)  Low Freq (Hz)  \\\n",
       " 0          1  Spectrogram 1        1          26.831         24.036   \n",
       " 1          2  Spectrogram 1        1          26.551         23.757   \n",
       " 2          3  Spectrogram 1        1          26.551         23.477   \n",
       " 3          4  Spectrogram 1        1          26.272         23.757   \n",
       " 4          5  Spectrogram 1        1          26.551         23.477   \n",
       " \n",
       "    Peak Freq (Hz)  Delta Time (s)  Dur 90% (s)  SNR NIST Quick (dB)  \\\n",
       " 0          25.195          6.2761       5.3805                 6.96   \n",
       " 1          24.609          6.7782       6.0674                 9.95   \n",
       " 2          25.195          7.9079       5.9529                11.75   \n",
       " 3          24.609         10.7950       8.4715                 9.56   \n",
       " 4          25.195          7.1548       5.3805                12.53   \n",
       " \n",
       "             wav_file  Begin Time (s)  End Time (s)  \n",
       " 0  5756.210501212958      831.942378    838.218523  \n",
       " 1  5756.210502002958       47.070881     53.849117  \n",
       " 2  5756.210502002958      108.075012    115.982955  \n",
       " 3  5756.210502002958      228.928651    239.723620  \n",
       " 4  5756.210502002958      295.455790    302.610595  ,\n",
       "    Selection           View  Channel  High Freq (Hz)  Low Freq (Hz)  \\\n",
       " 0          1  Spectrogram 1        1            34.2         31.934   \n",
       " 1          2  Spectrogram 1        1            34.2         31.934   \n",
       " 2          3  Spectrogram 1        1            34.2         31.934   \n",
       " 3          4  Spectrogram 1        1            34.2         31.934   \n",
       " 4          5  Spectrogram 1        1            34.5         31.649   \n",
       " \n",
       "    Peak Freq (Hz)  Delta Time (s)  Dur 90% (s)  SNR NIST Quick (dB)  \\\n",
       " 0          32.812         14.9372       9.3873                12.55   \n",
       " 1          32.812         13.3054      10.8755                10.73   \n",
       " 2          33.398         18.0753      15.7981                 7.90   \n",
       " 3          33.398         16.0669      12.9361                 9.22   \n",
       " 4          32.812         16.9456      13.0506                 8.45   \n",
       " \n",
       "             wav_file  Begin Time (s)  End Time (s)  \n",
       " 0  5756.220411113455      235.842452    250.779677  \n",
       " 1  5756.220411113455      577.164613    590.470040  \n",
       " 2  5756.220411113455      671.231570    689.306868  \n",
       " 3  5756.220411113455      778.101864    794.168796  \n",
       " 4  5756.220411123455       69.693170     86.638762  )"
      ]
     },
     "execution_count": 10,
     "metadata": {},
     "output_type": "execute_result"
    }
   ],
   "source": [
    "ant_blue_annotation = create_annotation_df_with_file_times(DATASET_PATH / \"ANT_BLUE\", wav_info_df)\n",
    "mad_blue_annotation = create_annotation_df_with_file_times(DATASET_PATH / \"MAD_BLUE\", wav_info_df)\n",
    "\n",
    "ant_blue_annotation.head(), mad_blue_annotation.head()"
   ]
  },
  {
   "cell_type": "code",
   "execution_count": 14,
   "id": "22b7f734",
   "metadata": {},
   "outputs": [
    {
     "name": "stdout",
     "output_type": "stream",
     "text": [
      "ANT_BLUE calls: 5441, MAD_BLUE calls: 9607\n"
     ]
    }
   ],
   "source": [
    "num_ant_blue_calls = ant_blue_annotation.shape[0]\n",
    "num_mad_blue_calls = mad_blue_annotation.shape[0]\n",
    "print(f\"ANT_BLUE calls: {num_ant_blue_calls}, MAD_BLUE calls: {num_mad_blue_calls}\")"
   ]
  },
  {
   "cell_type": "code",
   "execution_count": 12,
   "id": "ac2921d2",
   "metadata": {},
   "outputs": [
    {
     "name": "stdout",
     "output_type": "stream",
     "text": [
      "ANT_BLUE: mean=6.39, std=1.38\n",
      "MAD_BLUE: mean=14.65, std=2.12\n"
     ]
    }
   ],
   "source": [
    "# Calculate mean and std for 'Dur 90% (s)' in each annotation dataframe\n",
    "ant_mean = ant_blue_annotation['Delta Time (s)'].mean()\n",
    "ant_std = ant_blue_annotation['Delta Time (s)'].std()\n",
    "\n",
    "mad_mean = mad_blue_annotation['Delta Time (s)'].mean()\n",
    "mad_std = mad_blue_annotation['Delta Time (s)'].std()\n",
    "\n",
    "print(f\"ANT_BLUE: mean={ant_mean:.2f}, std={ant_std:.2f}\")\n",
    "print(f\"MAD_BLUE: mean={mad_mean:.2f}, std={mad_std:.2f}\")"
   ]
  },
  {
   "cell_type": "code",
   "execution_count": 15,
   "id": "e211fd71",
   "metadata": {},
   "outputs": [
    {
     "data": {
      "text/plain": [
       "(   Selection           View  Channel  High Freq (Hz)  Low Freq (Hz)  \\\n",
       " 0          1  Spectrogram 1        1       26.182238      23.720313   \n",
       " 1          2  Spectrogram 1        1       26.182238      23.720313   \n",
       " 2          3  Spectrogram 1        1       26.182238      23.720313   \n",
       " 3          4  Spectrogram 1        1       26.182238      23.720313   \n",
       " 4          5  Spectrogram 1        1       26.182238      23.720313   \n",
       " \n",
       "    Peak Freq (Hz)  Delta Time (s)  Dur 90% (s)  SNR NIST Quick (dB)  \\\n",
       " 0       24.972167        7.070657     5.742328             8.914424   \n",
       " 1       24.972167        6.195362     5.031470             8.914424   \n",
       " 2       24.972167        7.278769     5.911344             8.914424   \n",
       " 3       24.972167        8.485396     6.891287             8.914424   \n",
       " 4       24.972167        6.063182     4.924123             8.914424   \n",
       " \n",
       "             wav_file  Begin Time (s)  End Time (s)  \n",
       " 0  5756.211105062958      378.782472    385.853129  \n",
       " 1  5756.211119032958      562.650745    568.846107  \n",
       " 2  5756.211112062958      564.184119    571.462888  \n",
       " 3  5756.211105102958      310.255041    318.740437  \n",
       " 4  5756.211103232958      785.301260    791.364442  ,\n",
       "    Selection           View  Channel  High Freq (Hz)  Low Freq (Hz)  \\\n",
       " 0          1  Spectrogram 1        1       34.333791      31.364686   \n",
       " 1          2  Spectrogram 1        1       34.333791      31.364686   \n",
       " 2          3  Spectrogram 1        1       34.333791      31.364686   \n",
       " 3          4  Spectrogram 1        1       34.333791      31.364686   \n",
       " 4          5  Spectrogram 1        1       34.333791      31.364686   \n",
       " \n",
       "    Peak Freq (Hz)  Delta Time (s)  Dur 90% (s)  SNR NIST Quick (dB)  \\\n",
       " 0       32.922222       15.195847    12.225658            14.060322   \n",
       " 1       32.922222       12.719176    10.233079            14.060322   \n",
       " 2       32.922222       13.845004    11.138852            14.060322   \n",
       " 3       32.922222       13.512738    10.871531            14.060322   \n",
       " 4       32.922222       16.471852    13.252254            14.060322   \n",
       " \n",
       "             wav_file  Begin Time (s)  End Time (s)  \n",
       " 0  5756.211114082958      366.071721    381.267568  \n",
       " 1  5756.211111152958      537.382211    550.101387  \n",
       " 2  5756.211112132958      121.281404    135.126408  \n",
       " 3  5756.211103102958      377.709081    391.221819  \n",
       " 4  5756.211101162958      178.806176    195.278027  )"
      ]
     },
     "execution_count": 15,
     "metadata": {},
     "output_type": "execute_result"
    }
   ],
   "source": [
    "# Filter wav_info_df for files recorded in November (month == 11)\n",
    "november_wavs = wav_info_df[wav_info_df['month'] == 11]\n",
    "\n",
    "def generate_november_sampled_df(annotation_df, target_mean, target_std, november_wavs, random_state):\n",
    "    n_samples = annotation_df.shape[0] // 2\n",
    "    columns = annotation_df.columns\n",
    "\n",
    "    # Randomly sample wav files for November\n",
    "    sampled_wavs = november_wavs.sample(n=n_samples, replace=True, random_state=random_state).reset_index(drop=True)\n",
    "\n",
    "    # Generate random durations with the same mean and std as annotation_df\n",
    "    np.random.seed(random_state)\n",
    "    delta_times = np.random.normal(loc=target_mean, scale=target_std, size=n_samples)\n",
    "    delta_times = np.clip(delta_times, 0.1, None)\n",
    "\n",
    "    # Generate random begin times within each wav file's duration\n",
    "    begin_times = []\n",
    "    end_times = []\n",
    "    for i, row in sampled_wavs.iterrows():\n",
    "        max_start = max(row['duration'] - delta_times[i], 0.1)\n",
    "        begin = np.random.uniform(0, max_start)\n",
    "        end = begin + delta_times[i]\n",
    "        begin_times.append(begin)\n",
    "        end_times.append(end)\n",
    "\n",
    "    # Build the DataFrame\n",
    "    sampled_df = pd.DataFrame({\n",
    "        'Selection': np.arange(1, n_samples + 1),\n",
    "        'View': 'Spectrogram 1',\n",
    "        'Channel': 1,\n",
    "        'High Freq (Hz)': annotation_df['High Freq (Hz)'].mean(),\n",
    "        'Low Freq (Hz)': annotation_df['Low Freq (Hz)'].mean(),\n",
    "        'Peak Freq (Hz)': annotation_df['Peak Freq (Hz)'].mean(),\n",
    "        'Delta Time (s)': delta_times,\n",
    "        'Dur 90% (s)': delta_times * (annotation_df['Dur 90% (s)'].mean() / annotation_df['Delta Time (s)'].mean()),\n",
    "        'SNR NIST Quick (dB)': annotation_df['SNR NIST Quick (dB)'].mean(),\n",
    "        'wav_file': sampled_wavs['file_name'],\n",
    "        'Begin Time (s)': begin_times,\n",
    "        'End Time (s)': end_times\n",
    "    })\n",
    "\n",
    "    return sampled_df[columns]\n",
    "\n",
    "november_sampled_ant_df = generate_november_sampled_df(\n",
    "    ant_blue_annotation, ant_mean, ant_std, november_wavs, random_state=42\n",
    ")\n",
    "november_sampled_mad_df = generate_november_sampled_df(\n",
    "    mad_blue_annotation, mad_mean, mad_std, november_wavs, random_state=43\n",
    ")\n",
    "\n",
    "november_sampled_ant_df.head(), november_sampled_mad_df.head()\n"
   ]
  },
  {
   "cell_type": "markdown",
   "id": "5465c251",
   "metadata": {},
   "source": [
    "# train, val, test split"
   ]
  },
  {
   "cell_type": "code",
   "execution_count": 18,
   "id": "c8ad4d7a",
   "metadata": {},
   "outputs": [
    {
     "data": {
      "text/plain": [
       "Index(['Selection', 'View', 'Channel', 'High Freq (Hz)', 'Low Freq (Hz)',\n",
       "       'Peak Freq (Hz)', 'Delta Time (s)', 'Dur 90% (s)',\n",
       "       'SNR NIST Quick (dB)', 'wav_file', 'Begin Time (s)', 'End Time (s)',\n",
       "       'class'],\n",
       "      dtype='object')"
      ]
     },
     "execution_count": 18,
     "metadata": {},
     "output_type": "execute_result"
    }
   ],
   "source": [
    "ant_blue_annotation.columns"
   ]
  },
  {
   "cell_type": "code",
   "execution_count": 19,
   "id": "3e1f06bc",
   "metadata": {},
   "outputs": [
    {
     "name": "stdout",
     "output_type": "stream",
     "text": [
      "Train set shape: (18057, 4)\n",
      "Validation set shape: (2256, 4)\n",
      "Test set shape: (2258, 4)\n"
     ]
    }
   ],
   "source": [
    "# add class to all dataframes:\n",
    "ant_blue_annotation['class'] = 'ant_blue'\n",
    "mad_blue_annotation['class'] = 'mad_blue'\n",
    "november_sampled_ant_df['class'] = 'noise'\n",
    "november_sampled_mad_df['class'] = 'noise'\n",
    "\n",
    "# train, val, test split\n",
    "train_ant_blue = ant_blue_annotation.sample(frac=0.8, random_state=42)\n",
    "val_ant_blue = ant_blue_annotation.drop(train_ant_blue.index).sample(frac=0.5, random_state=42)\n",
    "test_ant_blue = ant_blue_annotation.drop(train_ant_blue.index).drop(val_ant_blue.index)\n",
    "\n",
    "train_mad_blue = mad_blue_annotation.sample(frac=0.8, random_state=42)\n",
    "val_mad_blue = mad_blue_annotation.drop(train_mad_blue.index).sample(frac=0.5, random_state=42)\n",
    "test_mad_blue = mad_blue_annotation.drop(train_mad_blue.index).drop(val_mad_blue.index)\n",
    "\n",
    "train_nov_ant_noise = november_sampled_ant_df.sample(frac=0.8, random_state=42)\n",
    "val_nov_ant_noise = november_sampled_ant_df.drop(train_nov_ant_noise.index).sample(frac=0.5, random_state=42)\n",
    "test_nov_ant_noise = november_sampled_ant_df.drop(train_nov_ant_noise.index).drop(val_nov_ant_noise.index)\n",
    "\n",
    "train_nov_mad_noise = november_sampled_mad_df.sample(frac=0.8, random_state=42)\n",
    "val_nov_mad_noise = november_sampled_mad_df.drop(train_nov_mad_noise.index).sample(frac=0.5, random_state=42)\n",
    "test_nov_mad_noise = november_sampled_mad_df.drop(train_nov_mad_noise.index).drop(val_nov_mad_noise.index)\n",
    "\n",
    "# Combine all dataframes\n",
    "train_df = pd.concat([train_ant_blue, train_mad_blue, train_nov_ant_noise, train_nov_mad_noise], ignore_index=True)\n",
    "val_df = pd.concat([val_ant_blue, val_mad_blue, val_nov_ant_noise, val_nov_mad_noise], ignore_index=True)\n",
    "test_df = pd.concat([test_ant_blue, test_mad_blue, test_nov_ant_noise, test_nov_mad_noise], ignore_index=True)\n",
    "\n",
    "# choose relavent columns for the final dataframes\n",
    "columns_to_keep = ['wav_file', 'Begin Time (s)', 'End Time (s)', 'class']\n",
    "train_df = train_df[columns_to_keep]\n",
    "val_df = val_df[columns_to_keep]\n",
    "test_df = test_df[columns_to_keep]\n",
    "\n",
    "# change column names to match the expected format\n",
    "train_df.columns = ['file_name', 'begin_time', 'end_time', 'class']\n",
    "val_df.columns = ['file_name', 'begin_time', 'end_time', 'class']\n",
    "test_df.columns = ['file_name', 'begin_time', 'end_time', 'class']\n",
    "\n",
    "# print the shapes of the final dataframes\n",
    "print(f\"Train set shape: {train_df.shape}\")\n",
    "print(f\"Validation set shape: {val_df.shape}\")\n",
    "print(f\"Test set shape: {test_df.shape}\")\n",
    "\n",
    "# Save the dataframes to CSV files\n",
    "train_df.to_csv(DATASET_PATH / \"train.csv\", index=False)\n",
    "val_df.to_csv(DATASET_PATH / \"val.csv\", index=False)\n",
    "test_df.to_csv(DATASET_PATH / \"test.csv\", index=False)"
   ]
  }
 ],
 "metadata": {
  "kernelspec": {
   "display_name": "venv",
   "language": "python",
   "name": "python3"
  },
  "language_info": {
   "codemirror_mode": {
    "name": "ipython",
    "version": 3
   },
   "file_extension": ".py",
   "mimetype": "text/x-python",
   "name": "python",
   "nbconvert_exporter": "python",
   "pygments_lexer": "ipython3",
   "version": "3.11.13"
  }
 },
 "nbformat": 4,
 "nbformat_minor": 5
}
