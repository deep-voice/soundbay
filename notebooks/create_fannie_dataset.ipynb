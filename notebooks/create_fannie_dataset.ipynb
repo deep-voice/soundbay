{
 "cells": [
  {
   "cell_type": "code",
   "execution_count": 38,
   "id": "7854028a",
   "metadata": {},
   "outputs": [
    {
     "name": "stdout",
     "output_type": "stream",
     "text": [
      "/mnt/d/DeepVoice/soundbay/datasets/fannie_project\n"
     ]
    }
   ],
   "source": [
    "import os\n",
    "from pathlib import Path\n",
    "import pandas as pd\n",
    "from tqdm import tqdm\n",
    "import numpy as np\n",
    "import soundfile as sf\n",
    "\n",
    "# from soundbay.utils.metadata_processing import create_wav_info_df, convert_month_annotation_to_file_anotation\n",
    "from soundbay.utils.metadata_processing import get_wav_info_df, add_month_acc_duration, load_corrected_annotation_df\n",
    "\n",
    "BASE_PATH = Path(os.getcwd())\n",
    "DATASET_PATH = BASE_PATH / \"datasets/fannie_project\"\n",
    "print(DATASET_PATH)"
   ]
  },
  {
   "cell_type": "code",
   "execution_count": 39,
   "id": "aab66112",
   "metadata": {},
   "outputs": [
    {
     "name": "stderr",
     "output_type": "stream",
     "text": [
      "Processing wav files: 100%|██████████| 9276/9276 [00:22<00:00, 415.19it/s]\n"
     ]
    },
    {
     "data": {
      "text/html": [
       "<div>\n",
       "<style scoped>\n",
       "    .dataframe tbody tr th:only-of-type {\n",
       "        vertical-align: middle;\n",
       "    }\n",
       "\n",
       "    .dataframe tbody tr th {\n",
       "        vertical-align: top;\n",
       "    }\n",
       "\n",
       "    .dataframe thead th {\n",
       "        text-align: right;\n",
       "    }\n",
       "</style>\n",
       "<table border=\"1\" class=\"dataframe\">\n",
       "  <thead>\n",
       "    <tr style=\"text-align: right;\">\n",
       "      <th></th>\n",
       "      <th>wav_file</th>\n",
       "      <th>duration</th>\n",
       "      <th>sample_rate</th>\n",
       "      <th>rec_id</th>\n",
       "      <th>date_time</th>\n",
       "      <th>month_year</th>\n",
       "      <th>accumulated_duration</th>\n",
       "    </tr>\n",
       "  </thead>\n",
       "  <tbody>\n",
       "    <tr>\n",
       "      <th>0</th>\n",
       "      <td>/mnt/d/DeepVoice/soundbay/datasets/fannie_proj...</td>\n",
       "      <td>840.025500</td>\n",
       "      <td>96000</td>\n",
       "      <td>5756</td>\n",
       "      <td>2021-04-15 18:29:58</td>\n",
       "      <td>4-2021</td>\n",
       "      <td>0.000000</td>\n",
       "    </tr>\n",
       "    <tr>\n",
       "      <th>1</th>\n",
       "      <td>/mnt/d/DeepVoice/soundbay/datasets/fannie_proj...</td>\n",
       "      <td>840.004667</td>\n",
       "      <td>96000</td>\n",
       "      <td>5756</td>\n",
       "      <td>2021-04-15 19:29:58</td>\n",
       "      <td>4-2021</td>\n",
       "      <td>840.025500</td>\n",
       "    </tr>\n",
       "    <tr>\n",
       "      <th>2</th>\n",
       "      <td>/mnt/d/DeepVoice/soundbay/datasets/fannie_proj...</td>\n",
       "      <td>840.008000</td>\n",
       "      <td>1000</td>\n",
       "      <td>5756</td>\n",
       "      <td>2021-04-15 20:29:58</td>\n",
       "      <td>4-2021</td>\n",
       "      <td>1680.030167</td>\n",
       "    </tr>\n",
       "    <tr>\n",
       "      <th>3</th>\n",
       "      <td>/mnt/d/DeepVoice/soundbay/datasets/fannie_proj...</td>\n",
       "      <td>840.022000</td>\n",
       "      <td>1000</td>\n",
       "      <td>5756</td>\n",
       "      <td>2021-04-15 21:29:58</td>\n",
       "      <td>4-2021</td>\n",
       "      <td>2520.038167</td>\n",
       "    </tr>\n",
       "    <tr>\n",
       "      <th>4</th>\n",
       "      <td>/mnt/d/DeepVoice/soundbay/datasets/fannie_proj...</td>\n",
       "      <td>840.023000</td>\n",
       "      <td>1000</td>\n",
       "      <td>5756</td>\n",
       "      <td>2021-04-15 22:29:58</td>\n",
       "      <td>4-2021</td>\n",
       "      <td>3360.060167</td>\n",
       "    </tr>\n",
       "  </tbody>\n",
       "</table>\n",
       "</div>"
      ],
      "text/plain": [
       "                                            wav_file    duration  sample_rate  \\\n",
       "0  /mnt/d/DeepVoice/soundbay/datasets/fannie_proj...  840.025500        96000   \n",
       "1  /mnt/d/DeepVoice/soundbay/datasets/fannie_proj...  840.004667        96000   \n",
       "2  /mnt/d/DeepVoice/soundbay/datasets/fannie_proj...  840.008000         1000   \n",
       "3  /mnt/d/DeepVoice/soundbay/datasets/fannie_proj...  840.022000         1000   \n",
       "4  /mnt/d/DeepVoice/soundbay/datasets/fannie_proj...  840.023000         1000   \n",
       "\n",
       "  rec_id           date_time month_year  accumulated_duration  \n",
       "0   5756 2021-04-15 18:29:58     4-2021              0.000000  \n",
       "1   5756 2021-04-15 19:29:58     4-2021            840.025500  \n",
       "2   5756 2021-04-15 20:29:58     4-2021           1680.030167  \n",
       "3   5756 2021-04-15 21:29:58     4-2021           2520.038167  \n",
       "4   5756 2021-04-15 22:29:58     4-2021           3360.060167  "
      ]
     },
     "execution_count": 39,
     "metadata": {},
     "output_type": "execute_result"
    }
   ],
   "source": [
    "wav_df = get_wav_info_df(DATASET_PATH, file_format=\"fannie\", order_by=\"date_time\")\n",
    "wav_df = add_month_acc_duration(wav_df)\n",
    "wav_df.head()"
   ]
  },
  {
   "cell_type": "code",
   "execution_count": 40,
   "id": "8fa0f986",
   "metadata": {},
   "outputs": [
    {
     "data": {
      "text/html": [
       "<div>\n",
       "<style scoped>\n",
       "    .dataframe tbody tr th:only-of-type {\n",
       "        vertical-align: middle;\n",
       "    }\n",
       "\n",
       "    .dataframe tbody tr th {\n",
       "        vertical-align: top;\n",
       "    }\n",
       "\n",
       "    .dataframe thead th {\n",
       "        text-align: right;\n",
       "    }\n",
       "</style>\n",
       "<table border=\"1\" class=\"dataframe\">\n",
       "  <thead>\n",
       "    <tr style=\"text-align: right;\">\n",
       "      <th></th>\n",
       "      <th>Selection</th>\n",
       "      <th>View</th>\n",
       "      <th>Channel</th>\n",
       "      <th>begin_time</th>\n",
       "      <th>end_time</th>\n",
       "      <th>High Freq (Hz)</th>\n",
       "      <th>Low Freq (Hz)</th>\n",
       "      <th>Peak Freq (Hz)</th>\n",
       "      <th>Delta Time (s)</th>\n",
       "      <th>Dur 90% (s)</th>\n",
       "      <th>SNR NIST Quick (dB)</th>\n",
       "      <th>wav_file</th>\n",
       "      <th>date_time</th>\n",
       "      <th>duration</th>\n",
       "      <th>accumulated_duration</th>\n",
       "    </tr>\n",
       "  </thead>\n",
       "  <tbody>\n",
       "    <tr>\n",
       "      <th>0</th>\n",
       "      <td>1</td>\n",
       "      <td>Spectrogram 1</td>\n",
       "      <td>1</td>\n",
       "      <td>831.942378</td>\n",
       "      <td>838.218523</td>\n",
       "      <td>26.831</td>\n",
       "      <td>24.036</td>\n",
       "      <td>25.195</td>\n",
       "      <td>6.2761</td>\n",
       "      <td>5.3805</td>\n",
       "      <td>6.96</td>\n",
       "      <td>5756.210501212958.wav</td>\n",
       "      <td>2021-05-01 21:29:58</td>\n",
       "      <td>840.016</td>\n",
       "      <td>17640.022</td>\n",
       "    </tr>\n",
       "    <tr>\n",
       "      <th>1</th>\n",
       "      <td>2</td>\n",
       "      <td>Spectrogram 1</td>\n",
       "      <td>1</td>\n",
       "      <td>47.070881</td>\n",
       "      <td>53.849117</td>\n",
       "      <td>26.551</td>\n",
       "      <td>23.757</td>\n",
       "      <td>24.609</td>\n",
       "      <td>6.7782</td>\n",
       "      <td>6.0674</td>\n",
       "      <td>9.95</td>\n",
       "      <td>5756.210502002958.wav</td>\n",
       "      <td>2021-05-02 00:29:58</td>\n",
       "      <td>840.004</td>\n",
       "      <td>20160.030</td>\n",
       "    </tr>\n",
       "    <tr>\n",
       "      <th>2</th>\n",
       "      <td>3</td>\n",
       "      <td>Spectrogram 1</td>\n",
       "      <td>1</td>\n",
       "      <td>108.075012</td>\n",
       "      <td>115.982955</td>\n",
       "      <td>26.551</td>\n",
       "      <td>23.477</td>\n",
       "      <td>25.195</td>\n",
       "      <td>7.9079</td>\n",
       "      <td>5.9529</td>\n",
       "      <td>11.75</td>\n",
       "      <td>5756.210502002958.wav</td>\n",
       "      <td>2021-05-02 00:29:58</td>\n",
       "      <td>840.004</td>\n",
       "      <td>20160.030</td>\n",
       "    </tr>\n",
       "  </tbody>\n",
       "</table>\n",
       "</div>"
      ],
      "text/plain": [
       "   Selection           View  Channel  begin_time    end_time  High Freq (Hz)  \\\n",
       "0          1  Spectrogram 1        1  831.942378  838.218523          26.831   \n",
       "1          2  Spectrogram 1        1   47.070881   53.849117          26.551   \n",
       "2          3  Spectrogram 1        1  108.075012  115.982955          26.551   \n",
       "\n",
       "   Low Freq (Hz)  Peak Freq (Hz)  Delta Time (s)  Dur 90% (s)  \\\n",
       "0         24.036          25.195          6.2761       5.3805   \n",
       "1         23.757          24.609          6.7782       6.0674   \n",
       "2         23.477          25.195          7.9079       5.9529   \n",
       "\n",
       "   SNR NIST Quick (dB)               wav_file           date_time  duration  \\\n",
       "0                 6.96  5756.210501212958.wav 2021-05-01 21:29:58   840.016   \n",
       "1                 9.95  5756.210502002958.wav 2021-05-02 00:29:58   840.004   \n",
       "2                11.75  5756.210502002958.wav 2021-05-02 00:29:58   840.004   \n",
       "\n",
       "   accumulated_duration  \n",
       "0             17640.022  \n",
       "1             20160.030  \n",
       "2             20160.030  "
      ]
     },
     "execution_count": 40,
     "metadata": {},
     "output_type": "execute_result"
    }
   ],
   "source": [
    "ant_blue_annotation = load_corrected_annotation_df(DATASET_PATH / \"ANT_BLUE\", wav_df)\n",
    "mad_blue_annotation = load_corrected_annotation_df(DATASET_PATH / \"MAD_BLUE\", wav_df)\n",
    "\n",
    "ant_blue_annotation.head(3)"
   ]
  },
  {
   "cell_type": "code",
   "execution_count": 41,
   "id": "ddbf4f9f",
   "metadata": {},
   "outputs": [],
   "source": [
    "def check_annotation_file(annotation_df):\n",
    "    cnt_bad_start_times = 0\n",
    "    cnt_bad_end_times = 0\n",
    "    months_year = set()\n",
    "    for _, row in tqdm(annotation_df.iterrows(), total=annotation_df.shape[0], desc=\"Checking annotation times\"):\n",
    "        start_time = row['begin_time']\n",
    "        end_time = row['end_time']\n",
    "        \n",
    "        file_duration = row['duration']\n",
    "        if start_time < 0 or start_time >= file_duration:\n",
    "            months_year.add(f\"{row['date_time'].month}-{row['date_time'].year}\")\n",
    "            cnt_bad_start_times += 1\n",
    "        if end_time < 0 or end_time > file_duration:\n",
    "            months_year.add(f\"{row['date_time'].month}-{row['date_time'].year}\")\n",
    "            cnt_bad_end_times += 1\n",
    "    print(f\"Number of invalid start times: {cnt_bad_start_times}\")\n",
    "    print(f\"Number of invalid end times: {cnt_bad_end_times}\")\n",
    "    print(f\"Months with invalid annotations: {months_year}\")"
   ]
  },
  {
   "cell_type": "code",
   "execution_count": 42,
   "id": "0f87fb4c",
   "metadata": {},
   "outputs": [
    {
     "name": "stderr",
     "output_type": "stream",
     "text": [
      "Checking annotation times: 100%|██████████| 5441/5441 [00:00<00:00, 61686.61it/s]"
     ]
    },
    {
     "name": "stdout",
     "output_type": "stream",
     "text": [
      "Number of invalid start times: 157\n",
      "Number of invalid end times: 161\n",
      "Months with invalid annotations: {'3-2022'}\n"
     ]
    },
    {
     "name": "stderr",
     "output_type": "stream",
     "text": [
      "\n"
     ]
    }
   ],
   "source": [
    "check_annotation_file(annotation_df=ant_blue_annotation)"
   ]
  },
  {
   "cell_type": "code",
   "execution_count": 43,
   "id": "cd393d71",
   "metadata": {},
   "outputs": [
    {
     "name": "stderr",
     "output_type": "stream",
     "text": [
      "Checking annotation times: 100%|██████████| 9607/9607 [00:00<00:00, 60086.87it/s]"
     ]
    },
    {
     "name": "stdout",
     "output_type": "stream",
     "text": [
      "Number of invalid start times: 1694\n",
      "Number of invalid end times: 1737\n",
      "Months with invalid annotations: {'3-2022'}\n"
     ]
    },
    {
     "name": "stderr",
     "output_type": "stream",
     "text": [
      "\n"
     ]
    }
   ],
   "source": [
    "check_annotation_file(mad_blue_annotation)"
   ]
  },
  {
   "cell_type": "code",
   "execution_count": 44,
   "id": "531ad43d",
   "metadata": {},
   "outputs": [],
   "source": [
    "# mad_stats = mad_blue_annotation.groupby('wav_file').agg({\n",
    "#     'begin_time': ['min', 'max'],\n",
    "#     'end_time': ['min', 'max']\n",
    "# })\n",
    "# mad_stats['date_time'] = mad_stats.index.to_series().apply(lambda x: get_date_time_fannie_format(x))\n",
    "\n",
    "# mad_stats.columns = ['Begin Time (s) min', 'Begin Time (s) max', 'End Time (s) min', 'End Time (s) max', 'date_time']\n",
    "\n",
    "# mad_stats = mad_stats.merge(\n",
    "#     file_df[['date_time', 'duration', 'accumulated_duration']],\n",
    "#     left_on='date_time',\n",
    "#     right_on='date_time',\n",
    "#     how='left'\n",
    "# )\n",
    "\n",
    "# mad_stats['Begin Time (s) min'] = mad_stats['Begin Time (s) min'] - mad_stats['accumulated_duration']\n",
    "# mad_stats['Begin Time (s) max'] = mad_stats['Begin Time (s) max'] - mad_stats['accumulated_duration']\n",
    "# mad_stats['End Time (s) min'] = mad_stats['End Time (s) min'] - mad_stats['accumulated_duration']\n",
    "# mad_stats['End Time (s) max'] = mad_stats['End Time (s) max'] - mad_stats['accumulated_duration']\n",
    "# mad_stats"
   ]
  },
  {
   "cell_type": "code",
   "execution_count": 45,
   "id": "9ecaf6f4",
   "metadata": {},
   "outputs": [
    {
     "data": {
      "text/html": [
       "<div>\n",
       "<style scoped>\n",
       "    .dataframe tbody tr th:only-of-type {\n",
       "        vertical-align: middle;\n",
       "    }\n",
       "\n",
       "    .dataframe tbody tr th {\n",
       "        vertical-align: top;\n",
       "    }\n",
       "\n",
       "    .dataframe thead th {\n",
       "        text-align: right;\n",
       "    }\n",
       "</style>\n",
       "<table border=\"1\" class=\"dataframe\">\n",
       "  <thead>\n",
       "    <tr style=\"text-align: right;\">\n",
       "      <th></th>\n",
       "      <th>Selection</th>\n",
       "      <th>View</th>\n",
       "      <th>Channel</th>\n",
       "      <th>begin_time</th>\n",
       "      <th>end_time</th>\n",
       "      <th>High Freq (Hz)</th>\n",
       "      <th>Low Freq (Hz)</th>\n",
       "      <th>Peak Freq (Hz)</th>\n",
       "      <th>Delta Time (s)</th>\n",
       "      <th>Dur 90% (s)</th>\n",
       "      <th>SNR NIST Quick (dB)</th>\n",
       "      <th>wav_file</th>\n",
       "      <th>date_time</th>\n",
       "      <th>duration</th>\n",
       "      <th>accumulated_duration</th>\n",
       "    </tr>\n",
       "  </thead>\n",
       "  <tbody>\n",
       "    <tr>\n",
       "      <th>0</th>\n",
       "      <td>1</td>\n",
       "      <td>Spectrogram 1</td>\n",
       "      <td>1</td>\n",
       "      <td>831.942378</td>\n",
       "      <td>838.218523</td>\n",
       "      <td>26.831</td>\n",
       "      <td>24.036</td>\n",
       "      <td>25.195</td>\n",
       "      <td>6.2761</td>\n",
       "      <td>5.3805</td>\n",
       "      <td>6.96</td>\n",
       "      <td>5756.210501212958.wav</td>\n",
       "      <td>2021-05-01 21:29:58</td>\n",
       "      <td>840.016</td>\n",
       "      <td>17640.022</td>\n",
       "    </tr>\n",
       "    <tr>\n",
       "      <th>1</th>\n",
       "      <td>2</td>\n",
       "      <td>Spectrogram 1</td>\n",
       "      <td>1</td>\n",
       "      <td>47.070881</td>\n",
       "      <td>53.849117</td>\n",
       "      <td>26.551</td>\n",
       "      <td>23.757</td>\n",
       "      <td>24.609</td>\n",
       "      <td>6.7782</td>\n",
       "      <td>6.0674</td>\n",
       "      <td>9.95</td>\n",
       "      <td>5756.210502002958.wav</td>\n",
       "      <td>2021-05-02 00:29:58</td>\n",
       "      <td>840.004</td>\n",
       "      <td>20160.030</td>\n",
       "    </tr>\n",
       "    <tr>\n",
       "      <th>2</th>\n",
       "      <td>3</td>\n",
       "      <td>Spectrogram 1</td>\n",
       "      <td>1</td>\n",
       "      <td>108.075012</td>\n",
       "      <td>115.982955</td>\n",
       "      <td>26.551</td>\n",
       "      <td>23.477</td>\n",
       "      <td>25.195</td>\n",
       "      <td>7.9079</td>\n",
       "      <td>5.9529</td>\n",
       "      <td>11.75</td>\n",
       "      <td>5756.210502002958.wav</td>\n",
       "      <td>2021-05-02 00:29:58</td>\n",
       "      <td>840.004</td>\n",
       "      <td>20160.030</td>\n",
       "    </tr>\n",
       "  </tbody>\n",
       "</table>\n",
       "</div>"
      ],
      "text/plain": [
       "   Selection           View  Channel  begin_time    end_time  High Freq (Hz)  \\\n",
       "0          1  Spectrogram 1        1  831.942378  838.218523          26.831   \n",
       "1          2  Spectrogram 1        1   47.070881   53.849117          26.551   \n",
       "2          3  Spectrogram 1        1  108.075012  115.982955          26.551   \n",
       "\n",
       "   Low Freq (Hz)  Peak Freq (Hz)  Delta Time (s)  Dur 90% (s)  \\\n",
       "0         24.036          25.195          6.2761       5.3805   \n",
       "1         23.757          24.609          6.7782       6.0674   \n",
       "2         23.477          25.195          7.9079       5.9529   \n",
       "\n",
       "   SNR NIST Quick (dB)               wav_file           date_time  duration  \\\n",
       "0                 6.96  5756.210501212958.wav 2021-05-01 21:29:58   840.016   \n",
       "1                 9.95  5756.210502002958.wav 2021-05-02 00:29:58   840.004   \n",
       "2                11.75  5756.210502002958.wav 2021-05-02 00:29:58   840.004   \n",
       "\n",
       "   accumulated_duration  \n",
       "0             17640.022  \n",
       "1             20160.030  \n",
       "2             20160.030  "
      ]
     },
     "execution_count": 45,
     "metadata": {},
     "output_type": "execute_result"
    }
   ],
   "source": [
    "# there is a problem only in march 2022, so we can filter it out\n",
    "ant_blue_annotation['month_year'] = ant_blue_annotation.apply(lambda x: f\"{x['date_time'].month}-{x['date_time'].year}\", axis=1)\n",
    "ant_blue_annotation = ant_blue_annotation[ant_blue_annotation['month_year'] != \"3-2022\"]\n",
    "mad_blue_annotation['month_year'] = mad_blue_annotation.apply(lambda x: f\"{x['date_time'].month}-{x['date_time'].year}\", axis=1)\n",
    "mad_blue_annotation = mad_blue_annotation[mad_blue_annotation['month_year'] != \"3-2022\"]\n",
    "\n",
    "del ant_blue_annotation['month_year']\n",
    "del mad_blue_annotation['month_year']\n",
    "\n",
    "ant_blue_annotation.head(3)"
   ]
  },
  {
   "cell_type": "code",
   "execution_count": 46,
   "id": "d26f7621",
   "metadata": {},
   "outputs": [],
   "source": [
    "# check_annotation_file(annotation_df=ant_blue_annotation)\n",
    "# check_annotation_file(annotation_df=mad_blue_annotation)"
   ]
  },
  {
   "cell_type": "code",
   "execution_count": 47,
   "id": "43ade25b",
   "metadata": {},
   "outputs": [
    {
     "name": "stdout",
     "output_type": "stream",
     "text": [
      "ANT_BLUE calls: 5272, MAD_BLUE calls: 7188\n"
     ]
    }
   ],
   "source": [
    "num_ant_blue_calls = ant_blue_annotation.shape[0]\n",
    "num_mad_blue_calls = mad_blue_annotation.shape[0]\n",
    "print(f\"ANT_BLUE calls: {num_ant_blue_calls}, MAD_BLUE calls: {num_mad_blue_calls}\")"
   ]
  },
  {
   "cell_type": "code",
   "execution_count": 48,
   "id": "2199d1da",
   "metadata": {},
   "outputs": [
    {
     "name": "stdout",
     "output_type": "stream",
     "text": [
      "ANT_BLUE: mean=6.37, std=1.38\n",
      "MAD_BLUE: mean=14.43, std=2.25\n"
     ]
    }
   ],
   "source": [
    "# Calculate mean and std for 'Dur 90% (s)' in each annotation dataframe\n",
    "ant_mean = ant_blue_annotation['Delta Time (s)'].mean()\n",
    "ant_std = ant_blue_annotation['Delta Time (s)'].std()\n",
    "\n",
    "mad_mean = mad_blue_annotation['Delta Time (s)'].mean()\n",
    "mad_std = mad_blue_annotation['Delta Time (s)'].std()\n",
    "\n",
    "print(f\"ANT_BLUE: mean={ant_mean:.2f}, std={ant_std:.2f}\")\n",
    "print(f\"MAD_BLUE: mean={mad_mean:.2f}, std={mad_std:.2f}\")"
   ]
  },
  {
   "cell_type": "code",
   "execution_count": 49,
   "id": "6b8eda57",
   "metadata": {},
   "outputs": [
    {
     "data": {
      "text/plain": [
       "(                                            wav_file  begin_time    end_time\n",
       " 0  /mnt/d/DeepVoice/soundbay/datasets/fannie_proj...  740.583129  747.642096\n",
       " 1  /mnt/d/DeepVoice/soundbay/datasets/fannie_proj...  482.627699  488.811517\n",
       " 2  /mnt/d/DeepVoice/soundbay/datasets/fannie_proj...  526.602978  533.870023\n",
       " 3  /mnt/d/DeepVoice/soundbay/datasets/fannie_proj...  130.113758  138.587229\n",
       " 4  /mnt/d/DeepVoice/soundbay/datasets/fannie_proj...  395.220601  401.272262,\n",
       "                                             wav_file  begin_time    end_time\n",
       " 0  /mnt/d/DeepVoice/soundbay/datasets/fannie_proj...  287.811168  302.819075\n",
       " 1  /mnt/d/DeepVoice/soundbay/datasets/fannie_proj...  757.482808  769.866401\n",
       " 2  /mnt/d/DeepVoice/soundbay/datasets/fannie_proj...  790.664859  804.241394\n",
       " 3  /mnt/d/DeepVoice/soundbay/datasets/fannie_proj...   16.194949   29.419411\n",
       " 4  /mnt/d/DeepVoice/soundbay/datasets/fannie_proj...  152.095422  168.455401)"
      ]
     },
     "execution_count": 49,
     "metadata": {},
     "output_type": "execute_result"
    }
   ],
   "source": [
    "# Filter wav_df for files recorded in November (month == 11)\n",
    "november_wavs = wav_df[wav_df['date_time'].dt.month == 11]\n",
    "\n",
    "def generate_november_sampled_df(annotation_df, target_mean, target_std, november_wavs, random_state):\n",
    "    n_samples = annotation_df.shape[0] // 2\n",
    "    columns = annotation_df.columns\n",
    "\n",
    "    # Randomly sample wav files for November\n",
    "    sampled_wavs = november_wavs.sample(n=n_samples, replace=True, random_state=random_state).reset_index(drop=True)\n",
    "\n",
    "    # Generate random durations with the same mean and std as annotation_df\n",
    "    np.random.seed(random_state)\n",
    "    delta_times = np.random.normal(loc=target_mean, scale=target_std, size=n_samples)\n",
    "    delta_times = np.clip(delta_times, 0.1, None)\n",
    "\n",
    "    # Generate random begin times within each wav file's duration\n",
    "    begin_times = []\n",
    "    end_times = []\n",
    "    for i, row in sampled_wavs.iterrows():\n",
    "        max_start = max(row['duration'] - delta_times[i], 0.1)\n",
    "        begin = np.random.uniform(0, max_start)\n",
    "        end = begin + delta_times[i]\n",
    "        begin_times.append(begin)\n",
    "        end_times.append(end)\n",
    "\n",
    "    # Build the DataFrame\n",
    "    sampled_df = pd.DataFrame({\n",
    "        'wav_file': sampled_wavs['wav_file'],\n",
    "        'begin_time': begin_times,\n",
    "        'end_time': end_times\n",
    "    })\n",
    "\n",
    "    return sampled_df[columns]\n",
    "\n",
    "ant_blue_annotation = ant_blue_annotation[['wav_file', 'begin_time', 'end_time']]\n",
    "november_sampled_ant_df = generate_november_sampled_df(\n",
    "    ant_blue_annotation, ant_mean, ant_std, november_wavs, random_state=42\n",
    ")\n",
    "\n",
    "mad_blue_annotation = mad_blue_annotation[['wav_file', 'begin_time', 'end_time']]\n",
    "november_sampled_mad_df = generate_november_sampled_df(\n",
    "    mad_blue_annotation, mad_mean, mad_std, november_wavs, random_state=43\n",
    ")\n",
    "\n",
    "\n",
    "november_sampled_ant_df.head(), november_sampled_mad_df.head()\n"
   ]
  },
  {
   "cell_type": "code",
   "execution_count": 82,
   "id": "229e20a9",
   "metadata": {},
   "outputs": [
    {
     "name": "stdout",
     "output_type": "stream",
     "text": [
      "Train set shape: (12077, 4), which is: 80.00%\n",
      "Validation set shape: (1510, 4), which is: 10.00%\n",
      "Test set shape: (1509, 4), which is: 10.00%\n"
     ]
    }
   ],
   "source": [
    "# add class\n",
    "november_sampled_ant_df['label'] = 0\n",
    "ant_blue_annotation['label'] = 1\n",
    "mad_blue_annotation['label'] = 2\n",
    "\n",
    "# train, val, test split\n",
    "train_ant_blue = ant_blue_annotation.sample(frac=0.8, random_state=42)\n",
    "val_ant_blue = ant_blue_annotation.drop(train_ant_blue.index).sample(frac=0.5, random_state=42)\n",
    "test_ant_blue = ant_blue_annotation.drop(train_ant_blue.index).drop(val_ant_blue.index)\n",
    "\n",
    "train_mad_blue = mad_blue_annotation.sample(frac=0.8, random_state=42)\n",
    "val_mad_blue = mad_blue_annotation.drop(train_mad_blue.index).sample(frac=0.5, random_state=42)\n",
    "test_mad_blue = mad_blue_annotation.drop(train_mad_blue.index).drop(val_mad_blue.index)\n",
    "\n",
    "train_noise = november_sampled_ant_df.sample(frac=0.8, random_state=42)\n",
    "val_noise = november_sampled_ant_df.drop(train_noise.index).sample(frac=0.5, random_state=42)\n",
    "test_noise = november_sampled_ant_df.drop(train_noise.index).drop(val_noise.index)\n",
    "\n",
    "# combine all dataframes\n",
    "train_df = pd.concat([train_ant_blue, train_mad_blue, train_noise], ignore_index=True)\n",
    "val_df = pd.concat([val_ant_blue, val_mad_blue, val_noise], ignore_index=True)\n",
    "test_df = pd.concat([test_ant_blue, test_mad_blue, test_noise], ignore_index=True)\n",
    "\n",
    "# print the shapes of the final dataframes\n",
    "total_samples = train_df.shape[0] + val_df.shape[0] + test_df.shape[0]\n",
    "print(f\"Train set shape: {train_df.shape}, which is: {train_df.shape[0] / total_samples * 100:.2f}%\")\n",
    "print(f\"Validation set shape: {val_df.shape}, which is: {val_df.shape[0] / total_samples * 100:.2f}%\")\n",
    "print(f\"Test set shape: {test_df.shape}, which is: {test_df.shape[0] / total_samples * 100:.2f}%\")\n"
   ]
  },
  {
   "cell_type": "code",
   "execution_count": 83,
   "id": "0a98ae97",
   "metadata": {},
   "outputs": [],
   "source": [
    "# format annotation for training:\n",
    "def format_annotation_for_training(df):\n",
    "    df['begin_time'] = df['begin_time'].astype(float)\n",
    "    df['end_time'] = df['end_time'].astype(float)\n",
    "    df['call_length'] = df['end_time'] - df['begin_time']\n",
    "\n",
    "    df.rename(columns={'wav_file': 'filename'}, inplace=True)\n",
    "    df['filename'] = df['filename'].apply(lambda x: str(x).replace('.wav', ''))\n",
    "    df['filename'] = df['filename'].apply(lambda x: x.split('/')[-1])  # keep only the file name\n",
    "\n",
    "    df['label'] = df['label'].astype(int)\n",
    "    return df\n",
    "\n",
    "train_df = format_annotation_for_training(train_df)\n",
    "val_df = format_annotation_for_training(val_df)\n",
    "test_df = format_annotation_for_training(test_df)"
   ]
  },
  {
   "cell_type": "code",
   "execution_count": 84,
   "id": "c09bbd5d",
   "metadata": {},
   "outputs": [
    {
     "data": {
      "text/plain": [
       "array(['5756.210502012958', '5756.220426083455', '5756.210830082958', ...,\n",
       "       '5756.211110212958', '5756.211125202958', '5756.211130162958'],\n",
       "      dtype=object)"
      ]
     },
     "execution_count": 84,
     "metadata": {},
     "output_type": "execute_result"
    }
   ],
   "source": [
    "train_df['filename'].unique()"
   ]
  },
  {
   "cell_type": "code",
   "execution_count": 85,
   "id": "feb79976",
   "metadata": {},
   "outputs": [],
   "source": [
    "# Save the dataframes to CSV files\n",
    "train_df.to_csv(DATASET_PATH / \"train.csv\", index=False)\n",
    "val_df.to_csv(DATASET_PATH / \"val.csv\", index=False)\n",
    "test_df.to_csv(DATASET_PATH / \"test.csv\", index=False)"
   ]
  },
  {
   "cell_type": "code",
   "execution_count": null,
   "id": "a49e8f3a",
   "metadata": {},
   "outputs": [],
   "source": [
    "# check the labels:"
   ]
  }
 ],
 "metadata": {
  "kernelspec": {
   "display_name": "venv (3.11.13)",
   "language": "python",
   "name": "python3"
  },
  "language_info": {
   "codemirror_mode": {
    "name": "ipython",
    "version": 3
   },
   "file_extension": ".py",
   "mimetype": "text/x-python",
   "name": "python",
   "nbconvert_exporter": "python",
   "pygments_lexer": "ipython3",
   "version": "3.11.13"
  }
 },
 "nbformat": 4,
 "nbformat_minor": 5
}
