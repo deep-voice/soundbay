{
 "cells": [
  {
   "cell_type": "markdown",
   "id": "5f691747-ca51-4268-94c6-12e9bca7b33e",
   "metadata": {},
   "source": [
    "## Spectrogram Visualizer\n",
    "The following notebook enables one to visualize the spectrogram he/she will get during trainig. This code aims to mimic the \"getitem\" functionalities, and show the spectrogram the model gets"
   ]
  },
  {
   "cell_type": "code",
   "execution_count": null,
   "id": "7c95bfbd-52de-4bed-bf9e-eac701193e1e",
   "metadata": {},
   "outputs": [],
   "source": [
    "import sys\n",
    "from pathlib import Path\n",
    "import yaml\n",
    "from omegaconf import OmegaConf\n",
    "import matplotlib.pyplot as plt\n",
    "from pprint import pprint\n",
    "import torch\n",
    "import librosa.display\n",
    "\n",
    "\n",
    "sys.path.append('..')"
   ]
  },
  {
   "cell_type": "code",
   "execution_count": null,
   "id": "826d70f7-d8fa-4d87-9c66-e3c483877a76",
   "metadata": {},
   "outputs": [],
   "source": [
    "from soundbay.data import NoBackGroundDataset"
   ]
  },
  {
   "cell_type": "code",
   "execution_count": null,
   "id": "8c160d06-1b58-4c83-bdf4-207b4558e13f",
   "metadata": {},
   "outputs": [],
   "source": [
    "## utils\n",
    "\n",
    "class DotDictWrapper:\n",
    "    \"\"\"\n",
    "    d['key']==d.key\n",
    "    \"\"\"\n",
    "    def __init__(self, d):\n",
    "        self._dict = d\n",
    "\n",
    "    def __getattr__(self, name):\n",
    "        if name in self._dict:\n",
    "            return self._dict[name]\n",
    "        else:\n",
    "            raise AttributeError(f\"'{type(self).__name__}' object has no attribute '{name}'\")\n",
    "\n",
    "    def __getitem__(self, key):\n",
    "        return self._dict[key]"
   ]
  },
  {
   "cell_type": "markdown",
   "id": "29566fbd-f0a3-4283-b311-be86075ac8c9",
   "metadata": {},
   "source": [
    "### Your params here"
   ]
  },
  {
   "cell_type": "code",
   "execution_count": null,
   "id": "1eadbf73-6799-4aef-8744-1493a47528d2",
   "metadata": {},
   "outputs": [],
   "source": [
    "DATA_PATH = '../datasets/fb_vt/data_48kHz/'\n",
    "METADATA_PATH = '../datasets/fb_vt/train.csv'\n",
    "\n",
    "# load augmentation and preprocessors - you can choose what yaml file to load by changing the path below\n",
    "with open('../soundbay/conf/preprocessors/_mel_preprocessors.yaml', 'r') as file:\n",
    "    preprocessors = yaml.safe_load(file)\n",
    "with open('../soundbay/conf/augmentations/_augmentations.yaml', 'r') as file:\n",
    "    augmentations = yaml.safe_load(file)\n",
    "with open('../soundbay/conf/data/fb_vt.yaml', 'r') as file:\n",
    "    data = yaml.safe_load(file)\n",
    "    \n",
    "data = data['data']\n",
    "preprocessors=preprocessors['_preprocessors']\n",
    "augmentations = augmentations['_augmentations']"
   ]
  },
  {
   "cell_type": "code",
   "execution_count": null,
   "id": "c355bf8a-6987-4654-bf14-d48c154ae48c",
   "metadata": {},
   "outputs": [],
   "source": [
    "pprint(data)"
   ]
  },
  {
   "cell_type": "code",
   "execution_count": null,
   "id": "01d1f5b9-2c20-43cf-9143-ac9890cc6a16",
   "metadata": {},
   "outputs": [],
   "source": [
    "## you can tune the parameters from here, or you can change them in the yaml files and then load again\n",
    "print(f\"before: {data['data_sample_rate']}\")\n",
    "data['data_sample_rate'] = 48000\n",
    "print(f\"after: {data['data_sample_rate']}\")\n",
    "# data['n_fft'] = 512\n",
    "data['hop_length'] = 128"
   ]
  },
  {
   "cell_type": "code",
   "execution_count": null,
   "id": "c175af08-55b0-406f-a5ab-301ff6e773bf",
   "metadata": {},
   "outputs": [],
   "source": [
    "aggr_conf = OmegaConf.create({'data':data, 'preprocessors':preprocessors, 'augmentations':augmentations})"
   ]
  },
  {
   "cell_type": "code",
   "execution_count": null,
   "id": "6736a059-e283-429d-93cf-87e8f3f31ad5",
   "metadata": {},
   "outputs": [],
   "source": [
    "cfg = DotDictWrapper({\n",
    "    'data_path': DATA_PATH,\n",
    "    'metadata_path': METADATA_PATH,\n",
    "    'augmentations': aggr_conf.augmentations,\n",
    "    'augmentations_p': aggr_conf.data.train_dataset.augmentations_p,\n",
    "    'preprocessors': aggr_conf.preprocessors,\n",
    "    'seq_length': aggr_conf.data.train_dataset.seq_length,\n",
    "    'data_sample_rate': aggr_conf.data.data_sample_rate,\n",
    "    'sample_rate': aggr_conf.data.sample_rate,\n",
    "    'mode': \"train\",\n",
    "    'slice_flag': False,\n",
    "    'margin_ratio': 0,\n",
    "    'split_metadata_by_label': False,\n",
    "})\n",
    "\n",
    "# cfg_val = ... \n",
    "\n",
    "# initiate the dataset\n",
    "\n",
    "dataset_train = NoBackGroundDataset(cfg.data_path, cfg.metadata_path, cfg.augmentations, cfg.augmentations_p, cfg.preprocessors,\n",
    "                 cfg.seq_length, cfg.data_sample_rate, cfg.sample_rate, cfg.mode,\n",
    "                 cfg.slice_flag, cfg.margin_ratio, cfg.split_metadata_by_label)"
   ]
  },
  {
   "cell_type": "code",
   "execution_count": null,
   "id": "93f9dd77-38c2-42cd-a337-6353bb395152",
   "metadata": {},
   "outputs": [],
   "source": [
    "dataset_train.metadata.head()"
   ]
  },
  {
   "cell_type": "markdown",
   "id": "e826e194-9407-451a-9249-2679d4fdc154",
   "metadata": {},
   "source": [
    "___\n",
    "---"
   ]
  },
  {
   "cell_type": "markdown",
   "id": "1189c848-2748-495b-8954-7262b05b1e0e",
   "metadata": {},
   "source": [
    "### Functionalities from getitem"
   ]
  },
  {
   "cell_type": "code",
   "execution_count": null,
   "id": "f17e0e01-6a87-4b2f-8ef8-59598f1ef3b4",
   "metadata": {},
   "outputs": [],
   "source": [
    "\"\"\"\n",
    "__getitem__ method loads item according to idx from the metadata\n",
    "path_to_file, begin_time, end_time, label, channel = self._grab_fields(idx)\n",
    "audio = self._get_audio(path_to_file, begin_time, end_time, label, channel)\n",
    "audio_raw = self.sampler(audio)\n",
    "audio_augmented = self.augment(audio_raw)\n",
    "audio_processed = self.preprocessor(audio_augmented)\n",
    "\"\"\""
   ]
  },
  {
   "cell_type": "code",
   "execution_count": null,
   "id": "d5616ab6-a34a-49c6-be07-d255c7e743df",
   "metadata": {},
   "outputs": [],
   "source": [
    "def show_spectrogram(audio_processed, title, label):\n",
    "    plt.figure()\n",
    "    librosa.display.specshow(audio_processed)\n",
    "    plt.title(f\"{str(title)} label: {label}\")\n",
    "    plt.show()"
   ]
  },
  {
   "cell_type": "code",
   "execution_count": null,
   "id": "1ac0949b-60c8-4673-80da-4f9219261ae2",
   "metadata": {},
   "outputs": [],
   "source": [
    "indices_to_check = [1,10,20, 40, 50, 60, 80]"
   ]
  },
  {
   "cell_type": "code",
   "execution_count": null,
   "id": "9022260f-6d8a-4d84-baf3-9882b69891ee",
   "metadata": {},
   "outputs": [],
   "source": [
    "for idx in indices_to_check:\n",
    "    path_to_file, begin_time, end_time, label, channel = dataset_train._grab_fields(idx)\n",
    "    audio = dataset_train._get_audio(path_to_file, begin_time, end_time, label, channel)\n",
    "    print(f\"audio.shape: {audio.shape}\")\n",
    "    audio_raw = dataset_train.sampler(audio)\n",
    "    print(f\"audio_raw.shape: {audio_raw.shape}\")\n",
    "    audio_augmented = dataset_train.augment(audio_raw)\n",
    "    print(f\"audio_augmented.shape: {audio_augmented.shape}\")\n",
    "    audio_processed = dataset_train.preprocessor(audio_augmented)\n",
    "    print(f\"audio_processed.shape: {audio_processed.shape}\")\n",
    "    \n",
    "    audio_processed = audio_processed.squeeze().cpu().numpy()\n",
    "    show_spectrogram(audio_processed, title=path_to_file, label=label)"
   ]
  },
  {
   "cell_type": "code",
   "execution_count": null,
   "id": "24dec74e-79e8-4a53-8c23-27e1be809f8b",
   "metadata": {},
   "outputs": [],
   "source": []
  }
 ],
 "metadata": {
  "kernelspec": {
   "display_name": "Python 3 (ipykernel)",
   "language": "python",
   "name": "python3"
  },
  "language_info": {
   "codemirror_mode": {
    "name": "ipython",
    "version": 3
   },
   "file_extension": ".py",
   "mimetype": "text/x-python",
   "name": "python",
   "nbconvert_exporter": "python",
   "pygments_lexer": "ipython3",
   "version": "3.8.10"
  }
 },
 "nbformat": 4,
 "nbformat_minor": 5
}
