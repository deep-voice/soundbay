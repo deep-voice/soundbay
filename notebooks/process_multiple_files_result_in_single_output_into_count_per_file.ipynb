{
 "cells": [
  {
   "cell_type": "code",
   "execution_count": 1,
   "id": "25b38aa5",
   "metadata": {},
   "outputs": [],
   "source": [
    "import pandas as pd\n",
    "from glob import glob"
   ]
  },
  {
   "cell_type": "code",
   "execution_count": null,
   "id": "89fd4570",
   "metadata": {},
   "outputs": [],
   "source": [
    "def merge_ravens(outputs_dir:str=\"/Users/shai/personal/deepvoice/amber/results_dec4/outputs/500_test2_amber\"):\n",
    "    d = {}\n",
    "    for file in glob(outputs_dir):\n",
    "        typ = file.split('-')[-1].split(\".\")[0]\n",
    "        org_file = file.split('-')[0]\n",
    "        \n",
    "        df = pd.read_csv(file, sep='\\t')\n",
    "        if \"bark\" in typ:\n",
    "            df['High Freq (Hz)'] = 3000\n",
    "        else:\n",
    "            df['Low Freq (Hz)'] = 1000\n",
    "        \n",
    "        if org_file in d.keys():\n",
    "            d[org_file] = pd.concat([d[org_file], df], axis=1)\n",
    "        else:\n",
    "            d[org_file] = df"
   ]
  },
  {
   "cell_type": "code",
   "execution_count": 2,
   "id": "0fcc5fd1",
   "metadata": {},
   "outputs": [],
   "source": [
    "def add_data_to_df(df, name):\n",
    "    final = pd.DataFrame()\n",
    "    th = {\n",
    "        'whistle': 0.5,\n",
    "        'barks': 0.1,\n",
    "        'buzz': 0.8,\n",
    "        'echo': 0.9\n",
    "    }[name]\n",
    "    names, counts = [], []\n",
    "    per_file = df.groupby('filename')\n",
    "    for name_g, g in per_file:\n",
    "        calls = g[name] > th\n",
    "        names.append(name_g)\n",
    "        counts.append(calls.value_counts().get(True, 0))\n",
    "    final['filename'] = names\n",
    "    final[f'count_{name}'] = counts\n",
    "    return final\n"
   ]
  },
  {
   "cell_type": "code",
   "execution_count": 3,
   "id": "81bc4607",
   "metadata": {},
   "outputs": [
    {
     "name": "stderr",
     "output_type": "stream",
     "text": [
      "/Users/shai/personal/deepvoice/soundbay/.env_dv/lib/python3.7/site-packages/ipykernel_launcher.py:4: FutureWarning: The default value of regex will change from True to False in a future version.\n",
      "  after removing the cwd from sys.path.\n"
     ]
    }
   ],
   "source": [
    "dfs = []\n",
    "for file in glob('/Users/shai//personal/deepvoice/amber/results_dec4/outputs/barks_test1/*.csv'):\n",
    "    df = pd.read_csv(file)\n",
    "    df['filename'] = df['filename'].str.split('/').str[-1].str.replace('.wav','')\n",
    "    \n",
    "    name = file.split('-500')[0].split('_')[-1]\n",
    "    if '4af2w6lt' in file:\n",
    "        name = \"barks\"\n",
    "    dfs.append(add_data_to_df(df, name))"
   ]
  },
  {
   "cell_type": "code",
   "execution_count": 4,
   "id": "725f4abe",
   "metadata": {},
   "outputs": [
    {
     "data": {
      "text/html": [
       "<div>\n",
       "<style scoped>\n",
       "    .dataframe tbody tr th:only-of-type {\n",
       "        vertical-align: middle;\n",
       "    }\n",
       "\n",
       "    .dataframe tbody tr th {\n",
       "        vertical-align: top;\n",
       "    }\n",
       "\n",
       "    .dataframe thead th {\n",
       "        text-align: right;\n",
       "    }\n",
       "</style>\n",
       "<table border=\"1\" class=\"dataframe\">\n",
       "  <thead>\n",
       "    <tr style=\"text-align: right;\">\n",
       "      <th></th>\n",
       "      <th>filename</th>\n",
       "      <th>count_barks_x</th>\n",
       "      <th>count_barks_y</th>\n",
       "      <th>count_barks</th>\n",
       "    </tr>\n",
       "  </thead>\n",
       "  <tbody>\n",
       "    <tr>\n",
       "      <th>0</th>\n",
       "      <td>6423.211103000010</td>\n",
       "      <td>0</td>\n",
       "      <td>0</td>\n",
       "      <td>0</td>\n",
       "    </tr>\n",
       "    <tr>\n",
       "      <th>1</th>\n",
       "      <td>6423.211103002010</td>\n",
       "      <td>0</td>\n",
       "      <td>0</td>\n",
       "      <td>0</td>\n",
       "    </tr>\n",
       "    <tr>\n",
       "      <th>2</th>\n",
       "      <td>6423.211103004010</td>\n",
       "      <td>1</td>\n",
       "      <td>1</td>\n",
       "      <td>0</td>\n",
       "    </tr>\n",
       "    <tr>\n",
       "      <th>3</th>\n",
       "      <td>6423.211103010010</td>\n",
       "      <td>1</td>\n",
       "      <td>1</td>\n",
       "      <td>0</td>\n",
       "    </tr>\n",
       "    <tr>\n",
       "      <th>4</th>\n",
       "      <td>6423.211103012010</td>\n",
       "      <td>1</td>\n",
       "      <td>1</td>\n",
       "      <td>0</td>\n",
       "    </tr>\n",
       "    <tr>\n",
       "      <th>...</th>\n",
       "      <td>...</td>\n",
       "      <td>...</td>\n",
       "      <td>...</td>\n",
       "      <td>...</td>\n",
       "    </tr>\n",
       "    <tr>\n",
       "      <th>495</th>\n",
       "      <td>6423.211109210010</td>\n",
       "      <td>0</td>\n",
       "      <td>0</td>\n",
       "      <td>0</td>\n",
       "    </tr>\n",
       "    <tr>\n",
       "      <th>496</th>\n",
       "      <td>6423.211109212010</td>\n",
       "      <td>0</td>\n",
       "      <td>0</td>\n",
       "      <td>0</td>\n",
       "    </tr>\n",
       "    <tr>\n",
       "      <th>497</th>\n",
       "      <td>6423.211109214010</td>\n",
       "      <td>1</td>\n",
       "      <td>1</td>\n",
       "      <td>0</td>\n",
       "    </tr>\n",
       "    <tr>\n",
       "      <th>498</th>\n",
       "      <td>6423.211109220010</td>\n",
       "      <td>1</td>\n",
       "      <td>1</td>\n",
       "      <td>0</td>\n",
       "    </tr>\n",
       "    <tr>\n",
       "      <th>499</th>\n",
       "      <td>6423.211109222010</td>\n",
       "      <td>0</td>\n",
       "      <td>0</td>\n",
       "      <td>0</td>\n",
       "    </tr>\n",
       "  </tbody>\n",
       "</table>\n",
       "<p>500 rows × 4 columns</p>\n",
       "</div>"
      ],
      "text/plain": [
       "              filename  count_barks_x  count_barks_y  count_barks\n",
       "0    6423.211103000010              0              0            0\n",
       "1    6423.211103002010              0              0            0\n",
       "2    6423.211103004010              1              1            0\n",
       "3    6423.211103010010              1              1            0\n",
       "4    6423.211103012010              1              1            0\n",
       "..                 ...            ...            ...          ...\n",
       "495  6423.211109210010              0              0            0\n",
       "496  6423.211109212010              0              0            0\n",
       "497  6423.211109214010              1              1            0\n",
       "498  6423.211109220010              1              1            0\n",
       "499  6423.211109222010              0              0            0\n",
       "\n",
       "[500 rows x 4 columns]"
      ]
     },
     "execution_count": 4,
     "metadata": {},
     "output_type": "execute_result"
    }
   ],
   "source": [
    "final = dfs[0]\n",
    "for d in dfs:\n",
    "    final = pd.merge(final, d, on=\"filename\", how=\"outer\")\n",
    "final"
   ]
  },
  {
   "cell_type": "code",
   "execution_count": 5,
   "id": "a2f9c7a6",
   "metadata": {},
   "outputs": [],
   "source": [
    "# final = final[['filename','count_whistle','count_whistle_x','count_barks','count_echo','count_buzz']] "
   ]
  },
  {
   "cell_type": "code",
   "execution_count": 6,
   "id": "b3ceb459",
   "metadata": {},
   "outputs": [],
   "source": [
    "final.to_excel('/Users/shai/personal/deepvoice/amber/results_dec4/amber_results_additional_barks_test1.xlsx', index=False)"
   ]
  }
 ],
 "metadata": {
  "kernelspec": {
   "display_name": "Python 3 (ipykernel)",
   "language": "python",
   "name": "python3"
  },
  "language_info": {
   "codemirror_mode": {
    "name": "ipython",
    "version": 3
   },
   "file_extension": ".py",
   "mimetype": "text/x-python",
   "name": "python",
   "nbconvert_exporter": "python",
   "pygments_lexer": "ipython3",
   "version": "3.7.4"
  }
 },
 "nbformat": 4,
 "nbformat_minor": 5
}
