{
 "cells": [
  {
   "cell_type": "code",
   "execution_count": 10,
   "id": "c180c787",
   "metadata": {},
   "outputs": [],
   "source": [
    "import pandas as pd\n",
    "import os\n",
    "import glob"
   ]
  },
  {
   "cell_type": "code",
   "execution_count": 4,
   "id": "ce2daf29",
   "metadata": {},
   "outputs": [],
   "source": [
    "dirs = [\"buzz_oct26\", \"barks_old_oct26\", \"whistle_oct26\", \"echo_oct26\"]\n",
    "types = [\"buzz\", \"barks\", \"whistle\", \"echo\"]\n",
    "base_path = '/Users/shai/personal/deepvoice/amber/results_oct26/'"
   ]
  },
  {
   "cell_type": "code",
   "execution_count": 38,
   "id": "73adfe61",
   "metadata": {},
   "outputs": [],
   "source": [
    "final = pd.DataFrame()\n",
    "for u, (typ, d) in enumerate(zip(types, dirs)):\n",
    "    tmp_df = pd.read_csv(os.path.join(base_path, d, f\"total_{typ}_oct_26.csv\"))\n",
    "    tmp_df = tmp_df.astype({\"filename\": \"str\"})\n",
    "    tmp_df[\"filename\"] = tmp_df[\"filename\"].str.split('6423.').str[-1].str[:10]\n",
    "    if u==0:\n",
    "        final = tmp_df\n",
    "    else:\n",
    "        final = final.merge(tmp_df, on=\"filename\", how=\"inner\")\n",
    "        \n",
    "final = final.sort_values(by=\"filename\")"
   ]
  },
  {
   "cell_type": "code",
   "execution_count": 51,
   "id": "2857d63f",
   "metadata": {},
   "outputs": [],
   "source": [
    "final = final.drop_duplicates()\n",
    "final = final.rename(columns={\"barks\": \"count_barks\"})"
   ]
  },
  {
   "cell_type": "code",
   "execution_count": 52,
   "id": "a8451e1f",
   "metadata": {},
   "outputs": [],
   "source": [
    "final = final[[\"filename\", \"count_barks\", \"count_buzz\", \"count_whistle\", \"count_echo\"]]"
   ]
  },
  {
   "cell_type": "code",
   "execution_count": 54,
   "id": "d17a3fb3",
   "metadata": {},
   "outputs": [
    {
     "data": {
      "text/plain": [
       "filename         2111030000211103002021110300402111030100211103...\n",
       "count_barks                                                    493\n",
       "count_buzz                                                      22\n",
       "count_whistle                                                  441\n",
       "count_echo                                                     526\n",
       "dtype: object"
      ]
     },
     "execution_count": 54,
     "metadata": {},
     "output_type": "execute_result"
    }
   ],
   "source": []
  }
 ],
 "metadata": {
  "kernelspec": {
   "display_name": "Python 3 (ipykernel)",
   "language": "python",
   "name": "python3"
  },
  "language_info": {
   "codemirror_mode": {
    "name": "ipython",
    "version": 3
   },
   "file_extension": ".py",
   "mimetype": "text/x-python",
   "name": "python",
   "nbconvert_exporter": "python",
   "pygments_lexer": "ipython3",
   "version": "3.7.4"
  }
 },
 "nbformat": 4,
 "nbformat_minor": 5
}
