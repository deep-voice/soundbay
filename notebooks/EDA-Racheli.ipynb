{
 "cells": [
  {
   "cell_type": "code",
   "execution_count": 1,
   "metadata": {},
   "outputs": [],
   "source": [
    "import os\n",
    "import numpy as np\n",
    "import matplotlib.pyplot as plt\n",
    "import pandas as pd\n",
    "import soundfile as sf\n",
    "import re\n",
    "import json\n",
    "from glob import glob\n",
    "import seaborn as sns\n",
    "import itertools"
   ]
  },
  {
   "cell_type": "markdown",
   "metadata": {},
   "source": [
    "## Annotation DB"
   ]
  },
  {
   "cell_type": "markdown",
   "metadata": {},
   "source": [
    "### define paths for annotations and audio files"
   ]
  },
  {
   "cell_type": "code",
   "execution_count": 2,
   "metadata": {},
   "outputs": [
    {
     "data": {
      "text/plain": [
       "['/Users/shai/personal/deepvoice/Fish_Rach/Data/Fish_Racheli-jul10-confidence/2up_20231114_0000_to_0019.Table.1.selections_fish.txt2.txt',\n",
       " '/Users/shai/personal/deepvoice/Fish_Rach/Data/Fish_Racheli-jul10-confidence/1up_20231114_000100to00090.Table.1.selections_0001_0009RacheliKalian.txt',\n",
       " '/Users/shai/personal/deepvoice/Fish_Rach/Data/Fish_Racheli-jul10-confidence/1up_20231114_0000_to_0009.Table.1.selections_fish.txt',\n",
       " '/Users/shai/personal/deepvoice/Fish_Rach/Data/Fish_Racheli-jul10-confidence/1up_20231114_0600_to_0609_confidence.Table.1.selections.txt',\n",
       " '/Users/shai/personal/deepvoice/Fish_Rach/Data/Fish_Racheli-jul10-confidence/10up_20231114_000000.Table.1.selections 00.00.txt final.txt',\n",
       " '/Users/shai/personal/deepvoice/Fish_Rach/Data/Fish_Racheli-jul10-confidence/20up_20231114_060000.Table.1.selections.txt',\n",
       " '/Users/shai/personal/deepvoice/Fish_Rach/Data/Fish_Racheli-jul10-confidence/7up_20231114_000000.Table.1.selectionsknoll7.txt',\n",
       " '/Users/shai/personal/deepvoice/Fish_Rach/Data/Fish_Racheli-jul10-confidence/2up_20231114_060000_to_06090.Table.1.selections_fish.txt',\n",
       " '/Users/shai/personal/deepvoice/Fish_Rach/Data/Fish_Racheli-jul10-confidence/10up_20231114_060000.Table.1.selections.txt final.txt']"
      ]
     },
     "execution_count": 2,
     "metadata": {},
     "output_type": "execute_result"
    }
   ],
   "source": [
    "PATH_TO_FILES = \"/Users/shai/personal/deepvoice/Fish_Rach/Data/Fish_Racheli-jul10-confidence/\"\n",
    "\n",
    "files_list = list(glob(PATH_TO_FILES+'*.txt')) # ignore irrelevent files\n",
    "files_list"
   ]
  },
  {
   "cell_type": "markdown",
   "metadata": {},
   "source": [
    "### parse .txt file into pandas df"
   ]
  },
  {
   "cell_type": "code",
   "execution_count": 3,
   "metadata": {},
   "outputs": [
    {
     "name": "stdout",
     "output_type": "stream",
     "text": [
      "length: 1019 for file: /Users/shai/personal/deepvoice/Fish_Rach/Data/Fish_Racheli-jul10-confidence/2up_20231114_0000_to_0019.Table.1.selections_fish.txt2.txt\n",
      "length: 809 for file: /Users/shai/personal/deepvoice/Fish_Rach/Data/Fish_Racheli-jul10-confidence/1up_20231114_000100to00090.Table.1.selections_0001_0009RacheliKalian.txt\n",
      "length: 732 for file: /Users/shai/personal/deepvoice/Fish_Rach/Data/Fish_Racheli-jul10-confidence/1up_20231114_0000_to_0009.Table.1.selections_fish.txt\n",
      "length: 1625 for file: /Users/shai/personal/deepvoice/Fish_Rach/Data/Fish_Racheli-jul10-confidence/1up_20231114_0600_to_0609_confidence.Table.1.selections.txt\n",
      "length: 101 for file: /Users/shai/personal/deepvoice/Fish_Rach/Data/Fish_Racheli-jul10-confidence/10up_20231114_000000.Table.1.selections 00.00.txt final.txt\n",
      "length: 401 for file: /Users/shai/personal/deepvoice/Fish_Rach/Data/Fish_Racheli-jul10-confidence/20up_20231114_060000.Table.1.selections.txt\n",
      "length: 215 for file: /Users/shai/personal/deepvoice/Fish_Rach/Data/Fish_Racheli-jul10-confidence/7up_20231114_000000.Table.1.selectionsknoll7.txt\n",
      "length: 713 for file: /Users/shai/personal/deepvoice/Fish_Rach/Data/Fish_Racheli-jul10-confidence/2up_20231114_060000_to_06090.Table.1.selections_fish.txt\n",
      "length: 218 for file: /Users/shai/personal/deepvoice/Fish_Rach/Data/Fish_Racheli-jul10-confidence/10up_20231114_060000.Table.1.selections.txt final.txt\n",
      "\n",
      " Selection                       5833\n",
      "View                            5833\n",
      "Channel                         5833\n",
      "Begin Time (s)                  5833\n",
      "End Time (s)                    5833\n",
      "Low Freq (Hz)                   5833\n",
      "High Freq (Hz)                  5833\n",
      "Delta Time (s)                  5833\n",
      "Delta Freq (Hz)                 5833\n",
      "Avg Power Density (dB FS/Hz)    5833\n",
      "Annotation                      4744\n",
      "annotation_source               5833\n",
      "dtype: int64\n"
     ]
    },
    {
     "data": {
      "text/html": [
       "<div>\n",
       "<style scoped>\n",
       "    .dataframe tbody tr th:only-of-type {\n",
       "        vertical-align: middle;\n",
       "    }\n",
       "\n",
       "    .dataframe tbody tr th {\n",
       "        vertical-align: top;\n",
       "    }\n",
       "\n",
       "    .dataframe thead th {\n",
       "        text-align: right;\n",
       "    }\n",
       "</style>\n",
       "<table border=\"1\" class=\"dataframe\">\n",
       "  <thead>\n",
       "    <tr style=\"text-align: right;\">\n",
       "      <th></th>\n",
       "      <th>Selection</th>\n",
       "      <th>View</th>\n",
       "      <th>Channel</th>\n",
       "      <th>Begin Time (s)</th>\n",
       "      <th>End Time (s)</th>\n",
       "      <th>Low Freq (Hz)</th>\n",
       "      <th>High Freq (Hz)</th>\n",
       "      <th>Delta Time (s)</th>\n",
       "      <th>Delta Freq (Hz)</th>\n",
       "      <th>Avg Power Density (dB FS/Hz)</th>\n",
       "      <th>Annotation</th>\n",
       "      <th>annotation_source</th>\n",
       "    </tr>\n",
       "  </thead>\n",
       "  <tbody>\n",
       "    <tr>\n",
       "      <th>0</th>\n",
       "      <td>1</td>\n",
       "      <td>Spectrogram 1</td>\n",
       "      <td>1</td>\n",
       "      <td>5.434998</td>\n",
       "      <td>5.444576</td>\n",
       "      <td>0.0</td>\n",
       "      <td>861.035</td>\n",
       "      <td>0.0096</td>\n",
       "      <td>861.035</td>\n",
       "      <td>-28.08</td>\n",
       "      <td>1</td>\n",
       "      <td>/Users/shai/personal/deepvoice/Fish_Rach/Data/...</td>\n",
       "    </tr>\n",
       "    <tr>\n",
       "      <th>1</th>\n",
       "      <td>2</td>\n",
       "      <td>Spectrogram 1</td>\n",
       "      <td>1</td>\n",
       "      <td>5.449800</td>\n",
       "      <td>5.458507</td>\n",
       "      <td>0.0</td>\n",
       "      <td>769.640</td>\n",
       "      <td>0.0087</td>\n",
       "      <td>769.640</td>\n",
       "      <td>-33.30</td>\n",
       "      <td>1</td>\n",
       "      <td>/Users/shai/personal/deepvoice/Fish_Rach/Data/...</td>\n",
       "    </tr>\n",
       "    <tr>\n",
       "      <th>2</th>\n",
       "      <td>3</td>\n",
       "      <td>Spectrogram 1</td>\n",
       "      <td>1</td>\n",
       "      <td>5.468085</td>\n",
       "      <td>5.476793</td>\n",
       "      <td>0.0</td>\n",
       "      <td>779.261</td>\n",
       "      <td>0.0087</td>\n",
       "      <td>779.261</td>\n",
       "      <td>-38.53</td>\n",
       "      <td>2</td>\n",
       "      <td>/Users/shai/personal/deepvoice/Fish_Rach/Data/...</td>\n",
       "    </tr>\n",
       "    <tr>\n",
       "      <th>3</th>\n",
       "      <td>5</td>\n",
       "      <td>Spectrogram 1</td>\n",
       "      <td>1</td>\n",
       "      <td>7.579577</td>\n",
       "      <td>7.593508</td>\n",
       "      <td>0.0</td>\n",
       "      <td>764.830</td>\n",
       "      <td>0.0139</td>\n",
       "      <td>764.830</td>\n",
       "      <td>-44.77</td>\n",
       "      <td>2</td>\n",
       "      <td>/Users/shai/personal/deepvoice/Fish_Rach/Data/...</td>\n",
       "    </tr>\n",
       "    <tr>\n",
       "      <th>4</th>\n",
       "      <td>6</td>\n",
       "      <td>Spectrogram 1</td>\n",
       "      <td>1</td>\n",
       "      <td>7.818155</td>\n",
       "      <td>7.826862</td>\n",
       "      <td>0.0</td>\n",
       "      <td>750.399</td>\n",
       "      <td>0.0087</td>\n",
       "      <td>750.399</td>\n",
       "      <td>-43.56</td>\n",
       "      <td>2</td>\n",
       "      <td>/Users/shai/personal/deepvoice/Fish_Rach/Data/...</td>\n",
       "    </tr>\n",
       "  </tbody>\n",
       "</table>\n",
       "</div>"
      ],
      "text/plain": [
       "   Selection           View  Channel  Begin Time (s)  End Time (s)  \\\n",
       "0          1  Spectrogram 1        1        5.434998      5.444576   \n",
       "1          2  Spectrogram 1        1        5.449800      5.458507   \n",
       "2          3  Spectrogram 1        1        5.468085      5.476793   \n",
       "3          5  Spectrogram 1        1        7.579577      7.593508   \n",
       "4          6  Spectrogram 1        1        7.818155      7.826862   \n",
       "\n",
       "   Low Freq (Hz)  High Freq (Hz)  Delta Time (s)  Delta Freq (Hz)  \\\n",
       "0            0.0         861.035          0.0096          861.035   \n",
       "1            0.0         769.640          0.0087          769.640   \n",
       "2            0.0         779.261          0.0087          779.261   \n",
       "3            0.0         764.830          0.0139          764.830   \n",
       "4            0.0         750.399          0.0087          750.399   \n",
       "\n",
       "   Avg Power Density (dB FS/Hz) Annotation  \\\n",
       "0                        -28.08          1   \n",
       "1                        -33.30          1   \n",
       "2                        -38.53          2   \n",
       "3                        -44.77          2   \n",
       "4                        -43.56          2   \n",
       "\n",
       "                                   annotation_source  \n",
       "0  /Users/shai/personal/deepvoice/Fish_Rach/Data/...  \n",
       "1  /Users/shai/personal/deepvoice/Fish_Rach/Data/...  \n",
       "2  /Users/shai/personal/deepvoice/Fish_Rach/Data/...  \n",
       "3  /Users/shai/personal/deepvoice/Fish_Rach/Data/...  \n",
       "4  /Users/shai/personal/deepvoice/Fish_Rach/Data/...  "
      ]
     },
     "execution_count": 3,
     "metadata": {},
     "output_type": "execute_result"
    }
   ],
   "source": [
    "## read every tags file into a dataframe and concatenate them all into \"all_data\" df\n",
    "\n",
    "all_data = pd.DataFrame()\n",
    "for file in files_list:\n",
    "    tmp_file = pd.read_csv(os.path.join(PATH_TO_FILES, file), sep=\"\\t\", on_bad_lines='skip')\n",
    "    tmp_file['annotation_source'] = file.replace('.txt', '')\n",
    "    print(f'length: {len(tmp_file)} for file: {file}')\n",
    "    all_data = all_data.append(tmp_file, ignore_index=True)\n",
    "print('\\n',all_data.count())\n",
    "all_data.head()"
   ]
  },
  {
   "cell_type": "code",
   "execution_count": 4,
   "metadata": {},
   "outputs": [
    {
     "data": {
      "text/plain": [
       "2                  2535\n",
       "1                  1408\n",
       "f                   521\n",
       "t                   112\n",
       "1                    78\n",
       "un                   58\n",
       "2                    23\n",
       "c                     7\n",
       "Dolphin clicks?       1\n",
       "4                     1\n",
       "Name: Annotation, dtype: int64"
      ]
     },
     "execution_count": 4,
     "metadata": {},
     "output_type": "execute_result"
    }
   ],
   "source": [
    "all_data['Annotation'].value_counts()"
   ]
  },
  {
   "cell_type": "code",
   "execution_count": 5,
   "metadata": {},
   "outputs": [
    {
     "data": {
      "text/plain": [
       "unknown    4347\n",
       "fish       1486\n",
       "Name: Annotation, dtype: int64"
      ]
     },
     "execution_count": 5,
     "metadata": {},
     "output_type": "execute_result"
    }
   ],
   "source": [
    "def labels_alignment_old(s):  # the function we used with tagging method#1\n",
    "    if s==\"t\" or s==\"un\" or s==\"c\": # \"t\" for train (chain-like) or \"un\" for unknown\n",
    "        return \"unknown\"  # to avoid taking the noise there\n",
    "    else:\n",
    "        return \"fish\"\n",
    "    \n",
    "def labels_alignment(s):  # the function we're using for tagging method that includes confidence level\n",
    "    if \"1\" in str(s):\n",
    "        return \"fish\"\n",
    "    return \"unknown\"\n",
    "\n",
    "all_data['Annotation'] = all_data['Annotation'].apply(labels_alignment)\n",
    "all_data['Annotation'].value_counts()"
   ]
  },
  {
   "cell_type": "code",
   "execution_count": 6,
   "metadata": {},
   "outputs": [
    {
     "name": "stderr",
     "output_type": "stream",
     "text": [
      "/Users/shai/personal/deepvoice/soundbay/.env_dv/lib/python3.7/site-packages/ipykernel_launcher.py:12: SettingWithCopyWarning: \n",
      "A value is trying to be set on a copy of a slice from a DataFrame.\n",
      "Try using .loc[row_indexer,col_indexer] = value instead\n",
      "\n",
      "See the caveats in the documentation: https://pandas.pydata.org/pandas-docs/stable/user_guide/indexing.html#returning-a-view-versus-a-copy\n",
      "  if sys.path[0] == \"\":\n"
     ]
    },
    {
     "data": {
      "text/plain": [
       "begin_time           5833\n",
       "end_time             5833\n",
       "length               5833\n",
       "low_freq             5833\n",
       "high_freq            5833\n",
       "label                5833\n",
       "annotation_source    5833\n",
       "filename             5833\n",
       "dtype: int64"
      ]
     },
     "execution_count": 6,
     "metadata": {},
     "output_type": "execute_result"
    }
   ],
   "source": [
    "# keep only the most important fields and change the names to match the desired notation\n",
    "most_important_fields = {'Begin Time (s)': 'begin_time',\n",
    "                         'End Time (s)': 'end_time',\n",
    "                         'Delta Time (s)': 'length',\n",
    "                         'Low Freq (Hz)': 'low_freq',\n",
    "                         'High Freq (Hz)': 'high_freq',\n",
    "                         'Annotation': 'label',\n",
    "                         'annotation_source': 'annotation_source',\n",
    "                        }\n",
    "df = all_data[most_important_fields.keys()]\n",
    "df.columns = list(most_important_fields.values())\n",
    "df['filename'] = df['annotation_source'].str.split('.').str[0]\n",
    "df.count()"
   ]
  },
  {
   "cell_type": "markdown",
   "metadata": {},
   "source": [
    "### analysis"
   ]
  },
  {
   "cell_type": "code",
   "execution_count": 7,
   "metadata": {},
   "outputs": [
    {
     "data": {
      "text/plain": [
       "unknown    4347\n",
       "fish       1486\n",
       "Name: label, dtype: int64"
      ]
     },
     "execution_count": 7,
     "metadata": {},
     "output_type": "execute_result"
    }
   ],
   "source": [
    "df['label'].value_counts()"
   ]
  },
  {
   "cell_type": "code",
   "execution_count": 8,
   "metadata": {},
   "outputs": [
    {
     "data": {
      "image/png": "[encoded data removed]",
      "text/plain": [
       "<Figure size 640x480 with 1 Axes>"
      ]
     },
     "metadata": {},
     "output_type": "display_data"
    },
    {
     "data": {
      "image/png": "[encoded data removed]",
      "text/plain": [
       "<Figure size 640x480 with 1 Axes>"
      ]
     },
     "metadata": {},
     "output_type": "display_data"
    },
    {
     "data": {
      "image/png": "[encoded data removed]",
      "text/plain": [
       "<Figure size 640x480 with 1 Axes>"
      ]
     },
     "metadata": {},
     "output_type": "display_data"
    },
    {
     "name": "stdout",
     "output_type": "stream",
     "text": [
      "31064.935\n"
     ]
    }
   ],
   "source": [
    "# frequencies\n",
    "df[\"high_freq\"].hist(bins=50, legend=True)\n",
    "df[\"low_freq\"].hist(bins=50, legend=True)\n",
    "plt.suptitle('Frequency histogram')\n",
    "plt.show()\n",
    "\n",
    "sns.histplot(df[['low_freq', 'label', 'high_freq']].reset_index(drop=True), x='low_freq', hue='label')\n",
    "plt.suptitle('Low Freq histogram per Type')\n",
    "plt.show()\n",
    "\n",
    "sns.histplot(df[['low_freq', 'label', 'high_freq']].reset_index(drop=True), x='high_freq', hue='label')\n",
    "plt.suptitle('High Freq histogram per Type')\n",
    "plt.show()\n",
    "\n",
    "print(max(df[\"high_freq\"]))"
   ]
  },
  {
   "cell_type": "code",
   "execution_count": 9,
   "metadata": {},
   "outputs": [
    {
     "data": {
      "image/png": "[encoded data removed]",
      "text/plain": [
       "<Figure size 500x400 with 1 Axes>"
      ]
     },
     "metadata": {},
     "output_type": "display_data"
    },
    {
     "data": {
      "image/png": "[encoded data removed]",
      "text/plain": [
       "<Figure size 640x480 with 1 Axes>"
      ]
     },
     "metadata": {},
     "output_type": "display_data"
    }
   ],
   "source": [
    "# lengths\n",
    "plt.figure(figsize=(5,4))\n",
    "plt.title('length histogram')\n",
    "plt.hist(df['length'], bins=40)\n",
    "plt.show()\n",
    "\n",
    "quantile_keys = np.arange(0, 1, 0.1)\n",
    "pd.Series(np.quantile(df['length'], quantile_keys), index=map(lambda x: f'{x:.0%}', quantile_keys), name='Quantiles').plot.bar()\n",
    "plt.title('Quantiles (s) for samples\\' length')\n",
    "plt.xticks(rotation=20)\n",
    "plt.ylabel('sec')\n",
    "plt.show()"
   ]
  },
  {
   "cell_type": "markdown",
   "metadata": {},
   "source": [
    "### add background noise"
   ]
  },
  {
   "cell_type": "code",
   "execution_count": 10,
   "metadata": {},
   "outputs": [],
   "source": [
    "def multirange_diff(r1_list, r2_list):\n",
    "    \"\"\"Generated the difference between two time ranges\"\"\"\n",
    "    for r2 in r2_list:\n",
    "        r1_list = list(itertools.chain(*[range_diff(r1, r2) for r1 in r1_list]))\n",
    "    return r1_list\n",
    "\n",
    "def range_diff(r1, r2):\n",
    "    s1, e1 = r1\n",
    "    s2, e2 = r2\n",
    "    endpoints = sorted((s1, s2, e1, e2))\n",
    "    result = []\n",
    "    if endpoints[0] == s1 and endpoints[1] != s1:\n",
    "        result.append((endpoints[0], endpoints[1]))\n",
    "    if endpoints[3] == e1 and endpoints[2] != e1:\n",
    "        result.append((endpoints[2], endpoints[3]))\n",
    "    return result"
   ]
  },
  {
   "cell_type": "code",
   "execution_count": 11,
   "metadata": {},
   "outputs": [],
   "source": [
    "df_training = df.copy()"
   ]
  },
  {
   "cell_type": "code",
   "execution_count": 12,
   "metadata": {},
   "outputs": [
    {
     "name": "stdout",
     "output_type": "stream",
     "text": [
      "file 2up_20231114_0000_to_0019, length: 580.0\n",
      "file 1up_20231114_000100to00090, length: 261.0\n",
      "file 1up_20231114_0000_to_0009, length: 261.0\n",
      "file 1up_20231114_0600_to_0609_confidence, length: 290.0\n",
      "file 10up_20231114_000000, length: 290.0\n",
      "file 20up_20231114_060000, length: 174.0\n",
      "file 7up_20231114_000000, length: 289.0\n",
      "file 2up_20231114_060000_to_06090, length: 290.0\n",
      "file 10up_20231114_060000, length: 290.0\n"
     ]
    }
   ],
   "source": [
    "## add noise in between calls\n",
    "for file in df_training['filename'].unique():\n",
    "    file_length = sf.info(file + '.wav').duration\n",
    "    print(f\"file {os.path.basename(file)}, length: {file_length}\")\n",
    "    relevant_annot = df_training[df_training['filename'] == file]\n",
    "    \n",
    "    # Background is the subtraction of the annotated sections from the whole timerange in the file \n",
    "    bg_ranges = np.array(multirange_diff([(0, file_length)], [(relevant_annot['begin_time'].iloc[i], relevant_annot['end_time'].iloc[i]) for i in range(len(relevant_annot))])).astype(float)\n",
    "    if len(bg_ranges)>1:\n",
    "        # Noise exists in all channels, signal exists only in the channel it was annotated in\n",
    "        bg_annot = pd.DataFrame({'begin_time': bg_ranges[:, 0], 'end_time': bg_ranges[:, 1], 'length': bg_ranges[:, 1]-bg_ranges[:, 0], 'label': ['Noise']*len(bg_ranges), 'filename':[file] * len(bg_ranges)})\n",
    "\n",
    "        df_training = pd.concat([df_training, bg_annot], axis=0, ignore_index=True)"
   ]
  },
  {
   "cell_type": "code",
   "execution_count": 13,
   "metadata": {},
   "outputs": [
    {
     "data": {
      "text/html": [
       "<div>\n",
       "<style scoped>\n",
       "    .dataframe tbody tr th:only-of-type {\n",
       "        vertical-align: middle;\n",
       "    }\n",
       "\n",
       "    .dataframe tbody tr th {\n",
       "        vertical-align: top;\n",
       "    }\n",
       "\n",
       "    .dataframe thead th {\n",
       "        text-align: right;\n",
       "    }\n",
       "</style>\n",
       "<table border=\"1\" class=\"dataframe\">\n",
       "  <thead>\n",
       "    <tr style=\"text-align: right;\">\n",
       "      <th></th>\n",
       "      <th>begin_time</th>\n",
       "      <th>end_time</th>\n",
       "      <th>length</th>\n",
       "      <th>low_freq</th>\n",
       "      <th>high_freq</th>\n",
       "      <th>label</th>\n",
       "      <th>annotation_source</th>\n",
       "      <th>filename</th>\n",
       "    </tr>\n",
       "  </thead>\n",
       "  <tbody>\n",
       "    <tr>\n",
       "      <th>0</th>\n",
       "      <td>5.434998</td>\n",
       "      <td>5.444576</td>\n",
       "      <td>0.009600</td>\n",
       "      <td>0.0</td>\n",
       "      <td>861.035</td>\n",
       "      <td>fish</td>\n",
       "      <td>/Users/shai/personal/deepvoice/Fish_Rach/Data/...</td>\n",
       "      <td>/Users/shai/personal/deepvoice/Fish_Rach/Data/...</td>\n",
       "    </tr>\n",
       "    <tr>\n",
       "      <th>1</th>\n",
       "      <td>5.449800</td>\n",
       "      <td>5.458507</td>\n",
       "      <td>0.008700</td>\n",
       "      <td>0.0</td>\n",
       "      <td>769.640</td>\n",
       "      <td>fish</td>\n",
       "      <td>/Users/shai/personal/deepvoice/Fish_Rach/Data/...</td>\n",
       "      <td>/Users/shai/personal/deepvoice/Fish_Rach/Data/...</td>\n",
       "    </tr>\n",
       "    <tr>\n",
       "      <th>2</th>\n",
       "      <td>5.468085</td>\n",
       "      <td>5.476793</td>\n",
       "      <td>0.008700</td>\n",
       "      <td>0.0</td>\n",
       "      <td>779.261</td>\n",
       "      <td>unknown</td>\n",
       "      <td>/Users/shai/personal/deepvoice/Fish_Rach/Data/...</td>\n",
       "      <td>/Users/shai/personal/deepvoice/Fish_Rach/Data/...</td>\n",
       "    </tr>\n",
       "    <tr>\n",
       "      <th>3</th>\n",
       "      <td>7.579577</td>\n",
       "      <td>7.593508</td>\n",
       "      <td>0.013900</td>\n",
       "      <td>0.0</td>\n",
       "      <td>764.830</td>\n",
       "      <td>unknown</td>\n",
       "      <td>/Users/shai/personal/deepvoice/Fish_Rach/Data/...</td>\n",
       "      <td>/Users/shai/personal/deepvoice/Fish_Rach/Data/...</td>\n",
       "    </tr>\n",
       "    <tr>\n",
       "      <th>4</th>\n",
       "      <td>7.818155</td>\n",
       "      <td>7.826862</td>\n",
       "      <td>0.008700</td>\n",
       "      <td>0.0</td>\n",
       "      <td>750.399</td>\n",
       "      <td>unknown</td>\n",
       "      <td>/Users/shai/personal/deepvoice/Fish_Rach/Data/...</td>\n",
       "      <td>/Users/shai/personal/deepvoice/Fish_Rach/Data/...</td>\n",
       "    </tr>\n",
       "    <tr>\n",
       "      <th>...</th>\n",
       "      <td>...</td>\n",
       "      <td>...</td>\n",
       "      <td>...</td>\n",
       "      <td>...</td>\n",
       "      <td>...</td>\n",
       "      <td>...</td>\n",
       "      <td>...</td>\n",
       "      <td>...</td>\n",
       "    </tr>\n",
       "    <tr>\n",
       "      <th>10750</th>\n",
       "      <td>285.334639</td>\n",
       "      <td>287.250127</td>\n",
       "      <td>1.915488</td>\n",
       "      <td>NaN</td>\n",
       "      <td>NaN</td>\n",
       "      <td>Noise</td>\n",
       "      <td>NaN</td>\n",
       "      <td>/Users/shai/personal/deepvoice/Fish_Rach/Data/...</td>\n",
       "    </tr>\n",
       "    <tr>\n",
       "      <th>10751</th>\n",
       "      <td>287.265678</td>\n",
       "      <td>288.187981</td>\n",
       "      <td>0.922303</td>\n",
       "      <td>NaN</td>\n",
       "      <td>NaN</td>\n",
       "      <td>Noise</td>\n",
       "      <td>NaN</td>\n",
       "      <td>/Users/shai/personal/deepvoice/Fish_Rach/Data/...</td>\n",
       "    </tr>\n",
       "    <tr>\n",
       "      <th>10752</th>\n",
       "      <td>288.203029</td>\n",
       "      <td>289.856746</td>\n",
       "      <td>1.653717</td>\n",
       "      <td>NaN</td>\n",
       "      <td>NaN</td>\n",
       "      <td>Noise</td>\n",
       "      <td>NaN</td>\n",
       "      <td>/Users/shai/personal/deepvoice/Fish_Rach/Data/...</td>\n",
       "    </tr>\n",
       "    <tr>\n",
       "      <th>10753</th>\n",
       "      <td>289.873116</td>\n",
       "      <td>289.980340</td>\n",
       "      <td>0.107224</td>\n",
       "      <td>NaN</td>\n",
       "      <td>NaN</td>\n",
       "      <td>Noise</td>\n",
       "      <td>NaN</td>\n",
       "      <td>/Users/shai/personal/deepvoice/Fish_Rach/Data/...</td>\n",
       "    </tr>\n",
       "    <tr>\n",
       "      <th>10754</th>\n",
       "      <td>289.999995</td>\n",
       "      <td>290.000000</td>\n",
       "      <td>0.000005</td>\n",
       "      <td>NaN</td>\n",
       "      <td>NaN</td>\n",
       "      <td>Noise</td>\n",
       "      <td>NaN</td>\n",
       "      <td>/Users/shai/personal/deepvoice/Fish_Rach/Data/...</td>\n",
       "    </tr>\n",
       "  </tbody>\n",
       "</table>\n",
       "<p>10755 rows × 8 columns</p>\n",
       "</div>"
      ],
      "text/plain": [
       "       begin_time    end_time    length  low_freq  high_freq    label  \\\n",
       "0        5.434998    5.444576  0.009600       0.0    861.035     fish   \n",
       "1        5.449800    5.458507  0.008700       0.0    769.640     fish   \n",
       "2        5.468085    5.476793  0.008700       0.0    779.261  unknown   \n",
       "3        7.579577    7.593508  0.013900       0.0    764.830  unknown   \n",
       "4        7.818155    7.826862  0.008700       0.0    750.399  unknown   \n",
       "...           ...         ...       ...       ...        ...      ...   \n",
       "10750  285.334639  287.250127  1.915488       NaN        NaN    Noise   \n",
       "10751  287.265678  288.187981  0.922303       NaN        NaN    Noise   \n",
       "10752  288.203029  289.856746  1.653717       NaN        NaN    Noise   \n",
       "10753  289.873116  289.980340  0.107224       NaN        NaN    Noise   \n",
       "10754  289.999995  290.000000  0.000005       NaN        NaN    Noise   \n",
       "\n",
       "                                       annotation_source  \\\n",
       "0      /Users/shai/personal/deepvoice/Fish_Rach/Data/...   \n",
       "1      /Users/shai/personal/deepvoice/Fish_Rach/Data/...   \n",
       "2      /Users/shai/personal/deepvoice/Fish_Rach/Data/...   \n",
       "3      /Users/shai/personal/deepvoice/Fish_Rach/Data/...   \n",
       "4      /Users/shai/personal/deepvoice/Fish_Rach/Data/...   \n",
       "...                                                  ...   \n",
       "10750                                                NaN   \n",
       "10751                                                NaN   \n",
       "10752                                                NaN   \n",
       "10753                                                NaN   \n",
       "10754                                                NaN   \n",
       "\n",
       "                                                filename  \n",
       "0      /Users/shai/personal/deepvoice/Fish_Rach/Data/...  \n",
       "1      /Users/shai/personal/deepvoice/Fish_Rach/Data/...  \n",
       "2      /Users/shai/personal/deepvoice/Fish_Rach/Data/...  \n",
       "3      /Users/shai/personal/deepvoice/Fish_Rach/Data/...  \n",
       "4      /Users/shai/personal/deepvoice/Fish_Rach/Data/...  \n",
       "...                                                  ...  \n",
       "10750  /Users/shai/personal/deepvoice/Fish_Rach/Data/...  \n",
       "10751  /Users/shai/personal/deepvoice/Fish_Rach/Data/...  \n",
       "10752  /Users/shai/personal/deepvoice/Fish_Rach/Data/...  \n",
       "10753  /Users/shai/personal/deepvoice/Fish_Rach/Data/...  \n",
       "10754  /Users/shai/personal/deepvoice/Fish_Rach/Data/...  \n",
       "\n",
       "[10755 rows x 8 columns]"
      ]
     },
     "execution_count": 13,
     "metadata": {},
     "output_type": "execute_result"
    }
   ],
   "source": [
    "df_training"
   ]
  },
  {
   "cell_type": "code",
   "execution_count": 14,
   "metadata": {},
   "outputs": [
    {
     "data": {
      "text/plain": [
       "Noise      4922\n",
       "unknown    4347\n",
       "fish       1486\n",
       "Name: label, dtype: int64"
      ]
     },
     "execution_count": 14,
     "metadata": {},
     "output_type": "execute_result"
    },
    {
     "data": {
      "image/png": "[encoded data removed]",
      "text/plain": [
       "<Figure size 640x480 with 1 Axes>"
      ]
     },
     "metadata": {},
     "output_type": "display_data"
    }
   ],
   "source": [
    "df_training['length'][df_training['label'] == \"Noise\"].hist(bins=100)\n",
    "df_training['label'].value_counts()"
   ]
  },
  {
   "cell_type": "code",
   "execution_count": 15,
   "metadata": {},
   "outputs": [
    {
     "data": {
      "text/html": [
       "<div>\n",
       "<style scoped>\n",
       "    .dataframe tbody tr th:only-of-type {\n",
       "        vertical-align: middle;\n",
       "    }\n",
       "\n",
       "    .dataframe tbody tr th {\n",
       "        vertical-align: top;\n",
       "    }\n",
       "\n",
       "    .dataframe thead th {\n",
       "        text-align: right;\n",
       "    }\n",
       "</style>\n",
       "<table border=\"1\" class=\"dataframe\">\n",
       "  <thead>\n",
       "    <tr style=\"text-align: right;\">\n",
       "      <th></th>\n",
       "      <th>begin_time</th>\n",
       "      <th>end_time</th>\n",
       "      <th>length</th>\n",
       "      <th>low_freq</th>\n",
       "      <th>high_freq</th>\n",
       "      <th>label</th>\n",
       "      <th>annotation_source</th>\n",
       "      <th>filename</th>\n",
       "      <th>channel</th>\n",
       "    </tr>\n",
       "  </thead>\n",
       "  <tbody>\n",
       "    <tr>\n",
       "      <th>0</th>\n",
       "      <td>5.434998</td>\n",
       "      <td>5.444576</td>\n",
       "      <td>0.0096</td>\n",
       "      <td>0.0</td>\n",
       "      <td>861.035</td>\n",
       "      <td>1.0</td>\n",
       "      <td>2up_20231114_0000_to_0019.Table.1.selections_f...</td>\n",
       "      <td>2up_20231114_0000_to_0019</td>\n",
       "      <td>1.0</td>\n",
       "    </tr>\n",
       "    <tr>\n",
       "      <th>1</th>\n",
       "      <td>5.449800</td>\n",
       "      <td>5.458507</td>\n",
       "      <td>0.0087</td>\n",
       "      <td>0.0</td>\n",
       "      <td>769.640</td>\n",
       "      <td>1.0</td>\n",
       "      <td>2up_20231114_0000_to_0019.Table.1.selections_f...</td>\n",
       "      <td>2up_20231114_0000_to_0019</td>\n",
       "      <td>1.0</td>\n",
       "    </tr>\n",
       "    <tr>\n",
       "      <th>2</th>\n",
       "      <td>5.468085</td>\n",
       "      <td>5.476793</td>\n",
       "      <td>0.0087</td>\n",
       "      <td>0.0</td>\n",
       "      <td>779.261</td>\n",
       "      <td>NaN</td>\n",
       "      <td>2up_20231114_0000_to_0019.Table.1.selections_f...</td>\n",
       "      <td>2up_20231114_0000_to_0019</td>\n",
       "      <td>1.0</td>\n",
       "    </tr>\n",
       "    <tr>\n",
       "      <th>3</th>\n",
       "      <td>7.579577</td>\n",
       "      <td>7.593508</td>\n",
       "      <td>0.0139</td>\n",
       "      <td>0.0</td>\n",
       "      <td>764.830</td>\n",
       "      <td>NaN</td>\n",
       "      <td>2up_20231114_0000_to_0019.Table.1.selections_f...</td>\n",
       "      <td>2up_20231114_0000_to_0019</td>\n",
       "      <td>1.0</td>\n",
       "    </tr>\n",
       "    <tr>\n",
       "      <th>4</th>\n",
       "      <td>7.818155</td>\n",
       "      <td>7.826862</td>\n",
       "      <td>0.0087</td>\n",
       "      <td>0.0</td>\n",
       "      <td>750.399</td>\n",
       "      <td>NaN</td>\n",
       "      <td>2up_20231114_0000_to_0019.Table.1.selections_f...</td>\n",
       "      <td>2up_20231114_0000_to_0019</td>\n",
       "      <td>1.0</td>\n",
       "    </tr>\n",
       "  </tbody>\n",
       "</table>\n",
       "</div>"
      ],
      "text/plain": [
       "   begin_time  end_time  length  low_freq  high_freq  label  \\\n",
       "0    5.434998  5.444576  0.0096       0.0    861.035    1.0   \n",
       "1    5.449800  5.458507  0.0087       0.0    769.640    1.0   \n",
       "2    5.468085  5.476793  0.0087       0.0    779.261    NaN   \n",
       "3    7.579577  7.593508  0.0139       0.0    764.830    NaN   \n",
       "4    7.818155  7.826862  0.0087       0.0    750.399    NaN   \n",
       "\n",
       "                                   annotation_source  \\\n",
       "0  2up_20231114_0000_to_0019.Table.1.selections_f...   \n",
       "1  2up_20231114_0000_to_0019.Table.1.selections_f...   \n",
       "2  2up_20231114_0000_to_0019.Table.1.selections_f...   \n",
       "3  2up_20231114_0000_to_0019.Table.1.selections_f...   \n",
       "4  2up_20231114_0000_to_0019.Table.1.selections_f...   \n",
       "\n",
       "                    filename  channel  \n",
       "0  2up_20231114_0000_to_0019      1.0  \n",
       "1  2up_20231114_0000_to_0019      1.0  \n",
       "2  2up_20231114_0000_to_0019      1.0  \n",
       "3  2up_20231114_0000_to_0019      1.0  \n",
       "4  2up_20231114_0000_to_0019      1.0  "
      ]
     },
     "execution_count": 15,
     "metadata": {},
     "output_type": "execute_result"
    }
   ],
   "source": [
    "def labels_for_training(s):\n",
    "    if s == \"Noise\":\n",
    "        return int(0)\n",
    "    elif s == \"fish\":\n",
    "        return int(1)\n",
    "    else:\n",
    "        return None\n",
    "    \n",
    "def basename_only(s):\n",
    "    if isinstance(s, str):\n",
    "        return str(os.path.basename(s))\n",
    "    else:\n",
    "        return s\n",
    "\n",
    "df_training['label'] = df_training['label'].apply(labels_for_training)\n",
    "df_training['annotation_source'] = df_training['annotation_source'].apply(basename_only)\n",
    "df_training['filename'] = df_training['filename'].apply(basename_only)\n",
    "df_training['channel'] = 1.  # this field is expected in the code\n",
    "df_training.head()"
   ]
  },
  {
   "cell_type": "code",
   "execution_count": 16,
   "metadata": {},
   "outputs": [],
   "source": [
    "df_training_shrink = df_training[[\"begin_time\", \"end_time\", \"filename\", \"length\", \"label\", \"channel\"]]\n",
    "df_training_shrink = df_training_shrink.rename(columns={'length': 'call_length'})\n",
    "df_training_shrink.dropna(inplace=True)\n",
    "df_training_shrink['label'] = df_training_shrink['label'].astype(int)"
   ]
  },
  {
   "cell_type": "code",
   "execution_count": 17,
   "metadata": {},
   "outputs": [
    {
     "data": {
      "text/plain": [
       "0    4922\n",
       "1    1486\n",
       "Name: label, dtype: int64"
      ]
     },
     "execution_count": 17,
     "metadata": {},
     "output_type": "execute_result"
    }
   ],
   "source": [
    "df_training_shrink['label'].value_counts()"
   ]
  },
  {
   "cell_type": "code",
   "execution_count": 18,
   "metadata": {},
   "outputs": [
    {
     "name": "stdout",
     "output_type": "stream",
     "text": [
      "for file: 10up_20231114_000000, training data ends at 180.906342051 sec\n",
      "for file: 10up_20231114_060000, training data ends at 225.33781011 sec\n",
      "for file: 1up_20231114_0000_to_0009, training data ends at 153.5331274 sec\n",
      "for file: 1up_20231114_000100to00090, training data ends at 176.629363597 sec\n",
      "for file: 1up_20231114_0600_to_0609_confidence, training data ends at 194.383609682 sec\n",
      "for file: 20up_20231114_060000, training data ends at 136.457529844 sec\n",
      "for file: 2up_20231114_0000_to_0019, training data ends at 336.976974625 sec\n",
      "for file: 2up_20231114_060000_to_06090, training data ends at 232.977195043 sec\n",
      "for file: 7up_20231114_000000, training data ends at 192.98664061 sec\n"
     ]
    }
   ],
   "source": [
    "## split train-val-test\n",
    "train_final_df = pd.DataFrame()\n",
    "val_final_df = pd.DataFrame()\n",
    "test_final_df = pd.DataFrame()\n",
    "\n",
    "for f,g in df_training_shrink.groupby('filename'):\n",
    "    g = g.sort_values(by=\"begin_time\")\n",
    "    length = g.__len__()\n",
    "    train_final_df = train_final_df.append(g.iloc[0:round(0.75*length)])\n",
    "    val_final_df = val_final_df.append(g.iloc[round(0.75*length)+1:round(0.9*length)])\n",
    "    test_final_df = test_final_df.append(g.iloc[round(0.9*length)+1:])\n",
    "    print(f\"for file: {f}, training data ends at {g.iloc[round(0.75*length)]['end_time']} sec\")"
   ]
  },
  {
   "cell_type": "code",
   "execution_count": 19,
   "metadata": {},
   "outputs": [
    {
     "data": {
      "image/png": "[encoded data removed]",
      "text/plain": [
       "<Figure size 640x480 with 1 Axes>"
      ]
     },
     "metadata": {},
     "output_type": "display_data"
    }
   ],
   "source": [
    "plt.figure()\n",
    "train_final_df['label'].astype(int).hist(alpha=0.4)\n",
    "val_final_df['label'].astype(int).hist(alpha=0.6)\n",
    "test_final_df['label'].astype(int).hist(alpha=0.8)\n",
    "plt.legend(['train', 'val','test'])\n",
    "plt.show()"
   ]
  },
  {
   "cell_type": "code",
   "execution_count": 20,
   "metadata": {},
   "outputs": [],
   "source": [
    "## save the training dfs\n",
    "train_final_df.to_csv(os.path.join(PATH_TO_FILES, 'train_final_10jul.csv'), index=False)\n",
    "val_final_df.to_csv(os.path.join(PATH_TO_FILES, 'val_final_10jul.csv'), index=False)\n",
    "test_final_df.to_csv(os.path.join(PATH_TO_FILES, 'test_final_10jul.csv'), index=False)"
   ]
  }
 ],
 "metadata": {
  "kernelspec": {
   "display_name": "Python 3 (ipykernel)",
   "language": "python",
   "name": "python3"
  },
  "language_info": {
   "codemirror_mode": {
    "name": "ipython",
    "version": 3
   },
   "file_extension": ".py",
   "mimetype": "text/x-python",
   "name": "python",
   "nbconvert_exporter": "python",
   "pygments_lexer": "ipython3",
   "version": "3.7.4"
  },
  "toc": {
   "base_numbering": 1,
   "nav_menu": {},
   "number_sections": true,
   "sideBar": true,
   "skip_h1_title": false,
   "title_cell": "Table of Contents",
   "title_sidebar": "Contents",
   "toc_cell": false,
   "toc_position": {
    "height": "calc(100% - 180px)",
    "left": "10px",
    "top": "150px",
    "width": "243.8px"
   },
   "toc_section_display": true,
   "toc_window_display": true
  },
  "varInspector": {
   "cols": {
    "lenName": 16,
    "lenType": 16,
    "lenVar": 40
   },
   "kernels_config": {
    "python": {
     "delete_cmd_postfix": "",
     "delete_cmd_prefix": "del ",
     "library": "var_list.py",
     "varRefreshCmd": "print(var_dic_list())"
    },
    "r": {
     "delete_cmd_postfix": ") ",
     "delete_cmd_prefix": "rm(",
     "library": "var_list.r",
     "varRefreshCmd": "cat(var_dic_list()) "
    }
   },
   "types_to_exclude": [
    "module",
    "function",
    "builtin_function_or_method",
    "instance",
    "_Feature"
   ],
   "window_display": false
  }
 },
 "nbformat": 4,
 "nbformat_minor": 4
}
