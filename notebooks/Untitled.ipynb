{
 "cells": [
  {
   "cell_type": "code",
   "execution_count": 1,
   "id": "7791ecd1",
   "metadata": {},
   "outputs": [],
   "source": [
    "import os\n",
    "import subprocess\n",
    "from boxsdk import OAuth2, Client, JWTAuth\n",
    "import logging\n",
    "from pathlib import Path"
   ]
  },
  {
   "cell_type": "code",
   "execution_count": 16,
   "id": "dff8a740",
   "metadata": {},
   "outputs": [],
   "source": [
    "config = {\n",
    "    'client_id': 'ak5baat3nr5s5pxoyn32xp8tppalyoj1', \n",
    "    'client_secret': 'Ou1oKgQDtumWbcjkXKyaGY9OWwJTG2Yt', \n",
    "    'access_token': 'rFTBKVvCdUBgX2JvE75zC0weXOdtlneR', \n",
    "    'user_id': '39522479432', \n",
    "#     'refresh_token': None, 'pDtlXmER98A1LpKVN5MOrqerYv3LH0VEEq9b0Ny48mCCY8bAqTkTmtdQd3Ri8meK'\n",
    "    \n",
    "}\n",
    "\n",
    "auth = OAuth2(\n",
    "            client_id=config['client_id'],\n",
    "            client_secret=config['client_secret'],\n",
    "            access_token=config['access_token'],\n",
    "            # refresh_token=config['refresh_token']\n",
    "    \n",
    "        )\n",
    "client = Client(auth)"
   ]
  },
  {
   "cell_type": "code",
   "execution_count": 14,
   "id": "808c2266",
   "metadata": {},
   "outputs": [
    {
     "data": {
      "text/plain": [
       "<boxsdk.auth.oauth2.OAuth2 at 0x7fbcf8ae3150>"
      ]
     },
     "execution_count": 14,
     "metadata": {},
     "output_type": "execute_result"
    }
   ],
   "source": [
    "client.__dict__['_oauth']"
   ]
  },
  {
   "cell_type": "code",
   "execution_count": null,
   "id": "573d1ddd",
   "metadata": {},
   "outputs": [],
   "source": []
  },
  {
   "cell_type": "code",
   "execution_count": 17,
   "id": "c07a7e51",
   "metadata": {},
   "outputs": [
    {
     "data": {
      "text/plain": [
       "('https://account.box.com/api/oauth2/authorize?state=box_csrf_token_ulfRgX6B5jh9UTtl&response_type=code&client_id=ak5baat3nr5s5pxoyn32xp8tppalyoj1&redirect_uri=http%3A%2F%2F127.0.0.1%3A5000%2Fcallback',\n",
       " 'box_csrf_token_ulfRgX6B5jh9UTtl')"
      ]
     },
     "execution_count": 17,
     "metadata": {},
     "output_type": "execute_result"
    }
   ],
   "source": [
    "auth.get_authorization_url('http://127.0.0.1:5000/callback')"
   ]
  },
  {
   "cell_type": "code",
   "execution_count": null,
   "id": "f4dc5c55",
   "metadata": {},
   "outputs": [],
   "source": []
  },
  {
   "cell_type": "code",
   "execution_count": null,
   "id": "eb8036d0",
   "metadata": {},
   "outputs": [],
   "source": []
  },
  {
   "cell_type": "code",
   "execution_count": 12,
   "id": "7446f1b0",
   "metadata": {},
   "outputs": [
    {
     "name": "stderr",
     "output_type": "stream",
     "text": [
      "\u001b[31m\"POST https://api.box.com/oauth2/token\" 400 82\n",
      "{'date': 'Tue, 04 Feb 2025 20:35:55 GMT', 'content-type': 'application/json', 'strict-transport-security': 'max-age=31536000', 'set-cookie': 'box_visitor_id=67a2778fd82889.49043546; expires=Wed, 04 Feb 2026 20:35:55 GMT; Max-Age=31536000; path=/; domain=.box.com; secure; SameSite=None, bv=MONO-7821; expires=Tue, 11 Feb 2025 20:35:55 GMT; Max-Age=604800; path=/; domain=.app.box.com; secure, cn=66; expires=Wed, 04 Feb 2026 20:35:55 GMT; Max-Age=31536000; path=/; domain=.app.box.com; secure, site_preference=desktop; path=/; domain=.box.com; secure', 'cache-control': 'no-store', 'via': '1.1 google', 'Alt-Svc': 'h3=\":443\"; ma=2592000,h3-29=\":443\"; ma=2592000', 'Transfer-Encoding': 'chunked'}\n",
      "{'error': 'invalid_grant',\n",
      " 'error_description': 'The authorization code has expired'}\n",
      "\u001b[0m\n"
     ]
    },
    {
     "ename": "BoxOAuthException",
     "evalue": "\nMessage: The authorization code has expired\nStatus: 400\nURL: https://api.box.com/oauth2/token\nMethod: POST\nHeaders: {'date': 'Tue, 04 Feb 2025 20:35:55 GMT', 'content-type': 'application/json', 'strict-transport-security': 'max-age=31536000', 'set-cookie': 'box_visitor_id=67a2778fd82889.49043546; expires=Wed, 04 Feb 2026 20:35:55 GMT; Max-Age=31536000; path=/; domain=.box.com; secure; SameSite=None, bv=MONO-7821; expires=Tue, 11 Feb 2025 20:35:55 GMT; Max-Age=604800; path=/; domain=.app.box.com; secure, cn=66; expires=Wed, 04 Feb 2026 20:35:55 GMT; Max-Age=31536000; path=/; domain=.app.box.com; secure, site_preference=desktop; path=/; domain=.box.com; secure', 'cache-control': 'no-store', 'via': '1.1 google', 'Alt-Svc': 'h3=\":443\"; ma=2592000,h3-29=\":443\"; ma=2592000', 'Transfer-Encoding': 'chunked'}",
     "output_type": "error",
     "traceback": [
      "\u001b[0;31m---------------------------------------------------------------------------\u001b[0m",
      "\u001b[0;31mBoxAPIException\u001b[0m                           Traceback (most recent call last)",
      "\u001b[0;32m~/personal/deepvoice/soundbay/.env_dv/lib/python3.7/site-packages/boxsdk/auth/oauth2.py\u001b[0m in \u001b[0;36m_execute_token_request\u001b[0;34m(self, data, access_token, expect_refresh_token)\u001b[0m\n\u001b[1;32m    291\u001b[0m                 \u001b[0mheaders\u001b[0m\u001b[0;34m=\u001b[0m\u001b[0mheaders\u001b[0m\u001b[0;34m,\u001b[0m\u001b[0;34m\u001b[0m\u001b[0;34m\u001b[0m\u001b[0m\n\u001b[0;32m--> 292\u001b[0;31m                 \u001b[0maccess_token\u001b[0m\u001b[0;34m=\u001b[0m\u001b[0maccess_token\u001b[0m\u001b[0;34m,\u001b[0m\u001b[0;34m\u001b[0m\u001b[0;34m\u001b[0m\u001b[0m\n\u001b[0m\u001b[1;32m    293\u001b[0m             )\n",
      "\u001b[0;32m~/personal/deepvoice/soundbay/.env_dv/lib/python3.7/site-packages/boxsdk/session/session.py\u001b[0m in \u001b[0;36mrequest\u001b[0;34m(self, method, url, **kwargs)\u001b[0m\n\u001b[1;32m    137\u001b[0m         \"\"\"\n\u001b[0;32m--> 138\u001b[0;31m         \u001b[0mresponse\u001b[0m \u001b[0;34m=\u001b[0m \u001b[0mself\u001b[0m\u001b[0;34m.\u001b[0m\u001b[0m_prepare_and_send_request\u001b[0m\u001b[0;34m(\u001b[0m\u001b[0mmethod\u001b[0m\u001b[0;34m,\u001b[0m \u001b[0murl\u001b[0m\u001b[0;34m,\u001b[0m \u001b[0;34m**\u001b[0m\u001b[0mkwargs\u001b[0m\u001b[0;34m)\u001b[0m\u001b[0;34m\u001b[0m\u001b[0;34m\u001b[0m\u001b[0m\n\u001b[0m\u001b[1;32m    139\u001b[0m         \u001b[0;32mreturn\u001b[0m \u001b[0mself\u001b[0m\u001b[0;34m.\u001b[0m\u001b[0mbox_response_constructor\u001b[0m\u001b[0;34m(\u001b[0m\u001b[0mresponse\u001b[0m\u001b[0;34m)\u001b[0m\u001b[0;34m\u001b[0m\u001b[0;34m\u001b[0m\u001b[0m\n",
      "\u001b[0;32m~/personal/deepvoice/soundbay/.env_dv/lib/python3.7/site-packages/boxsdk/session/session.py\u001b[0m in \u001b[0;36m_prepare_and_send_request\u001b[0;34m(self, method, url, headers, auto_session_renewal, expect_json_response, **kwargs)\u001b[0m\n\u001b[1;32m    374\u001b[0m \u001b[0;34m\u001b[0m\u001b[0m\n\u001b[0;32m--> 375\u001b[0;31m         \u001b[0mself\u001b[0m\u001b[0;34m.\u001b[0m\u001b[0m_raise_on_unsuccessful_request\u001b[0m\u001b[0;34m(\u001b[0m\u001b[0mnetwork_response\u001b[0m\u001b[0;34m,\u001b[0m \u001b[0mrequest\u001b[0m\u001b[0;34m,\u001b[0m \u001b[0mraised_exception\u001b[0m\u001b[0;34m)\u001b[0m\u001b[0;34m\u001b[0m\u001b[0;34m\u001b[0m\u001b[0m\n\u001b[0m\u001b[1;32m    376\u001b[0m \u001b[0;34m\u001b[0m\u001b[0m\n",
      "\u001b[0;32m~/personal/deepvoice/soundbay/.env_dv/lib/python3.7/site-packages/boxsdk/session/session.py\u001b[0m in \u001b[0;36m_raise_on_unsuccessful_request\u001b[0;34m(network_response, request, raised_exception)\u001b[0m\n\u001b[1;32m    279\u001b[0m                 \u001b[0mcontext_info\u001b[0m\u001b[0;34m=\u001b[0m\u001b[0mresponse_json\u001b[0m\u001b[0;34m.\u001b[0m\u001b[0mget\u001b[0m\u001b[0;34m(\u001b[0m\u001b[0;34m'context_info'\u001b[0m\u001b[0;34m,\u001b[0m \u001b[0;32mNone\u001b[0m\u001b[0;34m)\u001b[0m\u001b[0;34m,\u001b[0m\u001b[0;34m\u001b[0m\u001b[0;34m\u001b[0m\u001b[0m\n\u001b[0;32m--> 280\u001b[0;31m                 \u001b[0mnetwork_response\u001b[0m\u001b[0;34m=\u001b[0m\u001b[0mnetwork_response\u001b[0m\u001b[0;34m\u001b[0m\u001b[0;34m\u001b[0m\u001b[0m\n\u001b[0m\u001b[1;32m    281\u001b[0m             )\n",
      "\u001b[0;31mBoxAPIException\u001b[0m: Message: The authorization code has expired\nStatus: 400\nCode: invalid_grant\nRequest ID: None\nHeaders: {'date': 'Tue, 04 Feb 2025 20:35:55 GMT', 'content-type': 'application/json', 'strict-transport-security': 'max-age=31536000', 'set-cookie': 'box_visitor_id=67a2778fd82889.49043546; expires=Wed, 04 Feb 2026 20:35:55 GMT; Max-Age=31536000; path=/; domain=.box.com; secure; SameSite=None, bv=MONO-7821; expires=Tue, 11 Feb 2025 20:35:55 GMT; Max-Age=604800; path=/; domain=.app.box.com; secure, cn=66; expires=Wed, 04 Feb 2026 20:35:55 GMT; Max-Age=31536000; path=/; domain=.app.box.com; secure, site_preference=desktop; path=/; domain=.box.com; secure', 'cache-control': 'no-store', 'via': '1.1 google', 'Alt-Svc': 'h3=\":443\"; ma=2592000,h3-29=\":443\"; ma=2592000', 'Transfer-Encoding': 'chunked'}\nURL: https://api.box.com/oauth2/token\nMethod: POST\nContext Info: None",
      "\nThe above exception was the direct cause of the following exception:\n",
      "\u001b[0;31mBoxOAuthException\u001b[0m                         Traceback (most recent call last)",
      "\u001b[0;32m/var/folders/f_/bhk8zvz17d721r8h839c_lnh0000gn/T/ipykernel_36931/2325248432.py\u001b[0m in \u001b[0;36m<module>\u001b[0;34m\u001b[0m\n\u001b[0;32m----> 1\u001b[0;31m \u001b[0maccess_token\u001b[0m\u001b[0;34m,\u001b[0m \u001b[0mrefresh_token\u001b[0m \u001b[0;34m=\u001b[0m \u001b[0mauth\u001b[0m\u001b[0;34m.\u001b[0m\u001b[0mauthenticate\u001b[0m\u001b[0;34m(\u001b[0m\u001b[0;34m'fP0XSHANjtz5vrsOiJA2BCJLvvkjIZrN'\u001b[0m\u001b[0;34m)\u001b[0m\u001b[0;34m\u001b[0m\u001b[0;34m\u001b[0m\u001b[0m\n\u001b[0m",
      "\u001b[0;32m~/personal/deepvoice/soundbay/.env_dv/lib/python3.7/site-packages/boxsdk/auth/oauth2.py\u001b[0m in \u001b[0;36mauthenticate\u001b[0;34m(self, auth_code)\u001b[0m\n\u001b[1;32m    163\u001b[0m         \u001b[0;32mif\u001b[0m \u001b[0mself\u001b[0m\u001b[0;34m.\u001b[0m\u001b[0m_box_device_name\u001b[0m\u001b[0;34m:\u001b[0m\u001b[0;34m\u001b[0m\u001b[0;34m\u001b[0m\u001b[0m\n\u001b[1;32m    164\u001b[0m             \u001b[0mdata\u001b[0m\u001b[0;34m[\u001b[0m\u001b[0;34m'box_device_name'\u001b[0m\u001b[0;34m]\u001b[0m \u001b[0;34m=\u001b[0m \u001b[0mself\u001b[0m\u001b[0;34m.\u001b[0m\u001b[0m_box_device_name\u001b[0m\u001b[0;34m\u001b[0m\u001b[0;34m\u001b[0m\u001b[0m\n\u001b[0;32m--> 165\u001b[0;31m         \u001b[0;32mreturn\u001b[0m \u001b[0mself\u001b[0m\u001b[0;34m.\u001b[0m\u001b[0msend_token_request\u001b[0m\u001b[0;34m(\u001b[0m\u001b[0mdata\u001b[0m\u001b[0;34m,\u001b[0m \u001b[0maccess_token\u001b[0m\u001b[0;34m=\u001b[0m\u001b[0;32mNone\u001b[0m\u001b[0;34m)\u001b[0m\u001b[0;34m\u001b[0m\u001b[0;34m\u001b[0m\u001b[0m\n\u001b[0m\u001b[1;32m    166\u001b[0m \u001b[0;34m\u001b[0m\u001b[0m\n\u001b[1;32m    167\u001b[0m     \u001b[0;32mdef\u001b[0m \u001b[0m_refresh\u001b[0m\u001b[0;34m(\u001b[0m\u001b[0mself\u001b[0m\u001b[0;34m,\u001b[0m \u001b[0maccess_token\u001b[0m\u001b[0;34m:\u001b[0m \u001b[0mstr\u001b[0m\u001b[0;34m)\u001b[0m \u001b[0;34m->\u001b[0m \u001b[0mTuple\u001b[0m\u001b[0;34m[\u001b[0m\u001b[0mstr\u001b[0m\u001b[0;34m,\u001b[0m \u001b[0mstr\u001b[0m\u001b[0;34m]\u001b[0m\u001b[0;34m:\u001b[0m\u001b[0;34m\u001b[0m\u001b[0;34m\u001b[0m\u001b[0m\n",
      "\u001b[0;32m~/personal/deepvoice/soundbay/.env_dv/lib/python3.7/site-packages/boxsdk/auth/oauth2.py\u001b[0m in \u001b[0;36msend_token_request\u001b[0;34m(self, data, access_token, expect_refresh_token)\u001b[0m\n\u001b[1;32m    347\u001b[0m             \u001b[0mThe\u001b[0m \u001b[0maccess\u001b[0m \u001b[0mtoken\u001b[0m \u001b[0;32mand\u001b[0m \u001b[0mrefresh\u001b[0m \u001b[0mtoken\u001b[0m\u001b[0;34m.\u001b[0m\u001b[0;34m\u001b[0m\u001b[0;34m\u001b[0m\u001b[0m\n\u001b[1;32m    348\u001b[0m         \"\"\"\n\u001b[0;32m--> 349\u001b[0;31m         \u001b[0mtoken_response\u001b[0m \u001b[0;34m=\u001b[0m \u001b[0mself\u001b[0m\u001b[0;34m.\u001b[0m\u001b[0m_execute_token_request\u001b[0m\u001b[0;34m(\u001b[0m\u001b[0mdata\u001b[0m\u001b[0;34m,\u001b[0m \u001b[0maccess_token\u001b[0m\u001b[0;34m,\u001b[0m \u001b[0mexpect_refresh_token\u001b[0m\u001b[0;34m)\u001b[0m\u001b[0;34m\u001b[0m\u001b[0;34m\u001b[0m\u001b[0m\n\u001b[0m\u001b[1;32m    350\u001b[0m         \u001b[0;31m# pylint:disable=no-member\u001b[0m\u001b[0;34m\u001b[0m\u001b[0;34m\u001b[0m\u001b[0;34m\u001b[0m\u001b[0m\n\u001b[1;32m    351\u001b[0m         \u001b[0mrefresh_token\u001b[0m \u001b[0;34m=\u001b[0m \u001b[0mtoken_response\u001b[0m\u001b[0;34m.\u001b[0m\u001b[0mrefresh_token\u001b[0m \u001b[0;32mif\u001b[0m \u001b[0;34m'refresh_token'\u001b[0m \u001b[0;32min\u001b[0m \u001b[0mtoken_response\u001b[0m \u001b[0;32melse\u001b[0m \u001b[0;32mNone\u001b[0m\u001b[0;34m\u001b[0m\u001b[0;34m\u001b[0m\u001b[0m\n",
      "\u001b[0;32m~/personal/deepvoice/soundbay/.env_dv/lib/python3.7/site-packages/boxsdk/auth/oauth2.py\u001b[0m in \u001b[0;36m_execute_token_request\u001b[0;34m(self, data, access_token, expect_refresh_token)\u001b[0m\n\u001b[1;32m    293\u001b[0m             )\n\u001b[1;32m    294\u001b[0m         \u001b[0;32mexcept\u001b[0m \u001b[0mBoxAPIException\u001b[0m \u001b[0;32mas\u001b[0m \u001b[0mbox_api_exception\u001b[0m\u001b[0;34m:\u001b[0m\u001b[0;34m\u001b[0m\u001b[0;34m\u001b[0m\u001b[0m\n\u001b[0;32m--> 295\u001b[0;31m             \u001b[0;32mraise\u001b[0m \u001b[0mself\u001b[0m\u001b[0;34m.\u001b[0m\u001b[0m_oauth_exception\u001b[0m\u001b[0;34m(\u001b[0m\u001b[0mbox_api_exception\u001b[0m\u001b[0;34m.\u001b[0m\u001b[0mnetwork_response\u001b[0m\u001b[0;34m,\u001b[0m \u001b[0murl\u001b[0m\u001b[0;34m)\u001b[0m \u001b[0;32mfrom\u001b[0m \u001b[0mbox_api_exception\u001b[0m\u001b[0;34m\u001b[0m\u001b[0;34m\u001b[0m\u001b[0m\n\u001b[0m\u001b[1;32m    296\u001b[0m \u001b[0;34m\u001b[0m\u001b[0m\n\u001b[1;32m    297\u001b[0m         \u001b[0;32mif\u001b[0m \u001b[0;32mnot\u001b[0m \u001b[0mnetwork_response\u001b[0m\u001b[0;34m.\u001b[0m\u001b[0mok\u001b[0m\u001b[0;34m:\u001b[0m\u001b[0;34m\u001b[0m\u001b[0;34m\u001b[0m\u001b[0m\n",
      "\u001b[0;31mBoxOAuthException\u001b[0m: \nMessage: The authorization code has expired\nStatus: 400\nURL: https://api.box.com/oauth2/token\nMethod: POST\nHeaders: {'date': 'Tue, 04 Feb 2025 20:35:55 GMT', 'content-type': 'application/json', 'strict-transport-security': 'max-age=31536000', 'set-cookie': 'box_visitor_id=67a2778fd82889.49043546; expires=Wed, 04 Feb 2026 20:35:55 GMT; Max-Age=31536000; path=/; domain=.box.com; secure; SameSite=None, bv=MONO-7821; expires=Tue, 11 Feb 2025 20:35:55 GMT; Max-Age=604800; path=/; domain=.app.box.com; secure, cn=66; expires=Wed, 04 Feb 2026 20:35:55 GMT; Max-Age=31536000; path=/; domain=.app.box.com; secure, site_preference=desktop; path=/; domain=.box.com; secure', 'cache-control': 'no-store', 'via': '1.1 google', 'Alt-Svc': 'h3=\":443\"; ma=2592000,h3-29=\":443\"; ma=2592000', 'Transfer-Encoding': 'chunked'}"
     ]
    }
   ],
   "source": [
    "\n",
    "access_token, refresh_token = auth.authenticate('fP0XSHANjtz5vrsOiJA2BCJLvvkjIZrN')"
   ]
  }
 ],
 "metadata": {
  "kernelspec": {
   "display_name": "Python 3 (ipykernel)",
   "language": "python",
   "name": "python3"
  },
  "language_info": {
   "codemirror_mode": {
    "name": "ipython",
    "version": 3
   },
   "file_extension": ".py",
   "mimetype": "text/x-python",
   "name": "python",
   "nbconvert_exporter": "python",
   "pygments_lexer": "ipython3",
   "version": "3.7.4"
  }
 },
 "nbformat": 4,
 "nbformat_minor": 5
}
