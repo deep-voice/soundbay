{
 "cells": [
  {
   "cell_type": "code",
   "execution_count": 3,
   "metadata": {},
   "outputs": [],
   "source": [
    "import numpy as np\n",
    "import matplotlib.pyplot as plt\n",
    "import pandas as pd\n",
    "import soundfile as sf\n",
    "from pathlib import Path\n",
    "import re\n",
    "import json\n",
    "from pathlib import Path"
   ]
  },
  {
   "cell_type": "markdown",
   "metadata": {},
   "source": [
    "# Read metadata"
   ]
  },
  {
   "cell_type": "code",
   "execution_count": 4,
   "metadata": {},
   "outputs": [],
   "source": [
    "file_path = 'PATH_TO_TRAIN2_WAV_FILES_HERE'"
   ]
  },
  {
   "cell_type": "code",
   "execution_count": 5,
   "metadata": {},
   "outputs": [],
   "source": [
    "file_path_obj = Path(file_path)"
   ]
  },
  {
   "cell_type": "code",
   "execution_count": 6,
   "metadata": {},
   "outputs": [],
   "source": [
    "all_files = list(file_path_obj.glob('*.wav'))"
   ]
  },
  {
   "cell_type": "code",
   "execution_count": 7,
   "metadata": {},
   "outputs": [],
   "source": [
    "n_files = len(all_files)"
   ]
  },
  {
   "cell_type": "code",
   "execution_count": 8,
   "metadata": {},
   "outputs": [
    {
     "data": {
      "text/plain": [
       "2.0"
      ]
     },
     "execution_count": 8,
     "metadata": {},
     "output_type": "execute_result"
    }
   ],
   "source": [
    "sf.info(all_files[0]).duration"
   ]
  },
  {
   "cell_type": "code",
   "execution_count": 9,
   "metadata": {},
   "outputs": [],
   "source": [
    "duration_vec = np.array([float(sf.info(file).duration) for file in all_files]).reshape((-1,1))"
   ]
  },
  {
   "cell_type": "code",
   "execution_count": 10,
   "metadata": {},
   "outputs": [],
   "source": [
    "annotation_df = pd.DataFrame(data=np.concatenate([np.ones((n_files, 1))*0, duration_vec, \n",
    "                                                  np.array([all_files[i].stem for i in range(n_files)]).reshape((-1,1)),\n",
    "                                                  duration_vec,\n",
    "                                                  np.array([int(file.stem[-1]) for file in all_files]).reshape((-1,1))],axis=1),\n",
    "                             columns=['begin_time', 'end_time', 'filename', 'call_length', 'label'])"
   ]
  },
  {
   "cell_type": "code",
   "execution_count": 11,
   "metadata": {},
   "outputs": [
    {
     "data": {
      "text/html": [
       "<div>\n",
       "<style scoped>\n",
       "    .dataframe tbody tr th:only-of-type {\n",
       "        vertical-align: middle;\n",
       "    }\n",
       "\n",
       "    .dataframe tbody tr th {\n",
       "        vertical-align: top;\n",
       "    }\n",
       "\n",
       "    .dataframe thead th {\n",
       "        text-align: right;\n",
       "    }\n",
       "</style>\n",
       "<table border=\"1\" class=\"dataframe\">\n",
       "  <thead>\n",
       "    <tr style=\"text-align: right;\">\n",
       "      <th></th>\n",
       "      <th>begin_time</th>\n",
       "      <th>end_time</th>\n",
       "      <th>filename</th>\n",
       "      <th>call_length</th>\n",
       "      <th>label</th>\n",
       "    </tr>\n",
       "  </thead>\n",
       "  <tbody>\n",
       "    <tr>\n",
       "      <th>0</th>\n",
       "      <td>0.0</td>\n",
       "      <td>2.0</td>\n",
       "      <td>20090328_154500_57416s2ms_TRAIN4628_0</td>\n",
       "      <td>2.0</td>\n",
       "      <td>0</td>\n",
       "    </tr>\n",
       "    <tr>\n",
       "      <th>1</th>\n",
       "      <td>0.0</td>\n",
       "      <td>2.0</td>\n",
       "      <td>20090331_013000_5572s9ms_TRAIN35141_0</td>\n",
       "      <td>2.0</td>\n",
       "      <td>0</td>\n",
       "    </tr>\n",
       "    <tr>\n",
       "      <th>2</th>\n",
       "      <td>0.0</td>\n",
       "      <td>2.0</td>\n",
       "      <td>20090328_084500_32367s3ms_TRAIN2912_0</td>\n",
       "      <td>2.0</td>\n",
       "      <td>0</td>\n",
       "    </tr>\n",
       "    <tr>\n",
       "      <th>3</th>\n",
       "      <td>0.0</td>\n",
       "      <td>2.0</td>\n",
       "      <td>20090330_201500_73204s1ms_TRAIN30992_0</td>\n",
       "      <td>2.0</td>\n",
       "      <td>0</td>\n",
       "    </tr>\n",
       "    <tr>\n",
       "      <th>4</th>\n",
       "      <td>0.0</td>\n",
       "      <td>2.0</td>\n",
       "      <td>20090331_051500_18991s7ms_TRAIN37144_0</td>\n",
       "      <td>2.0</td>\n",
       "      <td>0</td>\n",
       "    </tr>\n",
       "    <tr>\n",
       "      <th>...</th>\n",
       "      <td>...</td>\n",
       "      <td>...</td>\n",
       "      <td>...</td>\n",
       "      <td>...</td>\n",
       "      <td>...</td>\n",
       "    </tr>\n",
       "    <tr>\n",
       "      <th>47836</th>\n",
       "      <td>0.0</td>\n",
       "      <td>2.0</td>\n",
       "      <td>20090328_201500_72962s7ms_TRAIN5967_1</td>\n",
       "      <td>2.0</td>\n",
       "      <td>1</td>\n",
       "    </tr>\n",
       "    <tr>\n",
       "      <th>47837</th>\n",
       "      <td>0.0</td>\n",
       "      <td>2.0</td>\n",
       "      <td>20090330_090000_32570s5ms_TRAIN26169_1</td>\n",
       "      <td>2.0</td>\n",
       "      <td>1</td>\n",
       "    </tr>\n",
       "    <tr>\n",
       "      <th>47838</th>\n",
       "      <td>0.0</td>\n",
       "      <td>2.0</td>\n",
       "      <td>20090331_154500_56923s0ms_TRAIN42259_1</td>\n",
       "      <td>2.0</td>\n",
       "      <td>1</td>\n",
       "    </tr>\n",
       "    <tr>\n",
       "      <th>47839</th>\n",
       "      <td>0.0</td>\n",
       "      <td>2.0</td>\n",
       "      <td>20090329_213000_78115s0ms_TRAIN21658_0</td>\n",
       "      <td>2.0</td>\n",
       "      <td>0</td>\n",
       "    </tr>\n",
       "    <tr>\n",
       "      <th>47840</th>\n",
       "      <td>0.0</td>\n",
       "      <td>1.835</td>\n",
       "      <td>20090328_224500_81958s4ms_TRAIN7596_0</td>\n",
       "      <td>1.835</td>\n",
       "      <td>0</td>\n",
       "    </tr>\n",
       "  </tbody>\n",
       "</table>\n",
       "<p>47841 rows × 5 columns</p>\n",
       "</div>"
      ],
      "text/plain": [
       "      begin_time end_time                                filename call_length  \\\n",
       "0            0.0      2.0   20090328_154500_57416s2ms_TRAIN4628_0         2.0   \n",
       "1            0.0      2.0   20090331_013000_5572s9ms_TRAIN35141_0         2.0   \n",
       "2            0.0      2.0   20090328_084500_32367s3ms_TRAIN2912_0         2.0   \n",
       "3            0.0      2.0  20090330_201500_73204s1ms_TRAIN30992_0         2.0   \n",
       "4            0.0      2.0  20090331_051500_18991s7ms_TRAIN37144_0         2.0   \n",
       "...          ...      ...                                     ...         ...   \n",
       "47836        0.0      2.0   20090328_201500_72962s7ms_TRAIN5967_1         2.0   \n",
       "47837        0.0      2.0  20090330_090000_32570s5ms_TRAIN26169_1         2.0   \n",
       "47838        0.0      2.0  20090331_154500_56923s0ms_TRAIN42259_1         2.0   \n",
       "47839        0.0      2.0  20090329_213000_78115s0ms_TRAIN21658_0         2.0   \n",
       "47840        0.0    1.835   20090328_224500_81958s4ms_TRAIN7596_0       1.835   \n",
       "\n",
       "      label  \n",
       "0         0  \n",
       "1         0  \n",
       "2         0  \n",
       "3         0  \n",
       "4         0  \n",
       "...     ...  \n",
       "47836     1  \n",
       "47837     1  \n",
       "47838     1  \n",
       "47839     0  \n",
       "47840     0  \n",
       "\n",
       "[47841 rows x 5 columns]"
      ]
     },
     "execution_count": 11,
     "metadata": {},
     "output_type": "execute_result"
    }
   ],
   "source": [
    "annotation_df"
   ]
  },
  {
   "cell_type": "code",
   "execution_count": 12,
   "metadata": {},
   "outputs": [
    {
     "data": {
      "text/plain": [
       "(47841, 5)"
      ]
     },
     "execution_count": 12,
     "metadata": {},
     "output_type": "execute_result"
    }
   ],
   "source": [
    "annotation_df.shape"
   ]
  },
  {
   "cell_type": "code",
   "execution_count": 196,
   "metadata": {},
   "outputs": [
    {
     "data": {
      "text/plain": [
       "(44212, 5)"
      ]
     },
     "execution_count": 196,
     "metadata": {},
     "output_type": "execute_result"
    }
   ],
   "source": [
    "annotation_df[annotation_df.call_length > 1.65].shape"
   ]
  },
  {
   "cell_type": "code",
   "execution_count": 197,
   "metadata": {},
   "outputs": [],
   "source": [
    "annotation_df[annotation_df.call_length > 1.65].to_csv('SAVE_ALL_ANOTTATIONS', index=False)"
   ]
  },
  {
   "cell_type": "code",
   "execution_count": 75,
   "metadata": {},
   "outputs": [
    {
     "data": {
      "text/plain": [
       "0    42565\n",
       "1     5276\n",
       "Name: label, dtype: int64"
      ]
     },
     "execution_count": 75,
     "metadata": {},
     "output_type": "execute_result"
    }
   ],
   "source": [
    "annotation_df.label.value_counts()"
   ]
  },
  {
   "cell_type": "markdown",
   "metadata": {},
   "source": [
    "# Show sample"
   ]
  },
  {
   "cell_type": "code",
   "execution_count": 13,
   "metadata": {},
   "outputs": [],
   "source": [
    "annotation_df = pd.read_csv('SAVE_ALL_ANOTTATIONS')"
   ]
  },
  {
   "cell_type": "code",
   "execution_count": 14,
   "metadata": {},
   "outputs": [],
   "source": [
    "import random\n",
    "import librosa\n",
    "from librosa import display\n",
    "import IPython.display as ipd\n",
    "import matplotlib.pyplot as plt\n",
    "import wave\n",
    "%matplotlib inline"
   ]
  },
  {
   "cell_type": "code",
   "execution_count": 15,
   "metadata": {},
   "outputs": [],
   "source": [
    "def play_audio_plot_stft(df_series, audio_path):\n",
    "    def get_sr(wav_path):\n",
    "        with wave.open(str(wav_path), \"rb\") as wave_file:\n",
    "            return wave_file.getframerate()\n",
    "    \n",
    "    def play_audio(audio_data, sr):\n",
    "        ipd.display(ipd.Audio(audio_data, rate=sr))\n",
    "    \n",
    "    def plot_stft(audio_data, sr):\n",
    "        plt.figure(figsize=(15,7))\n",
    "        nfft = 256\n",
    "        D = librosa.amplitude_to_db(librosa.stft(audio_data, n_fft=nfft, hop_length=nfft // 4), ref=np.max)\n",
    "        display.specshow(D, sr=sr, fmax=10000)\n",
    "        plt.colorbar(format='%+2.0f dB')\n",
    "    \n",
    "    audio_file_path = (audio_path + df_series['filename'] + '.wav')\n",
    "    start_time = df_series['begin_time']\n",
    "    end_time = df_series['end_time']\n",
    "    sr = get_sr(audio_file_path)\n",
    "    audio_data, sr = sf.read(audio_file_path, start=int(start_time*sr), stop=int(end_time*sr))\n",
    "    \n",
    "    play_audio(audio_data, sr)\n",
    "    plot_stft(audio_data, sr)\n",
    "    plt.title(df_series['filename'] + ' ' + str(df_series['label']))"
   ]
  },
  {
   "cell_type": "code",
   "execution_count": 187,
   "metadata": {},
   "outputs": [
    {
     "data": {
      "text/html": [
       "\n",
       "                <audio  controls=\"controls\" >\n",
       "                    <source src=\"data:audio/wav;base64,UklGRmQfAABXQVZFZm10IBAAAAABAAEA0AcAAKAPAAACABAAZGF0YUAfAAD98EDsae8z8JLy/fCS8nn6Q/ui/df8bP4N/K75Q/vKAF4CDfzzAykDygCHBV4CvQTX/Gz+1/yi/df8AAB5+qL9AACu+Rr4kvKS8v3wXPMK7Vzzn+5p78jxkvIn9IX2GvgN/Gz+DfzX/PH0efoa+Hn65PhQ90P7ygDKADb/Q/t5+kP7lAHKAJQBNv+UAWz+Dfw2/0P7ygC79aL9efrX/Nf8DfzX/EP71/xQ99f8UPcn9P3w1O1p7xfp8fQn9PH0kvK79YX25Pg2/+T4ygBD+ykDAAAAAGz+AADzAwAAlAHX/AAAov2u+UP7Q/vX/Hn6DfwN/K75Q/uUAaL9KQNs/gAAQ/tD++T45PgN/FD3u/Vc88jxduuf7kDsdusz8DPwJ/Rp78jx5Pga+Hn61/zk+K75XPPk+FD3Dfyu+Rr4UPdQ96L9u/WS8uT4bP4AADb/ov1s/tf8UPdQ9675Dfxs/nn6Gvii/a75KQOHBVIGKQMpA2z+efoa+EP7Gvgz8ArtXPMN/A385PjKAL0E8wNeAgAA8wMpAykDlAEpA8oAKQOUAV4CygBD+2z+GviwCCkDUgakDHsJhwWwCLAI2QuwCHsJ5gcpA+YHhwVSBikDUgaHBSkDlAFeAvMDov15+uT4efp5+kP7AADKADb/ygC9BMoAKQMpAxwH5gcPCxwHXgLzA/MDKQOHBSkDvQQcB3sJhwUcB9kLbg1uDSwSOA6XEG4NpAwDD3sJvQSUAZQBAAAAAGz+hwUpAykDewkcBykDHAeUAV4CbP4AAGz+AAA2/5QBygApAw8LUgZeAl4CXgKu+UP7ov3X/EP7GvjX/K75hfa79Q38ov0N/A38rvkAAK75rvlD+3n6UPeS8sjxyPHI8TPwhfbI8fH0kvJc85/uuOZZ5CPlWeT64ajbZuA93Y/j7uWC5xfpuObh6avqduvu5Rfpguf98EDsQOwK7UDs/fBQ9wrtae/h6Qrtgufh6avq1O1A7FzzQOyr6uHpQOxN6O7lZuC45sXixeL64dHeZuA93XPcVtUg1iDWY9GM1OvWY9FW1X/YqNv64cXixeIw4SPlWeTF4nPcSdlz3HPc3toH3j3dB9493d7ac9ww4e7lI+WC5yPlI+XR3hTac9ze2qjbf9jC08LTwtN/2OvW0d6117XXwtMt0nDNicXox+jHKsPox+jHsshwzQTPzs+116jbqNtz3FnknN893Qfef9g93ajbFNqo2xTaFNp/2H/Y69aZ0M7PLdKZ0M7P99LOzxHL28uyyATPBM86zpnQEctwzaXM28tTxhHLicUqw8vAAcAOvA68r7lsvmy+N7+/xGDCYMLox+jHpcx8yZnQBM+M1GPRcM1GyrLI28vOz9vLBM+Z0HDNOs46zmPREcvOz6XMBM98yWDCv8QOvGy+Q7vluBq4r7kauCe0or2ivaK9ULfIsYa2n640sGmvJ7S8tSe0r7m8tdi8v8S/xKXMzs9j0ZnQ28tj0XDNOs5GyjrOfMm/xInF9MMqw0bKicV8yXzJ28ulzIzUBM8Ry1PGHceWwUO75bi8tVC3r7m8tVC3yLEntCe0hrZdszSwyLG8tcix8bQOvPTDHccdx3DNBM+Z0FbVY9FW1cLT3trr1lbVwtN8yaXM28sEz6XMpczby3DNsshwzaXMzs+Z0BHLfMlgwg68icVgwsvAor1gwh3H6MeyyKXMssgdx2DCHcdgwpbBN78BwGDClsGJxWDCzs+M1MLTFNrC02PRtddJ2RTa3toU2rXXjNRwzSDWjNRj0YzUY9Et0lbVtdd/2BTaLdLr1rXXjNSM1M7PY9Fj0WPR28uJxdvL28ulzNvLfMnOz+jH6MeyyKXM28uZ0GPRLdL30jrO28vbywTPfMkEz6XMcM1GygTPmdB/2MLT3tpz3BTajNRwzZnQY9EEz87P99KZ0GPRcM0Ez5nQINYt0pnQOs6lzDrO9MMdxyrDlsGiva+5ebpQt/G0NLBpr7y1bL4OvJbBKsOyyATPBM+lzBHLEcuyyOjHssiJxfTDssjox/TDU8Z8yejHy8CyyKXM6MelzKXMEcvoxxHLfMmJxR3HKsOJxb/Ey8Adx2DC9MM3v7LIlsE3vw68or15ulC3r7kOvA68N78BwMvAor3LwGDCv8T0wxHL28uZ0LLIBM+lzEbKicX0w8vA9MPLwA68ssgdx1PGRsp8yR3H6MdTxnzJHcc6zujHfMnox4nFU8a/xBHLcM1j0WPR28twzbLI28sRy3DN28t8yS3SBM9j0ffS99IEz/fSwtMt0rXXjNRJ2ajbf9je2qjbPd2o27XXtdfC0y3StdeM1BTa3tpW1evWf9gU2t7aFNp/2LXXqNsU2t7aSdk93dHe3tqc397aFNrr1n/YqNtJ2d7ac9yc30nZ3tqc36jbPd2o2wfeFNow4T3dB95z3DDhFNo93d7ac9zR3t7aZuDR3j3dZuCc397aqNtz3MXiuOZZ5O7lgucj5RfpZuCP49HeI+XR3n/YmdBJ2VbVINb30n/YjNQg1qjb3tqc34/jj+Pu5SPluOaC54LnI+VZ5PrhZuDF4rjmI+VN6OHpq+oX6dTtkvLU7ZLyn+5261zz/fAz8P3wJ/Rc8xr4UPcn9PH01/zk+Lv1rvnk+IX2M/DI8Wnv/fAK7cjxq+qf7tTtn+7x9Gnvu/Xk+Hn6UPfk+Lv1ygCUAV4CKQOUAcoANv9D+3n6Q/ui/aL9AABs/q751/zKAA38lAGUARwHKQNeAl4CvQSi/Wz+Q/ts/ikDDfxD+0P7AABD+675Dfwa+Gz+rvkAAJQBygDX/Db/bP4AANf8XgLX/MoAhwUAACkDvQSHBQAAhwVSBuYH8wMcB3sJKQMpA1IGvQQAACkDbP7mB4cFXgLzA1IGUgZuDQMP5gcPC+YHHAcAANf8rvmu+YX2yPHh6UDshfZc87v1UPfX/Hn6bP42/zb/ov2i/aL9ov2F9tf8u/V5+rv15Pgn9Lv1XPPk+IX2UPd5+hr45Pgn9Lv1XPOf7grtM/Az8ArtXPOr6jPwn+7x9JLygucw4frhMOHF4knZSdkU2mbgnN/R3vrh+uHF4rjm4elZ5Hbrq+pA7ILnTejh6Qrt4elN6ILn7uVA7LjmWeT64ZzfB97e2mbgB96c3+vWqNtz3LXXPd0U2n/Ytdfe2gfeB95/2MLTBM9Gys7PHcc3v/TDKsP0w0bK28t8yejHssiJxYnFfMlgwlPGlsE3vwHAN7/LwDe/bL70wze/icU6zrLIicVTxje/lsEBwNi85bivuSe0ULeGtie0yLF5usvAbL40sJKyJ7SsqkCsuaa5po+juaYxoWagc5xNqE2oNLC8tfG0hraGtoa2/rCsqgutWqSPozGhj6PFovuhMaH7oSSlJKVNqP6waa8ntDSwyLHVrf6wg6ckpVqkxaLupSSlTagkpU2onJ+Po+KpTag9nYCYV5WAmGORY5FjkduL24s6jsKTIZYUmhSaZqAxoVqkrKpNqAutF6lNqIOnMaExoT2dnJ/fmt+a0p7rljGhCJ6Po+6ldqsLrZKyNLAXqU2o0p6pm1eVY5EhlleVwpNXlc+PIZYhlt+a35riqSSlWqTSnkqZZqCAmN+aFJqAmKmbc5xznHOcuaafrlC38bTLwA68J7TxtCe0aa+sqoOnJKUkpSSlJKVNqE2oC62frv6wULc3v5bB2LzLwGy+NLDluBepg6cInnOcc5xapJyfQKwXqf6whrZDu7/EssjYvOjHQ7vxtLy1NLA0sLy1XbNQt6+52Lz0wwHAHccEz2PRSdmZ0B3Hv8RDuxq4J7Sfrl2zQ7sauK+59MMqw3zJssjC0yDWjNTr1sLTN7/YvIa2ULeSsl2z/rCGtmy+EcsRy/fSLdKM1Prh0d7R3sXiFNpJ2ajbBM98yUbKssg6zh3Hpcx8yaXM99It0iDWqNvr1hTaPd2c30nZjNSZ0HDNRsqJxSrD9MMRy6XMcM330vfS99JJ2RTaB97r1n/Y28vbyyrDy8CWwQHAN79gwonFzs8g1iDWqNsw4Y/jnN+c38XiPd2113DNmdClzHzJfMlgwh3H99LOzyDWtde11z3dc9xm4Fnk0d5z3H/Y99I6zpbBKsO8tRq4yLFQtw68icUqw5nQjNRz3NHeI+Uj5SPljNTby/TDv8SJxWy+icUqw6XM99J/2JzfxeIj5Xbr7uV2603oI+XR3t7a28uyyHzJYMJTxs7PwtMg1o/jWeQK7fH08fSF9lzzuOa45nPc28sRy4nF9MMqw7/EEcuM1EnZ+uGP4yPlTehA7FzzyPHx9OHpj+M93X/Y99It0mPR28vOzzrOf9gH3lnk4ekz8Hn6ygA2/675kvJN6D3dB94g1n/YOs4Ez4zUqNtZ5ILnduur6lzzJ/SF9lD3/fAj5VbVEct8yejHicV8ydvLOs493ZzfCu279Xn6vQQcB3sJvQSi/Vzzgud/2FbVVtX30pnQzs+119HeduuF9gAAXgIPC6QMAw8DDw38M/D64SDWcM0dx4nFRsr0w9vL99Kc3xfp/fDzAxwH8wPKACf01O093YzUEctwzdvLY9GM1BTa+uGS8lD3KQMAALAI8wND+7v17uXe2jrOHcdgwpbBlsGyyOjHzs9/2MXiae/I8bv18fTx9PH0gudJ2WDChrasqiSlTaiSsie0AcCyyLXXWeQz8Gnvn+4K7RfpMOHr1kbKeboLrSSlTagLrby1bL6yyJnQFNpN6Gnv/fB26+HpI+Xr1tvL5bgLrbmmuaaPo+KpNLB5uirD69ac34/jgucw4XPc28sqw+W44qnFoqmbSpmpm/uhdqtDux3HINY93avqkvKF9uT4QOxZ5LXX6Mc3v+Kpg6cIntKeJKWvuWy+LdLR3uHpUPdQ9xr4/fDh6VnkVtWJxXm6WqRmoD2dJKXVreW4U8bC03Pc4ekK7f3wCu2P4zDhc9zoxxq4JKWpm1eVIZYxoV2zHcd/2MXirvmi/VIGlAEa+ArtI+Ut0vTDC62cn4CYmZCpm7mmDryM1D3dXPN5+pQBewnmB675Teje2lPGeboxoSGWwpNwjQie4qlTxlbV+uGS8tf8vQR7CaL9XPMw4ZnQULeDpz2dtZdznI+j5bilzGbgu/V7Cd0amh/dGmER1/wj5RHL2LyDp/uhZqAXqZ+uKsNm4FD3UgazF/kh+SGaH+YHyPFJ2UO7xaK1l9uLLpLrlnarlsHe2hr4LBJxHOAp+SFxHKL9dutGyvG0c5yAmHCNIZbFog68INbU7QMPOx23JuAppxvND/3wLdLxtCSlSpkFjyGWJKXVrb/Ej+Ou+SwSZCDAE5cQXPN/2L/EnJ/4kpaBAYBUhoyU7qW/xNHeUPcPCzgOlxB7CVD3I+W/xMixc5y1l0qZZqAauLLItddp72z+UgYpA8oA1O093UbKaa9apC6StZf7oQutDrx8ydHeCu1c8xr48fT98NHe28t5uu6lg6ffmmagrKqGtpbBOs6M1Gbg0d5m4HPcBM+JxTe/yLGfroa2krKivb/EEcvOz7XXqNsH3qjbSdkg1pnQDryivYnFYMKJxYnFRsp8ydvL28vbyy3Stdcg1ozUfMnox9vL6Mfox4nF2LxQt7y12LwBwPTDINYU2n/YVtUU2sXigudA7Kvq0d6Z0B3Hor3LwGDCEcuZ0H/Ytdcj5U3o/fBQ9/H0M/D64aXM6Mf0wyrD6MdTxnDNc9zF4if0hfYa+FzzF+nR3vfSRsr0w0O7AcB8yQTP3tqr6rv1ygBs/r0Ehfb98GbgINbC01bVVtUH3uHpUPd5+pQBygApA+T4yPFN6NHec9wU2qjbB95N6Gnv1/wcB6QMbg3ZCykD5Pif7qvqxeKc3z3dnN9N6IX2XgLKAFIGewmi/YX2M/AX6bjmI+VZ5Hbrn+7X/KQMsxdIGVUVbg3mB5QBu/Vp75/uCu3U7ZLyygCkDKcbmh9kIMATLBIcB14C1O1c8yf0Gvhs/uYHDwthEd0aEho7HYoURQoAABr45Pgn9Br4Gvg2/xwHOA6KFLMXSBlVFZcQDwvmB+YH8wPX/JQB8wMPC24NzQ8DD24NewkAAPMD8wM2/9f8AADKAMoAUgZFCmEROA6zF2ERVRXNDw8LlAF5+q75J/Tx9Lv15PhD+14CpAwDD8ATihTND6QMvQQpA9f8efrx9A38vQSKFJofqiqBJy8hHxakDKL9yPF264LnF+nU7Wz+5gdIGfkhwyIGHlUVXgJD+zPw4ekj5Z/uNv84DqcbtybDIpofHxZeAk3o0d5j0QTPc9yr6kP7pAwSGrcmLyGKFEUKae893VbVwtPe2qvqov2XEC8hnS6BJ3EchwV5+qvq0d6117XXdutQ93sJihSnGwYezQ9s/u7lwtNTxr/ERspz3Kvq1/y9BNkLsAgAAEDsLdJTxkO7or2WwS3SuOZ5+g8LLBIPC2z+8fRm4MLTEcuyyC3SI+WF9lIGpAzND2ERihRQ9z3dzs9svh3HY9GP4wrtkvK79VD3Cu1Z5EnZY9FW1S3Sf9hz3OHpI+V26/rh3tr30ujHor2SsnarGri11+HpTegn9DPwj+Mg1hTaINaM1C3S69Yw4Xbr/fCf7sjx4emc3y3SfMlTxkbKBM/r1mbgq+qf7rjmMOHR3qjbmdA6zpnQmdBz3HPc4elA7DPw/fCr6i3S8bSfrqyqNLA3v0bK99IEzwTPY9H30vfSOs5wzZnQ69Yw4Vnkq+qf7k3onN8U2n/Y99It0ozU3toj5Y/jF+mP46jb3trr1uvWLdIRy6XM69a11/rhCu0z8IX2QOxz3H/YwtNW1WPRwtNJ2XPcSdkt0qXM6MfOz0nZ+uE93VnkWeT98KL98wMN/IX2gudN6NHeZuDF4vrh4ekK7Q38lAEN/IX2n+6C503o7uVN6ArtJ/Tk+KL9Gvjx9Kvq0d611xTaf9hz3I/jI+XU7VzzyPEK7YLnj+Nz3DDhWeSf7lzz5PjzA8oAygB5+vH0F+lZ5LjmnN+P40DskvIAAMoAbP679Rfp7uWC503oI+Vp71zzUPca+K75XPNp7+HpTeiP41nkguer6qvqF+nU7eHpWeRW1QTPsshwzZnQqNuC53brkvIN/P3w/fBN6HPcSdnR3gfeWeTu5UDsM/AX6frhB9730i3Szs/e2mbgWeTU7fH0M/Cr6mbgINZwzQTPBM/by2PR3trR3mbg0d4U2hHLHcdsvr/Eor1Dux3HBM/r1lbV69aM1PfSssg6zlPGHcdwzZnQ69br1pnQzs8dx8vAor3luJKy8bQ3v3zJEcsEz2PRsshgwsvA2LxDu3m6bL4BwPTDHcd8yR3H9MMOvLy1/rDVrUCskrKWwYnFU8b0w1PGor3YvA68XbP+sIa2AcB8yaXMEcvox2DC5bgauHarTaiDp0Cs8bS8taK9GrgauHm6C63+sIOnF6niqf6wULevuUO7Q7u8tby1NLCfrlqkuaafrl2z2Ly8tSe0yLGDpySlSplXlUqZnJ9apDSwJ7QauFC3r7lds12z4qlArMWig6fxtOW42LxgwsvAQ7vIsfG0NLAntJKyr7kOvGDCr7kntJKyQKxprxeprKokpayqhraGtkO7hravufG04qm5ppyfV5XrllqkyLHluPG0ULcntFC3NLCSsqyquaYntBq4lsHYvEO75biGtoa2/rDVrWmv/rBds1C3ULeWwTe/AcCivby1GrgntK+5DrwauGy+DrzLwJbBor0ntOW48bTluLy1r7nxtP6wkrJQt5Kydqu5pnarC60ntNWt8bRQt5bB9MOJxUO72LxDu9i8KsN5ug689MOyyEbKYMIOvBq4Q7tgwqK92Ly8tQHAKsMdx7/EeboOvKK9AcBsvqK92LwBwAHAU8ZsvuW4krIntCe0yLEntBq4AcCWwfTDHce/xHm6or2ivZbBor0BwMvAcM1wzZnQcM2yyGDC6MeWwb/Essjox7LIpcylzHDNHcd8yTrOOs70w7/EKsO/xCrDy8Aqw2DCv8TLwInFicVgwsvAYML0w8vAQ7uGtq+5ebo3v2y+lsEqw2DCKsNTxmPREcsEz3DNLdKM1NvLRsp8yQTPHcdGyujHU8a/xBHLzs+M1MLTY9ERy3zJOs6lzNvLRsqyyHDNfMkRyzrOY9GM1IzUzs/by/TDicXLwL/EDryJxejHHce/xOjHfMl8yaXM99It0vfSwtM6zlbVtdf30kbKHcfbyzrOY9FGypnQLdK111bV69bC0/fS69ZW1Qfec9ze2iDWtdd/2FbVwtNj0SDW99KZ0HDNcM1GyrLI28vbyx3H6MdwzZnQjNRj0WPRBM8t0s7P99IEz1bVjNSM1LXXc9w93QfeSdlz3LXXzs9j0XDNOs4t0sLTf9gg1hTanN+c34/j0d4w4RTaMOF/2N7ajNTe2t7a3tpz3BTaFNpj0VbVmdA6zsLT69Y93QfeqNve2gfej+OC51nkduvh6cjx/fBc8yf0J/SF9lzzhfbx9Cf0Gvga+JLyJ/S79fH0u/Xx9OT4J/Rc84X28fQN/Br4efrk+K75ov15+lD3UPcn9PH0UPcn9P3whfbI8VzzXPMa+MjxXPMn9PH0UPeu+ZQBefo2/w38DfwpAxr4efqu+UP71/zX/AAAbP6i/QAA1/yUASkDewkAABwHhwUAAEP7vQSi/VIGvQSi/Xn6UPeu+Rr4hfaS8tTt/fAX6eHpguef7tTtJ/S79a75u/VQ98oArvkAAKL9XgKUAV4CUgbzA4cFQ/vKAMoAlAFSBvMD1/yi/coANv+UAfMDUgYpA2z+XgI2/5QBAAA2/w38ygAN/A38XPMn9J/uCu0X6SPluOb64eHpZuBN6Bfpguer6jPwkvL98FzzJ/Qn9MjxXPPU7XbruOZN6ArtF+kX6eHpCu0K7WnvkvIK7avq7uUj5VnknN9Z5LjmI+Uw4TDhuObu5SPluOYw4ZzfSdlJ2bXXwtM6zgTPBM/C08LTwtMg1hTa3tpz3N7af9io23/YINaM1ATPOs7r1lbVFNq119HenN8w4QfeI+WP44/jxeLF4k3oMOG45o/jMOH64XPcnN9m4GbgZuBz3N7aINYt0mPRcM2JxSrDssgqw3zJsshj0ZnQY9Et0pnQINbOz1bVwtMg1n/YFNpz3CDWnN8j5WbgnN+P48XiMOFm4CPlWeSP4/rhI+UH3tHe0d764Wbgc9xm4GbgB95/2HPcPd1z3IzU69Zj0XDNzs8Ez87PY9GZ0BHLVtU6zvfS99It0knZINZz3EnZc9x/2CDWINZz3BTaqNsH3hTaPd3e2qjbf9h/2HPcqNvR3n/YFNoH3hTajNSM1GPR69bC07XXVtV/2BTaZuC11/fSfMl8ybLIU8Z8yb/EYMJgwujHRspwzXDNjNS114zU99KM1C3SVtWo2yDWFNog1t7a69be2uvW69aM1CDWmdBj0dvLY9GZ0GPRcM330jrOjNRj0cLTwtPC0xTaINY93T3dMOHe2t7aINa114zUBM9j0ZnQEculzMLTLdJ/2N7a0d645vrhMOHF4sXiMOHR3vrhxeL64T3dFNpm4JzfZuCC5+7lF+lN6KvquObu5frh7uWr6kDsdutp71D3rvkN/MoA1/yi/a75efpQ9/3w4elZ5NHeZuAH3n/Y0d7u5U3oQOwz8GnvkvIz8Cf0n+6f7tTtCu0K7Z/udutp79Ttn+4n9JLyXPPx9IX2rvm79ZLyae+S8vH08fSS8jPwkvLh6dTtae9A7P3wJ/TX/IX2kvKr6lnkZuDR3qjbc9xm4Gbg4em45uHpgucX6XbrXPMn9Cf0yPF5+nn6kvJp79TtF+mr6kDsq+oj5SPln+6r6hfpF+nU7eHpM/D98EDsae/h6Wnv/fAK7U3oQOwX6WnvyPFp75/uduur6if0kvIK7Xbrn+4z8DPw/fDI8Sf05PhD+3n6DfwAAA38Nv/X/F4CAADKAEP71/y79a75UPfX/Hn6DfzX/F4CvQTmB7AIRQqwCLAIsAjZC1IGUgZ7CW4NDwukDAMPpAywCBwHvQTzA/MDNv/KAKL9u/UN/Gz+lAHzA1IGygDZC14CRQpuDbAIewlFCqQMbg2wCOYHDwvZC0UKvQR7Cc0PAw/AE6QMYRGwCAMPHAfmBw8LlAFeAl4CvQQpA/MDhwUPC6QMDwsPC9kL5gewCL0ElAGi/V4CXgKkDNkLDwtFCqQMlxDNDw8LihRuDZcQzQ9FCqQM5ge9BLAIewl7CeYHHAfmBw8LRQrZC9kLHAd7CUUKpAzmB6QMHAd7CRwHlAHKAPMDAAAAADb/Nv95+hr4ov1Q90P78fQN/FD3Q/s2/9f8efqi/a75bP5s/gAAAADKAKL9Nv9s/kP7Q/sN/IX2rvkn9Br45PjX/EP7rvka+PH0rvkn9JLy/fDU7Z/u/fAn9PH0u/Un9OT48fT98NTtq+qC57jmuOac39HeB95m4PrhI+Xh6Y/jguer6uHpF+kj5bjm4ekK7eHpCu0X6ZLyn+4n9GnvXPPU7QrtQOxN6E3oWeSC51nk0d7F4o/jWeSP4xTaf9iM1H/Y3tpW1bXXINYg1rXX99Ig1vfSpcwt0sLTLdIEzy3SBM/30i3SINYg1iDWFNq11+vW3trr1knZINbe2uvWVtXr1uvWmdAEzxHL6Mc6zhHLwtNj0c7PjNQ6ztvLOs4Ez6XMcM18yXzJfMnbyxHLU8ZwzRHL28twzXzJfMlgwg==\" type=\"audio/wav\" />\n",
       "                    Your browser does not support the audio element.\n",
       "                </audio>\n",
       "              "
      ],
      "text/plain": [
       "<IPython.lib.display.Audio object>"
      ]
     },
     "metadata": {},
     "output_type": "display_data"
    },
    {
     "data": {
      "image/png": "[encoded data removed]",
      "text/plain": [
       "<Figure size 1080x504 with 2 Axes>"
      ]
     },
     "metadata": {
      "needs_background": "light"
     },
     "output_type": "display_data"
    }
   ],
   "source": [
    "play_audio_plot_stft(annotation_df.sample(1).T.squeeze(), file_path)"
   ]
  },
  {
   "cell_type": "markdown",
   "metadata": {},
   "source": [
    "# split"
   ]
  },
  {
   "cell_type": "code",
   "execution_count": 206,
   "metadata": {},
   "outputs": [],
   "source": [
    "day = annotation_df.filename.str[6:8].astype(int)"
   ]
  },
  {
   "cell_type": "code",
   "execution_count": 207,
   "metadata": {},
   "outputs": [
    {
     "data": {
      "text/html": [
       "<div>\n",
       "<style scoped>\n",
       "    .dataframe tbody tr th:only-of-type {\n",
       "        vertical-align: middle;\n",
       "    }\n",
       "\n",
       "    .dataframe tbody tr th {\n",
       "        vertical-align: top;\n",
       "    }\n",
       "\n",
       "    .dataframe thead th {\n",
       "        text-align: right;\n",
       "    }\n",
       "</style>\n",
       "<table border=\"1\" class=\"dataframe\">\n",
       "  <thead>\n",
       "    <tr style=\"text-align: right;\">\n",
       "      <th></th>\n",
       "      <th>begin_time</th>\n",
       "      <th>end_time</th>\n",
       "      <th>filename</th>\n",
       "      <th>call_length</th>\n",
       "      <th>label</th>\n",
       "    </tr>\n",
       "  </thead>\n",
       "  <tbody>\n",
       "    <tr>\n",
       "      <th>0</th>\n",
       "      <td>0.0</td>\n",
       "      <td>2.000</td>\n",
       "      <td>20090328_154500_57416s2ms_TRAIN4628_0</td>\n",
       "      <td>2.000</td>\n",
       "      <td>0</td>\n",
       "    </tr>\n",
       "    <tr>\n",
       "      <th>1</th>\n",
       "      <td>0.0</td>\n",
       "      <td>2.000</td>\n",
       "      <td>20090331_013000_5572s9ms_TRAIN35141_0</td>\n",
       "      <td>2.000</td>\n",
       "      <td>0</td>\n",
       "    </tr>\n",
       "    <tr>\n",
       "      <th>2</th>\n",
       "      <td>0.0</td>\n",
       "      <td>2.000</td>\n",
       "      <td>20090328_084500_32367s3ms_TRAIN2912_0</td>\n",
       "      <td>2.000</td>\n",
       "      <td>0</td>\n",
       "    </tr>\n",
       "    <tr>\n",
       "      <th>3</th>\n",
       "      <td>0.0</td>\n",
       "      <td>2.000</td>\n",
       "      <td>20090330_201500_73204s1ms_TRAIN30992_0</td>\n",
       "      <td>2.000</td>\n",
       "      <td>0</td>\n",
       "    </tr>\n",
       "    <tr>\n",
       "      <th>4</th>\n",
       "      <td>0.0</td>\n",
       "      <td>2.000</td>\n",
       "      <td>20090331_051500_18991s7ms_TRAIN37144_0</td>\n",
       "      <td>2.000</td>\n",
       "      <td>0</td>\n",
       "    </tr>\n",
       "    <tr>\n",
       "      <th>...</th>\n",
       "      <td>...</td>\n",
       "      <td>...</td>\n",
       "      <td>...</td>\n",
       "      <td>...</td>\n",
       "      <td>...</td>\n",
       "    </tr>\n",
       "    <tr>\n",
       "      <th>44207</th>\n",
       "      <td>0.0</td>\n",
       "      <td>2.000</td>\n",
       "      <td>20090328_201500_72962s7ms_TRAIN5967_1</td>\n",
       "      <td>2.000</td>\n",
       "      <td>1</td>\n",
       "    </tr>\n",
       "    <tr>\n",
       "      <th>44208</th>\n",
       "      <td>0.0</td>\n",
       "      <td>2.000</td>\n",
       "      <td>20090330_090000_32570s5ms_TRAIN26169_1</td>\n",
       "      <td>2.000</td>\n",
       "      <td>1</td>\n",
       "    </tr>\n",
       "    <tr>\n",
       "      <th>44209</th>\n",
       "      <td>0.0</td>\n",
       "      <td>2.000</td>\n",
       "      <td>20090331_154500_56923s0ms_TRAIN42259_1</td>\n",
       "      <td>2.000</td>\n",
       "      <td>1</td>\n",
       "    </tr>\n",
       "    <tr>\n",
       "      <th>44210</th>\n",
       "      <td>0.0</td>\n",
       "      <td>2.000</td>\n",
       "      <td>20090329_213000_78115s0ms_TRAIN21658_0</td>\n",
       "      <td>2.000</td>\n",
       "      <td>0</td>\n",
       "    </tr>\n",
       "    <tr>\n",
       "      <th>44211</th>\n",
       "      <td>0.0</td>\n",
       "      <td>1.835</td>\n",
       "      <td>20090328_224500_81958s4ms_TRAIN7596_0</td>\n",
       "      <td>1.835</td>\n",
       "      <td>0</td>\n",
       "    </tr>\n",
       "  </tbody>\n",
       "</table>\n",
       "<p>44212 rows × 5 columns</p>\n",
       "</div>"
      ],
      "text/plain": [
       "       begin_time  end_time                                filename  \\\n",
       "0             0.0     2.000   20090328_154500_57416s2ms_TRAIN4628_0   \n",
       "1             0.0     2.000   20090331_013000_5572s9ms_TRAIN35141_0   \n",
       "2             0.0     2.000   20090328_084500_32367s3ms_TRAIN2912_0   \n",
       "3             0.0     2.000  20090330_201500_73204s1ms_TRAIN30992_0   \n",
       "4             0.0     2.000  20090331_051500_18991s7ms_TRAIN37144_0   \n",
       "...           ...       ...                                     ...   \n",
       "44207         0.0     2.000   20090328_201500_72962s7ms_TRAIN5967_1   \n",
       "44208         0.0     2.000  20090330_090000_32570s5ms_TRAIN26169_1   \n",
       "44209         0.0     2.000  20090331_154500_56923s0ms_TRAIN42259_1   \n",
       "44210         0.0     2.000  20090329_213000_78115s0ms_TRAIN21658_0   \n",
       "44211         0.0     1.835   20090328_224500_81958s4ms_TRAIN7596_0   \n",
       "\n",
       "       call_length  label  \n",
       "0            2.000      0  \n",
       "1            2.000      0  \n",
       "2            2.000      0  \n",
       "3            2.000      0  \n",
       "4            2.000      0  \n",
       "...            ...    ...  \n",
       "44207        2.000      1  \n",
       "44208        2.000      1  \n",
       "44209        2.000      1  \n",
       "44210        2.000      0  \n",
       "44211        1.835      0  \n",
       "\n",
       "[44212 rows x 5 columns]"
      ]
     },
     "execution_count": 207,
     "metadata": {},
     "output_type": "execute_result"
    }
   ],
   "source": [
    "annotation_df"
   ]
  },
  {
   "cell_type": "code",
   "execution_count": 209,
   "metadata": {},
   "outputs": [
    {
     "data": {
      "text/plain": [
       "29    12944\n",
       "31    12927\n",
       "30    10338\n",
       "28     8003\n",
       "Name: filename, dtype: int64"
      ]
     },
     "execution_count": 209,
     "metadata": {},
     "output_type": "execute_result"
    }
   ],
   "source": [
    "day.value_counts()"
   ]
  },
  {
   "cell_type": "code",
   "execution_count": 212,
   "metadata": {},
   "outputs": [
    {
     "data": {
      "text/plain": [
       "0    0.91903\n",
       "1    0.08097\n",
       "Name: label, dtype: float64"
      ]
     },
     "execution_count": 212,
     "metadata": {},
     "output_type": "execute_result"
    }
   ],
   "source": [
    "annotation_df[day == 28]['label'].value_counts()/(day == 28).sum()"
   ]
  },
  {
   "cell_type": "code",
   "execution_count": 213,
   "metadata": {},
   "outputs": [
    {
     "data": {
      "text/plain": [
       "0    0.87979\n",
       "1    0.12021\n",
       "Name: label, dtype: float64"
      ]
     },
     "execution_count": 213,
     "metadata": {},
     "output_type": "execute_result"
    }
   ],
   "source": [
    "annotation_df[day == 29]['label'].value_counts()/(day == 29).sum()"
   ]
  },
  {
   "cell_type": "code",
   "execution_count": 214,
   "metadata": {},
   "outputs": [
    {
     "data": {
      "text/plain": [
       "0    0.879667\n",
       "1    0.120333\n",
       "Name: label, dtype: float64"
      ]
     },
     "execution_count": 214,
     "metadata": {},
     "output_type": "execute_result"
    }
   ],
   "source": [
    "annotation_df[day == 30]['label'].value_counts()/(day == 30).sum()"
   ]
  },
  {
   "cell_type": "code",
   "execution_count": 215,
   "metadata": {},
   "outputs": [
    {
     "data": {
      "text/plain": [
       "0    0.868724\n",
       "1    0.131276\n",
       "Name: label, dtype: float64"
      ]
     },
     "execution_count": 215,
     "metadata": {},
     "output_type": "execute_result"
    }
   ],
   "source": [
    "annotation_df[day == 31]['label'].value_counts()/(day == 31).sum()"
   ]
  },
  {
   "cell_type": "code",
   "execution_count": 216,
   "metadata": {},
   "outputs": [],
   "source": [
    "annotation_df[day == 28].to_csv('/storage/noam/whales/datasets/ICML2013_right_whale_redux/annotation_train2_test.csv', index=False)"
   ]
  },
  {
   "cell_type": "code",
   "execution_count": 217,
   "metadata": {},
   "outputs": [],
   "source": [
    "annotation_df[day == 30].to_csv('/storage/noam/whales/datasets/ICML2013_right_whale_redux/annotation_train2_val.csv', index=False)"
   ]
  },
  {
   "cell_type": "code",
   "execution_count": 219,
   "metadata": {},
   "outputs": [],
   "source": [
    "annotation_df[day.isin([29,31])].to_csv('/storage/noam/whales/datasets/ICML2013_right_whale_redux/annotation_train2_train.csv', index=False)"
   ]
  },
  {
   "cell_type": "markdown",
   "metadata": {},
   "source": [
    "## split chrisoph like"
   ]
  },
  {
   "cell_type": "code",
   "execution_count": 16,
   "metadata": {},
   "outputs": [],
   "source": [
    "ratio_train = 42 / (42 + 5)"
   ]
  },
  {
   "cell_type": "code",
   "execution_count": 17,
   "metadata": {},
   "outputs": [
    {
     "data": {
      "text/plain": [
       "0.8936170212765957"
      ]
     },
     "execution_count": 17,
     "metadata": {},
     "output_type": "execute_result"
    }
   ],
   "source": [
    "ratio_train"
   ]
  },
  {
   "cell_type": "code",
   "execution_count": 20,
   "metadata": {},
   "outputs": [],
   "source": [
    "christ_train_annotation_df = annotation_df.iloc[:int(ratio_train*annotation_df.shape[0]), :]\n",
    "christ_test_annotation_df = annotation_df.iloc[int(ratio_train*annotation_df.shape[0]):, :]"
   ]
  },
  {
   "cell_type": "code",
   "execution_count": 22,
   "metadata": {},
   "outputs": [],
   "source": [
    "christ_train_annotation_df.to_csv('/storage/noam/whales/datasets/ICML2013_right_whale_redux/annotation_train2_christoph_train.csv', index=False)\n",
    "christ_test_annotation_df.to_csv('/storage/noam/whales/datasets/ICML2013_right_whale_redux/annotation_train2_christoph_test.csv', index=False)"
   ]
  }
 ],
 "metadata": {
  "kernelspec": {
   "display_name": "whale",
   "language": "python",
   "name": "whale"
  },
  "language_info": {
   "codemirror_mode": {
    "name": "ipython",
    "version": 3
   },
   "file_extension": ".py",
   "mimetype": "text/x-python",
   "name": "python",
   "nbconvert_exporter": "python",
   "pygments_lexer": "ipython3",
   "version": "3.8.9"
  }
 },
 "nbformat": 4,
 "nbformat_minor": 4
}
