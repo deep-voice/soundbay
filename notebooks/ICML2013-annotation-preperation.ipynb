{
 "cells": [
  {
   "cell_type": "code",
   "execution_count": 245,
   "metadata": {},
   "outputs": [],
   "source": [
    "import numpy as np\n",
    "import matplotlib.pyplot as plt\n",
    "import pandas as pd\n",
    "import soundfile as sf\n",
    "from pathlib import Path\n",
    "import re\n",
    "import json\n",
    "from pathlib import Path"
   ]
  },
  {
   "cell_type": "markdown",
   "metadata": {},
   "source": [
    "# Read metadata"
   ]
  },
  {
   "cell_type": "code",
   "execution_count": 266,
   "metadata": {},
   "outputs": [],
   "source": [
    "file_path = 'PATH_2_WAV_ICML2013'\n",
    "artifcats_path = '/home/z30g0d/PycharmProjects/temp/trains/' #Artifact path"
   ]
  },
  {
   "cell_type": "code",
   "execution_count": 267,
   "metadata": {},
   "outputs": [],
   "source": [
    "file_path_obj = Path(file_path)"
   ]
  },
  {
   "cell_type": "code",
   "execution_count": 268,
   "metadata": {},
   "outputs": [],
   "source": [
    "all_files = list(file_path_obj.glob('*.wav'))"
   ]
  },
  {
   "cell_type": "code",
   "execution_count": 269,
   "metadata": {},
   "outputs": [],
   "source": [
    "n_files = len(all_files)"
   ]
  },
  {
   "cell_type": "code",
   "execution_count": 270,
   "metadata": {},
   "outputs": [
    {
     "data": {
      "text/plain": [
       "2.0"
      ]
     },
     "execution_count": 270,
     "metadata": {},
     "output_type": "execute_result"
    }
   ],
   "source": [
    "sf.info(all_files[0]).duration"
   ]
  },
  {
   "cell_type": "code",
   "execution_count": 271,
   "metadata": {},
   "outputs": [],
   "source": [
    "duration_vec = np.array([float(sf.info(file).duration) for file in all_files]).reshape((-1,1))"
   ]
  },
  {
   "cell_type": "code",
   "execution_count": 272,
   "metadata": {},
   "outputs": [],
   "source": [
    "annotation_df = pd.DataFrame(data=np.concatenate([np.ones((n_files, 1))*0, duration_vec, \n",
    "                                                  np.array([all_files[i].stem for i in range(n_files)]).reshape((-1,1)),\n",
    "                                                  duration_vec,\n",
    "                                                  np.array([int(file.stem[-1]) for file in all_files]).reshape((-1,1))],axis=1),\n",
    "                             columns=['begin_time', 'end_time', 'filename', 'call_length', 'label'])"
   ]
  },
  {
   "cell_type": "code",
   "execution_count": 273,
   "metadata": {},
   "outputs": [],
   "source": [
    "\n",
    "annotation_df = annotation_df.astype({'begin_time': 'float64', 'end_time':'float64', 'call_length':'float64',\n",
    "                                     'label':'int32'})\n"
   ]
  },
  {
   "cell_type": "code",
   "execution_count": 274,
   "metadata": {},
   "outputs": [
    {
     "data": {
      "text/html": [
       "<div>\n",
       "<style scoped>\n",
       "    .dataframe tbody tr th:only-of-type {\n",
       "        vertical-align: middle;\n",
       "    }\n",
       "\n",
       "    .dataframe tbody tr th {\n",
       "        vertical-align: top;\n",
       "    }\n",
       "\n",
       "    .dataframe thead th {\n",
       "        text-align: right;\n",
       "    }\n",
       "</style>\n",
       "<table border=\"1\" class=\"dataframe\">\n",
       "  <thead>\n",
       "    <tr style=\"text-align: right;\">\n",
       "      <th></th>\n",
       "      <th>begin_time</th>\n",
       "      <th>end_time</th>\n",
       "      <th>filename</th>\n",
       "      <th>call_length</th>\n",
       "      <th>label</th>\n",
       "    </tr>\n",
       "  </thead>\n",
       "  <tbody>\n",
       "    <tr>\n",
       "      <th>0</th>\n",
       "      <td>0.0</td>\n",
       "      <td>2.0</td>\n",
       "      <td>20090328_000000_010s8ms_TRAIN1_0</td>\n",
       "      <td>2.0</td>\n",
       "      <td>0</td>\n",
       "    </tr>\n",
       "    <tr>\n",
       "      <th>1</th>\n",
       "      <td>0.0</td>\n",
       "      <td>2.0</td>\n",
       "      <td>20090328_000000_068s4ms_TRAIN4_0</td>\n",
       "      <td>2.0</td>\n",
       "      <td>0</td>\n",
       "    </tr>\n",
       "    <tr>\n",
       "      <th>2</th>\n",
       "      <td>0.0</td>\n",
       "      <td>2.0</td>\n",
       "      <td>20090328_001500_1397s8ms_TRAIN216_1</td>\n",
       "      <td>2.0</td>\n",
       "      <td>1</td>\n",
       "    </tr>\n",
       "    <tr>\n",
       "      <th>3</th>\n",
       "      <td>0.0</td>\n",
       "      <td>2.0</td>\n",
       "      <td>20090328_000000_002s3ms_TRAIN0_0</td>\n",
       "      <td>2.0</td>\n",
       "      <td>0</td>\n",
       "    </tr>\n",
       "    <tr>\n",
       "      <th>4</th>\n",
       "      <td>0.0</td>\n",
       "      <td>2.0</td>\n",
       "      <td>20090328_001500_1379s8ms_TRAIN214_1</td>\n",
       "      <td>2.0</td>\n",
       "      <td>1</td>\n",
       "    </tr>\n",
       "    <tr>\n",
       "      <th>5</th>\n",
       "      <td>0.0</td>\n",
       "      <td>2.0</td>\n",
       "      <td>20090328_001500_1374s4ms_TRAIN213_1</td>\n",
       "      <td>2.0</td>\n",
       "      <td>1</td>\n",
       "    </tr>\n",
       "  </tbody>\n",
       "</table>\n",
       "</div>"
      ],
      "text/plain": [
       "   begin_time  end_time                             filename  call_length  \\\n",
       "0         0.0       2.0     20090328_000000_010s8ms_TRAIN1_0          2.0   \n",
       "1         0.0       2.0     20090328_000000_068s4ms_TRAIN4_0          2.0   \n",
       "2         0.0       2.0  20090328_001500_1397s8ms_TRAIN216_1          2.0   \n",
       "3         0.0       2.0     20090328_000000_002s3ms_TRAIN0_0          2.0   \n",
       "4         0.0       2.0  20090328_001500_1379s8ms_TRAIN214_1          2.0   \n",
       "5         0.0       2.0  20090328_001500_1374s4ms_TRAIN213_1          2.0   \n",
       "\n",
       "   label  \n",
       "0      0  \n",
       "1      0  \n",
       "2      1  \n",
       "3      0  \n",
       "4      1  \n",
       "5      1  "
      ]
     },
     "execution_count": 274,
     "metadata": {},
     "output_type": "execute_result"
    }
   ],
   "source": [
    "annotation_df"
   ]
  },
  {
   "cell_type": "code",
   "execution_count": 275,
   "metadata": {},
   "outputs": [],
   "source": [
    "annotation_df[annotation_df.call_length > 1.65].to_csv('SAVE_ALL_ANOTTATIONS', index=False)"
   ]
  },
  {
   "cell_type": "code",
   "execution_count": 276,
   "metadata": {},
   "outputs": [
    {
     "data": {
      "text/plain": [
       "0    3\n",
       "1    3\n",
       "Name: label, dtype: int64"
      ]
     },
     "execution_count": 276,
     "metadata": {},
     "output_type": "execute_result"
    }
   ],
   "source": [
    "annotation_df.label.value_counts()"
   ]
  },
  {
   "cell_type": "markdown",
   "metadata": {},
   "source": [
    "# Show sample"
   ]
  },
  {
   "cell_type": "code",
   "execution_count": 277,
   "metadata": {},
   "outputs": [],
   "source": [
    "annotation_df = pd.read_csv('SAVE_ALL_ANOTTATIONS')"
   ]
  },
  {
   "cell_type": "code",
   "execution_count": 278,
   "metadata": {},
   "outputs": [],
   "source": [
    "import random\n",
    "import librosa\n",
    "from librosa import display\n",
    "import IPython.display as ipd\n",
    "import matplotlib.pyplot as plt\n",
    "import wave\n",
    "%matplotlib inline"
   ]
  },
  {
   "cell_type": "code",
   "execution_count": 279,
   "metadata": {},
   "outputs": [],
   "source": [
    "def play_audio_plot_stft(df_series, audio_path):\n",
    "    def get_sr(wav_path):\n",
    "        with wave.open(str(wav_path), \"rb\") as wave_file:\n",
    "            return wave_file.getframerate()\n",
    "    \n",
    "    def play_audio(audio_data, sr):\n",
    "        ipd.display(ipd.Audio(audio_data, rate=sr))\n",
    "    \n",
    "    def plot_stft(audio_data, sr):\n",
    "        plt.figure(figsize=(15,7))\n",
    "        nfft = 256\n",
    "        D = librosa.amplitude_to_db(np.abs(librosa.stft(audio_data, n_fft=nfft, hop_length=nfft // 4)), ref=np.max)\n",
    "        display.specshow(D, sr=sr, fmax=10000)\n",
    "        plt.colorbar(format='%+2.0f dB')\n",
    "    \n",
    "    audio_file_path = (audio_path + df_series['filename'] + '.wav')\n",
    "    start_time = df_series['begin_time']\n",
    "    end_time = df_series['end_time']\n",
    "    sr = get_sr(audio_file_path)\n",
    "    audio_data, sr = sf.read(audio_file_path, start=int(start_time*sr), stop=int(end_time*sr))\n",
    "    \n",
    "    play_audio(audio_data, sr)\n",
    "    plot_stft(audio_data, sr)\n",
    "    plt.title(df_series['filename'] + ' ' + str(df_series['label']))"
   ]
  },
  {
   "cell_type": "code",
   "execution_count": 280,
   "metadata": {},
   "outputs": [
    {
     "data": {
      "text/html": [
       "\n",
       "                <audio  controls=\"controls\" >\n",
       "                    <source src=\"data:audio/wav;base64,UklGRmQfAABXQVZFZm10IBAAAAABAAEA0AcAAKAPAAACABAAZGF0YUAfAADe8afy3vEo7UzwTPDx7YPvKO1f7HLozeoo7Zbrzerx7SjtX+zx7fHtcPNf7F/sKO0E6rruX+yW61/sO+kE6jvpBOpO5RfmTuXg5rzjmOCY4M7fYeE83iri8+KF5KnnO+lf7IPvg+/N6ijtqefx7UzwX+xM8CjtBOrN6s3qKO0E6gTqluvx7ZbrluuD7/HtTPA59N7xg+8V8YPvKO267vHtuu4V8SjtqefN6pbrBOrN6hfm4Oap507lqefg5pbrzepf7PHtX+xf7PHtluvx7V/sg+9w88v1OfRM8N7x3vHx7UzwluuD73DzTPBw80zwuu4V8eDmg+/x7brulus76ZbrX+yW6wTqzeqp5xfmvONh4bzj8+Jh4U/amOC84xfmvONO5eDmX+wE6pbrKO267kzwuu7e8UzwX+wC9d7xuu5M8Lrug+/N6hXxX+xf7LruX+y67qfyFfGD76fyp/Jw88v13vGD797xFfGn8hXxg+876ZbrX+w76RfmqecX5qnn4Oap56nnF+YX5jvpKO3x7fHtuu6n8nDzg++D77ruTPDx7RXx3vEV8RXxTPDe8Uzwg+9M8LruTPBM8KfyAvUV8XDz3vFf7ATqKO2W6zvpzepf7DvpBOoX5k7l4OYq4k7lheTz4nLoO+lO5Rfmqefg5pbr8e267hXxcPPe8RXx3vFw8zn0JvgC9XDzp/Kn8t7xp/IV8UzwcPNw8wL1y/Xe8ZT2AvXL9RXxlPZw8wL1Jvhd9xXxp/JM8EzwKO2p583qzeoX5vPivOPN6s3qF+YX5vHtluuW6zvpuu4C9QL1p/Le8afyAvUC9XDzAvVd9wL1OfRw83DzAvUm+HDzAvUC9QL1Jvhd95T27/i4+ZT2AvUm+JT2AvWn8kzwcPPe8UzwcugE6l/sluvN6pbrF+Zf7CjtFfGn8qfycPPe8Sb4gfqU9gL13PyB+oH63Pzc/Lj5SvuU9sv1AvW4+YH6E/xK+9z8gfpd97j5gfoT/O/4gfpd9+/4p/Kn8sv1OfRd97j5JviU9nDzp/Jw84PvBOrN6l/suu6D7xXxy/WU9sv1lPa4+V33Jvhu/hP83PyB+hP8lPaB+ib4Jvhw84H6Xfdd97j5Svul/dz8pf24+Sb43Pzc/KX9gfq4+cv1AvUC9e/4Xfen8kzw8e1w84Pvg+/x7eDmzeoo7V/sKO1f7ATqzerx7d7x3vGn8jn0y/Xe8UzwFfGn8gL1y/XL9Sb4lPbv+Dn0XfcC9QL13vGU9gL1AvWU9sv1p/Kn8kzwp/IV8d7xp/IC9d7xX+wo7c3qF+bO36nn4Obg5hfmBOrg5jvpluso7fHtg++67l33OfQV8afycPNw83DzFfHx7d7xFfGD71/sKO1M8IPvuu5M8KfycPPx7cv1cPNw85T2cPNM8F/sKO3g5oXkBOpO5eDm8+KF5IXkKuKY4Crizt883jzeBd+844XkF+Yq4gXfzt+F5ODmF+Y76Sjt8e2W66fy8e0o7c3qBOpy6M3qO+ng5gTqcuiF5PPiF+aF5BfmYeGY4E7lF+Zy6Bfm4OZy6LzjO+mp507lheSY4Dzec90Y22LW9NeG2U/aGNsY2+HbT9qq3M7fzt+Y4Lzj4OYE6qnnvOME6oXkTuWF5LzjF+bO35jg8+JO5RfmKuLg5rzjcujg5uDmqeeF5E7lYeFh4SrimOBz3eHbqtyG2eHbhtkr173YK9fQ1AfUB9S92L3Y9NeG2b3Y4ds83nPd4duF5GHhheRh4ZjgmOA83s7fBd/O33Pdqtzz4nPdqtwY2+Hbzt883jzeK9e92AXfzt+q3OHbvdgY2+HbqtwF36rchtkY24bZ9Ndi1vbMB9R10ojO49AH1HXS9NcY24bZvdgY24bZhtlP2ivXGNu92IbZvdj012LWT9q92E/ahtlz3c7fqtxz3XPd8+IF35jg4duY4AXfBd/010/aT9or1xjbqtwY2/TXmdUr1yvXrNGIzqzRGtAa0KzRddKs0azR0NQ+09DUGtBi1vTXBd883uHbPN5h4arcGNv016rc4du92L3YPtNP2mLWvdgY26rcK9c83hjbc93h2xjbBd9z3U/aGNvh20/a4dvh25nVmdV10pnVPtM+0wfU49Cs0T7T0NR10j7TvdgF3wXf4dsY26rcc91z3arcmdW92Dzevdj010/a9Nf016rczt+q3BjbT9qF5CriYeGY4GLWGNs83r3YK9fQ1L3Y9Ndi1vTXvdj01z7TT9o+06zRrNG/zb/NiM6IzpnVrNGG2dDUmdWZ1ZnV0NT014bZc90Y2wXfGNuY4Cric93h2+Hbhtm92L3Y0NSG2XPdGNuG2b3YhtmG2b3YT9o83nPdT9q92IbZhtmG2b3YvdgH1NDUv83j0GTLHMWIztLJiM510tDUYtbQ1HXSGtCs0WLW9NcH1E/aqtz01xjbvdiG2ZnVmdWs0dDUB9QH1CvXK9dP2ivXYtb0173YmdUr12LWGNu92E/aqtz01/TXddIH1KzRddLj0IjOZMvSyUDIiM7j0OPQ9sy/zRrQ49AtzBrQ49AH1JnV49B10mLWB9Tj0L3YvdiZ1SvXK9di1pnVB9Tj0NDUYtaZ1b3YYtYY22LWB9Q+02LWYtaZ1b/N0NQa0D7TUc+IzhrQ49DSyXfHHMWuxlPErsYJydLJiM6s0RrQPtO/zePQPtN10gfUK9cY2/TXmdUH1JnVYtb013XSrNFRz0DIm8r2zBrQB9TQ1AfUT9q92HPd9Nfh2+Hb0NQ+0xrQ49Bky6zRGtBRzy3MCclRz2TLd8cJyeXFLcyIzmTLZMubyvbM9swa0PbMrNHj0PbM9swa0BrQPtOZ1XXS49Aa0IbZK9cH1JnVPtMH1KzRPtMH1FHPZMsH1GLWvdh10j7T0NSs0ZnVddI+02TL49BRz4jO9sz2zHfHm8qbyq7GL8FAyK7Gm8pkyy3MrNFRz5vKZMs+03XSYtZi1ivXddJ10qzRGtB10j7TUc910j7TddKs0QfU0NSs0ZnVPtP2zD7TPtPQ1FHPLcxRzwfUv832zOPQd8fSyXfHU8RTxJy/+MGKw4rDrsZ3x5vKm8otzC3M9syIzhrQPtP01wfUK9es0RrQ49D2zIjOGtCIzlHPGtDQ1D7Thtk+06zR0NSZ1ZnVPtOZ1ZnV49BRz7/NZMuIzpvKQMhTxHfHd8ebyr/NCck+04jOPtMH1KzRv81AyC3Mv81AyEDIZMus0RrQrNE+06zRddIH1AfUPtO92CvXrNEa0KzRB9Q+03XST9qG2arc9NcH1HXS9Ne92L3YhtlP2k/aB9T2zOPQUc/SyXfHd8fSyfbMZMtAyL/N9syIzuPQrNEa0PbMiM72zBrQB9Q+02LW0NSG2c7fhtmq3OHb4duZ1ePQv8110r/NrNHj0GTLCcnSyb/NrNE+0wfUGtDQ1L/NUc9Rz1HPmdVRz4jOm8pky9LJrsauxi/BrsYKvsHCwcKKwy3MCcmIzuPQiM692HXShtlz3YbZK9fQ1PbMZMvj0JvKUc8a0D7Tvdi92L3Yhtnh2zzeGNuG2ZnVYtZi1obZhtmZ1azRiM4a0JnVrNGs0SvXGtAa0C3Md8euxojOrNGs0b/NLcybygnJ0skJyZvK9sxRz/bMUc+/zZnVYtYr19DUqtxh4ZnVYta/zWTLLcx3xxzFisN3x1PE+MFkyxrQB9S92OHbK9di1nXSv83lxdO+5rr5tgyznrTCt6+7077Bwq7G0snSyb/Nv832zL/NZMtky67GCclTxK7G0snSyePQrNGZ1fTXYta92DzemOBh4SriYeE83uHbhtli1r3YYtaZ1SvXvdiG2fTXPN5h4U7lzt+F5GHhzt9z3eHbK9d10mTL5cV3x+XFHMVky2TLrNGs0U/aTuVO5fPiBd883jzeGNv01z7T49CIzvbM9sxkywnJ0smuxi3M49B10tDUmdW92E/amdXj0FHPv81AyFPEZsBUucK3VLkdulS5ZsBTxPbM49Dj0OPQPtOZ1azR9syIzmTLm8qKw4rDL8EcxQnJiM4+05nV4OZf7CjtKO0V8cv18e2p57zjPN5z3Rjb0NTQ1L3YPN6F5ODmTPBw8+/4yQA3/8kAAACl/Tn0zerz4jzeB9QtzJvKm8qs0T7T49Bz3fPi8e2D73DzgfoC9d7xzeoX5oXk4dvj0EDIrsZTxFPE5cWs0SvXGNvz4jze8+IX5nLoKuJP2ivX9swvwYu4Q7LVs9WznrRUuXi8d8eIzqzRUc/Q1GLW0NS/za7GCclTxEG9wrdUuUG9L8Gcvy/BGtCZ1XPd8+Lg5nDzOfRw83Dz3vHe8bruheQF3zzeYeEF3wXfmOBf7HDzgfoAABEH/gqQDNoHfwXJADf/3Pyn8l/sX+xy6ODmqeep57ruzepy6Dvp8e1M8PHtTPC67oPvzeq846rchtk83gXfGNs83irivOPO3+HbGNu8407lYeHh2+HbmdWZ1fbMd8cJya7GHMX4wa7G0skJydLJisOKw3fHwcJTxIrDwcIKvorDeLxUuZ60erEMsx26wrecv1PErsZ3x/bMUc/j0KzR0NQ83pjgBd+845jgheQF3/TXBd883uHbKuK846nn8e2D75T23PztAyQDEQd/BX8FWwK4+afyFfE59IPvX+xw8zn0OfQm+Mv1bv4kAyQD7QO2BNz87/hw8+Dmc9301xjb4dv010/aqtzz4k7lg++n8qfyp/JM8F/sBd/Q1EDIZsAdulS5i7jVs3i8Cr6cv1PECcn2zAnJCcmcvy/BQb2etDKrj6JFpw6oxqGPoiGkxKxntTC2nrT5tpy/0754vB26i7ietK+7Cr5BvYrDiM4r16rcKuJh4Sri8+Lg5uDmF+Zh4XPdPN6Y4Cricugo7cv1JviSAe0DSAbaB6MIJANK+133OfQV8d7xcPMC9Sb4uPml/ckAtgR/BZIBE/zL9YPvKuI83obZrNHQ1IbZzt/z4s3qlPZK+zf/y/Xx7bzj4dsa0JvKZsBUucK3+baxsGe1r7uKwy3MrNFky4jOCcmKw6+7Z7UOqDSg65nHlv6Vo5PHluuZap/qpPurVq4fr2e1+baLuDC2xKzErGmqWKOzpQ6oja3Vs9O+Ccms0QfUK9fO387fmOBO5QXfc93Q1PbMiM4r12HhF+Zf7Dn0y/UT/AAA2ge2BFsCxwvtAxP8gfqU9nDzcPO67gTq4OYE6rrug+8V8Sb4pf22BBEHfwV/BZIBgfre8YXkc90r17/NCcn2zKzRT9oY22HhTuWW66nnc90H1EDIZsCxsFijoZ5GnEacIaTErJ60Qb0vwfjBHbqLuKCptJp/kG6JAYDLgMuAAIsimQ+dDqgyq42toKnXqHymj6KhniGks6Uyq0Oyr7ucv9O+HMX4wRzFisO/zYjO9sx10mLWzt9h4annF+Yq4uHb4dtP2obZzt/N6l33WwLaBw8SfRDHCwAA7/g59EzwX+zx7XDzuPml/ckAowhIBskAE/ze8ZbrheRO5SriX+yn8u/4gfrL9RXxuu5O5Sri4dti1qzRPtOZ1dDU0NSZ1XXSCcmKw3i8DLOxsOiverFUuVS5Cr5BvVS5HbqNrdeoRpzHlqWIpYgTh6WINZWPommqH68fr42t+6shpNid65l9myKZNKDqpDKri7hBvQnJLcyIzr/NrsYvwdO+isNTxFPEv82Z1ZjgqeeW6xXx3vFw86fyKO3x7QTqluvN6oPvbv7JACQDEQfaB+0Dbv6l/V338e1M8LruOfQC9e/4WwIRB5IBN//c/Lj5Jvi4+cv1uu7x7XLoheRO5SriYeFP2uHb4dsF387fmOAF373YB9Rky5y/5rr5tgyz1bN6sdWz5roKvtO+wrfVs9Wz+6s0oJCXf5BbjbaPbJShnteosbAwtua6MLZDsjKrRaePojSgNKDqpI2tMLbBwr/N0NSZ1b/N0slTxK+7r7t4vMHC0NQY24XkBOoo7XDzuu5y6PPiYeG845jgqeeD7133bv6SASQDpf0m+Lj5lPan8vHtFfGU9hP8WwJIBrYEbAmjCLYE7QNbAskA3PzL9Sb4OfQC9XDz8e2n8nDzcPNd97ruzerz4mHhqtzj0L/NLcz2zKzRB9TQ1CvXrNGbynfHL8Hmup60erFDsgyz1bNDsuivDLP7q0WnfKbqpEWnMqvorx26eLwdup60erHErEWns6Uyq4u4d8d10r3Y9Nd10nfHisOLuIu4HbpTxAfU4Obx7XDzuu4X5vPic90r19DU4dsV8YH6bv4AAKX9lPbe8bzjhtnO3wTqy/WSAZAM6w6QDCIO2gftAyb4Jvi4+UgGWQ0PElkNowgkAzf/E/zL9cv17/i4+Tf/N/8T/AL1X+yp55jgqtwq4nLoFfHL9afyKO292D7TiM53x4rD+MHlxZvKrNHQ1PbMU8TCt2e1sbCetNWzHbrTvmTLiM6IzvbMisPlxWbAnL+LuK+7Cr74wXfHLcz2zIjOiM4a0EDIwcJmwC/B0sm/zSvX8+KW64PvzepO5Zjg4dtP2gXfzt+F5F/s3vGn8nDzg+876Rfmcujg5vHt3vGl/VsCbAlsCWwJ7QMAAMkApf2SAe0DSAY1ChEHkAzHCzUKSAbtAwAAyQBu/gAAbv4T/JIBJAOSAckASvsm+Dn0JvgC9Tn0JvgC9RXxluth4b3YK9es0T7T49CIzivXvdhi1pnVddLQ1OPQ9Ndi1r3Yvdgr1z7TGtAa0FHP49C/zXXSddKs0azRZMubyi3MLcxRz0/ac90F3wXfPN4r14jOB9S92AXfBOrN6nLoX+wq4hjbGNv015jgqec59F33lPYC9Sjtluup5zvpAvUAABEHxwujCLYEJvin8kzwXffc/DUKIg5GEX0Q/gp/BQAASvsm+JIBNQqQDMcLxwvaB6X9lPZw8xXxgfpu/iQDtgQ3/4H6y/Vf7Cjtzeqp507lYeFh4YXkGNu92IbZT9pz3QXfmOA83gXfBd+q3IbZvdgY2zzeqtwq4mHhBd8F30/avdiZ1QfUK9e92BjbK9e92CvX9Ne92L3Yc9292JnVmdVP2nPdYeEF34XkKuLO3zzeT9oH1JnVB9SG2TzePN6F5E7lqecX5nLoBOqW683qlPaB+oH6AvWU9jn0AvXL9YH6N/83/0gGWwIAAIH6pf2l/RP8gfql/QAAbv4AAKX9bv43/38Fpf2l/bj5Xffe8Sjtuu476XLoqecE6k7lqtxz3Rjbc90X5pbrzeo76annF+YF33PdqtyG2XPd8+IX5uDmvOOY4Dzehtli1obZT9oX5vPi8+I83obZYtZ10qzR9NeG2QXfzt+845jgGNsY2yvXmdXQ1Bjb4dsY2+HbmdXj0GTLZMti1k/avONf7Dvpcuhh4YXk8+JO5Rfm8e0C9V33y/UV8d7xX+w76YPvcPMm+Cb4gfom+HDz8e1f7IPv3vGn8u/4Jvi4+dz8uPnv+O/4y/Vw88v1gfqB+sv1FfHx7Zbr8+JO5YXkzeqD77ruFfEE6hfmF+YX5uDmzeo76fHtKO0o7Tvp8+Lg5s3qBOpO5U7l8+LO387fmOAF3yriBd/O307lzt9z3Rjbzt8Y2wXfGNs83pjgPN692GLWPtMH1AnJPtPQ1GLW9NfQ1NDUYtZ10hrQrNFP2jzeTuVO5annqeeF5KnnF+bg5k7lcuhf7Lru3vHe8RXxzerN6jvpBOrx7afyFfEC9ZT2gfpd95T2FfHL9V33lPYm+AL1p/I59PHtKO3x7annzeo76ZbrKO076QTqzeoE6nLo4Oa67nDzFfHe8YPvcujN6jvpTuXg5l/suu7e8bruKO0E6nLoBOo76U7lcujN6jvp8+Jh4Tzezt9h4YXk8+IF3yrizt+F5M7f8+KY4CvXmdVi1j7TYtYH1AfUmdWZ1YbZK9eG2b3Yhtnh2zzec92q3KrcmOC842HhvOMX5oXkYeEq4k7lYeEX5qnnzepy6E7lqecF307lluvN6nLoBOoo7UzwFfFM8IPvuu7x7ZbrX+wE6k7l4OYX5oXkvOO8407lheTN6gTqKO3g5k7lheTN6jvpF+bN6nLoO+ko7V/s8e0E6l/sTPC67s3qFfGD7wTqTuVh4fPiKuKF5HLocugE6jvpheQq4pjgYeFh4ann8+LO30/addJ10gfUYtYH1NDUPtMa0FHP0NSG2eHbPN7O36rcc90F36rcc91h4SriheTO3/PivOMq4s7fzt8F32Hhzt9h4YXkmOBh4U7l4OZO5YXkvOOp55jgheSp57zjF+bg5nLoO+kq4vPizt9h4Zjgzt/h20/a4dsF3wXfKuKF5ODmTuXg5s3qX+zN6s3qzerz4iriO+kX5jvpzeqW65brKO1y6BfmcugE6l/scugE6iriTuVy6DvpO+mp56nnmOAq4iriKuLz4qnnBd+G2fTXYtbQ1KzRGtBRz5vKLcw+00/avOO843Pdhtn0173Y4dth4TzemOC92L3Yvdjz4k7lF+ap57zjPN483jze4dth4bzj8+Jh4eHbvdgF3yrivOPO32HhT9qq3JjgKuK845jgvdh10qzR0NQY273YPtPj0BrQK9e92Dze8+KF5GHhYeGq3AXfGNtz3arcc92q3AXfYeGF5CrimOAq4vPizt+Y4M7f4duG2b3YGNuY4Dze4dtP2qrc8+Iq4oXkvOOY4PTXhtlz3arcYta/zdLJd8euxojOrNFRz1HPZMt3x0DIm8pi1uHbzt8r19DUPtOG2c7fTuWp5zzeT9pi1nXShtnh2/TX0NTQ1KzRddJi1k/aT9oY2yvXvdhP2jzePN4Y26rcK9cH1GLWB9TQ1IjOddItzJvK0sl3xwnJHMVkyz7TK9f012LWPN7h2wXfzt9h4QXfmOBP2uHb4dtz3Tze4dsY24bZvdjz4rzj8+IF36rc4dvh2/PiqedO5ZjgBd+92OHbGNtz3SriYeFz3WLW0NR10nXSYtZi1vbMGtCIzuPQddIH1HXSvdhP2uHb4dvh2xjbqtwY20/aGNuq3CvX4dsq4gXfc9083mHhheQq4hfmheRO5WHhmOA83iriKuIq4mHhqtxP2qrcYeHO387f4dsH1L3YmdUH1D7TUc+Izr/NZMus0b3YddLQ1JnVYta92Krcc91z3eHbGNs83ivXzt+F5CriPN6q3JjgheQF3zzezt+Y4Dzec90Y2xjbqtxh4YXkYeEq4rzjKuLz4oXkTuUq4vPic91i1qzRK9eIzqzRUc+/zVHPddJi1r3YT9qG2RjbBd883qrc4dsY273Yhtn01xjb8+LO3yrivOPO387fvOPO3+Hbc93h2zzeKuLO35jgPN7O387fYeGq3GHhzt+q3GHhc91z3XPdhtli1hjbmdUH1D7T0NTQ1AfUmdUr1+PQddLQ1CvXT9or173YT9rh273Y4dsF3+HbmOA83mHh8+K845jgmODO33Pdc92q3BjbT9q92PTXhtnO34XkmODz4gXfmOCY4HPdmOAq4jzehtk+01HPv81Rz4jOCcmIzgfUmdUr10/aK9dP2nPdqtxz3U/aqtwF3zzemOA83obZqtxz3TzePN483irivOO844Xk4OYq4gXfqtw83jzeGNsF3zzeGNsF3wXfzt+q3Bjbhtn015nV0NR10j7TGtCIzhrQB9Tj0PTXYtZP2r3Y9NcY24bZmdVi1j7TddIr173YT9qq3OHbPN7O387fzt+Y4AXfmOC8487fc93h26rcT9rh2zzeBd883s7fc91P2mLWc91P2hjbhtm92PTX0NR10r/NiM5Rz+PQv81Rz2TLiM4a0OPQrNGs0T7T0NQr173YPN6q3Bjbc92Y4DzeYeFh4bzjKuLO32HhYeGq3E/aYeEY2+Hbc90Y23Pdqtyq3HPdzt8F32Hhzt/h2/TX9Ncr13XS49BRz3XSddIH1AfUmdWZ1T7ThtkY2/TXhtm92IbZ4du92E/aGNu92OHbT9oF3+Hbc93h26rcT9oY287fPN5z3WHhT9o83iriheQq4mHhzt+q3OHbqtw83mHhvOMq4pjgBd9P2pnV0NQa0PbM9sy/zazRrNFi1mLWYtaG2b3Yqtxz3WHh8+LO35jgYeHO36rcc9083s7fYeHO3zzezt+Y4DzeGNtP2uHbzt9z3XPd4dtP2k/aBd+q3HPdqtyq3IbZvdhi1tDUB9Qa0IjO9swa0BrQ9szj0NDU0NT01wfUvdgY273YGNtP2uHbT9pP2uHb9Nfh2xjbqtyq3KrcYtZi1gfUmdXQ1CvXmdX012LWmdX01xjbT9qZ1WLWvdjh2/Pic91P2vTXYtYa0FHPm8pky9LJ0sm/zb/NLcy/zXXSPtMa0OPQK9fQ1D7TddI+0wfUvdj012LW9NeG2SvXGNuq3OHbhtkr10/ahtm92CvX9Nf01+HbGNuq3L3YmdWZ1fTXqtwr10/aqtyG2WLWmdU+02TLv82bytLJv81Rz6zRK9f015nVvdjh26rcYtZP2vTXB9Qr12LWPtNP2qrcc91P2r3YGNuG2RjbqtwY2+HbGNv014bZT9q92AXfYtaG2arcGNvh24bZK9eq3BjbmdVi1mLW49A+06zRPtM+09DU9Ndi1vTXBd+92D7Tvdi92IbZPN6q3E/aYtZP2obZGNu92AXf4duq3OHb4du92IbZT9qG2b3Yzt883hjb4dtP2gXfmOBz3TzeqtyY4M7fqtxz3QXfBd8Y2yvX9NfQ1OPQGtBRzxrQmdX01w==\" type=\"audio/wav\" />\n",
       "                    Your browser does not support the audio element.\n",
       "                </audio>\n",
       "              "
      ],
      "text/plain": [
       "<IPython.lib.display.Audio object>"
      ]
     },
     "metadata": {},
     "output_type": "display_data"
    },
    {
     "data": {
      "image/png": "[encoded data removed]",
      "text/plain": [
       "<Figure size 1080x504 with 2 Axes>"
      ]
     },
     "metadata": {
      "needs_background": "light"
     },
     "output_type": "display_data"
    }
   ],
   "source": [
    "play_audio_plot_stft(annotation_df.sample(1).T.squeeze(), file_path)"
   ]
  },
  {
   "cell_type": "markdown",
   "metadata": {},
   "source": [
    "# split"
   ]
  },
  {
   "cell_type": "code",
   "execution_count": 281,
   "metadata": {},
   "outputs": [],
   "source": [
    "day = annotation_df.filename.str[6:8].astype(int)"
   ]
  },
  {
   "cell_type": "code",
   "execution_count": 282,
   "metadata": {},
   "outputs": [
    {
     "data": {
      "text/html": [
       "<div>\n",
       "<style scoped>\n",
       "    .dataframe tbody tr th:only-of-type {\n",
       "        vertical-align: middle;\n",
       "    }\n",
       "\n",
       "    .dataframe tbody tr th {\n",
       "        vertical-align: top;\n",
       "    }\n",
       "\n",
       "    .dataframe thead th {\n",
       "        text-align: right;\n",
       "    }\n",
       "</style>\n",
       "<table border=\"1\" class=\"dataframe\">\n",
       "  <thead>\n",
       "    <tr style=\"text-align: right;\">\n",
       "      <th></th>\n",
       "      <th>begin_time</th>\n",
       "      <th>end_time</th>\n",
       "      <th>filename</th>\n",
       "      <th>call_length</th>\n",
       "      <th>label</th>\n",
       "    </tr>\n",
       "  </thead>\n",
       "  <tbody>\n",
       "    <tr>\n",
       "      <th>0</th>\n",
       "      <td>0.0</td>\n",
       "      <td>2.0</td>\n",
       "      <td>20090328_000000_010s8ms_TRAIN1_0</td>\n",
       "      <td>2.0</td>\n",
       "      <td>0</td>\n",
       "    </tr>\n",
       "    <tr>\n",
       "      <th>1</th>\n",
       "      <td>0.0</td>\n",
       "      <td>2.0</td>\n",
       "      <td>20090328_000000_068s4ms_TRAIN4_0</td>\n",
       "      <td>2.0</td>\n",
       "      <td>0</td>\n",
       "    </tr>\n",
       "    <tr>\n",
       "      <th>2</th>\n",
       "      <td>0.0</td>\n",
       "      <td>2.0</td>\n",
       "      <td>20090328_001500_1397s8ms_TRAIN216_1</td>\n",
       "      <td>2.0</td>\n",
       "      <td>1</td>\n",
       "    </tr>\n",
       "    <tr>\n",
       "      <th>3</th>\n",
       "      <td>0.0</td>\n",
       "      <td>2.0</td>\n",
       "      <td>20090328_000000_002s3ms_TRAIN0_0</td>\n",
       "      <td>2.0</td>\n",
       "      <td>0</td>\n",
       "    </tr>\n",
       "    <tr>\n",
       "      <th>4</th>\n",
       "      <td>0.0</td>\n",
       "      <td>2.0</td>\n",
       "      <td>20090328_001500_1379s8ms_TRAIN214_1</td>\n",
       "      <td>2.0</td>\n",
       "      <td>1</td>\n",
       "    </tr>\n",
       "    <tr>\n",
       "      <th>5</th>\n",
       "      <td>0.0</td>\n",
       "      <td>2.0</td>\n",
       "      <td>20090328_001500_1374s4ms_TRAIN213_1</td>\n",
       "      <td>2.0</td>\n",
       "      <td>1</td>\n",
       "    </tr>\n",
       "  </tbody>\n",
       "</table>\n",
       "</div>"
      ],
      "text/plain": [
       "   begin_time  end_time                             filename  call_length  \\\n",
       "0         0.0       2.0     20090328_000000_010s8ms_TRAIN1_0          2.0   \n",
       "1         0.0       2.0     20090328_000000_068s4ms_TRAIN4_0          2.0   \n",
       "2         0.0       2.0  20090328_001500_1397s8ms_TRAIN216_1          2.0   \n",
       "3         0.0       2.0     20090328_000000_002s3ms_TRAIN0_0          2.0   \n",
       "4         0.0       2.0  20090328_001500_1379s8ms_TRAIN214_1          2.0   \n",
       "5         0.0       2.0  20090328_001500_1374s4ms_TRAIN213_1          2.0   \n",
       "\n",
       "   label  \n",
       "0      0  \n",
       "1      0  \n",
       "2      1  \n",
       "3      0  \n",
       "4      1  \n",
       "5      1  "
      ]
     },
     "execution_count": 282,
     "metadata": {},
     "output_type": "execute_result"
    }
   ],
   "source": [
    "annotation_df"
   ]
  },
  {
   "cell_type": "code",
   "execution_count": 283,
   "metadata": {},
   "outputs": [
    {
     "data": {
      "text/plain": [
       "28    6\n",
       "Name: filename, dtype: int64"
      ]
     },
     "execution_count": 283,
     "metadata": {},
     "output_type": "execute_result"
    }
   ],
   "source": [
    "day.value_counts()"
   ]
  },
  {
   "cell_type": "code",
   "execution_count": 284,
   "metadata": {},
   "outputs": [
    {
     "data": {
      "text/plain": [
       "0    0.5\n",
       "1    0.5\n",
       "Name: label, dtype: float64"
      ]
     },
     "execution_count": 284,
     "metadata": {},
     "output_type": "execute_result"
    }
   ],
   "source": [
    "annotation_df[day == 28]['label'].value_counts()/(day == 28).sum()"
   ]
  },
  {
   "cell_type": "code",
   "execution_count": 285,
   "metadata": {},
   "outputs": [
    {
     "data": {
      "text/plain": [
       "Series([], Name: label, dtype: float64)"
      ]
     },
     "execution_count": 285,
     "metadata": {},
     "output_type": "execute_result"
    }
   ],
   "source": [
    "annotation_df[day == 29]['label'].value_counts()/(day == 29).sum()"
   ]
  },
  {
   "cell_type": "code",
   "execution_count": 286,
   "metadata": {},
   "outputs": [
    {
     "data": {
      "text/plain": [
       "Series([], Name: label, dtype: float64)"
      ]
     },
     "execution_count": 286,
     "metadata": {},
     "output_type": "execute_result"
    }
   ],
   "source": [
    "annotation_df[day == 30]['label'].value_counts()/(day == 30).sum()"
   ]
  },
  {
   "cell_type": "code",
   "execution_count": 295,
   "metadata": {},
   "outputs": [
    {
     "data": {
      "text/plain": [
       "Series([], Name: label, dtype: float64)"
      ]
     },
     "execution_count": 295,
     "metadata": {},
     "output_type": "execute_result"
    }
   ],
   "source": [
    "annotation_df[day == 31]['label'].value_counts()/(day == 31).sum()"
   ]
  },
  {
   "cell_type": "code",
   "execution_count": 296,
   "metadata": {},
   "outputs": [],
   "source": [
    "annotation_df[day == 28].to_csv(artifcats_path + 'annotation_train2_test.csv', index=False)"
   ]
  },
  {
   "cell_type": "code",
   "execution_count": 297,
   "metadata": {},
   "outputs": [],
   "source": [
    "annotation_df[day == 30].to_csv(artifcats_path + 'annotation_train2_val.csv', index=False)"
   ]
  },
  {
   "cell_type": "code",
   "execution_count": 298,
   "metadata": {},
   "outputs": [],
   "source": [
    "annotation_df[day.isin([29,31])].to_csv(artifcats_path + 'annotation_train2_train.csv', index=False)"
   ]
  },
  {
   "cell_type": "markdown",
   "metadata": {},
   "source": [
    "## split chrisoph like"
   ]
  },
  {
   "cell_type": "code",
   "execution_count": 299,
   "metadata": {},
   "outputs": [],
   "source": [
    "ratio_train = 42 / (42 + 5)"
   ]
  },
  {
   "cell_type": "code",
   "execution_count": 300,
   "metadata": {},
   "outputs": [
    {
     "data": {
      "text/plain": [
       "0.8936170212765957"
      ]
     },
     "execution_count": 300,
     "metadata": {},
     "output_type": "execute_result"
    }
   ],
   "source": [
    "ratio_train"
   ]
  },
  {
   "cell_type": "code",
   "execution_count": 301,
   "metadata": {},
   "outputs": [],
   "source": [
    "christ_train_annotation_df = annotation_df.iloc[:int(ratio_train*annotation_df.shape[0]), :]\n",
    "christ_test_annotation_df = annotation_df.iloc[int(ratio_train*annotation_df.shape[0]):, :]"
   ]
  },
  {
   "cell_type": "code",
   "execution_count": 302,
   "metadata": {},
   "outputs": [],
   "source": [
    "christ_train_annotation_df.to_csv(artifcats_path + 'annotation_train2_christoph_train.csv', index=False)\n",
    "christ_test_annotation_df.to_csv(artifcats_path + 'annotation_train2_christoph_test.csv', index=False)"
   ]
  }
 ],
 "metadata": {
  "kernelspec": {
   "display_name": "Python [conda env:finding_willy_cloned]",
   "language": "python",
   "name": "conda-env-finding_willy_cloned-py"
  },
  "language_info": {
   "codemirror_mode": {
    "name": "ipython",
    "version": 3
   },
   "file_extension": ".py",
   "mimetype": "text/x-python",
   "name": "python",
   "nbconvert_exporter": "python",
   "pygments_lexer": "ipython3",
   "version": "3.7.9"
  }
 },
 "nbformat": 4,
 "nbformat_minor": 4
}
