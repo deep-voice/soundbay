{
 "cells": [
  {
   "cell_type": "markdown",
   "id": "68f4b3bf-30eb-4a15-a2ea-19bb00222221",
   "metadata": {},
   "source": [
    "### This notebook contains:\n",
    "1. Data loading and exploration - for both detection and classification.\n",
    "2. Preperation for training - annotations and splitting according to the desired task"
   ]
  },
  {
   "cell_type": "code",
   "execution_count": 1,
   "id": "27b9ae38-686c-4bd0-bb94-131a523d9bec",
   "metadata": {
    "tags": []
   },
   "outputs": [],
   "source": [
    "import pandas as pd\n",
    "import numpy as np\n",
    "import glob\n",
    "import os\n",
    "import matplotlib.pyplot as plt\n",
    "%matplotlib inline\n",
    "\n",
    "import seaborn as sns\n",
    "\n",
    "import itertools\n",
    "import soundfile as sf\n",
    "\n",
    "import glob\n",
    "import os"
   ]
  },
  {
   "cell_type": "markdown",
   "id": "6ac420f7-97ad-4724-8cbb-ebd20da569d9",
   "metadata": {},
   "source": [
    "# Loading"
   ]
  },
  {
   "cell_type": "code",
   "execution_count": 2,
   "id": "4855f846-05b2-49b5-8adb-bc24a4194c23",
   "metadata": {},
   "outputs": [
    {
     "name": "stdout",
     "output_type": "stream",
     "text": [
      "\n",
      " list of keys: ['Selection', 'View', 'Channel', 'Begin Time (s)', 'End Time (s)', 'Low Freq (Hz)', 'High Freq (Hz)', 'Max Freq (Hz)', 'Peak Freq (Hz)', 'Type', 'Caract']\n"
     ]
    }
   ],
   "source": [
    "annot_files = glob.glob('/home/shai/personal/soundbay/data/annotated_calls/annotations/*.txt')\n",
    "df_list = []\n",
    "\n",
    "for file in annot_files:\n",
    "        tmp_df = pd.read_csv(file, sep='\\t')\n",
    "        # print(f'tail for {file.split(\"/\")[-1]}: \\n {tmp_df.tail(2)} \\n\\n)')\n",
    "        \n",
    "print(f'\\n list of keys: {[item for item in tmp_df.keys().values]}')"
   ]
  },
  {
   "cell_type": "code",
   "execution_count": 3,
   "id": "b6e6d33a-6a2b-4e0f-b95a-f4b0f070d9fa",
   "metadata": {},
   "outputs": [],
   "source": [
    "df_list_cls = []\n",
    "df_list_wocls = []\n",
    "\n",
    "for file in annot_files:\n",
    "    \n",
    "    data_and_time, _, _, _, _ = file.split('/')[-1].split('.')\n",
    "\n",
    "    tmp_df = pd.read_csv(file, sep='\\t')\n",
    "    \n",
    "    # add\n",
    "    tmp_df['file_name'] = data_and_time\n",
    "    tmp_df['start_time'] = pd.to_datetime(''.join(data_and_time), format='%y%m%d-%H%M%S')\n",
    "    \n",
    "    # drop\n",
    "    tmp_df = tmp_df.drop(columns=['Selection', 'View'])\n",
    "    \n",
    "    # rename\n",
    "    tmp_df = tmp_df.rename(columns={'Type': 'type'})\n",
    "    tmp_df = tmp_df.rename(columns={'Carac': 'Caract'})\n",
    "    \n",
    "    if 'Caract' not in tmp_df.columns:\n",
    "        # print(f'file {file} doesnt have any Caract')\n",
    "        df_list_wocls.append(tmp_df)\n",
    "        continue\n",
    "    df_list_cls.append(tmp_df)"
   ]
  },
  {
   "cell_type": "code",
   "execution_count": 4,
   "id": "e7932048-06c5-47e8-a146-9ebce009690b",
   "metadata": {},
   "outputs": [
    {
     "name": "stdout",
     "output_type": "stream",
     "text": [
      "len of annot_df_wocls: 916\n"
     ]
    },
    {
     "data": {
      "text/html": [
       "<div>\n",
       "<style scoped>\n",
       "    .dataframe tbody tr th:only-of-type {\n",
       "        vertical-align: middle;\n",
       "    }\n",
       "\n",
       "    .dataframe tbody tr th {\n",
       "        vertical-align: top;\n",
       "    }\n",
       "\n",
       "    .dataframe thead th {\n",
       "        text-align: right;\n",
       "    }\n",
       "</style>\n",
       "<table border=\"1\" class=\"dataframe\">\n",
       "  <thead>\n",
       "    <tr style=\"text-align: right;\">\n",
       "      <th></th>\n",
       "      <th>Channel</th>\n",
       "      <th>Begin Time (s)</th>\n",
       "      <th>End Time (s)</th>\n",
       "      <th>Low Freq (Hz)</th>\n",
       "      <th>High Freq (Hz)</th>\n",
       "      <th>Delta Time (s)</th>\n",
       "      <th>Delta Freq (Hz)</th>\n",
       "      <th>Avg Power Density (dB FS/Hz)</th>\n",
       "      <th>Max Freq (Hz)</th>\n",
       "      <th>file_name</th>\n",
       "      <th>start_time</th>\n",
       "      <th>Peak Freq (Hz)</th>\n",
       "      <th>type</th>\n",
       "    </tr>\n",
       "  </thead>\n",
       "  <tbody>\n",
       "    <tr>\n",
       "      <th>0</th>\n",
       "      <td>2</td>\n",
       "      <td>3.815649</td>\n",
       "      <td>4.790005</td>\n",
       "      <td>283.019</td>\n",
       "      <td>584.906</td>\n",
       "      <td>0.9744</td>\n",
       "      <td>301.887</td>\n",
       "      <td>NaN</td>\n",
       "      <td>515.625</td>\n",
       "      <td>210922-112437</td>\n",
       "      <td>2021-09-22 11:24:37</td>\n",
       "      <td>NaN</td>\n",
       "      <td>NaN</td>\n",
       "    </tr>\n",
       "    <tr>\n",
       "      <th>1</th>\n",
       "      <td>2</td>\n",
       "      <td>3.815649</td>\n",
       "      <td>4.790005</td>\n",
       "      <td>283.019</td>\n",
       "      <td>584.906</td>\n",
       "      <td>0.9744</td>\n",
       "      <td>301.887</td>\n",
       "      <td>-47.73</td>\n",
       "      <td>515.625</td>\n",
       "      <td>210922-112437</td>\n",
       "      <td>2021-09-22 11:24:37</td>\n",
       "      <td>NaN</td>\n",
       "      <td>NaN</td>\n",
       "    </tr>\n",
       "    <tr>\n",
       "      <th>2</th>\n",
       "      <td>2</td>\n",
       "      <td>776.537728</td>\n",
       "      <td>777.332597</td>\n",
       "      <td>188.679</td>\n",
       "      <td>471.698</td>\n",
       "      <td>0.7949</td>\n",
       "      <td>283.019</td>\n",
       "      <td>NaN</td>\n",
       "      <td>375.000</td>\n",
       "      <td>210922-112437</td>\n",
       "      <td>2021-09-22 11:24:37</td>\n",
       "      <td>NaN</td>\n",
       "      <td>NaN</td>\n",
       "    </tr>\n",
       "    <tr>\n",
       "      <th>3</th>\n",
       "      <td>2</td>\n",
       "      <td>776.537728</td>\n",
       "      <td>777.332597</td>\n",
       "      <td>188.679</td>\n",
       "      <td>471.698</td>\n",
       "      <td>0.7949</td>\n",
       "      <td>283.019</td>\n",
       "      <td>-56.84</td>\n",
       "      <td>375.000</td>\n",
       "      <td>210922-112437</td>\n",
       "      <td>2021-09-22 11:24:37</td>\n",
       "      <td>NaN</td>\n",
       "      <td>NaN</td>\n",
       "    </tr>\n",
       "  </tbody>\n",
       "</table>\n",
       "</div>"
      ],
      "text/plain": [
       "   Channel  Begin Time (s)  End Time (s)  Low Freq (Hz)  High Freq (Hz)  \\\n",
       "0        2        3.815649      4.790005        283.019         584.906   \n",
       "1        2        3.815649      4.790005        283.019         584.906   \n",
       "2        2      776.537728    777.332597        188.679         471.698   \n",
       "3        2      776.537728    777.332597        188.679         471.698   \n",
       "\n",
       "   Delta Time (s)  Delta Freq (Hz)  Avg Power Density (dB FS/Hz)  \\\n",
       "0          0.9744          301.887                           NaN   \n",
       "1          0.9744          301.887                        -47.73   \n",
       "2          0.7949          283.019                           NaN   \n",
       "3          0.7949          283.019                        -56.84   \n",
       "\n",
       "   Max Freq (Hz)      file_name          start_time  Peak Freq (Hz) type  \n",
       "0        515.625  210922-112437 2021-09-22 11:24:37             NaN  NaN  \n",
       "1        515.625  210922-112437 2021-09-22 11:24:37             NaN  NaN  \n",
       "2        375.000  210922-112437 2021-09-22 11:24:37             NaN  NaN  \n",
       "3        375.000  210922-112437 2021-09-22 11:24:37             NaN  NaN  "
      ]
     },
     "execution_count": 4,
     "metadata": {},
     "output_type": "execute_result"
    }
   ],
   "source": [
    "## DF without classes - only for detection\n",
    "annot_df_wocls = pd.concat(df_list_wocls, axis=0)\n",
    "print(f'len of annot_df_wocls: {len(annot_df_wocls)}')\n",
    "annot_df_wocls.head(4)"
   ]
  },
  {
   "cell_type": "code",
   "execution_count": 5,
   "id": "b6783283-4603-430e-b06c-01724a5a4ba0",
   "metadata": {},
   "outputs": [
    {
     "name": "stdout",
     "output_type": "stream",
     "text": [
      "len of annot_df_cls:206, len of annot_df_cls WITH unclassified calls: 244\n",
      " \n"
     ]
    },
    {
     "data": {
      "text/html": [
       "<div>\n",
       "<style scoped>\n",
       "    .dataframe tbody tr th:only-of-type {\n",
       "        vertical-align: middle;\n",
       "    }\n",
       "\n",
       "    .dataframe tbody tr th {\n",
       "        vertical-align: top;\n",
       "    }\n",
       "\n",
       "    .dataframe thead th {\n",
       "        text-align: right;\n",
       "    }\n",
       "</style>\n",
       "<table border=\"1\" class=\"dataframe\">\n",
       "  <thead>\n",
       "    <tr style=\"text-align: right;\">\n",
       "      <th></th>\n",
       "      <th>Channel</th>\n",
       "      <th>Begin Time (s)</th>\n",
       "      <th>End Time (s)</th>\n",
       "      <th>Low Freq (Hz)</th>\n",
       "      <th>High Freq (Hz)</th>\n",
       "      <th>Max Freq (Hz)</th>\n",
       "      <th>Peak Freq (Hz)</th>\n",
       "      <th>Peak Time (s)</th>\n",
       "      <th>Delta Time (s)</th>\n",
       "      <th>type</th>\n",
       "      <th>Caract</th>\n",
       "      <th>file_name</th>\n",
       "      <th>start_time</th>\n",
       "    </tr>\n",
       "  </thead>\n",
       "  <tbody>\n",
       "    <tr>\n",
       "      <th>0</th>\n",
       "      <td>2</td>\n",
       "      <td>1.898836</td>\n",
       "      <td>2.866978</td>\n",
       "      <td>181.8</td>\n",
       "      <td>469.7</td>\n",
       "      <td>328.125</td>\n",
       "      <td>328.125</td>\n",
       "      <td>2.1587</td>\n",
       "      <td>0.9681</td>\n",
       "      <td>A</td>\n",
       "      <td>Onda</td>\n",
       "      <td>210919-131709</td>\n",
       "      <td>2021-09-19 13:17:09</td>\n",
       "    </tr>\n",
       "    <tr>\n",
       "      <th>1</th>\n",
       "      <td>2</td>\n",
       "      <td>6.551240</td>\n",
       "      <td>7.466920</td>\n",
       "      <td>151.5</td>\n",
       "      <td>424.3</td>\n",
       "      <td>257.812</td>\n",
       "      <td>257.812</td>\n",
       "      <td>6.6550</td>\n",
       "      <td>0.9157</td>\n",
       "      <td>A</td>\n",
       "      <td>Onda</td>\n",
       "      <td>210919-131709</td>\n",
       "      <td>2021-09-19 13:17:09</td>\n",
       "    </tr>\n",
       "    <tr>\n",
       "      <th>2</th>\n",
       "      <td>2</td>\n",
       "      <td>7.787410</td>\n",
       "      <td>7.998181</td>\n",
       "      <td>106.7</td>\n",
       "      <td>253.5</td>\n",
       "      <td>210.938</td>\n",
       "      <td>210.938</td>\n",
       "      <td>7.8375</td>\n",
       "      <td>0.2108</td>\n",
       "      <td>B</td>\n",
       "      <td>Silbo</td>\n",
       "      <td>210919-131709</td>\n",
       "      <td>2021-09-19 13:17:09</td>\n",
       "    </tr>\n",
       "    <tr>\n",
       "      <th>3</th>\n",
       "      <td>2</td>\n",
       "      <td>12.668408</td>\n",
       "      <td>13.278533</td>\n",
       "      <td>186.8</td>\n",
       "      <td>386.9</td>\n",
       "      <td>281.250</td>\n",
       "      <td>281.250</td>\n",
       "      <td>13.0350</td>\n",
       "      <td>0.6101</td>\n",
       "      <td>C</td>\n",
       "      <td>Lineal</td>\n",
       "      <td>210919-131709</td>\n",
       "      <td>2021-09-19 13:17:09</td>\n",
       "    </tr>\n",
       "    <tr>\n",
       "      <th>38</th>\n",
       "      <td>2</td>\n",
       "      <td>189.805685</td>\n",
       "      <td>190.495962</td>\n",
       "      <td>155.8</td>\n",
       "      <td>407.9</td>\n",
       "      <td>328.125</td>\n",
       "      <td>328.125</td>\n",
       "      <td>190.1350</td>\n",
       "      <td>0.6903</td>\n",
       "      <td>A</td>\n",
       "      <td>Onda</td>\n",
       "      <td>210919-131709</td>\n",
       "      <td>2021-09-19 13:17:09</td>\n",
       "    </tr>\n",
       "    <tr>\n",
       "      <th>39</th>\n",
       "      <td>2</td>\n",
       "      <td>206.007720</td>\n",
       "      <td>206.579664</td>\n",
       "      <td>170.6</td>\n",
       "      <td>452.4</td>\n",
       "      <td>351.562</td>\n",
       "      <td>351.562</td>\n",
       "      <td>206.1675</td>\n",
       "      <td>0.5719</td>\n",
       "      <td>A</td>\n",
       "      <td>Onda</td>\n",
       "      <td>210919-131709</td>\n",
       "      <td>2021-09-19 13:17:09</td>\n",
       "    </tr>\n",
       "    <tr>\n",
       "      <th>40</th>\n",
       "      <td>2</td>\n",
       "      <td>208.776811</td>\n",
       "      <td>209.519680</td>\n",
       "      <td>155.8</td>\n",
       "      <td>452.4</td>\n",
       "      <td>351.562</td>\n",
       "      <td>351.562</td>\n",
       "      <td>209.3437</td>\n",
       "      <td>0.7429</td>\n",
       "      <td>A</td>\n",
       "      <td>Onda</td>\n",
       "      <td>210919-131709</td>\n",
       "      <td>2021-09-19 13:17:09</td>\n",
       "    </tr>\n",
       "    <tr>\n",
       "      <th>41</th>\n",
       "      <td>2</td>\n",
       "      <td>207.288042</td>\n",
       "      <td>207.432671</td>\n",
       "      <td>66.8</td>\n",
       "      <td>192.8</td>\n",
       "      <td>140.625</td>\n",
       "      <td>140.625</td>\n",
       "      <td>207.3362</td>\n",
       "      <td>0.1446</td>\n",
       "      <td>D</td>\n",
       "      <td>Click</td>\n",
       "      <td>210919-131709</td>\n",
       "      <td>2021-09-19 13:17:09</td>\n",
       "    </tr>\n",
       "    <tr>\n",
       "      <th>42</th>\n",
       "      <td>2</td>\n",
       "      <td>208.333319</td>\n",
       "      <td>208.438504</td>\n",
       "      <td>296.7</td>\n",
       "      <td>415.4</td>\n",
       "      <td>375.000</td>\n",
       "      <td>375.000</td>\n",
       "      <td>208.3675</td>\n",
       "      <td>0.1052</td>\n",
       "      <td>D</td>\n",
       "      <td>Click</td>\n",
       "      <td>210919-131709</td>\n",
       "      <td>2021-09-19 13:17:09</td>\n",
       "    </tr>\n",
       "    <tr>\n",
       "      <th>43</th>\n",
       "      <td>2</td>\n",
       "      <td>210.268680</td>\n",
       "      <td>210.393588</td>\n",
       "      <td>59.3</td>\n",
       "      <td>200.3</td>\n",
       "      <td>140.625</td>\n",
       "      <td>140.625</td>\n",
       "      <td>210.3200</td>\n",
       "      <td>0.1249</td>\n",
       "      <td>D</td>\n",
       "      <td>Click</td>\n",
       "      <td>210919-131709</td>\n",
       "      <td>2021-09-19 13:17:09</td>\n",
       "    </tr>\n",
       "  </tbody>\n",
       "</table>\n",
       "</div>"
      ],
      "text/plain": [
       "    Channel  Begin Time (s)  End Time (s)  Low Freq (Hz)  High Freq (Hz)  \\\n",
       "0         2        1.898836      2.866978          181.8           469.7   \n",
       "1         2        6.551240      7.466920          151.5           424.3   \n",
       "2         2        7.787410      7.998181          106.7           253.5   \n",
       "3         2       12.668408     13.278533          186.8           386.9   \n",
       "38        2      189.805685    190.495962          155.8           407.9   \n",
       "39        2      206.007720    206.579664          170.6           452.4   \n",
       "40        2      208.776811    209.519680          155.8           452.4   \n",
       "41        2      207.288042    207.432671           66.8           192.8   \n",
       "42        2      208.333319    208.438504          296.7           415.4   \n",
       "43        2      210.268680    210.393588           59.3           200.3   \n",
       "\n",
       "    Max Freq (Hz)  Peak Freq (Hz)  Peak Time (s)  Delta Time (s) type  Caract  \\\n",
       "0         328.125         328.125         2.1587          0.9681    A    Onda   \n",
       "1         257.812         257.812         6.6550          0.9157    A    Onda   \n",
       "2         210.938         210.938         7.8375          0.2108    B   Silbo   \n",
       "3         281.250         281.250        13.0350          0.6101    C  Lineal   \n",
       "38        328.125         328.125       190.1350          0.6903    A    Onda   \n",
       "39        351.562         351.562       206.1675          0.5719    A    Onda   \n",
       "40        351.562         351.562       209.3437          0.7429    A    Onda   \n",
       "41        140.625         140.625       207.3362          0.1446    D   Click   \n",
       "42        375.000         375.000       208.3675          0.1052    D   Click   \n",
       "43        140.625         140.625       210.3200          0.1249    D   Click   \n",
       "\n",
       "        file_name          start_time  \n",
       "0   210919-131709 2021-09-19 13:17:09  \n",
       "1   210919-131709 2021-09-19 13:17:09  \n",
       "2   210919-131709 2021-09-19 13:17:09  \n",
       "3   210919-131709 2021-09-19 13:17:09  \n",
       "38  210919-131709 2021-09-19 13:17:09  \n",
       "39  210919-131709 2021-09-19 13:17:09  \n",
       "40  210919-131709 2021-09-19 13:17:09  \n",
       "41  210919-131709 2021-09-19 13:17:09  \n",
       "42  210919-131709 2021-09-19 13:17:09  \n",
       "43  210919-131709 2021-09-19 13:17:09  "
      ]
     },
     "execution_count": 5,
     "metadata": {},
     "output_type": "execute_result"
    }
   ],
   "source": [
    "## DF for classification\n",
    "annot_df = pd.concat(df_list_cls, axis=0)\n",
    "\n",
    "# Caract\n",
    "annot_df['Caract'].fillna('UnClas', inplace=True) # UnClassified\n",
    "annot_df_cls_full = annot_df\n",
    "annot_df = annot_df.loc[annot_df['Caract']!=\"UnClas\"]\n",
    "\n",
    "print(f'len of annot_df_cls:{len(annot_df)}, len of annot_df_cls WITH unclassified calls: {len(annot_df_cls_full)}\\n ')\n",
    "\n",
    "annot_df.head(10)"
   ]
  },
  {
   "cell_type": "markdown",
   "id": "7d1b50ff-8238-4190-8768-8508059ee4b7",
   "metadata": {
    "tags": []
   },
   "source": [
    "# Exploration - classification"
   ]
  },
  {
   "cell_type": "code",
   "execution_count": 6,
   "id": "3bc8c55f-f4b7-47ca-9ca4-432f676ce6ea",
   "metadata": {},
   "outputs": [
    {
     "name": "stdout",
     "output_type": "stream",
     "text": [
      "list of types: \n",
      "[('A', 84), ('D', 49), ('E', 23), ('G', 12), ('H', 11), ('I', 11), ('C', 6), ('F', 4), ('J', 4), ('B', 1), ('K', 1)] \n",
      "\n"
     ]
    }
   ],
   "source": [
    "# type\n",
    "print(f'list of types: \\n{[item for item in dict(annot_df[\"type\"].value_counts()).items()]} \\n')"
   ]
  },
  {
   "cell_type": "code",
   "execution_count": 7,
   "id": "6fa6d53d-78f8-4df6-923f-558e38942bc6",
   "metadata": {
    "tags": []
   },
   "outputs": [
    {
     "name": "stdout",
     "output_type": "stream",
     "text": [
      "list of classes: \n",
      "Onda      100\n",
      "Click      49\n",
      "UnClas     38\n",
      "Down       23\n",
      "Up         23\n",
      "Lineal     10\n",
      "Silbo       1\n",
      "Name: Caract, dtype: int64 \n",
      "\n"
     ]
    },
    {
     "data": {
      "image/png": "[encoded data removed]",
      "text/plain": [
       "<Figure size 432x288 with 1 Axes>"
      ]
     },
     "metadata": {
      "needs_background": "light"
     },
     "output_type": "display_data"
    }
   ],
   "source": [
    "# Caract \n",
    "print(f'list of classes: \\n{annot_df_cls_full[\"Caract\"].value_counts()} \\n')\n",
    "\n",
    "annot_df_cls_full['Caract'].hist()\n",
    "plt.title('Caract histogram WITH unclassified calls')\n",
    "plt.show()"
   ]
  },
  {
   "cell_type": "markdown",
   "id": "7577bbd6-b621-4cba-9fac-9bb51827dfe7",
   "metadata": {},
   "source": [
    "### Frequency"
   ]
  },
  {
   "cell_type": "code",
   "execution_count": 8,
   "id": "c6842eb6-1c33-4227-8a62-111fb6c6f99a",
   "metadata": {},
   "outputs": [
    {
     "data": {
      "image/png": "[encoded data removed]",
      "text/plain": [
       "<Figure size 432x288 with 2 Axes>"
      ]
     },
     "metadata": {
      "needs_background": "light"
     },
     "output_type": "display_data"
    },
    {
     "name": "stdout",
     "output_type": "stream",
     "text": [
      "Low Freq min: 14.8 max:430.07\n"
     ]
    }
   ],
   "source": [
    "annot_df_cls_full[['Low Freq (Hz)', 'Caract', 'High Freq (Hz)']].loc[annot_df_cls_full['Caract'] == \"UnClas\"].hist(bins=50)\n",
    "plt.suptitle('Caract=Unclassified Frequency histogram')\n",
    "plt.show()\n",
    "print(f\"Low Freq min: {annot_df_cls_full['Low Freq (Hz)'].min()} max:{annot_df_cls_full['Low Freq (Hz)'].max()}\")"
   ]
  },
  {
   "cell_type": "code",
   "execution_count": 9,
   "id": "38706857-c280-4b4a-82a8-c2ff5defcb00",
   "metadata": {},
   "outputs": [
    {
     "data": {
      "image/png": "[encoded data removed]",
      "text/plain": [
       "<Figure size 432x288 with 1 Axes>"
      ]
     },
     "metadata": {
      "needs_background": "light"
     },
     "output_type": "display_data"
    },
    {
     "name": "stdout",
     "output_type": "stream",
     "text": [
      "Low Freq min: 14.8 max:430.07\n"
     ]
    }
   ],
   "source": [
    "annot_df_cls_full[\"High Freq (Hz)\"].hist(bins=50, legend=True)\n",
    "annot_df_cls_full[\"Low Freq (Hz)\"].hist(bins=50, legend=True)\n",
    "plt.suptitle('Frequency histogram')\n",
    "plt.show()\n",
    "print(f\"Low Freq min: {annot_df_cls_full['Low Freq (Hz)'].min()} max:{annot_df_cls_full['Low Freq (Hz)'].max()}\")"
   ]
  },
  {
   "cell_type": "code",
   "execution_count": 10,
   "id": "a63cd30e-1386-463a-a03c-b3c498ff456c",
   "metadata": {},
   "outputs": [
    {
     "data": {
      "image/png": "[encoded data removed]",
      "text/plain": [
       "<Figure size 432x288 with 1 Axes>"
      ]
     },
     "metadata": {
      "needs_background": "light"
     },
     "output_type": "display_data"
    }
   ],
   "source": [
    "(annot_df_cls_full[\"High Freq (Hz)\"] - annot_df_cls_full[\"Low Freq (Hz)\"]).hist(bins=50)\n",
    "plt.suptitle('Delta Freq histogram')\n",
    "plt.show()"
   ]
  },
  {
   "cell_type": "code",
   "execution_count": 11,
   "id": "9a2da883-6697-411b-8c6e-a5068a1c6e1b",
   "metadata": {},
   "outputs": [
    {
     "data": {
      "image/png": "[encoded data removed]",
      "text/plain": [
       "<Figure size 432x288 with 1 Axes>"
      ]
     },
     "metadata": {
      "needs_background": "light"
     },
     "output_type": "display_data"
    },
    {
     "name": "stdout",
     "output_type": "stream",
     "text": [
      "median Low-Freq per Caract: \n",
      "\n",
      "        Low Freq (Hz)\n",
      "Caract               \n",
      "Click          62.937\n",
      "Down          272.727\n",
      "Lineal        230.769\n",
      "Onda          178.013\n",
      "Silbo         106.700\n",
      "UnClas        187.750\n",
      "Up            304.196\n"
     ]
    }
   ],
   "source": [
    "sns.histplot(annot_df_cls_full[['Low Freq (Hz)', 'Caract', 'High Freq (Hz)']].reset_index(drop=True), x='Low Freq (Hz)', hue='Caract')\n",
    "plt.suptitle('Low Freq histogram per Caract')\n",
    "plt.show()\n",
    "\n",
    "print(f\"median Low-Freq per Caract: \\n\\n{annot_df_cls_full[['Caract', 'Low Freq (Hz)']].groupby(['Caract']).median()}\")"
   ]
  },
  {
   "cell_type": "code",
   "execution_count": 12,
   "id": "1c301750-9088-4ed6-a71f-1eb701cf7ea6",
   "metadata": {},
   "outputs": [
    {
     "data": {
      "image/png": "[encoded data removed]",
      "text/plain": [
       "<Figure size 432x288 with 1 Axes>"
      ]
     },
     "metadata": {
      "needs_background": "light"
     },
     "output_type": "display_data"
    },
    {
     "name": "stdout",
     "output_type": "stream",
     "text": [
      "median High-Freq per Caract: \n",
      "\n",
      "        High Freq (Hz)\n",
      "Caract                \n",
      "Click          188.811\n",
      "Down           576.923\n",
      "Lineal         440.559\n",
      "Onda           451.049\n",
      "Silbo          253.500\n",
      "UnClas         452.600\n",
      "Up            1384.615\n"
     ]
    }
   ],
   "source": [
    "sns.histplot(annot_df_cls_full[['Low Freq (Hz)', 'Caract', 'High Freq (Hz)']].reset_index(drop=True), x='High Freq (Hz)', hue='Caract')\n",
    "plt.suptitle('High Freq histogram per Caract')\n",
    "plt.show()\n",
    "print(f\"median High-Freq per Caract: \\n\\n{annot_df_cls_full[['Caract', 'High Freq (Hz)']].groupby(['Caract']).median()}\")"
   ]
  },
  {
   "cell_type": "markdown",
   "id": "365bc2c0-fc48-4eca-9148-e846047720c4",
   "metadata": {},
   "source": [
    "### Explore calls length "
   ]
  },
  {
   "cell_type": "code",
   "execution_count": 13,
   "id": "5cbe45b9-8558-470d-9e5e-2fe7c7707900",
   "metadata": {},
   "outputs": [
    {
     "data": {
      "image/png": "[encoded data removed]",
      "text/plain": [
       "<Figure size 432x288 with 1 Axes>"
      ]
     },
     "metadata": {
      "needs_background": "light"
     },
     "output_type": "display_data"
    },
    {
     "name": "stdout",
     "output_type": "stream",
     "text": [
      "avarage length of CLEAN classed-sample: 0.7101506315922311 seconds, median: 0.7883280989999832 seconds\n",
      "\n"
     ]
    },
    {
     "data": {
      "image/png": "[encoded data removed]",
      "text/plain": [
       "<Figure size 432x288 with 1 Axes>"
      ]
     },
     "metadata": {
      "needs_background": "light"
     },
     "output_type": "display_data"
    },
    {
     "name": "stdout",
     "output_type": "stream",
     "text": [
      "avarage length of classed-sample: 0.7417877000081958 seconds, median: 0.8040162204999888 seconds\n"
     ]
    }
   ],
   "source": [
    "length_calls_clean_cls = annot_df[\"End Time (s)\"] - annot_df[\"Begin Time (s)\"]\n",
    "length_calls_clean_cls.hist(bins=50)\n",
    "plt.title('lengths - CLEAN classes only')\n",
    "plt.show()\n",
    "print(f'avarage length of CLEAN classed-sample: {length_calls_clean_cls.mean()} seconds, median: {length_calls_clean_cls.median()} seconds\\n')\n",
    "\n",
    "Sanity_TH = 5 #ms\n",
    "length_calls_full_cls = annot_df_cls_full[\"End Time (s)\"] - annot_df_cls_full[\"Begin Time (s)\"]\n",
    "length_calls_full_cls = length_calls_full_cls.loc[length_calls_full_cls<Sanity_TH]\n",
    "length_calls_full_cls.hist(bins=50)\n",
    "plt.title('lengths - Carat df before cleaning unspecified calls')\n",
    "plt.show()\n",
    "print(f'avarage length of classed-sample: {length_calls_full_cls.mean()} seconds, median: {length_calls_full_cls.median()} seconds')"
   ]
  },
  {
   "cell_type": "code",
   "execution_count": 14,
   "id": "f83f9365-7ce4-4489-995e-b66a6ea699a6",
   "metadata": {},
   "outputs": [
    {
     "data": {
      "image/png": "[encoded data removed]",
      "text/plain": [
       "<Figure size 432x288 with 1 Axes>"
      ]
     },
     "metadata": {
      "needs_background": "light"
     },
     "output_type": "display_data"
    }
   ],
   "source": [
    "quantile_keys = np.arange(0, 1, 0.1)\n",
    "pd.Series(np.quantile(length_calls_clean_cls, quantile_keys), index=map(lambda x: f'{x:.0%}', quantile_keys), name='Quantiles').plot.bar()\n",
    "plt.title('Quantiles (s) for CLEANED classified df')\n",
    "plt.xticks(rotation=20)\n",
    "plt.show()"
   ]
  },
  {
   "cell_type": "markdown",
   "id": "ec4496cd-6341-48ea-9a23-090b42e246e6",
   "metadata": {},
   "source": [
    "# Exploration - detection"
   ]
  },
  {
   "cell_type": "markdown",
   "id": "f48018a8-7c0f-45e2-b805-d6c21cbe7b5f",
   "metadata": {},
   "source": [
    "### Frequency"
   ]
  },
  {
   "cell_type": "code",
   "execution_count": 15,
   "id": "668b3edd-9011-4d6e-89a8-9bbf0c5df2e9",
   "metadata": {},
   "outputs": [
    {
     "data": {
      "image/png": "[encoded data removed]",
      "text/plain": [
       "<Figure size 432x288 with 1 Axes>"
      ]
     },
     "metadata": {
      "needs_background": "light"
     },
     "output_type": "display_data"
    },
    {
     "data": {
      "image/png": "[encoded data removed]",
      "text/plain": [
       "<Figure size 432x288 with 1 Axes>"
      ]
     },
     "metadata": {
      "needs_background": "light"
     },
     "output_type": "display_data"
    }
   ],
   "source": [
    "diffs_freqs_wocls = (annot_df_wocls[\"High Freq (Hz)\"] - annot_df_wocls[\"Low Freq (Hz)\"])\n",
    "diffs_freqs_wocls.hist(bins=50)\n",
    "plt.suptitle('Delta Freq histogram - unclassified calls')\n",
    "plt.show()\n",
    "\n",
    "Sanity_Freq = 10000\n",
    "clean_diffs_freqs_wocls = diffs_freqs_wocls.loc[diffs_freqs_wocls<Sanity_Freq]\n",
    "clean_diffs_freqs_wocls.hist(bins=50)\n",
    "plt.suptitle('Delta Freq histogram - unclassified calls (clean outliers)')\n",
    "plt.show()"
   ]
  },
  {
   "cell_type": "markdown",
   "id": "047457f6-8447-414a-9203-984760daf371",
   "metadata": {},
   "source": [
    "### Calls lengths"
   ]
  },
  {
   "cell_type": "code",
   "execution_count": 16,
   "id": "032e15d9-7ace-4f21-a920-5058eec7002c",
   "metadata": {},
   "outputs": [
    {
     "data": {
      "image/png": "[encoded data removed]",
      "text/plain": [
       "<Figure size 432x288 with 1 Axes>"
      ]
     },
     "metadata": {
      "needs_background": "light"
     },
     "output_type": "display_data"
    },
    {
     "data": {
      "image/png": "[encoded data removed]",
      "text/plain": [
       "<Figure size 432x288 with 1 Axes>"
      ]
     },
     "metadata": {
      "needs_background": "light"
     },
     "output_type": "display_data"
    },
    {
     "data": {
      "image/png": "[encoded data removed]",
      "text/plain": [
       "<Figure size 432x288 with 1 Axes>"
      ]
     },
     "metadata": {
      "needs_background": "light"
     },
     "output_type": "display_data"
    }
   ],
   "source": [
    "(annot_df_wocls[\"End Time (s)\"] - annot_df_wocls[\"Begin Time (s)\"])[:-2].hist(bins=50)\n",
    "plt.title('lengths - without cls')\n",
    "plt.show()\n",
    "\n",
    "(annot_df_wocls[\"End Time (s)\"] - annot_df_wocls[\"Begin Time (s)\"]).hist(bins=50, range=(0, 3))\n",
    "plt.title('lengths - without cls - xlim[0,3]')\n",
    "plt.show()\n",
    "\n",
    "quantile_keys = np.arange(0, 1, 0.1)\n",
    "pd.Series(np.quantile(annot_df_wocls[\"End Time (s)\"] - annot_df_wocls[\"Begin Time (s)\"], quantile_keys), index=map(lambda x: f'{x:.0%}', quantile_keys), name='Quantiles').plot.bar()\n",
    "plt.title('Quantiles (s)')\n",
    "plt.xticks(rotation=20)\n",
    "plt.show()"
   ]
  },
  {
   "cell_type": "code",
   "execution_count": 17,
   "id": "2d95262c-cd21-41d3-84f4-12133284f3b6",
   "metadata": {},
   "outputs": [
    {
     "name": "stdout",
     "output_type": "stream",
     "text": [
      "len annot_df_wocls_combined: 1160, Vs original annot_df_wocls: 916\n"
     ]
    },
    {
     "data": {
      "text/html": [
       "<div>\n",
       "<style scoped>\n",
       "    .dataframe tbody tr th:only-of-type {\n",
       "        vertical-align: middle;\n",
       "    }\n",
       "\n",
       "    .dataframe tbody tr th {\n",
       "        vertical-align: top;\n",
       "    }\n",
       "\n",
       "    .dataframe thead th {\n",
       "        text-align: right;\n",
       "    }\n",
       "</style>\n",
       "<table border=\"1\" class=\"dataframe\">\n",
       "  <thead>\n",
       "    <tr style=\"text-align: right;\">\n",
       "      <th></th>\n",
       "      <th>Channel</th>\n",
       "      <th>Begin Time (s)</th>\n",
       "      <th>End Time (s)</th>\n",
       "      <th>Low Freq (Hz)</th>\n",
       "      <th>High Freq (Hz)</th>\n",
       "      <th>Delta Time (s)</th>\n",
       "      <th>Delta Freq (Hz)</th>\n",
       "      <th>Avg Power Density (dB FS/Hz)</th>\n",
       "      <th>Max Freq (Hz)</th>\n",
       "      <th>file_name</th>\n",
       "      <th>start_time</th>\n",
       "      <th>Peak Freq (Hz)</th>\n",
       "      <th>type</th>\n",
       "      <th>Peak Time (s)</th>\n",
       "    </tr>\n",
       "  </thead>\n",
       "  <tbody>\n",
       "    <tr>\n",
       "      <th>0</th>\n",
       "      <td>2</td>\n",
       "      <td>3.815649</td>\n",
       "      <td>4.790005</td>\n",
       "      <td>283.019</td>\n",
       "      <td>584.906</td>\n",
       "      <td>0.9744</td>\n",
       "      <td>301.887</td>\n",
       "      <td>NaN</td>\n",
       "      <td>515.625</td>\n",
       "      <td>210922-112437</td>\n",
       "      <td>2021-09-22 11:24:37</td>\n",
       "      <td>NaN</td>\n",
       "      <td>NaN</td>\n",
       "      <td>NaN</td>\n",
       "    </tr>\n",
       "  </tbody>\n",
       "</table>\n",
       "</div>"
      ],
      "text/plain": [
       "   Channel  Begin Time (s)  End Time (s)  Low Freq (Hz)  High Freq (Hz)  \\\n",
       "0        2        3.815649      4.790005        283.019         584.906   \n",
       "\n",
       "   Delta Time (s)  Delta Freq (Hz)  Avg Power Density (dB FS/Hz)  \\\n",
       "0          0.9744          301.887                           NaN   \n",
       "\n",
       "   Max Freq (Hz)      file_name          start_time  Peak Freq (Hz) type  \\\n",
       "0        515.625  210922-112437 2021-09-22 11:24:37             NaN  NaN   \n",
       "\n",
       "   Peak Time (s)  \n",
       "0            NaN  "
      ]
     },
     "execution_count": 17,
     "metadata": {},
     "output_type": "execute_result"
    }
   ],
   "source": [
    "annot_df_wocls_combined = pd.merge(annot_df_wocls, annot_df_cls_full, how='outer')\n",
    "print(f\"len annot_df_wocls_combined: {len(annot_df_wocls_combined)}, Vs original annot_df_wocls: {len(annot_df_wocls)}\")\n",
    "annot_df_wocls_combined.drop(columns=['Caract'], inplace=True)\n",
    "annot_df_wocls_combined.head(1)"
   ]
  },
  {
   "cell_type": "markdown",
   "id": "86a114e9-6e05-4cf6-b308-ca2367f01484",
   "metadata": {},
   "source": [
    "# Create model annotations"
   ]
  },
  {
   "cell_type": "markdown",
   "id": "3898a2c7-9e44-4cd9-abe7-09c682e31223",
   "metadata": {},
   "source": [
    "begin_time, end_time, channel, filename, call_length, label"
   ]
  },
  {
   "cell_type": "code",
   "execution_count": 18,
   "id": "0a807bf2-1d47-477e-a666-2afd883dccd7",
   "metadata": {},
   "outputs": [],
   "source": [
    "def range_diff(r1, r2):\n",
    "    s1, e1 = r1\n",
    "    s2, e2 = r2\n",
    "    endpoints = sorted((s1, s2, e1, e2))\n",
    "    result = []\n",
    "    if endpoints[0] == s1 and endpoints[1] != s1:\n",
    "        result.append((endpoints[0], endpoints[1]))\n",
    "    if endpoints[3] == e1 and endpoints[2] != e1:\n",
    "        result.append((endpoints[2], endpoints[3]))\n",
    "    return result\n",
    "\n",
    "def multirange_diff(r1_list, r2_list):\n",
    "    \"\"\"Generated the difference between two time ranges\"\"\"\n",
    "    for r2 in r2_list:\n",
    "        r1_list = list(itertools.chain(*[range_diff(r1, r2) for r1 in r1_list]))\n",
    "    return r1_list"
   ]
  },
  {
   "cell_type": "code",
   "execution_count": 19,
   "id": "6625d31b-e0c8-4f4c-982d-dc9e049f2804",
   "metadata": {},
   "outputs": [],
   "source": [
    "wav_folder = '/home/shai/personal/soundbay/data/annotated_calls/'"
   ]
  },
  {
   "cell_type": "code",
   "execution_count": 20,
   "id": "f60db300-e768-4ae8-9637-8cf3c1d891bb",
   "metadata": {},
   "outputs": [
    {
     "name": "stdout",
     "output_type": "stream",
     "text": [
      "audio_files_only_wo_cls:['210922-112437' '210926-104317' '210925-104759' '210919-140341']\n",
      "audio_files_only_cls:['210919-131709' '210920-103949']\n",
      "audio_files_all_calls_combined:['210922-112437' '210926-104317' '210925-104759' '210919-140341'\n",
      " '210919-131709' '210920-103949']\n"
     ]
    }
   ],
   "source": [
    "audio_files_only_wo_cls = annot_df_wocls.file_name.unique()  # annot_df.file_name.unique()\n",
    "print(f'audio_files_only_wo_cls:{audio_files_only_wo_cls}')\n",
    "audio_files_only_cls = annot_df.file_name.unique() \n",
    "print(f'audio_files_only_cls:{audio_files_only_cls}')\n",
    "audio_files_all_calls_combined = annot_df_wocls_combined.file_name.unique()\n",
    "print(f'audio_files_all_calls_combined:{audio_files_all_calls_combined}')"
   ]
  },
  {
   "cell_type": "markdown",
   "id": "25e62f5c-42b4-4fa0-b9d1-b7a6e9e14f36",
   "metadata": {},
   "source": [
    "### Create Dataset based on the requested task - defined TASK here"
   ]
  },
  {
   "cell_type": "code",
   "execution_count": 21,
   "id": "0aecf328-7ddc-4856-b22b-1490dbdff09c",
   "metadata": {},
   "outputs": [],
   "source": [
    "task = \"det\" # \"det\" or \"cls"
   ]
  },
  {
   "cell_type": "code",
   "execution_count": 22,
   "id": "a2694609-13db-48b1-8bfd-5189868451e1",
   "metadata": {},
   "outputs": [
    {
     "name": "stdout",
     "output_type": "stream",
     "text": [
      "creating data set for task: det ...\n",
      "processing file: 210922-112437\n",
      "processing file: 210926-104317\n",
      "processing file: 210925-104759\n",
      "processing file: 210919-140341\n",
      "processing file: 210919-131709\n",
      "processing file: 210920-103949\n"
     ]
    }
   ],
   "source": [
    "audio_files_dict = {'det':audio_files_all_calls_combined, 'cls':audio_files_only_cls}\n",
    "annot_df_dict = {'det':annot_df_wocls, 'cls':annot_df}\n",
    "if task == \"cls\":\n",
    "    labels = annot_df_dict[task]['Caract'].unique()\n",
    "    labels_dict = dict(zip(labels, range(1,len(labels)+1)))\n",
    "    print(f'for classification task - labels_dict:{labels_dict}')\n",
    "datasets_list_of_files = []\n",
    "\n",
    "model_file_list = []\n",
    "columns_to_drop=['Low Freq (Hz)', 'High Freq (Hz)', 'start_time', 'Max Freq (Hz)', 'Peak Freq (Hz)', 'Delta Time (s)', 'Delta Freq (Hz)', 'type', 'Peak Time (s)', 'Avg Power Density (dB FS/Hz)']\n",
    "\n",
    "print(f'creating data set for task: {task} ...')\n",
    "for file in audio_files_dict[task]:\n",
    "    datasets_list_of_files.append(file)\n",
    "    print(f'processing file: {file}')\n",
    "    file_length = sf.info(wav_folder + file + '.WAV').duration\n",
    "    relevant_annot = annot_df_dict[task][annot_df_dict[task].file_name == file]\n",
    "    model_annot_file = relevant_annot.copy()\n",
    "    for redund_col in columns_to_drop:\n",
    "        try:\n",
    "            model_annot_file.drop(columns=redund_col, inplace=True)\n",
    "        except:\n",
    "            pass\n",
    "    model_annot_file.rename(columns={'Channel': 'channel', 'Begin Time (s)': 'begin_time', 'End Time (s)': 'end_time', 'file_name': 'filename'}, inplace=True)\n",
    "    \n",
    "    model_annot_file['begin_time'] = model_annot_file['begin_time'].astype(float)\n",
    "    model_annot_file['end_time'] = model_annot_file['end_time'].astype(float)\n",
    "    model_annot_file['call_length'] = model_annot_file['end_time'] - model_annot_file['begin_time']\n",
    "\n",
    "    if task == \"det\":\n",
    "        model_annot_file['label'] = int(1)\n",
    "    elif file in audio_files_only_cls and task == \"cls\":\n",
    "        model_annot_file['label'] = model_annot_file['Caract'].replace(labels_dict).astype(int)\n",
    "        model_annot_file.drop(columns=['Caract'], inplace=True)\n",
    "    \n",
    "    model_annot_file = model_annot_file.sort_values('begin_time')\n",
    "    model_file_list.append(model_annot_file)"
   ]
  },
  {
   "cell_type": "code",
   "execution_count": 23,
   "id": "bdd78d44-7d11-41d7-9635-6227262b22d1",
   "metadata": {},
   "outputs": [
    {
     "name": "stdout",
     "output_type": "stream",
     "text": [
      "adding noise files\n",
      "   channel  begin_time    end_time          filename  call_length  label\n",
      "0        2         0.0  322.510667  210921-105612-BN   322.510667      0\n",
      "0        2         0.0  965.434667  210928-132050-BN   965.434667      0\n",
      "0        2         0.0  909.714667  210921-100337-BN   909.714667      0\n",
      "0        2         0.0  904.818667  210928-135406-BN   904.818667      0\n"
     ]
    }
   ],
   "source": [
    "def add_noise_from_sep_files(channels_to_add_noise_to, wav_folder):\n",
    "    noise_file_list = []\n",
    "    for file in glob.glob(wav_folder+'/*BN*.WAV'):\n",
    "        file_length = sf.info(file).duration\n",
    "        file_name_bg = os.path.basename(file).split('.')[0]\n",
    "        for ch in channels_to_add_noise_to:\n",
    "            noise_ch_dict = {'channel':int(ch), 'begin_time':[0.0], 'end_time': [float(file_length)], 'filename': [file_name_bg], 'call_length': [float(file_length)], 'label':[int(0)]}\n",
    "            noise_ch = pd.DataFrame.from_dict(noise_ch_dict)\n",
    "            noise_file_list.append(noise_ch)\n",
    "    return pd.concat(noise_file_list, axis=0)\n",
    "\n",
    "#     # Background is the subtraction of the annotated sections from the whole timerange in the file - but only inbetweem positive samples in the annotated parts\n",
    "#     potential_bg_ranges = np.array(multirange_diff([(0, file_length)], [(relevant_annot['Begin Time (s)'][i], relevant_annot['End Time (s)'][i]) \\\n",
    "#                                                               for i in range(len(relevant_annot))])).astype(float)\n",
    "#     potential_bg_lens = potential_bg_ranges[:,1]-potential_bg_ranges[:,0]\n",
    "    \n",
    "#     plt.hist(potential_bg_lens[:], bins=100)\n",
    "#     plt.title(file+ ' ALL')\n",
    "#     plt.show()\n",
    "    \n",
    "#     bg_ranges = potential_bg_ranges[potential_bg_lens < (np.median(potential_bg_lens) + np.std(potential_bg_lens)/10), :]\n",
    "#     plt.hist(bg_ranges[:,1]-bg_ranges[:,0], bins=10)\n",
    "#     plt.title(file + ' cropped')\n",
    "#     plt.show()\n",
    "    \n",
    "#     print(f'np.median(potential_bg_lens): {np.median(potential_bg_lens)}, np.std(potential_bg_lens): {np.std(potential_bg_lens)}\\nlen cropped: {len(bg_ranges)} out of {len(potential_bg_lens)}')\n",
    "\n",
    "    \n",
    "    # # Noise exists in all channels, signal exists only in the channel it was annotated in\n",
    "    # for ch in range(1, 5):\n",
    "    #     bg_annot = pd.DataFrame(np.array([ch * np.ones(len(bg_ranges), int), bg_ranges[:, 0], bg_ranges[:, 1], ['Noise'] * len(bg_ranges), [file] * len(bg_ranges)]).T,\n",
    "    #                        columns=model_annot_file.columns)\n",
    "    #     model_annot_file = pd.concat([model_annot_file, bg_annot], axis=0, ignore_index=True)\n",
    "    \n",
    "    \n",
    "if task == \"det\":\n",
    "    print('adding noise files')\n",
    "    channels_to_add_noise_to = annot_df_wocls.Channel.unique()\n",
    "    noise_df = add_noise_from_sep_files(channels_to_add_noise_to, wav_folder)\n",
    "    print(noise_df)\n",
    "    model_file_list.append(noise_df)"
   ]
  },
  {
   "cell_type": "code",
   "execution_count": 24,
   "id": "60f1e1d2-604c-454c-88d6-ea7367bb4d67",
   "metadata": {},
   "outputs": [
    {
     "data": {
      "text/html": [
       "<div>\n",
       "<style scoped>\n",
       "    .dataframe tbody tr th:only-of-type {\n",
       "        vertical-align: middle;\n",
       "    }\n",
       "\n",
       "    .dataframe tbody tr th {\n",
       "        vertical-align: top;\n",
       "    }\n",
       "\n",
       "    .dataframe thead th {\n",
       "        text-align: right;\n",
       "    }\n",
       "</style>\n",
       "<table border=\"1\" class=\"dataframe\">\n",
       "  <thead>\n",
       "    <tr style=\"text-align: right;\">\n",
       "      <th></th>\n",
       "      <th>channel</th>\n",
       "      <th>begin_time</th>\n",
       "      <th>end_time</th>\n",
       "      <th>filename</th>\n",
       "      <th>call_length</th>\n",
       "      <th>label</th>\n",
       "    </tr>\n",
       "  </thead>\n",
       "  <tbody>\n",
       "    <tr>\n",
       "      <th>0</th>\n",
       "      <td>2</td>\n",
       "      <td>3.815649</td>\n",
       "      <td>4.790005</td>\n",
       "      <td>210922-112437</td>\n",
       "      <td>0.974356</td>\n",
       "      <td>1</td>\n",
       "    </tr>\n",
       "    <tr>\n",
       "      <th>1</th>\n",
       "      <td>2</td>\n",
       "      <td>3.815649</td>\n",
       "      <td>4.790005</td>\n",
       "      <td>210922-112437</td>\n",
       "      <td>0.974356</td>\n",
       "      <td>1</td>\n",
       "    </tr>\n",
       "    <tr>\n",
       "      <th>2</th>\n",
       "      <td>2</td>\n",
       "      <td>776.537728</td>\n",
       "      <td>777.332597</td>\n",
       "      <td>210922-112437</td>\n",
       "      <td>0.794869</td>\n",
       "      <td>1</td>\n",
       "    </tr>\n",
       "    <tr>\n",
       "      <th>3</th>\n",
       "      <td>2</td>\n",
       "      <td>776.537728</td>\n",
       "      <td>777.332597</td>\n",
       "      <td>210922-112437</td>\n",
       "      <td>0.794869</td>\n",
       "      <td>1</td>\n",
       "    </tr>\n",
       "    <tr>\n",
       "      <th>4</th>\n",
       "      <td>2</td>\n",
       "      <td>780.663882</td>\n",
       "      <td>781.522854</td>\n",
       "      <td>210922-112437</td>\n",
       "      <td>0.858972</td>\n",
       "      <td>1</td>\n",
       "    </tr>\n",
       "  </tbody>\n",
       "</table>\n",
       "</div>"
      ],
      "text/plain": [
       "   channel  begin_time    end_time       filename  call_length  label\n",
       "0        2    3.815649    4.790005  210922-112437     0.974356      1\n",
       "1        2    3.815649    4.790005  210922-112437     0.974356      1\n",
       "2        2  776.537728  777.332597  210922-112437     0.794869      1\n",
       "3        2  776.537728  777.332597  210922-112437     0.794869      1\n",
       "4        2  780.663882  781.522854  210922-112437     0.858972      1"
      ]
     },
     "execution_count": 24,
     "metadata": {},
     "output_type": "execute_result"
    }
   ],
   "source": [
    "model_annot_all_df = pd.concat(model_file_list, axis=0, ignore_index=True)\n",
    "# There are some NaN calls. We don't want them in either call or noise\n",
    "model_annot_all_df.dropna(inplace=True)\n",
    "\n",
    "model_annot_all_df.head()"
   ]
  },
  {
   "cell_type": "markdown",
   "id": "a3331318-5ba1-411f-88ef-f894b03ed280",
   "metadata": {},
   "source": [
    "## Test out the annotations (what sections of files are annotated?)"
   ]
  },
  {
   "cell_type": "code",
   "execution_count": 25,
   "id": "1ef7e019-f99b-44b5-ab0c-fa9b448a63ec",
   "metadata": {},
   "outputs": [
    {
     "name": "stdout",
     "output_type": "stream",
     "text": [
      "1    916\n",
      "0      4\n",
      "Name: label, dtype: int64\n"
     ]
    }
   ],
   "source": [
    "print(model_annot_all_df.label.value_counts())\n",
    "if task == \"cls\":\n",
    "        print(f'for classification task - labels_dict:{[(v,k) for k,v in labels_dict.items()]}')"
   ]
  },
  {
   "cell_type": "code",
   "execution_count": 26,
   "id": "9fdbd6c8-27c4-416b-a805-6e65be7e1845",
   "metadata": {},
   "outputs": [
    {
     "data": {
      "text/html": [
       "<div>\n",
       "<style scoped>\n",
       "    .dataframe tbody tr th:only-of-type {\n",
       "        vertical-align: middle;\n",
       "    }\n",
       "\n",
       "    .dataframe tbody tr th {\n",
       "        vertical-align: top;\n",
       "    }\n",
       "\n",
       "    .dataframe thead th {\n",
       "        text-align: right;\n",
       "    }\n",
       "</style>\n",
       "<table border=\"1\" class=\"dataframe\">\n",
       "  <thead>\n",
       "    <tr style=\"text-align: right;\">\n",
       "      <th></th>\n",
       "      <th></th>\n",
       "      <th>begin_time</th>\n",
       "      <th>end_time</th>\n",
       "    </tr>\n",
       "    <tr>\n",
       "      <th>filename</th>\n",
       "      <th>label</th>\n",
       "      <th></th>\n",
       "      <th></th>\n",
       "    </tr>\n",
       "  </thead>\n",
       "  <tbody>\n",
       "    <tr>\n",
       "      <th rowspan=\"5\" valign=\"top\">210919-140341</th>\n",
       "      <th>1</th>\n",
       "      <td>0.000000</td>\n",
       "      <td>137.425089</td>\n",
       "    </tr>\n",
       "    <tr>\n",
       "      <th>1</th>\n",
       "      <td>66.792673</td>\n",
       "      <td>67.517937</td>\n",
       "    </tr>\n",
       "    <tr>\n",
       "      <th>1</th>\n",
       "      <td>71.394078</td>\n",
       "      <td>72.425565</td>\n",
       "    </tr>\n",
       "    <tr>\n",
       "      <th>1</th>\n",
       "      <td>74.899526</td>\n",
       "      <td>75.882661</td>\n",
       "    </tr>\n",
       "    <tr>\n",
       "      <th>1</th>\n",
       "      <td>78.130990</td>\n",
       "      <td>78.912663</td>\n",
       "    </tr>\n",
       "  </tbody>\n",
       "</table>\n",
       "</div>"
      ],
      "text/plain": [
       "                     begin_time    end_time\n",
       "filename      label                        \n",
       "210919-140341 1        0.000000  137.425089\n",
       "              1       66.792673   67.517937\n",
       "              1       71.394078   72.425565\n",
       "              1       74.899526   75.882661\n",
       "              1       78.130990   78.912663"
      ]
     },
     "execution_count": 26,
     "metadata": {},
     "output_type": "execute_result"
    }
   ],
   "source": [
    "tmp_df = model_annot_all_df[['channel', 'begin_time', 'end_time', 'label', 'filename']\n",
    "                  ].groupby(['begin_time', 'end_time', 'filename']).agg(\n",
    "                                           label=('label', 'max')\n",
    "                  ).reset_index().sort_values(['filename', 'begin_time']\n",
    "                   ).set_index(['filename', 'label'])\n",
    "tmp_df.head()"
   ]
  },
  {
   "cell_type": "code",
   "execution_count": 27,
   "id": "75fa35e1-a04d-436e-adbf-eaae14c5aa5e",
   "metadata": {},
   "outputs": [],
   "source": [
    "if task == \"cls\":\n",
    "    # this is only relevant if there are more than single label in a file\n",
    "    for file in tmp_df.index.get_level_values(0).unique():\n",
    "        tmp_df.loc[file, :].stack().reset_index().drop(['level_1'], axis=1).rename(columns = {0: 'time'}\n",
    "                                                      ).set_index('time').plot(title=file)"
   ]
  },
  {
   "cell_type": "markdown",
   "id": "3d891ef1-b159-40cb-9e06-c6cbdcd0a948",
   "metadata": {},
   "source": [
    "## Filter calls that are too short"
   ]
  },
  {
   "cell_type": "code",
   "execution_count": 28,
   "id": "62396ca8-a125-457b-a238-5a01a14c018e",
   "metadata": {},
   "outputs": [
    {
     "data": {
      "text/plain": [
       "0%     0.062736\n",
       "10%    0.166354\n",
       "20%    0.253413\n",
       "30%    0.730596\n",
       "40%    0.807690\n",
       "50%    0.887223\n",
       "60%    0.979068\n",
       "70%    1.080827\n",
       "80%    1.243789\n",
       "90%    1.535383\n",
       "Name: Quantiles, dtype: float64"
      ]
     },
     "execution_count": 28,
     "metadata": {},
     "output_type": "execute_result"
    }
   ],
   "source": [
    "pd.Series(np.quantile(annot_df_dict[task][\"End Time (s)\"] - annot_df_dict[task][\"Begin Time (s)\"], quantile_keys), index=map(lambda x: f'{x:.0%}', quantile_keys), name='Quantiles')"
   ]
  },
  {
   "cell_type": "code",
   "execution_count": 29,
   "id": "0929e14d-69ca-402c-86ee-f9f2c9f0fb80",
   "metadata": {},
   "outputs": [
    {
     "name": "stdout",
     "output_type": "stream",
     "text": [
      "number of calls before length-filtering: 920\n",
      "number of calls after too short length-filtering: 780\n",
      "number of calls after both short&long length-filtering: 774\n"
     ]
    }
   ],
   "source": [
    "# filter too short calls \n",
    "print(f'number of calls before length-filtering: {len(model_annot_all_df)}')\n",
    "bottom_TH_length = 0.2 # TODO: check 0.2 (was 0.3)\n",
    "model_annot_all_df = model_annot_all_df[(model_annot_all_df['call_length'] > bottom_TH_length)]\n",
    "print(f'number of calls after too short length-filtering: {len(model_annot_all_df)}')\n",
    "top_TH_length = 10\n",
    "model_annot_all_df = model_annot_all_df[(model_annot_all_df['call_length'] < top_TH_length)]\n",
    "print(f'number of calls after both short&long length-filtering: {len(model_annot_all_df)}')"
   ]
  },
  {
   "cell_type": "markdown",
   "id": "c1793744-a203-4ed2-b334-fa4a062bc5a1",
   "metadata": {},
   "source": [
    "# Train-Val-Test split"
   ]
  },
  {
   "cell_type": "code",
   "execution_count": 30,
   "id": "a2191604-6024-4e6d-8f4c-d379d28c5440",
   "metadata": {},
   "outputs": [],
   "source": [
    "def relative_length_per_label(df, name):\n",
    "    print(f\"sum of all call lenghts for {name} DS: {df['call_length'].sum()}\")\n",
    "    print(f\"relative part of the overall length per label: \\n\\n{df[['call_length', 'label']].groupby('label').sum() / df['call_length'].sum()}\\n\")\n",
    "    sns.histplot(df[['label', 'call_length']].reset_index(drop=True), x='call_length', hue='label', binrange=(0.25, 1.5) ,bins=50)\n",
    "    plt.show()"
   ]
  },
  {
   "cell_type": "markdown",
   "id": "5d04ca7d-2128-43d4-ba18-90965a15e854",
   "metadata": {},
   "source": [
    "## blend split"
   ]
  },
  {
   "cell_type": "code",
   "execution_count": 31,
   "id": "225af189-d9c4-438c-ade0-74f42989f4c6",
   "metadata": {},
   "outputs": [
    {
     "name": "stdout",
     "output_type": "stream",
     "text": [
      "overall number of samples: 4644\n",
      "train_annot_df: 3672, val_annot_df:468, test_annot_df_blend:342\n",
      "sanity: train+val+test: 4482\n",
      "sum of all call lenghts for train_blend DS: 624.3907398100007\n",
      "relative part of the overall length per label: \n",
      "\n",
      "       call_length\n",
      "label             \n",
      "1              1.0\n",
      "\n"
     ]
    },
    {
     "data": {
      "image/png": "[encoded data removed]",
      "text/plain": [
       "<Figure size 432x288 with 1 Axes>"
      ]
     },
     "metadata": {
      "needs_background": "light"
     },
     "output_type": "display_data"
    },
    {
     "name": "stdout",
     "output_type": "stream",
     "text": [
      "sum of all call lenghts for val_blend DS: 77.41925881099985\n",
      "relative part of the overall length per label: \n",
      "\n",
      "       call_length\n",
      "label             \n",
      "1              1.0\n",
      "\n"
     ]
    },
    {
     "data": {
      "image/png": "[encoded data removed]",
      "text/plain": [
       "<Figure size 432x288 with 1 Axes>"
      ]
     },
     "metadata": {
      "needs_background": "light"
     },
     "output_type": "display_data"
    },
    {
     "name": "stdout",
     "output_type": "stream",
     "text": [
      "sum of all call lenghts for test_blend DS: 65.31938807600017\n",
      "relative part of the overall length per label: \n",
      "\n",
      "       call_length\n",
      "label             \n",
      "1              1.0\n",
      "\n"
     ]
    },
    {
     "data": {
      "image/png": "[encoded data removed]",
      "text/plain": [
       "<Figure size 432x288 with 1 Axes>"
      ]
     },
     "metadata": {
      "needs_background": "light"
     },
     "output_type": "display_data"
    }
   ],
   "source": [
    "print(f'overall number of samples: {model_annot_all_df.size}')\n",
    "train_annot_df_blend = model_annot_all_df.copy().iloc[lambda x: x.index % 5 != 0]\n",
    "val_annot_df_blend = model_annot_all_df.copy().iloc[lambda x: x.index % 10 == 0]\n",
    "test_annot_df_blend = pd.concat([model_annot_all_df.copy(),train_annot_df_blend, val_annot_df_blend]).drop_duplicates(keep=False)\n",
    "\n",
    "print(f'train_annot_df: {train_annot_df_blend.size}, val_annot_df:{val_annot_df_blend.size}, test_annot_df_blend:{test_annot_df_blend.size}')\n",
    "print(f'sanity: train+val+test: {train_annot_df_blend.size + val_annot_df_blend.size + test_annot_df_blend.size}')\n",
    "\n",
    "relative_length_per_label(train_annot_df_blend, 'train_blend')\n",
    "relative_length_per_label(val_annot_df_blend, 'val_blend')\n",
    "relative_length_per_label(test_annot_df_blend, 'test_blend')"
   ]
  },
  {
   "cell_type": "markdown",
   "id": "94cdc5e9-5bd3-45ee-938e-b8b9f62666e8",
   "metadata": {},
   "source": [
    "## Split per file"
   ]
  },
  {
   "cell_type": "code",
   "execution_count": 32,
   "id": "4976dfbd-ffe1-415c-94e0-207e5def661e",
   "metadata": {},
   "outputs": [
    {
     "name": "stdout",
     "output_type": "stream",
     "text": [
      "REMINDER:\n",
      "audio_files_only_wo_cls:['210922-112437' '210926-104317' '210925-104759' '210919-140341']\n",
      "audio_files_only_cls:['210919-131709' '210920-103949']\n",
      "audio_files_all_calls_combined:['210922-112437' '210926-104317' '210925-104759' '210919-140341'\n",
      " '210919-131709' '210920-103949']\n",
      "dataset was created for task: det, with the following list of files: ['210922-112437', '210926-104317', '210925-104759', '210919-140341', '210919-131709', '210920-103949']\n"
     ]
    }
   ],
   "source": [
    "print('REMINDER:')\n",
    "print(f'audio_files_only_wo_cls:{audio_files_only_wo_cls}')\n",
    "print(f'audio_files_only_cls:{audio_files_only_cls}')\n",
    "print(f'audio_files_all_calls_combined:{audio_files_all_calls_combined}')\n",
    "print(f'dataset was created for task: {task}, with the following list of files: {datasets_list_of_files}')"
   ]
  },
  {
   "cell_type": "code",
   "execution_count": 33,
   "id": "a7e82f5e-d77b-4d46-b7da-135f5cc4066b",
   "metadata": {},
   "outputs": [],
   "source": [
    "if task == \"cls\":\n",
    "    # train_files = ['210919-131709']\n",
    "    val_files = ['']\n",
    "    test_files = ['210920-103949']\n",
    "elif task == \"det\":\n",
    "    val_files = ['210925-104759']\n",
    "    test_files = ['210919-140341', '210920-103949']\n",
    "\n",
    "assert len(set(val_files).intersection(set(test_files))) == 0"
   ]
  },
  {
   "cell_type": "code",
   "execution_count": 34,
   "id": "9b6d56d4-c1d9-4ceb-bb47-df10e5cc76e9",
   "metadata": {},
   "outputs": [],
   "source": [
    "model_annot_train_df = model_annot_all_df[~model_annot_all_df.filename.isin(val_files + test_files)]\n",
    "model_annot_val_df = model_annot_all_df[model_annot_all_df.filename.isin(val_files)]\n",
    "model_annot_test_df = model_annot_all_df[model_annot_all_df.filename.isin(test_files)]\n",
    "assert model_annot_train_df.size > 0\n",
    "assert model_annot_test_df.size > 0"
   ]
  },
  {
   "cell_type": "markdown",
   "id": "a34c2a74-2030-44c2-a316-0daafc9576a9",
   "metadata": {},
   "source": [
    "### Explore the splitted DS"
   ]
  },
  {
   "cell_type": "code",
   "execution_count": 35,
   "id": "02f12bb1-bb44-49f6-acfd-7b2c285898be",
   "metadata": {},
   "outputs": [
    {
     "name": "stdout",
     "output_type": "stream",
     "text": [
      "train_annot_df: 3468, val_annot_df:1104, test_annot_df_blend:72\n",
      "sanity: train+val+test: 4644\n"
     ]
    }
   ],
   "source": [
    "print(f'train_annot_df: {model_annot_train_df.size}, val_annot_df:{model_annot_val_df.size}, test_annot_df_blend:{model_annot_test_df.size}')\n",
    "print(f'sanity: train+val+test: {model_annot_train_df.size + model_annot_val_df.size + model_annot_test_df.size}')"
   ]
  },
  {
   "cell_type": "code",
   "execution_count": 36,
   "id": "37bbe19b-7ac6-4445-8721-cd621e841821",
   "metadata": {},
   "outputs": [
    {
     "name": "stdout",
     "output_type": "stream",
     "text": [
      "sum of all call lenghts for train DS: 594.960619226001\n",
      "relative part of the overall length per label: \n",
      "\n",
      "       call_length\n",
      "label             \n",
      "1              1.0\n",
      "\n"
     ]
    },
    {
     "data": {
      "image/png": "[encoded data removed]",
      "text/plain": [
       "<Figure size 432x288 with 1 Axes>"
      ]
     },
     "metadata": {
      "needs_background": "light"
     },
     "output_type": "display_data"
    },
    {
     "name": "stdout",
     "output_type": "stream",
     "text": [
      "sum of all call lenghts for val DS: 184.02627957199974\n",
      "relative part of the overall length per label: \n",
      "\n",
      "       call_length\n",
      "label             \n",
      "1              1.0\n",
      "\n"
     ]
    },
    {
     "data": {
      "image/png": "[encoded data removed]",
      "text/plain": [
       "<Figure size 432x288 with 1 Axes>"
      ]
     },
     "metadata": {
      "needs_background": "light"
     },
     "output_type": "display_data"
    },
    {
     "name": "stdout",
     "output_type": "stream",
     "text": [
      "sum of all call lenghts for test DS: 10.78225980199997\n",
      "relative part of the overall length per label: \n",
      "\n",
      "       call_length\n",
      "label             \n",
      "1              1.0\n",
      "\n"
     ]
    },
    {
     "data": {
      "image/png": "[encoded data removed]",
      "text/plain": [
       "<Figure size 432x288 with 1 Axes>"
      ]
     },
     "metadata": {
      "needs_background": "light"
     },
     "output_type": "display_data"
    }
   ],
   "source": [
    "relative_length_per_label(model_annot_train_df, 'train')\n",
    "relative_length_per_label(model_annot_val_df, 'val')\n",
    "relative_length_per_label(model_annot_test_df, 'test')"
   ]
  },
  {
   "cell_type": "markdown",
   "id": "ea273972-661c-47d8-b9e5-ef5765212db3",
   "metadata": {},
   "source": [
    "## Save the data"
   ]
  },
  {
   "cell_type": "code",
   "execution_count": 38,
   "id": "50d0d56f-c2a8-41cd-848d-a7e22bac9071",
   "metadata": {},
   "outputs": [
    {
     "name": "stdout",
     "output_type": "stream",
     "text": [
      "DONE\n"
     ]
    }
   ],
   "source": [
    "basepath = '/home/shai/personal/soundbay/data/annotated_calls/'\n",
    "save_data = False\n",
    "split_blend = False\n",
    "split_per_files = False\n",
    "if save_data:\n",
    "    if split_blend:\n",
    "        train_annot_df_blend.to_csv(basepath + task+ '_df_train_blend.csv', index=False)\n",
    "        val_annot_df_blend.to_csv(basepath + task+ '_df_val_blend.csv', index=False)\n",
    "        test_annot_df_blend.to_csv(basepath + task+ '_df_test_blend.csv', index=False)\n",
    "    if split_per_files:\n",
    "        model_annot_train_df.to_csv(basepath + task + '_df_annot_train_per_file.csv', index=False)\n",
    "        model_annot_val_df.to_csv(basepath + task + '_df_annot_val_per_file.csv', index=False)\n",
    "        model_annot_test_df.to_csv(basepath + task + '_df_annot_test_per_file.csv', index=False)\n",
    "        \n",
    "print('DONE')"
   ]
  }
 ],
 "metadata": {
  "kernelspec": {
   "display_name": "Python 3 (ipykernel)",
   "language": "python",
   "name": "python3"
  },
  "language_info": {
   "codemirror_mode": {
    "name": "ipython",
    "version": 3
   },
   "file_extension": ".py",
   "mimetype": "text/x-python",
   "name": "python",
   "nbconvert_exporter": "python",
   "pygments_lexer": "ipython3",
   "version": "3.7.13"
  }
 },
 "nbformat": 4,
 "nbformat_minor": 5
}
