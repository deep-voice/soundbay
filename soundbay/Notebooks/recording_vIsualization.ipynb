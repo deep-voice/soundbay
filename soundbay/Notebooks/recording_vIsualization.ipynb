{
 "cells": [
  {
   "cell_type": "code",
   "execution_count": null,
   "metadata": {},
   "outputs": [],
   "source": [
    "import numpy as np\n",
    "import matplotlib.pyplot as plt\n",
    "import librosa.display\n",
    "import pandas as pd\n",
    "import soundfile as sf\n",
    "from pathlib import Path\n",
    "import re\n",
    "import json\n",
    "import matplotlib.animation as animation\n",
    "import warnings\n",
    "import wave\n",
    "import IPython.display as ipd\n",
    "import warnings"
   ]
  },
  {
   "cell_type": "markdown",
   "metadata": {},
   "source": [
    "## Desired inspected length \n",
    "### Must be a multiply of 10 seconds -  i.e. Moduluos 10 of (End time - start time ) must be 0\n"
   ]
  },
  {
   "cell_type": "code",
   "execution_count": null,
   "metadata": {},
   "outputs": [],
   "source": [
    "start_time = 1 # in seconds, start from second 1 \n",
    "end_time = 81 # In seconds\n",
    "thresh = 0.5\n",
    "seg_length = 20"
   ]
  },
  {
   "cell_type": "code",
   "execution_count": null,
   "metadata": {},
   "outputs": [],
   "source": [
    "def check_sanity(start_time, end_time, seg_length):\n",
    "    if (end_time - start_time)%10 != 0:\n",
    "        end_time = end_time - ((end_time - start_time)%10)\n",
    "        print(\"Non legal signal length! - end_time changed to {}\".format(end_time))\n",
    "    if not ((end_time - start_time) / seg_length).is_integer():\n",
    "        seg_length = int(seg_length - (seg_length % 10))\n",
    "        print(\"Non legal seg_length! - seg_length changed to {}\".format(seg_length))\n",
    "    return seg_length,end_time"
   ]
  },
  {
   "cell_type": "code",
   "execution_count": null,
   "metadata": {},
   "outputs": [],
   "source": [
    "seg_length, end_time = check_sanity(start_time, end_time, seg_length)"
   ]
  },
  {
   "cell_type": "markdown",
   "metadata": {},
   "source": [
    "## Annotation DB"
   ]
  },
  {
   "cell_type": "markdown",
   "metadata": {},
   "source": [
    "### define paths for annotations and audio files"
   ]
  },
  {
   "cell_type": "code",
   "execution_count": null,
   "metadata": {},
   "outputs": [],
   "source": [
    "annotation_csvfile_path = Path('Inference_results-2021-05-04_21-57-47-best-180914_150127.csv')\n",
    "recording_path = Path('/home/z30g0d/PycharmProjects/data/180914_150127.wav')"
   ]
  },
  {
   "cell_type": "markdown",
   "metadata": {},
   "source": [
    "### load csv file to pandas df"
   ]
  },
  {
   "cell_type": "code",
   "execution_count": null,
   "metadata": {},
   "outputs": [],
   "source": [
    "results = pd.read_csv(annotation_csvfile_path)"
   ]
  },
  {
   "cell_type": "code",
   "execution_count": null,
   "metadata": {},
   "outputs": [],
   "source": [
    "results.tail()"
   ]
  },
  {
   "cell_type": "code",
   "execution_count": null,
   "metadata": {},
   "outputs": [],
   "source": [
    "prob = results['class1_prob']\n",
    "time = np.arange(prob.shape[0])\n",
    "xticks = time"
   ]
  },
  {
   "cell_type": "markdown",
   "metadata": {},
   "source": [
    "## load audio and spectrogram"
   ]
  },
  {
   "cell_type": "markdown",
   "metadata": {},
   "source": [
    "### define functions"
   ]
  },
  {
   "cell_type": "code",
   "execution_count": null,
   "metadata": {},
   "outputs": [],
   "source": [
    "def play_audio_plot_stft(prob, df_series, audio_path, thresh, seg_length):\n",
    "    def get_sr(wav_path):\n",
    "        with wave.open(str(wav_path), \"rb\") as wave_file:\n",
    "            return wave_file.getframerate()\n",
    "\n",
    "    \n",
    "    def plot_stft(prob, audio_data, sr, num_of_segments, seg_length):\n",
    "        fig = plt.figure(figsize=(15, 30)) #This setups the figure\n",
    "        audio_data_dump = []\n",
    "        ax1 = fig.subplots(num_of_segments, sharex=True) #Creates the Axes object to display one of the plots\n",
    "        fig.suptitle('Visualization for: ' + str(audio_data))\n",
    "        m = int(prob.shape[0]/num_of_segments) \n",
    "\n",
    "        new_prob = np.array(prob[:(num_of_segments * seg_length)])\n",
    "\n",
    "\n",
    "        for i in range(num_of_segments):\n",
    "            if (i == num_of_segments - 1):\n",
    "                start_time = i*seg_length\n",
    "                end_time = num_of_segments * seg_length\n",
    "                \n",
    "            if (i == num_of_segments):\n",
    "                start_time = num_of_segments * seg_length\n",
    "#                 print(type(start_time), start_time)\n",
    "                end_time = prob.shape[0]\n",
    "#                 print(type(end_time), end_time)\n",
    "\n",
    "                audio_data, _ = sf.read(audio_file_path, start=int(start_time*sr), stop=((end_time*sr) - sr))\n",
    "                ax2 = ax1[i].twinx() #Creates a second Axes object that shares the x-axis\n",
    "                ax3 = ax1[i].twinx()\n",
    "\n",
    "                D = librosa.amplitude_to_db(np.abs(librosa.stft(audio_data)), ref=np.max)\n",
    "                librosa.display.specshow(D, y_axis='log', x_axis='time', sr=sr, fmax=10000, ax=ax1[i])\n",
    "                ax2 = plt.plot(prob[start_time:end_time])\n",
    "                decision = [0 if i < thresh else 1 for i in prob[start_time:end_time]]\n",
    "                print(seg_length, decision)\n",
    "                ax3 = plt.scatter(np.arange(len(decision)), np.array(decision), c='lime', s=4)\n",
    "\n",
    "            start_time = i*seg_length\n",
    "            end_time = (i+1)*seg_length\n",
    "            audio_data, _ = sf.read(audio_file_path, start=int(start_time*sr), stop=int((end_time*sr) - sr))\n",
    "#             for j in audio_data_dump:\n",
    "            ipd.display(ipd.Audio(audio_data, rate=sr))\n",
    "            audio_data_dump.append(audio_data)\n",
    "            ax2 = ax1[i].twinx() #Creates a second Axes object that shares the x-axis\n",
    "            ax3 = ax1[i].twinx()\n",
    "        \n",
    "            D = librosa.amplitude_to_db(np.abs(librosa.stft(audio_data)), ref=np.max)\n",
    "            librosa.display.specshow(D, y_axis='log', x_axis='time', sr=sr, fmax=10000, ax=ax1[i])\n",
    "            ax2 = plt.plot(new_prob[start_time:end_time])\n",
    "            decision = [0 if i < thresh else 1 for i in new_prob[start_time:end_time]]\n",
    "            ax3 = plt.scatter(np.arange(seg_length), np.array(decision), c='lime', s=4)\n",
    "            ax1[i].set_yticklabels([])\n",
    "\n",
    "            plt.autoscale(enable=True, axis='x', tight=True)\n",
    "        \n",
    "#         plt.show(block=False)\n",
    "        \n",
    "        \n",
    "\n",
    "            \n",
    "        return audio_data_dump\n",
    "\n",
    "\n",
    "    audio_file_path = audio_path\n",
    "    num_of_segments = int(prob.shape[0]/seg_length)\n",
    "    start_time = df_series[0]\n",
    "    end_time = df_series[-1]\n",
    "\n",
    "    sr = get_sr(audio_file_path)\n",
    "    audio_data_dump = plot_stft(prob, audio_file_path, sr, num_of_segments , seg_length)\n",
    "    return audio_data_dump"
   ]
  },
  {
   "cell_type": "markdown",
   "metadata": {},
   "source": [
    "# This could take a while for long recordings! wait out the time for the visualization!"
   ]
  },
  {
   "cell_type": "code",
   "execution_count": null,
   "metadata": {},
   "outputs": [],
   "source": [
    "xticks_sliced = xticks[start_time:end_time]\n",
    "prob_sliced = prob[start_time:end_time]"
   ]
  },
  {
   "cell_type": "markdown",
   "metadata": {},
   "source": [
    "## Use '%matplotlib notebook' instead of '%matplotlib qt' in order to plot inside the python notebook"
   ]
  },
  {
   "cell_type": "code",
   "execution_count": null,
   "metadata": {},
   "outputs": [],
   "source": [
    "warnings.filterwarnings('ignore')\n",
    "%matplotlib notebook\n",
    "audio_data_dump = play_audio_plot_stft(prob_sliced, xticks_sliced, recording_path, thresh, seg_length)"
   ]
  },
  {
   "cell_type": "code",
   "execution_count": null,
   "metadata": {},
   "outputs": [],
   "source": []
  }
 ],
 "metadata": {
  "kernelspec": {
   "display_name": "Python [conda env:finding_willy_cloned]",
   "language": "python",
   "name": "conda-env-finding_willy_cloned-py"
  },
  "language_info": {
   "codemirror_mode": {
    "name": "ipython",
    "version": 3
   },
   "file_extension": ".py",
   "mimetype": "text/x-python",
   "name": "python",
   "nbconvert_exporter": "python",
   "pygments_lexer": "ipython3",
   "version": "3.7.9"
  },
  "toc": {
   "base_numbering": 1,
   "nav_menu": {},
   "number_sections": true,
   "sideBar": true,
   "skip_h1_title": false,
   "title_cell": "Table of Contents",
   "title_sidebar": "Contents",
   "toc_cell": false,
   "toc_position": {
    "height": "calc(100% - 180px)",
    "left": "10px",
    "top": "150px",
    "width": "243.8px"
   },
   "toc_section_display": true,
   "toc_window_display": true
  },
  "varInspector": {
   "cols": {
    "lenName": 16,
    "lenType": 16,
    "lenVar": 40
   },
   "kernels_config": {
    "python": {
     "delete_cmd_postfix": "",
     "delete_cmd_prefix": "del ",
     "library": "var_list.py",
     "varRefreshCmd": "print(var_dic_list())"
    },
    "r": {
     "delete_cmd_postfix": ") ",
     "delete_cmd_prefix": "rm(",
     "library": "var_list.r",
     "varRefreshCmd": "cat(var_dic_list()) "
    }
   },
   "types_to_exclude": [
    "module",
    "function",
    "builtin_function_or_method",
    "instance",
    "_Feature"
   ],
   "window_display": false
  }
 },
 "nbformat": 4,
 "nbformat_minor": 4
}
