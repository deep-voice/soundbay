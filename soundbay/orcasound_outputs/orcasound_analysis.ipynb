{
 "cells": [
  {
   "cell_type": "code",
   "execution_count": null,
   "id": "bc5ab799",
   "metadata": {
    "ExecuteTime": {
     "end_time": "2022-02-15T16:13:49.998337Z",
     "start_time": "2022-02-15T16:13:49.397200Z"
    }
   },
   "outputs": [],
   "source": [
    "import pandas as pd\n",
    "from pathlib import Path\n",
    "import json\n",
    "from IPython.display import display, Markdown\n",
    "from sklearn.metrics import PrecisionRecallDisplay"
   ]
  },
  {
   "cell_type": "code",
   "execution_count": null,
   "id": "c688d961",
   "metadata": {
    "ExecuteTime": {
     "end_time": "2022-02-15T16:13:50.398647Z",
     "start_time": "2022-02-15T16:13:50.391160Z"
    }
   },
   "outputs": [],
   "source": [
    "metrics_files = list(Path('.').glob('*json'))\n",
    "model_names_dict = {'13z30zpq':'without_3', '3uh7ste9':'without_6_bg', \n",
    "                    '369fkgdi': 'all_together', '2hwh4w5d':'without_6', \n",
    "                    '37ftgpl8':'without_7_11_12', '2qg7u58e':'all_together_bg', \n",
    "                    '20pp7z59':'without_3_bg'}"
   ]
  },
  {
   "cell_type": "code",
   "execution_count": null,
   "id": "affe71cf",
   "metadata": {
    "ExecuteTime": {
     "end_time": "2022-02-15T16:13:51.178712Z",
     "start_time": "2022-02-15T16:13:51.062246Z"
    }
   },
   "outputs": [],
   "source": [
    "dicts_list = []\n",
    "probs_dict = {}\n",
    "for file in metrics_files:\n",
    "    with open(file, 'r') as f:\n",
    "        metrics = json.load(f)\n",
    "    metrics['dataset'] = file.stem.split('-')[-1]\n",
    "    metrics['model'] = model_names_dict[file.stem.split('-')[-2]]\n",
    "    metrics['filename'] = file.stem\n",
    "    probs_dict[file.stem] = pd.read_csv(file.with_suffix('.csv'))\n",
    "    dicts_list.append(metrics)"
   ]
  },
  {
   "cell_type": "code",
   "execution_count": null,
   "id": "cf42c24f",
   "metadata": {
    "ExecuteTime": {
     "end_time": "2022-02-15T16:13:51.685439Z",
     "start_time": "2022-02-15T16:13:51.672251Z"
    }
   },
   "outputs": [],
   "source": [
    "all_results = pd.DataFrame(dicts_list)\n",
    "all_results = all_results[['model', 'accuracy', 'f1score', 'precision', 'recall', 'auc', 'dataset', 'filename']]"
   ]
  },
  {
   "cell_type": "code",
   "execution_count": null,
   "id": "bf7cc8f3",
   "metadata": {
    "ExecuteTime": {
     "end_time": "2022-02-15T16:13:52.185409Z",
     "start_time": "2022-02-15T16:13:52.179251Z"
    }
   },
   "outputs": [],
   "source": [
    "available_datasets = all_results.dataset.unique()"
   ]
  },
  {
   "cell_type": "code",
   "execution_count": null,
   "id": "826317d9",
   "metadata": {
    "ExecuteTime": {
     "end_time": "2022-02-15T16:13:54.571352Z",
     "start_time": "2022-02-15T16:13:54.567653Z"
    }
   },
   "outputs": [],
   "source": [
    "def plot_recall_precision(df_row, probs_dict):\n",
    "    prob_dict = probs_dict[df_row['filename']]\n",
    "    PrecisionRecallDisplay.from_predictions(prob_dict['label'], prob_dict['class1_prob'], \n",
    "                                            name=df_row['model'])\n",
    "\n",
    "def plot_results_for_dataset(dataset_name, all_results_df, probs_dict):\n",
    "    display(Markdown(dataset_name))\n",
    "    current_results = all_results[all_results['dataset']== dataset_name]\n",
    "    current_results = current_results.sort_values('auc')\n",
    "    display(current_results.drop(columns=['dataset', 'filename']))\n",
    "    for _, item in current_results.iterrows():\n",
    "        plot_recall_precision(item, probs_dict)    "
   ]
  },
  {
   "cell_type": "code",
   "execution_count": null,
   "id": "77c667e2",
   "metadata": {
    "ExecuteTime": {
     "end_time": "2022-02-15T16:13:56.272804Z",
     "start_time": "2022-02-15T16:13:55.375234Z"
    },
    "scrolled": false
   },
   "outputs": [],
   "source": [
    "plot_results_for_dataset(available_datasets[0], all_results, probs_dict)"
   ]
  },
  {
   "cell_type": "code",
   "execution_count": null,
   "id": "5ed34e6e",
   "metadata": {
    "ExecuteTime": {
     "end_time": "2022-02-15T16:13:58.187324Z",
     "start_time": "2022-02-15T16:13:57.471551Z"
    },
    "scrolled": false
   },
   "outputs": [],
   "source": [
    "plot_results_for_dataset(available_datasets[1], all_results, probs_dict)"
   ]
  },
  {
   "cell_type": "code",
   "execution_count": null,
   "id": "db9862cd",
   "metadata": {
    "ExecuteTime": {
     "end_time": "2022-02-08T16:14:48.740481Z",
     "start_time": "2022-02-08T16:14:48.081354Z"
    },
    "scrolled": false
   },
   "outputs": [],
   "source": [
    "plot_results_for_dataset(available_datasets[2], all_results, probs_dict)"
   ]
  },
  {
   "cell_type": "code",
   "execution_count": null,
   "id": "eb012ce8",
   "metadata": {
    "ExecuteTime": {
     "end_time": "2022-02-08T16:14:53.018050Z",
     "start_time": "2022-02-08T16:14:52.376933Z"
    },
    "scrolled": false
   },
   "outputs": [],
   "source": [
    "plot_results_for_dataset(available_datasets[3], all_results, probs_dict)"
   ]
  }
 ],
 "metadata": {
  "kernelspec": {
   "display_name": "PyWhale",
   "language": "python",
   "name": "pywhale"
  },
  "language_info": {
   "codemirror_mode": {
    "name": "ipython",
    "version": 3
   },
   "file_extension": ".py",
   "mimetype": "text/x-python",
   "name": "python",
   "nbconvert_exporter": "python",
   "pygments_lexer": "ipython3",
   "version": "3.8.9"
  },
  "toc": {
   "base_numbering": 1,
   "nav_menu": {},
   "number_sections": true,
   "sideBar": true,
   "skip_h1_title": false,
   "title_cell": "Table of Contents",
   "title_sidebar": "Contents",
   "toc_cell": false,
   "toc_position": {},
   "toc_section_display": true,
   "toc_window_display": false
  },
  "varInspector": {
   "cols": {
    "lenName": 16,
    "lenType": 16,
    "lenVar": 40
   },
   "kernels_config": {
    "python": {
     "delete_cmd_postfix": "",
     "delete_cmd_prefix": "del ",
     "library": "var_list.py",
     "varRefreshCmd": "print(var_dic_list())"
    },
    "r": {
     "delete_cmd_postfix": ") ",
     "delete_cmd_prefix": "rm(",
     "library": "var_list.r",
     "varRefreshCmd": "cat(var_dic_list()) "
    }
   },
   "types_to_exclude": [
    "module",
    "function",
    "builtin_function_or_method",
    "instance",
    "_Feature"
   ],
   "window_display": false
  }
 },
 "nbformat": 4,
 "nbformat_minor": 5
}
