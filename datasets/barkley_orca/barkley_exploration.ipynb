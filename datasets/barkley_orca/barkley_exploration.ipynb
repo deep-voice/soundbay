{
 "cells": [
  {
   "cell_type": "code",
   "execution_count": 32,
   "id": "4c12a53f-5e8f-407e-99e1-72affa8eb478",
   "metadata": {},
   "outputs": [],
   "source": [
    "import pandas as pd\n",
    "from soundbay.utils.metadata_processing import bg_from_non_overlap_calls, correct_call_times_with_duration, non_overlap_df, reorder_columns_to_default_view\n",
    "import numpy as np"
   ]
  },
  {
   "cell_type": "code",
   "execution_count": 2,
   "id": "e86b54fc-53a3-4c5f-814a-9315d94b656e",
   "metadata": {},
   "outputs": [],
   "source": [
    "df = pd.read_excel('ONCBarkleyCanyonAnnotations_Public.xlsx')"
   ]
  },
  {
   "cell_type": "code",
   "execution_count": 3,
   "id": "9ac8aa0b-6f8b-4a38-8802-76fd89df0758",
   "metadata": {},
   "outputs": [],
   "source": [
    "all_orca = [x for x in df['Species'].unique() if \"Oo\" in x]"
   ]
  },
  {
   "cell_type": "code",
   "execution_count": 6,
   "id": "1e8b66a3-2b89-4a94-80c4-ace3d9113a6c",
   "metadata": {},
   "outputs": [
    {
     "data": {
      "text/plain": [
       "['Oo',\n",
       " 'C|Oo|Mn',\n",
       " 'C|Mn|Oo',\n",
       " 'UN|D|Oo',\n",
       " 'UN|Mn|Oo',\n",
       " 'UN|Oo',\n",
       " 'D|Oo',\n",
       " 'UN|Oo|D',\n",
       " 'O|Oo|Pm',\n",
       " 'O|Oo',\n",
       " 'UN|Oo|D|NN',\n",
       " 'UN|Oo|Mn|NN',\n",
       " 'D|Lb|Lo|Oo',\n",
       " 'UN|Oo|Mn',\n",
       " 'C|Mn|Oo|D',\n",
       " 'C|Oo']"
      ]
     },
     "execution_count": 6,
     "metadata": {},
     "output_type": "execute_result"
    }
   ],
   "source": [
    "all_orca"
   ]
  },
  {
   "cell_type": "code",
   "execution_count": 4,
   "id": "704c2494-5b3a-45f5-bbed-b2608b4202e0",
   "metadata": {},
   "outputs": [],
   "source": [
    "filtered_df = df.loc[df['Species'].isin(all_orca)]"
   ]
  },
  {
   "cell_type": "code",
   "execution_count": 6,
   "id": "a695189f-c01a-413f-b5c9-a7a61300b3b9",
   "metadata": {},
   "outputs": [],
   "source": [
    "only_pc = filtered_df[filtered_df['Call Type'] == 'PC']"
   ]
  },
  {
   "cell_type": "code",
   "execution_count": 7,
   "id": "1704e000-8ba9-46d2-bab8-c7178697ae5e",
   "metadata": {},
   "outputs": [
    {
     "data": {
      "text/html": [
       "<div>\n",
       "<style scoped>\n",
       "    .dataframe tbody tr th:only-of-type {\n",
       "        vertical-align: middle;\n",
       "    }\n",
       "\n",
       "    .dataframe tbody tr th {\n",
       "        vertical-align: top;\n",
       "    }\n",
       "\n",
       "    .dataframe thead th {\n",
       "        text-align: right;\n",
       "    }\n",
       "</style>\n",
       "<table border=\"1\" class=\"dataframe\">\n",
       "  <thead>\n",
       "    <tr style=\"text-align: right;\">\n",
       "      <th></th>\n",
       "      <th>Soundfile</th>\n",
       "      <th>Left time (sec)</th>\n",
       "      <th>Right time (sec)</th>\n",
       "      <th>Top freq (Hz)</th>\n",
       "      <th>Bottom freq (Hz)</th>\n",
       "      <th>Species</th>\n",
       "      <th>Call Type</th>\n",
       "      <th>Comments</th>\n",
       "    </tr>\n",
       "  </thead>\n",
       "  <tbody>\n",
       "    <tr>\n",
       "      <th>0</th>\n",
       "      <td>ICLISTENHF1251_20130520T003321.072Z.wav</td>\n",
       "      <td>188.70326</td>\n",
       "      <td>190.078408</td>\n",
       "      <td>9471.45</td>\n",
       "      <td>908.88</td>\n",
       "      <td>Oo</td>\n",
       "      <td>PC</td>\n",
       "      <td>BKW</td>\n",
       "    </tr>\n",
       "    <tr>\n",
       "      <th>1</th>\n",
       "      <td>ICLISTENHF1251_20130520T003321.072Z.wav</td>\n",
       "      <td>190.09649</td>\n",
       "      <td>191.41737</td>\n",
       "      <td>6276.42</td>\n",
       "      <td>846.02</td>\n",
       "      <td>Oo</td>\n",
       "      <td>PC</td>\n",
       "      <td>BKW</td>\n",
       "    </tr>\n",
       "    <tr>\n",
       "      <th>2</th>\n",
       "      <td>ICLISTENHF1251_20130520T173843.692Z.wav</td>\n",
       "      <td>15.56091</td>\n",
       "      <td>16.7913</td>\n",
       "      <td>3924.17</td>\n",
       "      <td>678.75</td>\n",
       "      <td>Oo</td>\n",
       "      <td>PC</td>\n",
       "      <td>BKW</td>\n",
       "    </tr>\n",
       "    <tr>\n",
       "      <th>3</th>\n",
       "      <td>ICLISTENHF1251_20130520T173843.692Z.wav</td>\n",
       "      <td>19.63209</td>\n",
       "      <td>20.64536</td>\n",
       "      <td>6357.87</td>\n",
       "      <td>1373.52</td>\n",
       "      <td>Oo</td>\n",
       "      <td>PC</td>\n",
       "      <td>BKW</td>\n",
       "    </tr>\n",
       "    <tr>\n",
       "      <th>4</th>\n",
       "      <td>ICLISTENHF1251_20130520T173843.692Z.wav</td>\n",
       "      <td>37.68998</td>\n",
       "      <td>38.54041</td>\n",
       "      <td>4035.00</td>\n",
       "      <td>1396.52</td>\n",
       "      <td>Oo</td>\n",
       "      <td>PC</td>\n",
       "      <td>BKW</td>\n",
       "    </tr>\n",
       "    <tr>\n",
       "      <th>...</th>\n",
       "      <td>...</td>\n",
       "      <td>...</td>\n",
       "      <td>...</td>\n",
       "      <td>...</td>\n",
       "      <td>...</td>\n",
       "      <td>...</td>\n",
       "      <td>...</td>\n",
       "      <td>...</td>\n",
       "    </tr>\n",
       "    <tr>\n",
       "      <th>7773</th>\n",
       "      <td>ICLISTENHF1251_20140902T123408.681Z.wav</td>\n",
       "      <td>222.28137</td>\n",
       "      <td>223.95437</td>\n",
       "      <td>4962.84</td>\n",
       "      <td>1665.28</td>\n",
       "      <td>Oo</td>\n",
       "      <td>PC</td>\n",
       "      <td>NaN</td>\n",
       "    </tr>\n",
       "    <tr>\n",
       "      <th>11362</th>\n",
       "      <td>ICLISTENHF1251_20141201T201144.795Z.wav</td>\n",
       "      <td>35.53486</td>\n",
       "      <td>36.40023</td>\n",
       "      <td>6440.19</td>\n",
       "      <td>1781.89</td>\n",
       "      <td>D|Lb|Lo|Oo</td>\n",
       "      <td>PC</td>\n",
       "      <td>NaN</td>\n",
       "    </tr>\n",
       "    <tr>\n",
       "      <th>11661</th>\n",
       "      <td>ICLISTENHF1251_20141202T041144.884Z.wav</td>\n",
       "      <td>277.64258</td>\n",
       "      <td>279.80989</td>\n",
       "      <td>2629.77</td>\n",
       "      <td>935.02</td>\n",
       "      <td>Oo</td>\n",
       "      <td>PC</td>\n",
       "      <td>NaN</td>\n",
       "    </tr>\n",
       "    <tr>\n",
       "      <th>11662</th>\n",
       "      <td>ICLISTENHF1251_20141202T041144.884Z.wav</td>\n",
       "      <td>280.33053</td>\n",
       "      <td>281.66466</td>\n",
       "      <td>3658.16</td>\n",
       "      <td>958.54</td>\n",
       "      <td>Oo</td>\n",
       "      <td>PC</td>\n",
       "      <td>NaN</td>\n",
       "    </tr>\n",
       "    <tr>\n",
       "      <th>11663</th>\n",
       "      <td>ICLISTENHF1251_20141202T041144.884Z.wav</td>\n",
       "      <td>282.36779</td>\n",
       "      <td>283.57571</td>\n",
       "      <td>3979.27</td>\n",
       "      <td>830.89</td>\n",
       "      <td>Oo</td>\n",
       "      <td>PC</td>\n",
       "      <td>NaN</td>\n",
       "    </tr>\n",
       "  </tbody>\n",
       "</table>\n",
       "<p>839 rows × 8 columns</p>\n",
       "</div>"
      ],
      "text/plain": [
       "                                     Soundfile Left time (sec)  \\\n",
       "0      ICLISTENHF1251_20130520T003321.072Z.wav       188.70326   \n",
       "1      ICLISTENHF1251_20130520T003321.072Z.wav       190.09649   \n",
       "2      ICLISTENHF1251_20130520T173843.692Z.wav        15.56091   \n",
       "3      ICLISTENHF1251_20130520T173843.692Z.wav        19.63209   \n",
       "4      ICLISTENHF1251_20130520T173843.692Z.wav        37.68998   \n",
       "...                                        ...             ...   \n",
       "7773   ICLISTENHF1251_20140902T123408.681Z.wav       222.28137   \n",
       "11362  ICLISTENHF1251_20141201T201144.795Z.wav        35.53486   \n",
       "11661  ICLISTENHF1251_20141202T041144.884Z.wav       277.64258   \n",
       "11662  ICLISTENHF1251_20141202T041144.884Z.wav       280.33053   \n",
       "11663  ICLISTENHF1251_20141202T041144.884Z.wav       282.36779   \n",
       "\n",
       "      Right time (sec)  Top freq (Hz)  Bottom freq (Hz)     Species Call Type  \\\n",
       "0           190.078408        9471.45            908.88          Oo        PC   \n",
       "1            191.41737        6276.42            846.02          Oo        PC   \n",
       "2              16.7913        3924.17            678.75          Oo        PC   \n",
       "3             20.64536        6357.87           1373.52          Oo        PC   \n",
       "4             38.54041        4035.00           1396.52          Oo        PC   \n",
       "...                ...            ...               ...         ...       ...   \n",
       "7773         223.95437        4962.84           1665.28          Oo        PC   \n",
       "11362         36.40023        6440.19           1781.89  D|Lb|Lo|Oo        PC   \n",
       "11661        279.80989        2629.77            935.02          Oo        PC   \n",
       "11662        281.66466        3658.16            958.54          Oo        PC   \n",
       "11663        283.57571        3979.27            830.89          Oo        PC   \n",
       "\n",
       "      Comments  \n",
       "0          BKW  \n",
       "1          BKW  \n",
       "2          BKW  \n",
       "3          BKW  \n",
       "4          BKW  \n",
       "...        ...  \n",
       "7773       NaN  \n",
       "11362      NaN  \n",
       "11661      NaN  \n",
       "11662      NaN  \n",
       "11663      NaN  \n",
       "\n",
       "[839 rows x 8 columns]"
      ]
     },
     "execution_count": 7,
     "metadata": {},
     "output_type": "execute_result"
    }
   ],
   "source": [
    "only_pc"
   ]
  },
  {
   "cell_type": "code",
   "execution_count": 29,
   "id": "32d83ed4-e663-4470-a866-0f66c720b509",
   "metadata": {},
   "outputs": [],
   "source": [
    "only_pc = only_pc.rename(columns={\"Soundfile\": \"filename\", \n",
    "                        \"Left time (sec)\": \"begin_time\", \n",
    "                        \"Right time (sec)\": \"end_time\",\n",
    "                       })\n",
    "only_pc['call_length'] = only_pc['end_time'] - only_pc['begin_time']\n",
    "only_pc['label'] = np.ones(len(only_pc))"
   ]
  },
  {
   "cell_type": "code",
   "execution_count": 34,
   "id": "72374499-4e57-46fa-b731-a47e1dd18582",
   "metadata": {},
   "outputs": [],
   "source": [
    "only_pc = reorder_columns_to_default_view(only_pc)"
   ]
  },
  {
   "cell_type": "code",
   "execution_count": 38,
   "id": "f4daeddd-ac1b-4b8c-b646-8d3d99d0096f",
   "metadata": {},
   "outputs": [],
   "source": [
    "only_pc['filename'] = [x.strip('.wav') for x in only_pc['filename']]"
   ]
  },
  {
   "cell_type": "code",
   "execution_count": 39,
   "id": "0d7cc774-61e8-485f-b092-71c753bac5ff",
   "metadata": {},
   "outputs": [],
   "source": [
    "only_pc = correct_call_times_with_duration(only_pc, '/home/moshe/deepvoice/ocean_sonics/downloaded_dataset')"
   ]
  },
  {
   "cell_type": "code",
   "execution_count": 41,
   "id": "20e1944d-0341-4181-b19d-e22db4ea7ba7",
   "metadata": {},
   "outputs": [],
   "source": [
    "only_pc = non_overlap_df(only_pc)"
   ]
  },
  {
   "cell_type": "code",
   "execution_count": 43,
   "id": "61e089ed-1f8c-45ed-96ec-5ad64283ac80",
   "metadata": {},
   "outputs": [],
   "source": [
    "only_pc = bg_from_non_overlap_calls(only_pc)"
   ]
  },
  {
   "cell_type": "code",
   "execution_count": 68,
   "id": "a720502d-fd30-4e1b-b197-8d85cc0ff7ba",
   "metadata": {},
   "outputs": [],
   "source": [
    "only_pc = only_pc[only_pc['call_length'] > 0.5]"
   ]
  },
  {
   "cell_type": "code",
   "execution_count": 67,
   "id": "4bf3bc20-0080-453c-8e0c-41aabfc68223",
   "metadata": {},
   "outputs": [
    {
     "data": {
      "text/plain": [
       "1381    0.46578\n",
       "1014    0.47045\n",
       "1429    0.48446\n",
       "1008    0.48855\n",
       "999     0.48855\n",
       "1246    0.50481\n",
       "837     0.50664\n",
       "879     0.50664\n",
       "1021    0.52471\n",
       "989     0.52473\n",
       "1207    0.54085\n",
       "1169    0.54088\n",
       "925     0.54282\n",
       "1415    0.55622\n",
       "1200    0.57692\n",
       "1045    0.57900\n",
       "832     0.57900\n",
       "831     0.57901\n",
       "812     0.57901\n",
       "911     0.57901\n",
       "Name: call_length, dtype: float64"
      ]
     },
     "execution_count": 67,
     "metadata": {},
     "output_type": "execute_result"
    }
   ],
   "source": [
    "positives['call_length'].sort_values().head(20)"
   ]
  },
  {
   "cell_type": "code",
   "execution_count": 19,
   "id": "20229072-dc91-4510-a6ec-a37963f747be",
   "metadata": {},
   "outputs": [],
   "source": [
    "df_2013 = only_pc[only_pc['Soundfile'].str.contains('2013')]"
   ]
  },
  {
   "cell_type": "code",
   "execution_count": 20,
   "id": "504809cb-ff9c-42f5-b27f-ea1102141b3e",
   "metadata": {},
   "outputs": [],
   "source": [
    "df_2014 = only_pc[only_pc['Soundfile'].str.contains('2014')]"
   ]
  },
  {
   "cell_type": "code",
   "execution_count": 17,
   "id": "6677fc54-deaa-496a-b519-83528b03841d",
   "metadata": {},
   "outputs": [
    {
     "data": {
      "text/plain": [
       "714"
      ]
     },
     "execution_count": 17,
     "metadata": {},
     "output_type": "execute_result"
    }
   ],
   "source": [
    "len(df_2013)"
   ]
  },
  {
   "cell_type": "code",
   "execution_count": 22,
   "id": "008b146d-3805-4607-b165-7a9a8cde518d",
   "metadata": {},
   "outputs": [
    {
     "data": {
      "text/plain": [
       "148.62040869999987"
      ]
     },
     "execution_count": 22,
     "metadata": {},
     "output_type": "execute_result"
    }
   ],
   "source": [
    "df_2014.duration.sum()"
   ]
  },
  {
   "cell_type": "code",
   "execution_count": 23,
   "id": "89117e45-7ae6-4ea2-a2e6-bdc48fe6cb10",
   "metadata": {},
   "outputs": [
    {
     "data": {
      "text/plain": [
       "866.7596815299993"
      ]
     },
     "execution_count": 23,
     "metadata": {},
     "output_type": "execute_result"
    }
   ],
   "source": [
    "df_2013.duration.sum()"
   ]
  },
  {
   "cell_type": "code",
   "execution_count": null,
   "id": "0ba7fc0c-2e11-4ff9-a3e9-36b9e36b62bd",
   "metadata": {},
   "outputs": [],
   "source": []
  }
 ],
 "metadata": {
  "kernelspec": {
   "display_name": "PyWhale",
   "language": "python",
   "name": "pywhale"
  },
  "language_info": {
   "codemirror_mode": {
    "name": "ipython",
    "version": 3
   },
   "file_extension": ".py",
   "mimetype": "text/x-python",
   "name": "python",
   "nbconvert_exporter": "python",
   "pygments_lexer": "ipython3",
   "version": "3.8.10"
  }
 },
 "nbformat": 4,
 "nbformat_minor": 5
}
