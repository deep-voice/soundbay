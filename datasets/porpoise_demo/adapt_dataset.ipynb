{
 "cells": [
  {
   "cell_type": "code",
   "execution_count": 1,
   "id": "4c12a53f-5e8f-407e-99e1-72affa8eb478",
   "metadata": {},
   "outputs": [],
   "source": [
    "import pandas as pd\n",
    "from soundbay.utils.metadata_processing import (bg_from_non_overlap_calls, \n",
    "                                                correct_call_times_with_duration, \n",
    "                                                non_overlap_df, \n",
    "                                                reorder_columns_to_default_view,\n",
    "                                                load_n_adapt_raven_annotation_table_to_dv_dataset_requirements)\n",
    "import numpy as np\n",
    "from pathlib import Path\n",
    "import soundfile as sf"
   ]
  },
  {
   "cell_type": "code",
   "execution_count": 2,
   "id": "45de43a8-2657-425c-89c7-5a43cfff8521",
   "metadata": {},
   "outputs": [],
   "source": [
    "annotation_files = list(Path('annotations').glob('*.txt'))\n",
    "include_uncertain = False # class 1 is high prob porpoise, class 3 is low prob porpoise, class 2 is high prob sonar, class 4 is low prob sonar"
   ]
  },
  {
   "cell_type": "code",
   "execution_count": 3,
   "id": "b0eee006-b5ab-435d-8443-8f00e1b4166c",
   "metadata": {},
   "outputs": [],
   "source": [
    "all_annotations = []\n",
    "for file in annotation_files:\n",
    "    all_annotations.append(load_n_adapt_raven_annotation_table_to_dv_dataset_requirements(file))\n",
    "annotations_meta = pd.concat(all_annotations, ignore_index=True)"
   ]
  },
  {
   "cell_type": "code",
   "execution_count": 4,
   "id": "4d9f964b-10c5-4f3d-a3c6-e1dd70bf4960",
   "metadata": {},
   "outputs": [],
   "source": [
    "annotations_meta = annotations_meta[annotations_meta['View'] == 'Waveform 1']"
   ]
  },
  {
   "cell_type": "code",
   "execution_count": 5,
   "id": "4d3b1527-dde5-4560-a7cd-805ba5f62229",
   "metadata": {},
   "outputs": [],
   "source": [
    "min_freq = annotations_meta['Low Freq (Hz)'].min()\n",
    "max_freq = annotations_meta['High Freq (Hz)'].max()"
   ]
  },
  {
   "cell_type": "code",
   "execution_count": 6,
   "id": "7c10a908-d10b-4a15-91fb-4d0b5e2ce151",
   "metadata": {},
   "outputs": [
    {
     "data": {
      "text/plain": [
       "Selection                                              1\n",
       "View                                          Waveform 1\n",
       "Channel                                                1\n",
       "begin_time                                      1.956249\n",
       "end_time                                         2.17905\n",
       "Low Freq (Hz)                                  106494.37\n",
       "High Freq (Hz)                                139586.967\n",
       "Delta Time (s)                                    0.2228\n",
       "Delta Freq (Hz)                                33092.597\n",
       "Avg Power Density (dB FS/Hz)                         NaN\n",
       "Annotation                                             3\n",
       "filename                        738496579.150825043633-2\n",
       "call_length                                     0.222801\n",
       "Name: 0, dtype: object"
      ]
     },
     "execution_count": 6,
     "metadata": {},
     "output_type": "execute_result"
    }
   ],
   "source": [
    "annotations_meta.loc[0]"
   ]
  },
  {
   "cell_type": "code",
   "execution_count": 7,
   "id": "32d83ed4-e663-4470-a866-0f66c720b509",
   "metadata": {},
   "outputs": [
    {
     "name": "stderr",
     "output_type": "stream",
     "text": [
      "/tmp/ipykernel_47240/3643736169.py:2: SettingWithCopyWarning: \n",
      "A value is trying to be set on a copy of a slice from a DataFrame\n",
      "\n",
      "See the caveats in the documentation: https://pandas.pydata.org/pandas-docs/stable/user_guide/indexing.html#returning-a-view-versus-a-copy\n",
      "  annotations_meta['label'][annotations_meta['Annotation'].str.contains('1')] = 1\n"
     ]
    }
   ],
   "source": [
    "annotations_meta['label'] = np.zeros(len(annotations_meta), dtype='int')\n",
    "annotations_meta['label'][annotations_meta['Annotation'].str.contains('1')] = 1\n",
    "if include_uncertain:\n",
    "    annotations_meta['label'][annotations_meta['Annotation'].str.contains('3')] = 1"
   ]
  },
  {
   "cell_type": "code",
   "execution_count": 8,
   "id": "2b450f6b-07a8-4c5a-884e-63f18ad56f17",
   "metadata": {},
   "outputs": [
    {
     "data": {
      "text/plain": [
       "0.6407833957407408"
      ]
     },
     "execution_count": 8,
     "metadata": {},
     "output_type": "execute_result"
    }
   ],
   "source": [
    "min_call_length = annotations_meta['call_length'][annotations_meta['label']==1].min()\n",
    "annotations_meta['call_length'][annotations_meta['label']==1].mean()"
   ]
  },
  {
   "cell_type": "code",
   "execution_count": 9,
   "id": "72374499-4e57-46fa-b731-a47e1dd18582",
   "metadata": {},
   "outputs": [],
   "source": [
    "annotations_meta = reorder_columns_to_default_view(annotations_meta)"
   ]
  },
  {
   "cell_type": "code",
   "execution_count": 10,
   "id": "0d7cc774-61e8-485f-b092-71c753bac5ff",
   "metadata": {},
   "outputs": [],
   "source": [
    "annotations_meta = correct_call_times_with_duration(annotations_meta, 'splitted_data/')"
   ]
  },
  {
   "cell_type": "code",
   "execution_count": 11,
   "id": "20e1944d-0341-4181-b19d-e22db4ea7ba7",
   "metadata": {},
   "outputs": [],
   "source": [
    "annotations_meta = non_overlap_df(annotations_meta)"
   ]
  },
  {
   "cell_type": "code",
   "execution_count": 12,
   "id": "61e089ed-1f8c-45ed-96ec-5ad64283ac80",
   "metadata": {},
   "outputs": [],
   "source": [
    "annotations_meta = bg_from_non_overlap_calls(annotations_meta)"
   ]
  },
  {
   "cell_type": "code",
   "execution_count": 13,
   "id": "a720502d-fd30-4e1b-b197-8d85cc0ff7ba",
   "metadata": {},
   "outputs": [],
   "source": [
    "annotations_meta = annotations_meta[annotations_meta['call_length'] >= min_call_length]"
   ]
  },
  {
   "cell_type": "code",
   "execution_count": 14,
   "id": "6677fc54-deaa-496a-b519-83528b03841d",
   "metadata": {},
   "outputs": [
    {
     "data": {
      "text/plain": [
       "745"
      ]
     },
     "execution_count": 14,
     "metadata": {},
     "output_type": "execute_result"
    }
   ],
   "source": [
    "len(annotations_meta)"
   ]
  },
  {
   "cell_type": "code",
   "execution_count": 15,
   "id": "008b146d-3805-4607-b165-7a9a8cde518d",
   "metadata": {},
   "outputs": [
    {
     "data": {
      "text/plain": [
       "103.80349226900002"
      ]
     },
     "execution_count": 15,
     "metadata": {},
     "output_type": "execute_result"
    }
   ],
   "source": [
    "annotations_meta[annotations_meta['label']==1].call_length.sum()"
   ]
  },
  {
   "cell_type": "code",
   "execution_count": 16,
   "id": "d82a8e6c-4a61-492e-8657-041ee8290d73",
   "metadata": {},
   "outputs": [],
   "source": [
    "testset_filename = '738496579.150825043633-0'\n",
    "train_set = annotations_meta[annotations_meta['filename'] != testset_filename]\n",
    "test_set = annotations_meta[annotations_meta['filename'] == testset_filename]"
   ]
  },
  {
   "cell_type": "code",
   "execution_count": 17,
   "id": "ecc906fe-3f7c-48e3-9bae-a061d7758ea7",
   "metadata": {},
   "outputs": [
    {
     "name": "stdout",
     "output_type": "stream",
     "text": [
      "17.21537349600003 total call len of testset\n",
      "86.58811877299999 total call len of trainset\n"
     ]
    }
   ],
   "source": [
    "print(test_set[test_set['label'] == 1].call_length.sum(), 'total call len of testset')\n",
    "print(train_set[train_set['label'] == 1].call_length.sum(), 'total call len of trainset')"
   ]
  },
  {
   "cell_type": "code",
   "execution_count": 18,
   "id": "5c3b8b2c-4143-4d0e-847b-d5b9d9131920",
   "metadata": {},
   "outputs": [],
   "source": [
    "if include_uncertain:\n",
    "    train_set.to_csv('train_with_low_prob.csv' ,index=False)\n",
    "    test_set.to_csv('test_with_low_prob.csv' ,index=False)\n",
    "else:\n",
    "    train_set.to_csv('train_high_prob_only.csv' ,index=False)\n",
    "    test_set.to_csv('test_high_prob_only.csv' ,index=False)"
   ]
  }
 ],
 "metadata": {
  "kernelspec": {
   "display_name": "PyWhale",
   "language": "python",
   "name": "pywhale"
  },
  "language_info": {
   "codemirror_mode": {
    "name": "ipython",
    "version": 3
   },
   "file_extension": ".py",
   "mimetype": "text/x-python",
   "name": "python",
   "nbconvert_exporter": "python",
   "pygments_lexer": "ipython3",
   "version": "3.8.10"
  }
 },
 "nbformat": 4,
 "nbformat_minor": 5
}
