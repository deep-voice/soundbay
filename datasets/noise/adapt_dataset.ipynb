{
 "cells": [
  {
   "cell_type": "code",
   "execution_count": 1,
   "id": "4c12a53f-5e8f-407e-99e1-72affa8eb478",
   "metadata": {},
   "outputs": [],
   "source": [
    "import pandas as pd\n",
    "from soundbay.utils.metadata_processing import (bg_from_non_overlap_calls, \n",
    "                                                correct_call_times_with_duration, \n",
    "                                                non_overlap_df, \n",
    "                                                reorder_columns_to_default_view,\n",
    "                                                load_n_adapt_raven_annotation_table_to_dv_dataset_requirements)\n",
    "import numpy as np\n",
    "from pathlib import Path\n",
    "import soundfile as sf\n",
    "import math"
   ]
  },
  {
   "cell_type": "code",
   "execution_count": 2,
   "id": "45de43a8-2657-425c-89c7-5a43cfff8521",
   "metadata": {},
   "outputs": [],
   "source": [
    "main_folder = Path('Noise_wav')\n",
    "audio_folders = [x for x in main_folder.iterdir() if x.is_dir() and x.name != 'extra']\n",
    "labels = [x.name for x in audio_folders]\n",
    "labels_dict = {x:y for (x,y) in zip(labels, range(len(labels)))}"
   ]
  },
  {
   "cell_type": "code",
   "execution_count": 3,
   "id": "90647a35-7516-465e-9b54-7b912c96053d",
   "metadata": {},
   "outputs": [
    {
     "data": {
      "text/plain": [
       "{'honk': 0,\n",
       " 'traffic': 1,\n",
       " 'minihonk': 2,\n",
       " 'creak': 3,\n",
       " 'motorcycle': 4,\n",
       " 'Sirena': 5}"
      ]
     },
     "execution_count": 3,
     "metadata": {},
     "output_type": "execute_result"
    }
   ],
   "source": [
    "labels_dict"
   ]
  },
  {
   "cell_type": "code",
   "execution_count": 4,
   "id": "60f10044-ada8-49e6-9b70-ca91f1242e15",
   "metadata": {},
   "outputs": [],
   "source": [
    "BEGIN_TIME = 2.9\n",
    "END_TIME = 4.1\n",
    "CALL_LENGTH = 1.2\n",
    "TRAIN_RATIO = 0.8"
   ]
  },
  {
   "cell_type": "code",
   "execution_count": 5,
   "id": "6ca2956f-7890-4a0b-93fa-65f12a7f6efa",
   "metadata": {},
   "outputs": [],
   "source": [
    "train_list = []\n",
    "val_list = [] "
   ]
  },
  {
   "cell_type": "code",
   "execution_count": 6,
   "id": "943ad422-2d6f-4b64-ab69-a1b2ce1431db",
   "metadata": {},
   "outputs": [],
   "source": [
    "# ['begin_time', 'end_time', 'filename', 'call_length', 'label']"
   ]
  },
  {
   "cell_type": "code",
   "execution_count": 7,
   "id": "80cede88-b8a7-4b6b-a148-86c035a0af42",
   "metadata": {},
   "outputs": [],
   "source": [
    "for folder in audio_folders:\n",
    "    all_wavs = list(folder.glob('*.wav'))\n",
    "    train_point = math.floor(len(all_wavs) * TRAIN_RATIO)\n",
    "    train_list.extend(all_wavs[:train_point])\n",
    "    val_list.extend(all_wavs[train_point:])"
   ]
  },
  {
   "cell_type": "code",
   "execution_count": 8,
   "id": "b0eee006-b5ab-435d-8443-8f00e1b4166c",
   "metadata": {},
   "outputs": [],
   "source": [
    "training_data = []\n",
    "for file in train_list:\n",
    "    entry = {'begin_time': BEGIN_TIME, 'end_time': END_TIME, 'filename': f'{file.parent.name}/{file.stem}', \n",
    "             'call_length': CALL_LENGTH, 'label': labels_dict[file.parent.name]}\n",
    "    training_data.append(entry)\n",
    "\n",
    "val_data = []\n",
    "for file in val_list:\n",
    "    entry = {'begin_time': BEGIN_TIME, 'end_time': END_TIME, 'filename': f'{file.parent.name}/{file.stem}', \n",
    "             'call_length': CALL_LENGTH, 'label': labels_dict[file.parent.name]}\n",
    "    val_data.append(entry)"
   ]
  },
  {
   "cell_type": "code",
   "execution_count": 9,
   "id": "6677fc54-deaa-496a-b519-83528b03841d",
   "metadata": {},
   "outputs": [],
   "source": [
    "train_df = pd.DataFrame(training_data)\n",
    "val_df = pd.DataFrame(val_data)"
   ]
  },
  {
   "cell_type": "code",
   "execution_count": 10,
   "id": "9f9ac37c-9d85-45df-8a39-aa53cefd5b56",
   "metadata": {},
   "outputs": [
    {
     "data": {
      "text/plain": [
       "label\n",
       "5       3\n",
       "4      79\n",
       "2     312\n",
       "1     488\n",
       "3     566\n",
       "0    1205\n",
       "Name: count, dtype: int64"
      ]
     },
     "execution_count": 10,
     "metadata": {},
     "output_type": "execute_result"
    }
   ],
   "source": [
    "train_df['label'].value_counts(ascending=True)"
   ]
  },
  {
   "cell_type": "code",
   "execution_count": 13,
   "id": "228900ec-88ba-4ec3-b1d5-17f78fe8c801",
   "metadata": {},
   "outputs": [
    {
     "data": {
      "text/plain": [
       "2653"
      ]
     },
     "execution_count": 13,
     "metadata": {},
     "output_type": "execute_result"
    }
   ],
   "source": [
    "len(train_df)"
   ]
  },
  {
   "cell_type": "code",
   "execution_count": 11,
   "id": "5d7b1e9a-a90d-4156-a3ab-26cfdd062a15",
   "metadata": {},
   "outputs": [
    {
     "data": {
      "text/plain": [
       "label\n",
       "5      1\n",
       "4     20\n",
       "2     78\n",
       "1    123\n",
       "3    142\n",
       "0    302\n",
       "Name: count, dtype: int64"
      ]
     },
     "execution_count": 11,
     "metadata": {},
     "output_type": "execute_result"
    }
   ],
   "source": [
    "val_df['label'].value_counts(ascending=True)"
   ]
  },
  {
   "cell_type": "code",
   "execution_count": 12,
   "id": "5c3b8b2c-4143-4d0e-847b-d5b9d9131920",
   "metadata": {},
   "outputs": [],
   "source": [
    "train_df.to_csv('train.csv' ,index=False)\n",
    "val_df.to_csv('val.csv' ,index=False)"
   ]
  }
 ],
 "metadata": {
  "kernelspec": {
   "display_name": "PyWhale",
   "language": "python",
   "name": "pywhale"
  },
  "language_info": {
   "codemirror_mode": {
    "name": "ipython",
    "version": 3
   },
   "file_extension": ".py",
   "mimetype": "text/x-python",
   "name": "python",
   "nbconvert_exporter": "python",
   "pygments_lexer": "ipython3",
   "version": "3.8.10"
  }
 },
 "nbformat": 4,
 "nbformat_minor": 5
}
