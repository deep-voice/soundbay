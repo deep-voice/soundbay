{
 "cells": [
  {
   "cell_type": "code",
   "execution_count": null,
   "id": "48836b17-90bd-4aaf-a3eb-9fe74abd485d",
   "metadata": {},
   "outputs": [],
   "source": [
    "from soundbay.utils.metadata_processing import (bg_from_non_overlap_calls, correct_call_times_with_duration, \n",
    "                                                non_overlap_df,reorder_columns_to_default_view)\n",
    "import pandas as pd\n",
    "import soundfile as sf\n",
    "import math\n",
    "import time\n",
    "import re\n",
    "import numpy as np"
   ]
  },
  {
   "cell_type": "code",
   "execution_count": null,
   "id": "3b78b9b3-727e-4ad6-9c36-c5d57050d2a3",
   "metadata": {},
   "outputs": [],
   "source": [
    "original_metadata = pd.read_csv('nefsc_sbnms_200903_nopp6_ch10/detections/NEFSC_SBNMS_200903_NOPP6_CH10_allbaleen_detection_log.csv')\n",
    "audio_files_path = 'nefsc_sbnms_200903_nopp6_ch10/source-audio/'"
   ]
  },
  {
   "cell_type": "code",
   "execution_count": null,
   "id": "ac9a25b6-83e9-41ea-b278-702b1c8fa5f1",
   "metadata": {},
   "outputs": [],
   "source": [
    "FILES_DELTA = 15 * 60 # 15 minutes files\n",
    "\n",
    "def get_sec(time_str):\n",
    "    \"\"\"Get seconds from time.\"\"\"\n",
    "    h, m, s = time_str.split(':')\n",
    "    return int(h) * 3600 + int(m) * 60 + int(s)\n",
    "    \n",
    "def filetime_from_time(time_str):\n",
    "    sec_time = get_sec(time_str)\n",
    "    filetime_sec = math.ceil(sec_time / FILES_DELTA) * FILES_DELTA\n",
    "    filetime_str = time.strftime('%H%M%S', time.gmtime(filetime_sec))\n",
    "    return filetime_str\n",
    "\n",
    "def get_time_and_date(iso_input):\n",
    "    date, time_str = iso_input.split('T')\n",
    "    time_str = time_str.split('-')[0]\n",
    "    return date, time_str\n",
    "\n",
    "def iso_to_file_name(iso_input):\n",
    "    date, time_str = get_time_and_date(iso_input)\n",
    "    filename_time = filetime_from_time(time_str)\n",
    "    filename_date = date.replace('-','')\n",
    "    return f'NOPP6_EST_{filename_date}_{filename_time}_CH10'\n",
    "\n",
    "def get_time_in_file(iso_input, type='start'):\n",
    "    date, time_str = get_time_and_date(iso_input)\n",
    "    time_int = get_sec(time_str)\n",
    "    time_in_file = time_int - (time_int // FILES_DELTA) * FILES_DELTA\n",
    "    if type == 'end' and time_in_file == 0:\n",
    "        time_in_file = FILES_DELTA\n",
    "    return time_in_file\n",
    "\n",
    "def get_previous_filename(filename):\n",
    "    file_parts = filename.split('_')\n",
    "    time_part = file_parts[-2]\n",
    "    h, m, s = re.findall('..',time_part)\n",
    "    time_sec = int(h) * 3600 + int(m) * 60 + int(s)\n",
    "    new_time = time_sec - FILES_DELTA\n",
    "    assert new_time % FILES_DELTA ==0, 'whyyyy'\n",
    "    new_time_part = time.strftime('%H%M%S', time.gmtime(new_time))\n",
    "    file_parts[-2] = new_time_part\n",
    "    return '_'.join(file_parts)"
   ]
  },
  {
   "cell_type": "code",
   "execution_count": null,
   "id": "268a8a89-073a-446b-a005-4eecd894033b",
   "metadata": {},
   "outputs": [],
   "source": [
    "original_metadata.head(5)"
   ]
  },
  {
   "cell_type": "code",
   "execution_count": null,
   "id": "4fbd8273-7d9c-4515-9e39-1bc50be63f32",
   "metadata": {},
   "outputs": [],
   "source": [
    "original_metadata['filename'] = [iso_to_file_name(x) for x in original_metadata['End_DateTime_ISO8601']]\n",
    "original_metadata['begin_time'] = [get_time_in_file(x) for x in original_metadata['Start_DateTime_ISO8601']]\n",
    "original_metadata['end_time'] = [get_time_in_file(x, 'end') for x in original_metadata['End_DateTime_ISO8601']]\n",
    "original_metadata = original_metadata[original_metadata['Species'] == 'RIWH']"
   ]
  },
  {
   "cell_type": "code",
   "execution_count": null,
   "id": "6f7ae3d8-fc8b-4fd2-9ba0-36e241d9d68a",
   "metadata": {},
   "outputs": [],
   "source": [
    "original_metadata['Species'].value_counts()"
   ]
  },
  {
   "cell_type": "code",
   "execution_count": null,
   "id": "3f3fbb54-8aa3-417f-9eb9-addb2a96d3ac",
   "metadata": {},
   "outputs": [],
   "source": [
    "original_metadata['call_length'] = original_metadata['end_time'] - original_metadata['begin_time'] "
   ]
  },
  {
   "cell_type": "code",
   "execution_count": null,
   "id": "7260d445-37d9-4d59-8b88-37637d1e50e5",
   "metadata": {},
   "outputs": [],
   "source": [
    "# split annotations that originate from different files to the corresponding files\n",
    "problematic_samples_filter = original_metadata['call_length'] < 0\n",
    "after_split_samples = original_metadata[problematic_samples_filter].copy()\n",
    "original_metadata.loc[problematic_samples_filter, 'end_time'] = FILES_DELTA\n",
    "original_metadata.loc[problematic_samples_filter, 'filename'] = [get_previous_filename(x) for x in original_metadata[problematic_samples_filter]['filename']]\n",
    "after_split_samples['begin_time'] = 0\n",
    "new_metadata = pd.concat([original_metadata, after_split_samples], ignore_index = True)"
   ]
  },
  {
   "cell_type": "code",
   "execution_count": null,
   "id": "e586e55f-22a6-4c4f-bb28-d34c8e1fd8dd",
   "metadata": {},
   "outputs": [],
   "source": [
    "# remove calls with length of zero\n",
    "new_metadata = new_metadata[new_metadata['call_length'] != 0]"
   ]
  },
  {
   "cell_type": "code",
   "execution_count": null,
   "id": "fa4efcfa-19aa-4ac0-8be8-9342fdbd39a1",
   "metadata": {},
   "outputs": [],
   "source": [
    "# remove overlapping files\n",
    "new_metadata = non_overlap_df(new_metadata)"
   ]
  },
  {
   "cell_type": "code",
   "execution_count": null,
   "id": "b99a0bca-b3ac-4c32-ab47-1f4eb390ec11",
   "metadata": {},
   "outputs": [],
   "source": [
    "# correct files duration\n",
    "new_metadata = correct_call_times_with_duration(new_metadata, audio_files_path=audio_files_path)"
   ]
  },
  {
   "cell_type": "code",
   "execution_count": null,
   "id": "06a2317a-069b-4b02-8207-8ff9f4b569a8",
   "metadata": {},
   "outputs": [],
   "source": [
    "# recalc call_length\n",
    "new_metadata['call_length'] = new_metadata['end_time'] - new_metadata['begin_time'] "
   ]
  },
  {
   "cell_type": "code",
   "execution_count": null,
   "id": "5ca5d300-d04e-4fcb-91c0-08a61d8cf585",
   "metadata": {},
   "outputs": [],
   "source": [
    "# save a clean version of the annotations\n",
    "new_metadata.to_csv('RIWH_clean_annotations.csv')"
   ]
  },
  {
   "cell_type": "code",
   "execution_count": null,
   "id": "afc60dd6-efd9-4a92-ba05-47cd5397bd9f",
   "metadata": {},
   "outputs": [],
   "source": [
    "with_bg_metadata = bg_from_non_overlap_calls(new_metadata)"
   ]
  },
  {
   "cell_type": "code",
   "execution_count": null,
   "id": "430eb2e0-7c89-41f9-b874-0b6ba56a36cf",
   "metadata": {},
   "outputs": [],
   "source": [
    "with_bg_metadata.loc[with_bg_metadata['label'] != 0, 'label'] = 1"
   ]
  },
  {
   "cell_type": "code",
   "execution_count": null,
   "id": "1eca64be-1f95-4090-a33a-f45c024b4b89",
   "metadata": {},
   "outputs": [],
   "source": [
    "with_bg_metadata['label'] = np.array(with_bg_metadata['label']).astype('int')"
   ]
  },
  {
   "cell_type": "code",
   "execution_count": null,
   "id": "6f768b9d-aa4a-416c-b254-b272b4af41a4",
   "metadata": {},
   "outputs": [],
   "source": [
    "# split to train and val\n",
    "val_filter = with_bg_metadata['filename'].str.contains('20090330')\n",
    "train_metadata = with_bg_metadata[~val_filter]\n",
    "val_metadata = with_bg_metadata[val_filter]\n",
    "print(f'{len(train_metadata)=}, {len(val_metadata)=}')"
   ]
  },
  {
   "cell_type": "code",
   "execution_count": null,
   "id": "8cd294da-4c5a-4890-9648-b14187281c23",
   "metadata": {},
   "outputs": [],
   "source": [
    "# split to high prob detection and all detections\n",
    "high_prob_train_metadata = train_metadata[~((train_metadata['Detection_Confidence'] == 'Possibly_Detected') & (train_metadata['label']==1))]\n",
    "high_prob_val_metadata = val_metadata[~((val_metadata['Detection_Confidence'] == 'Possibly_Detected') & (val_metadata['label']==1))]\n",
    "print(f'{len(high_prob_train_metadata)=}, {len(high_prob_val_metadata)=}')"
   ]
  },
  {
   "cell_type": "code",
   "execution_count": null,
   "id": "629e89e0-86cc-4b40-9163-99017bef3d09",
   "metadata": {},
   "outputs": [],
   "source": [
    "for name, meta in {'train': train_metadata, 'val': val_metadata, \n",
    "                   'train_high_prob': high_prob_train_metadata, \n",
    "                   'val_high_prob': high_prob_val_metadata}.items():\n",
    "    print(name)\n",
    "    # remove this label, it's already available by the csv split\n",
    "    meta.drop(columns=['Detection_Confidence'], inplace=True) \n",
    "    print(f'Number of samples: {len(meta)}')\n",
    "    print(f\"Labels breakdown: {meta['label'].value_counts()}\")\n",
    "    print(f\"Calls length: {time.strftime('%H:%M:%S', time.gmtime(meta['call_length'][meta['label']==1].sum()))}\")\n",
    "    print(f\"Background length: {time.strftime('%H:%M:%S', time.gmtime(meta['call_length'][meta['label']==0].sum()))}\")\n",
    "    print('-----------------------------------------------------------------------------')"
   ]
  },
  {
   "cell_type": "code",
   "execution_count": null,
   "id": "b73bf6fe-ac3e-4d5c-8156-5548f2d24f39",
   "metadata": {},
   "outputs": [],
   "source": [
    "train_metadata.to_csv('train.csv', index=False)\n",
    "val_metadata.to_csv('val.csv', index=False)\n",
    "high_prob_train_metadata.to_csv('train_high_prob.csv', index=False)\n",
    "high_prob_val_metadata.to_csv('val_high_prob.csv', index=False)"
   ]
  }
 ],
 "metadata": {
  "kernelspec": {
   "display_name": "PyWhale",
   "language": "python",
   "name": "pywhale"
  },
  "language_info": {
   "codemirror_mode": {
    "name": "ipython",
    "version": 3
   },
   "file_extension": ".py",
   "mimetype": "text/x-python",
   "name": "python",
   "nbconvert_exporter": "python",
   "pygments_lexer": "ipython3",
   "version": "3.8.10"
  }
 },
 "nbformat": 4,
 "nbformat_minor": 5
}
