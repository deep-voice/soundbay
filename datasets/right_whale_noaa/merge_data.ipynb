{
 "cells": [
  {
   "cell_type": "code",
   "execution_count": 4,
   "metadata": {},
   "outputs": [],
   "source": [
    "import os\n",
    "import pandas as pd"
   ]
  },
  {
   "cell_type": "code",
   "execution_count": 5,
   "metadata": {},
   "outputs": [
    {
     "name": "stderr",
     "output_type": "stream",
     "text": [
      "/var/folders/6n/0lq5ggb52m7csvhcgmxs7vjc0000gn/T/ipykernel_9198/1257441937.py:6: DtypeWarning: Columns (9) have mixed types. Specify dtype option on import or set low_memory=False.\n",
      "  df = pd.read_csv(file)\n"
     ]
    }
   ],
   "source": [
    "train_files = [x for x in os.listdir() if x.startswith(\"train_riwh_\")]\n",
    "val_files = [x for x in os.listdir() if x.startswith(\"val_riwh_\")]\n",
    "\n",
    "train_df = pd.DataFrame()\n",
    "for file in train_files:\n",
    "    df = pd.read_csv(file)\n",
    "    train_df = pd.concat([train_df, df])\n",
    "\n",
    "train_df = train_df.drop(\n",
    "    columns=[\n",
    "        \"Detection_Comments\",\n",
    "        \"unique_id\",\n",
    "        \"Annotation\",\n",
    "        \"Analyst Score\",\n",
    "        \"Notes\",\n",
    "        \"View\",\n",
    "        \"Start_DateTime_ISO8601\",\n",
    "        \"End_DateTime_ISO8601\",\n",
    "        \"Low Freq (Hz)\",\n",
    "        \"High Freq (Hz)\",\n",
    "        \"Selection\",\n",
    "        \"Channel\",\n",
    "        \"Low.Freq..Hz.\",\n",
    "        \"High.Freq..Hz.\",\n",
    "        \"Species\",\n",
    "        \"Detection_Confidence\",\n",
    "    ]\n",
    ")\n",
    "train_df.to_csv(\"train_riwh_all.csv\", index=False)\n",
    "\n",
    "val_df = pd.DataFrame()\n",
    "for file in val_files:\n",
    "    df = pd.read_csv(file)\n",
    "    val_df = pd.concat([val_df, df])\n",
    "\n",
    "val_df = val_df.drop(\n",
    "    columns=[\n",
    "        \"Detection_Comments\",\n",
    "        \"unique_id\",\n",
    "        \"Annotation\",\n",
    "        \"Analyst Score\",\n",
    "        \"Notes\",\n",
    "        \"View\",\n",
    "        \"Start_DateTime_ISO8601\",\n",
    "        \"End_DateTime_ISO8601\",\n",
    "        \"Low Freq (Hz)\",\n",
    "        \"High Freq (Hz)\",\n",
    "        \"Selection\",\n",
    "        \"Channel\",\n",
    "        \"Low.Freq..Hz.\",\n",
    "        \"High.Freq..Hz.\",\n",
    "        \"Species\",\n",
    "        \"Detection_Confidence\",\n",
    "    ]\n",
    ")\n",
    "val_df.to_csv(\"val_riwh_all.csv\", index=False)"
   ]
  },
  {
   "cell_type": "code",
   "execution_count": null,
   "metadata": {},
   "outputs": [],
   "source": []
  },
  {
   "cell_type": "code",
   "execution_count": null,
   "metadata": {},
   "outputs": [],
   "source": []
  }
 ],
 "metadata": {
  "kernelspec": {
   "display_name": "soundbay",
   "language": "python",
   "name": "python3"
  },
  "language_info": {
   "codemirror_mode": {
    "name": "ipython",
    "version": 3
   },
   "file_extension": ".py",
   "mimetype": "text/x-python",
   "name": "python",
   "nbconvert_exporter": "python",
   "pygments_lexer": "ipython3",
   "version": "3.8.18"
  }
 },
 "nbformat": 4,
 "nbformat_minor": 2
}
