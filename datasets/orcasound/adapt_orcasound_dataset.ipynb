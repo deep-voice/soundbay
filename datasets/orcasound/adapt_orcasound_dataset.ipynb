{
 "cells": [
  {
   "cell_type": "markdown",
   "metadata": {},
   "source": [
    "### Adapt the orcasound annotations file to our format"
   ]
  },
  {
   "cell_type": "code",
   "execution_count": 86,
   "metadata": {
    "ExecuteTime": {
     "end_time": "2021-05-31T08:43:36.280039Z",
     "start_time": "2021-05-31T08:43:36.274621Z"
    }
   },
   "outputs": [],
   "source": [
    "import pandas as pd\n",
    "import numpy as np\n",
    "import soundfile as sf"
   ]
  },
  {
   "cell_type": "code",
   "execution_count": 87,
   "metadata": {
    "ExecuteTime": {
     "end_time": "2021-05-31T08:43:36.615546Z",
     "start_time": "2021-05-31T08:43:36.592784Z"
    }
   },
   "outputs": [],
   "source": [
    "annotation_file = pd.read_csv('train_data/annotations.tsv', sep='\\t')\n",
    "example_file = pd.read_csv('../../../finding_willy/EDA/combined_annotations.csv')"
   ]
  },
  {
   "cell_type": "markdown",
   "metadata": {},
   "source": [
    "#### remove calls with duration of 2.450 (not precise, comes from a dl model with low temporal resolution)"
   ]
  },
  {
   "cell_type": "code",
   "execution_count": 88,
   "metadata": {
    "ExecuteTime": {
     "end_time": "2021-05-31T08:43:37.300151Z",
     "start_time": "2021-05-31T08:43:37.286992Z"
    }
   },
   "outputs": [],
   "source": [
    "suspects = annotation_file[np.isclose(annotation_file['duration_s'],2.450)]\n",
    "annotation_file = annotation_file[~(np.isclose(annotation_file['duration_s'],2.450))]"
   ]
  },
  {
   "cell_type": "code",
   "execution_count": 89,
   "metadata": {
    "ExecuteTime": {
     "end_time": "2021-05-31T08:43:37.506954Z",
     "start_time": "2021-05-31T08:43:37.500042Z"
    }
   },
   "outputs": [],
   "source": [
    "annotation_file.rename(columns={'wav_filename': 'filename', \n",
    "                                'start_time_s':'begin_time', \n",
    "                                'duration_s': 'call_length'}, inplace=True)"
   ]
  },
  {
   "cell_type": "code",
   "execution_count": 90,
   "metadata": {
    "ExecuteTime": {
     "end_time": "2021-05-31T08:43:37.708350Z",
     "start_time": "2021-05-31T08:43:37.703567Z"
    }
   },
   "outputs": [],
   "source": [
    "annotation_file['end_time'] = annotation_file['begin_time'] + annotation_file['call_length']"
   ]
  },
  {
   "cell_type": "code",
   "execution_count": 91,
   "metadata": {
    "ExecuteTime": {
     "end_time": "2021-05-31T08:43:38.168476Z",
     "start_time": "2021-05-31T08:43:38.160469Z"
    }
   },
   "outputs": [],
   "source": [
    "annotation_file['label'] = np.ones((len(annotation_file),), dtype=int)"
   ]
  },
  {
   "cell_type": "markdown",
   "metadata": {},
   "source": [
    "#### reorder the columns"
   ]
  },
  {
   "cell_type": "code",
   "execution_count": 92,
   "metadata": {
    "ExecuteTime": {
     "end_time": "2021-05-31T08:43:38.926567Z",
     "start_time": "2021-05-31T08:43:38.918436Z"
    }
   },
   "outputs": [],
   "source": [
    "cols = annotation_file.columns.tolist()\n",
    "orig_cols = example_file.columns.tolist()\n",
    "remaining = list(set(cols) - set(orig_cols))\n",
    "new_cols = orig_cols + remaining"
   ]
  },
  {
   "cell_type": "code",
   "execution_count": 93,
   "metadata": {
    "ExecuteTime": {
     "end_time": "2021-05-31T08:43:39.292029Z",
     "start_time": "2021-05-31T08:43:39.284085Z"
    }
   },
   "outputs": [],
   "source": [
    "annotation_file = annotation_file[new_cols]"
   ]
  },
  {
   "cell_type": "markdown",
   "metadata": {},
   "source": [
    "#### remove .wav extension from the file names"
   ]
  },
  {
   "cell_type": "code",
   "execution_count": 94,
   "metadata": {
    "ExecuteTime": {
     "end_time": "2021-05-31T08:43:41.605470Z",
     "start_time": "2021-05-31T08:43:41.591028Z"
    }
   },
   "outputs": [],
   "source": [
    "name_series = [x.replace('.wav', '') for x in annotation_file['filename']]\n",
    "annotation_file['filename'] = name_series"
   ]
  },
  {
   "cell_type": "markdown",
   "metadata": {},
   "source": [
    "#### remove duplicate lines from the metadata"
   ]
  },
  {
   "cell_type": "code",
   "execution_count": 74,
   "metadata": {
    "ExecuteTime": {
     "end_time": "2021-05-31T08:37:47.344705Z",
     "start_time": "2021-05-31T08:37:47.336354Z"
    }
   },
   "outputs": [],
   "source": [
    "annotation_file.drop_duplicates(inplace=True)"
   ]
  },
  {
   "cell_type": "markdown",
   "metadata": {},
   "source": [
    "### label bg as bg, solve begin_time and call_len issues"
   ]
  },
  {
   "cell_type": "code",
   "execution_count": 75,
   "metadata": {
    "ExecuteTime": {
     "end_time": "2021-05-31T08:37:50.227504Z",
     "start_time": "2021-05-31T08:37:50.224123Z"
    }
   },
   "outputs": [],
   "source": [
    "annotation_file.loc[annotation_file['call_length'] == 0, 'label'] = 0"
   ]
  },
  {
   "cell_type": "code",
   "execution_count": 76,
   "metadata": {
    "ExecuteTime": {
     "end_time": "2021-05-31T08:37:50.601717Z",
     "start_time": "2021-05-31T08:37:50.592833Z"
    }
   },
   "outputs": [],
   "source": [
    "bg_files = list(annotation_file[annotation_file['label'] == 0]['filename'])"
   ]
  },
  {
   "cell_type": "code",
   "execution_count": 77,
   "metadata": {
    "ExecuteTime": {
     "end_time": "2021-05-31T08:37:51.046632Z",
     "start_time": "2021-05-31T08:37:51.042134Z"
    }
   },
   "outputs": [
    {
     "data": {
      "text/plain": [
       "591"
      ]
     },
     "execution_count": 77,
     "metadata": {},
     "output_type": "execute_result"
    }
   ],
   "source": [
    "len(bg_files)"
   ]
  },
  {
   "cell_type": "markdown",
   "metadata": {},
   "source": [
    "#### filter out duplicates in bg and \"bg\" files that have calls in other rows on the annotation file"
   ]
  },
  {
   "cell_type": "code",
   "execution_count": 80,
   "metadata": {
    "ExecuteTime": {
     "end_time": "2021-05-31T08:38:36.149058Z",
     "start_time": "2021-05-31T08:38:35.835539Z"
    }
   },
   "outputs": [
    {
     "data": {
      "text/plain": [
       "519"
      ]
     },
     "execution_count": 80,
     "metadata": {},
     "output_type": "execute_result"
    }
   ],
   "source": [
    "for file in bg_files:\n",
    "    curr_call = annotation_file[annotation_file['filename'] == file]\n",
    "    total_call_len = sum(curr_call['call_length'])\n",
    "    # remove bg files that have calls as well\n",
    "    if total_call_len > 0:\n",
    "        indices = annotation_file[(annotation_file['filename']==file) & (annotation_file['call_length'] == 0)].index\n",
    "        annotation_file.drop(index=indices, inplace=True)\n",
    "\n",
    "bg_files = list(annotation_file[annotation_file['label'] == 0]['filename'])\n",
    "len(bg_files)"
   ]
  },
  {
   "cell_type": "code",
   "execution_count": 81,
   "metadata": {
    "ExecuteTime": {
     "end_time": "2021-05-31T08:38:47.410881Z",
     "start_time": "2021-05-31T08:38:47.408819Z"
    }
   },
   "outputs": [],
   "source": [
    "import soundfile as sf"
   ]
  },
  {
   "cell_type": "code",
   "execution_count": 82,
   "metadata": {
    "ExecuteTime": {
     "end_time": "2021-05-31T08:38:48.110403Z",
     "start_time": "2021-05-31T08:38:48.104336Z"
    }
   },
   "outputs": [],
   "source": [
    "wavs_path = 'train_data/wav'"
   ]
  },
  {
   "cell_type": "code",
   "execution_count": 83,
   "metadata": {
    "ExecuteTime": {
     "end_time": "2021-05-31T08:38:49.681099Z",
     "start_time": "2021-05-31T08:38:48.920956Z"
    }
   },
   "outputs": [],
   "source": [
    "for bg_file in bg_files:\n",
    "    annotation_file.loc[annotation_file['filename'] == bg_file, 'end_time'] = sf.info(f'{wavs_path}/{bg_file}.wav').duration\n",
    "    annotation_file.loc[annotation_file['filename'] == bg_file, 'call_length'] = sf.info(f'{wavs_path}/{bg_file}.wav').duration"
   ]
  },
  {
   "cell_type": "code",
   "execution_count": 84,
   "metadata": {
    "ExecuteTime": {
     "end_time": "2021-05-31T08:39:02.911961Z",
     "start_time": "2021-05-31T08:39:02.170332Z"
    }
   },
   "outputs": [
    {
     "name": "stdout",
     "output_type": "stream",
     "text": [
      "{20000}\n"
     ]
    }
   ],
   "source": [
    "files_3 = list(annotation_file['filename'])\n",
    "srs = []\n",
    "for file in files_3:\n",
    "    srs.append(sf.info(f'{wavs_path}/{file}.wav').samplerate)\n",
    "srs = set(srs)\n",
    "print(srs)\n",
    "assert len(srs)==1, 'Should contain only one sample rate across the dataset!'"
   ]
  },
  {
   "cell_type": "code",
   "execution_count": 85,
   "metadata": {
    "ExecuteTime": {
     "end_time": "2021-05-31T08:39:20.749390Z",
     "start_time": "2021-05-31T08:39:20.696551Z"
    }
   },
   "outputs": [],
   "source": [
    "annotation_file.to_csv('orcasound_reformated.csv', index=False)"
   ]
  }
 ],
 "metadata": {
  "kernelspec": {
   "display_name": "PyWhale",
   "language": "python",
   "name": "pywhale"
  },
  "language_info": {
   "codemirror_mode": {
    "name": "ipython",
    "version": 3
   },
   "file_extension": ".py",
   "mimetype": "text/x-python",
   "name": "python",
   "nbconvert_exporter": "python",
   "pygments_lexer": "ipython3",
   "version": "3.8.9"
  },
  "toc": {
   "base_numbering": 1,
   "nav_menu": {},
   "number_sections": true,
   "sideBar": true,
   "skip_h1_title": false,
   "title_cell": "Table of Contents",
   "title_sidebar": "Contents",
   "toc_cell": false,
   "toc_position": {},
   "toc_section_display": true,
   "toc_window_display": false
  },
  "varInspector": {
   "cols": {
    "lenName": 16,
    "lenType": 16,
    "lenVar": 40
   },
   "kernels_config": {
    "python": {
     "delete_cmd_postfix": "",
     "delete_cmd_prefix": "del ",
     "library": "var_list.py",
     "varRefreshCmd": "print(var_dic_list())"
    },
    "r": {
     "delete_cmd_postfix": ") ",
     "delete_cmd_prefix": "rm(",
     "library": "var_list.r",
     "varRefreshCmd": "cat(var_dic_list()) "
    }
   },
   "types_to_exclude": [
    "module",
    "function",
    "builtin_function_or_method",
    "instance",
    "_Feature"
   ],
   "window_display": false
  }
 },
 "nbformat": 4,
 "nbformat_minor": 4
}
