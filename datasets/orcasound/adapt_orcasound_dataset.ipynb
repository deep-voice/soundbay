{
 "cells": [
  {
   "cell_type": "markdown",
   "metadata": {},
   "source": [
    "### Adapt the orcasound annotations file to our format"
   ]
  },
  {
   "cell_type": "code",
   "execution_count": null,
   "metadata": {
    "ExecuteTime": {
     "end_time": "2022-01-04T14:17:16.454035Z",
     "start_time": "2022-01-04T14:17:16.447897Z"
    }
   },
   "outputs": [],
   "source": [
    "import pandas as pd\n",
    "import numpy as np\n",
    "import soundfile as sf\n",
    "from soundbay.utils.metadata_processing import (reorder_columns_to_default_view, \n",
    "                                       correct_call_times_with_duration,\n",
    "                                       non_overlap_df, bg_from_non_overlap_calls)"
   ]
  },
  {
   "cell_type": "markdown",
   "metadata": {},
   "source": [
    "#### setup arguments"
   ]
  },
  {
   "cell_type": "code",
   "execution_count": null,
   "metadata": {
    "ExecuteTime": {
     "end_time": "2022-01-04T14:17:16.473607Z",
     "start_time": "2022-01-04T14:17:16.456584Z"
    }
   },
   "outputs": [],
   "source": [
    "annotation_file = pd.read_csv('train_data/annotations.tsv', sep='\\t')\n",
    "wavs_path = 'train_data/wav'\n",
    "output_filename = 'orcasound'"
   ]
  },
  {
   "cell_type": "markdown",
   "metadata": {},
   "source": [
    "#### remove calls with duration of 2.450 (not precise, comes from a dl model with low temporal resolution)"
   ]
  },
  {
   "cell_type": "code",
   "execution_count": null,
   "metadata": {
    "ExecuteTime": {
     "end_time": "2022-01-04T14:17:16.480225Z",
     "start_time": "2022-01-04T14:17:16.475138Z"
    }
   },
   "outputs": [],
   "source": [
    "print('Initial amount of records in dataset:', len(annotation_file))\n",
    "suspects = annotation_file[np.isclose(annotation_file['duration_s'],2.450)]\n",
    "annotation_file = annotation_file[~(np.isclose(annotation_file['duration_s'],2.450))]\n",
    "print('number of records after filtering:', len(annotation_file))"
   ]
  },
  {
   "cell_type": "code",
   "execution_count": null,
   "metadata": {
    "ExecuteTime": {
     "end_time": "2022-01-04T14:17:16.484907Z",
     "start_time": "2022-01-04T14:17:16.481918Z"
    }
   },
   "outputs": [],
   "source": [
    "annotation_file.rename(columns={'wav_filename': 'filename', \n",
    "                                'start_time_s':'begin_time', \n",
    "                                'duration_s': 'call_length'}, inplace=True)"
   ]
  },
  {
   "cell_type": "code",
   "execution_count": null,
   "metadata": {
    "ExecuteTime": {
     "end_time": "2022-01-04T14:17:16.491710Z",
     "start_time": "2022-01-04T14:17:16.486026Z"
    }
   },
   "outputs": [],
   "source": [
    "annotation_file['end_time'] = annotation_file['begin_time'] + annotation_file['call_length']"
   ]
  },
  {
   "cell_type": "code",
   "execution_count": null,
   "metadata": {
    "ExecuteTime": {
     "end_time": "2022-01-04T14:17:16.495889Z",
     "start_time": "2022-01-04T14:17:16.492935Z"
    }
   },
   "outputs": [],
   "source": [
    "annotation_file['label'] = np.ones((len(annotation_file),), dtype=int)"
   ]
  },
  {
   "cell_type": "markdown",
   "metadata": {},
   "source": [
    "#### reorder the columns"
   ]
  },
  {
   "cell_type": "code",
   "execution_count": null,
   "metadata": {
    "ExecuteTime": {
     "end_time": "2022-01-04T14:17:16.502190Z",
     "start_time": "2022-01-04T14:17:16.498080Z"
    }
   },
   "outputs": [],
   "source": [
    "annotation_file = reorder_columns_to_default_view(annotation_file)"
   ]
  },
  {
   "cell_type": "markdown",
   "metadata": {},
   "source": [
    "#### remove .wav extension from the file names"
   ]
  },
  {
   "cell_type": "code",
   "execution_count": null,
   "metadata": {
    "ExecuteTime": {
     "end_time": "2022-01-04T14:17:16.513954Z",
     "start_time": "2022-01-04T14:17:16.503705Z"
    }
   },
   "outputs": [],
   "source": [
    "name_series = [x.replace('.wav', '') for x in annotation_file['filename']]\n",
    "annotation_file['filename'] = name_series"
   ]
  },
  {
   "cell_type": "markdown",
   "metadata": {},
   "source": [
    "#### remove duplicate lines from the metadata"
   ]
  },
  {
   "cell_type": "code",
   "execution_count": null,
   "metadata": {
    "ExecuteTime": {
     "end_time": "2022-01-04T14:17:16.522601Z",
     "start_time": "2022-01-04T14:17:16.515188Z"
    }
   },
   "outputs": [],
   "source": [
    "annotation_file.drop_duplicates(inplace=True)\n",
    "print('Removed duplicated, number of records after filtering:', len(annotation_file))"
   ]
  },
  {
   "cell_type": "markdown",
   "metadata": {},
   "source": [
    "#### filter out dataset 'podcast_round1' (non-accurate tags) and 'podcast_round3' (highly correlated with test)"
   ]
  },
  {
   "cell_type": "code",
   "execution_count": null,
   "metadata": {
    "ExecuteTime": {
     "end_time": "2022-01-04T14:17:16.529333Z",
     "start_time": "2022-01-04T14:17:16.523721Z"
    }
   },
   "outputs": [],
   "source": [
    "annotation_file = annotation_file[~(annotation_file['dataset'] == 'podcast_round1')]\n",
    "annotation_file = annotation_file[~(annotation_file['dataset'] == 'podcast_round3')]\n",
    "print('Removed files from podcast_round1 (inaccurate tags) and \\\n",
    "      podcast_round3 (similar distribution to the test), number of \\\n",
    "      records after filtering:', len(annotation_file))"
   ]
  },
  {
   "cell_type": "markdown",
   "metadata": {},
   "source": [
    "#### make sure end_time is not bigger than audio_len"
   ]
  },
  {
   "cell_type": "code",
   "execution_count": null,
   "metadata": {
    "ExecuteTime": {
     "end_time": "2022-01-04T14:17:16.808546Z",
     "start_time": "2022-01-04T14:17:16.530355Z"
    }
   },
   "outputs": [],
   "source": [
    "annotation_file = correct_call_times_with_duration(annotation_file, wavs_path)"
   ]
  },
  {
   "cell_type": "markdown",
   "metadata": {},
   "source": [
    "#### verify we have only a single sample-rate in the dataset"
   ]
  },
  {
   "cell_type": "code",
   "execution_count": null,
   "metadata": {
    "ExecuteTime": {
     "end_time": "2022-01-04T14:17:16.850636Z",
     "start_time": "2022-01-04T14:17:16.809645Z"
    }
   },
   "outputs": [],
   "source": [
    "all_files = set(annotation_file['filename'])\n",
    "srs = set()\n",
    "for file in all_files:\n",
    "    srs.add(sf.info(f'{wavs_path}/{file}.wav').samplerate)\n",
    "print('sample-rates existing in the data:', srs)\n",
    "assert len(srs)==1, 'Should contain only one sample rate across the dataset!'"
   ]
  },
  {
   "cell_type": "markdown",
   "metadata": {},
   "source": [
    "#### add label 0 to files with call_length==0"
   ]
  },
  {
   "cell_type": "code",
   "execution_count": null,
   "metadata": {
    "ExecuteTime": {
     "end_time": "2022-01-04T14:17:16.854348Z",
     "start_time": "2022-01-04T14:17:16.851596Z"
    }
   },
   "outputs": [],
   "source": [
    "annotation_file.loc[annotation_file['call_length'] == 0, 'label'] = 0"
   ]
  },
  {
   "cell_type": "markdown",
   "metadata": {},
   "source": [
    "### label bg as call length==0, use part 3 for bg from calls"
   ]
  },
  {
   "cell_type": "code",
   "execution_count": null,
   "metadata": {
    "ExecuteTime": {
     "end_time": "2022-01-04T14:17:16.859086Z",
     "start_time": "2022-01-04T14:17:16.855342Z"
    }
   },
   "outputs": [],
   "source": [
    "bg_files = list(annotation_file[annotation_file['label'] == 0]['filename'])\n",
    "print(f'found {len(bg_files)} rows who are bg candidates')"
   ]
  },
  {
   "cell_type": "markdown",
   "metadata": {},
   "source": [
    "#### filter out duplicates in bg and \"bg\" files that have calls in other rows on the annotation file"
   ]
  },
  {
   "cell_type": "code",
   "execution_count": null,
   "metadata": {
    "ExecuteTime": {
     "end_time": "2022-01-04T14:17:17.203064Z",
     "start_time": "2022-01-04T14:17:16.860194Z"
    }
   },
   "outputs": [],
   "source": [
    "for file in bg_files:\n",
    "    curr_call = annotation_file[annotation_file['filename'] == file]\n",
    "    total_call_len = sum(curr_call['call_length'])\n",
    "    # remove bg files that have calls as well and misclassified as bg\n",
    "    if total_call_len > 0:\n",
    "        indices = annotation_file[(annotation_file['filename']==file) & \n",
    "                                  (annotation_file['call_length'] == 0)].index\n",
    "        annotation_file.drop(index=indices, inplace=True)\n",
    "bg_files = list(annotation_file[annotation_file['label'] == 0]['filename'])\n",
    "print(f'left with {len(bg_files)} rows who are legit bg candidates, others included calls')"
   ]
  },
  {
   "cell_type": "markdown",
   "metadata": {},
   "source": [
    "#### modify end_time of the call to be the length of the wav file. We assume that the entire file is a bg noise"
   ]
  },
  {
   "cell_type": "code",
   "execution_count": null,
   "metadata": {
    "ExecuteTime": {
     "end_time": "2022-01-04T14:17:17.694751Z",
     "start_time": "2022-01-04T14:17:17.204080Z"
    }
   },
   "outputs": [],
   "source": [
    "for bg_file in bg_files:\n",
    "    annotation_file.loc[annotation_file['filename'] == bg_file, 'end_time'] = sf.info(f'{wavs_path}/{bg_file}.wav').duration\n",
    "    annotation_file.loc[annotation_file['filename'] == bg_file, 'call_length'] = sf.info(f'{wavs_path}/{bg_file}.wav').duration"
   ]
  },
  {
   "cell_type": "markdown",
   "metadata": {},
   "source": [
    "#### save file"
   ]
  },
  {
   "cell_type": "code",
   "execution_count": null,
   "metadata": {
    "ExecuteTime": {
     "end_time": "2021-12-14T17:27:16.088172Z",
     "start_time": "2021-12-14T17:27:16.075679Z"
    }
   },
   "outputs": [],
   "source": [
    "annotation_file.to_csv(output_filename + '_reformated.csv', index=False)"
   ]
  },
  {
   "cell_type": "markdown",
   "metadata": {},
   "source": [
    "### label bg , use part 3 for bg from calls"
   ]
  },
  {
   "cell_type": "markdown",
   "metadata": {},
   "source": [
    "#### we're gonna use only recordings with positive calls to get bg noise, so remove all records with label==0"
   ]
  },
  {
   "cell_type": "code",
   "execution_count": null,
   "metadata": {
    "ExecuteTime": {
     "end_time": "2021-12-21T21:41:19.154292Z",
     "start_time": "2021-12-21T21:41:19.144466Z"
    }
   },
   "outputs": [],
   "source": [
    "annotation_file = annotation_file[annotation_file['label'] == 1]"
   ]
  },
  {
   "cell_type": "code",
   "execution_count": null,
   "metadata": {
    "ExecuteTime": {
     "end_time": "2021-12-21T21:41:19.834542Z",
     "start_time": "2021-12-21T21:41:19.553698Z"
    }
   },
   "outputs": [],
   "source": [
    "annotation_file = non_overlap_df(annotation_file)"
   ]
  },
  {
   "cell_type": "code",
   "execution_count": null,
   "metadata": {
    "ExecuteTime": {
     "end_time": "2021-12-21T21:41:20.094838Z",
     "start_time": "2021-12-21T21:41:19.975994Z"
    }
   },
   "outputs": [],
   "source": [
    "annotation_file = bg_from_non_overlap_calls(annotation_file)"
   ]
  },
  {
   "cell_type": "code",
   "execution_count": null,
   "metadata": {},
   "outputs": [],
   "source": [
    "annotation_file.to_csv(output_filename + '_bg_from_calls.csv', index=False)"
   ]
  }
 ],
 "metadata": {
  "kernelspec": {
   "display_name": "PyWhale",
   "language": "python",
   "name": "pywhale"
  },
  "language_info": {
   "codemirror_mode": {
    "name": "ipython",
    "version": 3
   },
   "file_extension": ".py",
   "mimetype": "text/x-python",
   "name": "python",
   "nbconvert_exporter": "python",
   "pygments_lexer": "ipython3",
   "version": "3.8.9"
  },
  "toc": {
   "base_numbering": 1,
   "nav_menu": {},
   "number_sections": true,
   "sideBar": true,
   "skip_h1_title": false,
   "title_cell": "Table of Contents",
   "title_sidebar": "Contents",
   "toc_cell": false,
   "toc_position": {},
   "toc_section_display": true,
   "toc_window_display": false
  },
  "varInspector": {
   "cols": {
    "lenName": 16,
    "lenType": 16,
    "lenVar": 40
   },
   "kernels_config": {
    "python": {
     "delete_cmd_postfix": "",
     "delete_cmd_prefix": "del ",
     "library": "var_list.py",
     "varRefreshCmd": "print(var_dic_list())"
    },
    "r": {
     "delete_cmd_postfix": ") ",
     "delete_cmd_prefix": "rm(",
     "library": "var_list.r",
     "varRefreshCmd": "cat(var_dic_list()) "
    }
   },
   "types_to_exclude": [
    "module",
    "function",
    "builtin_function_or_method",
    "instance",
    "_Feature"
   ],
   "window_display": false
  }
 },
 "nbformat": 4,
 "nbformat_minor": 4
}
