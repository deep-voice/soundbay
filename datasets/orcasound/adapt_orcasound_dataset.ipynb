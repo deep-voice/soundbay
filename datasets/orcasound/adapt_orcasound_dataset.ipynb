{
 "cells": [
  {
   "cell_type": "markdown",
   "metadata": {},
   "source": [
    "### Adapt the orcasound annotations file to our format"
   ]
  },
  {
   "cell_type": "code",
   "execution_count": 256,
   "metadata": {
    "ExecuteTime": {
     "end_time": "2021-05-31T10:01:10.330599Z",
     "start_time": "2021-05-31T10:01:10.328076Z"
    }
   },
   "outputs": [],
   "source": [
    "import pandas as pd\n",
    "import numpy as np\n",
    "import soundfile as sf"
   ]
  },
  {
   "cell_type": "code",
   "execution_count": 257,
   "metadata": {
    "ExecuteTime": {
     "end_time": "2021-05-31T10:01:10.347810Z",
     "start_time": "2021-05-31T10:01:10.332320Z"
    }
   },
   "outputs": [],
   "source": [
    "annotation_file = pd.read_csv('train_data/annotations.tsv', sep='\\t')\n",
    "example_file = pd.read_csv('../../../finding_willy/EDA/combined_annotations.csv')"
   ]
  },
  {
   "cell_type": "markdown",
   "metadata": {},
   "source": [
    "#### remove calls with duration of 2.450 (not precise, comes from a dl model with low temporal resolution)"
   ]
  },
  {
   "cell_type": "code",
   "execution_count": 258,
   "metadata": {
    "ExecuteTime": {
     "end_time": "2021-05-31T10:01:10.353199Z",
     "start_time": "2021-05-31T10:01:10.349243Z"
    }
   },
   "outputs": [],
   "source": [
    "suspects = annotation_file[np.isclose(annotation_file['duration_s'],2.450)]\n",
    "annotation_file = annotation_file[~(np.isclose(annotation_file['duration_s'],2.450))]"
   ]
  },
  {
   "cell_type": "code",
   "execution_count": 259,
   "metadata": {
    "ExecuteTime": {
     "end_time": "2021-05-31T10:01:10.357176Z",
     "start_time": "2021-05-31T10:01:10.354578Z"
    }
   },
   "outputs": [],
   "source": [
    "annotation_file.rename(columns={'wav_filename': 'filename', \n",
    "                                'start_time_s':'begin_time', \n",
    "                                'duration_s': 'call_length'}, inplace=True)"
   ]
  },
  {
   "cell_type": "code",
   "execution_count": 260,
   "metadata": {
    "ExecuteTime": {
     "end_time": "2021-05-31T10:01:10.362084Z",
     "start_time": "2021-05-31T10:01:10.358301Z"
    }
   },
   "outputs": [],
   "source": [
    "annotation_file['end_time'] = annotation_file['begin_time'] + annotation_file['call_length']"
   ]
  },
  {
   "cell_type": "code",
   "execution_count": 261,
   "metadata": {
    "ExecuteTime": {
     "end_time": "2021-05-31T10:01:10.366186Z",
     "start_time": "2021-05-31T10:01:10.363193Z"
    }
   },
   "outputs": [],
   "source": [
    "annotation_file['label'] = np.ones((len(annotation_file),), dtype=int)"
   ]
  },
  {
   "cell_type": "markdown",
   "metadata": {},
   "source": [
    "#### reorder the columns"
   ]
  },
  {
   "cell_type": "code",
   "execution_count": 262,
   "metadata": {
    "ExecuteTime": {
     "end_time": "2021-05-31T10:01:10.370041Z",
     "start_time": "2021-05-31T10:01:10.367734Z"
    }
   },
   "outputs": [],
   "source": [
    "cols = annotation_file.columns.tolist()\n",
    "orig_cols = example_file.columns.tolist()\n",
    "remaining = list(set(cols) - set(orig_cols))\n",
    "new_cols = orig_cols + remaining"
   ]
  },
  {
   "cell_type": "code",
   "execution_count": 263,
   "metadata": {
    "ExecuteTime": {
     "end_time": "2021-05-31T10:01:10.375709Z",
     "start_time": "2021-05-31T10:01:10.371161Z"
    }
   },
   "outputs": [],
   "source": [
    "annotation_file = annotation_file[new_cols]"
   ]
  },
  {
   "cell_type": "markdown",
   "metadata": {},
   "source": [
    "#### remove .wav extension from the file names"
   ]
  },
  {
   "cell_type": "code",
   "execution_count": 264,
   "metadata": {
    "ExecuteTime": {
     "end_time": "2021-05-31T10:01:10.383379Z",
     "start_time": "2021-05-31T10:01:10.376906Z"
    }
   },
   "outputs": [],
   "source": [
    "name_series = [x.replace('.wav', '') for x in annotation_file['filename']]\n",
    "annotation_file['filename'] = name_series"
   ]
  },
  {
   "cell_type": "markdown",
   "metadata": {},
   "source": [
    "#### remove duplicate lines from the metadata"
   ]
  },
  {
   "cell_type": "code",
   "execution_count": 265,
   "metadata": {
    "ExecuteTime": {
     "end_time": "2021-05-31T10:01:10.395870Z",
     "start_time": "2021-05-31T10:01:10.385400Z"
    }
   },
   "outputs": [],
   "source": [
    "annotation_file.drop_duplicates(inplace=True)"
   ]
  },
  {
   "cell_type": "markdown",
   "metadata": {},
   "source": [
    "#### filter out dataset 'podcast_round1'"
   ]
  },
  {
   "cell_type": "code",
   "execution_count": 266,
   "metadata": {
    "ExecuteTime": {
     "end_time": "2021-05-31T10:01:10.399415Z",
     "start_time": "2021-05-31T10:01:10.397306Z"
    }
   },
   "outputs": [],
   "source": [
    "annotation_file = annotation_file[~(annotation_file['dataset'] == 'podcast_round1')]"
   ]
  },
  {
   "cell_type": "markdown",
   "metadata": {},
   "source": [
    "#### make sure end_time is not bigger than audio_len"
   ]
  },
  {
   "cell_type": "code",
   "execution_count": 268,
   "metadata": {
    "ExecuteTime": {
     "end_time": "2021-05-31T10:01:12.963703Z",
     "start_time": "2021-05-31T10:01:10.406671Z"
    }
   },
   "outputs": [
    {
     "name": "stdout",
     "output_type": "stream",
     "text": [
      "blablabla 361\n"
     ]
    }
   ],
   "source": [
    "for file in set(annotation_file['filename']):\n",
    "    curr_call = annotation_file[annotation_file['filename'] == file]\n",
    "    \n",
    "    max_end = curr_call['end_time'].max()\n",
    "    max_end_idx = curr_call['end_time'].idxmax()\n",
    "    \n",
    "    max_begin = curr_call['begin_time'].max()\n",
    "    max_begin_idx = curr_call['begin_time'].idxmax()\n",
    "    \n",
    "    audio_len = sf.info(f'{wavs_path}/{file}.wav').duration\n",
    "    if max_end > audio_len:\n",
    "        annotation_file.at[max_end_idx, 'end_time'] = audio_len\n",
    "        annotation_file.at[max_end_idx, 'call_length'] = audio_len - annotation_file.at[max_end_idx, 'begin_time']\n",
    "        \n",
    "    if max_begin > audio_len:\n",
    "        annotation_file.drop(index=max_begin_idx, inplace=True)"
   ]
  },
  {
   "cell_type": "markdown",
   "metadata": {},
   "source": [
    "### label bg as bg, solve begin_time and call_len issues"
   ]
  },
  {
   "cell_type": "code",
   "execution_count": 269,
   "metadata": {
    "ExecuteTime": {
     "end_time": "2021-05-31T10:01:12.968987Z",
     "start_time": "2021-05-31T10:01:12.965246Z"
    }
   },
   "outputs": [],
   "source": [
    "annotation_file.loc[annotation_file['call_length'] == 0, 'label'] = 0"
   ]
  },
  {
   "cell_type": "code",
   "execution_count": 270,
   "metadata": {
    "ExecuteTime": {
     "end_time": "2021-05-31T10:01:12.975495Z",
     "start_time": "2021-05-31T10:01:12.970513Z"
    }
   },
   "outputs": [],
   "source": [
    "bg_files = list(annotation_file[annotation_file['label'] == 0]['filename'])"
   ]
  },
  {
   "cell_type": "code",
   "execution_count": 271,
   "metadata": {
    "ExecuteTime": {
     "end_time": "2021-05-31T10:01:12.981107Z",
     "start_time": "2021-05-31T10:01:12.977568Z"
    }
   },
   "outputs": [
    {
     "data": {
      "text/plain": [
       "591"
      ]
     },
     "execution_count": 271,
     "metadata": {},
     "output_type": "execute_result"
    }
   ],
   "source": [
    "len(bg_files)"
   ]
  },
  {
   "cell_type": "markdown",
   "metadata": {},
   "source": [
    "#### filter out duplicates in bg and \"bg\" files that have calls in other rows on the annotation file"
   ]
  },
  {
   "cell_type": "code",
   "execution_count": 272,
   "metadata": {
    "ExecuteTime": {
     "end_time": "2021-05-31T10:01:13.422204Z",
     "start_time": "2021-05-31T10:01:12.982470Z"
    }
   },
   "outputs": [
    {
     "data": {
      "text/plain": [
       "519"
      ]
     },
     "execution_count": 272,
     "metadata": {},
     "output_type": "execute_result"
    }
   ],
   "source": [
    "for file in bg_files:\n",
    "    curr_call = annotation_file[annotation_file['filename'] == file]\n",
    "    total_call_len = sum(curr_call['call_length'])\n",
    "    # remove bg files that have calls as well\n",
    "    if total_call_len > 0:\n",
    "        indices = annotation_file[(annotation_file['filename']==file) & (annotation_file['call_length'] == 0)].index\n",
    "        annotation_file.drop(index=indices, inplace=True)\n",
    "\n",
    "bg_files = list(annotation_file[annotation_file['label'] == 0]['filename'])\n",
    "len(bg_files)"
   ]
  },
  {
   "cell_type": "code",
   "execution_count": 273,
   "metadata": {
    "ExecuteTime": {
     "end_time": "2021-05-31T10:01:13.425230Z",
     "start_time": "2021-05-31T10:01:13.423254Z"
    }
   },
   "outputs": [],
   "source": [
    "import soundfile as sf"
   ]
  },
  {
   "cell_type": "code",
   "execution_count": 274,
   "metadata": {
    "ExecuteTime": {
     "end_time": "2021-05-31T10:01:13.429812Z",
     "start_time": "2021-05-31T10:01:13.428031Z"
    }
   },
   "outputs": [],
   "source": [
    "wavs_path = 'train_data/wav'"
   ]
  },
  {
   "cell_type": "code",
   "execution_count": 275,
   "metadata": {
    "ExecuteTime": {
     "end_time": "2021-05-31T10:01:14.121526Z",
     "start_time": "2021-05-31T10:01:13.431156Z"
    }
   },
   "outputs": [],
   "source": [
    "for bg_file in bg_files:\n",
    "    annotation_file.loc[annotation_file['filename'] == bg_file, 'end_time'] = sf.info(f'{wavs_path}/{bg_file}.wav').duration\n",
    "    annotation_file.loc[annotation_file['filename'] == bg_file, 'call_length'] = sf.info(f'{wavs_path}/{bg_file}.wav').duration"
   ]
  },
  {
   "cell_type": "code",
   "execution_count": 276,
   "metadata": {
    "ExecuteTime": {
     "end_time": "2021-05-31T10:01:14.424431Z",
     "start_time": "2021-05-31T10:01:14.122538Z"
    }
   },
   "outputs": [
    {
     "name": "stdout",
     "output_type": "stream",
     "text": [
      "{20000}\n"
     ]
    }
   ],
   "source": [
    "files_3 = list(annotation_file['filename'])\n",
    "srs = []\n",
    "for file in files_3:\n",
    "    srs.append(sf.info(f'{wavs_path}/{file}.wav').samplerate)\n",
    "srs = set(srs)\n",
    "print(srs)\n",
    "assert len(srs)==1, 'Should contain only one sample rate across the dataset!'"
   ]
  },
  {
   "cell_type": "code",
   "execution_count": 277,
   "metadata": {
    "ExecuteTime": {
     "end_time": "2021-05-31T10:01:14.450044Z",
     "start_time": "2021-05-31T10:01:14.425574Z"
    }
   },
   "outputs": [],
   "source": [
    "annotation_file.to_csv('orcasound_reformated.csv', index=False)"
   ]
  }
 ],
 "metadata": {
  "kernelspec": {
   "display_name": "PyWhale",
   "language": "python",
   "name": "pywhale"
  },
  "language_info": {
   "codemirror_mode": {
    "name": "ipython",
    "version": 3
   },
   "file_extension": ".py",
   "mimetype": "text/x-python",
   "name": "python",
   "nbconvert_exporter": "python",
   "pygments_lexer": "ipython3",
   "version": "3.8.9"
  },
  "toc": {
   "base_numbering": 1,
   "nav_menu": {},
   "number_sections": true,
   "sideBar": true,
   "skip_h1_title": false,
   "title_cell": "Table of Contents",
   "title_sidebar": "Contents",
   "toc_cell": false,
   "toc_position": {},
   "toc_section_display": true,
   "toc_window_display": false
  },
  "varInspector": {
   "cols": {
    "lenName": 16,
    "lenType": 16,
    "lenVar": 40
   },
   "kernels_config": {
    "python": {
     "delete_cmd_postfix": "",
     "delete_cmd_prefix": "del ",
     "library": "var_list.py",
     "varRefreshCmd": "print(var_dic_list())"
    },
    "r": {
     "delete_cmd_postfix": ") ",
     "delete_cmd_prefix": "rm(",
     "library": "var_list.r",
     "varRefreshCmd": "cat(var_dic_list()) "
    }
   },
   "types_to_exclude": [
    "module",
    "function",
    "builtin_function_or_method",
    "instance",
    "_Feature"
   ],
   "window_display": false
  }
 },
 "nbformat": 4,
 "nbformat_minor": 4
}
