{
 "cells": [
  {
   "cell_type": "markdown",
   "metadata": {},
   "source": [
    "### Adapt the orcasound annotations file to our format"
   ]
  },
  {
   "cell_type": "code",
   "execution_count": 57,
   "metadata": {
    "ExecuteTime": {
     "end_time": "2021-05-24T15:17:50.550242Z",
     "start_time": "2021-05-24T15:17:50.543697Z"
    }
   },
   "outputs": [],
   "source": [
    "import pandas as pd\n",
    "import numpy as np\n",
    "import soundfile as sf"
   ]
  },
  {
   "cell_type": "code",
   "execution_count": 53,
   "metadata": {
    "ExecuteTime": {
     "end_time": "2021-05-24T14:53:54.159277Z",
     "start_time": "2021-05-24T14:53:54.131648Z"
    }
   },
   "outputs": [],
   "source": [
    "annotation_file = pd.read_csv('train_data/annotations.tsv', sep='\\t')\n",
    "example_file = pd.read_csv('../../../finding_willy/EDA/combined_annotations.csv')"
   ]
  },
  {
   "cell_type": "markdown",
   "metadata": {},
   "source": [
    "#### remove calls with duration of 2.450 (not precise, comes from a dl model with low temporal resolution)"
   ]
  },
  {
   "cell_type": "code",
   "execution_count": 65,
   "metadata": {
    "ExecuteTime": {
     "end_time": "2021-05-24T15:20:52.209848Z",
     "start_time": "2021-05-24T15:20:52.195639Z"
    }
   },
   "outputs": [],
   "source": [
    "suspects = annotation_file[np.isclose(annotation_file['duration_s'],2.450)]\n",
    "annotation_file = annotation_file[~(np.isclose(annotation_file['duration_s'],2.450))]"
   ]
  },
  {
   "cell_type": "code",
   "execution_count": 68,
   "metadata": {
    "ExecuteTime": {
     "end_time": "2021-05-24T15:21:05.822987Z",
     "start_time": "2021-05-24T15:21:05.812448Z"
    }
   },
   "outputs": [
    {
     "name": "stderr",
     "output_type": "stream",
     "text": [
      "/home/moshe/.pyenv/versions/pywhale/lib/python3.8/site-packages/pandas/core/frame.py:4441: SettingWithCopyWarning: \n",
      "A value is trying to be set on a copy of a slice from a DataFrame\n",
      "\n",
      "See the caveats in the documentation: https://pandas.pydata.org/pandas-docs/stable/user_guide/indexing.html#returning-a-view-versus-a-copy\n",
      "  return super().rename(\n"
     ]
    }
   ],
   "source": [
    "annotation_file.rename(columns={'wav_filename': 'filename', \n",
    "                                'start_time_s':'begin_time', \n",
    "                                'duration_s': 'call_length'}, inplace=True)"
   ]
  },
  {
   "cell_type": "code",
   "execution_count": 70,
   "metadata": {
    "ExecuteTime": {
     "end_time": "2021-05-24T15:21:27.764751Z",
     "start_time": "2021-05-24T15:21:27.755305Z"
    }
   },
   "outputs": [
    {
     "name": "stderr",
     "output_type": "stream",
     "text": [
      "<ipython-input-70-a4c9fa977cf9>:1: SettingWithCopyWarning: \n",
      "A value is trying to be set on a copy of a slice from a DataFrame.\n",
      "Try using .loc[row_indexer,col_indexer] = value instead\n",
      "\n",
      "See the caveats in the documentation: https://pandas.pydata.org/pandas-docs/stable/user_guide/indexing.html#returning-a-view-versus-a-copy\n",
      "  annotation_file['end_time'] = annotation_file['begin_time'] + annotation_file['call_length']\n"
     ]
    }
   ],
   "source": [
    "annotation_file['end_time'] = annotation_file['begin_time'] + annotation_file['call_length']"
   ]
  },
  {
   "cell_type": "code",
   "execution_count": 71,
   "metadata": {
    "ExecuteTime": {
     "end_time": "2021-05-24T15:21:28.935206Z",
     "start_time": "2021-05-24T15:21:28.930981Z"
    }
   },
   "outputs": [
    {
     "name": "stderr",
     "output_type": "stream",
     "text": [
      "<ipython-input-71-182fc818c42c>:1: SettingWithCopyWarning: \n",
      "A value is trying to be set on a copy of a slice from a DataFrame.\n",
      "Try using .loc[row_indexer,col_indexer] = value instead\n",
      "\n",
      "See the caveats in the documentation: https://pandas.pydata.org/pandas-docs/stable/user_guide/indexing.html#returning-a-view-versus-a-copy\n",
      "  annotation_file['label'] = np.ones((len(annotation_file),), dtype=int)\n"
     ]
    }
   ],
   "source": [
    "annotation_file['label'] = np.ones((len(annotation_file),), dtype=int)"
   ]
  },
  {
   "cell_type": "markdown",
   "metadata": {},
   "source": [
    "#### reorder the columns"
   ]
  },
  {
   "cell_type": "code",
   "execution_count": 72,
   "metadata": {
    "ExecuteTime": {
     "end_time": "2021-05-24T15:21:44.488842Z",
     "start_time": "2021-05-24T15:21:44.480770Z"
    }
   },
   "outputs": [],
   "source": [
    "cols = annotation_file.columns.tolist()\n",
    "orig_cols = example_file.columns.tolist()\n",
    "remaining = list(set(cols) - set(orig_cols))\n",
    "new_cols = orig_cols + remaining"
   ]
  },
  {
   "cell_type": "code",
   "execution_count": 73,
   "metadata": {
    "ExecuteTime": {
     "end_time": "2021-05-24T15:21:44.965418Z",
     "start_time": "2021-05-24T15:21:44.953921Z"
    }
   },
   "outputs": [],
   "source": [
    "annotation_file = annotation_file[new_cols]"
   ]
  },
  {
   "cell_type": "markdown",
   "metadata": {},
   "source": [
    "#### remove .wav extension from the file names"
   ]
  },
  {
   "cell_type": "code",
   "execution_count": 74,
   "metadata": {
    "ExecuteTime": {
     "end_time": "2021-05-24T15:21:48.737784Z",
     "start_time": "2021-05-24T15:21:48.733578Z"
    }
   },
   "outputs": [],
   "source": [
    "name_series = [x.replace('.wav', '') for x in annotation_file['filename']]\n",
    "annotation_file['filename'] = name_series"
   ]
  },
  {
   "cell_type": "markdown",
   "metadata": {},
   "source": [
    "### label bg as bg, solve begin_time and call_len issues"
   ]
  },
  {
   "cell_type": "code",
   "execution_count": 75,
   "metadata": {
    "ExecuteTime": {
     "end_time": "2021-05-24T15:21:56.949353Z",
     "start_time": "2021-05-24T15:21:56.946277Z"
    }
   },
   "outputs": [],
   "source": [
    "annotation_file.loc[annotation_file['call_length'] == 0, 'label'] = 0"
   ]
  },
  {
   "cell_type": "code",
   "execution_count": 76,
   "metadata": {
    "ExecuteTime": {
     "end_time": "2021-05-24T15:21:58.388202Z",
     "start_time": "2021-05-24T15:21:58.384423Z"
    }
   },
   "outputs": [],
   "source": [
    "bg_files = list(annotation_file[annotation_file['label'] == 0]['filename'])"
   ]
  },
  {
   "cell_type": "code",
   "execution_count": 77,
   "metadata": {
    "ExecuteTime": {
     "end_time": "2021-05-24T15:21:59.499975Z",
     "start_time": "2021-05-24T15:21:59.489794Z"
    }
   },
   "outputs": [
    {
     "data": {
      "text/plain": [
       "636"
      ]
     },
     "execution_count": 77,
     "metadata": {},
     "output_type": "execute_result"
    }
   ],
   "source": [
    "len(bg_files)"
   ]
  },
  {
   "cell_type": "code",
   "execution_count": 78,
   "metadata": {
    "ExecuteTime": {
     "end_time": "2021-05-24T15:22:04.972891Z",
     "start_time": "2021-05-24T15:22:04.970817Z"
    }
   },
   "outputs": [],
   "source": [
    "import soundfile as sf"
   ]
  },
  {
   "cell_type": "code",
   "execution_count": 80,
   "metadata": {
    "ExecuteTime": {
     "end_time": "2021-05-24T15:22:25.196637Z",
     "start_time": "2021-05-24T15:22:25.188818Z"
    }
   },
   "outputs": [],
   "source": [
    "wavs_path = 'train_data/wav'"
   ]
  },
  {
   "cell_type": "code",
   "execution_count": 81,
   "metadata": {
    "ExecuteTime": {
     "end_time": "2021-05-24T15:22:26.576205Z",
     "start_time": "2021-05-24T15:22:25.777247Z"
    }
   },
   "outputs": [],
   "source": [
    "for bg_file in bg_files:\n",
    "    annotation_file.loc[annotation_file['filename'] == bg_file, 'end_time'] = sf.info(f'{wavs_path}/{bg_file}.wav').duration\n",
    "    annotation_file.loc[annotation_file['filename'] == bg_file, 'call_length'] = sf.info(f'{wavs_path}/{bg_file}.wav').duration"
   ]
  },
  {
   "cell_type": "code",
   "execution_count": 90,
   "metadata": {
    "ExecuteTime": {
     "end_time": "2021-05-24T15:38:26.453594Z",
     "start_time": "2021-05-24T15:38:26.139727Z"
    }
   },
   "outputs": [
    {
     "name": "stdout",
     "output_type": "stream",
     "text": [
      "{20000}\n"
     ]
    }
   ],
   "source": [
    "files_3 = list(annotation_file['filename'])\n",
    "srs = []\n",
    "for file in files_3:\n",
    "    srs.append(sf.info(f'{wavs_path}/{file}.wav').samplerate)\n",
    "srs = set(srs)\n",
    "print(srs)\n",
    "assert len(srs)==1, 'Should contain only one sample rate across the dataset!'"
   ]
  },
  {
   "cell_type": "code",
   "execution_count": 88,
   "metadata": {
    "ExecuteTime": {
     "end_time": "2021-05-24T15:26:44.141622Z",
     "start_time": "2021-05-24T15:26:44.107586Z"
    }
   },
   "outputs": [],
   "source": [
    "annotation_file.to_csv('orcasound_reformated.csv', index=False)"
   ]
  },
  {
   "cell_type": "code",
   "execution_count": null,
   "metadata": {},
   "outputs": [],
   "source": []
  }
 ],
 "metadata": {
  "kernelspec": {
   "display_name": "PyWhale",
   "language": "python",
   "name": "pywhale"
  },
  "language_info": {
   "codemirror_mode": {
    "name": "ipython",
    "version": 3
   },
   "file_extension": ".py",
   "mimetype": "text/x-python",
   "name": "python",
   "nbconvert_exporter": "python",
   "pygments_lexer": "ipython3",
   "version": "3.8.9"
  },
  "toc": {
   "base_numbering": 1,
   "nav_menu": {},
   "number_sections": true,
   "sideBar": true,
   "skip_h1_title": false,
   "title_cell": "Table of Contents",
   "title_sidebar": "Contents",
   "toc_cell": false,
   "toc_position": {},
   "toc_section_display": true,
   "toc_window_display": false
  },
  "varInspector": {
   "cols": {
    "lenName": 16,
    "lenType": 16,
    "lenVar": 40
   },
   "kernels_config": {
    "python": {
     "delete_cmd_postfix": "",
     "delete_cmd_prefix": "del ",
     "library": "var_list.py",
     "varRefreshCmd": "print(var_dic_list())"
    },
    "r": {
     "delete_cmd_postfix": ") ",
     "delete_cmd_prefix": "rm(",
     "library": "var_list.r",
     "varRefreshCmd": "cat(var_dic_list()) "
    }
   },
   "types_to_exclude": [
    "module",
    "function",
    "builtin_function_or_method",
    "instance",
    "_Feature"
   ],
   "window_display": false
  }
 },
 "nbformat": 4,
 "nbformat_minor": 4
}
