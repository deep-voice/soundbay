{
 "cells": [
  {
   "cell_type": "markdown",
   "metadata": {},
   "source": [
    "### Adapt the orcasound annotations file to our format"
   ]
  },
  {
   "cell_type": "code",
   "execution_count": null,
   "metadata": {
    "ExecuteTime": {
     "end_time": "2021-12-14T10:19:42.619843Z",
     "start_time": "2021-12-14T10:19:42.489145Z"
    }
   },
   "outputs": [],
   "source": [
    "import pandas as pd\n",
    "import numpy as np\n",
    "import soundfile as sf"
   ]
  },
  {
   "cell_type": "markdown",
   "metadata": {},
   "source": [
    "#### setup arguments"
   ]
  },
  {
   "cell_type": "code",
   "execution_count": null,
   "metadata": {
    "ExecuteTime": {
     "end_time": "2021-12-14T10:19:42.634889Z",
     "start_time": "2021-12-14T10:19:42.621170Z"
    }
   },
   "outputs": [],
   "source": [
    "annotation_file = pd.read_csv('train_data/annotations.tsv', sep='\\t')\n",
    "example_file = pd.read_csv('../../../finding_willy/EDA/combined_annotations.csv')\n",
    "wavs_path = 'train_data/wav'\n",
    "output_filename = 'orcasound_reformated.csv'"
   ]
  },
  {
   "cell_type": "markdown",
   "metadata": {},
   "source": [
    "#### remove calls with duration of 2.450 (not precise, comes from a dl model with low temporal resolution)"
   ]
  },
  {
   "cell_type": "code",
   "execution_count": null,
   "metadata": {
    "ExecuteTime": {
     "end_time": "2021-12-14T10:19:42.639572Z",
     "start_time": "2021-12-14T10:19:42.636219Z"
    }
   },
   "outputs": [],
   "source": [
    "suspects = annotation_file[np.isclose(annotation_file['duration_s'],2.450)]\n",
    "annotation_file = annotation_file[~(np.isclose(annotation_file['duration_s'],2.450))]"
   ]
  },
  {
   "cell_type": "code",
   "execution_count": null,
   "metadata": {
    "ExecuteTime": {
     "end_time": "2021-12-14T10:19:42.642881Z",
     "start_time": "2021-12-14T10:19:42.640687Z"
    }
   },
   "outputs": [],
   "source": [
    "annotation_file.rename(columns={'wav_filename': 'filename', \n",
    "                                'start_time_s':'begin_time', \n",
    "                                'duration_s': 'call_length'}, inplace=True)"
   ]
  },
  {
   "cell_type": "code",
   "execution_count": null,
   "metadata": {
    "ExecuteTime": {
     "end_time": "2021-12-14T10:19:42.647868Z",
     "start_time": "2021-12-14T10:19:42.643766Z"
    }
   },
   "outputs": [],
   "source": [
    "annotation_file['end_time'] = annotation_file['begin_time'] + annotation_file['call_length']"
   ]
  },
  {
   "cell_type": "code",
   "execution_count": null,
   "metadata": {
    "ExecuteTime": {
     "end_time": "2021-12-14T10:19:42.651368Z",
     "start_time": "2021-12-14T10:19:42.648817Z"
    }
   },
   "outputs": [],
   "source": [
    "annotation_file['label'] = np.ones((len(annotation_file),), dtype=int)"
   ]
  },
  {
   "cell_type": "markdown",
   "metadata": {},
   "source": [
    "#### reorder the columns"
   ]
  },
  {
   "cell_type": "code",
   "execution_count": null,
   "metadata": {
    "ExecuteTime": {
     "end_time": "2021-12-14T10:19:42.654887Z",
     "start_time": "2021-12-14T10:19:42.652217Z"
    }
   },
   "outputs": [],
   "source": [
    "cols = annotation_file.columns.tolist()\n",
    "orig_cols = example_file.columns.tolist()\n",
    "remaining = list(set(cols) - set(orig_cols))\n",
    "new_cols = orig_cols + remaining"
   ]
  },
  {
   "cell_type": "code",
   "execution_count": null,
   "metadata": {
    "ExecuteTime": {
     "end_time": "2021-12-14T10:19:42.659507Z",
     "start_time": "2021-12-14T10:19:42.656518Z"
    }
   },
   "outputs": [],
   "source": [
    "annotation_file = annotation_file[new_cols]"
   ]
  },
  {
   "cell_type": "markdown",
   "metadata": {},
   "source": [
    "#### remove .wav extension from the file names"
   ]
  },
  {
   "cell_type": "code",
   "execution_count": null,
   "metadata": {
    "ExecuteTime": {
     "end_time": "2021-12-14T10:19:42.665554Z",
     "start_time": "2021-12-14T10:19:42.661071Z"
    }
   },
   "outputs": [],
   "source": [
    "name_series = [x.replace('.wav', '') for x in annotation_file['filename']]\n",
    "annotation_file['filename'] = name_series"
   ]
  },
  {
   "cell_type": "markdown",
   "metadata": {},
   "source": [
    "#### remove duplicate lines from the metadata"
   ]
  },
  {
   "cell_type": "code",
   "execution_count": null,
   "metadata": {
    "ExecuteTime": {
     "end_time": "2021-12-14T10:19:42.672996Z",
     "start_time": "2021-12-14T10:19:42.666630Z"
    }
   },
   "outputs": [],
   "source": [
    "annotation_file.drop_duplicates(inplace=True)"
   ]
  },
  {
   "cell_type": "markdown",
   "metadata": {},
   "source": [
    "#### filter out dataset 'podcast_round1' (non-accurate tags) and 'podcast_round3' (highly correlated with test)"
   ]
  },
  {
   "cell_type": "code",
   "execution_count": null,
   "metadata": {
    "ExecuteTime": {
     "end_time": "2021-12-14T10:19:42.677408Z",
     "start_time": "2021-12-14T10:19:42.674095Z"
    }
   },
   "outputs": [],
   "source": [
    "annotation_file = annotation_file[~(annotation_file['dataset'] == 'podcast_round1')]\n",
    "annotation_file = annotation_file[~(annotation_file['dataset'] == 'podcast_round3')]"
   ]
  },
  {
   "cell_type": "markdown",
   "metadata": {},
   "source": [
    "#### make sure end_time is not bigger than audio_len"
   ]
  },
  {
   "cell_type": "code",
   "execution_count": null,
   "metadata": {
    "ExecuteTime": {
     "end_time": "2021-12-14T10:19:43.289477Z",
     "start_time": "2021-12-14T10:19:42.678361Z"
    }
   },
   "outputs": [],
   "source": [
    "for file in set(annotation_file['filename']):\n",
    "    curr_call = annotation_file[annotation_file['filename'] == file]\n",
    "    \n",
    "    max_end = curr_call['end_time'].max()\n",
    "    max_end_idx = curr_call['end_time'].idxmax()\n",
    "    \n",
    "    max_begin = curr_call['begin_time'].max()\n",
    "    max_begin_idx = curr_call['begin_time'].idxmax()\n",
    "    \n",
    "    audio_len = sf.info(f'{wavs_path}/{file}.wav').duration\n",
    "    if max_end > audio_len:\n",
    "        annotation_file.at[max_end_idx, 'end_time'] = audio_len\n",
    "        annotation_file.at[max_end_idx, 'call_length'] = audio_len - annotation_file.at[max_end_idx, 'begin_time']\n",
    "        \n",
    "    if max_begin > audio_len:\n",
    "        annotation_file.drop(index=max_begin_idx, inplace=True)"
   ]
  },
  {
   "cell_type": "markdown",
   "metadata": {},
   "source": [
    "### label bg as bg, solve begin_time and call_len issues"
   ]
  },
  {
   "cell_type": "code",
   "execution_count": null,
   "metadata": {
    "ExecuteTime": {
     "end_time": "2021-12-14T10:19:43.293976Z",
     "start_time": "2021-12-14T10:19:43.290630Z"
    }
   },
   "outputs": [],
   "source": [
    "annotation_file.loc[annotation_file['call_length'] == 0, 'label'] = 0"
   ]
  },
  {
   "cell_type": "code",
   "execution_count": null,
   "metadata": {
    "ExecuteTime": {
     "end_time": "2021-12-14T10:19:43.300189Z",
     "start_time": "2021-12-14T10:19:43.295316Z"
    }
   },
   "outputs": [],
   "source": [
    "bg_files = list(annotation_file[annotation_file['label'] == 0]['filename'])"
   ]
  },
  {
   "cell_type": "code",
   "execution_count": null,
   "metadata": {
    "ExecuteTime": {
     "end_time": "2021-12-14T10:19:43.308314Z",
     "start_time": "2021-12-14T10:19:43.301247Z"
    }
   },
   "outputs": [],
   "source": [
    "len(bg_files)"
   ]
  },
  {
   "cell_type": "markdown",
   "metadata": {},
   "source": [
    "#### filter out duplicates in bg and \"bg\" files that have calls in other rows on the annotation file"
   ]
  },
  {
   "cell_type": "code",
   "execution_count": null,
   "metadata": {
    "ExecuteTime": {
     "end_time": "2021-12-14T10:19:43.668424Z",
     "start_time": "2021-12-14T10:19:43.309329Z"
    }
   },
   "outputs": [],
   "source": [
    "for file in bg_files:\n",
    "    curr_call = annotation_file[annotation_file['filename'] == file]\n",
    "    total_call_len = sum(curr_call['call_length'])\n",
    "    # remove bg files that have calls as well\n",
    "    if total_call_len > 0:\n",
    "        indices = annotation_file[(annotation_file['filename']==file) & (annotation_file['call_length'] == 0)].index\n",
    "        annotation_file.drop(index=indices, inplace=True)\n",
    "\n",
    "bg_files = list(annotation_file[annotation_file['label'] == 0]['filename'])\n",
    "len(bg_files)"
   ]
  },
  {
   "cell_type": "code",
   "execution_count": null,
   "metadata": {
    "ExecuteTime": {
     "end_time": "2021-12-14T10:19:44.220936Z",
     "start_time": "2021-12-14T10:19:43.669466Z"
    }
   },
   "outputs": [],
   "source": [
    "for bg_file in bg_files:\n",
    "    annotation_file.loc[annotation_file['filename'] == bg_file, 'end_time'] = sf.info(f'{wavs_path}/{bg_file}.wav').duration\n",
    "    annotation_file.loc[annotation_file['filename'] == bg_file, 'call_length'] = sf.info(f'{wavs_path}/{bg_file}.wav').duration"
   ]
  },
  {
   "cell_type": "code",
   "execution_count": null,
   "metadata": {
    "ExecuteTime": {
     "end_time": "2021-12-14T10:19:44.347908Z",
     "start_time": "2021-12-14T10:19:44.221969Z"
    }
   },
   "outputs": [],
   "source": [
    "files_3 = list(annotation_file['filename'])\n",
    "srs = []\n",
    "for file in files_3:\n",
    "    srs.append(sf.info(f'{wavs_path}/{file}.wav').samplerate)\n",
    "srs = set(srs)\n",
    "print(srs)\n",
    "assert len(srs)==1, 'Should contain only one sample rate across the dataset!'"
   ]
  },
  {
   "cell_type": "code",
   "execution_count": null,
   "metadata": {
    "ExecuteTime": {
     "end_time": "2021-12-14T10:19:44.362355Z",
     "start_time": "2021-12-14T10:19:44.349129Z"
    }
   },
   "outputs": [],
   "source": [
    "annotation_file.to_csv(output_filename, index=False)"
   ]
  }
 ],
 "metadata": {
  "kernelspec": {
   "display_name": "PyWhale",
   "language": "python",
   "name": "pywhale"
  },
  "language_info": {
   "codemirror_mode": {
    "name": "ipython",
    "version": 3
   },
   "file_extension": ".py",
   "mimetype": "text/x-python",
   "name": "python",
   "nbconvert_exporter": "python",
   "pygments_lexer": "ipython3",
   "version": "3.8.9"
  },
  "toc": {
   "base_numbering": 1,
   "nav_menu": {},
   "number_sections": true,
   "sideBar": true,
   "skip_h1_title": false,
   "title_cell": "Table of Contents",
   "title_sidebar": "Contents",
   "toc_cell": false,
   "toc_position": {},
   "toc_section_display": true,
   "toc_window_display": false
  },
  "varInspector": {
   "cols": {
    "lenName": 16,
    "lenType": 16,
    "lenVar": 40
   },
   "kernels_config": {
    "python": {
     "delete_cmd_postfix": "",
     "delete_cmd_prefix": "del ",
     "library": "var_list.py",
     "varRefreshCmd": "print(var_dic_list())"
    },
    "r": {
     "delete_cmd_postfix": ") ",
     "delete_cmd_prefix": "rm(",
     "library": "var_list.r",
     "varRefreshCmd": "cat(var_dic_list()) "
    }
   },
   "types_to_exclude": [
    "module",
    "function",
    "builtin_function_or_method",
    "instance",
    "_Feature"
   ],
   "window_display": false
  }
 },
 "nbformat": 4,
 "nbformat_minor": 4
}
