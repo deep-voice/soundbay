{
 "cells": [
  {
   "cell_type": "markdown",
   "metadata": {},
   "source": [
    "# imports"
   ]
  },
  {
   "cell_type": "code",
   "execution_count": 200,
   "metadata": {
    "ExecuteTime": {
     "end_time": "2021-12-21T21:41:12.225958Z",
     "start_time": "2021-12-21T21:41:12.090785Z"
    }
   },
   "outputs": [],
   "source": [
    "import pandas as pd\n",
    "import numpy as np\n",
    "import soundfile as sf\n",
    "import os\n",
    "\n",
    "from soundbay.utils.metadata_processing import (reorder_columns_to_default_view, \n",
    "                                       correct_call_times_with_duration,\n",
    "                                       non_overlap_df, bg_from_non_overlap_calls,\n",
    "                                                raven_to_df_annotations,\n",
    "                                               )\n",
    "pd.options.display.max_rows = 1000\n",
    "pd.options.display.max_columns = 1000\n",
    "pd.options.display.max_colwidth = None\n",
    "\n",
    "\n",
    "from IPython.core.interactiveshell import InteractiveShell\n",
    "InteractiveShell.ast_node_interactivity = \"all\""
   ]
  },
  {
   "cell_type": "markdown",
   "metadata": {},
   "source": [
    "# params"
   ]
  },
  {
   "cell_type": "code",
   "execution_count": 201,
   "metadata": {},
   "outputs": [],
   "source": [
    "annotation_dir_path = '/mnt/c/Mine/Code/DeepVoice/active_learning/taggers_results/'\n",
    "# recording_path = '/mnt/c/Mine/heavy_stuff_dont_backup/DeepVoice/data/recordings_2018'\n",
    "\n",
    "# annotation_filename = '180913_081527_sec_60_to_360.Table.1.selections.txt'\n",
    "# annotation_filename = '180913_081527_sec_236_to_536.Table.1.selections.txt'\n",
    "annotation_filename = '180916_120609_sec_1200_to_1500.Table.1.selections.txt'\n",
    "annotation_full_path = os.path.join(annotation_dir_path, annotation_filename)\n",
    "\n",
    "output_filename = '180916_120609_sec_1200_to_1500_adapted.txt'\n",
    "output_full_path = os.path.join(annotation_dir_path, output_filename)"
   ]
  },
  {
   "cell_type": "code",
   "execution_count": 202,
   "metadata": {},
   "outputs": [],
   "source": [
    "train_set_annotations_full_path = '../mozambiqe_2018/combined_annotations_filtered_train.csv'"
   ]
  },
  {
   "cell_type": "markdown",
   "metadata": {},
   "source": [
    "# load & adapt "
   ]
  },
  {
   "cell_type": "markdown",
   "metadata": {},
   "source": [
    "## rename & add fields"
   ]
  },
  {
   "cell_type": "code",
   "execution_count": 203,
   "metadata": {},
   "outputs": [],
   "source": [
    "def load_n_adapt_raven_annotation_table_to_dv_dataset_requirements(annotation_path: str,\n",
    "                                                                   filename_suffix: str = \".Table.1.selections.txt\"\n",
    "                                                                   ) -> pd.DataFrame:\n",
    "    # todo: decide whether to add annotation treatment\n",
    "    df_annotations = pd.read_csv(annotation_path, sep=\"\\t\")\n",
    "    df_annotations['filename'] = os.path.basename(annotation_path).replace(filename_suffix, '')\n",
    "    df_annotations = df_annotations.rename(columns={'Begin Time (s)': 'begin_time', 'End Time (s)': 'end_time'})\n",
    "    df_annotations['call_length'] = df_annotations['end_time'] - df_annotations['begin_time']\n",
    "    return df_annotations"
   ]
  },
  {
   "cell_type": "code",
   "execution_count": 204,
   "metadata": {},
   "outputs": [],
   "source": [
    "df_adapted = load_n_adapt_raven_annotation_table_to_dv_dataset_requirements(annotation_full_path)"
   ]
  },
  {
   "cell_type": "code",
   "execution_count": 205,
   "metadata": {},
   "outputs": [],
   "source": [
    "# df_adapted.to_csv(output_full_path, sep='\\t', index=False)"
   ]
  },
  {
   "cell_type": "markdown",
   "metadata": {},
   "source": [
    "## add label = 1"
   ]
  },
  {
   "cell_type": "code",
   "execution_count": 206,
   "metadata": {},
   "outputs": [],
   "source": [
    "df_adapted['label'] = 1"
   ]
  },
  {
   "cell_type": "markdown",
   "metadata": {},
   "source": [
    "## reorder the columns"
   ]
  },
  {
   "cell_type": "code",
   "execution_count": 207,
   "metadata": {
    "ExecuteTime": {
     "end_time": "2021-12-21T21:41:12.260913Z",
     "start_time": "2021-12-21T21:41:12.256262Z"
    }
   },
   "outputs": [
    {
     "data": {
      "text/plain": [
       "Index(['Selection', 'View', 'Channel', 'begin_time', 'end_time',\n",
       "       'Low Freq (Hz)', 'High Freq (Hz)', 'Annotation', 'filename',\n",
       "       'call_length', 'label'],\n",
       "      dtype='object')"
      ]
     },
     "execution_count": 207,
     "metadata": {},
     "output_type": "execute_result"
    },
    {
     "data": {
      "text/plain": [
       "Index(['begin_time', 'end_time', 'filename', 'call_length', 'label',\n",
       "       'High Freq (Hz)', 'Channel', 'View', 'Annotation', 'Low Freq (Hz)',\n",
       "       'Selection'],\n",
       "      dtype='object')"
      ]
     },
     "execution_count": 207,
     "metadata": {},
     "output_type": "execute_result"
    }
   ],
   "source": [
    "df_adapted.columns\n",
    "df_adapted = reorder_columns_to_default_view(df_adapted)\n",
    "df_adapted.columns"
   ]
  },
  {
   "cell_type": "markdown",
   "metadata": {},
   "source": [
    "## remove duplicate lines from the metadata"
   ]
  },
  {
   "cell_type": "code",
   "execution_count": 208,
   "metadata": {
    "ExecuteTime": {
     "end_time": "2021-12-21T21:41:12.273736Z",
     "start_time": "2021-12-21T21:41:12.267445Z"
    }
   },
   "outputs": [
    {
     "data": {
      "text/plain": [
       "(296, 11)"
      ]
     },
     "execution_count": 208,
     "metadata": {},
     "output_type": "execute_result"
    },
    {
     "name": "stdout",
     "output_type": "stream",
     "text": [
      "Removed duplicated, number of records after filtering: 296\n"
     ]
    }
   ],
   "source": [
    "df_adapted.shape\n",
    "df_adapted.drop_duplicates(inplace=True)\n",
    "print('Removed duplicated, number of records after filtering:', len(df_adapted))"
   ]
  },
  {
   "cell_type": "markdown",
   "metadata": {},
   "source": [
    "## clean filename"
   ]
  },
  {
   "cell_type": "code",
   "execution_count": 209,
   "metadata": {},
   "outputs": [],
   "source": [
    "df_adapted['filename'] = df_adapted.filename.str.split('_sec').apply(lambda x: x[0])"
   ]
  },
  {
   "cell_type": "code",
   "execution_count": 210,
   "metadata": {},
   "outputs": [
    {
     "data": {
      "text/html": [
       "<div>\n",
       "<style scoped>\n",
       "    .dataframe tbody tr th:only-of-type {\n",
       "        vertical-align: middle;\n",
       "    }\n",
       "\n",
       "    .dataframe tbody tr th {\n",
       "        vertical-align: top;\n",
       "    }\n",
       "\n",
       "    .dataframe thead th {\n",
       "        text-align: right;\n",
       "    }\n",
       "</style>\n",
       "<table border=\"1\" class=\"dataframe\">\n",
       "  <thead>\n",
       "    <tr style=\"text-align: right;\">\n",
       "      <th></th>\n",
       "      <th>begin_time</th>\n",
       "      <th>end_time</th>\n",
       "      <th>filename</th>\n",
       "      <th>call_length</th>\n",
       "      <th>label</th>\n",
       "      <th>High Freq (Hz)</th>\n",
       "      <th>Channel</th>\n",
       "      <th>View</th>\n",
       "      <th>Annotation</th>\n",
       "      <th>Low Freq (Hz)</th>\n",
       "      <th>Selection</th>\n",
       "    </tr>\n",
       "  </thead>\n",
       "  <tbody>\n",
       "    <tr>\n",
       "      <th>0</th>\n",
       "      <td>0.156927</td>\n",
       "      <td>0.292456</td>\n",
       "      <td>180916_120609</td>\n",
       "      <td>0.135528</td>\n",
       "      <td>1</td>\n",
       "      <td>752.865</td>\n",
       "      <td>1</td>\n",
       "      <td>Spectrogram 1</td>\n",
       "      <td>NaN</td>\n",
       "      <td>191.406</td>\n",
       "      <td>2</td>\n",
       "    </tr>\n",
       "    <tr>\n",
       "      <th>1</th>\n",
       "      <td>0.570645</td>\n",
       "      <td>1.383814</td>\n",
       "      <td>180916_120609</td>\n",
       "      <td>0.813169</td>\n",
       "      <td>1</td>\n",
       "      <td>382.812</td>\n",
       "      <td>1</td>\n",
       "      <td>Spectrogram 1</td>\n",
       "      <td>NaN</td>\n",
       "      <td>63.802</td>\n",
       "      <td>3</td>\n",
       "    </tr>\n",
       "    <tr>\n",
       "      <th>2</th>\n",
       "      <td>1.198355</td>\n",
       "      <td>1.704802</td>\n",
       "      <td>180916_120609</td>\n",
       "      <td>0.506448</td>\n",
       "      <td>1</td>\n",
       "      <td>816.667</td>\n",
       "      <td>1</td>\n",
       "      <td>Spectrogram 1</td>\n",
       "      <td>NaN</td>\n",
       "      <td>216.927</td>\n",
       "      <td>4</td>\n",
       "    </tr>\n",
       "    <tr>\n",
       "      <th>3</th>\n",
       "      <td>2.525105</td>\n",
       "      <td>4.115778</td>\n",
       "      <td>180916_120609</td>\n",
       "      <td>1.590673</td>\n",
       "      <td>1</td>\n",
       "      <td>1033.594</td>\n",
       "      <td>1</td>\n",
       "      <td>Spectrogram 1</td>\n",
       "      <td>NaN</td>\n",
       "      <td>689.062</td>\n",
       "      <td>5</td>\n",
       "    </tr>\n",
       "    <tr>\n",
       "      <th>4</th>\n",
       "      <td>2.189851</td>\n",
       "      <td>6.284229</td>\n",
       "      <td>180916_120609</td>\n",
       "      <td>4.094379</td>\n",
       "      <td>1</td>\n",
       "      <td>484.896</td>\n",
       "      <td>1</td>\n",
       "      <td>Spectrogram 1</td>\n",
       "      <td>NaN</td>\n",
       "      <td>229.687</td>\n",
       "      <td>6</td>\n",
       "    </tr>\n",
       "  </tbody>\n",
       "</table>\n",
       "</div>"
      ],
      "text/plain": [
       "   begin_time  end_time       filename  call_length  label  High Freq (Hz)  \\\n",
       "0    0.156927  0.292456  180916_120609     0.135528      1         752.865   \n",
       "1    0.570645  1.383814  180916_120609     0.813169      1         382.812   \n",
       "2    1.198355  1.704802  180916_120609     0.506448      1         816.667   \n",
       "3    2.525105  4.115778  180916_120609     1.590673      1        1033.594   \n",
       "4    2.189851  6.284229  180916_120609     4.094379      1         484.896   \n",
       "\n",
       "   Channel           View Annotation  Low Freq (Hz)  Selection  \n",
       "0        1  Spectrogram 1        NaN        191.406          2  \n",
       "1        1  Spectrogram 1        NaN         63.802          3  \n",
       "2        1  Spectrogram 1        NaN        216.927          4  \n",
       "3        1  Spectrogram 1        NaN        689.062          5  \n",
       "4        1  Spectrogram 1        NaN        229.687          6  "
      ]
     },
     "execution_count": 210,
     "metadata": {},
     "output_type": "execute_result"
    }
   ],
   "source": [
    "df_adapted.head()"
   ]
  },
  {
   "cell_type": "markdown",
   "metadata": {},
   "source": [
    "##  extract background"
   ]
  },
  {
   "cell_type": "code",
   "execution_count": 211,
   "metadata": {
    "ExecuteTime": {
     "end_time": "2021-12-21T21:41:19.834542Z",
     "start_time": "2021-12-21T21:41:19.553698Z"
    }
   },
   "outputs": [
    {
     "data": {
      "text/plain": [
       "(296, 11)"
      ]
     },
     "execution_count": 211,
     "metadata": {},
     "output_type": "execute_result"
    },
    {
     "data": {
      "text/plain": [
       "(107, 11)"
      ]
     },
     "execution_count": 211,
     "metadata": {},
     "output_type": "execute_result"
    }
   ],
   "source": [
    "df_adapted.shape\n",
    "df_adapted_no_overlap = non_overlap_df(df_adapted)\n",
    "df_adapted_no_overlap.shape"
   ]
  },
  {
   "cell_type": "code",
   "execution_count": 212,
   "metadata": {},
   "outputs": [
    {
     "data": {
      "text/html": [
       "<div>\n",
       "<style scoped>\n",
       "    .dataframe tbody tr th:only-of-type {\n",
       "        vertical-align: middle;\n",
       "    }\n",
       "\n",
       "    .dataframe tbody tr th {\n",
       "        vertical-align: top;\n",
       "    }\n",
       "\n",
       "    .dataframe thead th {\n",
       "        text-align: right;\n",
       "    }\n",
       "</style>\n",
       "<table border=\"1\" class=\"dataframe\">\n",
       "  <thead>\n",
       "    <tr style=\"text-align: right;\">\n",
       "      <th></th>\n",
       "      <th>begin_time</th>\n",
       "      <th>end_time</th>\n",
       "      <th>filename</th>\n",
       "      <th>call_length</th>\n",
       "      <th>label</th>\n",
       "      <th>High Freq (Hz)</th>\n",
       "      <th>Channel</th>\n",
       "      <th>View</th>\n",
       "      <th>Annotation</th>\n",
       "      <th>Low Freq (Hz)</th>\n",
       "      <th>Selection</th>\n",
       "    </tr>\n",
       "  </thead>\n",
       "  <tbody>\n",
       "    <tr>\n",
       "      <th>0</th>\n",
       "      <td>0.156927</td>\n",
       "      <td>0.292456</td>\n",
       "      <td>180916_120609</td>\n",
       "      <td>0.135528</td>\n",
       "      <td>1</td>\n",
       "      <td>752.865</td>\n",
       "      <td>1</td>\n",
       "      <td>Spectrogram 1</td>\n",
       "      <td>NaN</td>\n",
       "      <td>191.406</td>\n",
       "      <td>2</td>\n",
       "    </tr>\n",
       "    <tr>\n",
       "      <th>1</th>\n",
       "      <td>0.570645</td>\n",
       "      <td>1.383814</td>\n",
       "      <td>180916_120609</td>\n",
       "      <td>0.813169</td>\n",
       "      <td>1</td>\n",
       "      <td>382.812</td>\n",
       "      <td>1</td>\n",
       "      <td>Spectrogram 1</td>\n",
       "      <td>NaN</td>\n",
       "      <td>63.802</td>\n",
       "      <td>3</td>\n",
       "    </tr>\n",
       "    <tr>\n",
       "      <th>2</th>\n",
       "      <td>1.198355</td>\n",
       "      <td>1.704802</td>\n",
       "      <td>180916_120609</td>\n",
       "      <td>0.506448</td>\n",
       "      <td>1</td>\n",
       "      <td>816.667</td>\n",
       "      <td>1</td>\n",
       "      <td>Spectrogram 1</td>\n",
       "      <td>NaN</td>\n",
       "      <td>216.927</td>\n",
       "      <td>4</td>\n",
       "    </tr>\n",
       "    <tr>\n",
       "      <th>3</th>\n",
       "      <td>2.525105</td>\n",
       "      <td>4.115778</td>\n",
       "      <td>180916_120609</td>\n",
       "      <td>1.590673</td>\n",
       "      <td>1</td>\n",
       "      <td>1033.594</td>\n",
       "      <td>1</td>\n",
       "      <td>Spectrogram 1</td>\n",
       "      <td>NaN</td>\n",
       "      <td>689.062</td>\n",
       "      <td>5</td>\n",
       "    </tr>\n",
       "    <tr>\n",
       "      <th>4</th>\n",
       "      <td>2.189851</td>\n",
       "      <td>6.284229</td>\n",
       "      <td>180916_120609</td>\n",
       "      <td>4.094379</td>\n",
       "      <td>1</td>\n",
       "      <td>484.896</td>\n",
       "      <td>1</td>\n",
       "      <td>Spectrogram 1</td>\n",
       "      <td>NaN</td>\n",
       "      <td>229.687</td>\n",
       "      <td>6</td>\n",
       "    </tr>\n",
       "  </tbody>\n",
       "</table>\n",
       "</div>"
      ],
      "text/plain": [
       "   begin_time  end_time       filename  call_length  label  High Freq (Hz)  \\\n",
       "0    0.156927  0.292456  180916_120609     0.135528      1         752.865   \n",
       "1    0.570645  1.383814  180916_120609     0.813169      1         382.812   \n",
       "2    1.198355  1.704802  180916_120609     0.506448      1         816.667   \n",
       "3    2.525105  4.115778  180916_120609     1.590673      1        1033.594   \n",
       "4    2.189851  6.284229  180916_120609     4.094379      1         484.896   \n",
       "\n",
       "   Channel           View Annotation  Low Freq (Hz)  Selection  \n",
       "0        1  Spectrogram 1        NaN        191.406          2  \n",
       "1        1  Spectrogram 1        NaN         63.802          3  \n",
       "2        1  Spectrogram 1        NaN        216.927          4  \n",
       "3        1  Spectrogram 1        NaN        689.062          5  \n",
       "4        1  Spectrogram 1        NaN        229.687          6  "
      ]
     },
     "execution_count": 212,
     "metadata": {},
     "output_type": "execute_result"
    },
    {
     "data": {
      "text/html": [
       "<div>\n",
       "<style scoped>\n",
       "    .dataframe tbody tr th:only-of-type {\n",
       "        vertical-align: middle;\n",
       "    }\n",
       "\n",
       "    .dataframe tbody tr th {\n",
       "        vertical-align: top;\n",
       "    }\n",
       "\n",
       "    .dataframe thead th {\n",
       "        text-align: right;\n",
       "    }\n",
       "</style>\n",
       "<table border=\"1\" class=\"dataframe\">\n",
       "  <thead>\n",
       "    <tr style=\"text-align: right;\">\n",
       "      <th></th>\n",
       "      <th>begin_time</th>\n",
       "      <th>end_time</th>\n",
       "      <th>filename</th>\n",
       "      <th>call_length</th>\n",
       "      <th>label</th>\n",
       "      <th>High Freq (Hz)</th>\n",
       "      <th>Channel</th>\n",
       "      <th>View</th>\n",
       "      <th>Annotation</th>\n",
       "      <th>Low Freq (Hz)</th>\n",
       "      <th>Selection</th>\n",
       "    </tr>\n",
       "  </thead>\n",
       "  <tbody>\n",
       "    <tr>\n",
       "      <th>0</th>\n",
       "      <td>0.156927</td>\n",
       "      <td>0.292456</td>\n",
       "      <td>180916_120609</td>\n",
       "      <td>0.135528</td>\n",
       "      <td>1</td>\n",
       "      <td>752.865</td>\n",
       "      <td>1</td>\n",
       "      <td>Spectrogram 1</td>\n",
       "      <td>NaN</td>\n",
       "      <td>191.406</td>\n",
       "      <td>2</td>\n",
       "    </tr>\n",
       "    <tr>\n",
       "      <th>1</th>\n",
       "      <td>0.570645</td>\n",
       "      <td>1.704802</td>\n",
       "      <td>180916_120609</td>\n",
       "      <td>1.134157</td>\n",
       "      <td>1</td>\n",
       "      <td>382.812</td>\n",
       "      <td>1</td>\n",
       "      <td>Spectrogram 1</td>\n",
       "      <td>NaN</td>\n",
       "      <td>63.802</td>\n",
       "      <td>3</td>\n",
       "    </tr>\n",
       "    <tr>\n",
       "      <th>4</th>\n",
       "      <td>2.189851</td>\n",
       "      <td>6.284229</td>\n",
       "      <td>180916_120609</td>\n",
       "      <td>4.094379</td>\n",
       "      <td>1</td>\n",
       "      <td>484.896</td>\n",
       "      <td>1</td>\n",
       "      <td>Spectrogram 1</td>\n",
       "      <td>NaN</td>\n",
       "      <td>229.687</td>\n",
       "      <td>6</td>\n",
       "    </tr>\n",
       "    <tr>\n",
       "      <th>5</th>\n",
       "      <td>6.312761</td>\n",
       "      <td>8.338551</td>\n",
       "      <td>180916_120609</td>\n",
       "      <td>2.025790</td>\n",
       "      <td>1</td>\n",
       "      <td>791.146</td>\n",
       "      <td>1</td>\n",
       "      <td>Spectrogram 1</td>\n",
       "      <td>NaN</td>\n",
       "      <td>242.448</td>\n",
       "      <td>7</td>\n",
       "    </tr>\n",
       "    <tr>\n",
       "      <th>9</th>\n",
       "      <td>8.645273</td>\n",
       "      <td>9.223051</td>\n",
       "      <td>180916_120609</td>\n",
       "      <td>0.577778</td>\n",
       "      <td>1</td>\n",
       "      <td>778.385</td>\n",
       "      <td>1</td>\n",
       "      <td>Spectrogram 1</td>\n",
       "      <td>NaN</td>\n",
       "      <td>165.885</td>\n",
       "      <td>11</td>\n",
       "    </tr>\n",
       "  </tbody>\n",
       "</table>\n",
       "</div>"
      ],
      "text/plain": [
       "   begin_time  end_time       filename  call_length  label  High Freq (Hz)  \\\n",
       "0    0.156927  0.292456  180916_120609     0.135528      1         752.865   \n",
       "1    0.570645  1.704802  180916_120609     1.134157      1         382.812   \n",
       "4    2.189851  6.284229  180916_120609     4.094379      1         484.896   \n",
       "5    6.312761  8.338551  180916_120609     2.025790      1         791.146   \n",
       "9    8.645273  9.223051  180916_120609     0.577778      1         778.385   \n",
       "\n",
       "   Channel           View Annotation  Low Freq (Hz)  Selection  \n",
       "0        1  Spectrogram 1        NaN        191.406          2  \n",
       "1        1  Spectrogram 1        NaN         63.802          3  \n",
       "4        1  Spectrogram 1        NaN        229.687          6  \n",
       "5        1  Spectrogram 1        NaN        242.448          7  \n",
       "9        1  Spectrogram 1        NaN        165.885         11  "
      ]
     },
     "execution_count": 212,
     "metadata": {},
     "output_type": "execute_result"
    }
   ],
   "source": [
    "df_adapted.head()\n",
    "df_adapted_no_overlap.head()"
   ]
  },
  {
   "cell_type": "code",
   "execution_count": 213,
   "metadata": {
    "ExecuteTime": {
     "end_time": "2021-12-21T21:41:20.094838Z",
     "start_time": "2021-12-21T21:41:19.975994Z"
    }
   },
   "outputs": [
    {
     "data": {
      "text/plain": [
       "(107, 11)"
      ]
     },
     "execution_count": 213,
     "metadata": {},
     "output_type": "execute_result"
    },
    {
     "data": {
      "text/plain": [
       "(213, 11)"
      ]
     },
     "execution_count": 213,
     "metadata": {},
     "output_type": "execute_result"
    }
   ],
   "source": [
    "df_adapted_no_overlap.shape\n",
    "df_adapted_w_bg = bg_from_non_overlap_calls(df_adapted_no_overlap)\n",
    "df_adapted_w_bg.shape\n"
   ]
  },
  {
   "cell_type": "code",
   "execution_count": 214,
   "metadata": {},
   "outputs": [
    {
     "data": {
      "text/html": [
       "<div>\n",
       "<style scoped>\n",
       "    .dataframe tbody tr th:only-of-type {\n",
       "        vertical-align: middle;\n",
       "    }\n",
       "\n",
       "    .dataframe tbody tr th {\n",
       "        vertical-align: top;\n",
       "    }\n",
       "\n",
       "    .dataframe thead th {\n",
       "        text-align: right;\n",
       "    }\n",
       "</style>\n",
       "<table border=\"1\" class=\"dataframe\">\n",
       "  <thead>\n",
       "    <tr style=\"text-align: right;\">\n",
       "      <th></th>\n",
       "      <th>begin_time</th>\n",
       "      <th>end_time</th>\n",
       "      <th>filename</th>\n",
       "      <th>call_length</th>\n",
       "      <th>label</th>\n",
       "      <th>High Freq (Hz)</th>\n",
       "      <th>Channel</th>\n",
       "      <th>View</th>\n",
       "      <th>Annotation</th>\n",
       "      <th>Low Freq (Hz)</th>\n",
       "      <th>Selection</th>\n",
       "    </tr>\n",
       "  </thead>\n",
       "  <tbody>\n",
       "    <tr>\n",
       "      <th>0</th>\n",
       "      <td>0.156927</td>\n",
       "      <td>0.292456</td>\n",
       "      <td>180916_120609</td>\n",
       "      <td>0.135528</td>\n",
       "      <td>1</td>\n",
       "      <td>752.865</td>\n",
       "      <td>1</td>\n",
       "      <td>Spectrogram 1</td>\n",
       "      <td>NaN</td>\n",
       "      <td>191.406</td>\n",
       "      <td>2</td>\n",
       "    </tr>\n",
       "    <tr>\n",
       "      <th>1</th>\n",
       "      <td>0.570645</td>\n",
       "      <td>1.704802</td>\n",
       "      <td>180916_120609</td>\n",
       "      <td>1.134157</td>\n",
       "      <td>1</td>\n",
       "      <td>382.812</td>\n",
       "      <td>1</td>\n",
       "      <td>Spectrogram 1</td>\n",
       "      <td>NaN</td>\n",
       "      <td>63.802</td>\n",
       "      <td>3</td>\n",
       "    </tr>\n",
       "    <tr>\n",
       "      <th>4</th>\n",
       "      <td>2.189851</td>\n",
       "      <td>6.284229</td>\n",
       "      <td>180916_120609</td>\n",
       "      <td>4.094379</td>\n",
       "      <td>1</td>\n",
       "      <td>484.896</td>\n",
       "      <td>1</td>\n",
       "      <td>Spectrogram 1</td>\n",
       "      <td>NaN</td>\n",
       "      <td>229.687</td>\n",
       "      <td>6</td>\n",
       "    </tr>\n",
       "    <tr>\n",
       "      <th>5</th>\n",
       "      <td>6.312761</td>\n",
       "      <td>8.338551</td>\n",
       "      <td>180916_120609</td>\n",
       "      <td>2.025790</td>\n",
       "      <td>1</td>\n",
       "      <td>791.146</td>\n",
       "      <td>1</td>\n",
       "      <td>Spectrogram 1</td>\n",
       "      <td>NaN</td>\n",
       "      <td>242.448</td>\n",
       "      <td>7</td>\n",
       "    </tr>\n",
       "    <tr>\n",
       "      <th>9</th>\n",
       "      <td>8.645273</td>\n",
       "      <td>9.223051</td>\n",
       "      <td>180916_120609</td>\n",
       "      <td>0.577778</td>\n",
       "      <td>1</td>\n",
       "      <td>778.385</td>\n",
       "      <td>1</td>\n",
       "      <td>Spectrogram 1</td>\n",
       "      <td>NaN</td>\n",
       "      <td>165.885</td>\n",
       "      <td>11</td>\n",
       "    </tr>\n",
       "  </tbody>\n",
       "</table>\n",
       "</div>"
      ],
      "text/plain": [
       "   begin_time  end_time       filename  call_length  label  High Freq (Hz)  \\\n",
       "0    0.156927  0.292456  180916_120609     0.135528      1         752.865   \n",
       "1    0.570645  1.704802  180916_120609     1.134157      1         382.812   \n",
       "4    2.189851  6.284229  180916_120609     4.094379      1         484.896   \n",
       "5    6.312761  8.338551  180916_120609     2.025790      1         791.146   \n",
       "9    8.645273  9.223051  180916_120609     0.577778      1         778.385   \n",
       "\n",
       "   Channel           View Annotation  Low Freq (Hz)  Selection  \n",
       "0        1  Spectrogram 1        NaN        191.406          2  \n",
       "1        1  Spectrogram 1        NaN         63.802          3  \n",
       "4        1  Spectrogram 1        NaN        229.687          6  \n",
       "5        1  Spectrogram 1        NaN        242.448          7  \n",
       "9        1  Spectrogram 1        NaN        165.885         11  "
      ]
     },
     "execution_count": 214,
     "metadata": {},
     "output_type": "execute_result"
    },
    {
     "data": {
      "text/html": [
       "<div>\n",
       "<style scoped>\n",
       "    .dataframe tbody tr th:only-of-type {\n",
       "        vertical-align: middle;\n",
       "    }\n",
       "\n",
       "    .dataframe tbody tr th {\n",
       "        vertical-align: top;\n",
       "    }\n",
       "\n",
       "    .dataframe thead th {\n",
       "        text-align: right;\n",
       "    }\n",
       "</style>\n",
       "<table border=\"1\" class=\"dataframe\">\n",
       "  <thead>\n",
       "    <tr style=\"text-align: right;\">\n",
       "      <th></th>\n",
       "      <th>begin_time</th>\n",
       "      <th>end_time</th>\n",
       "      <th>filename</th>\n",
       "      <th>call_length</th>\n",
       "      <th>label</th>\n",
       "      <th>High Freq (Hz)</th>\n",
       "      <th>Channel</th>\n",
       "      <th>View</th>\n",
       "      <th>Annotation</th>\n",
       "      <th>Low Freq (Hz)</th>\n",
       "      <th>Selection</th>\n",
       "    </tr>\n",
       "  </thead>\n",
       "  <tbody>\n",
       "    <tr>\n",
       "      <th>106</th>\n",
       "      <td>0.156927</td>\n",
       "      <td>0.292456</td>\n",
       "      <td>180916_120609</td>\n",
       "      <td>0.135528</td>\n",
       "      <td>1</td>\n",
       "      <td>752.865</td>\n",
       "      <td>1</td>\n",
       "      <td>Spectrogram 1</td>\n",
       "      <td>NaN</td>\n",
       "      <td>191.406</td>\n",
       "      <td>2</td>\n",
       "    </tr>\n",
       "    <tr>\n",
       "      <th>0</th>\n",
       "      <td>0.292456</td>\n",
       "      <td>0.570645</td>\n",
       "      <td>180916_120609</td>\n",
       "      <td>0.278189</td>\n",
       "      <td>0</td>\n",
       "      <td>382.812</td>\n",
       "      <td>1</td>\n",
       "      <td>Spectrogram 1</td>\n",
       "      <td>NaN</td>\n",
       "      <td>63.802</td>\n",
       "      <td>3</td>\n",
       "    </tr>\n",
       "    <tr>\n",
       "      <th>107</th>\n",
       "      <td>0.570645</td>\n",
       "      <td>1.704802</td>\n",
       "      <td>180916_120609</td>\n",
       "      <td>1.134157</td>\n",
       "      <td>1</td>\n",
       "      <td>382.812</td>\n",
       "      <td>1</td>\n",
       "      <td>Spectrogram 1</td>\n",
       "      <td>NaN</td>\n",
       "      <td>63.802</td>\n",
       "      <td>3</td>\n",
       "    </tr>\n",
       "    <tr>\n",
       "      <th>1</th>\n",
       "      <td>1.704802</td>\n",
       "      <td>2.189851</td>\n",
       "      <td>180916_120609</td>\n",
       "      <td>0.485048</td>\n",
       "      <td>0</td>\n",
       "      <td>484.896</td>\n",
       "      <td>1</td>\n",
       "      <td>Spectrogram 1</td>\n",
       "      <td>NaN</td>\n",
       "      <td>229.687</td>\n",
       "      <td>6</td>\n",
       "    </tr>\n",
       "    <tr>\n",
       "      <th>108</th>\n",
       "      <td>2.189851</td>\n",
       "      <td>6.284229</td>\n",
       "      <td>180916_120609</td>\n",
       "      <td>4.094379</td>\n",
       "      <td>1</td>\n",
       "      <td>484.896</td>\n",
       "      <td>1</td>\n",
       "      <td>Spectrogram 1</td>\n",
       "      <td>NaN</td>\n",
       "      <td>229.687</td>\n",
       "      <td>6</td>\n",
       "    </tr>\n",
       "  </tbody>\n",
       "</table>\n",
       "</div>"
      ],
      "text/plain": [
       "     begin_time  end_time       filename  call_length  label  High Freq (Hz)  \\\n",
       "106    0.156927  0.292456  180916_120609     0.135528      1         752.865   \n",
       "0      0.292456  0.570645  180916_120609     0.278189      0         382.812   \n",
       "107    0.570645  1.704802  180916_120609     1.134157      1         382.812   \n",
       "1      1.704802  2.189851  180916_120609     0.485048      0         484.896   \n",
       "108    2.189851  6.284229  180916_120609     4.094379      1         484.896   \n",
       "\n",
       "     Channel           View Annotation  Low Freq (Hz)  Selection  \n",
       "106        1  Spectrogram 1        NaN        191.406          2  \n",
       "0          1  Spectrogram 1        NaN         63.802          3  \n",
       "107        1  Spectrogram 1        NaN         63.802          3  \n",
       "1          1  Spectrogram 1        NaN        229.687          6  \n",
       "108        1  Spectrogram 1        NaN        229.687          6  "
      ]
     },
     "execution_count": 214,
     "metadata": {},
     "output_type": "execute_result"
    }
   ],
   "source": [
    "df_adapted_no_overlap.head()\n",
    "df_adapted_w_bg.sort_values('begin_time').head()"
   ]
  },
  {
   "cell_type": "code",
   "execution_count": 215,
   "metadata": {},
   "outputs": [
    {
     "data": {
      "text/plain": [
       "1    107\n",
       "0    106\n",
       "Name: label, dtype: int64"
      ]
     },
     "execution_count": 215,
     "metadata": {},
     "output_type": "execute_result"
    }
   ],
   "source": [
    "df_adapted_w_bg.label.value_counts()"
   ]
  },
  {
   "cell_type": "markdown",
   "metadata": {},
   "source": [
    "## export"
   ]
  },
  {
   "cell_type": "code",
   "execution_count": 216,
   "metadata": {},
   "outputs": [
    {
     "data": {
      "text/plain": [
       "'/mnt/c/Mine/Code/DeepVoice/active_learning/taggers_results/180916_120609_sec_1200_to_1500_adapted_w_bg_from_calls.csv'"
      ]
     },
     "execution_count": 216,
     "metadata": {},
     "output_type": "execute_result"
    }
   ],
   "source": [
    "output_filename = annotation_filename.split('.')[0] + '_adapted_w_bg_from_calls.csv'\n",
    "output_full_path = os.path.join(annotation_dir_path, output_filename)\n",
    "output_full_path"
   ]
  },
  {
   "cell_type": "code",
   "execution_count": 217,
   "metadata": {},
   "outputs": [],
   "source": [
    "df_adapted_w_bg.to_csv(output_full_path, sep='\\t', index=False)"
   ]
  },
  {
   "cell_type": "code",
   "execution_count": 218,
   "metadata": {},
   "outputs": [
    {
     "data": {
      "text/html": [
       "<div>\n",
       "<style scoped>\n",
       "    .dataframe tbody tr th:only-of-type {\n",
       "        vertical-align: middle;\n",
       "    }\n",
       "\n",
       "    .dataframe tbody tr th {\n",
       "        vertical-align: top;\n",
       "    }\n",
       "\n",
       "    .dataframe thead th {\n",
       "        text-align: right;\n",
       "    }\n",
       "</style>\n",
       "<table border=\"1\" class=\"dataframe\">\n",
       "  <thead>\n",
       "    <tr style=\"text-align: right;\">\n",
       "      <th></th>\n",
       "      <th>begin_time</th>\n",
       "      <th>end_time</th>\n",
       "      <th>filename</th>\n",
       "      <th>call_length</th>\n",
       "      <th>label</th>\n",
       "      <th>High Freq (Hz)</th>\n",
       "      <th>Channel</th>\n",
       "      <th>View</th>\n",
       "      <th>Annotation</th>\n",
       "      <th>Low Freq (Hz)</th>\n",
       "      <th>Selection</th>\n",
       "    </tr>\n",
       "  </thead>\n",
       "  <tbody>\n",
       "    <tr>\n",
       "      <th>0</th>\n",
       "      <td>0.292456</td>\n",
       "      <td>0.570645</td>\n",
       "      <td>180916_120609</td>\n",
       "      <td>0.278189</td>\n",
       "      <td>0</td>\n",
       "      <td>382.812</td>\n",
       "      <td>1</td>\n",
       "      <td>Spectrogram 1</td>\n",
       "      <td>NaN</td>\n",
       "      <td>63.802</td>\n",
       "      <td>3</td>\n",
       "    </tr>\n",
       "    <tr>\n",
       "      <th>1</th>\n",
       "      <td>1.704802</td>\n",
       "      <td>2.189851</td>\n",
       "      <td>180916_120609</td>\n",
       "      <td>0.485048</td>\n",
       "      <td>0</td>\n",
       "      <td>484.896</td>\n",
       "      <td>1</td>\n",
       "      <td>Spectrogram 1</td>\n",
       "      <td>NaN</td>\n",
       "      <td>229.687</td>\n",
       "      <td>6</td>\n",
       "    </tr>\n",
       "    <tr>\n",
       "      <th>2</th>\n",
       "      <td>6.284229</td>\n",
       "      <td>6.312761</td>\n",
       "      <td>180916_120609</td>\n",
       "      <td>0.028532</td>\n",
       "      <td>0</td>\n",
       "      <td>791.146</td>\n",
       "      <td>1</td>\n",
       "      <td>Spectrogram 1</td>\n",
       "      <td>NaN</td>\n",
       "      <td>242.448</td>\n",
       "      <td>7</td>\n",
       "    </tr>\n",
       "    <tr>\n",
       "      <th>3</th>\n",
       "      <td>8.338551</td>\n",
       "      <td>8.645273</td>\n",
       "      <td>180916_120609</td>\n",
       "      <td>0.306722</td>\n",
       "      <td>0</td>\n",
       "      <td>778.385</td>\n",
       "      <td>1</td>\n",
       "      <td>Spectrogram 1</td>\n",
       "      <td>NaN</td>\n",
       "      <td>165.885</td>\n",
       "      <td>11</td>\n",
       "    </tr>\n",
       "    <tr>\n",
       "      <th>4</th>\n",
       "      <td>9.223051</td>\n",
       "      <td>9.893560</td>\n",
       "      <td>180916_120609</td>\n",
       "      <td>0.670509</td>\n",
       "      <td>0</td>\n",
       "      <td>829.427</td>\n",
       "      <td>1</td>\n",
       "      <td>Spectrogram 1</td>\n",
       "      <td>NaN</td>\n",
       "      <td>204.167</td>\n",
       "      <td>12</td>\n",
       "    </tr>\n",
       "  </tbody>\n",
       "</table>\n",
       "</div>"
      ],
      "text/plain": [
       "   begin_time  end_time       filename  call_length  label  High Freq (Hz)  \\\n",
       "0    0.292456  0.570645  180916_120609     0.278189      0         382.812   \n",
       "1    1.704802  2.189851  180916_120609     0.485048      0         484.896   \n",
       "2    6.284229  6.312761  180916_120609     0.028532      0         791.146   \n",
       "3    8.338551  8.645273  180916_120609     0.306722      0         778.385   \n",
       "4    9.223051  9.893560  180916_120609     0.670509      0         829.427   \n",
       "\n",
       "   Channel           View Annotation  Low Freq (Hz)  Selection  \n",
       "0        1  Spectrogram 1        NaN         63.802          3  \n",
       "1        1  Spectrogram 1        NaN        229.687          6  \n",
       "2        1  Spectrogram 1        NaN        242.448          7  \n",
       "3        1  Spectrogram 1        NaN        165.885         11  \n",
       "4        1  Spectrogram 1        NaN        204.167         12  "
      ]
     },
     "execution_count": 218,
     "metadata": {},
     "output_type": "execute_result"
    }
   ],
   "source": [
    "df_adapted_w_bg.head()"
   ]
  },
  {
   "cell_type": "code",
   "execution_count": null,
   "metadata": {},
   "outputs": [],
   "source": []
  },
  {
   "cell_type": "markdown",
   "metadata": {},
   "source": [
    "# concat to train set annotations"
   ]
  },
  {
   "cell_type": "code",
   "execution_count": 219,
   "metadata": {},
   "outputs": [],
   "source": [
    "df_train = pd.read_csv(train_set_annotations_full_path)"
   ]
  },
  {
   "cell_type": "code",
   "execution_count": 220,
   "metadata": {},
   "outputs": [
    {
     "data": {
      "text/html": [
       "<div>\n",
       "<style scoped>\n",
       "    .dataframe tbody tr th:only-of-type {\n",
       "        vertical-align: middle;\n",
       "    }\n",
       "\n",
       "    .dataframe tbody tr th {\n",
       "        vertical-align: top;\n",
       "    }\n",
       "\n",
       "    .dataframe thead th {\n",
       "        text-align: right;\n",
       "    }\n",
       "</style>\n",
       "<table border=\"1\" class=\"dataframe\">\n",
       "  <thead>\n",
       "    <tr style=\"text-align: right;\">\n",
       "      <th></th>\n",
       "      <th>begin_time</th>\n",
       "      <th>end_time</th>\n",
       "      <th>filename</th>\n",
       "      <th>call_length</th>\n",
       "      <th>label</th>\n",
       "    </tr>\n",
       "  </thead>\n",
       "  <tbody>\n",
       "    <tr>\n",
       "      <th>0</th>\n",
       "      <td>0.786270</td>\n",
       "      <td>0.807425</td>\n",
       "      <td>180912_073707</td>\n",
       "      <td>0.021155</td>\n",
       "      <td>0</td>\n",
       "    </tr>\n",
       "    <tr>\n",
       "      <th>1</th>\n",
       "      <td>1.241107</td>\n",
       "      <td>2.221300</td>\n",
       "      <td>180912_073707</td>\n",
       "      <td>0.980193</td>\n",
       "      <td>1</td>\n",
       "    </tr>\n",
       "    <tr>\n",
       "      <th>2</th>\n",
       "      <td>2.799544</td>\n",
       "      <td>2.824225</td>\n",
       "      <td>180912_073707</td>\n",
       "      <td>0.024681</td>\n",
       "      <td>0</td>\n",
       "    </tr>\n",
       "    <tr>\n",
       "      <th>3</th>\n",
       "      <td>4.040651</td>\n",
       "      <td>4.090013</td>\n",
       "      <td>180912_073707</td>\n",
       "      <td>0.049362</td>\n",
       "      <td>0</td>\n",
       "    </tr>\n",
       "    <tr>\n",
       "      <th>4</th>\n",
       "      <td>4.414394</td>\n",
       "      <td>4.516644</td>\n",
       "      <td>180912_073707</td>\n",
       "      <td>0.102250</td>\n",
       "      <td>0</td>\n",
       "    </tr>\n",
       "    <tr>\n",
       "      <th>...</th>\n",
       "      <td>...</td>\n",
       "      <td>...</td>\n",
       "      <td>...</td>\n",
       "      <td>...</td>\n",
       "      <td>...</td>\n",
       "    </tr>\n",
       "    <tr>\n",
       "      <th>2584</th>\n",
       "      <td>380.206581</td>\n",
       "      <td>380.743225</td>\n",
       "      <td>180916_112552</td>\n",
       "      <td>0.536645</td>\n",
       "      <td>1</td>\n",
       "    </tr>\n",
       "    <tr>\n",
       "      <th>2585</th>\n",
       "      <td>380.923992</td>\n",
       "      <td>381.358955</td>\n",
       "      <td>180916_112552</td>\n",
       "      <td>0.434962</td>\n",
       "      <td>1</td>\n",
       "    </tr>\n",
       "    <tr>\n",
       "      <th>2586</th>\n",
       "      <td>381.511475</td>\n",
       "      <td>385.556081</td>\n",
       "      <td>180916_112552</td>\n",
       "      <td>4.044606</td>\n",
       "      <td>1</td>\n",
       "    </tr>\n",
       "    <tr>\n",
       "      <th>2587</th>\n",
       "      <td>386.092719</td>\n",
       "      <td>391.425273</td>\n",
       "      <td>180916_112552</td>\n",
       "      <td>5.332554</td>\n",
       "      <td>1</td>\n",
       "    </tr>\n",
       "    <tr>\n",
       "      <th>2588</th>\n",
       "      <td>391.905428</td>\n",
       "      <td>392.690624</td>\n",
       "      <td>180916_112552</td>\n",
       "      <td>0.785196</td>\n",
       "      <td>1</td>\n",
       "    </tr>\n",
       "  </tbody>\n",
       "</table>\n",
       "<p>2589 rows × 5 columns</p>\n",
       "</div>"
      ],
      "text/plain": [
       "      begin_time    end_time       filename  call_length  label\n",
       "0       0.786270    0.807425  180912_073707     0.021155      0\n",
       "1       1.241107    2.221300  180912_073707     0.980193      1\n",
       "2       2.799544    2.824225  180912_073707     0.024681      0\n",
       "3       4.040651    4.090013  180912_073707     0.049362      0\n",
       "4       4.414394    4.516644  180912_073707     0.102250      0\n",
       "...          ...         ...            ...          ...    ...\n",
       "2584  380.206581  380.743225  180916_112552     0.536645      1\n",
       "2585  380.923992  381.358955  180916_112552     0.434962      1\n",
       "2586  381.511475  385.556081  180916_112552     4.044606      1\n",
       "2587  386.092719  391.425273  180916_112552     5.332554      1\n",
       "2588  391.905428  392.690624  180916_112552     0.785196      1\n",
       "\n",
       "[2589 rows x 5 columns]"
      ]
     },
     "execution_count": 220,
     "metadata": {},
     "output_type": "execute_result"
    }
   ],
   "source": [
    "df_train"
   ]
  },
  {
   "cell_type": "code",
   "execution_count": 221,
   "metadata": {},
   "outputs": [],
   "source": [
    "df_train_plus_new = pd.concat([df_train, df_adapted_w_bg], join='inner', ignore_index=True)"
   ]
  },
  {
   "cell_type": "code",
   "execution_count": 222,
   "metadata": {},
   "outputs": [
    {
     "data": {
      "text/plain": [
       "(2802, 5)"
      ]
     },
     "execution_count": 222,
     "metadata": {},
     "output_type": "execute_result"
    },
    {
     "data": {
      "text/plain": [
       "(2589, 5)"
      ]
     },
     "execution_count": 222,
     "metadata": {},
     "output_type": "execute_result"
    },
    {
     "data": {
      "text/plain": [
       "(213, 11)"
      ]
     },
     "execution_count": 222,
     "metadata": {},
     "output_type": "execute_result"
    }
   ],
   "source": [
    "df_train_plus_new.shape\n",
    "df_train.shape\n",
    "df_adapted_w_bg.shape"
   ]
  },
  {
   "cell_type": "code",
   "execution_count": 223,
   "metadata": {},
   "outputs": [
    {
     "data": {
      "text/html": [
       "<div>\n",
       "<style scoped>\n",
       "    .dataframe tbody tr th:only-of-type {\n",
       "        vertical-align: middle;\n",
       "    }\n",
       "\n",
       "    .dataframe tbody tr th {\n",
       "        vertical-align: top;\n",
       "    }\n",
       "\n",
       "    .dataframe thead th {\n",
       "        text-align: right;\n",
       "    }\n",
       "</style>\n",
       "<table border=\"1\" class=\"dataframe\">\n",
       "  <thead>\n",
       "    <tr style=\"text-align: right;\">\n",
       "      <th></th>\n",
       "      <th>begin_time</th>\n",
       "      <th>end_time</th>\n",
       "      <th>filename</th>\n",
       "      <th>call_length</th>\n",
       "      <th>label</th>\n",
       "    </tr>\n",
       "  </thead>\n",
       "  <tbody>\n",
       "    <tr>\n",
       "      <th>397</th>\n",
       "      <td>599.680480</td>\n",
       "      <td>601.116970</td>\n",
       "      <td>180912_083838</td>\n",
       "      <td>1.436491</td>\n",
       "      <td>1</td>\n",
       "    </tr>\n",
       "    <tr>\n",
       "      <th>373</th>\n",
       "      <td>491.006842</td>\n",
       "      <td>491.069510</td>\n",
       "      <td>180912_083838</td>\n",
       "      <td>0.062669</td>\n",
       "      <td>1</td>\n",
       "    </tr>\n",
       "    <tr>\n",
       "      <th>858</th>\n",
       "      <td>746.461868</td>\n",
       "      <td>746.883143</td>\n",
       "      <td>180912_092922</td>\n",
       "      <td>0.421275</td>\n",
       "      <td>0</td>\n",
       "    </tr>\n",
       "    <tr>\n",
       "      <th>2244</th>\n",
       "      <td>920.962251</td>\n",
       "      <td>922.319954</td>\n",
       "      <td>180912_092922</td>\n",
       "      <td>1.357704</td>\n",
       "      <td>1</td>\n",
       "    </tr>\n",
       "    <tr>\n",
       "      <th>185</th>\n",
       "      <td>396.677489</td>\n",
       "      <td>397.374710</td>\n",
       "      <td>180912_075945</td>\n",
       "      <td>0.697221</td>\n",
       "      <td>0</td>\n",
       "    </tr>\n",
       "    <tr>\n",
       "      <th>2759</th>\n",
       "      <td>156.250081</td>\n",
       "      <td>158.839383</td>\n",
       "      <td>180916_120609</td>\n",
       "      <td>2.589302</td>\n",
       "      <td>1</td>\n",
       "    </tr>\n",
       "    <tr>\n",
       "      <th>1862</th>\n",
       "      <td>979.573415</td>\n",
       "      <td>981.331182</td>\n",
       "      <td>180912_083838</td>\n",
       "      <td>1.757767</td>\n",
       "      <td>1</td>\n",
       "    </tr>\n",
       "    <tr>\n",
       "      <th>1668</th>\n",
       "      <td>371.929546</td>\n",
       "      <td>372.276668</td>\n",
       "      <td>180912_083838</td>\n",
       "      <td>0.347122</td>\n",
       "      <td>1</td>\n",
       "    </tr>\n",
       "    <tr>\n",
       "      <th>1299</th>\n",
       "      <td>337.777788</td>\n",
       "      <td>338.161913</td>\n",
       "      <td>180916_112552</td>\n",
       "      <td>0.384125</td>\n",
       "      <td>0</td>\n",
       "    </tr>\n",
       "    <tr>\n",
       "      <th>729</th>\n",
       "      <td>446.661438</td>\n",
       "      <td>446.867019</td>\n",
       "      <td>180912_092922</td>\n",
       "      <td>0.205582</td>\n",
       "      <td>0</td>\n",
       "    </tr>\n",
       "    <tr>\n",
       "      <th>1962</th>\n",
       "      <td>216.161749</td>\n",
       "      <td>216.507682</td>\n",
       "      <td>180912_092922</td>\n",
       "      <td>0.345933</td>\n",
       "      <td>1</td>\n",
       "    </tr>\n",
       "    <tr>\n",
       "      <th>2406</th>\n",
       "      <td>3189.917704</td>\n",
       "      <td>3191.423307</td>\n",
       "      <td>180914_125804</td>\n",
       "      <td>1.505603</td>\n",
       "      <td>1</td>\n",
       "    </tr>\n",
       "    <tr>\n",
       "      <th>2685</th>\n",
       "      <td>270.364140</td>\n",
       "      <td>272.646721</td>\n",
       "      <td>180916_120609</td>\n",
       "      <td>2.282580</td>\n",
       "      <td>0</td>\n",
       "    </tr>\n",
       "    <tr>\n",
       "      <th>1495</th>\n",
       "      <td>364.611792</td>\n",
       "      <td>365.338682</td>\n",
       "      <td>180912_075945</td>\n",
       "      <td>0.726889</td>\n",
       "      <td>1</td>\n",
       "    </tr>\n",
       "    <tr>\n",
       "      <th>1583</th>\n",
       "      <td>52.057630</td>\n",
       "      <td>52.468280</td>\n",
       "      <td>180912_083838</td>\n",
       "      <td>0.410650</td>\n",
       "      <td>1</td>\n",
       "    </tr>\n",
       "    <tr>\n",
       "      <th>1736</th>\n",
       "      <td>620.446586</td>\n",
       "      <td>630.561875</td>\n",
       "      <td>180912_083838</td>\n",
       "      <td>10.115289</td>\n",
       "      <td>1</td>\n",
       "    </tr>\n",
       "    <tr>\n",
       "      <th>2285</th>\n",
       "      <td>987.905968</td>\n",
       "      <td>988.495160</td>\n",
       "      <td>180912_092922</td>\n",
       "      <td>0.589192</td>\n",
       "      <td>1</td>\n",
       "    </tr>\n",
       "    <tr>\n",
       "      <th>1199</th>\n",
       "      <td>90.208840</td>\n",
       "      <td>90.264761</td>\n",
       "      <td>180916_112552</td>\n",
       "      <td>0.055921</td>\n",
       "      <td>0</td>\n",
       "    </tr>\n",
       "    <tr>\n",
       "      <th>1111</th>\n",
       "      <td>1638.667647</td>\n",
       "      <td>1644.352113</td>\n",
       "      <td>180914_125804</td>\n",
       "      <td>5.684466</td>\n",
       "      <td>0</td>\n",
       "    </tr>\n",
       "    <tr>\n",
       "      <th>1168</th>\n",
       "      <td>8.635826</td>\n",
       "      <td>8.643814</td>\n",
       "      <td>180916_112552</td>\n",
       "      <td>0.007989</td>\n",
       "      <td>0</td>\n",
       "    </tr>\n",
       "  </tbody>\n",
       "</table>\n",
       "</div>"
      ],
      "text/plain": [
       "       begin_time     end_time       filename  call_length  label\n",
       "397    599.680480   601.116970  180912_083838     1.436491      1\n",
       "373    491.006842   491.069510  180912_083838     0.062669      1\n",
       "858    746.461868   746.883143  180912_092922     0.421275      0\n",
       "2244   920.962251   922.319954  180912_092922     1.357704      1\n",
       "185    396.677489   397.374710  180912_075945     0.697221      0\n",
       "2759   156.250081   158.839383  180916_120609     2.589302      1\n",
       "1862   979.573415   981.331182  180912_083838     1.757767      1\n",
       "1668   371.929546   372.276668  180912_083838     0.347122      1\n",
       "1299   337.777788   338.161913  180916_112552     0.384125      0\n",
       "729    446.661438   446.867019  180912_092922     0.205582      0\n",
       "1962   216.161749   216.507682  180912_092922     0.345933      1\n",
       "2406  3189.917704  3191.423307  180914_125804     1.505603      1\n",
       "2685   270.364140   272.646721  180916_120609     2.282580      0\n",
       "1495   364.611792   365.338682  180912_075945     0.726889      1\n",
       "1583    52.057630    52.468280  180912_083838     0.410650      1\n",
       "1736   620.446586   630.561875  180912_083838    10.115289      1\n",
       "2285   987.905968   988.495160  180912_092922     0.589192      1\n",
       "1199    90.208840    90.264761  180916_112552     0.055921      0\n",
       "1111  1638.667647  1644.352113  180914_125804     5.684466      0\n",
       "1168     8.635826     8.643814  180916_112552     0.007989      0"
      ]
     },
     "execution_count": 223,
     "metadata": {},
     "output_type": "execute_result"
    }
   ],
   "source": [
    "df_train_plus_new.sample(20)"
   ]
  },
  {
   "cell_type": "markdown",
   "metadata": {},
   "source": [
    "## export"
   ]
  },
  {
   "cell_type": "code",
   "execution_count": 224,
   "metadata": {},
   "outputs": [
    {
     "data": {
      "text/plain": [
       "'180916_120609_sec_1200_to_1500_adapted_w_bg_from_calls.csv'"
      ]
     },
     "execution_count": 224,
     "metadata": {},
     "output_type": "execute_result"
    }
   ],
   "source": [
    "output_filename"
   ]
  },
  {
   "cell_type": "code",
   "execution_count": 225,
   "metadata": {},
   "outputs": [
    {
     "data": {
      "text/plain": [
       "'/mnt/c/Mine/Code/DeepVoice/active_learning/taggers_results/train_annotations_plus_180916_120609_sec_1200_to_1500.csv'"
      ]
     },
     "execution_count": 225,
     "metadata": {},
     "output_type": "execute_result"
    }
   ],
   "source": [
    "output_filename_w_train = 'train_annotations_plus_' + annotation_filename.split('.')[0] + '.csv'\n",
    "output_full_path = os.path.join(annotation_dir_path, output_filename_w_train)\n",
    "output_full_path"
   ]
  },
  {
   "cell_type": "code",
   "execution_count": 226,
   "metadata": {},
   "outputs": [],
   "source": [
    "df_train_plus_new.to_csv(output_full_path, sep='\\t', index=False)"
   ]
  },
  {
   "cell_type": "code",
   "execution_count": 227,
   "metadata": {},
   "outputs": [
    {
     "data": {
      "text/html": [
       "<div>\n",
       "<style scoped>\n",
       "    .dataframe tbody tr th:only-of-type {\n",
       "        vertical-align: middle;\n",
       "    }\n",
       "\n",
       "    .dataframe tbody tr th {\n",
       "        vertical-align: top;\n",
       "    }\n",
       "\n",
       "    .dataframe thead th {\n",
       "        text-align: right;\n",
       "    }\n",
       "</style>\n",
       "<table border=\"1\" class=\"dataframe\">\n",
       "  <thead>\n",
       "    <tr style=\"text-align: right;\">\n",
       "      <th></th>\n",
       "      <th>begin_time</th>\n",
       "      <th>end_time</th>\n",
       "      <th>call_length</th>\n",
       "      <th>label</th>\n",
       "    </tr>\n",
       "  </thead>\n",
       "  <tbody>\n",
       "    <tr>\n",
       "      <th>count</th>\n",
       "      <td>2802.000000</td>\n",
       "      <td>2802.000000</td>\n",
       "      <td>2802.000000</td>\n",
       "      <td>2802.000000</td>\n",
       "    </tr>\n",
       "    <tr>\n",
       "      <th>mean</th>\n",
       "      <td>463.722047</td>\n",
       "      <td>465.050143</td>\n",
       "      <td>1.328097</td>\n",
       "      <td>0.602070</td>\n",
       "    </tr>\n",
       "    <tr>\n",
       "      <th>std</th>\n",
       "      <td>488.719134</td>\n",
       "      <td>488.767041</td>\n",
       "      <td>1.905055</td>\n",
       "      <td>0.489558</td>\n",
       "    </tr>\n",
       "    <tr>\n",
       "      <th>min</th>\n",
       "      <td>0.000000</td>\n",
       "      <td>0.292456</td>\n",
       "      <td>0.000000</td>\n",
       "      <td>0.000000</td>\n",
       "    </tr>\n",
       "    <tr>\n",
       "      <th>25%</th>\n",
       "      <td>140.323203</td>\n",
       "      <td>141.454128</td>\n",
       "      <td>0.307601</td>\n",
       "      <td>0.000000</td>\n",
       "    </tr>\n",
       "    <tr>\n",
       "      <th>50%</th>\n",
       "      <td>340.620740</td>\n",
       "      <td>342.079567</td>\n",
       "      <td>0.711085</td>\n",
       "      <td>1.000000</td>\n",
       "    </tr>\n",
       "    <tr>\n",
       "      <th>75%</th>\n",
       "      <td>702.216507</td>\n",
       "      <td>702.892669</td>\n",
       "      <td>1.719906</td>\n",
       "      <td>1.000000</td>\n",
       "    </tr>\n",
       "    <tr>\n",
       "      <th>max</th>\n",
       "      <td>3238.116638</td>\n",
       "      <td>3239.837327</td>\n",
       "      <td>46.153593</td>\n",
       "      <td>1.000000</td>\n",
       "    </tr>\n",
       "  </tbody>\n",
       "</table>\n",
       "</div>"
      ],
      "text/plain": [
       "        begin_time     end_time  call_length        label\n",
       "count  2802.000000  2802.000000  2802.000000  2802.000000\n",
       "mean    463.722047   465.050143     1.328097     0.602070\n",
       "std     488.719134   488.767041     1.905055     0.489558\n",
       "min       0.000000     0.292456     0.000000     0.000000\n",
       "25%     140.323203   141.454128     0.307601     0.000000\n",
       "50%     340.620740   342.079567     0.711085     1.000000\n",
       "75%     702.216507   702.892669     1.719906     1.000000\n",
       "max    3238.116638  3239.837327    46.153593     1.000000"
      ]
     },
     "execution_count": 227,
     "metadata": {},
     "output_type": "execute_result"
    }
   ],
   "source": [
    "df_train_plus_new.describe()"
   ]
  },
  {
   "cell_type": "code",
   "execution_count": null,
   "metadata": {},
   "outputs": [],
   "source": []
  }
 ],
 "metadata": {
  "kernelspec": {
   "display_name": "soundbay",
   "language": "python",
   "name": "soundbay"
  },
  "language_info": {
   "codemirror_mode": {
    "name": "ipython",
    "version": 3
   },
   "file_extension": ".py",
   "mimetype": "text/x-python",
   "name": "python",
   "nbconvert_exporter": "python",
   "pygments_lexer": "ipython3",
   "version": "3.8.2"
  },
  "toc": {
   "base_numbering": 1,
   "nav_menu": {},
   "number_sections": true,
   "sideBar": true,
   "skip_h1_title": false,
   "title_cell": "Table of Contents",
   "title_sidebar": "Contents",
   "toc_cell": false,
   "toc_position": {
    "height": "calc(100% - 180px)",
    "left": "10px",
    "top": "150px",
    "width": "281.6px"
   },
   "toc_section_display": true,
   "toc_window_display": true
  },
  "varInspector": {
   "cols": {
    "lenName": 16,
    "lenType": 16,
    "lenVar": 40
   },
   "kernels_config": {
    "python": {
     "delete_cmd_postfix": "",
     "delete_cmd_prefix": "del ",
     "library": "var_list.py",
     "varRefreshCmd": "print(var_dic_list())"
    },
    "r": {
     "delete_cmd_postfix": ") ",
     "delete_cmd_prefix": "rm(",
     "library": "var_list.r",
     "varRefreshCmd": "cat(var_dic_list()) "
    }
   },
   "types_to_exclude": [
    "module",
    "function",
    "builtin_function_or_method",
    "instance",
    "_Feature"
   ],
   "window_display": false
  }
 },
 "nbformat": 4,
 "nbformat_minor": 4
}
