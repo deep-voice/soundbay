{
 "cells": [
  {
   "cell_type": "code",
   "execution_count": null,
   "id": "765d7ac0-b323-4281-9a53-0c391cd5ee00",
   "metadata": {},
   "outputs": [],
   "source": [
    "import pandas as pd\n",
    "import soundfile as sf\n",
    "from pathlib import Path\n",
    "import numpy as np\n",
    "from soundbay.utils.metadata_processing import correct_call_times_with_duration, reorder_columns_to_default_view\n",
    "from sklearn.preprocessing import LabelEncoder\n",
    "from sklearn.model_selection import train_test_split"
   ]
  },
  {
   "cell_type": "code",
   "execution_count": null,
   "id": "a6f41f24-239c-4175-976e-f418c6312f01",
   "metadata": {},
   "outputs": [],
   "source": [
    "audio_folder = 'raw_data'\n",
    "csv_paths = list(Path('.').glob('*xlsx'))\n",
    "rename_dict = {\"filename (CINEA)\": \"filename\", \"Filename \": \"filename\", \"Filename\": \"filename\", \"duration (sec)\": \"call_length\"}\n",
    "all_csv = []\n",
    "for csv_path in csv_paths:\n",
    "    csv = pd.read_excel(csv_path)\n",
    "    csv = csv.rename(columns=rename_dict)\n",
    "    all_csv.append(csv)\n",
    "input_csv = pd.concat(all_csv, ignore_index=True)"
   ]
  },
  {
   "cell_type": "code",
   "execution_count": null,
   "id": "f3307a53-cd26-4b49-8a26-cedaa96171ea",
   "metadata": {},
   "outputs": [],
   "source": [
    "input_csv = input_csv[~(input_csv['Species'] == \"Delphinapterus leucas\")]"
   ]
  },
  {
   "cell_type": "code",
   "execution_count": null,
   "id": "7e0ff611-0bbf-4c40-85cf-bc1313ea6aea",
   "metadata": {},
   "outputs": [],
   "source": [
    "input_csv['begin_time'] = np.zeros(len(input_csv))\n",
    "input_csv['end_time'] = np.zeros(len(input_csv))\n",
    "input_csv['end_time'][input_csv[\"call_length\"] == 10] = 6\n",
    "input_csv['end_time'][~(input_csv[\"call_length\"] == 10)] = 15"
   ]
  },
  {
   "cell_type": "code",
   "execution_count": null,
   "id": "bf6ea0d3-2d0b-4687-bed7-bfe32021afb6",
   "metadata": {},
   "outputs": [],
   "source": [
    "input_csv = correct_call_times_with_duration(input_csv, audio_folder)\n",
    "input_csv['call_length'] = input_csv['end_time'] - input_csv['begin_time']"
   ]
  },
  {
   "cell_type": "code",
   "execution_count": null,
   "id": "b27f7a1f-5654-4e73-9a55-3b1168601c40",
   "metadata": {},
   "outputs": [],
   "source": [
    "le = LabelEncoder()\n",
    "input_csv['label'] = le.fit_transform(input_csv['Species'])"
   ]
  },
  {
   "cell_type": "code",
   "execution_count": null,
   "id": "1c6d2df2-f011-4038-af73-62e25b503efd",
   "metadata": {},
   "outputs": [],
   "source": [
    "input_csv = reorder_columns_to_default_view(input_csv)"
   ]
  },
  {
   "cell_type": "code",
   "execution_count": null,
   "id": "06e8545a-47e1-4d2e-9cf8-774140002488",
   "metadata": {},
   "outputs": [],
   "source": [
    "training_set = []\n",
    "val_set = []\n",
    "for label, group in input_csv.groupby('label'):\n",
    "    train, val = train_test_split(group, test_size=0.15)\n",
    "    training_set.append(train)\n",
    "    val_set.append(val)\n",
    "training_csv = pd.concat(training_set, ignore_index=True)\n",
    "val_csv = pd.concat(val_set, ignore_index=True)\n",
    "print(training_csv.label.value_counts())\n",
    "print(val_csv.label.value_counts())"
   ]
  },
  {
   "cell_type": "code",
   "execution_count": null,
   "id": "69ac11bd-97da-45f2-98c8-504ffbbcdeb9",
   "metadata": {},
   "outputs": [],
   "source": [
    "training_csv.to_csv('train.csv', index=False)\n",
    "val_csv.to_csv('val.csv', index=False)\n",
    "np.save('classes.npy', le.classes_)"
   ]
  }
 ],
 "metadata": {
  "kernelspec": {
   "display_name": "PyWhale",
   "language": "python",
   "name": "pywhale"
  },
  "language_info": {
   "codemirror_mode": {
    "name": "ipython",
    "version": 3
   },
   "file_extension": ".py",
   "mimetype": "text/x-python",
   "name": "python",
   "nbconvert_exporter": "python",
   "pygments_lexer": "ipython3",
   "version": "3.8.10"
  }
 },
 "nbformat": 4,
 "nbformat_minor": 5
}
