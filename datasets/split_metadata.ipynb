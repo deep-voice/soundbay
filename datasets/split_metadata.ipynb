{
 "cells": [
  {
   "cell_type": "code",
   "execution_count": 15,
   "metadata": {
    "ExecuteTime": {
     "end_time": "2021-05-24T15:34:09.206987Z",
     "start_time": "2021-05-24T15:34:09.200359Z"
    }
   },
   "outputs": [],
   "source": [
    "import pandas as pd\n",
    "import numpy as np\n",
    "import soundfile as sf\n",
    "import warnings"
   ]
  },
  {
   "cell_type": "code",
   "execution_count": 16,
   "metadata": {
    "ExecuteTime": {
     "end_time": "2021-05-24T15:34:09.726944Z",
     "start_time": "2021-05-24T15:34:09.693861Z"
    }
   },
   "outputs": [],
   "source": [
    "raw_metadata_path = 'orcasound/orcasound_reformated.csv'\n",
    "splited_metadata_path = 'orcasound/orcasound_train_val_splits.csv'\n",
    "\n",
    "metadata = pd.read_csv(raw_metadata_path)"
   ]
  },
  {
   "cell_type": "code",
   "execution_count": 17,
   "metadata": {
    "ExecuteTime": {
     "end_time": "2021-05-24T15:34:11.968706Z",
     "start_time": "2021-05-24T15:34:11.964311Z"
    }
   },
   "outputs": [],
   "source": [
    "def calc_sum_column(df, label, column_name='call_length'):\n",
    "    return sum(df[df['label']==label][column_name])\n",
    "\n",
    "def add_train_val_split(df, add_new_column=True, val_ratio=0.1):\n",
    "    assert val_ratio < 1, 'val ratio should be smaller than 1'\n",
    "    if add_new_column:\n",
    "        if 'split_type' in df.columns:\n",
    "            warnings.warn('trying to update existing split, abort!')\n",
    "            return df\n",
    "        df['split_type'] = \"\"\n",
    "    for label in (0, 1):\n",
    "        total_len = calc_sum_column(df, label, 'call_length')\n",
    "        total_val = 0\n",
    "        for it in df[df['label']==label].index:\n",
    "            df.at[it, 'split_type'] = 'val'\n",
    "            total_val += df.at[it, 'call_length']\n",
    "            if total_val >= total_len * val_ratio:\n",
    "                break\n",
    "        df.at[(df['label']==label) & (df['split_type']==''), 'split_type'] = 'train'\n",
    "    return df\n",
    "\n"
   ]
  },
  {
   "cell_type": "code",
   "execution_count": 18,
   "metadata": {
    "ExecuteTime": {
     "end_time": "2021-05-24T15:34:12.892924Z",
     "start_time": "2021-05-24T15:34:12.864952Z"
    }
   },
   "outputs": [],
   "source": [
    "metadata = add_train_val_split(metadata)"
   ]
  },
  {
   "cell_type": "code",
   "execution_count": 19,
   "metadata": {
    "ExecuteTime": {
     "end_time": "2021-05-24T15:34:14.115422Z",
     "start_time": "2021-05-24T15:34:14.089122Z"
    }
   },
   "outputs": [],
   "source": [
    "metadata.to_csv(splited_metadata_path, index=False)"
   ]
  }
 ],
 "metadata": {
  "kernelspec": {
   "display_name": "PyWhale",
   "language": "python",
   "name": "pywhale"
  },
  "language_info": {
   "codemirror_mode": {
    "name": "ipython",
    "version": 3
   },
   "file_extension": ".py",
   "mimetype": "text/x-python",
   "name": "python",
   "nbconvert_exporter": "python",
   "pygments_lexer": "ipython3",
   "version": "3.8.9"
  },
  "toc": {
   "base_numbering": 1,
   "nav_menu": {},
   "number_sections": true,
   "sideBar": true,
   "skip_h1_title": false,
   "title_cell": "Table of Contents",
   "title_sidebar": "Contents",
   "toc_cell": false,
   "toc_position": {},
   "toc_section_display": true,
   "toc_window_display": false
  },
  "varInspector": {
   "cols": {
    "lenName": 16,
    "lenType": 16,
    "lenVar": 40
   },
   "kernels_config": {
    "python": {
     "delete_cmd_postfix": "",
     "delete_cmd_prefix": "del ",
     "library": "var_list.py",
     "varRefreshCmd": "print(var_dic_list())"
    },
    "r": {
     "delete_cmd_postfix": ") ",
     "delete_cmd_prefix": "rm(",
     "library": "var_list.r",
     "varRefreshCmd": "cat(var_dic_list()) "
    }
   },
   "types_to_exclude": [
    "module",
    "function",
    "builtin_function_or_method",
    "instance",
    "_Feature"
   ],
   "window_display": false
  }
 },
 "nbformat": 4,
 "nbformat_minor": 4
}
