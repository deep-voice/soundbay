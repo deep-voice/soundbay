{
 "cells": [
  {
   "cell_type": "code",
   "execution_count": 13,
   "metadata": {
    "ExecuteTime": {
     "end_time": "2021-05-31T10:04:02.327853Z",
     "start_time": "2021-05-31T10:04:02.323655Z"
    }
   },
   "outputs": [],
   "source": [
    "import pandas as pd\n",
    "import numpy as np\n",
    "import soundfile as sf\n",
    "import warnings"
   ]
  },
  {
   "cell_type": "code",
   "execution_count": 14,
   "metadata": {
    "ExecuteTime": {
     "end_time": "2021-05-31T10:04:02.343613Z",
     "start_time": "2021-05-31T10:04:02.330910Z"
    }
   },
   "outputs": [],
   "source": [
    "raw_metadata_path = 'orcasound/orcasound_reformated.csv'\n",
    "splited_metadata_path = 'orcasound/orcasound_train_val_splits.csv'\n",
    "\n",
    "metadata = pd.read_csv(raw_metadata_path)"
   ]
  },
  {
   "cell_type": "code",
   "execution_count": 15,
   "metadata": {
    "ExecuteTime": {
     "end_time": "2021-05-31T10:04:02.352073Z",
     "start_time": "2021-05-31T10:04:02.345818Z"
    }
   },
   "outputs": [],
   "source": [
    "def calc_sum_column(df, label, column_name='call_length'):\n",
    "    return sum(df[df['label']==label][column_name])\n",
    "\n",
    "def add_train_val_split(df, add_new_column=True, val_ratio=0.1):\n",
    "    assert val_ratio < 1, 'val ratio should be smaller than 1'\n",
    "    if add_new_column:\n",
    "        if 'split_type' in df.columns:\n",
    "            warnings.warn('trying to update existing split, abort!')\n",
    "            return df\n",
    "        df['split_type'] = \"\"\n",
    "    for label in (0, 1):\n",
    "        total_len = calc_sum_column(df, label, 'call_length')\n",
    "        total_val = 0\n",
    "        prev_name = 'imjustasillyname.wavvvvvvv'\n",
    "        for it in df[df['label']==label].index:\n",
    "            curr_name = df.at[it, 'filename']\n",
    "            df.at[it, 'split_type'] = 'val'\n",
    "            total_val += df.at[it, 'call_length']\n",
    "            if total_val >= total_len * val_ratio and curr_name!=prev_name:\n",
    "                break\n",
    "            prev_name = curr_name\n",
    "        df.at[(df['label']==label) & (df['split_type']==''), 'split_type'] = 'train'\n",
    "    return df\n",
    "\n"
   ]
  },
  {
   "cell_type": "code",
   "execution_count": 16,
   "metadata": {
    "ExecuteTime": {
     "end_time": "2021-05-31T10:04:02.365371Z",
     "start_time": "2021-05-31T10:04:02.353728Z"
    }
   },
   "outputs": [],
   "source": [
    "metadata = add_train_val_split(metadata)"
   ]
  },
  {
   "cell_type": "markdown",
   "metadata": {},
   "source": [
    "#### validate splits"
   ]
  },
  {
   "cell_type": "code",
   "execution_count": 17,
   "metadata": {
    "ExecuteTime": {
     "end_time": "2021-05-31T10:04:02.376552Z",
     "start_time": "2021-05-31T10:04:02.366372Z"
    }
   },
   "outputs": [
    {
     "name": "stdout",
     "output_type": "stream",
     "text": [
      "train label 0 length (sec): 27475.157299999995\n",
      "val label 0 length (sec): 3117.48935\n",
      "train label 1 length (sec): 2449.925661380928\n",
      "val label 1 length (sec): 279.8433033132054\n"
     ]
    }
   ],
   "source": [
    "for label in set(metadata.label):\n",
    "    print(f'train label {label} length (sec):', calc_sum_column(metadata[metadata['split_type'] == 'train'], label))\n",
    "    print(f'val label {label} length (sec):', calc_sum_column(metadata[metadata['split_type'] == 'val'], label))"
   ]
  },
  {
   "cell_type": "code",
   "execution_count": 18,
   "metadata": {
    "ExecuteTime": {
     "end_time": "2021-05-31T10:04:02.390101Z",
     "start_time": "2021-05-31T10:04:02.377495Z"
    }
   },
   "outputs": [],
   "source": [
    "metadata.to_csv(splited_metadata_path, index=False)"
   ]
  }
 ],
 "metadata": {
  "kernelspec": {
   "display_name": "PyWhale",
   "language": "python",
   "name": "pywhale"
  },
  "language_info": {
   "codemirror_mode": {
    "name": "ipython",
    "version": 3
   },
   "file_extension": ".py",
   "mimetype": "text/x-python",
   "name": "python",
   "nbconvert_exporter": "python",
   "pygments_lexer": "ipython3",
   "version": "3.8.9"
  },
  "toc": {
   "base_numbering": 1,
   "nav_menu": {},
   "number_sections": true,
   "sideBar": true,
   "skip_h1_title": false,
   "title_cell": "Table of Contents",
   "title_sidebar": "Contents",
   "toc_cell": false,
   "toc_position": {},
   "toc_section_display": true,
   "toc_window_display": false
  },
  "varInspector": {
   "cols": {
    "lenName": 16,
    "lenType": 16,
    "lenVar": 40
   },
   "kernels_config": {
    "python": {
     "delete_cmd_postfix": "",
     "delete_cmd_prefix": "del ",
     "library": "var_list.py",
     "varRefreshCmd": "print(var_dic_list())"
    },
    "r": {
     "delete_cmd_postfix": ") ",
     "delete_cmd_prefix": "rm(",
     "library": "var_list.r",
     "varRefreshCmd": "cat(var_dic_list()) "
    }
   },
   "types_to_exclude": [
    "module",
    "function",
    "builtin_function_or_method",
    "instance",
    "_Feature"
   ],
   "window_display": false
  }
 },
 "nbformat": 4,
 "nbformat_minor": 4
}
