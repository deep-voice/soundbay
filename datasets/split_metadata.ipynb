{
 "cells": [
  {
   "cell_type": "code",
   "execution_count": null,
   "metadata": {
    "ExecuteTime": {
     "end_time": "2021-12-14T10:45:29.409107Z",
     "start_time": "2021-12-14T10:45:29.402262Z"
    }
   },
   "outputs": [],
   "source": [
    "import pandas as pd\n",
    "import numpy as np\n",
    "import soundfile as sf\n",
    "import warnings"
   ]
  },
  {
   "cell_type": "code",
   "execution_count": null,
   "metadata": {
    "ExecuteTime": {
     "end_time": "2021-12-14T10:45:29.425186Z",
     "start_time": "2021-12-14T10:45:29.412863Z"
    }
   },
   "outputs": [],
   "source": [
    "raw_metadata_path = 'barkley_orca/barkley_orca_2014.csv'\n",
    "splited_metadata_path = 'barkley_orca/barkley_orca_2014_train_val_splits.csv'\n",
    "\n",
    "metadata = pd.read_csv(raw_metadata_path)"
   ]
  },
  {
   "cell_type": "code",
   "execution_count": null,
   "metadata": {
    "ExecuteTime": {
     "end_time": "2021-12-14T10:45:29.432852Z",
     "start_time": "2021-12-14T10:45:29.427146Z"
    }
   },
   "outputs": [],
   "source": [
    "def calc_sum_column(df, label, column_name='call_length'):\n",
    "    return sum(df[df['label']==label][column_name])\n",
    "\n",
    "def add_train_val_split(df, add_new_column=True, val_ratio=0.1):\n",
    "    assert val_ratio < 1, 'val ratio should be smaller than 1'\n",
    "    if add_new_column:\n",
    "        if 'split_type' in df.columns:\n",
    "            warnings.warn('trying to update existing split, abort!')\n",
    "            return df\n",
    "        df['split_type'] = \"\"\n",
    "    for label in (0, 1):\n",
    "        total_len = calc_sum_column(df, label, 'call_length')\n",
    "        total_val = 0\n",
    "        prev_name = 'imjustasillyname.wavvvvvvv'\n",
    "        for it in df[df['label']==label].index:\n",
    "            curr_name = df.at[it, 'filename']\n",
    "            df.at[it, 'split_type'] = 'val'\n",
    "            total_val += df.at[it, 'call_length']\n",
    "            if total_val >= total_len * val_ratio and curr_name!=prev_name:\n",
    "                break\n",
    "            prev_name = curr_name\n",
    "        df.loc[(df['label']==label) & (df['split_type']==''), 'split_type'] = 'train'\n",
    "    return df\n",
    "\n"
   ]
  },
  {
   "cell_type": "code",
   "execution_count": null,
   "metadata": {
    "ExecuteTime": {
     "end_time": "2021-12-14T10:45:29.449087Z",
     "start_time": "2021-12-14T10:45:29.434902Z"
    }
   },
   "outputs": [],
   "source": [
    "metadata = add_train_val_split(metadata)"
   ]
  },
  {
   "cell_type": "markdown",
   "metadata": {},
   "source": [
    "#### validate splits"
   ]
  },
  {
   "cell_type": "code",
   "execution_count": null,
   "metadata": {
    "ExecuteTime": {
     "end_time": "2021-12-14T10:45:29.462987Z",
     "start_time": "2021-12-14T10:45:29.451041Z"
    }
   },
   "outputs": [],
   "source": [
    "for label in set(metadata.label):\n",
    "    print(f'train label {label} length (sec):', calc_sum_column(metadata[metadata['split_type'] == 'train'], label))\n",
    "    print(f'val label {label} length (sec):', calc_sum_column(metadata[metadata['split_type'] == 'val'], label))"
   ]
  },
  {
   "cell_type": "code",
   "execution_count": null,
   "metadata": {
    "ExecuteTime": {
     "end_time": "2021-12-14T10:45:29.474598Z",
     "start_time": "2021-12-14T10:45:29.464185Z"
    }
   },
   "outputs": [],
   "source": [
    "metadata.to_csv(splited_metadata_path, index=False)"
   ]
  },
  {
   "cell_type": "code",
   "execution_count": null,
   "metadata": {
    "ExecuteTime": {
     "end_time": "2021-12-14T10:59:53.430053Z",
     "start_time": "2021-12-14T10:59:53.298404Z"
    }
   },
   "outputs": [],
   "source": [
    "import pandas as pd"
   ]
  },
  {
   "cell_type": "code",
   "execution_count": null,
   "metadata": {
    "ExecuteTime": {
     "end_time": "2021-12-14T11:01:18.438289Z",
     "start_time": "2021-12-14T11:01:18.424527Z"
    }
   },
   "outputs": [],
   "source": [
    "training_meta = pd.read_csv('orcasound/orcasound_bg_from_calls.csv')\n",
    "ref_meta = pd.read_csv('orcasound/orcasound_train_val_splits.csv')"
   ]
  },
  {
   "cell_type": "code",
   "execution_count": null,
   "metadata": {
    "ExecuteTime": {
     "end_time": "2021-12-14T11:01:18.863119Z",
     "start_time": "2021-12-14T11:01:18.836963Z"
    }
   },
   "outputs": [],
   "source": [
    "len(training_meta)"
   ]
  },
  {
   "cell_type": "code",
   "execution_count": null,
   "metadata": {
    "ExecuteTime": {
     "end_time": "2021-12-14T11:01:24.552286Z",
     "start_time": "2021-12-14T11:01:24.548470Z"
    }
   },
   "outputs": [],
   "source": [
    "len(ref_meta)"
   ]
  },
  {
   "cell_type": "code",
   "execution_count": null,
   "metadata": {
    "ExecuteTime": {
     "end_time": "2021-12-14T11:02:49.827686Z",
     "start_time": "2021-12-14T11:02:49.814874Z"
    }
   },
   "outputs": [],
   "source": [
    "training_meta[training_meta['label'] == 1]['call_length'].sum()"
   ]
  },
  {
   "cell_type": "code",
   "execution_count": null,
   "metadata": {
    "ExecuteTime": {
     "end_time": "2021-12-14T11:02:52.814248Z",
     "start_time": "2021-12-14T11:02:52.798983Z"
    }
   },
   "outputs": [],
   "source": [
    "ref_meta[ref_meta['label'] == 1]['call_length'].sum()"
   ]
  },
  {
   "cell_type": "code",
   "execution_count": null,
   "metadata": {},
   "outputs": [],
   "source": []
  }
 ],
 "metadata": {
  "kernelspec": {
   "display_name": "PyWhale",
   "language": "python",
   "name": "pywhale"
  },
  "language_info": {
   "codemirror_mode": {
    "name": "ipython",
    "version": 3
   },
   "file_extension": ".py",
   "mimetype": "text/x-python",
   "name": "python",
   "nbconvert_exporter": "python",
   "pygments_lexer": "ipython3",
   "version": "3.8.10"
  },
  "toc": {
   "base_numbering": 1,
   "nav_menu": {},
   "number_sections": true,
   "sideBar": true,
   "skip_h1_title": false,
   "title_cell": "Table of Contents",
   "title_sidebar": "Contents",
   "toc_cell": false,
   "toc_position": {},
   "toc_section_display": true,
   "toc_window_display": false
  },
  "varInspector": {
   "cols": {
    "lenName": 16,
    "lenType": 16,
    "lenVar": 40
   },
   "kernels_config": {
    "python": {
     "delete_cmd_postfix": "",
     "delete_cmd_prefix": "del ",
     "library": "var_list.py",
     "varRefreshCmd": "print(var_dic_list())"
    },
    "r": {
     "delete_cmd_postfix": ") ",
     "delete_cmd_prefix": "rm(",
     "library": "var_list.r",
     "varRefreshCmd": "cat(var_dic_list()) "
    }
   },
   "types_to_exclude": [
    "module",
    "function",
    "builtin_function_or_method",
    "instance",
    "_Feature"
   ],
   "window_display": false
  }
 },
 "nbformat": 4,
 "nbformat_minor": 4
}
