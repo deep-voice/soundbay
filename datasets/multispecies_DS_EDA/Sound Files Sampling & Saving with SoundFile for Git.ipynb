{
 "cells": [
  {
   "cell_type": "code",
   "execution_count": 1,
   "metadata": {},
   "outputs": [],
   "source": [
    "import pandas as pd\n",
    "import numpy as np\n",
    "import soundfile as sf\n",
    "import os \n",
    "\n",
    "pd.options.display.max_rows = 1000\n",
    "pd.options.display.max_columns = 1000\n",
    "\n",
    "from IPython.core.interactiveshell import InteractiveShell\n",
    "InteractiveShell.ast_node_interactivity = \"all\""
   ]
  },
  {
   "cell_type": "markdown",
   "metadata": {},
   "source": [
    "## PARAMS"
   ]
  },
  {
   "cell_type": "code",
   "execution_count": 2,
   "metadata": {},
   "outputs": [],
   "source": [
    "input_dir = 'C:/Mine/heavy_stuff_dont_backup/DeepVoice/Recordings/recordings_2018_filtered'\n",
    "output_dir_calls = 'C:/Mine/Code/DeepVoice/Orcaspot/data_dir'\n",
    "output_dir_noise = 'C:/Mine/Code/DeepVoice/Orcaspot/noise_dir'\n",
    "\n",
    "samplerate = 44100"
   ]
  },
  {
   "cell_type": "markdown",
   "metadata": {},
   "source": [
    "## Load External Tables"
   ]
  },
  {
   "cell_type": "code",
   "execution_count": 3,
   "metadata": {},
   "outputs": [],
   "source": [
    "df_bg = pd.read_csv('bg_segments_table_from_EDA_notebook.csv')"
   ]
  },
  {
   "cell_type": "code",
   "execution_count": 4,
   "metadata": {},
   "outputs": [],
   "source": [
    "df_signals = pd.read_csv('signals_non_overlap_table_from_EDA_notebook.csv')"
   ]
  },
  {
   "cell_type": "markdown",
   "metadata": {},
   "source": [
    "## Cut and save samples"
   ]
  },
  {
   "cell_type": "markdown",
   "metadata": {},
   "source": [
    "### Signal samples (calls)"
   ]
  },
  {
   "cell_type": "code",
   "execution_count": 5,
   "metadata": {},
   "outputs": [
    {
     "data": {
      "text/html": [
       "<div>\n",
       "<style scoped>\n",
       "    .dataframe tbody tr th:only-of-type {\n",
       "        vertical-align: middle;\n",
       "    }\n",
       "\n",
       "    .dataframe tbody tr th {\n",
       "        vertical-align: top;\n",
       "    }\n",
       "\n",
       "    .dataframe thead th {\n",
       "        text-align: right;\n",
       "    }\n",
       "</style>\n",
       "<table border=\"1\" class=\"dataframe\">\n",
       "  <thead>\n",
       "    <tr style=\"text-align: right;\">\n",
       "      <th></th>\n",
       "      <th>Beginnon_overlap</th>\n",
       "      <th>Endnon_overlap</th>\n",
       "      <th>File</th>\n",
       "      <th>call_length</th>\n",
       "    </tr>\n",
       "  </thead>\n",
       "  <tbody>\n",
       "    <tr>\n",
       "      <th>0</th>\n",
       "      <td>0.095199</td>\n",
       "      <td>0.786270</td>\n",
       "      <td>180912_073707</td>\n",
       "      <td>0.691071</td>\n",
       "    </tr>\n",
       "    <tr>\n",
       "      <th>1</th>\n",
       "      <td>0.807425</td>\n",
       "      <td>1.241107</td>\n",
       "      <td>180912_073707</td>\n",
       "      <td>0.433682</td>\n",
       "    </tr>\n",
       "    <tr>\n",
       "      <th>2</th>\n",
       "      <td>2.221300</td>\n",
       "      <td>2.799544</td>\n",
       "      <td>180912_073707</td>\n",
       "      <td>0.578243</td>\n",
       "    </tr>\n",
       "    <tr>\n",
       "      <th>3</th>\n",
       "      <td>2.824225</td>\n",
       "      <td>4.040651</td>\n",
       "      <td>180912_073707</td>\n",
       "      <td>1.216426</td>\n",
       "    </tr>\n",
       "    <tr>\n",
       "      <th>4</th>\n",
       "      <td>4.090013</td>\n",
       "      <td>4.414394</td>\n",
       "      <td>180912_073707</td>\n",
       "      <td>0.324380</td>\n",
       "    </tr>\n",
       "  </tbody>\n",
       "</table>\n",
       "</div>"
      ],
      "text/plain": [
       "   Beginnon_overlap  Endnon_overlap           File  call_length\n",
       "0          0.095199        0.786270  180912_073707     0.691071\n",
       "1          0.807425        1.241107  180912_073707     0.433682\n",
       "2          2.221300        2.799544  180912_073707     0.578243\n",
       "3          2.824225        4.040651  180912_073707     1.216426\n",
       "4          4.090013        4.414394  180912_073707     0.324380"
      ]
     },
     "execution_count": 5,
     "metadata": {},
     "output_type": "execute_result"
    }
   ],
   "source": [
    "df_signals.head()"
   ]
  },
  {
   "cell_type": "code",
   "execution_count": 15,
   "metadata": {},
   "outputs": [
    {
     "name": "stdout",
     "output_type": "stream",
     "text": [
      "call_id_counter:  2499\n"
     ]
    }
   ],
   "source": [
    "call_id_counter=0\n",
    "\n",
    "for _, row in df_signals.iterrows():\n",
    "    call_id_counter += 1\n",
    "    \n",
    "    complete_file_path = os.path.join(input_dir, row.File+'.wav')\n",
    "    time_to_start_in_seconds = row.Beginnon_overlap\n",
    "    time_to_stop_in_seconds = row.Endnon_overlap\n",
    "    start=int(time_to_start_in_seconds*samplerate)\n",
    "    stop=int(time_to_stop_in_seconds*samplerate)\n",
    "    sample_data, samplerate = sf.read(complete_file_path, start=start, stop=stop)\n",
    "    \n",
    "    #NAMING   \n",
    "    tape_name = 'Rec-'+row.File.replace('_', '-')\n",
    "    filename = f'call-XXX_{call_id_counter}_2018_{tape_name}_{int(time_to_start_in_seconds*1000)}_{int(time_to_stop_in_seconds*1000)}.wav'\n",
    "    \n",
    "    output_path = os.path.join(output_dir_calls, filename)\n",
    "    sf.write(file=output_path, data=sample_data, samplerate=samplerate)\n",
    "\n",
    "print('call_id_counter: ', call_id_counter)"
   ]
  },
  {
   "cell_type": "markdown",
   "metadata": {},
   "source": [
    "### Background samples (noise)"
   ]
  },
  {
   "cell_type": "code",
   "execution_count": 16,
   "metadata": {},
   "outputs": [
    {
     "data": {
      "text/html": [
       "<div>\n",
       "<style scoped>\n",
       "    .dataframe tbody tr th:only-of-type {\n",
       "        vertical-align: middle;\n",
       "    }\n",
       "\n",
       "    .dataframe tbody tr th {\n",
       "        vertical-align: top;\n",
       "    }\n",
       "\n",
       "    .dataframe thead th {\n",
       "        text-align: right;\n",
       "    }\n",
       "</style>\n",
       "<table border=\"1\" class=\"dataframe\">\n",
       "  <thead>\n",
       "    <tr style=\"text-align: right;\">\n",
       "      <th></th>\n",
       "      <th>Beginnon_overlap</th>\n",
       "      <th>Endnon_overlap</th>\n",
       "      <th>File</th>\n",
       "      <th>BG Length</th>\n",
       "    </tr>\n",
       "  </thead>\n",
       "  <tbody>\n",
       "    <tr>\n",
       "      <th>0</th>\n",
       "      <td>0.786270</td>\n",
       "      <td>0.807425</td>\n",
       "      <td>180912_073707</td>\n",
       "      <td>0.021155</td>\n",
       "    </tr>\n",
       "    <tr>\n",
       "      <th>1</th>\n",
       "      <td>1.241107</td>\n",
       "      <td>2.221300</td>\n",
       "      <td>180912_073707</td>\n",
       "      <td>0.980193</td>\n",
       "    </tr>\n",
       "    <tr>\n",
       "      <th>2</th>\n",
       "      <td>2.799544</td>\n",
       "      <td>2.824225</td>\n",
       "      <td>180912_073707</td>\n",
       "      <td>0.024681</td>\n",
       "    </tr>\n",
       "    <tr>\n",
       "      <th>3</th>\n",
       "      <td>4.040651</td>\n",
       "      <td>4.090013</td>\n",
       "      <td>180912_073707</td>\n",
       "      <td>0.049362</td>\n",
       "    </tr>\n",
       "    <tr>\n",
       "      <th>4</th>\n",
       "      <td>4.414394</td>\n",
       "      <td>4.516644</td>\n",
       "      <td>180912_073707</td>\n",
       "      <td>0.102250</td>\n",
       "    </tr>\n",
       "  </tbody>\n",
       "</table>\n",
       "</div>"
      ],
      "text/plain": [
       "   Beginnon_overlap  Endnon_overlap           File  BG Length\n",
       "0          0.786270        0.807425  180912_073707   0.021155\n",
       "1          1.241107        2.221300  180912_073707   0.980193\n",
       "2          2.799544        2.824225  180912_073707   0.024681\n",
       "3          4.040651        4.090013  180912_073707   0.049362\n",
       "4          4.414394        4.516644  180912_073707   0.102250"
      ]
     },
     "execution_count": 16,
     "metadata": {},
     "output_type": "execute_result"
    }
   ],
   "source": [
    "df_bg.head()"
   ]
  },
  {
   "cell_type": "code",
   "execution_count": 17,
   "metadata": {},
   "outputs": [],
   "source": [
    "bg_cols_dict = {'Begin Time (s)': 'Beginnon_overlap', 'End Time (s)': 'Endnon_overlap', 'FileName': 'File'}"
   ]
  },
  {
   "cell_type": "code",
   "execution_count": 18,
   "metadata": {},
   "outputs": [
    {
     "data": {
      "text/html": [
       "<div>\n",
       "<style scoped>\n",
       "    .dataframe tbody tr th:only-of-type {\n",
       "        vertical-align: middle;\n",
       "    }\n",
       "\n",
       "    .dataframe tbody tr th {\n",
       "        vertical-align: top;\n",
       "    }\n",
       "\n",
       "    .dataframe thead th {\n",
       "        text-align: right;\n",
       "    }\n",
       "</style>\n",
       "<table border=\"1\" class=\"dataframe\">\n",
       "  <thead>\n",
       "    <tr style=\"text-align: right;\">\n",
       "      <th></th>\n",
       "      <th>Beginnon_overlap</th>\n",
       "      <th>Endnon_overlap</th>\n",
       "      <th>File</th>\n",
       "      <th>BG Length</th>\n",
       "    </tr>\n",
       "  </thead>\n",
       "  <tbody>\n",
       "    <tr>\n",
       "      <th>0</th>\n",
       "      <td>0.786270</td>\n",
       "      <td>0.807425</td>\n",
       "      <td>180912_073707</td>\n",
       "      <td>0.021155</td>\n",
       "    </tr>\n",
       "    <tr>\n",
       "      <th>1</th>\n",
       "      <td>1.241107</td>\n",
       "      <td>2.221300</td>\n",
       "      <td>180912_073707</td>\n",
       "      <td>0.980193</td>\n",
       "    </tr>\n",
       "    <tr>\n",
       "      <th>2</th>\n",
       "      <td>2.799544</td>\n",
       "      <td>2.824225</td>\n",
       "      <td>180912_073707</td>\n",
       "      <td>0.024681</td>\n",
       "    </tr>\n",
       "    <tr>\n",
       "      <th>3</th>\n",
       "      <td>4.040651</td>\n",
       "      <td>4.090013</td>\n",
       "      <td>180912_073707</td>\n",
       "      <td>0.049362</td>\n",
       "    </tr>\n",
       "    <tr>\n",
       "      <th>4</th>\n",
       "      <td>4.414394</td>\n",
       "      <td>4.516644</td>\n",
       "      <td>180912_073707</td>\n",
       "      <td>0.102250</td>\n",
       "    </tr>\n",
       "  </tbody>\n",
       "</table>\n",
       "</div>"
      ],
      "text/plain": [
       "   Beginnon_overlap  Endnon_overlap           File  BG Length\n",
       "0          0.786270        0.807425  180912_073707   0.021155\n",
       "1          1.241107        2.221300  180912_073707   0.980193\n",
       "2          2.799544        2.824225  180912_073707   0.024681\n",
       "3          4.040651        4.090013  180912_073707   0.049362\n",
       "4          4.414394        4.516644  180912_073707   0.102250"
      ]
     },
     "execution_count": 18,
     "metadata": {},
     "output_type": "execute_result"
    }
   ],
   "source": [
    "df_bg = df_bg.rename(bg_cols_dict, axis=1)\n",
    "df_bg.head()"
   ]
  },
  {
   "cell_type": "code",
   "execution_count": 19,
   "metadata": {},
   "outputs": [
    {
     "data": {
      "text/plain": [
       "(2476, 4)"
      ]
     },
     "execution_count": 19,
     "metadata": {},
     "output_type": "execute_result"
    }
   ],
   "source": [
    "df_bg.shape"
   ]
  },
  {
   "cell_type": "code",
   "execution_count": 20,
   "metadata": {},
   "outputs": [],
   "source": [
    "noise_id_counter = call_id_counter"
   ]
  },
  {
   "cell_type": "code",
   "execution_count": 21,
   "metadata": {},
   "outputs": [
    {
     "name": "stdout",
     "output_type": "stream",
     "text": [
      "noise_id_counter:  4975\n"
     ]
    }
   ],
   "source": [
    "for _, row in df_bg.iterrows():\n",
    "    noise_id_counter += 1\n",
    "    \n",
    "    complete_file_path = os.path.join(input_dir, row.File+'.wav')\n",
    "    time_to_start_in_seconds = row.Beginnon_overlap\n",
    "    time_to_stop_in_seconds = row.Endnon_overlap\n",
    "    start=int(time_to_start_in_seconds*samplerate)\n",
    "    stop=int(time_to_stop_in_seconds*samplerate)\n",
    "    sample_data, samplerate = sf.read(complete_file_path, start=start, stop=stop)\n",
    "    \n",
    "    #NAMING   \n",
    "    tape_name = 'Rec-'+row.File.replace('_', '-')\n",
    "    filename = f'noise-XXX_{noise_id_counter}_2018_{tape_name}_{int(time_to_start_in_seconds*1000)}_{int(time_to_stop_in_seconds*1000)}.wav'\n",
    "\n",
    "    output_path = os.path.join(output_dir_noise, filename)\n",
    "    sf.write(file=output_path, data=sample_data, samplerate=samplerate)\n",
    "\n",
    "print('noise_id_counter: ', noise_id_counter)"
   ]
  }
 ],
 "metadata": {
  "kernelspec": {
   "display_name": "Python 3",
   "language": "python",
   "name": "python3"
  },
  "language_info": {
   "codemirror_mode": {
    "name": "ipython",
    "version": 3
   },
   "file_extension": ".py",
   "mimetype": "text/x-python",
   "name": "python",
   "nbconvert_exporter": "python",
   "pygments_lexer": "ipython3",
   "version": "3.7.6"
  },
  "toc": {
   "base_numbering": 1,
   "nav_menu": {},
   "number_sections": true,
   "sideBar": true,
   "skip_h1_title": false,
   "title_cell": "Table of Contents",
   "title_sidebar": "Contents",
   "toc_cell": false,
   "toc_position": {},
   "toc_section_display": true,
   "toc_window_display": true
  },
  "varInspector": {
   "cols": {
    "lenName": 16,
    "lenType": 16,
    "lenVar": 40
   },
   "kernels_config": {
    "python": {
     "delete_cmd_postfix": "",
     "delete_cmd_prefix": "del ",
     "library": "var_list.py",
     "varRefreshCmd": "print(var_dic_list())"
    },
    "r": {
     "delete_cmd_postfix": ") ",
     "delete_cmd_prefix": "rm(",
     "library": "var_list.r",
     "varRefreshCmd": "cat(var_dic_list()) "
    }
   },
   "types_to_exclude": [
    "module",
    "function",
    "builtin_function_or_method",
    "instance",
    "_Feature"
   ],
   "window_display": false
  }
 },
 "nbformat": 4,
 "nbformat_minor": 4
}
