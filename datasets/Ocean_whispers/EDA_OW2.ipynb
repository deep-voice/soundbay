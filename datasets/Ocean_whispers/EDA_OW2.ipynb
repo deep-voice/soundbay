{
 "cells": [
  {
   "cell_type": "code",
   "execution_count": null,
   "id": "initial_id",
   "metadata": {
    "collapsed": true,
    "is_executing": true
   },
   "outputs": [],
   "source": [
    "import os\n",
    "import pandas as pd\n",
    "import matplotlib.pyplot as plt\n",
    "import seaborn as sns"
   ]
  },
  {
   "cell_type": "code",
   "execution_count": null,
   "outputs": [],
   "source": [
    "# Function to read an annotation file and return a DataFrame\n",
    "def read_annotation_file(file_path):\n",
    "    df = pd.read_csv(file_path, sep='\\t')\n",
    "    return df\n",
    "\n",
    "# Function to process a directory of annotation files\n",
    "def process_annotation_aggregated(directory_path):\n",
    "    # Initialize an empty DataFrame to store aggregated data\n",
    "    aggregated_df = pd.DataFrame(columns=['Label', 'SampleCount', 'TotalSampleTime'])\n",
    "\n",
    "    # Loop through each file in the directory\n",
    "    for file_name in os.listdir(directory_path):\n",
    "        if file_name.endswith(\".txt\") and \"BG\" not in file_name:\n",
    "            file_path = os.path.join(directory_path, file_name)\n",
    "            annotation_df = read_annotation_file(file_path)\n",
    "\n",
    "            # Aggregate data\n",
    "            label_counts = annotation_df['Annotation'].value_counts()\n",
    "            total_sample_time = annotation_df['End Time (s)'].max()\n",
    "\n",
    "            # Update aggregated DataFrame\n",
    "            for label, count in label_counts.items():\n",
    "                if label not in aggregated_df['Label'].tolist():\n",
    "                    aggregated_df = aggregated_df.append({'Label': label, 'SampleCount': 0, 'TotalSampleTime': 0}, ignore_index=True)\n",
    "                aggregated_df.loc[aggregated_df['Label'] == label, 'SampleCount'] += count\n",
    "                aggregated_df.loc[aggregated_df['Label'] == label, 'TotalSampleTime'] += total_sample_time\n",
    "\n",
    "    return aggregated_df\n",
    "\n",
    "# Function to process a directory of annotation files\n",
    "def process_annotation_directory(directory_path):\n",
    "    # Initialize empty DataFrames to store regular and background annotations\n",
    "    # regular_annotations = pd.DataFrame(columns=['Selection', 'View', 'Channel', 'Begin Time (s)', 'End Time (s)',\n",
    "    #                                             'Low Freq (Hz)', 'High Freq (Hz)', 'Annotation', 'File'])\n",
    "    # background_annotations = pd.DataFrame(columns=['Selection', 'View', 'Channel', 'Begin Time (s)', 'End Time (s)',\n",
    "    #                                                'Low Freq (Hz)', 'High Freq (Hz)', 'Annotation', 'File'])\n",
    "    aggregated_dataframe = pd.DataFrame(columns=['Selection', 'View', 'Channel', 'Begin Time (s)', 'End Time (s)',\n",
    "                                                'Low Freq (Hz)', 'High Freq (Hz)', 'Annotation', 'File'])\n",
    "    \n",
    "    # Loop through each file in the directory\n",
    "    for file_name in os.listdir(directory_path):\n",
    "        file_path = os.path.join(directory_path, file_name)\n",
    "\n",
    "        if file_name.endswith(\".txt\"):\n",
    "            annotation_df = read_annotation_file(file_path)\n",
    "\n",
    "            # Add a new column to store the file name\n",
    "            annotation_df['File'] = file_name\n",
    "\n",
    "            # Check if the file has 'BG' in its name\n",
    "            # if 'BG' in file_name:\n",
    "            #     background_annotations = pd.concat([background_annotations, annotation_df], ignore_index=True)\n",
    "            # else:\n",
    "            #     regular_annotations = pd.concat([regular_annotations, annotation_df], ignore_index=True)\n",
    "            aggregated_dataframe = pd.concat([aggregated_dataframe, annotation_df], ignore_index=True)\n",
    "            \n",
    "    return aggregated_dataframe\n"
   ],
   "metadata": {
    "collapsed": false,
    "is_executing": true
   },
   "id": "71578196dab1ff41"
  },
  {
   "cell_type": "code",
   "execution_count": null,
   "outputs": [],
   "source": [
    "\n",
    "# Set the directory path where your annotation files are located\n",
    "directory_path = 'C:/Users/amitg/Documents/Deep_Voice/ocean-whispers/Anotations Ocean Wispers'\n",
    "directory_2_path = 'C:/Users/amitg/Documents/Deep_Voice/ocean-whispers/Background noise annotations'\n",
    "\n",
    "# Process the annotation directory\n",
    "aggregated_data1 = process_annotation_aggregated(directory_path)\n",
    "aggregated_data2 = process_annotation_aggregated(directory_2_path)\n",
    "\n",
    "aggregated_data = pd.concat([aggregated_data1, aggregated_data2], ignore_index=True)\n",
    "\n",
    "# Display the aggregated data\n",
    "print(aggregated_data)"
   ],
   "metadata": {
    "collapsed": false
   },
   "id": "f90f44e24583a090"
  }
 ],
 "metadata": {
  "kernelspec": {
   "display_name": "Python 3",
   "language": "python",
   "name": "python3"
  },
  "language_info": {
   "codemirror_mode": {
    "name": "ipython",
    "version": 2
   },
   "file_extension": ".py",
   "mimetype": "text/x-python",
   "name": "python",
   "nbconvert_exporter": "python",
   "pygments_lexer": "ipython2",
   "version": "2.7.6"
  }
 },
 "nbformat": 4,
 "nbformat_minor": 5
}
