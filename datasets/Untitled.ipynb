{
 "cells": [
  {
   "cell_type": "markdown",
   "metadata": {},
   "source": [
    "### Adapt the orcasound annotations file to our format"
   ]
  },
  {
   "cell_type": "code",
   "execution_count": 1,
   "metadata": {},
   "outputs": [],
   "source": [
    "import pandas as pd\n",
    "import numpy as np"
   ]
  },
  {
   "cell_type": "code",
   "execution_count": 2,
   "metadata": {},
   "outputs": [],
   "source": [
    "annotation_file = pd.read_csv('/home/moshe/PycharmProjects/Deep_Voice/finding_willy/data/TrainDataLatest_PodCastAllRounds/annotations.tsv', sep='\\t')\n",
    "example_file = pd.read_csv('/home/moshe/PycharmProjects/Deep_Voice/finding_willy/EDA/combined_annotations.csv')"
   ]
  },
  {
   "cell_type": "code",
   "execution_count": 3,
   "metadata": {},
   "outputs": [
    {
     "data": {
      "text/html": [
       "<div>\n",
       "<style scoped>\n",
       "    .dataframe tbody tr th:only-of-type {\n",
       "        vertical-align: middle;\n",
       "    }\n",
       "\n",
       "    .dataframe tbody tr th {\n",
       "        vertical-align: top;\n",
       "    }\n",
       "\n",
       "    .dataframe thead th {\n",
       "        text-align: right;\n",
       "    }\n",
       "</style>\n",
       "<table border=\"1\" class=\"dataframe\">\n",
       "  <thead>\n",
       "    <tr style=\"text-align: right;\">\n",
       "      <th></th>\n",
       "      <th>dataset</th>\n",
       "      <th>wav_filename</th>\n",
       "      <th>start_time_s</th>\n",
       "      <th>duration_s</th>\n",
       "      <th>location</th>\n",
       "      <th>date</th>\n",
       "      <th>pst_or_master_tape_identifier</th>\n",
       "    </tr>\n",
       "  </thead>\n",
       "  <tbody>\n",
       "    <tr>\n",
       "      <th>0</th>\n",
       "      <td>podcast_round1</td>\n",
       "      <td>60012.wav</td>\n",
       "      <td>34.126</td>\n",
       "      <td>2.918</td>\n",
       "      <td>Dabob Bay, Seattle, Washington</td>\n",
       "      <td>1960-10-28</td>\n",
       "      <td>60012</td>\n",
       "    </tr>\n",
       "    <tr>\n",
       "      <th>1</th>\n",
       "      <td>podcast_round1</td>\n",
       "      <td>60012.wav</td>\n",
       "      <td>36.816</td>\n",
       "      <td>2.588</td>\n",
       "      <td>Dabob Bay, Seattle, Washington</td>\n",
       "      <td>1960-10-28</td>\n",
       "      <td>60012</td>\n",
       "    </tr>\n",
       "    <tr>\n",
       "      <th>2</th>\n",
       "      <td>podcast_round1</td>\n",
       "      <td>60012.wav</td>\n",
       "      <td>42.550</td>\n",
       "      <td>2.055</td>\n",
       "      <td>Dabob Bay, Seattle, Washington</td>\n",
       "      <td>1960-10-28</td>\n",
       "      <td>60012</td>\n",
       "    </tr>\n",
       "    <tr>\n",
       "      <th>3</th>\n",
       "      <td>podcast_round1</td>\n",
       "      <td>60012.wav</td>\n",
       "      <td>44.606</td>\n",
       "      <td>2.410</td>\n",
       "      <td>Dabob Bay, Seattle, Washington</td>\n",
       "      <td>1960-10-28</td>\n",
       "      <td>60012</td>\n",
       "    </tr>\n",
       "    <tr>\n",
       "      <th>4</th>\n",
       "      <td>podcast_round1</td>\n",
       "      <td>60012.wav</td>\n",
       "      <td>46.636</td>\n",
       "      <td>3.425</td>\n",
       "      <td>Dabob Bay, Seattle, Washington</td>\n",
       "      <td>1960-10-28</td>\n",
       "      <td>60012</td>\n",
       "    </tr>\n",
       "  </tbody>\n",
       "</table>\n",
       "</div>"
      ],
      "text/plain": [
       "          dataset wav_filename  start_time_s  duration_s  \\\n",
       "0  podcast_round1    60012.wav        34.126       2.918   \n",
       "1  podcast_round1    60012.wav        36.816       2.588   \n",
       "2  podcast_round1    60012.wav        42.550       2.055   \n",
       "3  podcast_round1    60012.wav        44.606       2.410   \n",
       "4  podcast_round1    60012.wav        46.636       3.425   \n",
       "\n",
       "                         location        date pst_or_master_tape_identifier  \n",
       "0  Dabob Bay, Seattle, Washington  1960-10-28                         60012  \n",
       "1  Dabob Bay, Seattle, Washington  1960-10-28                         60012  \n",
       "2  Dabob Bay, Seattle, Washington  1960-10-28                         60012  \n",
       "3  Dabob Bay, Seattle, Washington  1960-10-28                         60012  \n",
       "4  Dabob Bay, Seattle, Washington  1960-10-28                         60012  "
      ]
     },
     "execution_count": 3,
     "metadata": {},
     "output_type": "execute_result"
    }
   ],
   "source": [
    "annotation_file.head()"
   ]
  },
  {
   "cell_type": "code",
   "execution_count": 4,
   "metadata": {},
   "outputs": [
    {
     "data": {
      "text/html": [
       "<div>\n",
       "<style scoped>\n",
       "    .dataframe tbody tr th:only-of-type {\n",
       "        vertical-align: middle;\n",
       "    }\n",
       "\n",
       "    .dataframe tbody tr th {\n",
       "        vertical-align: top;\n",
       "    }\n",
       "\n",
       "    .dataframe thead th {\n",
       "        text-align: right;\n",
       "    }\n",
       "</style>\n",
       "<table border=\"1\" class=\"dataframe\">\n",
       "  <thead>\n",
       "    <tr style=\"text-align: right;\">\n",
       "      <th></th>\n",
       "      <th>begin_time</th>\n",
       "      <th>end_time</th>\n",
       "      <th>filename</th>\n",
       "      <th>call_length</th>\n",
       "      <th>label</th>\n",
       "    </tr>\n",
       "  </thead>\n",
       "  <tbody>\n",
       "    <tr>\n",
       "      <th>0</th>\n",
       "      <td>745.344984</td>\n",
       "      <td>826.061974</td>\n",
       "      <td>2019BG_ZOOM0002_Tr2</td>\n",
       "      <td>80.716989</td>\n",
       "      <td>0</td>\n",
       "    </tr>\n",
       "    <tr>\n",
       "      <th>1</th>\n",
       "      <td>189.979514</td>\n",
       "      <td>216.812778</td>\n",
       "      <td>2019BG_ZOOM0003_Tr1</td>\n",
       "      <td>26.833265</td>\n",
       "      <td>0</td>\n",
       "    </tr>\n",
       "    <tr>\n",
       "      <th>2</th>\n",
       "      <td>236.132729</td>\n",
       "      <td>256.526010</td>\n",
       "      <td>2019BG_ZOOM0003_Tr1</td>\n",
       "      <td>20.393281</td>\n",
       "      <td>0</td>\n",
       "    </tr>\n",
       "    <tr>\n",
       "      <th>3</th>\n",
       "      <td>270.479308</td>\n",
       "      <td>457.238830</td>\n",
       "      <td>2019BG_ZOOM0003_Tr1</td>\n",
       "      <td>186.759522</td>\n",
       "      <td>0</td>\n",
       "    </tr>\n",
       "    <tr>\n",
       "      <th>4</th>\n",
       "      <td>494.805400</td>\n",
       "      <td>639.705030</td>\n",
       "      <td>2019BG_ZOOM0003_Tr1</td>\n",
       "      <td>144.899629</td>\n",
       "      <td>0</td>\n",
       "    </tr>\n",
       "  </tbody>\n",
       "</table>\n",
       "</div>"
      ],
      "text/plain": [
       "   begin_time    end_time             filename  call_length  label\n",
       "0  745.344984  826.061974  2019BG_ZOOM0002_Tr2    80.716989      0\n",
       "1  189.979514  216.812778  2019BG_ZOOM0003_Tr1    26.833265      0\n",
       "2  236.132729  256.526010  2019BG_ZOOM0003_Tr1    20.393281      0\n",
       "3  270.479308  457.238830  2019BG_ZOOM0003_Tr1   186.759522      0\n",
       "4  494.805400  639.705030  2019BG_ZOOM0003_Tr1   144.899629      0"
      ]
     },
     "execution_count": 4,
     "metadata": {},
     "output_type": "execute_result"
    }
   ],
   "source": [
    "example_file.head()"
   ]
  },
  {
   "cell_type": "code",
   "execution_count": 5,
   "metadata": {},
   "outputs": [],
   "source": [
    "annotation_file.rename(columns={'wav_filename': 'filename', \n",
    "                                'start_time_s':'begin_time', \n",
    "                                'duration_s': 'call_length'}, inplace=True)"
   ]
  },
  {
   "cell_type": "code",
   "execution_count": 6,
   "metadata": {},
   "outputs": [
    {
     "data": {
      "text/html": [
       "<div>\n",
       "<style scoped>\n",
       "    .dataframe tbody tr th:only-of-type {\n",
       "        vertical-align: middle;\n",
       "    }\n",
       "\n",
       "    .dataframe tbody tr th {\n",
       "        vertical-align: top;\n",
       "    }\n",
       "\n",
       "    .dataframe thead th {\n",
       "        text-align: right;\n",
       "    }\n",
       "</style>\n",
       "<table border=\"1\" class=\"dataframe\">\n",
       "  <thead>\n",
       "    <tr style=\"text-align: right;\">\n",
       "      <th></th>\n",
       "      <th>dataset</th>\n",
       "      <th>filename</th>\n",
       "      <th>begin_time</th>\n",
       "      <th>call_length</th>\n",
       "      <th>location</th>\n",
       "      <th>date</th>\n",
       "      <th>pst_or_master_tape_identifier</th>\n",
       "    </tr>\n",
       "  </thead>\n",
       "  <tbody>\n",
       "    <tr>\n",
       "      <th>0</th>\n",
       "      <td>podcast_round1</td>\n",
       "      <td>60012.wav</td>\n",
       "      <td>34.126</td>\n",
       "      <td>2.918</td>\n",
       "      <td>Dabob Bay, Seattle, Washington</td>\n",
       "      <td>1960-10-28</td>\n",
       "      <td>60012</td>\n",
       "    </tr>\n",
       "    <tr>\n",
       "      <th>1</th>\n",
       "      <td>podcast_round1</td>\n",
       "      <td>60012.wav</td>\n",
       "      <td>36.816</td>\n",
       "      <td>2.588</td>\n",
       "      <td>Dabob Bay, Seattle, Washington</td>\n",
       "      <td>1960-10-28</td>\n",
       "      <td>60012</td>\n",
       "    </tr>\n",
       "    <tr>\n",
       "      <th>2</th>\n",
       "      <td>podcast_round1</td>\n",
       "      <td>60012.wav</td>\n",
       "      <td>42.550</td>\n",
       "      <td>2.055</td>\n",
       "      <td>Dabob Bay, Seattle, Washington</td>\n",
       "      <td>1960-10-28</td>\n",
       "      <td>60012</td>\n",
       "    </tr>\n",
       "    <tr>\n",
       "      <th>3</th>\n",
       "      <td>podcast_round1</td>\n",
       "      <td>60012.wav</td>\n",
       "      <td>44.606</td>\n",
       "      <td>2.410</td>\n",
       "      <td>Dabob Bay, Seattle, Washington</td>\n",
       "      <td>1960-10-28</td>\n",
       "      <td>60012</td>\n",
       "    </tr>\n",
       "    <tr>\n",
       "      <th>4</th>\n",
       "      <td>podcast_round1</td>\n",
       "      <td>60012.wav</td>\n",
       "      <td>46.636</td>\n",
       "      <td>3.425</td>\n",
       "      <td>Dabob Bay, Seattle, Washington</td>\n",
       "      <td>1960-10-28</td>\n",
       "      <td>60012</td>\n",
       "    </tr>\n",
       "  </tbody>\n",
       "</table>\n",
       "</div>"
      ],
      "text/plain": [
       "          dataset   filename  begin_time  call_length  \\\n",
       "0  podcast_round1  60012.wav      34.126        2.918   \n",
       "1  podcast_round1  60012.wav      36.816        2.588   \n",
       "2  podcast_round1  60012.wav      42.550        2.055   \n",
       "3  podcast_round1  60012.wav      44.606        2.410   \n",
       "4  podcast_round1  60012.wav      46.636        3.425   \n",
       "\n",
       "                         location        date pst_or_master_tape_identifier  \n",
       "0  Dabob Bay, Seattle, Washington  1960-10-28                         60012  \n",
       "1  Dabob Bay, Seattle, Washington  1960-10-28                         60012  \n",
       "2  Dabob Bay, Seattle, Washington  1960-10-28                         60012  \n",
       "3  Dabob Bay, Seattle, Washington  1960-10-28                         60012  \n",
       "4  Dabob Bay, Seattle, Washington  1960-10-28                         60012  "
      ]
     },
     "execution_count": 6,
     "metadata": {},
     "output_type": "execute_result"
    }
   ],
   "source": [
    "annotation_file.head()"
   ]
  },
  {
   "cell_type": "code",
   "execution_count": 7,
   "metadata": {},
   "outputs": [],
   "source": [
    "annotation_file['end_time'] = annotation_file['begin_time'] + annotation_file['call_length']"
   ]
  },
  {
   "cell_type": "code",
   "execution_count": 8,
   "metadata": {},
   "outputs": [],
   "source": [
    "annotation_file['label'] = np.ones((len(annotation_file),), dtype=int)"
   ]
  },
  {
   "cell_type": "markdown",
   "metadata": {},
   "source": [
    "#### reorder the columns"
   ]
  },
  {
   "cell_type": "code",
   "execution_count": 9,
   "metadata": {},
   "outputs": [],
   "source": [
    "cols = annotation_file.columns.tolist()\n",
    "orig_cols = example_file.columns.tolist()\n",
    "remaining = list(set(cols) - set(orig_cols))\n",
    "new_cols = orig_cols + remaining"
   ]
  },
  {
   "cell_type": "code",
   "execution_count": 10,
   "metadata": {},
   "outputs": [],
   "source": [
    "annotation_file = annotation_file[new_cols]"
   ]
  },
  {
   "cell_type": "markdown",
   "metadata": {},
   "source": [
    "#### remove .wav extension from the file names"
   ]
  },
  {
   "cell_type": "code",
   "execution_count": 11,
   "metadata": {},
   "outputs": [],
   "source": [
    "name_series = [x.replace('.wav', '') for x in annotation_file['filename']]\n",
    "annotation_file['filename'] = name_series"
   ]
  },
  {
   "cell_type": "markdown",
   "metadata": {},
   "source": [
    "### label bg as bg, solve begin_time and call_len issues"
   ]
  },
  {
   "cell_type": "code",
   "execution_count": 17,
   "metadata": {},
   "outputs": [],
   "source": [
    "annotation_file.loc[annotation_file['call_length'] == 0, 'label'] = 0"
   ]
  },
  {
   "cell_type": "code",
   "execution_count": 18,
   "metadata": {},
   "outputs": [],
   "source": [
    "bg_files = list(annotation_file[annotation_file['label'] == 0]['filename'])"
   ]
  },
  {
   "cell_type": "code",
   "execution_count": 19,
   "metadata": {},
   "outputs": [
    {
     "data": {
      "text/plain": [
       "55"
      ]
     },
     "execution_count": 19,
     "metadata": {},
     "output_type": "execute_result"
    }
   ],
   "source": [
    "len(bg_files)"
   ]
  },
  {
   "cell_type": "code",
   "execution_count": 20,
   "metadata": {},
   "outputs": [],
   "source": [
    "import soundfile as sf"
   ]
  },
  {
   "cell_type": "code",
   "execution_count": 21,
   "metadata": {},
   "outputs": [],
   "source": [
    "wavs_path = '/home/moshe/PycharmProjects/Deep_Voice/finding_willy/data/TrainDataLatest_PodCastAllRounds/wav'"
   ]
  },
  {
   "cell_type": "code",
   "execution_count": 32,
   "metadata": {},
   "outputs": [],
   "source": [
    "for bg_file in bg_files:\n",
    "    annotation_file.loc[annotation_file['filename'] == bg_file, 'end_time'] = sf.info(f'{wavs_path}/{bg_file}.wav').duration\n",
    "    annotation_file.loc[annotation_file['filename'] == bg_file, 'call_length'] = sf.info(f'{wavs_path}/{bg_file}.wav').duration"
   ]
  },
  {
   "cell_type": "code",
   "execution_count": 33,
   "metadata": {},
   "outputs": [
    {
     "data": {
      "text/plain": [
       "74368.0"
      ]
     },
     "execution_count": 33,
     "metadata": {},
     "output_type": "execute_result"
    }
   ],
   "source": [
    "sf.info(f'{wavs_path}/{bg_files[0]}.wav').duration * 20000"
   ]
  },
  {
   "cell_type": "code",
   "execution_count": 34,
   "metadata": {},
   "outputs": [
    {
     "data": {
      "text/plain": [
       "['9750400O',\n",
       " '9750401G',\n",
       " '9750402R',\n",
       " '9761900E',\n",
       " '9761900O',\n",
       " '9761900U',\n",
       " '9769201O',\n",
       " '9769202C',\n",
       " '9774300J',\n",
       " 'OS_9_27_2017_08_03_00__0002',\n",
       " 'OS_9_27_2017_08_03_00__0003',\n",
       " 'OS_9_27_2017_08_09_00__0000',\n",
       " 'OS_9_27_2017_08_14_00__0003',\n",
       " 'OS_9_27_2017_08_35_00__0000',\n",
       " 'OS_9_27_2017_10_07_00__0004',\n",
       " 'OS_9_27_2017_10_28_00__0002',\n",
       " 'OS_9_27_2017_10_55_00__0002',\n",
       " 'OS_9_27_2017_10_55_00__0003',\n",
       " 'OS_9_27_2017_11_00_00__0000',\n",
       " 'OS_9_27_2017_11_00_00__0001',\n",
       " 'OS_9_27_2017_11_00_00__0002',\n",
       " 'OS_9_27_2017_11_00_00__0003',\n",
       " 'OS_9_27_2017_11_16_00__0000',\n",
       " 'OS_9_27_2017_11_16_00__0001',\n",
       " 'OS_9_27_2017_11_16_00__0003',\n",
       " 'OS_9_27_2017_11_16_00__0004',\n",
       " 'OS_9_27_2017_11_21_00__0000',\n",
       " 'OS_9_27_2017_11_21_00__0001',\n",
       " 'OS_9_27_2017_11_21_00__0003',\n",
       " 'OS_9_27_2017_11_21_00__0004',\n",
       " 'OS_9_27_2017_11_26_00__0001',\n",
       " 'OS_9_27_2017_11_26_00__0003',\n",
       " 'OS_9_27_2017_11_26_00__0004',\n",
       " 'OS_9_27_2017_11_32_00__0000',\n",
       " 'OS_9_27_2017_11_32_00__0001',\n",
       " 'OS_9_27_2017_11_37_00__0000',\n",
       " 'OS_9_27_2017_11_37_00__0001',\n",
       " 'OS_9_27_2017_11_37_00__0002',\n",
       " 'OS_9_27_2017_11_37_00__0003',\n",
       " 'OS_9_27_2017_11_37_00__0004',\n",
       " 'OS_9_27_2017_11_42_00__0001',\n",
       " 'OS_9_27_2017_11_42_00__0002',\n",
       " 'OS_9_27_2017_11_42_00__0003',\n",
       " 'OS_9_27_2017_11_42_00__0004',\n",
       " 'OS_9_27_2017_11_48_00__0000',\n",
       " 'OS_9_27_2017_11_48_00__0001',\n",
       " 'OS_9_27_2017_11_48_00__0002',\n",
       " 'OS_9_27_2017_11_48_00__0003',\n",
       " 'OS_9_27_2017_11_48_00__0004',\n",
       " 'OS_9_27_2017_11_53_00__0000',\n",
       " 'OS_9_27_2017_11_53_00__0002',\n",
       " 'OS_9_27_2017_11_53_00__0003',\n",
       " 'OS_9_27_2017_11_58_00__0000',\n",
       " 'OS_9_27_2017_11_58_00__0002',\n",
       " 'OS_9_27_2017_11_58_00__0004']"
      ]
     },
     "execution_count": 34,
     "metadata": {},
     "output_type": "execute_result"
    }
   ],
   "source": [
    "list(bg_files)"
   ]
  },
  {
   "cell_type": "code",
   "execution_count": 82,
   "metadata": {},
   "outputs": [
    {
     "name": "stdout",
     "output_type": "stream",
     "text": [
      "{20000}\n"
     ]
    }
   ],
   "source": [
    "files_3 = list(annotation_file['filename'])\n",
    "srs = []\n",
    "for file in files_3:\n",
    "    srs.append(sf.info(f'{wavs_path}/{file}.wav').samplerate)\n",
    "srs = set(srs)\n",
    "print(srs)"
   ]
  },
  {
   "cell_type": "code",
   "execution_count": 77,
   "metadata": {},
   "outputs": [
    {
     "data": {
      "text/plain": [
       "20000"
      ]
     },
     "execution_count": 77,
     "metadata": {},
     "output_type": "execute_result"
    }
   ],
   "source": [
    "sf.info(f'{wavs_path}/{bg_files[0]}.wav').samplerate"
   ]
  },
  {
   "cell_type": "code",
   "execution_count": 56,
   "metadata": {},
   "outputs": [
    {
     "data": {
      "text/plain": [
       "0        True\n",
       "1        True\n",
       "2        True\n",
       "3        True\n",
       "4        True\n",
       "        ...  \n",
       "4076    False\n",
       "4077    False\n",
       "4078    False\n",
       "4079    False\n",
       "4080    False\n",
       "Name: label, Length: 4081, dtype: bool"
      ]
     },
     "execution_count": 56,
     "metadata": {},
     "output_type": "execute_result"
    }
   ],
   "source": [
    "annotation_file['label'] == 1"
   ]
  },
  {
   "cell_type": "code",
   "execution_count": 50,
   "metadata": {},
   "outputs": [
    {
     "data": {
      "text/html": [
       "<div>\n",
       "<style scoped>\n",
       "    .dataframe tbody tr th:only-of-type {\n",
       "        vertical-align: middle;\n",
       "    }\n",
       "\n",
       "    .dataframe tbody tr th {\n",
       "        vertical-align: top;\n",
       "    }\n",
       "\n",
       "    .dataframe thead th {\n",
       "        text-align: right;\n",
       "    }\n",
       "</style>\n",
       "<table border=\"1\" class=\"dataframe\">\n",
       "  <thead>\n",
       "    <tr style=\"text-align: right;\">\n",
       "      <th></th>\n",
       "      <th>begin_time</th>\n",
       "      <th>end_time</th>\n",
       "      <th>filename</th>\n",
       "      <th>call_length</th>\n",
       "      <th>label</th>\n",
       "      <th>location</th>\n",
       "      <th>pst_or_master_tape_identifier</th>\n",
       "      <th>date</th>\n",
       "      <th>dataset</th>\n",
       "    </tr>\n",
       "  </thead>\n",
       "  <tbody>\n",
       "    <tr>\n",
       "      <th>0</th>\n",
       "      <td>34.126</td>\n",
       "      <td>37.044</td>\n",
       "      <td>60012</td>\n",
       "      <td>2.918</td>\n",
       "      <td>1</td>\n",
       "      <td>Dabob Bay, Seattle, Washington</td>\n",
       "      <td>60012</td>\n",
       "      <td>1960-10-28</td>\n",
       "      <td>podcast_round1</td>\n",
       "    </tr>\n",
       "    <tr>\n",
       "      <th>1</th>\n",
       "      <td>36.816</td>\n",
       "      <td>39.404</td>\n",
       "      <td>60012</td>\n",
       "      <td>2.588</td>\n",
       "      <td>1</td>\n",
       "      <td>Dabob Bay, Seattle, Washington</td>\n",
       "      <td>60012</td>\n",
       "      <td>1960-10-28</td>\n",
       "      <td>podcast_round1</td>\n",
       "    </tr>\n",
       "    <tr>\n",
       "      <th>2</th>\n",
       "      <td>42.550</td>\n",
       "      <td>44.605</td>\n",
       "      <td>60012</td>\n",
       "      <td>2.055</td>\n",
       "      <td>1</td>\n",
       "      <td>Dabob Bay, Seattle, Washington</td>\n",
       "      <td>60012</td>\n",
       "      <td>1960-10-28</td>\n",
       "      <td>podcast_round1</td>\n",
       "    </tr>\n",
       "    <tr>\n",
       "      <th>3</th>\n",
       "      <td>44.606</td>\n",
       "      <td>47.016</td>\n",
       "      <td>60012</td>\n",
       "      <td>2.410</td>\n",
       "      <td>1</td>\n",
       "      <td>Dabob Bay, Seattle, Washington</td>\n",
       "      <td>60012</td>\n",
       "      <td>1960-10-28</td>\n",
       "      <td>podcast_round1</td>\n",
       "    </tr>\n",
       "    <tr>\n",
       "      <th>4</th>\n",
       "      <td>46.636</td>\n",
       "      <td>50.061</td>\n",
       "      <td>60012</td>\n",
       "      <td>3.425</td>\n",
       "      <td>1</td>\n",
       "      <td>Dabob Bay, Seattle, Washington</td>\n",
       "      <td>60012</td>\n",
       "      <td>1960-10-28</td>\n",
       "      <td>podcast_round1</td>\n",
       "    </tr>\n",
       "    <tr>\n",
       "      <th>...</th>\n",
       "      <td>...</td>\n",
       "      <td>...</td>\n",
       "      <td>...</td>\n",
       "      <td>...</td>\n",
       "      <td>...</td>\n",
       "      <td>...</td>\n",
       "      <td>...</td>\n",
       "      <td>...</td>\n",
       "      <td>...</td>\n",
       "    </tr>\n",
       "    <tr>\n",
       "      <th>4076</th>\n",
       "      <td>0.000</td>\n",
       "      <td>61.250</td>\n",
       "      <td>OS_9_27_2017_11_53_00__0002</td>\n",
       "      <td>61.250</td>\n",
       "      <td>0</td>\n",
       "      <td>orcasound_lab</td>\n",
       "      <td>11:53:00</td>\n",
       "      <td>2017-09-27</td>\n",
       "      <td>podcast_round3</td>\n",
       "    </tr>\n",
       "    <tr>\n",
       "      <th>4077</th>\n",
       "      <td>0.000</td>\n",
       "      <td>61.250</td>\n",
       "      <td>OS_9_27_2017_11_53_00__0003</td>\n",
       "      <td>61.250</td>\n",
       "      <td>0</td>\n",
       "      <td>orcasound_lab</td>\n",
       "      <td>11:53:00</td>\n",
       "      <td>2017-09-27</td>\n",
       "      <td>podcast_round3</td>\n",
       "    </tr>\n",
       "    <tr>\n",
       "      <th>4078</th>\n",
       "      <td>0.000</td>\n",
       "      <td>61.250</td>\n",
       "      <td>OS_9_27_2017_11_58_00__0000</td>\n",
       "      <td>61.250</td>\n",
       "      <td>0</td>\n",
       "      <td>orcasound_lab</td>\n",
       "      <td>11:58:00</td>\n",
       "      <td>2017-09-27</td>\n",
       "      <td>podcast_round3</td>\n",
       "    </tr>\n",
       "    <tr>\n",
       "      <th>4079</th>\n",
       "      <td>0.000</td>\n",
       "      <td>61.250</td>\n",
       "      <td>OS_9_27_2017_11_58_00__0002</td>\n",
       "      <td>61.250</td>\n",
       "      <td>0</td>\n",
       "      <td>orcasound_lab</td>\n",
       "      <td>11:58:00</td>\n",
       "      <td>2017-09-27</td>\n",
       "      <td>podcast_round3</td>\n",
       "    </tr>\n",
       "    <tr>\n",
       "      <th>4080</th>\n",
       "      <td>0.000</td>\n",
       "      <td>61.250</td>\n",
       "      <td>OS_9_27_2017_11_58_00__0004</td>\n",
       "      <td>61.250</td>\n",
       "      <td>0</td>\n",
       "      <td>orcasound_lab</td>\n",
       "      <td>11:58:00</td>\n",
       "      <td>2017-09-27</td>\n",
       "      <td>podcast_round3</td>\n",
       "    </tr>\n",
       "  </tbody>\n",
       "</table>\n",
       "<p>4081 rows × 9 columns</p>\n",
       "</div>"
      ],
      "text/plain": [
       "      begin_time  end_time                     filename  call_length  label  \\\n",
       "0         34.126    37.044                        60012        2.918      1   \n",
       "1         36.816    39.404                        60012        2.588      1   \n",
       "2         42.550    44.605                        60012        2.055      1   \n",
       "3         44.606    47.016                        60012        2.410      1   \n",
       "4         46.636    50.061                        60012        3.425      1   \n",
       "...          ...       ...                          ...          ...    ...   \n",
       "4076       0.000    61.250  OS_9_27_2017_11_53_00__0002       61.250      0   \n",
       "4077       0.000    61.250  OS_9_27_2017_11_53_00__0003       61.250      0   \n",
       "4078       0.000    61.250  OS_9_27_2017_11_58_00__0000       61.250      0   \n",
       "4079       0.000    61.250  OS_9_27_2017_11_58_00__0002       61.250      0   \n",
       "4080       0.000    61.250  OS_9_27_2017_11_58_00__0004       61.250      0   \n",
       "\n",
       "                            location pst_or_master_tape_identifier  \\\n",
       "0     Dabob Bay, Seattle, Washington                         60012   \n",
       "1     Dabob Bay, Seattle, Washington                         60012   \n",
       "2     Dabob Bay, Seattle, Washington                         60012   \n",
       "3     Dabob Bay, Seattle, Washington                         60012   \n",
       "4     Dabob Bay, Seattle, Washington                         60012   \n",
       "...                              ...                           ...   \n",
       "4076                   orcasound_lab                      11:53:00   \n",
       "4077                   orcasound_lab                      11:53:00   \n",
       "4078                   orcasound_lab                      11:58:00   \n",
       "4079                   orcasound_lab                      11:58:00   \n",
       "4080                   orcasound_lab                      11:58:00   \n",
       "\n",
       "            date         dataset  \n",
       "0     1960-10-28  podcast_round1  \n",
       "1     1960-10-28  podcast_round1  \n",
       "2     1960-10-28  podcast_round1  \n",
       "3     1960-10-28  podcast_round1  \n",
       "4     1960-10-28  podcast_round1  \n",
       "...          ...             ...  \n",
       "4076  2017-09-27  podcast_round3  \n",
       "4077  2017-09-27  podcast_round3  \n",
       "4078  2017-09-27  podcast_round3  \n",
       "4079  2017-09-27  podcast_round3  \n",
       "4080  2017-09-27  podcast_round3  \n",
       "\n",
       "[4081 rows x 9 columns]"
      ]
     },
     "execution_count": 50,
     "metadata": {},
     "output_type": "execute_result"
    }
   ],
   "source": [
    "annotation_file"
   ]
  },
  {
   "cell_type": "code",
   "execution_count": null,
   "metadata": {},
   "outputs": [],
   "source": []
  }
 ],
 "metadata": {
  "kernelspec": {
   "display_name": "Detection",
   "language": "python",
   "name": ".venv"
  },
  "language_info": {
   "codemirror_mode": {
    "name": "ipython",
    "version": 3
   },
   "file_extension": ".py",
   "mimetype": "text/x-python",
   "name": "python",
   "nbconvert_exporter": "python",
   "pygments_lexer": "ipython3",
   "version": "3.7.4"
  },
  "toc": {
   "base_numbering": 1,
   "nav_menu": {},
   "number_sections": true,
   "sideBar": true,
   "skip_h1_title": false,
   "title_cell": "Table of Contents",
   "title_sidebar": "Contents",
   "toc_cell": false,
   "toc_position": {},
   "toc_section_display": true,
   "toc_window_display": false
  }
 },
 "nbformat": 4,
 "nbformat_minor": 4
}
