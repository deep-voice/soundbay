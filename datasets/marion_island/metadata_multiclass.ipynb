{
 "cells": [
  {
   "cell_type": "code",
   "execution_count": 1,
   "id": "015343a7-7173-4031-93c7-e40e7bfb22c1",
   "metadata": {
    "tags": []
   },
   "outputs": [],
   "source": [
    "from soundbay.utils.metadata_processing import (\n",
    "    bg_from_non_overlap_calls, \n",
    "    correct_call_times_with_duration, \n",
    "    non_overlap_df,\n",
    "    reorder_columns_to_default_view, \n",
    "    merge_calls\n",
    ")\n",
    "import pandas as pd\n",
    "import soundfile as sf\n",
    "import math\n",
    "import time\n",
    "import re\n",
    "import numpy as np\n",
    "import glob\n",
    "from typing import List"
   ]
  },
  {
   "cell_type": "code",
   "execution_count": 2,
   "id": "90362ce4-0968-42be-85cf-644103676087",
   "metadata": {
    "tags": []
   },
   "outputs": [],
   "source": [
    "annotations_path_2021_2022 = \"selection_tables/MARION_ISLAND_KW_SELECTION_TABLES/*.txt\"\n",
    "annotations_path_2022_2023 = \"selection_tables/5756.220509112958_220612142958.Table.1_social.selections.txt\"\n",
    "audio_files_path = \"/danielle_mnt/audio/audio_source/\"\n",
    "\n",
    "# batch syntax: \n",
    "batch_pattern = r\"Batch([0-9]+)|Bach([0-9]+)|Batch_([0-9]+)\"\n",
    "# call type syntax: \n",
    "call_type_pattern = r\"Batch[0-9]+([a-zA-Z]+)|Batch[0-9]+_([a-zA-Z]+)|Bach[0-9]+_([a-zA-Z]+)|Batch_[0-9]+_([a-zA-Z]+)\"\n",
    "# fix some call type typos\n",
    "call_type_mapping = {\n",
    "    'Upsweeps':'Upsweeps', \n",
    "    'Downsweeps':'Downsweeps', \n",
    "    'Whistles':'Whistles', \n",
    "    'Tones': 'Tones', \n",
    "    'Squeaks': 'Squeaks', \n",
    "    'Clicks': 'Clicks',\n",
    "    'Downseeps': 'Downsweeps', \n",
    "    'Squeak': 'Squeaks', \n",
    "    'Dowsnweeps': 'Downsweeps', \n",
    "    'Upsweep': 'Upsweeps', \n",
    "    'Tone':'Tones',\n",
    "    'Downsweep': 'Downsweeps'\n",
    "}\n",
    "\n",
    "call_type_label = {\n",
    "    'Upsweeps': 1,\n",
    "    'Downsweeps': 2,\n",
    "    'Whistles': 3,\n",
    "    'Tones': 4,\n",
    "    'Squeaks': 5,\n",
    "    'Clicks': 6,\n",
    "    # np.nan: 6\n",
    "}\n",
    "\n",
    "file_sec_length = 14 * 60\n",
    "time_delta = 0.75\n",
    "seed = 1234\n",
    "random_rng = np.random.default_rng(seed)"
   ]
  },
  {
   "cell_type": "code",
   "execution_count": 3,
   "id": "79872fb7-6226-40d6-b8fc-bd2941cff28a",
   "metadata": {
    "tags": []
   },
   "outputs": [],
   "source": [
    "def get_first_non_null_str_match(pattern: str, s: str) -> str: \n",
    "    return list(filter(lambda x: x!='', re.findall(pattern, s)[0]))[0]\n",
    "\n",
    "\n",
    "def get_date_and_hour_from_filename(filename: str) -> str:\n",
    "    filename = filename.split('.')[1]\n",
    "    year, month, day = '20'+filename[:2], filename[2:4], filename[4:6]\n",
    "    hour, minute, sec = filename[6:8], filename[8:10], filename[10:12]\n",
    "    return f'{year}{month}{day}', f'{hour}:{minute}:{sec}'\n",
    "\n",
    "\n",
    "def get_time_in_file(sec_time, files_delta=file_sec_length, type='start') -> float:\n",
    "    time_in_file = sec_time - ((sec_time // files_delta) * files_delta)\n",
    "    if type == 'end' and time_in_file == 0:\n",
    "        time_in_file = FILES_DELTA\n",
    "    return time_in_file\n",
    "\n",
    "\n",
    "def set_time_bounds(\n",
    "    time_in_file, \n",
    "    start=True, \n",
    "    delta = time_delta,\n",
    "    files_delta=file_sec_length, \n",
    "    random_rng=random_rng) -> float:\n",
    "    return min(max(0, time_in_file - (start) * delta + (1-start) * delta), files_delta)\n",
    "\n",
    "\n",
    "def data_enrichment(data: pd.DataFrame) -> pd.DataFrame: \n",
    "    return data.assign(\n",
    "        date=lambda df: df['Begin File'].apply(get_date_and_hour_from_filename).apply(lambda t:t[0]), \n",
    "        time=lambda df: df['Begin File'].apply(get_date_and_hour_from_filename).apply(lambda t:t[1]), \n",
    "        time_in_file=lambda df:  df['Begin Time (s)'].apply(get_time_in_file),\n",
    "        begin_time=lambda df: df.time_in_file.apply(set_time_bounds),\n",
    "        end_time=lambda df: df.time_in_file.apply(set_time_bounds, start=0),\n",
    "        call_length=lambda df: df.end_time - df.begin_time,\n",
    "        filename=lambda df: df['Begin File'].str.replace('.wav',''), \n",
    "        channel=lambda df: df['Channel']\n",
    "    )\n"
   ]
  },
  {
   "cell_type": "code",
   "execution_count": 4,
   "id": "be98c432-5865-4615-aebc-9af8b4cdc0b4",
   "metadata": {
    "tags": []
   },
   "outputs": [
    {
     "data": {
      "text/plain": [
       "759.25"
      ]
     },
     "execution_count": 4,
     "metadata": {},
     "output_type": "execute_result"
    }
   ],
   "source": [
    "set_time_bounds(760, start=True)"
   ]
  },
  {
   "cell_type": "code",
   "execution_count": 5,
   "id": "80022175-81b8-4add-ace9-f1fc8c863533",
   "metadata": {
    "tags": []
   },
   "outputs": [
    {
     "data": {
      "text/plain": [
       "760.75"
      ]
     },
     "execution_count": 5,
     "metadata": {},
     "output_type": "execute_result"
    }
   ],
   "source": [
    "set_time_bounds(760, start=False)"
   ]
  },
  {
   "cell_type": "code",
   "execution_count": 14,
   "id": "51d01b3f-37e0-463d-b937-1412ae1b1f1a",
   "metadata": {
    "tags": []
   },
   "outputs": [
    {
     "name": "stderr",
     "output_type": "stream",
     "text": [
      "/anaconda/envs/pywhale/lib/python3.7/site-packages/ipykernel_launcher.py:39: FutureWarning: The default value of regex will change from True to False in a future version.\n"
     ]
    },
    {
     "name": "stdout",
     "output_type": "stream",
     "text": [
      "\n",
      " recording length: 840\n",
      " shape: (8364, 19)\n",
      " min time in file: 3.033401154000103\n",
      " max time in file: 839.5595264080002\n",
      " min begin time: 2.283401154000103\n",
      " max end time: 840.0\n",
      " min_call_length: 1.19\n",
      " max_call_length: 1.5\n",
      "\n"
     ]
    }
   ],
   "source": [
    "l = [pd\n",
    "     .read_table(filename)\n",
    "     .assign(\n",
    "        batch=get_first_non_null_str_match(batch_pattern, filename),\n",
    "        call_type=call_type_mapping[get_first_non_null_str_match(call_type_pattern, filename)],)\n",
    "     .pipe(data_enrichment)\n",
    "     for filename in glob.glob(annotations_path_2021_2022)]\n",
    "\n",
    "annotations = pd.concat(\n",
    "    l + [pd.read_table(annotations_path_2022_2023).pipe(data_enrichment)], axis=0\n",
    ").query('call_type in [\"Downsweeps\", \"Upsweeps\"]')\n",
    "# .query('call_type != \"Clicks\"')\n",
    "\n",
    "print('\\n',\n",
    "    'recording length: ' + str(file_sec_length) + '\\n',\n",
    "    'shape: ' + str(annotations.shape) + '\\n', \n",
    "    'min time in file: ' + str(annotations.time_in_file.min()) + '\\n',\n",
    "    'max time in file: ' + str(annotations.time_in_file.max()) + '\\n',\n",
    "    'min begin time: ' + str(annotations.begin_time.min()) + '\\n',\n",
    "    'max end time: ' + str(annotations.end_time.max()) + '\\n',\n",
    "    'min_call_length: ' + str(annotations.call_length.min().round(3)) + '\\n',\n",
    "    'max_call_length: ' + str(annotations.call_length.max().round(3)) + '\\n',\n",
    "     )"
   ]
  },
  {
   "cell_type": "code",
   "execution_count": 16,
   "id": "7b34a1a1-f659-4d6c-a5b8-0ddd8bb06e61",
   "metadata": {
    "tags": []
   },
   "outputs": [],
   "source": [
    "annotations_with_call_type = annotations.dropna(subset=['call_type'])\n",
    "# corrected_annotations = correct_call_times_with_duration(annotations_with_call_type, audio_files_path)"
   ]
  },
  {
   "cell_type": "code",
   "execution_count": 17,
   "id": "8256cbe9-991b-4b32-bf6e-10734cab7e95",
   "metadata": {
    "tags": []
   },
   "outputs": [
    {
     "data": {
      "text/plain": [
       "(8364, 19)"
      ]
     },
     "execution_count": 17,
     "metadata": {},
     "output_type": "execute_result"
    }
   ],
   "source": [
    "corrected_annotations.shape"
   ]
  },
  {
   "cell_type": "code",
   "execution_count": 18,
   "id": "3d27531d-bcf9-4457-bfbd-cf81c46ad433",
   "metadata": {
    "tags": []
   },
   "outputs": [
    {
     "data": {
      "text/plain": [
       "(8364, 20)"
      ]
     },
     "execution_count": 18,
     "metadata": {},
     "output_type": "execute_result"
    }
   ],
   "source": [
    "annotations_with_call_type.shape"
   ]
  },
  {
   "cell_type": "code",
   "execution_count": 23,
   "id": "3a5f71e3-35c6-49d2-a5c6-3ca89784ed47",
   "metadata": {
    "tags": []
   },
   "outputs": [],
   "source": [
    "merged_df = non_overlap_df(annotations_with_call_type.drop(['call_type'], axis=1))"
   ]
  },
  {
   "cell_type": "code",
   "execution_count": 24,
   "id": "f0433da8-86a4-4909-98f7-810027fc2c76",
   "metadata": {
    "tags": []
   },
   "outputs": [],
   "source": [
    "bg = bg_from_non_overlap_calls(merged_df).query('call_length!=0').query('label==0').reset_index(drop=True)"
   ]
  },
  {
   "cell_type": "code",
   "execution_count": 25,
   "id": "654b98c3-3f6d-4522-8005-7147a8eb31ce",
   "metadata": {
    "tags": []
   },
   "outputs": [],
   "source": [
    "annotations_with_bg = pd.concat([\n",
    "    annotations_with_call_type.assign(label=lambda df: df.call_type.map(call_type_label)), \n",
    "    bg\n",
    "], ignore_index=True).sort_values(['filename', 'begin_time']).reset_index(drop=True)"
   ]
  },
  {
   "cell_type": "code",
   "execution_count": 26,
   "id": "4dd55b9d-4f82-482e-993a-e522856cc39f",
   "metadata": {
    "tags": []
   },
   "outputs": [
    {
     "name": "stdout",
     "output_type": "stream",
     "text": [
      "annotations with bg noise shape: (15106, 21) \n",
      "call_length 99 percentile:  1.5 \n",
      "min_call_length:  1.158 \n",
      "max_call_length:  1.5 \n",
      "\n"
     ]
    }
   ],
   "source": [
    "print(\n",
    "        f\"annotations with bg noise shape: {annotations_with_bg.shape} \\n\"\n",
    "        f\"call_length 99 percentile:  {annotations_with_bg.query('label!=0').call_length.quantile(0.99).round(3)} \\n\"\n",
    "        f\"min_call_length:  {annotations_with_bg.query('label!=0').call_length.min().round(3)} \\n\"\n",
    "        f\"max_call_length:  {annotations_with_bg.query('label!=0').call_length.max().round(3)} \\n\"\n",
    "       )"
   ]
  },
  {
   "cell_type": "code",
   "execution_count": 27,
   "id": "c72de0d3-2c0d-419b-b28d-795a5d1b421b",
   "metadata": {
    "tags": []
   },
   "outputs": [
    {
     "data": {
      "text/html": [
       "<div>\n",
       "<style scoped>\n",
       "    .dataframe tbody tr th:only-of-type {\n",
       "        vertical-align: middle;\n",
       "    }\n",
       "\n",
       "    .dataframe tbody tr th {\n",
       "        vertical-align: top;\n",
       "    }\n",
       "\n",
       "    .dataframe thead th {\n",
       "        text-align: right;\n",
       "    }\n",
       "</style>\n",
       "<table border=\"1\" class=\"dataframe\">\n",
       "  <thead>\n",
       "    <tr style=\"text-align: right;\">\n",
       "      <th></th>\n",
       "      <th>begin_time</th>\n",
       "      <th>end_time</th>\n",
       "      <th>label</th>\n",
       "    </tr>\n",
       "  </thead>\n",
       "  <tbody>\n",
       "    <tr>\n",
       "      <th>0</th>\n",
       "      <td>677.885</td>\n",
       "      <td>679.385</td>\n",
       "      <td>2.0</td>\n",
       "    </tr>\n",
       "    <tr>\n",
       "      <th>1</th>\n",
       "      <td>679.385</td>\n",
       "      <td>691.081</td>\n",
       "      <td>0.0</td>\n",
       "    </tr>\n",
       "    <tr>\n",
       "      <th>2</th>\n",
       "      <td>691.081</td>\n",
       "      <td>692.581</td>\n",
       "      <td>2.0</td>\n",
       "    </tr>\n",
       "    <tr>\n",
       "      <th>3</th>\n",
       "      <td>692.581</td>\n",
       "      <td>700.111</td>\n",
       "      <td>0.0</td>\n",
       "    </tr>\n",
       "    <tr>\n",
       "      <th>4</th>\n",
       "      <td>700.111</td>\n",
       "      <td>701.611</td>\n",
       "      <td>2.0</td>\n",
       "    </tr>\n",
       "  </tbody>\n",
       "</table>\n",
       "</div>"
      ],
      "text/plain": [
       "   begin_time  end_time  label\n",
       "0     677.885   679.385    2.0\n",
       "1     679.385   691.081    0.0\n",
       "2     691.081   692.581    2.0\n",
       "3     692.581   700.111    0.0\n",
       "4     700.111   701.611    2.0"
      ]
     },
     "execution_count": 27,
     "metadata": {},
     "output_type": "execute_result"
    }
   ],
   "source": [
    "annotations_with_bg.sort_values(['filename','begin_time']).reset_index(drop=True).head(5)[['begin_time','end_time', 'label']].round(3)"
   ]
  },
  {
   "cell_type": "code",
   "execution_count": 38,
   "id": "fda10d2e-f6eb-44cd-9901-55b5a5cdec3c",
   "metadata": {
    "tags": []
   },
   "outputs": [],
   "source": [
    "train_pct = 0.85 \n",
    "val_pct = 1 - train_pct\n",
    "n = len(annotations_with_bg.query('label==1'))\n",
    "annotations_with_bg = annotations_with_bg.astype({'label':int}).sort_values(by=[\"date\", \"time\", \"filename\"])\n",
    "last_filename = annotations_with_bg.query('label==1').iloc[:int(n * train_pct)].filename.iloc[-1]\n",
    "train = annotations_with_bg.query('filename <= @last_filename')\n",
    "val = annotations_with_bg.query('filename > @last_filename')\n",
    "\n",
    "train.to_csv(f'train_{time_delta}_by_files_3_class_per_frame.csv', index=False)\n",
    "val.to_csv(f'val_{time_delta}_by_files_3_class_per_frame.csv', index=False)"
   ]
  },
  {
   "cell_type": "code",
   "execution_count": 34,
   "id": "762d9ea0-4c33-4c85-83d2-912d0c110e8e",
   "metadata": {
    "tags": []
   },
   "outputs": [
    {
     "data": {
      "text/plain": [
       "0    1179\n",
       "2     986\n",
       "1     429\n",
       "Name: label, dtype: int64"
      ]
     },
     "execution_count": 34,
     "metadata": {},
     "output_type": "execute_result"
    }
   ],
   "source": [
    "val.label.value_counts()"
   ]
  },
  {
   "cell_type": "code",
   "execution_count": 35,
   "id": "05a3c004-e8c9-48bb-93d5-65e65d4e38e0",
   "metadata": {
    "tags": []
   },
   "outputs": [
    {
     "data": {
      "text/plain": [
       "0    5563\n",
       "2    4359\n",
       "1    2590\n",
       "Name: label, dtype: int64"
      ]
     },
     "execution_count": 35,
     "metadata": {},
     "output_type": "execute_result"
    }
   ],
   "source": [
    "train.label.value_counts()"
   ]
  },
  {
   "cell_type": "code",
   "execution_count": 36,
   "id": "a1f72417-2afa-4f84-863f-11f0c24653bc",
   "metadata": {
    "tags": []
   },
   "outputs": [
    {
     "data": {
      "text/plain": [
       "3"
      ]
     },
     "execution_count": 36,
     "metadata": {},
     "output_type": "execute_result"
    }
   ],
   "source": [
    "train.label.nunique()"
   ]
  },
  {
   "cell_type": "code",
   "execution_count": 37,
   "id": "cb068ec2-74af-4ea5-b3b3-a8dfc1017a3d",
   "metadata": {
    "tags": []
   },
   "outputs": [
    {
     "name": "stdout",
     "output_type": "stream",
     "text": [
      "train\n",
      "Number of samples: 12512\n",
      "Labels breakdown:\n",
      " 0    5563\n",
      "2    4359\n",
      "1    2590\n",
      "Name: label, dtype: int64\n",
      "Calls length: 2.0:53.0:42.95\n",
      "Background length: 19.0:31.0:27.69\n",
      "-----------------------------------------------------------------------------\n",
      "val\n",
      "Number of samples: 2594\n",
      "Labels breakdown:\n",
      " 0    1179\n",
      "2     986\n",
      "1     429\n",
      "Name: label, dtype: int64\n",
      "Calls length: 0.0:35.0:22.02\n",
      "Background length: 6.0:23.0:39.03\n",
      "-----------------------------------------------------------------------------\n"
     ]
    }
   ],
   "source": [
    "def get_time_in_hrs_format(time_secs):\n",
    "    return time_secs//3600, (time_secs - time_secs//3600 * 3600) // 60, round(time_secs % 60,2)\n",
    "\n",
    "for name, meta in {'train': train, 'val': val}.items():\n",
    "    print(name)\n",
    "    print(f'Number of samples: {len(meta)}')\n",
    "    print(f\"Labels breakdown:\\n {meta['label'].value_counts()}\")\n",
    "    h, m, s = get_time_in_hrs_format(meta['call_length'][meta['label']!=0].sum())\n",
    "    print(f\"Calls length: {h}:{m}:{s}\")\n",
    "    h, m, s = get_time_in_hrs_format(meta['call_length'][meta['label']==0].sum())\n",
    "    print(f\"Background length: {h}:{m}:{s}\")\n",
    "    print('-----------------------------------------------------------------------------')"
   ]
  }
 ],
 "metadata": {
  "kernelspec": {
   "display_name": "Python 3 (ipykernel)",
   "language": "python",
   "name": "python3"
  },
  "language_info": {
   "codemirror_mode": {
    "name": "ipython",
    "version": 3
   },
   "file_extension": ".py",
   "mimetype": "text/x-python",
   "name": "python",
   "nbconvert_exporter": "python",
   "pygments_lexer": "ipython3",
   "version": "3.7.16"
  }
 },
 "nbformat": 4,
 "nbformat_minor": 5
}
