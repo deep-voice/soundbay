{
 "cells": [
  {
   "cell_type": "code",
   "execution_count": 1,
   "id": "41e6b878-30f0-446e-82f6-eb03c787a8de",
   "metadata": {
    "tags": []
   },
   "outputs": [],
   "source": [
    "import glob \n",
    "import pandas as pd\n",
    "\n",
    "from soundbay.utils.metadata_processing import (\n",
    "    bg_from_non_overlap_calls, \n",
    "    correct_call_times_with_duration, \n",
    "    non_overlap_df,\n",
    "    reorder_columns_to_default_view, \n",
    "    merge_calls\n",
    ")"
   ]
  },
  {
   "cell_type": "code",
   "execution_count": 5,
   "id": "90179555-d000-4de4-a9ee-f264dd3e5601",
   "metadata": {
    "tags": []
   },
   "outputs": [],
   "source": [
    "files_path = '../outputs/Inference_results-2024-10-19_09*.csv'"
   ]
  },
  {
   "cell_type": "code",
   "execution_count": 6,
   "id": "3ab180f6-f4b8-4769-90cf-870f26e3d21e",
   "metadata": {
    "tags": []
   },
   "outputs": [],
   "source": [
    "raven_files = glob.glob(files_path)"
   ]
  },
  {
   "cell_type": "code",
   "execution_count": 7,
   "id": "a9300aa8-c95f-4e58-8280-9b3e2788d5df",
   "metadata": {
    "tags": []
   },
   "outputs": [
    {
     "data": {
      "text/plain": [
       "['../outputs/Inference_results-2024-10-19_09-26-08-d0grath1-5756.221130122958.csv',\n",
       " '../outputs/Inference_results-2024-10-19_09-26-28-d0grath1-5756.221220162958.csv',\n",
       " '../outputs/Inference_results-2024-10-19_09-26-45-d0grath1-5756.221222152958.csv',\n",
       " '../outputs/Inference_results-2024-10-19_09-27-04-d0grath1-5756.221223092958.csv',\n",
       " '../outputs/Inference_results-2024-10-19_09-27-21-d0grath1-5756.221229032958.csv',\n",
       " '../outputs/Inference_results-2024-10-19_09-27-41-d0grath1-5756.230118024056.csv']"
      ]
     },
     "execution_count": 7,
     "metadata": {},
     "output_type": "execute_result"
    }
   ],
   "source": [
    "sorted(raven_files)"
   ]
  },
  {
   "cell_type": "code",
   "execution_count": 290,
   "id": "8a63addb-098e-4cfa-b710-0a57d70fabea",
   "metadata": {
    "tags": []
   },
   "outputs": [],
   "source": [
    "th = 0.3\n",
    "raven_files = glob.glob(files_path)\n",
    "df = pd.concat([\n",
    "    pd.read_csv(f)\n",
    "    .assign(**{\n",
    "        'Begin File': lambda x: f.split('-')[-1].split('.csv')[0] + '.wav', \n",
    "        'Begin Time (s)': lambda x: x['begin_time'] + i * (840), \n",
    "        'End Time (s)': lambda x: x['end_time'] + i * (840), \n",
    "        'End File':  lambda x: x['Begin File'], \n",
    "        'View': 1, \n",
    "        'Channel': lambda x: x['channel'], \n",
    "        'label': lambda x: x[['Upsweeps','Downsweeps']].gt(th).any(axis=1).astype(int), \n",
    "        'class': lambda x: x[['Upsweeps','Downsweeps']].idxmax(axis=1), \n",
    "        'prob': lambda x: x[['Upsweeps','Downsweeps']].max(axis=1).round(3),\n",
    "        'call_prob': lambda x: x[['Upsweeps','Downsweeps']].sum(axis=1).round(3),\n",
    "        'file': i, \n",
    "    })\n",
    "    .pipe(lambda df: df[df['Begin Time (s)'] >= (i * (840)) + 3])\n",
    "    .query('label==1')\n",
    "    .assign(**{      \n",
    "        'next_prob': lambda x: x.prob.shift(-1).values,\n",
    "        'prev_prob': lambda x: x.prob.shift(1).values,\n",
    "        'next_overlap': lambda x: (x.begin_time.shift(-1) < x.end_time).values, \n",
    "        'prev_overlap': lambda x: (x.end_time.shift() > x.begin_time).values,\n",
    "        'next_prob_pct_change': lambda x: (x.prob-x.prob.shift(-1)).div(x.prob).values, \n",
    "        'prev_prob_pct_change': lambda x: (x.prob-x.prob.shift(1)).div(x.prob).values, \n",
    "    })\n",
    "    for i, f in enumerate(sorted(raven_files))\n",
    "]).sort_values(['Begin File', 'Begin Time (s)']).reset_index(drop=True)"
   ]
  },
  {
   "cell_type": "code",
   "execution_count": 283,
   "id": "4ac31270-cb10-4397-8971-18d6a5e01d56",
   "metadata": {
    "tags": []
   },
   "outputs": [],
   "source": [
    "df.loc[:, 'channel': 'prob'].to_csv('overlap_calls.txt', sep='\\t')"
   ]
  },
  {
   "cell_type": "code",
   "execution_count": 312,
   "id": "fc89777e-9afa-422b-99b4-e5896624a415",
   "metadata": {
    "tags": []
   },
   "outputs": [],
   "source": [
    "overlap_prob_drop = 0.1\n",
    "\n",
    "merged_by_call_type = (\n",
    "    df.loc[~(\n",
    "    ((df.next_overlap) & (df.next_prob_pct_change < -overlap_prob_drop)) |\n",
    "    ((df.prev_overlap) & (df.prev_prob_pct_change < -overlap_prob_drop)))]\n",
    "    .pipe(non_overlap_df, overlap_pct_th=0.3)\n",
    "    # .pipe(non_overlap_df, overlap_pct_th=1)\n",
    "    .reset_index(drop=True)\n",
    "    .assign(**{\n",
    "        'end_time': lambda x: x.end_time.round(3), \n",
    "        'begin_time': lambda x: x.begin_time.round(3), \n",
    "        'Begin Time (s)': lambda x: x['begin_time'] + (x['file']*840) , \n",
    "        'End Time (s)': lambda x: x['end_time']+ (x['file']*840),\n",
    "        'Selection': lambda x: x.index + 1, \n",
    "        'Low Freq (Hz)': 0, \n",
    "        'High Freq (Hz)': 48000, \n",
    "        \n",
    "    })\n",
    "    .loc[:, 'channel': 'High Freq (Hz)']\n",
    ")"
   ]
  },
  {
   "cell_type": "code",
   "execution_count": 313,
   "id": "2151f5ed-ffc7-42c2-9a7a-47127c74d1a4",
   "metadata": {
    "tags": []
   },
   "outputs": [],
   "source": [
    "txt_columns = [\n",
    "    'Selection',\n",
    "    'View', \n",
    "    'Channel', \n",
    "    'Begin Time (s)', \n",
    "    'End Time (s)', \n",
    "    'Begin File', \n",
    "    'End File', \n",
    "    'prob', \n",
    "]"
   ]
  },
  {
   "cell_type": "code",
   "execution_count": 316,
   "id": "6d42deb8-51f2-4535-8ffa-eb1df91d3343",
   "metadata": {
    "tags": []
   },
   "outputs": [
    {
     "data": {
      "text/plain": [
       "(173, 27)"
      ]
     },
     "execution_count": 316,
     "metadata": {},
     "output_type": "execute_result"
    }
   ],
   "source": [
    "merged_by_call_type.shape"
   ]
  },
  {
   "cell_type": "code",
   "execution_count": 317,
   "id": "ac2bfb4e-b211-4a23-a376-442697ea7206",
   "metadata": {
    "tags": []
   },
   "outputs": [],
   "source": [
    "merged_by_call_type[txt_columns].to_csv('predictions_all_files.txt', sep='\\t')"
   ]
  },
  {
   "cell_type": "code",
   "execution_count": 319,
   "id": "417dc6af-3a1f-4c2b-bc8a-93d03c05be7b",
   "metadata": {
    "tags": []
   },
   "outputs": [
    {
     "data": {
      "text/html": [
       "<div>\n",
       "<style scoped>\n",
       "    .dataframe tbody tr th:only-of-type {\n",
       "        vertical-align: middle;\n",
       "    }\n",
       "\n",
       "    .dataframe tbody tr th {\n",
       "        vertical-align: top;\n",
       "    }\n",
       "\n",
       "    .dataframe thead th {\n",
       "        text-align: right;\n",
       "    }\n",
       "</style>\n",
       "<table border=\"1\" class=\"dataframe\">\n",
       "  <thead>\n",
       "    <tr style=\"text-align: right;\">\n",
       "      <th></th>\n",
       "    </tr>\n",
       "  </thead>\n",
       "  <tbody>\n",
       "  </tbody>\n",
       "</table>\n",
       "</div>"
      ],
      "text/plain": [
       "Empty DataFrame\n",
       "Columns: []\n",
       "Index: []"
      ]
     },
     "execution_count": 319,
     "metadata": {},
     "output_type": "execute_result"
    }
   ],
   "source": [
    "(\n",
    "    merged_by_call_type.groupby('Begin File')\n",
    "    .apply(lambda g: \n",
    "           g\n",
    "           .assign(**{'Begin Time (s)': lambda x: x['begin_time'], 'End Time (s)': lambda x: x['end_time']})\n",
    "           [txt_columns]\n",
    "           .to_csv(f'predictions_per_file/predictions_{g.name.split(\".wav\")[0]}.txt', sep='\\t')\n",
    "          )\n",
    ")"
   ]
  }
 ],
 "metadata": {
  "kernelspec": {
   "display_name": "Python 3 (ipykernel)",
   "language": "python",
   "name": "python3"
  },
  "language_info": {
   "codemirror_mode": {
    "name": "ipython",
    "version": 3
   },
   "file_extension": ".py",
   "mimetype": "text/x-python",
   "name": "python",
   "nbconvert_exporter": "python",
   "pygments_lexer": "ipython3",
   "version": "3.7.16"
  }
 },
 "nbformat": 4,
 "nbformat_minor": 5
}
