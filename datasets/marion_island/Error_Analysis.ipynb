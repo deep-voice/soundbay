{
 "cells": [
  {
   "cell_type": "code",
   "execution_count": 1,
   "id": "78442413-cb00-4008-9b24-6da2f2414e88",
   "metadata": {
    "tags": []
   },
   "outputs": [
    {
     "name": "stderr",
     "output_type": "stream",
     "text": [
      "/anaconda/envs/pywhale/lib/python3.7/site-packages/tqdm/auto.py:22: TqdmWarning: IProgress not found. Please update jupyter and ipywidgets. See https://ipywidgets.readthedocs.io/en/stable/user_install.html\n",
      "  from .autonotebook import tqdm as notebook_tqdm\n"
     ]
    }
   ],
   "source": [
    "import pandas as pd\n",
    "import numpy as np\n",
    "import seaborn as sns\n",
    "import glob \n",
    "import re\n",
    "import torch\n",
    "from hydra.utils import instantiate\n",
    "from hydra import initialize, compose\n",
    "import omegaconf\n",
    "from soundbay.inference import load_model\n",
    "from soundbay.data import ClassifierDataset\n",
    "import matplotlib.pyplot as plt\n",
    "from sklearn.metrics import f1_score, precision_score, accuracy_score, recall_score\n",
    "%matplotlib inline"
   ]
  },
  {
   "cell_type": "code",
   "execution_count": 9,
   "id": "a3f168e0-1d10-4a72-ace2-7f7bfe6f9677",
   "metadata": {
    "tags": []
   },
   "outputs": [],
   "source": [
    "model_path='../../soundbay/checkpoints/d0grath1/best.pth'\n",
    "selection_tables_path = '/home/azureuser/danielle/notebooks/selection_tables/MARION_ISLAND_KW_SELECTION_TABLES'"
   ]
  },
  {
   "cell_type": "markdown",
   "id": "b3267f75-29a8-44f6-bf18-8623aa5ef9c1",
   "metadata": {},
   "source": [
    "# Load model and dataloader from config YAML"
   ]
  },
  {
   "cell_type": "code",
   "execution_count": 3,
   "id": "8ac9fd03-5dd4-4d2a-84c2-a9631c925b16",
   "metadata": {
    "tags": []
   },
   "outputs": [],
   "source": [
    "import os"
   ]
  },
  {
   "cell_type": "code",
   "execution_count": 5,
   "id": "af88d070-48e0-4397-9bc3-6bb1a431084e",
   "metadata": {
    "tags": []
   },
   "outputs": [],
   "source": [
    "os.chdir('../../soundbay/soundbay/')  # This is needed - compose works only from the source dir of the package"
   ]
  },
  {
   "cell_type": "code",
   "execution_count": 6,
   "id": "2551b3cb-9811-48dc-8dce-e421951030c7",
   "metadata": {
    "tags": []
   },
   "outputs": [
    {
     "name": "stderr",
     "output_type": "stream",
     "text": [
      "/anaconda/envs/pywhale/lib/python3.7/site-packages/ipykernel_launcher.py:1: UserWarning: \n",
      "The version_base parameter is not specified.\n",
      "Please specify a compatability version level, or None.\n",
      "Will assume defaults for version 1.1\n",
      "  \"\"\"Entry point for launching an IPython kernel.\n"
     ]
    }
   ],
   "source": [
    "with initialize(config_path='../../soundbay/soundbay/conf/'):\n",
    "        cfg = compose(config_name=\"runs/marion_killer_whale.yaml\")\n",
    "        cfg.data.val_dataset.metadata_path = 'annotations_all_call_types/val_0.75_by_files_multiclass_frame.csv'\n"
   ]
  },
  {
   "cell_type": "code",
   "execution_count": 7,
   "id": "a0c34ef6-af2f-4b89-88ed-04769c2d0ed3",
   "metadata": {
    "tags": []
   },
   "outputs": [],
   "source": [
    "val_dataset=ClassifierDataset(**{k:v for k,v in cfg.data.val_dataset.items() if k not in ['_target_']})"
   ]
  },
  {
   "cell_type": "markdown",
   "id": "10f176b6-6c15-49db-b26d-94cb4f718f19",
   "metadata": {},
   "source": [
    "## Load model state from checkpoint"
   ]
  },
  {
   "cell_type": "code",
   "execution_count": 10,
   "id": "d9dde63e-ca16-4757-bbb2-4b8ecf5ad7c7",
   "metadata": {
    "tags": []
   },
   "outputs": [],
   "source": [
    "model = instantiate(cfg.model.model)\n",
    "ckpt_dict = torch.load(model_path, map_location=torch.device('cuda'))\n",
    "device = torch.device('cuda')\n",
    "model.load_state_dict(ckpt_dict['model'])\n",
    "model = model.to(device)\n",
    "model = model.eval()"
   ]
  },
  {
   "cell_type": "markdown",
   "id": "981f296b-e2e9-412d-b8c3-4cea9b44aee4",
   "metadata": {},
   "source": [
    "## Create data loader from dataset"
   ]
  },
  {
   "cell_type": "code",
   "execution_count": 11,
   "id": "02441ae7-f957-4b1e-94d9-08f04cc69266",
   "metadata": {
    "tags": []
   },
   "outputs": [],
   "source": [
    "data_loader = torch.utils.data.DataLoader(val_dataset, batch_size=64, num_workers=6, shuffle=False, pin_memory=True)"
   ]
  },
  {
   "cell_type": "markdown",
   "id": "910ee704-8c45-48aa-aee1-c96c92786ab3",
   "metadata": {},
   "source": [
    "# Plot classification results"
   ]
  },
  {
   "cell_type": "markdown",
   "id": "51257dbf-78ac-4aa8-a9da-028100373f9b",
   "metadata": {},
   "source": [
    "### function that returns arrays of labels and predictions "
   ]
  },
  {
   "cell_type": "code",
   "execution_count": 12,
   "id": "e2d4ba98-c293-46e6-af1f-05e6dfa9512b",
   "metadata": {
    "tags": []
   },
   "outputs": [],
   "source": [
    "def preds_and_labels(model, dataloader):\n",
    "    y_true = []\n",
    "    y_pred = []\n",
    "    for batch in data_loader:\n",
    "        pred = model(batch[0].to(device)).detach().cpu().numpy()\n",
    "        label = batch[1].cpu().numpy()\n",
    "        y_pred.append(pred)\n",
    "        y_true.append(label)\n",
    "    return np.concatenate(y_true, axis=0), np.concatenate(y_pred, axis=0)"
   ]
  },
  {
   "cell_type": "code",
   "execution_count": 13,
   "id": "034e432c-505d-48f5-8e9e-9ee13dfbf3d2",
   "metadata": {
    "tags": []
   },
   "outputs": [
    {
     "name": "stdout",
     "output_type": "stream",
     "text": [
      "in /danielle_mnt/audio/audio_source/5756.220309093455.wav, one of the val's begin times is too big and exceeding the file so it was set to be smaller\n",
      "begin time:80525714, last_start_time:80492848\n",
      "in /danielle_mnt/audio/audio_source/5756.220422183455.wav, one of the val's begin times is too big and exceeding the file so it was set to be smaller\n",
      "begin time:80509152, last_start_time:80496640\n"
     ]
    }
   ],
   "source": [
    "y_true, y_pred = preds_and_labels(model, data_loader)"
   ]
  },
  {
   "cell_type": "code",
   "execution_count": null,
   "id": "0305a73b-7bc8-48da-ad23-165a8a81388e",
   "metadata": {},
   "outputs": [],
   "source": [
    "th = 0.2"
   ]
  },
  {
   "cell_type": "code",
   "execution_count": 14,
   "id": "6fbdfacd-f203-4640-b8c8-c6d9af34a937",
   "metadata": {
    "tags": []
   },
   "outputs": [],
   "source": [
    "agg_y_true = pd.Series(y_true).between(1,5).astype(int)"
   ]
  },
  {
   "cell_type": "code",
   "execution_count": 15,
   "id": "ca01e953-108c-46eb-b0bd-f82648d0e88d",
   "metadata": {
    "tags": []
   },
   "outputs": [],
   "source": [
    "agg_y_pred = (torch.nn.Softmax(dim=1)(torch.Tensor(y_pred)).numpy() > th)[:,1:6].any(axis=1).astype(int)"
   ]
  },
  {
   "cell_type": "code",
   "execution_count": 16,
   "id": "697b3bcf-7765-46c5-bcd9-682991bbf672",
   "metadata": {
    "tags": []
   },
   "outputs": [],
   "source": [
    "metadata = val_dataset.metadata.assign(\n",
    "    y_true=agg_y_true, \n",
    "    y_pred=agg_y_pred, \n",
    "    label=y_true,\n",
    "    sm=torch.nn.Softmax(dim=1)(torch.Tensor(y_pred)).numpy()[:, 1:6].max(axis=1),\n",
    "    pred_label = lambda df: (torch.nn.Softmax(dim=1)(torch.Tensor(y_pred)).numpy().argmax(axis=1)) * (df.sm > 0.5).astype(int),\n",
    "    prob=torch.nn.Softmax(dim=1)(torch.Tensor(y_pred)).numpy()[:, 1],\n",
    "    year=lambda df: df.date.astype(str).str[:4], \n",
    "    month=lambda df: df.date.astype(str).str[4:6], \n",
    "    hour=lambda df: df.time.astype(str).str[:2], \n",
    "    Annotation=lambda df: df.y_pred == df.y_true\n",
    ")"
   ]
  },
  {
   "cell_type": "code",
   "execution_count": 17,
   "id": "02026f0d-2b22-45e0-b56f-7850eaf78b24",
   "metadata": {
    "tags": []
   },
   "outputs": [
    {
     "data": {
      "text/plain": [
       "call_type\n",
       "Downsweeps      991\n",
       "Squeaks         149\n",
       "Tones           181\n",
       "Upsweeps        431\n",
       "Whistles         60\n",
       "NaN           15271\n",
       "Name: y_pred, dtype: int64"
      ]
     },
     "execution_count": 17,
     "metadata": {},
     "output_type": "execute_result"
    }
   ],
   "source": [
    "metadata.groupby('call_type', dropna=False).y_pred.count().sort_index()"
   ]
  },
  {
   "cell_type": "code",
   "execution_count": 18,
   "id": "dcb79c8d-e145-44e2-bf94-304e76f1b644",
   "metadata": {
    "tags": []
   },
   "outputs": [
    {
     "data": {
      "text/plain": [
       "call_type\n",
       "Downsweeps    0.919273\n",
       "Squeaks       0.845638\n",
       "Tones         0.535912\n",
       "Upsweeps      0.923434\n",
       "Whistles      0.966667\n",
       "NaN           0.035296\n",
       "Name: y_pred, dtype: float64"
      ]
     },
     "execution_count": 18,
     "metadata": {},
     "output_type": "execute_result"
    }
   ],
   "source": [
    "metadata.groupby('call_type', dropna=False).y_pred.mean().sort_index()"
   ]
  },
  {
   "cell_type": "code",
   "execution_count": 84,
   "id": "f3602dca-2920-4e4c-9481-f9c45c1bc74e",
   "metadata": {
    "tags": []
   },
   "outputs": [
    {
     "data": {
      "text/plain": [
       "0.8908619843267183"
      ]
     },
     "execution_count": 84,
     "metadata": {},
     "output_type": "execute_result"
    }
   ],
   "source": [
    "f1_score(metadata.y_true, metadata.y_pred, average='macro')"
   ]
  },
  {
   "cell_type": "markdown",
   "id": "1e3046aa-a68a-4175-8270-68a8ed9b8399",
   "metadata": {},
   "source": [
    "### Plot confuion matrix for variety of classification thresholds"
   ]
  },
  {
   "cell_type": "code",
   "execution_count": 25,
   "id": "3bb94bcb-ae62-44b1-9ada-d7da00dcc0f3",
   "metadata": {
    "tags": []
   },
   "outputs": [],
   "source": [
    "from sklearn.metrics import ConfusionMatrixDisplay"
   ]
  },
  {
   "cell_type": "code",
   "execution_count": 113,
   "id": "7e69b771-5cb9-4872-92b0-0794fc2a5ee6",
   "metadata": {
    "tags": []
   },
   "outputs": [
    {
     "data": {
      "text/plain": [
       "<sklearn.metrics._plot.confusion_matrix.ConfusionMatrixDisplay at 0x7f9038347cd0>"
      ]
     },
     "execution_count": 113,
     "metadata": {},
     "output_type": "execute_result"
    },
    {
     "data": {
      "image/png": "[encoded data removed]",
      "text/plain": [
       "<Figure size 640x480 with 2 Axes>"
      ]
     },
     "metadata": {},
     "output_type": "display_data"
    }
   ],
   "source": [
    "ConfusionMatrixDisplay.from_predictions(\n",
    "    metadata.y_true, \n",
    "    metadata.y_pred,\n",
    "    labels=[0, 1]\n",
    ")"
   ]
  },
  {
   "cell_type": "code",
   "execution_count": 27,
   "id": "b2dada06-5164-4871-a714-e6169d645564",
   "metadata": {
    "tags": []
   },
   "outputs": [
    {
     "data": {
      "text/plain": [
       "<sklearn.metrics._plot.confusion_matrix.ConfusionMatrixDisplay at 0x7f4db8f5f250>"
      ]
     },
     "execution_count": 27,
     "metadata": {},
     "output_type": "execute_result"
    },
    {
     "data": {
      "image/png": "[encoded data removed]",
      "text/plain": [
       "<Figure size 640x480 with 2 Axes>"
      ]
     },
     "metadata": {},
     "output_type": "display_data"
    }
   ],
   "source": [
    "ConfusionMatrixDisplay.from_predictions(\n",
    "    metadata.y_true, metadata.sm > 0.5,\n",
    "    labels=[0, 1]\n",
    ")"
   ]
  },
  {
   "cell_type": "markdown",
   "id": "23c28acc-67a3-46ef-8d0b-58cc89919128",
   "metadata": {},
   "source": [
    "# Plot data, labels and predictions for couple of images in the first batch"
   ]
  },
  {
   "cell_type": "code",
   "execution_count": 34,
   "id": "65887492-d82c-4193-848c-c5b4781707e1",
   "metadata": {
    "tags": []
   },
   "outputs": [],
   "source": [
    "data_loader = torch.utils.data.DataLoader(val_dataset, batch_size=64, num_workers=6, shuffle=True, pin_memory=True)"
   ]
  },
  {
   "cell_type": "code",
   "execution_count": 35,
   "id": "9daa5f63-07cc-41ce-bcc9-fdafa4f169c3",
   "metadata": {
    "tags": []
   },
   "outputs": [],
   "source": [
    "batch = next(iter(data_loader))"
   ]
  },
  {
   "cell_type": "code",
   "execution_count": 36,
   "id": "66b64048-e9f5-4d76-8856-2e664b38810b",
   "metadata": {
    "tags": []
   },
   "outputs": [],
   "source": [
    "pred = model(batch[0].to(device)).argmax(axis=1).cpu().numpy()"
   ]
  },
  {
   "cell_type": "code",
   "execution_count": 37,
   "id": "96dfc98b-987f-4f9c-9e91-f9ede0c2db80",
   "metadata": {
    "tags": []
   },
   "outputs": [],
   "source": [
    "import librosa.display\n",
    "def show_spectrogram(audio_processed, title, n_fft=512, hop_length=128):\n",
    "    fig, ax = plt.subplots()\n",
    "    img=librosa.display.specshow(\n",
    "        audio_processed, \n",
    "        hop_length=hop_length, \n",
    "        n_fft=n_fft, \n",
    "        x_axis='time', \n",
    "        y_axis='mel'\n",
    "    )\n",
    "    fig.colorbar(img, ax=ax, format=\"%+2.2f dB\")\n",
    "    plt.title(f\"{str(title)}\")\n",
    "\n",
    "    plt.show()"
   ]
  },
  {
   "cell_type": "code",
   "execution_count": 1,
   "id": "35ba9ef9-8185-402c-bb2d-fd171f2042e5",
   "metadata": {
    "tags": []
   },
   "outputs": [],
   "source": [
    "for i in range(min(len(batch[1]), 32)):\n",
    "    plt.figure(figsize=(15,5))\n",
    "    show_spectrogram(batch[0][i][0].numpy(), title=f'Label {batch[1][i].numpy()} prediction {pred[i]}')\n",
    "    plt.show()"
   ]
  }
 ],
 "metadata": {
  "kernelspec": {
   "display_name": "Python 3 (ipykernel)",
   "language": "python",
   "name": "python3"
  },
  "language_info": {
   "codemirror_mode": {
    "name": "ipython",
    "version": 3
   },
   "file_extension": ".py",
   "mimetype": "text/x-python",
   "name": "python",
   "nbconvert_exporter": "python",
   "pygments_lexer": "ipython3",
   "version": "3.7.16"
  }
 },
 "nbformat": 4,
 "nbformat_minor": 5
}
