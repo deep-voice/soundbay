{
 "cells": [
  {
   "cell_type": "code",
   "execution_count": 1,
   "id": "41e6b878-30f0-446e-82f6-eb03c787a8de",
   "metadata": {
    "tags": []
   },
   "outputs": [],
   "source": [
    "import glob \n",
    "import os\n",
    "import pandas as pd\n",
    "from scipy.signal import find_peaks\n",
    "from datetime import datetime\n",
    "from datetime import timedelta\n",
    "\n",
    "from soundbay.utils.metadata_processing import non_overlap_df"
   ]
  },
  {
   "cell_type": "code",
   "execution_count": 2,
   "id": "719909b1-9969-44d2-a5f2-74d7712b430d",
   "metadata": {},
   "outputs": [],
   "source": [
    "# prediction script: \n",
    "# for file in /opt/dlami/nvme/danielle/100_samples/*.wav ; do python inference.py -cn runs/inference_single_audio data.test_dataset.file_path=\"$file\" experiment.checkpoint.path=../checkpoints/v5q3lg3h/best.pth data.data_sample_rate=96000 +data.sample_rate=24000 data.test_dataset.overlap=0.75 experiment.save_raven=yes; done"
   ]
  },
  {
   "cell_type": "code",
   "execution_count": 3,
   "id": "90179555-d000-4de4-a9ee-f264dd3e5601",
   "metadata": {
    "tags": []
   },
   "outputs": [],
   "source": [
    "files_path = '/home/ubuntu/soundbay/outputs/*.csv'"
   ]
  },
  {
   "cell_type": "code",
   "execution_count": 4,
   "id": "d9df2c05-aec5-4008-af50-3ab49c5935f6",
   "metadata": {},
   "outputs": [],
   "source": [
    "samples = [x.split('.wav')[0].split('/')[-1] for x in glob.glob('/opt/dlami/nvme/danielle/100_samples/*.wav')]\n",
    "models = ['v5q3lg3h']"
   ]
  },
  {
   "cell_type": "code",
   "execution_count": 6,
   "id": "37f3997c-b118-4220-8c8a-e37615293881",
   "metadata": {},
   "outputs": [],
   "source": [
    "def get_files(model, files):\n",
    "    pred_dict = {\n",
    "    model: [[\n",
    "        x for x in glob.glob(files_path) if (x.split('-')[-2]==model) and (f in x)\n",
    "               ][0] for f in files]\n",
    "    for model in models \n",
    "    }\n",
    "    \n",
    "    return pred_dict[model]"
   ]
  },
  {
   "cell_type": "code",
   "execution_count": 7,
   "id": "08a831be-97d0-49ce-86fa-0b23728f66de",
   "metadata": {},
   "outputs": [],
   "source": [
    "model = 'v5q3lg3h'\n",
    "raven_files = sorted(get_files(model, samples))"
   ]
  },
  {
   "cell_type": "code",
   "execution_count": 8,
   "id": "d363f5bb-c324-4907-9239-36febc1a4529",
   "metadata": {},
   "outputs": [],
   "source": [
    "def big_df_from_outputs(files_path, first_class='Upsweeps', last_class='Squeaks', th=0.5, begin_time=3):\n",
    "    df= pd.concat([\n",
    "        pd.read_csv(f)\n",
    "        .assign(**{\n",
    "        'prob': lambda x: x.loc[:, first_class:last_class].max(axis=1).round(3),\n",
    "        'Begin File': lambda x: f.split('-')[-1].split('.csv')[0] + '.wav', \n",
    "        'file': i, \n",
    "    }).pipe(lambda df: df[df['begin_time'] >= begin_time])\n",
    "    for i, f in enumerate(files_path)\n",
    "    ]).sort_values(['Begin File', 'begin_time']).reset_index(drop=True)\n",
    "\n",
    "    return df"
   ]
  },
  {
   "cell_type": "code",
   "execution_count": 9,
   "id": "66f923df-21d3-4788-a124-9e239b9c0e13",
   "metadata": {},
   "outputs": [],
   "source": [
    "df = big_df_from_outputs(raven_files)"
   ]
  },
  {
   "cell_type": "code",
   "execution_count": 10,
   "id": "c61f2d4e-952e-4a53-a44a-e7d1618db745",
   "metadata": {},
   "outputs": [],
   "source": [
    "heights = {\n",
    "    'Upsweeps': 0.5, \n",
    "    'Downsweeps': 0.5, \n",
    "    'Tones': 0.5, \n",
    "    'Squeaks': 0.5\n",
    "}"
   ]
  },
  {
   "cell_type": "code",
   "execution_count": 11,
   "id": "aa9a2e31-d425-4583-a9eb-f6c0ace75cab",
   "metadata": {},
   "outputs": [],
   "source": [
    "import numpy as np\n",
    "\n",
    "indices = set()\n",
    "for c in heights:  \n",
    "    indices = indices | set(find_peaks(df[c], height=heights[c])[0])\n",
    "\n",
    "peaks = df.iloc[list(indices)].sort_values(['file', 'begin_time']).reset_index(drop=True)"
   ]
  },
  {
   "cell_type": "code",
   "execution_count": 12,
   "id": "ccc7a6ed-6e26-4e59-aa9d-1392f4d98302",
   "metadata": {},
   "outputs": [],
   "source": [
    "def merge_upsweep_downsweep(df): \n",
    "    df = df.sort_values('begin_time').reset_index(names='current_index')\n",
    "    \n",
    "    upsweep = df[\n",
    "        (df.Downsweeps.shift(-1) >=  heights['Downsweeps'])\n",
    "        & (df.Upsweeps >=  heights['Upsweeps']) \n",
    "        & (df.begin_time.shift(-1) <= df.end_time)]\n",
    "    \n",
    "    indices = []\n",
    "    \n",
    "    for i, call in upsweep.iterrows(): \n",
    "        idx = i + 1 \n",
    "        end_time = call.end_time\n",
    "        while (\n",
    "            (idx < len(df)) and\n",
    "            (df.iloc[idx]['Downsweeps'] >= heights['Downsweeps']) & \n",
    "            (df.iloc[idx]['begin_time'] <= end_time)\n",
    "        ): \n",
    "            if idx - i <= 1: \n",
    "                df.loc[i, 'end_time'] = df.iloc[idx]['end_time']\n",
    "            indices.append(idx)\n",
    "            idx += 1\n",
    "\n",
    "    return df.drop(indices).set_index('current_index')"
   ]
  },
  {
   "cell_type": "code",
   "execution_count": 13,
   "id": "1e06c238-2203-43ad-ad88-6a9395875c7e",
   "metadata": {},
   "outputs": [
    {
     "name": "stderr",
     "output_type": "stream",
     "text": [
      "/tmp/ipykernel_6836/1559189936.py:1: DeprecationWarning: DataFrameGroupBy.apply operated on the grouping columns. This behavior is deprecated, and in a future version of pandas the grouping columns will be excluded from the operation. Either pass `include_groups=False` to exclude the groupings or explicitly select the grouping columns after groupby to silence this warning.\n",
      "  peaks = peaks.groupby('filename').apply(merge_upsweep_downsweep).reset_index(drop=True)\n"
     ]
    }
   ],
   "source": [
    "peaks = peaks.groupby('filename').apply(merge_upsweep_downsweep).reset_index(drop=True)"
   ]
  },
  {
   "cell_type": "code",
   "execution_count": 14,
   "id": "2151f5ed-ffc7-42c2-9a7a-47127c74d1a4",
   "metadata": {
    "tags": []
   },
   "outputs": [],
   "source": [
    "txt_columns = [\n",
    "    'Selection',\n",
    "    'View', \n",
    "    'Channel', \n",
    "    'Begin Time (s)', \n",
    "    'End Time (s)', \n",
    "    'Begin File', \n",
    "    'End File', \n",
    "    'Low Freq (Hz)',\n",
    "    'High Freq (Hz)',\n",
    "    'Annotation', \n",
    "]"
   ]
  },
  {
   "cell_type": "code",
   "execution_count": 15,
   "id": "7deefad1-eb98-4bf4-b50d-26ef7c3f3362",
   "metadata": {},
   "outputs": [
    {
     "name": "stderr",
     "output_type": "stream",
     "text": [
      "/tmp/ipykernel_6836/1118464948.py:2: DeprecationWarning: DataFrameGroupBy.apply operated on the grouping columns. This behavior is deprecated, and in a future version of pandas the grouping columns will be excluded from the operation. Either pass `include_groups=False` to exclude the groupings or explicitly select the grouping columns after groupby to silence this warning.\n",
      "  peaks\n"
     ]
    }
   ],
   "source": [
    "save_df = (\n",
    "    peaks\n",
    "    .groupby('file')\n",
    "    .apply(non_overlap_df, overlap_pct_th=0.75)\n",
    "    .sort_values(['Begin File', 'begin_time'])\n",
    "    .reset_index(drop=True)\n",
    "    .assign(**{\n",
    "        'end_time': lambda x: x.end_time.round(3), \n",
    "        'begin_time': lambda x: x.begin_time.round(3), \n",
    "        'End File': lambda x: x['Begin File'],\n",
    "        'Begin Time (s)': lambda x: x['begin_time'] + (x['file']*840) , \n",
    "        'End Time (s)': lambda x: x['end_time']+ (x['file']*840),\n",
    "        'Selection': lambda x: x.index + 1, \n",
    "        'View': 1, \n",
    "        'Channel': 0,\n",
    "        'Low Freq (Hz)': 0, \n",
    "        'High Freq (Hz)': 48000, \n",
    "        'Annotation': lambda x: x.prob.astype(str) \n",
    "    })\n",
    ")"
   ]
  },
  {
   "cell_type": "code",
   "execution_count": 65,
   "id": "bfa8f939-590c-4eac-97c7-80a486f728ac",
   "metadata": {},
   "outputs": [],
   "source": [
    "meta_data = (\n",
    "    save_df\n",
    "    .assign(duration=lambda df: df.end_time - df.begin_time)\n",
    "    .groupby('Begin File')\n",
    "    .agg(\n",
    "        number_of_calls=pd.NamedAgg(column=\"begin_time\", aggfunc=lambda g: len(g)),\n",
    "        first_call_begin_sec=pd.NamedAgg(column=\"begin_time\", aggfunc= lambda g: g.iloc[0]), \n",
    "        last_call_end_sec=pd.NamedAgg(column=\"end_time\", aggfunc= lambda g: g.iloc[-1]), \n",
    "        call_duration=pd.NamedAgg(column=\"duration\", aggfunc=\"sum\"), \n",
    "        noise_duration=pd.NamedAgg(column=\"duration\", aggfunc=lambda g: 840 - g.sum()),\n",
    "        date=pd.NamedAgg(column=\"End File\", aggfunc=lambda g: datetime.strptime(g.iloc[0].split('.')[1][:6], \"%y%m%d\").strftime('%Y-%m-%d')),\n",
    "        time=pd.NamedAgg(column=\"End File\", aggfunc=lambda g: datetime.strptime(g.iloc[0].split('.')[1][6:13], \"%H%M%S\").strftime('%H-%M-%S')),\n",
    "        end_time=pd.NamedAgg(column=\"End File\", aggfunc=lambda g: (datetime.strptime(g.iloc[0].split('.')[1][6:13], \"%H%M%S\")+ timedelta(minutes=14)).strftime('%H-%M-%S')),\n",
    "))"
   ]
  },
  {
   "cell_type": "code",
   "execution_count": 16,
   "id": "34266c3a-0561-4329-8d40-42441350d474",
   "metadata": {},
   "outputs": [],
   "source": [
    "os.makedirs(f'{model}_predictions', exist_ok=True)\n",
    "os.makedirs(f'{model}_predictions/predictions_per_file', exist_ok=True)"
   ]
  },
  {
   "cell_type": "code",
   "execution_count": 66,
   "id": "12e7e712-9f7d-4640-a8ac-91db934f0379",
   "metadata": {},
   "outputs": [],
   "source": [
    "meta_data.to_csv(f'{model}_predictions/metadata.csv')"
   ]
  },
  {
   "cell_type": "code",
   "execution_count": 29,
   "id": "2819feab-1686-441b-93c7-247ab70a5a14",
   "metadata": {},
   "outputs": [],
   "source": [
    "(\n",
    "    pd.Series(\n",
    "        list(set(samples) - set(save_df['Begin File'].str.split('.wav').apply(lambda x: x[0]))),\n",
    "        name='file'\n",
    "    ).apply(lambda x: x+'.wav').to_csv(f'{model}_predictions/noise_files.csv')\n",
    ")"
   ]
  },
  {
   "cell_type": "code",
   "execution_count": 31,
   "id": "777c7b46-4c4a-4a7e-aa65-4563e655b57a",
   "metadata": {},
   "outputs": [],
   "source": [
    "pd.Series(save_df['Begin File'].unique(), name='file').to_csv(f'{model}_predictions/call_files.csv')"
   ]
  },
  {
   "cell_type": "code",
   "execution_count": 18,
   "id": "75fef378-1dce-458a-9dbc-bb92cd43e625",
   "metadata": {},
   "outputs": [],
   "source": [
    "save_df.to_csv(f'{model}_predictions/{model}.txt', sep='\\t')"
   ]
  },
  {
   "cell_type": "code",
   "execution_count": 19,
   "id": "ac2bfb4e-b211-4a23-a376-442697ea7206",
   "metadata": {
    "tags": []
   },
   "outputs": [],
   "source": [
    "(\n",
    "    save_df\n",
    "    [txt_columns]\n",
    "    .to_csv(f'{model}_predictions/predictions_all_files.txt', sep='\\t')\n",
    ")"
   ]
  },
  {
   "cell_type": "code",
   "execution_count": 20,
   "id": "417dc6af-3a1f-4c2b-bc8a-93d03c05be7b",
   "metadata": {
    "scrolled": true,
    "tags": []
   },
   "outputs": [
    {
     "name": "stderr",
     "output_type": "stream",
     "text": [
      "/tmp/ipykernel_6836/2564409062.py:4: DeprecationWarning: DataFrameGroupBy.apply operated on the grouping columns. This behavior is deprecated, and in a future version of pandas the grouping columns will be excluded from the operation. Either pass `include_groups=False` to exclude the groupings or explicitly select the grouping columns after groupby to silence this warning.\n",
      "  .apply(lambda g:\n"
     ]
    },
    {
     "data": {
      "text/html": [
       "<div>\n",
       "<style scoped>\n",
       "    .dataframe tbody tr th:only-of-type {\n",
       "        vertical-align: middle;\n",
       "    }\n",
       "\n",
       "    .dataframe tbody tr th {\n",
       "        vertical-align: top;\n",
       "    }\n",
       "\n",
       "    .dataframe thead th {\n",
       "        text-align: right;\n",
       "    }\n",
       "</style>\n",
       "<table border=\"1\" class=\"dataframe\">\n",
       "  <thead>\n",
       "    <tr style=\"text-align: right;\">\n",
       "      <th></th>\n",
       "    </tr>\n",
       "  </thead>\n",
       "  <tbody>\n",
       "  </tbody>\n",
       "</table>\n",
       "</div>"
      ],
      "text/plain": [
       "Empty DataFrame\n",
       "Columns: []\n",
       "Index: []"
      ]
     },
     "execution_count": 20,
     "metadata": {},
     "output_type": "execute_result"
    }
   ],
   "source": [
    "(\n",
    "    save_df\n",
    "    .groupby('Begin File')\n",
    "    .apply(lambda g: \n",
    "           g\n",
    "           .assign(**{'Begin Time (s)': lambda x: x['begin_time'], 'End Time (s)': lambda x: x['end_time']})\n",
    "           [txt_columns]\n",
    "           .to_csv(f'{model}_predictions/predictions_per_file/predictions_{g.name.split(\".wav\")[0]}.txt', sep='\\t')\n",
    "          )\n",
    ")"
   ]
  }
 ],
 "metadata": {
  "kernelspec": {
   "display_name": "Python 3 (ipykernel)",
   "language": "python",
   "name": "python3"
  },
  "language_info": {
   "codemirror_mode": {
    "name": "ipython",
    "version": 3
   },
   "file_extension": ".py",
   "mimetype": "text/x-python",
   "name": "python",
   "nbconvert_exporter": "python",
   "pygments_lexer": "ipython3",
   "version": "3.10.12"
  }
 },
 "nbformat": 4,
 "nbformat_minor": 5
}
